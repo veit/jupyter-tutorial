{
 "cells": [
  {
   "cell_type": "markdown",
   "metadata": {},
   "source": [
    "# What’s New In Python 3.10\n",
    "\n",
    "<div class=\"alert alert-block alert-info\">\n",
    "\n",
    "**See also:**\n",
    "\n",
    "* [What’s New In Python 3.10](https://docs.python.org/3.10/whatsnew/3.10.html)\n",
    "</div>"
   ]
  },
  {
   "cell_type": "code",
   "execution_count": 1,
   "metadata": {},
   "outputs": [],
   "source": [
    "import sys\n",
    "assert sys.version_info[:2] >= (3, 10)"
   ]
  },
  {
   "cell_type": "markdown",
   "metadata": {},
   "source": [
    "## Better error messages\n",
    "\n",
    "### Syntax Errors\n",
    "\n",
    "* When parsing code that contains unclosed parentheses or brackets the interpreter now includes the location of the unclosed bracket of parentheses instead of displaying `SyntaxError: unexpected EOF`.\n",
    "* `SyntaxError` exceptions raised by the interpreter will now highlight the full error range of the expression that constitutes the syntax error itself, instead of just where the problem is detected.\n",
    "* Specialised messages for `SyntaxError` exceptions have been added e.g. for\n",
    "\n",
    "    * missing `:` before blocks\n",
    "    * unparenthesised tuples in comprehensions targets\n",
    "    * missing commas in collection literals and between expressions\n",
    "    * missing `:` and values in dictionary literals\n",
    "    * usage of `=` instead of `==` in comparisons\n",
    "    * usage of `*` in f-strings\n",
    "  \n",
    "### Indentation Errors\n",
    "\n",
    "* Many `IndentationError` exceptions now have more context.\n",
    "\n",
    "### Attribute Errors\n",
    "\n",
    "*  `AttributeError` will offer suggestions of similar attribute names in the object that the exception was raised from.\n",
    "\n",
    "### Name Errors\n",
    "\n",
    "* `NameError` will offer suggestions of similar variable names in the function that the exception was raised from."
   ]
  },
  {
   "cell_type": "markdown",
   "metadata": {},
   "source": [
    "## Structural Pattern Matching\n",
    "\n",
    "Many  functional languages have a `match` expression, for example [Scala](https://www.scala-lang.org/files/archive/spec/2.11/08-pattern-matching.html), [Rust](https://doc.rust-lang.org/reference/expressions/match-expr.html), [F#](https://learn.microsoft.com/en-us/dotnet/fsharp/language-reference/pattern-matching).\n",
    "\n",
    "A `match` statement takes an expression and compares it to successive patterns given as one or more case blocks. This is superficially similar to a switch statement in C, Java or JavaScript, but much more powerful."
   ]
  },
  {
   "cell_type": "markdown",
   "metadata": {},
   "source": [
    "### `match`\n",
    "\n",
    "The simplest form compares a subject value against one or more literals:"
   ]
  },
  {
   "cell_type": "code",
   "execution_count": 2,
   "metadata": {},
   "outputs": [],
   "source": [
    "def http_error(status):\n",
    "      match status:\n",
    "          case 400:\n",
    "              return \"Bad request\"\n",
    "          case 401:\n",
    "              return \"Unauthorized\"\n",
    "          case 403:\n",
    "              return \"Forbidden\"\n",
    "          case 404:\n",
    "              return \"Not found\"\n",
    "          case 418:\n",
    "              return \"I'm a teapot\"\n",
    "          case _:\n",
    "              return \"Something else\""
   ]
  },
  {
   "cell_type": "markdown",
   "metadata": {},
   "source": [
    "> **Note:**\n",
    "> \n",
    "> Only in this case `_` acts as a wildcard that never fails and **not** as a variable name."
   ]
  },
  {
   "cell_type": "markdown",
   "metadata": {},
   "source": [
    "The cases not only check for equality, but rebind variables that match the specified pattern. For example:"
   ]
  },
  {
   "cell_type": "code",
   "execution_count": 3,
   "metadata": {},
   "outputs": [
    {
     "name": "stdout",
     "output_type": "stream",
     "text": [
      "not found\n",
      "Current value of NOT_FOUND=200\n"
     ]
    }
   ],
   "source": [
    "NOT_FOUND = 404\n",
    "retcode = 200\n",
    "\n",
    "match retcode:\n",
    "    case NOT_FOUND:\n",
    "        print('not found')\n",
    "        \n",
    "print(f\"Current value of {NOT_FOUND=}\")"
   ]
  },
  {
   "cell_type": "markdown",
   "metadata": {},
   "source": [
    "> «If this poorly-designed feature is really added to Python, we lose a principle I’ve always taught students: ‹if you see an undocumented constant, you can always name it without changing the code’s meaning.› The Substitution Principle, learned in algebra? It’ll no longer apply.» – [Brandon Rhodes](https://x.com/brandon_rhodes/status/1360226108399099909)\n",
    "\n",
    "> «… the semantics of this can be quite different from switch. The cases don't simply check equality, they rebind variables that match the specified pattern.» – [Jake VanderPlas](https://x.com/jakevdp/status/1359870794877132810)"
   ]
  },
  {
   "cell_type": "markdown",
   "metadata": {},
   "source": [
    "### Symbolic constants\n",
    "\n",
    "Patterns may use named constants. These must be dotted names to prevent them from being interpreted as capture variable:"
   ]
  },
  {
   "cell_type": "code",
   "execution_count": 4,
   "metadata": {},
   "outputs": [
    {
     "name": "stdout",
     "output_type": "stream",
     "text": [
      "I'm feeling the blues :(\n"
     ]
    }
   ],
   "source": [
    "from enum import Enum\n",
    "\n",
    "class Color(Enum):\n",
    "    RED = 0\n",
    "    GREEN = 1\n",
    "    BLUE = 2\n",
    "\n",
    "color = Color(2)\n",
    "\n",
    "match color:\n",
    "    case color.RED:\n",
    "        print(\"I see red!\")\n",
    "    case color.GREEN:\n",
    "        print(\"Grass is green\")\n",
    "    case color.BLUE:\n",
    "        print(\"I'm feeling the blues :(\")"
   ]
  },
  {
   "cell_type": "markdown",
   "metadata": {},
   "source": [
    "> «… \"case CONSTANT\" actually matching everything and assigning to a variable named CONSTANT» – [Armin Ronacher](https://x.com/mitsuhiko/status/1359263136994516999)"
   ]
  },
  {
   "cell_type": "markdown",
   "metadata": {},
   "source": [
    "<div class=\"alert alert-block alert-info\">\n",
    "\n",
    "**See also:**\n",
    "\n",
    "* [Structural pattern matching for Python](https://lwn.net/Articles/827179/)\n",
    "* [PEP 622 – Structural Pattern Matching](https://peps.python.org/pep-0622) superseded by\n",
    "* [PEP 634: Specification](https://peps.python.org/pep-0634)\n",
    "* [PEP 635: Motivation and Rationale](https://peps.python.org/pep-0635)\n",
    "* [PEP 636: Tutorial](https://peps.python.org/pep-0636/)\n",
    "* [github.com/gvanrossum/patma/](https://github.com/gvanrossum/patma/)\n",
    "* [playground-622.ipynb on binder](https://mybinder.org/v2/gh/gvanrossum/patma/master?urlpath=lab/tree/playground-622.ipynb)\n",
    "* [Tobias Kohn: On the Syntax of Pattern Matching in Python](https://tobiaskohn.ch/index.php/2018/09/18/pattern-matching-syntax-in-python/)\n",
    "</div>"
   ]
  }
 ],
 "metadata": {
  "kernelspec": {
   "display_name": "Python 3.10",
   "language": "python",
   "name": "python-3.10"
  },
  "language_info": {
   "codemirror_mode": {
    "name": "ipython",
    "version": 3
   },
   "file_extension": ".py",
   "mimetype": "text/x-python",
   "name": "python",
   "nbconvert_exporter": "python",
   "pygments_lexer": "ipython3",
   "version": "3.10.0b1"
  },
  "latex_envs": {
   "LaTeX_envs_menu_present": true,
   "autoclose": false,
   "autocomplete": true,
   "bibliofile": "biblio.bib",
   "cite_by": "apalike",
   "current_citInitial": 1,
   "eqLabelWithNumbers": true,
   "eqNumInitial": 1,
   "hotkeys": {
    "equation": "Ctrl-E",
    "itemize": "Ctrl-I"
   },
   "labels_anchors": false,
   "latex_user_defs": false,
   "report_style_numbering": false,
   "user_envs_cfg": false
  }
 },
 "nbformat": 4,
 "nbformat_minor": 4
}
