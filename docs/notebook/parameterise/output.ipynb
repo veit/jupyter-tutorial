{
 "cells": [
  {
   "cell_type": "markdown",
   "id": "31de0394",
   "metadata": {
    "papermill": {
     "duration": 0.00946,
     "end_time": "2021-09-13T08:28:28.753607",
     "exception": false,
     "start_time": "2021-09-13T08:28:28.744147",
     "status": "completed"
    },
    "tags": []
   },
   "source": [
    "# Notebook with parameters"
   ]
  },
  {
   "cell_type": "code",
   "execution_count": 1,
   "id": "de513186",
   "metadata": {
    "papermill": {
     "duration": 0.026798,
     "end_time": "2021-09-13T08:28:28.787199",
     "exception": false,
     "start_time": "2021-09-13T08:28:28.760401",
     "status": "completed"
    },
    "tags": [
     "parameters"
    ]
   },
   "outputs": [],
   "source": [
    "salutation = None\n",
    "name = None"
   ]
  },
  {
   "cell_type": "code",
   "execution_count": 2,
   "id": "42dba07c",
   "metadata": {
    "papermill": {
     "duration": 0.014807,
     "end_time": "2021-09-13T08:28:28.809717",
     "exception": false,
     "start_time": "2021-09-13T08:28:28.794910",
     "status": "completed"
    },
    "tags": [
     "injected-parameters"
    ]
   },
   "outputs": [],
   "source": [
    "# Parameters\n",
    "salutation = \"Hello\"\n",
    "name = \"pythonistas\""
   ]
  },
  {
   "cell_type": "code",
   "execution_count": 3,
   "id": "0695aab7",
   "metadata": {
    "papermill": {
     "duration": 0.012479,
     "end_time": "2021-09-13T08:28:28.827883",
     "exception": false,
     "start_time": "2021-09-13T08:28:28.815404",
     "status": "completed"
    },
    "tags": []
   },
   "outputs": [],
   "source": [
    "from datetime import date\n",
    "\n",
    "\n",
    "today = date.today()"
   ]
  },
  {
   "cell_type": "code",
   "execution_count": 4,
   "id": "2989bbe3",
   "metadata": {
    "papermill": {
     "duration": 0.011712,
     "end_time": "2021-09-13T08:28:28.844012",
     "exception": false,
     "start_time": "2021-09-13T08:28:28.832300",
     "status": "completed"
    },
    "tags": []
   },
   "outputs": [
    {
     "name": "stdout",
     "output_type": "stream",
     "text": [
      "Hello pythonistas – welcome to our event on this Monday, 26 June 2023\n"
     ]
    }
   ],
   "source": [
    "print(\n",
    "    salutation,\n",
    "    name,\n",
    "    \"– welcome to our event on this \" + today.strftime(\"%A, %d %B %Y\"),\n",
    ")"
   ]
  }
 ],
 "metadata": {
  "kernelspec": {
   "display_name": "Python 3.11 Kernel",
   "language": "python",
   "name": "python311"
  },
  "language_info": {
   "codemirror_mode": {
    "name": "ipython",
    "version": 3
   },
   "file_extension": ".py",
   "mimetype": "text/x-python",
   "name": "python",
   "nbconvert_exporter": "python",
   "pygments_lexer": "ipython3",
   "version": "3.11.4"
  },
  "latex_envs": {
   "LaTeX_envs_menu_present": true,
   "autoclose": false,
   "autocomplete": true,
   "bibliofile": "biblio.bib",
   "cite_by": "apalike",
   "current_citInitial": 1,
   "eqLabelWithNumbers": true,
   "eqNumInitial": 1,
   "hotkeys": {
    "equation": "Ctrl-E",
    "itemize": "Ctrl-I"
   },
   "labels_anchors": false,
   "latex_user_defs": false,
   "report_style_numbering": false,
   "user_envs_cfg": false
  },
  "papermill": {
   "default_parameters": {},
   "duration": 2.06338,
   "end_time": "2021-09-13T08:28:28.958340",
   "environment_variables": {},
   "exception": null,
   "input_path": "docs/refactoring/parameterise/input.ipynb",
   "output_path": "docs/refactoring/parameterise/output.ipynb",
   "parameters": {
    "name": "pythonistas",
    "salutation": "Hello"
   },
   "start_time": "2021-09-13T08:28:26.894960",
   "version": "2.3.3"
  }
 },
 "nbformat": 4,
 "nbformat_minor": 5
}
