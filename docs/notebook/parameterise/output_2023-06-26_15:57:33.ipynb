{
 "cells": [
  {
   "cell_type": "markdown",
   "id": "77487f8d",
   "metadata": {
    "papermill": {
     "duration": 0.010352,
     "end_time": "2021-09-13T08:42:38.495270",
     "exception": false,
     "start_time": "2021-09-13T08:42:38.484918",
     "status": "completed"
    },
    "tags": []
   },
   "source": [
    "# Notebook with parameters"
   ]
  },
  {
   "cell_type": "code",
   "execution_count": 1,
   "id": "5ff2a94a",
   "metadata": {
    "papermill": {
     "duration": 0.029402,
     "end_time": "2021-09-13T08:42:38.533478",
     "exception": false,
     "start_time": "2021-09-13T08:42:38.504076",
     "status": "completed"
    },
    "tags": [
     "parameters"
    ]
   },
   "outputs": [],
   "source": [
    "salutation = None\n",
    "name = None"
   ]
  },
  {
   "cell_type": "code",
   "execution_count": 2,
   "id": "71e802dd",
   "metadata": {
    "papermill": {
     "duration": 0.013999,
     "end_time": "2021-09-13T08:42:38.555226",
     "exception": false,
     "start_time": "2021-09-13T08:42:38.541227",
     "status": "completed"
    },
    "tags": [
     "injected-parameters"
    ]
   },
   "outputs": [],
   "source": [
    "# Parameters\n",
    "salutation = \"Hello\"\n",
    "name = \"pythonistas\""
   ]
  },
  {
   "cell_type": "code",
   "execution_count": 3,
   "id": "ef853d4a",
   "metadata": {
    "papermill": {
     "duration": 0.011214,
     "end_time": "2021-09-13T08:42:38.571083",
     "exception": false,
     "start_time": "2021-09-13T08:42:38.559869",
     "status": "completed"
    },
    "tags": []
   },
   "outputs": [],
   "source": [
    "from datetime import date\n",
    "\n",
    "\n",
    "today = date.today()"
   ]
  },
  {
   "cell_type": "code",
   "execution_count": 4,
   "id": "c023d477",
   "metadata": {
    "papermill": {
     "duration": 0.012967,
     "end_time": "2021-09-13T08:42:38.588113",
     "exception": false,
     "start_time": "2021-09-13T08:42:38.575146",
     "status": "completed"
    },
    "tags": []
   },
   "outputs": [
    {
     "name": "stdout",
     "output_type": "stream",
     "text": [
      "Hello pythonistas – welcome to our event on this Monday, 26 June 2023\n"
     ]
    }
   ],
   "source": [
    "print(\n",
    "    salutation,\n",
    "    name,\n",
    "    \"– welcome to our event on this \" + today.strftime(\"%A, %d %B %Y\"),\n",
    ")"
   ]
  }
 ],
 "metadata": {
  "kernelspec": {
   "display_name": "Python 3.11 Kernel",
   "language": "python",
   "name": "python311"
  },
  "language_info": {
   "codemirror_mode": {
    "name": "ipython",
    "version": 3
   },
   "file_extension": ".py",
   "mimetype": "text/x-python",
   "name": "python",
   "nbconvert_exporter": "python",
   "pygments_lexer": "ipython3",
   "version": "3.11.4"
  },
  "latex_envs": {
   "LaTeX_envs_menu_present": true,
   "autoclose": false,
   "autocomplete": true,
   "bibliofile": "biblio.bib",
   "cite_by": "apalike",
   "current_citInitial": 1,
   "eqLabelWithNumbers": true,
   "eqNumInitial": 1,
   "hotkeys": {
    "equation": "Ctrl-E",
    "itemize": "Ctrl-I"
   },
   "labels_anchors": false,
   "latex_user_defs": false,
   "report_style_numbering": false,
   "user_envs_cfg": false
  },
  "papermill": {
   "default_parameters": {},
   "duration": 2.635495,
   "end_time": "2021-09-13T08:42:38.705856",
   "environment_variables": {},
   "exception": null,
   "input_path": "docs/refactoring/parameterise/input.ipynb",
   "output_path": "docs/refactoring/parameterise/output_2021-09-13_10:42:33.ipynb",
   "parameters": {
    "name": "Pythonistas",
    "salutation": "Hello"
   },
   "start_time": "2021-09-13T08:42:36.070361",
   "version": "2.3.3"
  }
 },
 "nbformat": 4,
 "nbformat_minor": 5
}
