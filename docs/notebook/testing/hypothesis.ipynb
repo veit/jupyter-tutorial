{
 "cells": [
  {
   "cell_type": "markdown",
   "id": "995ec942",
   "metadata": {},
   "source": [
    "# Hypothesis\n",
    "\n",
    "[Hypothesis](https://hypothesis.readthedocs.io/) is a library that allows you to write tests that are parameterised from a source of examples. Then simple and comprehensible examples are generated, which can be used to fail your tests and to find errors with little effort."
   ]
  },
  {
   "cell_type": "markdown",
   "id": "ff87e099",
   "metadata": {},
   "source": [
    "## Example\n",
    "\n",
    "To test lists with floating point numbers, many examples are tried, but only a simple example is given in the report for each bug (unique exception type and position):"
   ]
  },
  {
   "cell_type": "code",
   "execution_count": 1,
   "id": "d897c0b9",
   "metadata": {},
   "outputs": [],
   "source": [
    "from hypothesis import given\n",
    "from hypothesis.strategies import lists, floats"
   ]
  },
  {
   "cell_type": "code",
   "execution_count": 2,
   "id": "1a1f22e3",
   "metadata": {},
   "outputs": [],
   "source": [
    "# Add ipython magics\n",
    "import ipytest\n",
    "import pytest\n",
    "\n",
    "\n",
    "ipytest.autoconfig()"
   ]
  },
  {
   "cell_type": "code",
   "execution_count": 3,
   "id": "eef3a5c2",
   "metadata": {},
   "outputs": [
    {
     "name": "stdout",
     "output_type": "stream",
     "text": [
      "\u001b[31mF\u001b[0m\u001b[31m                                                                                            [100%]\u001b[0m\n",
      "============================================= FAILURES =============================================\n",
      "\u001b[31m\u001b[1m____________________________________________ test_mean _____________________________________________\u001b[0m\n",
      "\n",
      "    \u001b[37m@given\u001b[39;49;00m(lists(floats(allow_nan=\u001b[94mFalse\u001b[39;49;00m, allow_infinity=\u001b[94mFalse\u001b[39;49;00m), min_size=\u001b[94m1\u001b[39;49;00m))\u001b[90m\u001b[39;49;00m\n",
      ">   \u001b[94mdef\u001b[39;49;00m \u001b[92mtest_mean\u001b[39;49;00m(ls):\u001b[90m\u001b[39;49;00m\n",
      "\n",
      "\u001b[1m\u001b[31m/tmp/ipykernel_8817/1742712940.py\u001b[0m:2: \n",
      "_ _ _ _ _ _ _ _ _ _ _ _ _ _ _ _ _ _ _ _ _ _ _ _ _ _ _ _ _ _ _ _ _ _ _ _ _ _ _ _ _ _ _ _ _ _ _ _ _ _ \n",
      "\n",
      "ls = [9.9792015476736e+291, 1.7976931348623157e+308]\n",
      "\n",
      "    \u001b[37m@given\u001b[39;49;00m(lists(floats(allow_nan=\u001b[94mFalse\u001b[39;49;00m, allow_infinity=\u001b[94mFalse\u001b[39;49;00m), min_size=\u001b[94m1\u001b[39;49;00m))\u001b[90m\u001b[39;49;00m\n",
      "    \u001b[94mdef\u001b[39;49;00m \u001b[92mtest_mean\u001b[39;49;00m(ls):\u001b[90m\u001b[39;49;00m\n",
      "        mean = \u001b[96msum\u001b[39;49;00m(ls) / \u001b[96mlen\u001b[39;49;00m(ls)\u001b[90m\u001b[39;49;00m\n",
      ">       \u001b[94massert\u001b[39;49;00m \u001b[96mmin\u001b[39;49;00m(ls) <= mean <= \u001b[96mmax\u001b[39;49;00m(ls)\u001b[90m\u001b[39;49;00m\n",
      "\u001b[1m\u001b[31mE       assert inf <= 1.7976931348623157e+308\u001b[0m\n",
      "\u001b[1m\u001b[31mE        +  where 1.7976931348623157e+308 = max([9.9792015476736e+291, 1.7976931348623157e+308])\u001b[0m\n",
      "\u001b[1m\u001b[31mE       Falsifying example: test_mean(\u001b[0m\n",
      "\u001b[1m\u001b[31mE           ls=[9.9792015476736e+291, 1.7976931348623157e+308],\u001b[0m\n",
      "\u001b[1m\u001b[31mE       )\u001b[0m\n",
      "\n",
      "\u001b[1m\u001b[31m/tmp/ipykernel_8817/1742712940.py\u001b[0m:4: AssertionError\n",
      "\u001b[33m========================================= warnings summary =========================================\u001b[0m\n",
      "../../../../../../.local/share/virtualenvs/python-311-6zxVKbDJ/lib/python3.11/site-packages/_pytest/config/__init__.py:1204\n",
      "  /Users/veit/.local/share/virtualenvs/python-311-6zxVKbDJ/lib/python3.11/site-packages/_pytest/config/__init__.py:1204: PytestAssertRewriteWarning: Module already imported so cannot be rewritten: hypothesis\n",
      "    self._mark_plugins_for_rewrite(hook)\n",
      "\n",
      "-- Docs: https://docs.pytest.org/en/stable/how-to/capture-warnings.html\n",
      "\u001b[36m\u001b[1m===================================== short test summary info ======================================\u001b[0m\n",
      "\u001b[31mFAILED\u001b[0m t_97777e739d3141398e41c86d782e924f.py::\u001b[1mtest_mean\u001b[0m - assert inf <= 1.7976931348623157e+308\n",
      "\u001b[31m\u001b[31m\u001b[1m1 failed\u001b[0m, \u001b[33m1 warning\u001b[0m\u001b[31m in 0.63s\u001b[0m\u001b[0m\n"
     ]
    }
   ],
   "source": [
    "%%ipytest\n",
    "\n",
    "@given(lists(floats(allow_nan=False, allow_infinity=False), min_size=1))\n",
    "def test_mean(ls):\n",
    "    mean = sum(ls) / len(ls)\n",
    "    assert min(ls) <= mean <= max(ls)"
   ]
  },
  {
   "cell_type": "markdown",
   "id": "967345d5",
   "metadata": {},
   "source": [
    "## Installation\n",
    "\n",
    "``` bash\n",
    "$ pipenv install hypothesis\n",
    "```\n",
    "\n",
    "Alternatively, Hypothesis can also be installed with [extras](https://hypothesis.readthedocs.io/en/latest/extras.html), for example\n",
    "\n",
    "``` bash\n",
    "$ pipenv install hypothesis\"[numpy, pandas]\"\n",
    "```"
   ]
  },
  {
   "cell_type": "markdown",
   "id": "0b64aa84",
   "metadata": {},
   "source": [
    "<div class=\"alert alert-block alert-info\">\n",
    "\n",
    "**Note:**\n",
    "\n",
    "If you haven’t installed pipenv yet, you can find instructions on how to do this in [Install pipenv](https://python4datascience.readthedocs.io/en/latest/productive/envs/pipenv/install.html).\n",
    "</div>\n",
    "<div class=\"alert alert-block alert-info\">\n",
    "\n",
    "**See also:**\n",
    "\n",
    "* [Hypothesis for the Scientific Stack](https://hypothesis.readthedocs.io/en/latest/numpy.html)\n",
    "</div>"
   ]
  }
 ],
 "metadata": {
  "kernelspec": {
   "display_name": "Python 3.11 Kernel",
   "language": "python",
   "name": "python311"
  },
  "language_info": {
   "codemirror_mode": {
    "name": "ipython",
    "version": 3
   },
   "file_extension": ".py",
   "mimetype": "text/x-python",
   "name": "python",
   "nbconvert_exporter": "python",
   "pygments_lexer": "ipython3",
   "version": "3.11.4"
  },
  "latex_envs": {
   "LaTeX_envs_menu_present": true,
   "autoclose": false,
   "autocomplete": true,
   "bibliofile": "biblio.bib",
   "cite_by": "apalike",
   "current_citInitial": 1,
   "eqLabelWithNumbers": true,
   "eqNumInitial": 1,
   "hotkeys": {
    "equation": "Ctrl-E",
    "itemize": "Ctrl-I"
   },
   "labels_anchors": false,
   "latex_user_defs": false,
   "report_style_numbering": false,
   "user_envs_cfg": false
  }
 },
 "nbformat": 4,
 "nbformat_minor": 5
}
