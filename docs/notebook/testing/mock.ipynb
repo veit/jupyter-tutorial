{
 "cells": [
  {
   "cell_type": "markdown",
   "metadata": {},
   "source": [
    "# Mock\n",
    "\n",
    "[Mock objects](https://en.wikipedia.org/wiki/Mock_object) promote tests based on the behaviour of objects. The Python library [mock](https://docs.python.org/3/library/unittest.mock.html) allows you to replace parts of the system under test with mock objects and make statements about their use."
   ]
  },
  {
   "cell_type": "markdown",
   "metadata": {},
   "source": [
    "## Installation\n",
    "\n",
    "[mock](https://docs.python.org/3/library/unittest.mock.html) is included in the Python standard library since Python 3.3. For older versions of Python you can install it with:\n",
    "\n",
    "```bash\n",
    "$ bin/python -m pip install mock\n",
    "```"
   ]
  },
  {
   "cell_type": "markdown",
   "metadata": {},
   "source": [
    "## Example\n",
    "\n",
    "In our example, we want to check whether the working days from Monday to Friday are determined correctly."
   ]
  },
  {
   "cell_type": "markdown",
   "metadata": {},
   "source": [
    "1. First we import `datetime` and `Mock`:"
   ]
  },
  {
   "cell_type": "code",
   "execution_count": 1,
   "metadata": {},
   "outputs": [],
   "source": [
    "from datetime import datetime\n",
    "from unittest.mock import Mock"
   ]
  },
  {
   "cell_type": "markdown",
   "metadata": {},
   "source": [
    "2. Then we define two test days:"
   ]
  },
  {
   "cell_type": "code",
   "execution_count": 2,
   "metadata": {},
   "outputs": [],
   "source": [
    "monday = datetime(year=2021, month=10, day=11)\n",
    "saturday = datetime(year=2021, month=10, day=16)"
   ]
  },
  {
   "cell_type": "markdown",
   "metadata": {},
   "source": [
    "3. Now we define a method to check the working days, where Python’s datetime library treats Mondays as `0` and Sundays as `6`:"
   ]
  },
  {
   "cell_type": "code",
   "execution_count": 3,
   "metadata": {},
   "outputs": [],
   "source": [
    "def is_workingday():\n",
    "    today = datetime.today()\n",
    "    return (0 <= today.weekday() < 5)"
   ]
  },
  {
   "cell_type": "markdown",
   "metadata": {},
   "source": [
    "4. Then we mock `datetime`:"
   ]
  },
  {
   "cell_type": "code",
   "execution_count": 4,
   "metadata": {},
   "outputs": [],
   "source": [
    "datetime = Mock()"
   ]
  },
  {
   "cell_type": "markdown",
   "metadata": {},
   "source": [
    "5. Finally, we test our two mock objects:"
   ]
  },
  {
   "cell_type": "code",
   "execution_count": 5,
   "metadata": {},
   "outputs": [],
   "source": [
    "datetime.today.return_value = monday\n",
    "assert is_workingday()"
   ]
  },
  {
   "cell_type": "code",
   "execution_count": 6,
   "metadata": {},
   "outputs": [],
   "source": [
    "datetime.today.return_value = saturday\n",
    "assert not is_workingday()"
   ]
  },
  {
   "cell_type": "code",
   "execution_count": 7,
   "metadata": {},
   "outputs": [
    {
     "ename": "AssertionError",
     "evalue": "",
     "output_type": "error",
     "traceback": [
      "\u001b[0;31m---------------------------------------------------------------------------\u001b[0m",
      "\u001b[0;31mAssertionError\u001b[0m                            Traceback (most recent call last)",
      "Cell \u001b[0;32mIn[7], line 2\u001b[0m\n\u001b[1;32m      1\u001b[0m datetime\u001b[38;5;241m.\u001b[39mtoday\u001b[38;5;241m.\u001b[39mreturn_value \u001b[38;5;241m=\u001b[39m monday\n\u001b[0;32m----> 2\u001b[0m \u001b[38;5;28;01massert\u001b[39;00m \u001b[38;5;129;01mnot\u001b[39;00m is_workingday()\n",
      "\u001b[0;31mAssertionError\u001b[0m: "
     ]
    }
   ],
   "source": [
    "datetime.today.return_value = monday\n",
    "assert not is_workingday()"
   ]
  },
  {
   "cell_type": "markdown",
   "metadata": {},
   "source": [
    "<div class=\"alert alert-block alert-info\">\n",
    "\n",
    "**See also:**\n",
    "\n",
    "* [Introducing time-machine, a New Python Library for Mocking the Current Time](https://adamj.eu/tech/2020/06/03/introducing-time-machine/)\n",
    "</div>"
   ]
  },
  {
   "cell_type": "markdown",
   "metadata": {},
   "source": [
    "## `mock.ANY`\n",
    "\n",
    "With [mock.ANY](https://docs.python.org/3/library/unittest.mock.html#any) you can check whether a value is present at all without having to check an exact value:"
   ]
  },
  {
   "cell_type": "code",
   "execution_count": 8,
   "metadata": {},
   "outputs": [],
   "source": [
    "from unittest.mock import ANY\n",
    "\n",
    "\n",
    "mock = Mock(return_value=None)\n",
    "mock(\"foo\", bar=object())\n",
    "mock.assert_called_once_with(\"foo\", bar=ANY)"
   ]
  },
  {
   "cell_type": "markdown",
   "metadata": {},
   "source": [
    "<div class=\"alert alert-block alert-info\">\n",
    "\n",
    "**See also:**\n",
    "\n",
    "In [test_report.py](https://github.com/openstack/zun/blob/917868f5fe02ff419fd35c5d9332f45a064ed385/zun/tests/unit/scheduler/client/test_report.py) of the OpenStack container service Zun you will find more practical examples for `ANY`.\n",
    "</div>"
   ]
  },
  {
   "cell_type": "markdown",
   "metadata": {},
   "source": [
    "## `patch` decorator\n",
    "\n",
    "To create mock classes or objects, the `patch` decorator can be used. In the following examples, the output of `os.listdir` is mocked. For this, the file `example.txt` does not have to be present in the directory:"
   ]
  },
  {
   "cell_type": "code",
   "execution_count": 9,
   "metadata": {},
   "outputs": [],
   "source": [
    "import os\n",
    "from unittest import mock"
   ]
  },
  {
   "cell_type": "code",
   "execution_count": 10,
   "metadata": {},
   "outputs": [],
   "source": [
    "@mock.patch(\"os.listdir\", mock.MagicMock(return_value=\"example.txt\"))\n",
    "def test_listdir():\n",
    "    assert \"example.txt\" == os.listdir()\n",
    "\n",
    "\n",
    "test_listdir()"
   ]
  },
  {
   "cell_type": "markdown",
   "metadata": {},
   "source": [
    "Alternatively, the return value can also be defined separately:"
   ]
  },
  {
   "cell_type": "code",
   "execution_count": 11,
   "metadata": {},
   "outputs": [],
   "source": [
    "@mock.patch(\"os.listdir\")\n",
    "def test_listdir(mock_listdir):\n",
    "    mock_listdir.return_value = \"example.txt\"\n",
    "    assert \"example.txt\" == os.listdir()\n",
    "\n",
    "\n",
    "test_listdir()"
   ]
  },
  {
   "cell_type": "markdown",
   "metadata": {},
   "source": [
    "<div class=\"alert alert-block alert-info\">\n",
    "\n",
    "**See also:**\n",
    "\n",
    "You can use [responses](https://github.com/getsentry/responses) to create mock objects for the [Requests](https://www.python4data.science/de/latest/data-processing/requests/index.html) library.\n",
    "</div>"
   ]
  }
 ],
 "metadata": {
  "kernelspec": {
   "display_name": "Python 3.11 Kernel",
   "language": "python",
   "name": "python311"
  },
  "language_info": {
   "codemirror_mode": {
    "name": "ipython",
    "version": 3
   },
   "file_extension": ".py",
   "mimetype": "text/x-python",
   "name": "python",
   "nbconvert_exporter": "python",
   "pygments_lexer": "ipython3",
   "version": "3.11.4"
  },
  "latex_envs": {
   "LaTeX_envs_menu_present": true,
   "autoclose": false,
   "autocomplete": true,
   "bibliofile": "biblio.bib",
   "cite_by": "apalike",
   "current_citInitial": 1,
   "eqLabelWithNumbers": true,
   "eqNumInitial": 1,
   "hotkeys": {
    "equation": "Ctrl-E",
    "itemize": "Ctrl-I"
   },
   "labels_anchors": false,
   "latex_user_defs": false,
   "report_style_numbering": false,
   "user_envs_cfg": false
  },
  "widgets": {
   "application/vnd.jupyter.widget-state+json": {
    "state": {},
    "version_major": 2,
    "version_minor": 0
   }
  }
 },
 "nbformat": 4,
 "nbformat_minor": 4
}
