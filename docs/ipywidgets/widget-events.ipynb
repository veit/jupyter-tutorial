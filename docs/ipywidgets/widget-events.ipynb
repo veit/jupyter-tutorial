{
 "cells": [
  {
   "cell_type": "markdown",
   "metadata": {},
   "source": [
    "# Widget events"
   ]
  },
  {
   "cell_type": "markdown",
   "metadata": {},
   "source": [
    "## Special events"
   ]
  },
  {
   "cell_type": "code",
   "execution_count": 1,
   "metadata": {},
   "outputs": [],
   "source": [
    "from __future__ import print_function"
   ]
  },
  {
   "cell_type": "markdown",
   "metadata": {},
   "source": [
    "`Button` cannot be used to represent a data type, but only for `on_click`. With the `print` function the docstring of `on_click` can be output."
   ]
  },
  {
   "cell_type": "code",
   "execution_count": 2,
   "metadata": {},
   "outputs": [
    {
     "name": "stdout",
     "output_type": "stream",
     "text": [
      "Register a callback to execute when the button is clicked.\n",
      "\n",
      "        The callback will be called with one argument, the clicked button\n",
      "        widget instance.\n",
      "\n",
      "        Parameters\n",
      "        ----------\n",
      "        remove: bool (optional)\n",
      "            Set to true to remove the callback from the list of callbacks.\n",
      "        \n"
     ]
    }
   ],
   "source": [
    "import ipywidgets as widgets\n",
    "\n",
    "\n",
    "print(widgets.Button.on_click.__doc__)"
   ]
  },
  {
   "cell_type": "markdown",
   "metadata": {},
   "source": [
    "### Examples\n",
    "\n",
    "Button clicks are stateless, i.e. they transfer messages from the front end to the back end. If you use the `on_click` method, a button will be displayed that will print the message as soon as it is clicked."
   ]
  },
  {
   "cell_type": "code",
   "execution_count": 3,
   "metadata": {},
   "outputs": [
    {
     "data": {
      "application/vnd.jupyter.widget-view+json": {
       "model_id": "6281c863bc9247c78866b3ed411bff5f",
       "version_major": 2,
       "version_minor": 0
      },
      "text/plain": [
       "Button(description='Click Me!', style=ButtonStyle())"
      ]
     },
     "metadata": {},
     "output_type": "display_data"
    }
   ],
   "source": [
    "from IPython.display import display\n",
    "\n",
    "\n",
    "button = widgets.Button(description=\"Click Me!\")\n",
    "display(button)\n",
    "\n",
    "\n",
    "def on_button_clicked(b):\n",
    "    print(\"Button clicked.\")\n",
    "\n",
    "\n",
    "button.on_click(on_button_clicked)"
   ]
  },
  {
   "cell_type": "markdown",
   "metadata": {},
   "source": [
    "## Traitlet events\n",
    "\n",
    "Widget properties are IPython traitlets. To make changes, the `observe` method of the widget can be used to register a callback. You can see the docstring for observe below.\n",
    "\n",
    "You can find more information at [Traitlet events](https://ipywidgets.readthedocs.io/en/stable/examples/Widget%20Events.html#Traitlet-events)."
   ]
  },
  {
   "cell_type": "code",
   "execution_count": 4,
   "metadata": {},
   "outputs": [
    {
     "name": "stdout",
     "output_type": "stream",
     "text": [
      "Setup a handler to be called when a trait changes.\n",
      "\n",
      "        This is used to setup dynamic notifications of trait changes.\n",
      "\n",
      "        Parameters\n",
      "        ----------\n",
      "        handler : callable\n",
      "            A callable that is called when a trait changes. Its\n",
      "            signature should be ``handler(change)``, where ``change`` is a\n",
      "            dictionary. The change dictionary at least holds a 'type' key.\n",
      "            * ``type``: the type of notification.\n",
      "            Other keys may be passed depending on the value of 'type'. In the\n",
      "            case where type is 'change', we also have the following keys:\n",
      "            * ``owner`` : the HasTraits instance\n",
      "            * ``old`` : the old value of the modified trait attribute\n",
      "            * ``new`` : the new value of the modified trait attribute\n",
      "            * ``name`` : the name of the modified trait attribute.\n",
      "        names : list, str, All\n",
      "            If names is All, the handler will apply to all traits.  If a list\n",
      "            of str, handler will apply to all names in the list.  If a\n",
      "            str, the handler will apply just to that name.\n",
      "        type : str, All (default: 'change')\n",
      "            The type of notification to filter by. If equal to All, then all\n",
      "            notifications are passed to the observe handler.\n",
      "        \n"
     ]
    }
   ],
   "source": [
    "print(widgets.Widget.observe.__doc__)"
   ]
  },
  {
   "cell_type": "markdown",
   "metadata": {},
   "source": [
    "## Linking widgets\n",
    "\n",
    "To link widget attributes, you can simply link them together."
   ]
  },
  {
   "cell_type": "markdown",
   "metadata": {},
   "source": [
    "### Linking traitlet attributes in the kernel"
   ]
  },
  {
   "cell_type": "code",
   "execution_count": 5,
   "metadata": {},
   "outputs": [
    {
     "data": {
      "application/vnd.jupyter.widget-view+json": {
       "model_id": "28f94a5a63a94952bc667a398a5b1c28",
       "version_major": 2,
       "version_minor": 0
      },
      "text/plain": [
       "Label(value='The values of slider1 and slider2 are synchronized')"
      ]
     },
     "metadata": {},
     "output_type": "display_data"
    },
    {
     "data": {
      "application/vnd.jupyter.widget-view+json": {
       "model_id": "c0aa33f8bdd0475d9706608847e0fd91",
       "version_major": 2,
       "version_minor": 0
      },
      "text/plain": [
       "IntSlider(value=0, description='Slider 1')"
      ]
     },
     "metadata": {},
     "output_type": "display_data"
    },
    {
     "data": {
      "application/vnd.jupyter.widget-view+json": {
       "model_id": "9da81adb0e914633a6773419ba9af003",
       "version_major": 2,
       "version_minor": 0
      },
      "text/plain": [
       "IntSlider(value=0, description='Slider 2')"
      ]
     },
     "metadata": {},
     "output_type": "display_data"
    }
   ],
   "source": [
    "caption = widgets.Label(\n",
    "    value=\"The values of slider1 and slider2 are synchronized\"\n",
    ")\n",
    "sliders1, slider2 = widgets.IntSlider(\n",
    "    description=\"Slider 1\"\n",
    "), widgets.IntSlider(description=\"Slider 2\")\n",
    "l = widgets.link((sliders1, \"value\"), (slider2, \"value\"))\n",
    "display(caption, sliders1, slider2)"
   ]
  },
  {
   "cell_type": "markdown",
   "metadata": {},
   "source": [
    "### Linking widgets attributes on the client side\n",
    "\n",
    "There might be a delay while synchronizing Traitlet attributes due to communication with the server. However, you can also link the widget attributes to the link widgets directly in the browser. The Javascript links with `jslink` are retained even if widgets are embedded in HTML websites without a kernel."
   ]
  },
  {
   "cell_type": "code",
   "execution_count": 6,
   "metadata": {},
   "outputs": [
    {
     "data": {
      "application/vnd.jupyter.widget-view+json": {
       "model_id": "82a2b3d3528743c890afc82a63b0294e",
       "version_major": 2,
       "version_minor": 0
      },
      "text/plain": [
       "Label(value='The values of range1 and range2 are synchronized')"
      ]
     },
     "metadata": {},
     "output_type": "display_data"
    },
    {
     "data": {
      "application/vnd.jupyter.widget-view+json": {
       "model_id": "7eab4c59e62b4c729cb43d7dccc29093",
       "version_major": 2,
       "version_minor": 0
      },
      "text/plain": [
       "IntSlider(value=0, description='Range 1')"
      ]
     },
     "metadata": {},
     "output_type": "display_data"
    },
    {
     "data": {
      "application/vnd.jupyter.widget-view+json": {
       "model_id": "87b46815a0d4499b990ae725318b32f8",
       "version_major": 2,
       "version_minor": 0
      },
      "text/plain": [
       "IntSlider(value=0, description='Range 2')"
      ]
     },
     "metadata": {},
     "output_type": "display_data"
    }
   ],
   "source": [
    "caption = widgets.Label(\n",
    "    value=\"The values of range1 and range2 are synchronized\"\n",
    ")\n",
    "range1, range2 = widgets.IntSlider(description=\"Range 1\"), widgets.IntSlider(\n",
    "    description=\"Range 2\"\n",
    ")\n",
    "l = widgets.jslink((range1, \"value\"), (range2, \"value\"))\n",
    "display(caption, range1, range2)"
   ]
  },
  {
   "cell_type": "code",
   "execution_count": 7,
   "metadata": {},
   "outputs": [
    {
     "data": {
      "application/vnd.jupyter.widget-view+json": {
       "model_id": "e5cbcd35faf143f79a5a22e40b07d8b9",
       "version_major": 2,
       "version_minor": 0
      },
      "text/plain": [
       "Label(value='Changes in source_range values are reflected in target_range1')"
      ]
     },
     "metadata": {},
     "output_type": "display_data"
    },
    {
     "data": {
      "application/vnd.jupyter.widget-view+json": {
       "model_id": "ec5bf3fbfa26494ea7df148ad58d9c69",
       "version_major": 2,
       "version_minor": 0
      },
      "text/plain": [
       "IntSlider(value=0, description='Source range')"
      ]
     },
     "metadata": {},
     "output_type": "display_data"
    },
    {
     "data": {
      "application/vnd.jupyter.widget-view+json": {
       "model_id": "df4ab40b6f1142a3a6aaa0ee825a3f4b",
       "version_major": 2,
       "version_minor": 0
      },
      "text/plain": [
       "IntSlider(value=0, description='Target range 1')"
      ]
     },
     "metadata": {},
     "output_type": "display_data"
    }
   ],
   "source": [
    "caption = widgets.Label(\n",
    "    value=\"Changes in source_range values are reflected in target_range1\"\n",
    ")\n",
    "source_range, target_range1 = widgets.IntSlider(\n",
    "    description=\"Source range\"\n",
    "), widgets.IntSlider(description=\"Target range 1\")\n",
    "dl = widgets.jsdlink((source_range, \"value\"), (target_range1, \"value\"))\n",
    "display(caption, source_range, target_range1)"
   ]
  },
  {
   "cell_type": "markdown",
   "metadata": {},
   "source": [
    "## Continuous updates\n",
    "\n",
    "Some widgets offer a `continuous_update` attribute with the ability to continuously update values. In the following example we can see that the delayed controls only transmit their value after the user has dragged the slider or sent the text field. The continuous slides transfer their values continuously as soon as they are changed."
   ]
  },
  {
   "cell_type": "code",
   "execution_count": 8,
   "metadata": {},
   "outputs": [
    {
     "data": {
      "application/vnd.jupyter.widget-view+json": {
       "model_id": "ed17098f3cc145aa9244833a688f5210",
       "version_major": 2,
       "version_minor": 0
      },
      "text/plain": [
       "VBox(children=(IntSlider(value=0, continuous_update=False, description='Delayed'), IntText(value=0, descriptio…"
      ]
     },
     "metadata": {},
     "output_type": "display_data"
    }
   ],
   "source": [
    "a = widgets.IntSlider(description=\"Delayed\", continuous_update=False)\n",
    "b = widgets.IntText(description=\"Delayed\", continuous_update=False)\n",
    "c = widgets.IntSlider(description=\"Continuous\", continuous_update=True)\n",
    "d = widgets.IntText(description=\"Continuous\", continuous_update=True)\n",
    "\n",
    "widgets.link((a, \"value\"), (b, \"value\"))\n",
    "widgets.link((a, \"value\"), (c, \"value\"))\n",
    "widgets.link((a, \"value\"), (d, \"value\"))\n",
    "widgets.VBox([a, b, c, d])"
   ]
  }
 ],
 "metadata": {
  "kernelspec": {
   "display_name": "Python 3.11 Kernel",
   "language": "python",
   "name": "python311"
  },
  "language_info": {
   "codemirror_mode": {
    "name": "ipython",
    "version": 3
   },
   "file_extension": ".py",
   "mimetype": "text/x-python",
   "name": "python",
   "nbconvert_exporter": "python",
   "pygments_lexer": "ipython3",
   "version": "3.11.4"
  },
  "latex_envs": {
   "LaTeX_envs_menu_present": true,
   "autoclose": false,
   "autocomplete": true,
   "bibliofile": "biblio.bib",
   "cite_by": "apalike",
   "current_citInitial": 1,
   "eqLabelWithNumbers": true,
   "eqNumInitial": 1,
   "hotkeys": {
    "equation": "Ctrl-E",
    "itemize": "Ctrl-I"
   },
   "labels_anchors": false,
   "latex_user_defs": false,
   "report_style_numbering": false,
   "user_envs_cfg": false
  },
  "widgets": {
   "application/vnd.jupyter.widget-state+json": {
    "state": {
     "00e07fa7d6eb4902bece580b4cd15fa7": {
      "model_module": "@jupyter-widgets/controls",
      "model_module_version": "1.5.0",
      "model_name": "IntTextModel",
      "state": {
       "continuous_update": true,
       "description": "Continuous",
       "layout": "IPY_MODEL_e8cd97438ad4417f962f8542769d6a16",
       "step": 1,
       "style": "IPY_MODEL_2c247977d0374653828dcccd0758c76d"
      }
     },
     "01ea154b61a2488fa1ea6816469dd24c": {
      "model_module": "@jupyter-widgets/controls",
      "model_module_version": "1.5.0",
      "model_name": "SliderStyleModel",
      "state": {
       "description_width": ""
      }
     },
     "04684b81b6c0401bac884d7c0fdbfbbc": {
      "model_module": "@jupyter-widgets/controls",
      "model_module_version": "1.5.0",
      "model_name": "SliderStyleModel",
      "state": {
       "description_width": ""
      }
     },
     "04a2e6959bae4eac9512df2e8af0aa4e": {
      "model_module": "@jupyter-widgets/controls",
      "model_module_version": "1.5.0",
      "model_name": "IntTextModel",
      "state": {
       "description": "Delayed",
       "layout": "IPY_MODEL_f79e10fed2074a4490e095735e32e31a",
       "step": 1,
       "style": "IPY_MODEL_def9a98d305e4e72978c30e20d4c924e"
      }
     },
     "04d641dbf9ea4a8fb8b55732d5bec38e": {
      "model_module": "@jupyter-widgets/controls",
      "model_module_version": "1.5.0",
      "model_name": "SliderStyleModel",
      "state": {
       "description_width": ""
      }
     },
     "053f34da7eea49f6843588be176f7478": {
      "model_module": "@jupyter-widgets/controls",
      "model_module_version": "1.5.0",
      "model_name": "SliderStyleModel",
      "state": {
       "description_width": ""
      }
     },
     "0574819d86fd4078a2e891fed1017b08": {
      "model_module": "@jupyter-widgets/controls",
      "model_module_version": "1.5.0",
      "model_name": "IntSliderModel",
      "state": {
       "description": "Slider 1",
       "layout": "IPY_MODEL_e613dae2ebb640c3a807f433949fab6d",
       "style": "IPY_MODEL_2c16e50353d5423d90d8a7cfbe454028"
      }
     },
     "07055277ca85475d80ccb9c159518e4f": {
      "model_module": "@jupyter-widgets/controls",
      "model_module_version": "1.5.0",
      "model_name": "SliderStyleModel",
      "state": {
       "description_width": ""
      }
     },
     "07f233bfd5784f38a4d1b4727f08ee42": {
      "model_module": "@jupyter-widgets/base",
      "model_module_version": "1.2.0",
      "model_name": "LayoutModel",
      "state": {}
     },
     "0b53b3fe9f854592812cd151408497bd": {
      "model_module": "@jupyter-widgets/base",
      "model_module_version": "1.2.0",
      "model_name": "LayoutModel",
      "state": {}
     },
     "0bc1fcbfd943456a9b17bf6ca99c333f": {
      "model_module": "@jupyter-widgets/base",
      "model_module_version": "1.2.0",
      "model_name": "LayoutModel",
      "state": {}
     },
     "0ef03194605249baaaf582b56f37517b": {
      "model_module": "@jupyter-widgets/base",
      "model_module_version": "1.2.0",
      "model_name": "LayoutModel",
      "state": {}
     },
     "0f8ffc0bac8541a2886451439a2f2210": {
      "model_module": "@jupyter-widgets/controls",
      "model_module_version": "1.5.0",
      "model_name": "LabelModel",
      "state": {
       "layout": "IPY_MODEL_be47c08d33d747a0aab0170ffb60b78b",
       "style": "IPY_MODEL_12e74bf9579143b8ad09f38893301084",
       "value": "The values of range1 and range2 are synchronized"
      }
     },
     "10fc1440083f4183968a4a01834cfa6d": {
      "model_module": "@jupyter-widgets/base",
      "model_module_version": "1.2.0",
      "model_name": "LayoutModel",
      "state": {}
     },
     "12c9a0c97166421092e0d485f937a4bb": {
      "model_module": "@jupyter-widgets/controls",
      "model_module_version": "1.5.0",
      "model_name": "SliderStyleModel",
      "state": {
       "description_width": ""
      }
     },
     "12e74bf9579143b8ad09f38893301084": {
      "model_module": "@jupyter-widgets/controls",
      "model_module_version": "1.5.0",
      "model_name": "DescriptionStyleModel",
      "state": {
       "description_width": ""
      }
     },
     "134d3a19a3014a0a936b64ae06427712": {
      "model_module": "@jupyter-widgets/base",
      "model_module_version": "1.2.0",
      "model_name": "LayoutModel",
      "state": {}
     },
     "142dd7da48f9434f9b5d5134ee7b81bf": {
      "model_module": "@jupyter-widgets/base",
      "model_module_version": "1.2.0",
      "model_name": "LayoutModel",
      "state": {}
     },
     "17c6a0fd4eb84a9db38d7803c43b2ba9": {
      "model_module": "@jupyter-widgets/controls",
      "model_module_version": "1.5.0",
      "model_name": "IntSliderModel",
      "state": {
       "description": "Range 2",
       "layout": "IPY_MODEL_679806de8209479bb023f869affb62ad",
       "style": "IPY_MODEL_9553953f087a42b188eb2c6c02eeff2c"
      }
     },
     "1da5dd002f094b40a2606f4e7fd48e0f": {
      "model_module": "@jupyter-widgets/controls",
      "model_module_version": "1.5.0",
      "model_name": "DirectionalLinkModel",
      "state": {
       "source": [
        "IPY_MODEL_1efe30db04124f9cbffb64f4409f080c",
        "value"
       ],
       "target": [
        "IPY_MODEL_9c38827bdc3940508c74e67481859170",
        "value"
       ]
      }
     },
     "1eca399bbdf94241b54acefb9433d1f2": {
      "model_module": "@jupyter-widgets/controls",
      "model_module_version": "1.5.0",
      "model_name": "IntTextModel",
      "state": {
       "continuous_update": true,
       "description": "Continuous",
       "layout": "IPY_MODEL_d5a0d2fe43ac47ad9a94c412620cb818",
       "step": 1,
       "style": "IPY_MODEL_b40ec954c86649ef9552869e67aff6a3"
      }
     },
     "1efe30db04124f9cbffb64f4409f080c": {
      "model_module": "@jupyter-widgets/controls",
      "model_module_version": "1.5.0",
      "model_name": "IntSliderModel",
      "state": {
       "description": "Source range",
       "layout": "IPY_MODEL_f2f44b282a394bf9951b33b4d503a9c5",
       "style": "IPY_MODEL_ddd2746955104e978e336cf54ed3e06c"
      }
     },
     "21eacf9aaaab452cbe250bf4c68267b5": {
      "model_module": "@jupyter-widgets/base",
      "model_module_version": "1.2.0",
      "model_name": "LayoutModel",
      "state": {}
     },
     "2333e963791e4b7681af00ef94b9072e": {
      "model_module": "@jupyter-widgets/controls",
      "model_module_version": "1.5.0",
      "model_name": "SliderStyleModel",
      "state": {
       "description_width": ""
      }
     },
     "242c3400160046609c7a9e749767d979": {
      "model_module": "@jupyter-widgets/controls",
      "model_module_version": "1.5.0",
      "model_name": "SliderStyleModel",
      "state": {
       "description_width": ""
      }
     },
     "27462e1065a943a4afa55dfaa9a91529": {
      "model_module": "@jupyter-widgets/base",
      "model_module_version": "1.2.0",
      "model_name": "LayoutModel",
      "state": {}
     },
     "28e5d009edfb46e09aaa33dd5f0678b9": {
      "model_module": "@jupyter-widgets/controls",
      "model_module_version": "1.5.0",
      "model_name": "DirectionalLinkModel",
      "state": {
       "source": [
        "IPY_MODEL_a6582bf8fe8c481eb8c0334134fcacd3",
        "value"
       ],
       "target": [
        "IPY_MODEL_8159083741614d3086bf92c69f15524b",
        "value"
       ]
      }
     },
     "28f94a5a63a94952bc667a398a5b1c28": {
      "model_module": "@jupyter-widgets/controls",
      "model_module_version": "1.5.0",
      "model_name": "LabelModel",
      "state": {
       "layout": "IPY_MODEL_ea4b9f8806114dfabee88f784c2f37ff",
       "style": "IPY_MODEL_d79ada1a5bf141ba9075061992c224ed",
       "value": "The values of slider1 and slider2 are synchronized"
      }
     },
     "29c6d862a57548a68bd3b165a81f810c": {
      "model_module": "@jupyter-widgets/controls",
      "model_module_version": "1.5.0",
      "model_name": "SliderStyleModel",
      "state": {
       "description_width": ""
      }
     },
     "29cfc155ec81454193fede28ab360c05": {
      "model_module": "@jupyter-widgets/controls",
      "model_module_version": "1.5.0",
      "model_name": "IntSliderModel",
      "state": {
       "description": "Range 1",
       "layout": "IPY_MODEL_7635f9cbd11a426da9a5cadd63c42d47",
       "style": "IPY_MODEL_5b50b28b66b540c680ad26b4c24b57dc"
      }
     },
     "2c16e50353d5423d90d8a7cfbe454028": {
      "model_module": "@jupyter-widgets/controls",
      "model_module_version": "1.5.0",
      "model_name": "SliderStyleModel",
      "state": {
       "description_width": ""
      }
     },
     "2c247977d0374653828dcccd0758c76d": {
      "model_module": "@jupyter-widgets/controls",
      "model_module_version": "1.5.0",
      "model_name": "DescriptionStyleModel",
      "state": {
       "description_width": ""
      }
     },
     "2c70ed0ad94a40228fd72981df68da28": {
      "model_module": "@jupyter-widgets/controls",
      "model_module_version": "1.5.0",
      "model_name": "IntSliderModel",
      "state": {
       "description": "Range 2",
       "layout": "IPY_MODEL_0ef03194605249baaaf582b56f37517b",
       "style": "IPY_MODEL_59082fd183be43cba7137efed57c2be6"
      }
     },
     "2e25e2924b594196beb4770d52a056c8": {
      "model_module": "@jupyter-widgets/controls",
      "model_module_version": "1.5.0",
      "model_name": "DescriptionStyleModel",
      "state": {
       "description_width": ""
      }
     },
     "2ead371ad12a449d9fb429f730834872": {
      "model_module": "@jupyter-widgets/controls",
      "model_module_version": "1.5.0",
      "model_name": "IntSliderModel",
      "state": {
       "description": "Source range",
       "layout": "IPY_MODEL_5398fc292f0b47fe9068b4201f3912fb",
       "style": "IPY_MODEL_01ea154b61a2488fa1ea6816469dd24c"
      }
     },
     "33639e073282441cbf12187e61dba940": {
      "model_module": "@jupyter-widgets/base",
      "model_module_version": "1.2.0",
      "model_name": "LayoutModel",
      "state": {}
     },
     "338b604ea20b4ef5a4b9f860b55e3b9b": {
      "model_module": "@jupyter-widgets/controls",
      "model_module_version": "1.5.0",
      "model_name": "DescriptionStyleModel",
      "state": {
       "description_width": ""
      }
     },
     "33ffa296493744b0b7e71ab58fdc396b": {
      "model_module": "@jupyter-widgets/controls",
      "model_module_version": "1.5.0",
      "model_name": "IntSliderModel",
      "state": {
       "description": "Range 2",
       "layout": "IPY_MODEL_bfbbecb2cd5741718adb2dc446beec53",
       "style": "IPY_MODEL_38d4287ef1484ac39a000269bac36266"
      }
     },
     "380724156bcc4723b4fde990ae7f080d": {
      "model_module": "@jupyter-widgets/controls",
      "model_module_version": "1.5.0",
      "model_name": "LabelModel",
      "state": {
       "layout": "IPY_MODEL_73bfc9f68cb54f30af78d34f399b6220",
       "style": "IPY_MODEL_e6b770bb917e42cfb1e2ca53cbf380d9",
       "value": "The values of range1 and range2 are synchronized"
      }
     },
     "389b946932d346d4adca844a091bdbcf": {
      "model_module": "@jupyter-widgets/controls",
      "model_module_version": "1.5.0",
      "model_name": "IntSliderModel",
      "state": {
       "continuous_update": false,
       "description": "Delayed",
       "layout": "IPY_MODEL_10fc1440083f4183968a4a01834cfa6d",
       "style": "IPY_MODEL_242c3400160046609c7a9e749767d979"
      }
     },
     "38d4287ef1484ac39a000269bac36266": {
      "model_module": "@jupyter-widgets/controls",
      "model_module_version": "1.5.0",
      "model_name": "SliderStyleModel",
      "state": {
       "description_width": ""
      }
     },
     "3a53660b43c54374aed38d71e5153f80": {
      "model_module": "@jupyter-widgets/controls",
      "model_module_version": "1.5.0",
      "model_name": "IntTextModel",
      "state": {
       "continuous_update": true,
       "description": "Continuous",
       "layout": "IPY_MODEL_804c9af785504112ae61de058a9289d0",
       "step": 1,
       "style": "IPY_MODEL_703ca985f83e43b3b4691b2604762a38"
      }
     },
     "3e8d84d324ab44b8ae656af891a306c6": {
      "model_module": "@jupyter-widgets/controls",
      "model_module_version": "1.5.0",
      "model_name": "DescriptionStyleModel",
      "state": {
       "description_width": ""
      }
     },
     "3f5d895beb484e0887c4647ded387cda": {
      "model_module": "@jupyter-widgets/base",
      "model_module_version": "1.2.0",
      "model_name": "LayoutModel",
      "state": {}
     },
     "40eda11b1d554d6ca211fc8f5bcf6f76": {
      "model_module": "@jupyter-widgets/base",
      "model_module_version": "1.2.0",
      "model_name": "LayoutModel",
      "state": {}
     },
     "43aef578995e4582994dec7b47a487ef": {
      "model_module": "@jupyter-widgets/controls",
      "model_module_version": "1.5.0",
      "model_name": "DescriptionStyleModel",
      "state": {
       "description_width": ""
      }
     },
     "460f5b1967ad438dba9e72b90806c758": {
      "model_module": "@jupyter-widgets/controls",
      "model_module_version": "1.5.0",
      "model_name": "SliderStyleModel",
      "state": {
       "description_width": ""
      }
     },
     "467560a1934543e69e6111ac421be09e": {
      "model_module": "@jupyter-widgets/controls",
      "model_module_version": "1.5.0",
      "model_name": "IntSliderModel",
      "state": {
       "description": "Continuous",
       "layout": "IPY_MODEL_8fefaad604154bac818378e31b089069",
       "style": "IPY_MODEL_9a40e22d171b42e9a440e3cb2f89eb70"
      }
     },
     "472dbebc6692460b8e7ca8cb75d92fa5": {
      "model_module": "@jupyter-widgets/controls",
      "model_module_version": "1.5.0",
      "model_name": "IntSliderModel",
      "state": {
       "description": "Continuous",
       "layout": "IPY_MODEL_fd0f9d96a0e747e886c4780aafedf79f",
       "style": "IPY_MODEL_a72974d4608a43cd8fc31f30ec87c1f9"
      }
     },
     "479d3f7b3fa9427880c73183a6e64616": {
      "model_module": "@jupyter-widgets/controls",
      "model_module_version": "1.5.0",
      "model_name": "IntSliderModel",
      "state": {
       "description": "Slider 2",
       "layout": "IPY_MODEL_6da97a3321d246058b85a5647a243748",
       "style": "IPY_MODEL_4e82778932cc4cebb3b28b146a184cba"
      }
     },
     "47d44cee5f9945ad842f10e7ee71f8d6": {
      "model_module": "@jupyter-widgets/base",
      "model_module_version": "1.2.0",
      "model_name": "LayoutModel",
      "state": {}
     },
     "4cad4bbb733e4fc2a1153a87b91ef3a4": {
      "model_module": "@jupyter-widgets/controls",
      "model_module_version": "1.5.0",
      "model_name": "DescriptionStyleModel",
      "state": {
       "description_width": ""
      }
     },
     "4e825266cd684a6d8413f07bfe06c4e8": {
      "model_module": "@jupyter-widgets/base",
      "model_module_version": "1.2.0",
      "model_name": "LayoutModel",
      "state": {}
     },
     "4e82778932cc4cebb3b28b146a184cba": {
      "model_module": "@jupyter-widgets/controls",
      "model_module_version": "1.5.0",
      "model_name": "SliderStyleModel",
      "state": {
       "description_width": ""
      }
     },
     "4eae22dd8fae4f79afd04ca0d2dcf800": {
      "model_module": "@jupyter-widgets/controls",
      "model_module_version": "1.5.0",
      "model_name": "VBoxModel",
      "state": {
       "children": [
        "IPY_MODEL_389b946932d346d4adca844a091bdbcf",
        "IPY_MODEL_c557aee1f34945c78f59bef7bfab5460",
        "IPY_MODEL_e183d65dad7942f69550b0d8f6778cdf",
        "IPY_MODEL_00e07fa7d6eb4902bece580b4cd15fa7"
       ],
       "layout": "IPY_MODEL_9a594c9a3d87443c90f1c29eb3e34587"
      }
     },
     "4f9c641ab17a465eba05991806e8d754": {
      "model_module": "@jupyter-widgets/controls",
      "model_module_version": "1.5.0",
      "model_name": "SliderStyleModel",
      "state": {
       "description_width": ""
      }
     },
     "50ec8d2b8e654f64af766c61098a3e2e": {
      "model_module": "@jupyter-widgets/controls",
      "model_module_version": "1.5.0",
      "model_name": "IntSliderModel",
      "state": {
       "description": "Slider 1",
       "layout": "IPY_MODEL_54afc904f3d641a3a50b040fb7b423a5",
       "style": "IPY_MODEL_ba4880f84186444ea1ae2aa1bd226a49"
      }
     },
     "514b5b68fb7e4a3aabc044be06e0d785": {
      "model_module": "@jupyter-widgets/base",
      "model_module_version": "1.2.0",
      "model_name": "LayoutModel",
      "state": {}
     },
     "51fbbd88aac54da2a267af5045a4c3fb": {
      "model_module": "@jupyter-widgets/base",
      "model_module_version": "1.2.0",
      "model_name": "LayoutModel",
      "state": {}
     },
     "53067ae9c255493d81ee27071229f753": {
      "model_module": "@jupyter-widgets/base",
      "model_module_version": "1.2.0",
      "model_name": "LayoutModel",
      "state": {}
     },
     "5398fc292f0b47fe9068b4201f3912fb": {
      "model_module": "@jupyter-widgets/base",
      "model_module_version": "1.2.0",
      "model_name": "LayoutModel",
      "state": {}
     },
     "539afae434d1477aac3fd09124714466": {
      "model_module": "@jupyter-widgets/controls",
      "model_module_version": "1.5.0",
      "model_name": "IntSliderModel",
      "state": {
       "description": "Slider 1",
       "layout": "IPY_MODEL_0b53b3fe9f854592812cd151408497bd",
       "style": "IPY_MODEL_748356af7bbf4efe872eacb15a34f88b"
      }
     },
     "540c870fa3824914a487a1b8e7e21a2b": {
      "model_module": "@jupyter-widgets/base",
      "model_module_version": "1.2.0",
      "model_name": "LayoutModel",
      "state": {}
     },
     "54afc904f3d641a3a50b040fb7b423a5": {
      "model_module": "@jupyter-widgets/base",
      "model_module_version": "1.2.0",
      "model_name": "LayoutModel",
      "state": {}
     },
     "59082fd183be43cba7137efed57c2be6": {
      "model_module": "@jupyter-widgets/controls",
      "model_module_version": "1.5.0",
      "model_name": "SliderStyleModel",
      "state": {
       "description_width": ""
      }
     },
     "5a8c82acec584692b5713caae179da27": {
      "model_module": "@jupyter-widgets/controls",
      "model_module_version": "1.5.0",
      "model_name": "SliderStyleModel",
      "state": {
       "description_width": ""
      }
     },
     "5b50b28b66b540c680ad26b4c24b57dc": {
      "model_module": "@jupyter-widgets/controls",
      "model_module_version": "1.5.0",
      "model_name": "SliderStyleModel",
      "state": {
       "description_width": ""
      }
     },
     "5c6833f64c6645f09545d77694ac9686": {
      "model_module": "@jupyter-widgets/controls",
      "model_module_version": "1.5.0",
      "model_name": "VBoxModel",
      "state": {
       "children": [
        "IPY_MODEL_8401b1fe6189487a8e8d58e740bcaa27",
        "IPY_MODEL_04a2e6959bae4eac9512df2e8af0aa4e",
        "IPY_MODEL_472dbebc6692460b8e7ca8cb75d92fa5",
        "IPY_MODEL_d138c7e7a97e462c81a14ebf9c1aa3c1"
       ],
       "layout": "IPY_MODEL_aaabdfe06e2f4c159ff6bdfccb909671"
      }
     },
     "5e2085c090c24e399b39ac5454d6a25a": {
      "model_module": "@jupyter-widgets/controls",
      "model_module_version": "1.5.0",
      "model_name": "IntSliderModel",
      "state": {
       "description": "Continuous",
       "layout": "IPY_MODEL_e2981dd42cef481c91cbec709780003b",
       "style": "IPY_MODEL_053f34da7eea49f6843588be176f7478"
      }
     },
     "618428aa1b8b45338bdea24d360ea643": {
      "model_module": "@jupyter-widgets/base",
      "model_module_version": "1.2.0",
      "model_name": "LayoutModel",
      "state": {}
     },
     "6281c863bc9247c78866b3ed411bff5f": {
      "model_module": "@jupyter-widgets/controls",
      "model_module_version": "1.5.0",
      "model_name": "ButtonModel",
      "state": {
       "description": "Click Me!",
       "layout": "IPY_MODEL_0bc1fcbfd943456a9b17bf6ca99c333f",
       "style": "IPY_MODEL_cc257833b4bb4bbb83253a28adc8cf56"
      }
     },
     "62b451285d7540dd8399622db9e0cb4e": {
      "model_module": "@jupyter-widgets/base",
      "model_module_version": "1.2.0",
      "model_name": "LayoutModel",
      "state": {}
     },
     "635446edf148425cb387d95399af22c7": {
      "model_module": "@jupyter-widgets/controls",
      "model_module_version": "1.5.0",
      "model_name": "ButtonStyleModel",
      "state": {}
     },
     "679806de8209479bb023f869affb62ad": {
      "model_module": "@jupyter-widgets/base",
      "model_module_version": "1.2.0",
      "model_name": "LayoutModel",
      "state": {}
     },
     "685106bc918c416ab9ade92224244461": {
      "model_module": "@jupyter-widgets/controls",
      "model_module_version": "1.5.0",
      "model_name": "SliderStyleModel",
      "state": {
       "description_width": ""
      }
     },
     "6ad47ff20cf5445dac311bf16673bb4a": {
      "model_module": "@jupyter-widgets/base",
      "model_module_version": "1.2.0",
      "model_name": "LayoutModel",
      "state": {}
     },
     "6c9fd574b6f940a4bb7bb62522eb7ca7": {
      "model_module": "@jupyter-widgets/base",
      "model_module_version": "1.2.0",
      "model_name": "LayoutModel",
      "state": {}
     },
     "6da97a3321d246058b85a5647a243748": {
      "model_module": "@jupyter-widgets/base",
      "model_module_version": "1.2.0",
      "model_name": "LayoutModel",
      "state": {}
     },
     "6df6a09506034a44a258d13756f65781": {
      "model_module": "@jupyter-widgets/base",
      "model_module_version": "1.2.0",
      "model_name": "LayoutModel",
      "state": {}
     },
     "6eaad09824934e77afe34210313a73e2": {
      "model_module": "@jupyter-widgets/base",
      "model_module_version": "1.2.0",
      "model_name": "LayoutModel",
      "state": {}
     },
     "703ca985f83e43b3b4691b2604762a38": {
      "model_module": "@jupyter-widgets/controls",
      "model_module_version": "1.5.0",
      "model_name": "DescriptionStyleModel",
      "state": {
       "description_width": ""
      }
     },
     "70bb229f935149119c72e0c5ba8bfc5d": {
      "model_module": "@jupyter-widgets/controls",
      "model_module_version": "1.5.0",
      "model_name": "SliderStyleModel",
      "state": {
       "description_width": ""
      }
     },
     "73bfc9f68cb54f30af78d34f399b6220": {
      "model_module": "@jupyter-widgets/base",
      "model_module_version": "1.2.0",
      "model_name": "LayoutModel",
      "state": {}
     },
     "748356af7bbf4efe872eacb15a34f88b": {
      "model_module": "@jupyter-widgets/controls",
      "model_module_version": "1.5.0",
      "model_name": "SliderStyleModel",
      "state": {
       "description_width": ""
      }
     },
     "74c2235f7659439da6403da044d58c1f": {
      "model_module": "@jupyter-widgets/base",
      "model_module_version": "1.2.0",
      "model_name": "LayoutModel",
      "state": {}
     },
     "7635f9cbd11a426da9a5cadd63c42d47": {
      "model_module": "@jupyter-widgets/base",
      "model_module_version": "1.2.0",
      "model_name": "LayoutModel",
      "state": {}
     },
     "7c168b5652d7401fa289be7550757dbe": {
      "model_module": "@jupyter-widgets/controls",
      "model_module_version": "1.5.0",
      "model_name": "DescriptionStyleModel",
      "state": {
       "description_width": ""
      }
     },
     "7ca0001e3d7f41be8ca298633bce6024": {
      "model_module": "@jupyter-widgets/controls",
      "model_module_version": "1.5.0",
      "model_name": "ButtonStyleModel",
      "state": {}
     },
     "7dc15abcd49640d0a19abfc7a8f97bbf": {
      "model_module": "@jupyter-widgets/controls",
      "model_module_version": "1.5.0",
      "model_name": "LabelModel",
      "state": {
       "layout": "IPY_MODEL_27462e1065a943a4afa55dfaa9a91529",
       "style": "IPY_MODEL_c86e62b7144a48fd95ae31092614fe69",
       "value": "The values of range1 and range2 are synchronized"
      }
     },
     "7eab4c59e62b4c729cb43d7dccc29093": {
      "model_module": "@jupyter-widgets/controls",
      "model_module_version": "1.5.0",
      "model_name": "IntSliderModel",
      "state": {
       "description": "Range 1",
       "layout": "IPY_MODEL_8ccb6f4b86e34618b07d2498f4e5d3e1",
       "style": "IPY_MODEL_5a8c82acec584692b5713caae179da27"
      }
     },
     "7f17d31b4f40403fbafdeb6cc8c5185d": {
      "model_module": "@jupyter-widgets/controls",
      "model_module_version": "1.5.0",
      "model_name": "LabelModel",
      "state": {
       "layout": "IPY_MODEL_a0215e60b35342499efd0df12e9cc160",
       "style": "IPY_MODEL_bd8d5af62c394dc3ae3137611e4cfaae",
       "value": "The values of slider1 and slider2 are synchronized"
      }
     },
     "804c9af785504112ae61de058a9289d0": {
      "model_module": "@jupyter-widgets/base",
      "model_module_version": "1.2.0",
      "model_name": "LayoutModel",
      "state": {}
     },
     "8073be4337b84528ba5d4f321dbbf18f": {
      "model_module": "@jupyter-widgets/controls",
      "model_module_version": "1.5.0",
      "model_name": "LabelModel",
      "state": {
       "layout": "IPY_MODEL_6eaad09824934e77afe34210313a73e2",
       "style": "IPY_MODEL_3e8d84d324ab44b8ae656af891a306c6",
       "value": "The values of slider1 and slider2 are synchronized"
      }
     },
     "8159083741614d3086bf92c69f15524b": {
      "model_module": "@jupyter-widgets/controls",
      "model_module_version": "1.5.0",
      "model_name": "IntSliderModel",
      "state": {
       "description": "Target range 1",
       "layout": "IPY_MODEL_3f5d895beb484e0887c4647ded387cda",
       "style": "IPY_MODEL_b3d9c93151f24d2487df41a44b264425"
      }
     },
     "81af24c579b144b592f33f86d9436238": {
      "model_module": "@jupyter-widgets/base",
      "model_module_version": "1.2.0",
      "model_name": "LayoutModel",
      "state": {}
     },
     "82176123b7ac410898b0bee7453578b1": {
      "model_module": "@jupyter-widgets/controls",
      "model_module_version": "1.5.0",
      "model_name": "SliderStyleModel",
      "state": {
       "description_width": ""
      }
     },
     "826481db8a4c45d8ac3583ff291605ff": {
      "model_module": "@jupyter-widgets/base",
      "model_module_version": "1.2.0",
      "model_name": "LayoutModel",
      "state": {}
     },
     "82a2b3d3528743c890afc82a63b0294e": {
      "model_module": "@jupyter-widgets/controls",
      "model_module_version": "1.5.0",
      "model_name": "LabelModel",
      "state": {
       "layout": "IPY_MODEL_fe3ed13fe7024ffa92f64695b292b6fb",
       "style": "IPY_MODEL_847b7dc606124dcaa41d819ef38dd51f",
       "value": "The values of range1 and range2 are synchronized"
      }
     },
     "8401b1fe6189487a8e8d58e740bcaa27": {
      "model_module": "@jupyter-widgets/controls",
      "model_module_version": "1.5.0",
      "model_name": "IntSliderModel",
      "state": {
       "continuous_update": false,
       "description": "Delayed",
       "layout": "IPY_MODEL_da4cb057a83340e896daa27f076a91d1",
       "style": "IPY_MODEL_d53b742ab832440cba4457d564c2c38d"
      }
     },
     "847b7dc606124dcaa41d819ef38dd51f": {
      "model_module": "@jupyter-widgets/controls",
      "model_module_version": "1.5.0",
      "model_name": "DescriptionStyleModel",
      "state": {
       "description_width": ""
      }
     },
     "87b46815a0d4499b990ae725318b32f8": {
      "model_module": "@jupyter-widgets/controls",
      "model_module_version": "1.5.0",
      "model_name": "IntSliderModel",
      "state": {
       "description": "Range 2",
       "layout": "IPY_MODEL_9b5f9595bb8e457c864632462c8a1247",
       "style": "IPY_MODEL_04d641dbf9ea4a8fb8b55732d5bec38e"
      }
     },
     "8ccb6f4b86e34618b07d2498f4e5d3e1": {
      "model_module": "@jupyter-widgets/base",
      "model_module_version": "1.2.0",
      "model_name": "LayoutModel",
      "state": {}
     },
     "8fefaad604154bac818378e31b089069": {
      "model_module": "@jupyter-widgets/base",
      "model_module_version": "1.2.0",
      "model_name": "LayoutModel",
      "state": {}
     },
     "9553953f087a42b188eb2c6c02eeff2c": {
      "model_module": "@jupyter-widgets/controls",
      "model_module_version": "1.5.0",
      "model_name": "SliderStyleModel",
      "state": {
       "description_width": ""
      }
     },
     "9553a0267d114e118d97179b7bc56700": {
      "model_module": "@jupyter-widgets/controls",
      "model_module_version": "1.5.0",
      "model_name": "ButtonModel",
      "state": {
       "description": "Click Me!",
       "layout": "IPY_MODEL_af9d1c7761454a46a2bd460258ab4cac",
       "style": "IPY_MODEL_d1e17cc3366e48489893b6afd47dbfdd"
      }
     },
     "9704fb43fcf84fcfb2b4f70fe4ff0b6d": {
      "model_module": "@jupyter-widgets/controls",
      "model_module_version": "1.5.0",
      "model_name": "LinkModel",
      "state": {
       "source": [
        "IPY_MODEL_7eab4c59e62b4c729cb43d7dccc29093",
        "value"
       ],
       "target": [
        "IPY_MODEL_87b46815a0d4499b990ae725318b32f8",
        "value"
       ]
      }
     },
     "9a40e22d171b42e9a440e3cb2f89eb70": {
      "model_module": "@jupyter-widgets/controls",
      "model_module_version": "1.5.0",
      "model_name": "SliderStyleModel",
      "state": {
       "description_width": ""
      }
     },
     "9a594c9a3d87443c90f1c29eb3e34587": {
      "model_module": "@jupyter-widgets/base",
      "model_module_version": "1.2.0",
      "model_name": "LayoutModel",
      "state": {}
     },
     "9a79a5df502c46b4bde3970db851dde6": {
      "model_module": "@jupyter-widgets/controls",
      "model_module_version": "1.5.0",
      "model_name": "LinkModel",
      "state": {
       "source": [
        "IPY_MODEL_29cfc155ec81454193fede28ab360c05",
        "value"
       ],
       "target": [
        "IPY_MODEL_17c6a0fd4eb84a9db38d7803c43b2ba9",
        "value"
       ]
      }
     },
     "9b225f59ae2645f6aef4cc9b83eb9759": {
      "model_module": "@jupyter-widgets/controls",
      "model_module_version": "1.5.0",
      "model_name": "SliderStyleModel",
      "state": {
       "description_width": ""
      }
     },
     "9b5f9595bb8e457c864632462c8a1247": {
      "model_module": "@jupyter-widgets/base",
      "model_module_version": "1.2.0",
      "model_name": "LayoutModel",
      "state": {}
     },
     "9c38827bdc3940508c74e67481859170": {
      "model_module": "@jupyter-widgets/controls",
      "model_module_version": "1.5.0",
      "model_name": "IntSliderModel",
      "state": {
       "description": "Target range 1",
       "layout": "IPY_MODEL_514b5b68fb7e4a3aabc044be06e0d785",
       "style": "IPY_MODEL_04684b81b6c0401bac884d7c0fdbfbbc"
      }
     },
     "9da81adb0e914633a6773419ba9af003": {
      "model_module": "@jupyter-widgets/controls",
      "model_module_version": "1.5.0",
      "model_name": "IntSliderModel",
      "state": {
       "description": "Slider 2",
       "layout": "IPY_MODEL_c013bc1a9cc44de88cfb8a8a2aab4b59",
       "style": "IPY_MODEL_29c6d862a57548a68bd3b165a81f810c"
      }
     },
     "9e2aa044a5394a938113a9cc25df1e0a": {
      "model_module": "@jupyter-widgets/controls",
      "model_module_version": "1.5.0",
      "model_name": "LinkModel",
      "state": {
       "source": [
        "IPY_MODEL_b907479c54c24fe9a845bc10621e990f",
        "value"
       ],
       "target": [
        "IPY_MODEL_2c70ed0ad94a40228fd72981df68da28",
        "value"
       ]
      }
     },
     "a0215e60b35342499efd0df12e9cc160": {
      "model_module": "@jupyter-widgets/base",
      "model_module_version": "1.2.0",
      "model_name": "LayoutModel",
      "state": {}
     },
     "a41b806d9eff4716b4b99e07064766c0": {
      "model_module": "@jupyter-widgets/controls",
      "model_module_version": "1.5.0",
      "model_name": "SliderStyleModel",
      "state": {
       "description_width": ""
      }
     },
     "a6582bf8fe8c481eb8c0334134fcacd3": {
      "model_module": "@jupyter-widgets/controls",
      "model_module_version": "1.5.0",
      "model_name": "IntSliderModel",
      "state": {
       "description": "Source range",
       "layout": "IPY_MODEL_142dd7da48f9434f9b5d5134ee7b81bf",
       "style": "IPY_MODEL_2333e963791e4b7681af00ef94b9072e"
      }
     },
     "a72974d4608a43cd8fc31f30ec87c1f9": {
      "model_module": "@jupyter-widgets/controls",
      "model_module_version": "1.5.0",
      "model_name": "SliderStyleModel",
      "state": {
       "description_width": ""
      }
     },
     "a8d92e0936ca4d66ac8fd126bf19ff6c": {
      "model_module": "@jupyter-widgets/controls",
      "model_module_version": "1.5.0",
      "model_name": "LabelModel",
      "state": {
       "layout": "IPY_MODEL_c6bd937e842d49dc99c4a42b35c93220",
       "style": "IPY_MODEL_d78d9017b080452ab60068a32c61fe9d",
       "value": "Changes in source_range values are reflected in target_range1"
      }
     },
     "aaabdfe06e2f4c159ff6bdfccb909671": {
      "model_module": "@jupyter-widgets/base",
      "model_module_version": "1.2.0",
      "model_name": "LayoutModel",
      "state": {}
     },
     "ad6455eb3ae74879a38e4fb0a16cb8cc": {
      "model_module": "@jupyter-widgets/controls",
      "model_module_version": "1.5.0",
      "model_name": "ButtonModel",
      "state": {
       "description": "Click Me!",
       "layout": "IPY_MODEL_b0ef0054deaa4aac836d87dda567b548",
       "style": "IPY_MODEL_da4d1775e120438e9c6880e1ac6c53cc"
      }
     },
     "af9d1c7761454a46a2bd460258ab4cac": {
      "model_module": "@jupyter-widgets/base",
      "model_module_version": "1.2.0",
      "model_name": "LayoutModel",
      "state": {}
     },
     "b0ef0054deaa4aac836d87dda567b548": {
      "model_module": "@jupyter-widgets/base",
      "model_module_version": "1.2.0",
      "model_name": "LayoutModel",
      "state": {}
     },
     "b3d9c93151f24d2487df41a44b264425": {
      "model_module": "@jupyter-widgets/controls",
      "model_module_version": "1.5.0",
      "model_name": "SliderStyleModel",
      "state": {
       "description_width": ""
      }
     },
     "b40ec954c86649ef9552869e67aff6a3": {
      "model_module": "@jupyter-widgets/controls",
      "model_module_version": "1.5.0",
      "model_name": "DescriptionStyleModel",
      "state": {
       "description_width": ""
      }
     },
     "b4979811fa634fd18a583a83e5867665": {
      "model_module": "@jupyter-widgets/controls",
      "model_module_version": "1.5.0",
      "model_name": "DescriptionStyleModel",
      "state": {
       "description_width": ""
      }
     },
     "b6194525644c4a78b0813a7f8b5adfb3": {
      "model_module": "@jupyter-widgets/controls",
      "model_module_version": "1.5.0",
      "model_name": "IntSliderModel",
      "state": {
       "description": "Target range 1",
       "layout": "IPY_MODEL_47d44cee5f9945ad842f10e7ee71f8d6",
       "style": "IPY_MODEL_07055277ca85475d80ccb9c159518e4f"
      }
     },
     "b837bd981e3c4625b0f2c4fb0100dd8e": {
      "model_module": "@jupyter-widgets/controls",
      "model_module_version": "1.5.0",
      "model_name": "SliderStyleModel",
      "state": {
       "description_width": ""
      }
     },
     "b907479c54c24fe9a845bc10621e990f": {
      "model_module": "@jupyter-widgets/controls",
      "model_module_version": "1.5.0",
      "model_name": "IntSliderModel",
      "state": {
       "description": "Range 1",
       "layout": "IPY_MODEL_21eacf9aaaab452cbe250bf4c68267b5",
       "style": "IPY_MODEL_e3d5b1e5701e4accafbd24d2e12cd4c8"
      }
     },
     "b95bd891e9e243be95cf705b460dd580": {
      "model_module": "@jupyter-widgets/controls",
      "model_module_version": "1.5.0",
      "model_name": "IntSliderModel",
      "state": {
       "continuous_update": false,
       "description": "Delayed",
       "layout": "IPY_MODEL_62b451285d7540dd8399622db9e0cb4e",
       "style": "IPY_MODEL_b837bd981e3c4625b0f2c4fb0100dd8e"
      }
     },
     "ba4880f84186444ea1ae2aa1bd226a49": {
      "model_module": "@jupyter-widgets/controls",
      "model_module_version": "1.5.0",
      "model_name": "SliderStyleModel",
      "state": {
       "description_width": ""
      }
     },
     "bad4b1bbc3fb4317ac0ec4390a29dca4": {
      "model_module": "@jupyter-widgets/base",
      "model_module_version": "1.2.0",
      "model_name": "LayoutModel",
      "state": {}
     },
     "bd8d5af62c394dc3ae3137611e4cfaae": {
      "model_module": "@jupyter-widgets/controls",
      "model_module_version": "1.5.0",
      "model_name": "DescriptionStyleModel",
      "state": {
       "description_width": ""
      }
     },
     "be47c08d33d747a0aab0170ffb60b78b": {
      "model_module": "@jupyter-widgets/base",
      "model_module_version": "1.2.0",
      "model_name": "LayoutModel",
      "state": {}
     },
     "bfbbecb2cd5741718adb2dc446beec53": {
      "model_module": "@jupyter-widgets/base",
      "model_module_version": "1.2.0",
      "model_name": "LayoutModel",
      "state": {}
     },
     "c013bc1a9cc44de88cfb8a8a2aab4b59": {
      "model_module": "@jupyter-widgets/base",
      "model_module_version": "1.2.0",
      "model_name": "LayoutModel",
      "state": {}
     },
     "c0aa33f8bdd0475d9706608847e0fd91": {
      "model_module": "@jupyter-widgets/controls",
      "model_module_version": "1.5.0",
      "model_name": "IntSliderModel",
      "state": {
       "description": "Slider 1",
       "layout": "IPY_MODEL_07f233bfd5784f38a4d1b4727f08ee42",
       "style": "IPY_MODEL_82176123b7ac410898b0bee7453578b1"
      }
     },
     "c26329169f444b99bdfcba0df40996a9": {
      "model_module": "@jupyter-widgets/controls",
      "model_module_version": "1.5.0",
      "model_name": "IntTextModel",
      "state": {
       "description": "Delayed",
       "layout": "IPY_MODEL_53067ae9c255493d81ee27071229f753",
       "step": 1,
       "style": "IPY_MODEL_b4979811fa634fd18a583a83e5867665"
      }
     },
     "c3a22b6052214cb688c3bc86f20de4ba": {
      "model_module": "@jupyter-widgets/controls",
      "model_module_version": "1.5.0",
      "model_name": "LinkModel",
      "state": {
       "source": [
        "IPY_MODEL_e59e8b5c29064aef8539a02960c0f9bd",
        "value"
       ],
       "target": [
        "IPY_MODEL_33ffa296493744b0b7e71ab58fdc396b",
        "value"
       ]
      }
     },
     "c404c2adfe5e473bb0a9d9769ca2268e": {
      "model_module": "@jupyter-widgets/controls",
      "model_module_version": "1.5.0",
      "model_name": "LabelModel",
      "state": {
       "layout": "IPY_MODEL_33639e073282441cbf12187e61dba940",
       "style": "IPY_MODEL_4cad4bbb733e4fc2a1153a87b91ef3a4",
       "value": "Changes in source_range values are reflected in target_range1"
      }
     },
     "c557aee1f34945c78f59bef7bfab5460": {
      "model_module": "@jupyter-widgets/controls",
      "model_module_version": "1.5.0",
      "model_name": "IntTextModel",
      "state": {
       "description": "Delayed",
       "layout": "IPY_MODEL_6ad47ff20cf5445dac311bf16673bb4a",
       "step": 1,
       "style": "IPY_MODEL_cae716155146496ca0962cb3c5aae9f7"
      }
     },
     "c6bd937e842d49dc99c4a42b35c93220": {
      "model_module": "@jupyter-widgets/base",
      "model_module_version": "1.2.0",
      "model_name": "LayoutModel",
      "state": {}
     },
     "c86e62b7144a48fd95ae31092614fe69": {
      "model_module": "@jupyter-widgets/controls",
      "model_module_version": "1.5.0",
      "model_name": "DescriptionStyleModel",
      "state": {
       "description_width": ""
      }
     },
     "c9e21b61a9744c7298633416d4d02cc8": {
      "model_module": "@jupyter-widgets/controls",
      "model_module_version": "1.5.0",
      "model_name": "DirectionalLinkModel",
      "state": {
       "source": [
        "IPY_MODEL_2ead371ad12a449d9fb429f730834872",
        "value"
       ],
       "target": [
        "IPY_MODEL_b6194525644c4a78b0813a7f8b5adfb3",
        "value"
       ]
      }
     },
     "ca199e88c8d343f3ba1b05aea664e40e": {
      "model_module": "@jupyter-widgets/base",
      "model_module_version": "1.2.0",
      "model_name": "LayoutModel",
      "state": {}
     },
     "cae716155146496ca0962cb3c5aae9f7": {
      "model_module": "@jupyter-widgets/controls",
      "model_module_version": "1.5.0",
      "model_name": "DescriptionStyleModel",
      "state": {
       "description_width": ""
      }
     },
     "cc257833b4bb4bbb83253a28adc8cf56": {
      "model_module": "@jupyter-widgets/controls",
      "model_module_version": "1.5.0",
      "model_name": "ButtonStyleModel",
      "state": {}
     },
     "d138c7e7a97e462c81a14ebf9c1aa3c1": {
      "model_module": "@jupyter-widgets/controls",
      "model_module_version": "1.5.0",
      "model_name": "IntTextModel",
      "state": {
       "continuous_update": true,
       "description": "Continuous",
       "layout": "IPY_MODEL_bad4b1bbc3fb4317ac0ec4390a29dca4",
       "step": 1,
       "style": "IPY_MODEL_338b604ea20b4ef5a4b9f860b55e3b9b"
      }
     },
     "d1e17cc3366e48489893b6afd47dbfdd": {
      "model_module": "@jupyter-widgets/controls",
      "model_module_version": "1.5.0",
      "model_name": "ButtonStyleModel",
      "state": {}
     },
     "d53b742ab832440cba4457d564c2c38d": {
      "model_module": "@jupyter-widgets/controls",
      "model_module_version": "1.5.0",
      "model_name": "SliderStyleModel",
      "state": {
       "description_width": ""
      }
     },
     "d5a0d2fe43ac47ad9a94c412620cb818": {
      "model_module": "@jupyter-widgets/base",
      "model_module_version": "1.2.0",
      "model_name": "LayoutModel",
      "state": {}
     },
     "d78d9017b080452ab60068a32c61fe9d": {
      "model_module": "@jupyter-widgets/controls",
      "model_module_version": "1.5.0",
      "model_name": "DescriptionStyleModel",
      "state": {
       "description_width": ""
      }
     },
     "d79ada1a5bf141ba9075061992c224ed": {
      "model_module": "@jupyter-widgets/controls",
      "model_module_version": "1.5.0",
      "model_name": "DescriptionStyleModel",
      "state": {
       "description_width": ""
      }
     },
     "d93733dfac3e4b1593a5ea8abfe62d4e": {
      "model_module": "@jupyter-widgets/controls",
      "model_module_version": "1.5.0",
      "model_name": "DescriptionStyleModel",
      "state": {
       "description_width": ""
      }
     },
     "d989e0430e23457b84283ddc55bccbaa": {
      "model_module": "@jupyter-widgets/base",
      "model_module_version": "1.2.0",
      "model_name": "LayoutModel",
      "state": {}
     },
     "d9b079eebaa14df6bcb70606b37611aa": {
      "model_module": "@jupyter-widgets/controls",
      "model_module_version": "1.5.0",
      "model_name": "ButtonStyleModel",
      "state": {}
     },
     "da4cb057a83340e896daa27f076a91d1": {
      "model_module": "@jupyter-widgets/base",
      "model_module_version": "1.2.0",
      "model_name": "LayoutModel",
      "state": {}
     },
     "da4d1775e120438e9c6880e1ac6c53cc": {
      "model_module": "@jupyter-widgets/controls",
      "model_module_version": "1.5.0",
      "model_name": "ButtonStyleModel",
      "state": {}
     },
     "db3dd7cd321c43e380024162a8384162": {
      "model_module": "@jupyter-widgets/base",
      "model_module_version": "1.2.0",
      "model_name": "LayoutModel",
      "state": {}
     },
     "ddd2746955104e978e336cf54ed3e06c": {
      "model_module": "@jupyter-widgets/controls",
      "model_module_version": "1.5.0",
      "model_name": "SliderStyleModel",
      "state": {
       "description_width": ""
      }
     },
     "def9a98d305e4e72978c30e20d4c924e": {
      "model_module": "@jupyter-widgets/controls",
      "model_module_version": "1.5.0",
      "model_name": "DescriptionStyleModel",
      "state": {
       "description_width": ""
      }
     },
     "df4ab40b6f1142a3a6aaa0ee825a3f4b": {
      "model_module": "@jupyter-widgets/controls",
      "model_module_version": "1.5.0",
      "model_name": "IntSliderModel",
      "state": {
       "description": "Target range 1",
       "layout": "IPY_MODEL_51fbbd88aac54da2a267af5045a4c3fb",
       "style": "IPY_MODEL_a41b806d9eff4716b4b99e07064766c0"
      }
     },
     "e171564c8d6f498a8505fb180a68ad8b": {
      "model_module": "@jupyter-widgets/controls",
      "model_module_version": "1.5.0",
      "model_name": "IntSliderModel",
      "state": {
       "continuous_update": false,
       "description": "Delayed",
       "layout": "IPY_MODEL_826481db8a4c45d8ac3583ff291605ff",
       "style": "IPY_MODEL_9b225f59ae2645f6aef4cc9b83eb9759"
      }
     },
     "e183d65dad7942f69550b0d8f6778cdf": {
      "model_module": "@jupyter-widgets/controls",
      "model_module_version": "1.5.0",
      "model_name": "IntSliderModel",
      "state": {
       "description": "Continuous",
       "layout": "IPY_MODEL_81af24c579b144b592f33f86d9436238",
       "style": "IPY_MODEL_460f5b1967ad438dba9e72b90806c758"
      }
     },
     "e2981dd42cef481c91cbec709780003b": {
      "model_module": "@jupyter-widgets/base",
      "model_module_version": "1.2.0",
      "model_name": "LayoutModel",
      "state": {}
     },
     "e3d5b1e5701e4accafbd24d2e12cd4c8": {
      "model_module": "@jupyter-widgets/controls",
      "model_module_version": "1.5.0",
      "model_name": "SliderStyleModel",
      "state": {
       "description_width": ""
      }
     },
     "e59e8b5c29064aef8539a02960c0f9bd": {
      "model_module": "@jupyter-widgets/controls",
      "model_module_version": "1.5.0",
      "model_name": "IntSliderModel",
      "state": {
       "description": "Range 1",
       "layout": "IPY_MODEL_fe16f2a353b04c95920ae5258943fac9",
       "style": "IPY_MODEL_12c9a0c97166421092e0d485f937a4bb"
      }
     },
     "e5cbcd35faf143f79a5a22e40b07d8b9": {
      "model_module": "@jupyter-widgets/controls",
      "model_module_version": "1.5.0",
      "model_name": "LabelModel",
      "state": {
       "layout": "IPY_MODEL_40eda11b1d554d6ca211fc8f5bcf6f76",
       "style": "IPY_MODEL_43aef578995e4582994dec7b47a487ef",
       "value": "Changes in source_range values are reflected in target_range1"
      }
     },
     "e613dae2ebb640c3a807f433949fab6d": {
      "model_module": "@jupyter-widgets/base",
      "model_module_version": "1.2.0",
      "model_name": "LayoutModel",
      "state": {}
     },
     "e6b770bb917e42cfb1e2ca53cbf380d9": {
      "model_module": "@jupyter-widgets/controls",
      "model_module_version": "1.5.0",
      "model_name": "DescriptionStyleModel",
      "state": {
       "description_width": ""
      }
     },
     "e765381eba344c8582e6617ca9a6250a": {
      "model_module": "@jupyter-widgets/controls",
      "model_module_version": "1.5.0",
      "model_name": "IntTextModel",
      "state": {
       "description": "Delayed",
       "layout": "IPY_MODEL_6c9fd574b6f940a4bb7bb62522eb7ca7",
       "step": 1,
       "style": "IPY_MODEL_2e25e2924b594196beb4770d52a056c8"
      }
     },
     "e8cd97438ad4417f962f8542769d6a16": {
      "model_module": "@jupyter-widgets/base",
      "model_module_version": "1.2.0",
      "model_name": "LayoutModel",
      "state": {}
     },
     "e9a0020929ca490cb64ae35ce93e51a0": {
      "model_module": "@jupyter-widgets/controls",
      "model_module_version": "1.5.0",
      "model_name": "IntSliderModel",
      "state": {
       "description": "Slider 2",
       "layout": "IPY_MODEL_ca199e88c8d343f3ba1b05aea664e40e",
       "style": "IPY_MODEL_4f9c641ab17a465eba05991806e8d754"
      }
     },
     "ea4b9f8806114dfabee88f784c2f37ff": {
      "model_module": "@jupyter-widgets/base",
      "model_module_version": "1.2.0",
      "model_name": "LayoutModel",
      "state": {}
     },
     "ec5bf3fbfa26494ea7df148ad58d9c69": {
      "model_module": "@jupyter-widgets/controls",
      "model_module_version": "1.5.0",
      "model_name": "IntSliderModel",
      "state": {
       "description": "Source range",
       "layout": "IPY_MODEL_618428aa1b8b45338bdea24d360ea643",
       "style": "IPY_MODEL_685106bc918c416ab9ade92224244461"
      }
     },
     "ec8cae8770784411b54ca66ba8715b7c": {
      "model_module": "@jupyter-widgets/controls",
      "model_module_version": "1.5.0",
      "model_name": "ButtonModel",
      "state": {
       "description": "Click Me!",
       "layout": "IPY_MODEL_4e825266cd684a6d8413f07bfe06c4e8",
       "style": "IPY_MODEL_7ca0001e3d7f41be8ca298633bce6024"
      }
     },
     "ed0028e1be674e1d8317474789013073": {
      "model_module": "@jupyter-widgets/base",
      "model_module_version": "1.2.0",
      "model_name": "LayoutModel",
      "state": {}
     },
     "ed17098f3cc145aa9244833a688f5210": {
      "model_module": "@jupyter-widgets/controls",
      "model_module_version": "1.5.0",
      "model_name": "VBoxModel",
      "state": {
       "children": [
        "IPY_MODEL_e171564c8d6f498a8505fb180a68ad8b",
        "IPY_MODEL_e765381eba344c8582e6617ca9a6250a",
        "IPY_MODEL_467560a1934543e69e6111ac421be09e",
        "IPY_MODEL_3a53660b43c54374aed38d71e5153f80"
       ],
       "layout": "IPY_MODEL_db3dd7cd321c43e380024162a8384162"
      }
     },
     "ed3eed2ddbec449f9cd351cbbdd6da4a": {
      "model_module": "@jupyter-widgets/controls",
      "model_module_version": "1.5.0",
      "model_name": "ButtonModel",
      "state": {
       "description": "Click Me!",
       "layout": "IPY_MODEL_d989e0430e23457b84283ddc55bccbaa",
       "style": "IPY_MODEL_635446edf148425cb387d95399af22c7"
      }
     },
     "ee2b2fb678304bd4a3cd44d0c9ced97e": {
      "model_module": "@jupyter-widgets/controls",
      "model_module_version": "1.5.0",
      "model_name": "VBoxModel",
      "state": {
       "children": [
        "IPY_MODEL_b95bd891e9e243be95cf705b460dd580",
        "IPY_MODEL_c26329169f444b99bdfcba0df40996a9",
        "IPY_MODEL_5e2085c090c24e399b39ac5454d6a25a",
        "IPY_MODEL_1eca399bbdf94241b54acefb9433d1f2"
       ],
       "layout": "IPY_MODEL_74c2235f7659439da6403da044d58c1f"
      }
     },
     "f0c5da0d2103410f82fa94943d0352ff": {
      "model_module": "@jupyter-widgets/controls",
      "model_module_version": "1.5.0",
      "model_name": "LabelModel",
      "state": {
       "layout": "IPY_MODEL_134d3a19a3014a0a936b64ae06427712",
       "style": "IPY_MODEL_7c168b5652d7401fa289be7550757dbe",
       "value": "Changes in source_range values are reflected in target_range1"
      }
     },
     "f2f44b282a394bf9951b33b4d503a9c5": {
      "model_module": "@jupyter-widgets/base",
      "model_module_version": "1.2.0",
      "model_name": "LayoutModel",
      "state": {}
     },
     "f47d454952e44e77994063d9c80acd43": {
      "model_module": "@jupyter-widgets/controls",
      "model_module_version": "1.5.0",
      "model_name": "ButtonModel",
      "state": {
       "description": "Click Me!",
       "layout": "IPY_MODEL_6df6a09506034a44a258d13756f65781",
       "style": "IPY_MODEL_d9b079eebaa14df6bcb70606b37611aa"
      }
     },
     "f79e10fed2074a4490e095735e32e31a": {
      "model_module": "@jupyter-widgets/base",
      "model_module_version": "1.2.0",
      "model_name": "LayoutModel",
      "state": {}
     },
     "f8a97576164d4c169da41b5e202e3aa8": {
      "model_module": "@jupyter-widgets/controls",
      "model_module_version": "1.5.0",
      "model_name": "DirectionalLinkModel",
      "state": {
       "source": [
        "IPY_MODEL_ec5bf3fbfa26494ea7df148ad58d9c69",
        "value"
       ],
       "target": [
        "IPY_MODEL_df4ab40b6f1142a3a6aaa0ee825a3f4b",
        "value"
       ]
      }
     },
     "f9c8774160e24378a5b07ffe90bf92bc": {
      "model_module": "@jupyter-widgets/controls",
      "model_module_version": "1.5.0",
      "model_name": "IntSliderModel",
      "state": {
       "description": "Slider 2",
       "layout": "IPY_MODEL_ed0028e1be674e1d8317474789013073",
       "style": "IPY_MODEL_70bb229f935149119c72e0c5ba8bfc5d"
      }
     },
     "fd0f9d96a0e747e886c4780aafedf79f": {
      "model_module": "@jupyter-widgets/base",
      "model_module_version": "1.2.0",
      "model_name": "LayoutModel",
      "state": {}
     },
     "fd368718a1ef493586504664366d1553": {
      "model_module": "@jupyter-widgets/controls",
      "model_module_version": "1.5.0",
      "model_name": "LabelModel",
      "state": {
       "layout": "IPY_MODEL_540c870fa3824914a487a1b8e7e21a2b",
       "style": "IPY_MODEL_d93733dfac3e4b1593a5ea8abfe62d4e",
       "value": "The values of slider1 and slider2 are synchronized"
      }
     },
     "fe16f2a353b04c95920ae5258943fac9": {
      "model_module": "@jupyter-widgets/base",
      "model_module_version": "1.2.0",
      "model_name": "LayoutModel",
      "state": {}
     },
     "fe3ed13fe7024ffa92f64695b292b6fb": {
      "model_module": "@jupyter-widgets/base",
      "model_module_version": "1.2.0",
      "model_name": "LayoutModel",
      "state": {}
     }
    },
    "version_major": 2,
    "version_minor": 0
   }
  }
 },
 "nbformat": 4,
 "nbformat_minor": 4
}
