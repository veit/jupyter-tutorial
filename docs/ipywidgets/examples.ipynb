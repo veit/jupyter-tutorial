{
 "cells": [
  {
   "cell_type": "markdown",
   "metadata": {},
   "source": [
    "# Examples"
   ]
  },
  {
   "cell_type": "markdown",
   "metadata": {},
   "source": [
    "IPython includes an interactive widget architecture that combines Python code running in the kernel and JavaScript/HTML/CSS running in the browser. These widgets allow users to interactively examine their code and data."
   ]
  },
  {
   "cell_type": "markdown",
   "metadata": {},
   "source": [
    "### Interact function\n",
    "\n",
    "`ipywidgets.interact` automatically creates user interface (UI) controls to interactively explore code and data."
   ]
  },
  {
   "cell_type": "code",
   "execution_count": 1,
   "metadata": {},
   "outputs": [],
   "source": [
    "from __future__ import print_function\n",
    "\n",
    "import ipywidgets as widgets\n",
    "\n",
    "from ipywidgets import fixed, interact, interact_manual, interactive"
   ]
  },
  {
   "cell_type": "markdown",
   "metadata": {},
   "source": [
    "In the simplest case, `interact` automatically generates controls for function arguments and then calls the function with those arguments when you interactively edit the controls. The following is a function that returns its only argument `x`."
   ]
  },
  {
   "cell_type": "code",
   "execution_count": 2,
   "metadata": {},
   "outputs": [],
   "source": [
    "def f(x):\n",
    "    return x"
   ]
  },
  {
   "cell_type": "markdown",
   "metadata": {},
   "source": [
    "#### Slider\n",
    "\n",
    "\n",
    "If you specify a function with an integer keyword argument (`x=10`), a slider is generated and bound to the function parameter:"
   ]
  },
  {
   "cell_type": "code",
   "execution_count": 3,
   "metadata": {},
   "outputs": [
    {
     "data": {
      "application/vnd.jupyter.widget-view+json": {
       "model_id": "83cac39f82964dc997503d082436d903",
       "version_major": 2,
       "version_minor": 0
      },
      "text/plain": [
       "interactive(children=(IntSlider(value=10, description='x', max=30, min=-10), Output()), _dom_classes=('widget-…"
      ]
     },
     "metadata": {},
     "output_type": "display_data"
    }
   ],
   "source": [
    "interact(f, x=10);"
   ]
  },
  {
   "cell_type": "markdown",
   "metadata": {},
   "source": [
    "#### Checkbox\n",
    "\n",
    "If you specify `True` or `False`, interact generates a checkbox:"
   ]
  },
  {
   "cell_type": "code",
   "execution_count": 4,
   "metadata": {},
   "outputs": [
    {
     "data": {
      "application/vnd.jupyter.widget-view+json": {
       "model_id": "888e36f7699b4a9d9b628f80115558da",
       "version_major": 2,
       "version_minor": 0
      },
      "text/plain": [
       "interactive(children=(Checkbox(value=True, description='x'), Output()), _dom_classes=('widget-interact',))"
      ]
     },
     "metadata": {},
     "output_type": "display_data"
    }
   ],
   "source": [
    "interact(f, x=True);"
   ]
  },
  {
   "cell_type": "markdown",
   "metadata": {},
   "source": [
    "#### Text area\n",
    "\n",
    "If you pass a string, `interact` generates a text area:"
   ]
  },
  {
   "cell_type": "code",
   "execution_count": 5,
   "metadata": {},
   "outputs": [
    {
     "data": {
      "application/vnd.jupyter.widget-view+json": {
       "model_id": "5faaf53f50184f318fdb96b655b61cff",
       "version_major": 2,
       "version_minor": 0
      },
      "text/plain": [
       "interactive(children=(Text(value='Hi Pythonistas!', description='x'), Output()), _dom_classes=('widget-interac…"
      ]
     },
     "metadata": {},
     "output_type": "display_data"
    }
   ],
   "source": [
    "interact(f, x=\"Hi Pythonistas!\");"
   ]
  },
  {
   "cell_type": "markdown",
   "metadata": {},
   "source": [
    "### Decorator\n",
    "\n",
    "`interact` can also be used as a decorator. This way you can define a function and interact with it in a single setting. As the following example shows, `interact` also works with functions that have multiple arguments:"
   ]
  },
  {
   "cell_type": "code",
   "execution_count": 6,
   "metadata": {},
   "outputs": [
    {
     "data": {
      "application/vnd.jupyter.widget-view+json": {
       "model_id": "96534427f4ff49e6ba441f850c35f9b8",
       "version_major": 2,
       "version_minor": 0
      },
      "text/plain": [
       "interactive(children=(Checkbox(value=True, description='x'), FloatSlider(value=1.0, description='y', max=3.0, …"
      ]
     },
     "metadata": {},
     "output_type": "display_data"
    }
   ],
   "source": [
    "@interact(x=True, y=1.0)\n",
    "def g(x, y):\n",
    "    return (x, y)"
   ]
  }
 ],
 "metadata": {
  "kernelspec": {
   "display_name": "Python 3.11 Kernel",
   "language": "python",
   "name": "python311"
  },
  "language_info": {
   "codemirror_mode": {
    "name": "ipython",
    "version": 3
   },
   "file_extension": ".py",
   "mimetype": "text/x-python",
   "name": "python",
   "nbconvert_exporter": "python",
   "pygments_lexer": "ipython3",
   "version": "3.11.4"
  },
  "latex_envs": {
   "LaTeX_envs_menu_present": true,
   "autoclose": false,
   "autocomplete": true,
   "bibliofile": "biblio.bib",
   "cite_by": "apalike",
   "current_citInitial": 1,
   "eqLabelWithNumbers": true,
   "eqNumInitial": 1,
   "hotkeys": {
    "equation": "Ctrl-E",
    "itemize": "Ctrl-I"
   },
   "labels_anchors": false,
   "latex_user_defs": false,
   "report_style_numbering": false,
   "user_envs_cfg": false
  },
  "widgets": {
   "application/vnd.jupyter.widget-state+json": {
    "state": {
     "0095704b30cf41658845577d30254834": {
      "model_module": "@jupyter-widgets/output",
      "model_module_version": "1.0.0",
      "model_name": "OutputModel",
      "state": {
       "layout": "IPY_MODEL_a3c09957e1a44a4aa7738be99862cac4",
       "outputs": [
        {
         "data": {
          "text/plain": "-10"
         },
         "metadata": {},
         "output_type": "display_data"
        }
       ]
      }
     },
     "0146eec1c5bc4e758df307d4102a995a": {
      "model_module": "@jupyter-widgets/output",
      "model_module_version": "1.0.0",
      "model_name": "OutputModel",
      "state": {
       "layout": "IPY_MODEL_d817894deb7b404e80aef69c21b3293f",
       "outputs": [
        {
         "data": {
          "text/plain": "-10"
         },
         "metadata": {},
         "output_type": "display_data"
        }
       ]
      }
     },
     "0184368a831b424886f5aa54d08afbf7": {
      "model_module": "@jupyter-widgets/base",
      "model_module_version": "1.2.0",
      "model_name": "LayoutModel",
      "state": {}
     },
     "05680c595d23443aa7a5d0d05e1e0a53": {
      "model_module": "@jupyter-widgets/controls",
      "model_module_version": "1.5.0",
      "model_name": "VBoxModel",
      "state": {
       "_dom_classes": [
        "widget-interact"
       ],
       "children": [
        "IPY_MODEL_15f8c8e7a691420da5b8592b63dca8dc",
        "IPY_MODEL_f38c6dfa6ca04ab7a1fd3b75871fada6"
       ],
       "layout": "IPY_MODEL_6d224f399a4c490abf62f33846c87f3b"
      }
     },
     "059f39062d374e84916edf47241f3935": {
      "model_module": "@jupyter-widgets/controls",
      "model_module_version": "1.5.0",
      "model_name": "SliderStyleModel",
      "state": {
       "description_width": ""
      }
     },
     "05d92cdb687644c3b79c0bbfb03b0afb": {
      "model_module": "@jupyter-widgets/controls",
      "model_module_version": "1.5.0",
      "model_name": "IntSliderModel",
      "state": {
       "description": "x",
       "layout": "IPY_MODEL_0810a6b05b6c472e9803e8fe7a2d651d",
       "max": 30,
       "min": -10,
       "style": "IPY_MODEL_077248a6592a4e508c6abda6d1611bbb",
       "value": 10
      }
     },
     "077248a6592a4e508c6abda6d1611bbb": {
      "model_module": "@jupyter-widgets/controls",
      "model_module_version": "1.5.0",
      "model_name": "SliderStyleModel",
      "state": {
       "description_width": ""
      }
     },
     "0810a6b05b6c472e9803e8fe7a2d651d": {
      "model_module": "@jupyter-widgets/base",
      "model_module_version": "1.2.0",
      "model_name": "LayoutModel",
      "state": {}
     },
     "08b965ca8dec44e1aee63fc76e4d2fa7": {
      "model_module": "@jupyter-widgets/controls",
      "model_module_version": "1.5.0",
      "model_name": "VBoxModel",
      "state": {
       "_dom_classes": [
        "widget-interact"
       ],
       "children": [
        "IPY_MODEL_e9fd42c2016141eea1c714efc5373652",
        "IPY_MODEL_2671a70d99864dda9da8d9e69b498642"
       ],
       "layout": "IPY_MODEL_aa93014b5ae64edd96d7915c38b74df5"
      }
     },
     "08ddefd726324ff290ab359ac09ca673": {
      "model_module": "@jupyter-widgets/base",
      "model_module_version": "1.2.0",
      "model_name": "LayoutModel",
      "state": {}
     },
     "09157343ff2c4669bc527b55ebc7558b": {
      "model_module": "@jupyter-widgets/controls",
      "model_module_version": "1.5.0",
      "model_name": "CheckboxModel",
      "state": {
       "description": "x",
       "disabled": false,
       "layout": "IPY_MODEL_bb910d7416724af3a0b13db84887bba4",
       "style": "IPY_MODEL_e56f700e0f38450bb2a02161d178cd38",
       "value": true
      }
     },
     "091eac315696427d8a7d3208c0d3343b": {
      "model_module": "@jupyter-widgets/controls",
      "model_module_version": "1.5.0",
      "model_name": "DescriptionStyleModel",
      "state": {
       "description_width": ""
      }
     },
     "095a4ce7ff754060a40cfd7a862b1641": {
      "model_module": "@jupyter-widgets/base",
      "model_module_version": "1.2.0",
      "model_name": "LayoutModel",
      "state": {}
     },
     "0a2147dfa31843359293221e1c6c2e35": {
      "model_module": "@jupyter-widgets/controls",
      "model_module_version": "1.5.0",
      "model_name": "VBoxModel",
      "state": {
       "_dom_classes": [
        "widget-interact"
       ],
       "children": [
        "IPY_MODEL_2fa9aa17e1874ce299d24070eecafab3",
        "IPY_MODEL_80ba2b362d984da09baba667466bfc2c"
       ],
       "layout": "IPY_MODEL_e45c7a51a9fa4593952914038b52adaa"
      }
     },
     "0a5708f6c9d04778a13c54607b0d91fb": {
      "model_module": "@jupyter-widgets/controls",
      "model_module_version": "1.5.0",
      "model_name": "SliderStyleModel",
      "state": {
       "description_width": ""
      }
     },
     "0a6d957d81e84c3d9bdc1568960df5a5": {
      "model_module": "@jupyter-widgets/base",
      "model_module_version": "1.2.0",
      "model_name": "LayoutModel",
      "state": {}
     },
     "0b105e524a674dc9b113c0a44b4ba2e8": {
      "model_module": "@jupyter-widgets/base",
      "model_module_version": "1.2.0",
      "model_name": "LayoutModel",
      "state": {}
     },
     "0c1d798405404d71830f2eabb2a7e9fa": {
      "model_module": "@jupyter-widgets/controls",
      "model_module_version": "1.5.0",
      "model_name": "TextModel",
      "state": {
       "description": "x",
       "layout": "IPY_MODEL_56dc0d9aa1144d67a1107630326148cf",
       "style": "IPY_MODEL_93a17080ee864f09b92c188c44fcc741",
       "value": "Hi Pythonistas!"
      }
     },
     "0c6ce42f52a74f32ae1a94ffe6233519": {
      "model_module": "@jupyter-widgets/controls",
      "model_module_version": "1.5.0",
      "model_name": "VBoxModel",
      "state": {
       "_dom_classes": [
        "widget-interact"
       ],
       "children": [
        "IPY_MODEL_2a3966f617e24bbbbf338c4b7fe90103",
        "IPY_MODEL_0146eec1c5bc4e758df307d4102a995a"
       ],
       "layout": "IPY_MODEL_6e0b9f77af75429bbf6a836b943063cb"
      }
     },
     "0cbb1159397c42a1879a43ca71d89271": {
      "model_module": "@jupyter-widgets/base",
      "model_module_version": "1.2.0",
      "model_name": "LayoutModel",
      "state": {}
     },
     "0cf3a90641944e7095085474bea42fd7": {
      "model_module": "@jupyter-widgets/output",
      "model_module_version": "1.0.0",
      "model_name": "OutputModel",
      "state": {
       "layout": "IPY_MODEL_c19014ff02a040f591badf67a939e774",
       "outputs": [
        {
         "data": {
          "text/plain": "15"
         },
         "metadata": {},
         "output_type": "display_data"
        }
       ]
      }
     },
     "0e1f6723a4c14459a111677208056928": {
      "model_module": "@jupyter-widgets/base",
      "model_module_version": "1.2.0",
      "model_name": "LayoutModel",
      "state": {}
     },
     "0face32cefd84438beb18bb8cd7d163a": {
      "model_module": "@jupyter-widgets/base",
      "model_module_version": "1.2.0",
      "model_name": "LayoutModel",
      "state": {}
     },
     "102191cbfa1740e2acefb78e7fba1ae2": {
      "model_module": "@jupyter-widgets/controls",
      "model_module_version": "1.5.0",
      "model_name": "DescriptionStyleModel",
      "state": {
       "description_width": ""
      }
     },
     "1024bca1963245e8b9191cc9dbced624": {
      "model_module": "@jupyter-widgets/base",
      "model_module_version": "1.2.0",
      "model_name": "LayoutModel",
      "state": {}
     },
     "11e4e46dd7004b25bf9ee39e4d6cd142": {
      "model_module": "@jupyter-widgets/controls",
      "model_module_version": "1.5.0",
      "model_name": "SliderStyleModel",
      "state": {
       "description_width": ""
      }
     },
     "127d377546b84d909b80c3c8d3e45fb4": {
      "model_module": "@jupyter-widgets/controls",
      "model_module_version": "1.5.0",
      "model_name": "DescriptionStyleModel",
      "state": {
       "description_width": ""
      }
     },
     "12a5204895cb48e5a3f4d18710fb9754": {
      "model_module": "@jupyter-widgets/base",
      "model_module_version": "1.2.0",
      "model_name": "LayoutModel",
      "state": {}
     },
     "1306fb530b764fb1b02596b9277cfbb7": {
      "model_module": "@jupyter-widgets/controls",
      "model_module_version": "1.5.0",
      "model_name": "VBoxModel",
      "state": {
       "_dom_classes": [
        "widget-interact"
       ],
       "children": [
        "IPY_MODEL_d10bbfd5b7ff487d9acbdbe51949e216",
        "IPY_MODEL_d4380a9dd02247a1bfd53e416d9d19a6"
       ],
       "layout": "IPY_MODEL_c45c3d6c8de64e759b1cf8f95db6f9b7"
      }
     },
     "137ce871269948d69a4949e5e2e834b9": {
      "model_module": "@jupyter-widgets/controls",
      "model_module_version": "1.5.0",
      "model_name": "FloatSliderModel",
      "state": {
       "description": "y",
       "layout": "IPY_MODEL_92800f5721834839887d30387d57adaa",
       "max": 3,
       "min": -1,
       "step": 0.1,
       "style": "IPY_MODEL_bee4d78da5974ee389c5f4feb688f487",
       "value": 1
      }
     },
     "13b2d649c8e04c659eb3fd30a7ac2c28": {
      "model_module": "@jupyter-widgets/base",
      "model_module_version": "1.2.0",
      "model_name": "LayoutModel",
      "state": {}
     },
     "13f66d2e54454fb9a56ddd35838866d0": {
      "model_module": "@jupyter-widgets/output",
      "model_module_version": "1.0.0",
      "model_name": "OutputModel",
      "state": {
       "layout": "IPY_MODEL_df3ec808adee4bfe881adf5fb3cb7054",
       "outputs": [
        {
         "data": {
          "text/plain": "10"
         },
         "metadata": {},
         "output_type": "display_data"
        }
       ]
      }
     },
     "15053bffde214a93b4eb9e1835c6afe6": {
      "model_module": "@jupyter-widgets/controls",
      "model_module_version": "1.5.0",
      "model_name": "SliderStyleModel",
      "state": {
       "description_width": ""
      }
     },
     "15f8c8e7a691420da5b8592b63dca8dc": {
      "model_module": "@jupyter-widgets/controls",
      "model_module_version": "1.5.0",
      "model_name": "TextModel",
      "state": {
       "description": "x",
       "layout": "IPY_MODEL_d5549e1794a240c39b8a407d4e5eee60",
       "style": "IPY_MODEL_60f471474f4c412cba85853bbbe210ad",
       "value": "Hi Pythonistas!"
      }
     },
     "16750d1ac851428cabe4b8abea2f16fa": {
      "model_module": "@jupyter-widgets/base",
      "model_module_version": "1.2.0",
      "model_name": "LayoutModel",
      "state": {}
     },
     "16a8120ff5814844bd4e91b36d4922bc": {
      "model_module": "@jupyter-widgets/base",
      "model_module_version": "1.2.0",
      "model_name": "LayoutModel",
      "state": {}
     },
     "18044feabd0c4361a704142b72c26b3b": {
      "model_module": "@jupyter-widgets/output",
      "model_module_version": "1.0.0",
      "model_name": "OutputModel",
      "state": {
       "layout": "IPY_MODEL_c4b66ab68a7e4b8794c520673f8abdbd",
       "outputs": [
        {
         "data": {
          "text/plain": "-12"
         },
         "metadata": {},
         "output_type": "display_data"
        }
       ]
      }
     },
     "1941f4c9f8e94f15a00af1be9d19f9d3": {
      "model_module": "@jupyter-widgets/base",
      "model_module_version": "1.2.0",
      "model_name": "LayoutModel",
      "state": {}
     },
     "1a1bca394ff243a1b04975c8555828d8": {
      "model_module": "@jupyter-widgets/controls",
      "model_module_version": "1.5.0",
      "model_name": "DescriptionStyleModel",
      "state": {
       "description_width": ""
      }
     },
     "1a83dd66ae594b32a0d27b005f43065a": {
      "model_module": "@jupyter-widgets/controls",
      "model_module_version": "1.5.0",
      "model_name": "FloatSliderModel",
      "state": {
       "description": "y",
       "layout": "IPY_MODEL_b04d85426475418d82a7598a97e0e0e5",
       "max": 3,
       "min": -1,
       "step": 0.1,
       "style": "IPY_MODEL_e095007bc1ef4c82915da283bc06c2ec",
       "value": 1
      }
     },
     "1b4a1dda5f2149868eeaea1b553615c1": {
      "model_module": "@jupyter-widgets/base",
      "model_module_version": "1.2.0",
      "model_name": "LayoutModel",
      "state": {}
     },
     "1c4048626cb04e32928c182517a13bdf": {
      "model_module": "@jupyter-widgets/base",
      "model_module_version": "1.2.0",
      "model_name": "LayoutModel",
      "state": {}
     },
     "1c8cc92ddec647c38cbada86a98544ef": {
      "model_module": "@jupyter-widgets/base",
      "model_module_version": "1.2.0",
      "model_name": "LayoutModel",
      "state": {}
     },
     "1eb3cdc74d0f41b28f49355140b20a81": {
      "model_module": "@jupyter-widgets/controls",
      "model_module_version": "1.5.0",
      "model_name": "IntSliderModel",
      "state": {
       "description": "x",
       "layout": "IPY_MODEL_1b4a1dda5f2149868eeaea1b553615c1",
       "max": 30,
       "min": -10,
       "style": "IPY_MODEL_15053bffde214a93b4eb9e1835c6afe6",
       "value": 10
      }
     },
     "1f8bb2ac50be45e6862ef99aa2ef0022": {
      "model_module": "@jupyter-widgets/base",
      "model_module_version": "1.2.0",
      "model_name": "LayoutModel",
      "state": {}
     },
     "1faee05d289842ba9668d49f9570708c": {
      "model_module": "@jupyter-widgets/controls",
      "model_module_version": "1.5.0",
      "model_name": "VBoxModel",
      "state": {
       "_dom_classes": [
        "widget-interact"
       ],
       "children": [
        "IPY_MODEL_5bfe55f1b2424dc9b08b6c2601a1315e",
        "IPY_MODEL_2f24769b378546d99dfe8838c74cb323"
       ],
       "layout": "IPY_MODEL_b9ab6bf5ee204058acdfe79fa71f8043"
      }
     },
     "203f7e16cfc9411588c426dd770f89bd": {
      "model_module": "@jupyter-widgets/base",
      "model_module_version": "1.2.0",
      "model_name": "LayoutModel",
      "state": {}
     },
     "2096ff158a154f69a301cab76ac88503": {
      "model_module": "@jupyter-widgets/base",
      "model_module_version": "1.2.0",
      "model_name": "LayoutModel",
      "state": {}
     },
     "210908147efe4ebc98288065a5b41857": {
      "model_module": "@jupyter-widgets/base",
      "model_module_version": "1.2.0",
      "model_name": "LayoutModel",
      "state": {}
     },
     "210cdade775a4fbdb94e5eba03073805": {
      "model_module": "@jupyter-widgets/controls",
      "model_module_version": "1.5.0",
      "model_name": "CheckboxModel",
      "state": {
       "description": "x",
       "disabled": false,
       "layout": "IPY_MODEL_0cbb1159397c42a1879a43ca71d89271",
       "style": "IPY_MODEL_3bad0f1e5138464aa59f721ac1f3b4e4",
       "value": true
      }
     },
     "22f71d0920974a13acf6973a9ee03492": {
      "model_module": "@jupyter-widgets/base",
      "model_module_version": "1.2.0",
      "model_name": "LayoutModel",
      "state": {}
     },
     "24a389ca5a054b8ebcd93d158a1007b5": {
      "model_module": "@jupyter-widgets/base",
      "model_module_version": "1.2.0",
      "model_name": "LayoutModel",
      "state": {}
     },
     "25f91daadad743148a203a5e4a0bd867": {
      "model_module": "@jupyter-widgets/controls",
      "model_module_version": "1.5.0",
      "model_name": "VBoxModel",
      "state": {
       "_dom_classes": [
        "widget-interact"
       ],
       "children": [
        "IPY_MODEL_3d4c3535229c4460a9835583e113cb62",
        "IPY_MODEL_eea3a7b8adc94b4c9810148843dbd708"
       ],
       "layout": "IPY_MODEL_626f1a64cd154a1980303d64cdd85916"
      }
     },
     "2671a70d99864dda9da8d9e69b498642": {
      "model_module": "@jupyter-widgets/output",
      "model_module_version": "1.0.0",
      "model_name": "OutputModel",
      "state": {
       "layout": "IPY_MODEL_e2f9528df6de42c48e248f545c5864d1",
       "outputs": [
        {
         "data": {
          "text/plain": "'Hi Pythonistas!'"
         },
         "metadata": {},
         "output_type": "display_data"
        }
       ]
      }
     },
     "270bb8c914de41abbf082bd8ec24e3f2": {
      "model_module": "@jupyter-widgets/base",
      "model_module_version": "1.2.0",
      "model_name": "LayoutModel",
      "state": {}
     },
     "274c5a80778e4468a826f320237276ac": {
      "model_module": "@jupyter-widgets/controls",
      "model_module_version": "1.5.0",
      "model_name": "DescriptionStyleModel",
      "state": {
       "description_width": ""
      }
     },
     "279c05d2a64f43959b0e506d7ca278f1": {
      "model_module": "@jupyter-widgets/controls",
      "model_module_version": "1.5.0",
      "model_name": "VBoxModel",
      "state": {
       "_dom_classes": [
        "widget-interact"
       ],
       "children": [
        "IPY_MODEL_d62df91d1d8c44cc8d1aeee11ceb97ea",
        "IPY_MODEL_5d914b477a0f43ab8b9c486e822a9537"
       ],
       "layout": "IPY_MODEL_9463cb9096914c41ad7c8ee188731248"
      }
     },
     "280a7f8664c1448ea747486e5a486cc0": {
      "model_module": "@jupyter-widgets/controls",
      "model_module_version": "1.5.0",
      "model_name": "DescriptionStyleModel",
      "state": {
       "description_width": ""
      }
     },
     "294c9bd352824a38a416759829432ff3": {
      "model_module": "@jupyter-widgets/base",
      "model_module_version": "1.2.0",
      "model_name": "LayoutModel",
      "state": {}
     },
     "299b6328d78b493c9d73cbbf0e8bfb63": {
      "model_module": "@jupyter-widgets/base",
      "model_module_version": "1.2.0",
      "model_name": "LayoutModel",
      "state": {}
     },
     "2a06683ea2aa49c3a7b89188912cf695": {
      "model_module": "@jupyter-widgets/base",
      "model_module_version": "1.2.0",
      "model_name": "LayoutModel",
      "state": {}
     },
     "2a3966f617e24bbbbf338c4b7fe90103": {
      "model_module": "@jupyter-widgets/controls",
      "model_module_version": "1.5.0",
      "model_name": "IntSliderModel",
      "state": {
       "description": "x",
       "layout": "IPY_MODEL_e7848b38cee6425ca321eb1b3bacb4de",
       "max": 30,
       "min": -10,
       "style": "IPY_MODEL_9fe02385577146d390ce99ef8c64498b",
       "value": -10
      }
     },
     "2e3b79a1ae814014a6c736e9b0fa03ec": {
      "model_module": "@jupyter-widgets/controls",
      "model_module_version": "1.5.0",
      "model_name": "FloatSliderModel",
      "state": {
       "description": "y",
       "layout": "IPY_MODEL_39b04c56f62346c691a401a94586ff4c",
       "max": 3,
       "min": -1,
       "step": 0.1,
       "style": "IPY_MODEL_50cc9bcc40964613933744d36c18a004",
       "value": 0.5
      }
     },
     "2f24769b378546d99dfe8838c74cb323": {
      "model_module": "@jupyter-widgets/output",
      "model_module_version": "1.0.0",
      "model_name": "OutputModel",
      "state": {
       "layout": "IPY_MODEL_de21e66adc8b496a9feff7a76fcff944",
       "outputs": [
        {
         "data": {
          "text/plain": "True"
         },
         "metadata": {},
         "output_type": "display_data"
        }
       ]
      }
     },
     "2fa9aa17e1874ce299d24070eecafab3": {
      "model_module": "@jupyter-widgets/controls",
      "model_module_version": "1.5.0",
      "model_name": "CheckboxModel",
      "state": {
       "description": "x",
       "disabled": false,
       "layout": "IPY_MODEL_5ca7a9287b3f42a388d3769835aadafb",
       "style": "IPY_MODEL_1a1bca394ff243a1b04975c8555828d8",
       "value": true
      }
     },
     "2fe69e2ab4974d0dbf644188039ae5d8": {
      "model_module": "@jupyter-widgets/controls",
      "model_module_version": "1.5.0",
      "model_name": "VBoxModel",
      "state": {
       "_dom_classes": [
        "widget-interact"
       ],
       "children": [
        "IPY_MODEL_1eb3cdc74d0f41b28f49355140b20a81",
        "IPY_MODEL_6e651c4d127d4d31993a95afb9fa8a02"
       ],
       "layout": "IPY_MODEL_270bb8c914de41abbf082bd8ec24e3f2"
      }
     },
     "302c6fad18ed4c57a35662c5590ec8f0": {
      "model_module": "@jupyter-widgets/base",
      "model_module_version": "1.2.0",
      "model_name": "LayoutModel",
      "state": {}
     },
     "31e1d8598a5b4d6993809f4f20190602": {
      "model_module": "@jupyter-widgets/controls",
      "model_module_version": "1.5.0",
      "model_name": "DescriptionStyleModel",
      "state": {
       "description_width": ""
      }
     },
     "326962b3c9824b59a7dffc73b60f95f1": {
      "model_module": "@jupyter-widgets/controls",
      "model_module_version": "1.5.0",
      "model_name": "VBoxModel",
      "state": {
       "_dom_classes": [
        "widget-interact"
       ],
       "children": [
        "IPY_MODEL_6e7d34804bd34ca799fa634d4c1157aa",
        "IPY_MODEL_4eb6896a9c7a4d7e93b1ce92fa486364"
       ],
       "layout": "IPY_MODEL_6a85b34c34e34233a1dd1b61969aba09"
      }
     },
     "32b91c09885f46f6bef85e8a571d6035": {
      "model_module": "@jupyter-widgets/base",
      "model_module_version": "1.2.0",
      "model_name": "LayoutModel",
      "state": {}
     },
     "35430ea6403d435295b07598a5c43f0b": {
      "model_module": "@jupyter-widgets/controls",
      "model_module_version": "1.5.0",
      "model_name": "FloatSliderModel",
      "state": {
       "description": "y",
       "layout": "IPY_MODEL_e7bd0587319a46bfb2db5f982210bfd1",
       "max": 3,
       "min": -1,
       "step": 0.1,
       "style": "IPY_MODEL_059f39062d374e84916edf47241f3935",
       "value": 1
      }
     },
     "3753e3cdf07e462b81b0737083c07ab0": {
      "model_module": "@jupyter-widgets/controls",
      "model_module_version": "1.5.0",
      "model_name": "VBoxModel",
      "state": {
       "_dom_classes": [
        "widget-interact"
       ],
       "children": [
        "IPY_MODEL_210cdade775a4fbdb94e5eba03073805",
        "IPY_MODEL_3eb1da07fffa49de8cdf89caa3c0998b",
        "IPY_MODEL_8b898fa4a0164d36b13b376b41b8f38e"
       ],
       "layout": "IPY_MODEL_741c2b1b9dfc4b1fa94ab7966b3e203f"
      }
     },
     "38b22ec1e5d644aba575733afa481921": {
      "model_module": "@jupyter-widgets/controls",
      "model_module_version": "1.5.0",
      "model_name": "IntSliderModel",
      "state": {
       "description": "x",
       "layout": "IPY_MODEL_7f1c13acd41a45ebbc58292b62bbec12",
       "max": 60,
       "min": -20,
       "style": "IPY_MODEL_398798a552954d1b99a1e1da6f916fe4",
       "value": 15
      }
     },
     "3939baf890bc491eb6343f1e876a3788": {
      "model_module": "@jupyter-widgets/controls",
      "model_module_version": "1.5.0",
      "model_name": "IntSliderModel",
      "state": {
       "description": "x",
       "layout": "IPY_MODEL_45c9db7363e5425b92d54d4e53c6569e",
       "max": 36,
       "min": -12,
       "style": "IPY_MODEL_fa79ae3fafcb4365b942f2d70fa926b8",
       "value": -12
      }
     },
     "398798a552954d1b99a1e1da6f916fe4": {
      "model_module": "@jupyter-widgets/controls",
      "model_module_version": "1.5.0",
      "model_name": "SliderStyleModel",
      "state": {
       "description_width": ""
      }
     },
     "39a1c9798b9d47318527b0b074d7c9df": {
      "model_module": "@jupyter-widgets/base",
      "model_module_version": "1.2.0",
      "model_name": "LayoutModel",
      "state": {}
     },
     "39b04c56f62346c691a401a94586ff4c": {
      "model_module": "@jupyter-widgets/base",
      "model_module_version": "1.2.0",
      "model_name": "LayoutModel",
      "state": {}
     },
     "3a92776f70c04929aa7c9fd0594148c0": {
      "model_module": "@jupyter-widgets/base",
      "model_module_version": "1.2.0",
      "model_name": "LayoutModel",
      "state": {}
     },
     "3b335835ac924e9182ba3a5c868d2371": {
      "model_module": "@jupyter-widgets/output",
      "model_module_version": "1.0.0",
      "model_name": "OutputModel",
      "state": {
       "layout": "IPY_MODEL_7efc221476404570a7f9377bdb251cd2",
       "outputs": [
        {
         "data": {
          "text/plain": "(True, 1.0)"
         },
         "metadata": {},
         "output_type": "display_data"
        }
       ]
      }
     },
     "3bad0f1e5138464aa59f721ac1f3b4e4": {
      "model_module": "@jupyter-widgets/controls",
      "model_module_version": "1.5.0",
      "model_name": "DescriptionStyleModel",
      "state": {
       "description_width": ""
      }
     },
     "3bf778a788a2459f899824721f4416fd": {
      "model_module": "@jupyter-widgets/base",
      "model_module_version": "1.2.0",
      "model_name": "LayoutModel",
      "state": {}
     },
     "3c04e1bd4de941e483397bb30ee87e02": {
      "model_module": "@jupyter-widgets/controls",
      "model_module_version": "1.5.0",
      "model_name": "SliderStyleModel",
      "state": {
       "description_width": ""
      }
     },
     "3c1cca01f54d4a5698768929760f963c": {
      "model_module": "@jupyter-widgets/controls",
      "model_module_version": "1.5.0",
      "model_name": "VBoxModel",
      "state": {
       "_dom_classes": [
        "widget-interact"
       ],
       "children": [
        "IPY_MODEL_f48737ff10f248a088ebda3e3f95537e",
        "IPY_MODEL_7f6a70ec99784e55936e291ec11e6793",
        "IPY_MODEL_4520ecad949a4d6ebfb46eed651f54f6"
       ],
       "layout": "IPY_MODEL_16a8120ff5814844bd4e91b36d4922bc"
      }
     },
     "3ca068ac1be74b3c97e0a3d4acf6bce2": {
      "model_module": "@jupyter-widgets/base",
      "model_module_version": "1.2.0",
      "model_name": "LayoutModel",
      "state": {}
     },
     "3d4c3535229c4460a9835583e113cb62": {
      "model_module": "@jupyter-widgets/controls",
      "model_module_version": "1.5.0",
      "model_name": "IntSliderModel",
      "state": {
       "description": "x",
       "layout": "IPY_MODEL_81a13ddb3ebf42019b12116f8a4d8a75",
       "max": 30,
       "min": -10,
       "style": "IPY_MODEL_11e4e46dd7004b25bf9ee39e4d6cd142",
       "value": 10
      }
     },
     "3eac6d7271114b6d9fe7c41f59c49842": {
      "model_module": "@jupyter-widgets/output",
      "model_module_version": "1.0.0",
      "model_name": "OutputModel",
      "state": {
       "layout": "IPY_MODEL_b624e09d38314a96b7c20046331593a2",
       "outputs": [
        {
         "data": {
          "text/plain": "True"
         },
         "metadata": {},
         "output_type": "display_data"
        }
       ]
      }
     },
     "3eb1da07fffa49de8cdf89caa3c0998b": {
      "model_module": "@jupyter-widgets/controls",
      "model_module_version": "1.5.0",
      "model_name": "FloatSliderModel",
      "state": {
       "description": "y",
       "layout": "IPY_MODEL_8440b23e64bb4fbf93f41b052363b890",
       "max": 3,
       "min": -1,
       "step": 0.1,
       "style": "IPY_MODEL_9fb646f1d4794595a338437894e5c45d",
       "value": 1
      }
     },
     "3f0aa9324fc94da19eecdc6582534915": {
      "model_module": "@jupyter-widgets/controls",
      "model_module_version": "1.5.0",
      "model_name": "TextModel",
      "state": {
       "description": "x",
       "layout": "IPY_MODEL_64f2b7fea1c9492191ac0be61a73f468",
       "style": "IPY_MODEL_fe3be6fb62274657af873776075b3c4c",
       "value": "Hi Pythonistas!"
      }
     },
     "3f9d075e3b5247769ab457984646a3ef": {
      "model_module": "@jupyter-widgets/controls",
      "model_module_version": "1.5.0",
      "model_name": "VBoxModel",
      "state": {
       "_dom_classes": [
        "widget-interact"
       ],
       "children": [
        "IPY_MODEL_834888a5e8354131902e3c6baf4f664c",
        "IPY_MODEL_bd3cba61eb384563b3458678adcea84e"
       ],
       "layout": "IPY_MODEL_e602c19643884a058f69c5b9067c5cf0"
      }
     },
     "3fb3f20c5d7149268c1375a692684603": {
      "model_module": "@jupyter-widgets/base",
      "model_module_version": "1.2.0",
      "model_name": "LayoutModel",
      "state": {}
     },
     "4190a0d214644778a428e3599cfee233": {
      "model_module": "@jupyter-widgets/controls",
      "model_module_version": "1.5.0",
      "model_name": "VBoxModel",
      "state": {
       "_dom_classes": [
        "widget-interact"
       ],
       "children": [
        "IPY_MODEL_78690f0133054964a317dee62874e0fb",
        "IPY_MODEL_13f66d2e54454fb9a56ddd35838866d0"
       ],
       "layout": "IPY_MODEL_77eafe7537cf457cbf71518e7a8951cc"
      }
     },
     "43516311ef4540daa76947d90a4501f9": {
      "model_module": "@jupyter-widgets/controls",
      "model_module_version": "1.5.0",
      "model_name": "VBoxModel",
      "state": {
       "_dom_classes": [
        "widget-interact"
       ],
       "children": [
        "IPY_MODEL_7412de20e40844d2a9a2797f9ca99427",
        "IPY_MODEL_748e3bfaf6634290b5347119a5054147"
       ],
       "layout": "IPY_MODEL_9edd323868eb42e3bea032b4b90c2acc"
      }
     },
     "43625e61a7844ec1be2a29d6bc30964b": {
      "model_module": "@jupyter-widgets/controls",
      "model_module_version": "1.5.0",
      "model_name": "VBoxModel",
      "state": {
       "_dom_classes": [
        "widget-interact"
       ],
       "children": [
        "IPY_MODEL_b19dfaaf97ef4c62aadbf46707e72972",
        "IPY_MODEL_2e3b79a1ae814014a6c736e9b0fa03ec",
        "IPY_MODEL_a7d407b589fb428085102ad5650d9adc"
       ],
       "layout": "IPY_MODEL_f2c3b0cfd13f4175a14cd7dcaa6f9038"
      }
     },
     "448e7ab2442f48b69e5f2aa845ba1c57": {
      "model_module": "@jupyter-widgets/base",
      "model_module_version": "1.2.0",
      "model_name": "LayoutModel",
      "state": {}
     },
     "44a057954d484cbcbcf78b272ca0a544": {
      "model_module": "@jupyter-widgets/controls",
      "model_module_version": "1.5.0",
      "model_name": "DescriptionStyleModel",
      "state": {
       "description_width": ""
      }
     },
     "4520ecad949a4d6ebfb46eed651f54f6": {
      "model_module": "@jupyter-widgets/output",
      "model_module_version": "1.0.0",
      "model_name": "OutputModel",
      "state": {
       "layout": "IPY_MODEL_4a9e23a1e9b94080bd0ca35714330f6a"
      }
     },
     "4534e970e3d24e9ea9f35cdffcf26216": {
      "model_module": "@jupyter-widgets/controls",
      "model_module_version": "1.5.0",
      "model_name": "VBoxModel",
      "state": {
       "_dom_classes": [
        "widget-interact"
       ],
       "children": [
        "IPY_MODEL_e9eb2be77c664b34812345388c56ccac",
        "IPY_MODEL_aa47202042af4dc69ed001ba5a641111"
       ],
       "layout": "IPY_MODEL_a9d0e36d26564f1299cd24e052839af3"
      }
     },
     "45870c75ad89424ba234a79a261acab5": {
      "model_module": "@jupyter-widgets/controls",
      "model_module_version": "1.5.0",
      "model_name": "FloatSliderModel",
      "state": {
       "description": "y",
       "layout": "IPY_MODEL_fe841bc8c2f141729f283e38a7783771",
       "max": 3,
       "min": -1,
       "step": 0.1,
       "style": "IPY_MODEL_e1ef4f35546846c3b1bf9a001e86e5ed",
       "value": 1
      }
     },
     "45c9db7363e5425b92d54d4e53c6569e": {
      "model_module": "@jupyter-widgets/base",
      "model_module_version": "1.2.0",
      "model_name": "LayoutModel",
      "state": {}
     },
     "4735ed9e754141068d71fc1c34d4626e": {
      "model_module": "@jupyter-widgets/output",
      "model_module_version": "1.0.0",
      "model_name": "OutputModel",
      "state": {
       "layout": "IPY_MODEL_08ddefd726324ff290ab359ac09ca673",
       "outputs": [
        {
         "data": {
          "text/plain": "-10"
         },
         "metadata": {},
         "output_type": "display_data"
        }
       ]
      }
     },
     "4784dd1ca8564604bd1f68afd8539127": {
      "model_module": "@jupyter-widgets/base",
      "model_module_version": "1.2.0",
      "model_name": "LayoutModel",
      "state": {}
     },
     "4867720d21554558ac221a049e3967be": {
      "model_module": "@jupyter-widgets/controls",
      "model_module_version": "1.5.0",
      "model_name": "CheckboxModel",
      "state": {
       "description": "x",
       "disabled": false,
       "layout": "IPY_MODEL_5a3ebc19b1c64168971660e200495ce8",
       "style": "IPY_MODEL_56fd03d1fb6b40f98a3b787067b4f71f",
       "value": true
      }
     },
     "4943cf66c13944f49d3da0c67ca449ba": {
      "model_module": "@jupyter-widgets/base",
      "model_module_version": "1.2.0",
      "model_name": "LayoutModel",
      "state": {}
     },
     "4a9e23a1e9b94080bd0ca35714330f6a": {
      "model_module": "@jupyter-widgets/base",
      "model_module_version": "1.2.0",
      "model_name": "LayoutModel",
      "state": {}
     },
     "4b2fe7f07533472babddb7dccf338a3e": {
      "model_module": "@jupyter-widgets/controls",
      "model_module_version": "1.5.0",
      "model_name": "SliderStyleModel",
      "state": {
       "description_width": ""
      }
     },
     "4c52fa086b9f44078bd78277ca5bbf73": {
      "model_module": "@jupyter-widgets/base",
      "model_module_version": "1.2.0",
      "model_name": "LayoutModel",
      "state": {}
     },
     "4c6ad66ab93a46a58d1c6a912505d5ea": {
      "model_module": "@jupyter-widgets/controls",
      "model_module_version": "1.5.0",
      "model_name": "SliderStyleModel",
      "state": {
       "description_width": ""
      }
     },
     "4d319332e2944a75b3d936c4a4d2c87b": {
      "model_module": "@jupyter-widgets/base",
      "model_module_version": "1.2.0",
      "model_name": "LayoutModel",
      "state": {}
     },
     "4d9f4c60e46b43ad8a5392793a655b2d": {
      "model_module": "@jupyter-widgets/base",
      "model_module_version": "1.2.0",
      "model_name": "LayoutModel",
      "state": {}
     },
     "4e0226f2ddff4446bbe4c386594a1b2c": {
      "model_module": "@jupyter-widgets/controls",
      "model_module_version": "1.5.0",
      "model_name": "SliderStyleModel",
      "state": {
       "description_width": ""
      }
     },
     "4e7e94a948d64e8c89dd628f9be6d6a7": {
      "model_module": "@jupyter-widgets/base",
      "model_module_version": "1.2.0",
      "model_name": "LayoutModel",
      "state": {}
     },
     "4eb6896a9c7a4d7e93b1ce92fa486364": {
      "model_module": "@jupyter-widgets/output",
      "model_module_version": "1.0.0",
      "model_name": "OutputModel",
      "state": {
       "layout": "IPY_MODEL_72a383cf7730409e9b18caaf4694e51f",
       "outputs": [
        {
         "data": {
          "text/plain": "10"
         },
         "metadata": {},
         "output_type": "display_data"
        }
       ]
      }
     },
     "4fda8de6177a4ff992aad4a043d9b12b": {
      "model_module": "@jupyter-widgets/controls",
      "model_module_version": "1.5.0",
      "model_name": "VBoxModel",
      "state": {
       "_dom_classes": [
        "widget-interact"
       ],
       "children": [
        "IPY_MODEL_79783660dfa745c7a11fd79b9517db25",
        "IPY_MODEL_45870c75ad89424ba234a79a261acab5",
        "IPY_MODEL_f2fb8fff468b41a680ac4dc8c4c42bf5"
       ],
       "layout": "IPY_MODEL_adb2647c9a88482aab14c76c02d70c63"
      }
     },
     "4ff0635088734a03b7b0ec3063387c73": {
      "model_module": "@jupyter-widgets/base",
      "model_module_version": "1.2.0",
      "model_name": "LayoutModel",
      "state": {}
     },
     "50cc9bcc40964613933744d36c18a004": {
      "model_module": "@jupyter-widgets/controls",
      "model_module_version": "1.5.0",
      "model_name": "SliderStyleModel",
      "state": {
       "description_width": ""
      }
     },
     "5160fbcad8244b82ae1ce2a698a5d427": {
      "model_module": "@jupyter-widgets/controls",
      "model_module_version": "1.5.0",
      "model_name": "DescriptionStyleModel",
      "state": {
       "description_width": ""
      }
     },
     "5198972c90754025a44a0025d39be986": {
      "model_module": "@jupyter-widgets/controls",
      "model_module_version": "1.5.0",
      "model_name": "DescriptionStyleModel",
      "state": {
       "description_width": ""
      }
     },
     "5246c18b443e4fceae72e0ef0c5be6c6": {
      "model_module": "@jupyter-widgets/output",
      "model_module_version": "1.0.0",
      "model_name": "OutputModel",
      "state": {
       "layout": "IPY_MODEL_d983100311174ae6a11faf176856f785",
       "outputs": [
        {
         "data": {
          "text/plain": "()"
         },
         "metadata": {},
         "output_type": "display_data"
        }
       ]
      }
     },
     "53a5d6ce675f4f809ece248b8bbc4e2c": {
      "model_module": "@jupyter-widgets/base",
      "model_module_version": "1.2.0",
      "model_name": "LayoutModel",
      "state": {}
     },
     "551ebd25916746719c071887cb73a922": {
      "model_module": "@jupyter-widgets/base",
      "model_module_version": "1.2.0",
      "model_name": "LayoutModel",
      "state": {}
     },
     "562410ad0979432ba132ee6d674a6a65": {
      "model_module": "@jupyter-widgets/controls",
      "model_module_version": "1.5.0",
      "model_name": "VBoxModel",
      "state": {
       "_dom_classes": [
        "widget-interact"
       ],
       "children": [
        "IPY_MODEL_e9ba89aab6044a65b11afd0ec777e25d",
        "IPY_MODEL_afc92adbbeea41b6b198dafeca85814b"
       ],
       "layout": "IPY_MODEL_095a4ce7ff754060a40cfd7a862b1641"
      }
     },
     "56dc0d9aa1144d67a1107630326148cf": {
      "model_module": "@jupyter-widgets/base",
      "model_module_version": "1.2.0",
      "model_name": "LayoutModel",
      "state": {}
     },
     "56fd03d1fb6b40f98a3b787067b4f71f": {
      "model_module": "@jupyter-widgets/controls",
      "model_module_version": "1.5.0",
      "model_name": "DescriptionStyleModel",
      "state": {
       "description_width": ""
      }
     },
     "58bef390bc77443d890c81ea55b8f725": {
      "model_module": "@jupyter-widgets/controls",
      "model_module_version": "1.5.0",
      "model_name": "SliderStyleModel",
      "state": {
       "description_width": ""
      }
     },
     "59664a53965a4271af67c21a63606737": {
      "model_module": "@jupyter-widgets/base",
      "model_module_version": "1.2.0",
      "model_name": "LayoutModel",
      "state": {}
     },
     "5a3ebc19b1c64168971660e200495ce8": {
      "model_module": "@jupyter-widgets/base",
      "model_module_version": "1.2.0",
      "model_name": "LayoutModel",
      "state": {}
     },
     "5b2e47baf09544d78702086b56cce764": {
      "model_module": "@jupyter-widgets/controls",
      "model_module_version": "1.5.0",
      "model_name": "CheckboxModel",
      "state": {
       "description": "x",
       "disabled": false,
       "layout": "IPY_MODEL_9510d88bee3b467c89413f9323757250",
       "style": "IPY_MODEL_ae731814abc343f58d5469bdb9f058fd",
       "value": true
      }
     },
     "5bc64473348b43a69387802819b48430": {
      "model_module": "@jupyter-widgets/controls",
      "model_module_version": "1.5.0",
      "model_name": "SliderStyleModel",
      "state": {
       "description_width": ""
      }
     },
     "5bfe55f1b2424dc9b08b6c2601a1315e": {
      "model_module": "@jupyter-widgets/controls",
      "model_module_version": "1.5.0",
      "model_name": "CheckboxModel",
      "state": {
       "description": "x",
       "disabled": false,
       "layout": "IPY_MODEL_ef6116eddcef444caa2ed8dbbfaf52b5",
       "style": "IPY_MODEL_6a5c750835c04e7e8f11b806d252a3c0",
       "value": true
      }
     },
     "5c2e49d7e2d64338968188441615275c": {
      "model_module": "@jupyter-widgets/output",
      "model_module_version": "1.0.0",
      "model_name": "OutputModel",
      "state": {
       "layout": "IPY_MODEL_2a06683ea2aa49c3a7b89188912cf695",
       "outputs": [
        {
         "data": {
          "text/plain": "(False, 0.5)"
         },
         "metadata": {},
         "output_type": "display_data"
        }
       ]
      }
     },
     "5ca7a9287b3f42a388d3769835aadafb": {
      "model_module": "@jupyter-widgets/base",
      "model_module_version": "1.2.0",
      "model_name": "LayoutModel",
      "state": {}
     },
     "5d861916a7ea4b6397cc24cc35cb2ecd": {
      "model_module": "@jupyter-widgets/base",
      "model_module_version": "1.2.0",
      "model_name": "LayoutModel",
      "state": {}
     },
     "5d914b477a0f43ab8b9c486e822a9537": {
      "model_module": "@jupyter-widgets/output",
      "model_module_version": "1.0.0",
      "model_name": "OutputModel",
      "state": {
       "layout": "IPY_MODEL_f199bdaf8acb4d8f893ab6869c660b56",
       "outputs": [
        {
         "data": {
          "text/plain": "10"
         },
         "metadata": {},
         "output_type": "display_data"
        }
       ]
      }
     },
     "5e1cfa9778f54729bafeda049b1e753c": {
      "model_module": "@jupyter-widgets/controls",
      "model_module_version": "1.5.0",
      "model_name": "SliderStyleModel",
      "state": {
       "description_width": ""
      }
     },
     "5e4fc8b676264a228991bff0b5f3d1dd": {
      "model_module": "@jupyter-widgets/controls",
      "model_module_version": "1.5.0",
      "model_name": "SliderStyleModel",
      "state": {
       "description_width": ""
      }
     },
     "5faaf53f50184f318fdb96b655b61cff": {
      "model_module": "@jupyter-widgets/controls",
      "model_module_version": "1.5.0",
      "model_name": "VBoxModel",
      "state": {
       "_dom_classes": [
        "widget-interact"
       ],
       "children": [
        "IPY_MODEL_6b0c85a77e8d419daef1d18e24e57814",
        "IPY_MODEL_7a948f09cb20486d8688b6e53b36cd4b"
       ],
       "layout": "IPY_MODEL_d06fa76726f947c5be100d0706dc9f59"
      }
     },
     "606c1d5ef55f44e1a5f3f2de9cb741b1": {
      "model_module": "@jupyter-widgets/controls",
      "model_module_version": "1.5.0",
      "model_name": "VBoxModel",
      "state": {
       "_dom_classes": [
        "widget-interact"
       ],
       "children": [
        "IPY_MODEL_bfb1cb5e4ff140c49a8c4f568002b3f4",
        "IPY_MODEL_e9de75b77a5a490880e5a5c0a217605d"
       ],
       "layout": "IPY_MODEL_83b3215ddccc45e0a2ec1a88a04066d5"
      }
     },
     "60f471474f4c412cba85853bbbe210ad": {
      "model_module": "@jupyter-widgets/controls",
      "model_module_version": "1.5.0",
      "model_name": "DescriptionStyleModel",
      "state": {
       "description_width": ""
      }
     },
     "61771baf9a8747e3bfcf470d0875f41b": {
      "model_module": "@jupyter-widgets/base",
      "model_module_version": "1.2.0",
      "model_name": "LayoutModel",
      "state": {}
     },
     "626f1a64cd154a1980303d64cdd85916": {
      "model_module": "@jupyter-widgets/base",
      "model_module_version": "1.2.0",
      "model_name": "LayoutModel",
      "state": {}
     },
     "62ceef18de944f8b85563bb32c719b38": {
      "model_module": "@jupyter-widgets/controls",
      "model_module_version": "1.5.0",
      "model_name": "VBoxModel",
      "state": {
       "_dom_classes": [
        "widget-interact"
       ],
       "children": [
        "IPY_MODEL_0c1d798405404d71830f2eabb2a7e9fa",
        "IPY_MODEL_90305acd92f44b0d95d0273b6e59fa0f"
       ],
       "layout": "IPY_MODEL_de57a477cb0b466b94cfd49fa649f9ff"
      }
     },
     "64370854895d4ca3a23871fb5f59af53": {
      "model_module": "@jupyter-widgets/controls",
      "model_module_version": "1.5.0",
      "model_name": "VBoxModel",
      "state": {
       "_dom_classes": [
        "widget-interact"
       ],
       "children": [
        "IPY_MODEL_3939baf890bc491eb6343f1e876a3788",
        "IPY_MODEL_18044feabd0c4361a704142b72c26b3b"
       ],
       "layout": "IPY_MODEL_3ca068ac1be74b3c97e0a3d4acf6bce2"
      }
     },
     "64f2b7fea1c9492191ac0be61a73f468": {
      "model_module": "@jupyter-widgets/base",
      "model_module_version": "1.2.0",
      "model_name": "LayoutModel",
      "state": {}
     },
     "65780c05144c46d3b2a5720811e8433d": {
      "model_module": "@jupyter-widgets/base",
      "model_module_version": "1.2.0",
      "model_name": "LayoutModel",
      "state": {}
     },
     "65ae4b437bb3488fb0f1f28b817e2017": {
      "model_module": "@jupyter-widgets/base",
      "model_module_version": "1.2.0",
      "model_name": "LayoutModel",
      "state": {}
     },
     "6751177787c34a5f8dc9e5d660dbe80a": {
      "model_module": "@jupyter-widgets/base",
      "model_module_version": "1.2.0",
      "model_name": "LayoutModel",
      "state": {}
     },
     "68161ce8e3ef462d8fc4a12922c45817": {
      "model_module": "@jupyter-widgets/base",
      "model_module_version": "1.2.0",
      "model_name": "LayoutModel",
      "state": {}
     },
     "6993544ae9c74d8e813f2f3abe31af1c": {
      "model_module": "@jupyter-widgets/base",
      "model_module_version": "1.2.0",
      "model_name": "LayoutModel",
      "state": {}
     },
     "6a0a71cdecf44d75921c1faacab8424f": {
      "model_module": "@jupyter-widgets/output",
      "model_module_version": "1.0.0",
      "model_name": "OutputModel",
      "state": {
       "layout": "IPY_MODEL_1f8bb2ac50be45e6862ef99aa2ef0022",
       "outputs": [
        {
         "data": {
          "text/plain": "6"
         },
         "metadata": {},
         "output_type": "display_data"
        }
       ]
      }
     },
     "6a5c750835c04e7e8f11b806d252a3c0": {
      "model_module": "@jupyter-widgets/controls",
      "model_module_version": "1.5.0",
      "model_name": "DescriptionStyleModel",
      "state": {
       "description_width": ""
      }
     },
     "6a709f204783442fb3edd55ab2d0a158": {
      "model_module": "@jupyter-widgets/base",
      "model_module_version": "1.2.0",
      "model_name": "LayoutModel",
      "state": {}
     },
     "6a85b34c34e34233a1dd1b61969aba09": {
      "model_module": "@jupyter-widgets/base",
      "model_module_version": "1.2.0",
      "model_name": "LayoutModel",
      "state": {}
     },
     "6b0c85a77e8d419daef1d18e24e57814": {
      "model_module": "@jupyter-widgets/controls",
      "model_module_version": "1.5.0",
      "model_name": "TextModel",
      "state": {
       "description": "x",
       "layout": "IPY_MODEL_16750d1ac851428cabe4b8abea2f16fa",
       "style": "IPY_MODEL_eb7427e8d0374cccb7fa5f5c24b15d83",
       "value": "Hi Pythonistas!"
      }
     },
     "6b61586d857143778b56fe9f39e3fbb5": {
      "model_module": "@jupyter-widgets/output",
      "model_module_version": "1.0.0",
      "model_name": "OutputModel",
      "state": {
       "layout": "IPY_MODEL_a33c90d834074a148d67c5ba9c11f51a",
       "outputs": [
        {
         "data": {
          "text/plain": "30"
         },
         "metadata": {},
         "output_type": "display_data"
        }
       ]
      }
     },
     "6d224f399a4c490abf62f33846c87f3b": {
      "model_module": "@jupyter-widgets/base",
      "model_module_version": "1.2.0",
      "model_name": "LayoutModel",
      "state": {}
     },
     "6de43ed481ce4e8b9fe8a095e6c18449": {
      "model_module": "@jupyter-widgets/controls",
      "model_module_version": "1.5.0",
      "model_name": "SliderStyleModel",
      "state": {
       "description_width": ""
      }
     },
     "6e0b9f77af75429bbf6a836b943063cb": {
      "model_module": "@jupyter-widgets/base",
      "model_module_version": "1.2.0",
      "model_name": "LayoutModel",
      "state": {}
     },
     "6e651c4d127d4d31993a95afb9fa8a02": {
      "model_module": "@jupyter-widgets/output",
      "model_module_version": "1.0.0",
      "model_name": "OutputModel",
      "state": {
       "layout": "IPY_MODEL_5d861916a7ea4b6397cc24cc35cb2ecd",
       "outputs": [
        {
         "data": {
          "text/plain": "10"
         },
         "metadata": {},
         "output_type": "display_data"
        }
       ]
      }
     },
     "6e7d34804bd34ca799fa634d4c1157aa": {
      "model_module": "@jupyter-widgets/controls",
      "model_module_version": "1.5.0",
      "model_name": "IntSliderModel",
      "state": {
       "description": "x",
       "layout": "IPY_MODEL_e1fe8efe2ccb47a0b42877e3d869a5a4",
       "max": 30,
       "min": -10,
       "style": "IPY_MODEL_ec3a24f523db48a1ab7089da3a39044d",
       "value": 10
      }
     },
     "6f178e52a31344df8d888c8a0564779f": {
      "model_module": "@jupyter-widgets/controls",
      "model_module_version": "1.5.0",
      "model_name": "CheckboxModel",
      "state": {
       "description": "x",
       "disabled": false,
       "layout": "IPY_MODEL_c61b882646264c54888419d5fd6d0590",
       "style": "IPY_MODEL_102191cbfa1740e2acefb78e7fba1ae2",
       "value": true
      }
     },
     "6fe164aafbbf4fb0b6a8d6d5132682a5": {
      "model_module": "@jupyter-widgets/base",
      "model_module_version": "1.2.0",
      "model_name": "LayoutModel",
      "state": {}
     },
     "700dc86713c14123acda1c7b6675ddf0": {
      "model_module": "@jupyter-widgets/output",
      "model_module_version": "1.0.0",
      "model_name": "OutputModel",
      "state": {
       "layout": "IPY_MODEL_210908147efe4ebc98288065a5b41857",
       "outputs": [
        {
         "data": {
          "text/plain": "-10"
         },
         "metadata": {},
         "output_type": "display_data"
        }
       ]
      }
     },
     "717bdfb8d3a84ba4be3ed7cae6a1d394": {
      "model_module": "@jupyter-widgets/controls",
      "model_module_version": "1.5.0",
      "model_name": "VBoxModel",
      "state": {
       "_dom_classes": [
        "widget-interact"
       ],
       "children": [
        "IPY_MODEL_746978f36724453db303bccb7ca1849b",
        "IPY_MODEL_fd1a4fb979774b8ca6d6051a5bc451fa"
       ],
       "layout": "IPY_MODEL_f7393b23c18949c5a074d00bea500ae0"
      }
     },
     "72a383cf7730409e9b18caaf4694e51f": {
      "model_module": "@jupyter-widgets/base",
      "model_module_version": "1.2.0",
      "model_name": "LayoutModel",
      "state": {}
     },
     "73b51b86608a4e968dd923b18ea934ad": {
      "model_module": "@jupyter-widgets/base",
      "model_module_version": "1.2.0",
      "model_name": "LayoutModel",
      "state": {}
     },
     "73c47a35ee7644339cd6cb9ed1cc4ecb": {
      "model_module": "@jupyter-widgets/controls",
      "model_module_version": "1.5.0",
      "model_name": "FloatSliderModel",
      "state": {
       "description": "y",
       "layout": "IPY_MODEL_c0475235ab244f0dafcb562e3a3d5ca6",
       "max": 3,
       "min": -1,
       "step": 0.1,
       "style": "IPY_MODEL_a9b68d6f9d5040c8bfa93b9a28ea8f25",
       "value": 1
      }
     },
     "7412de20e40844d2a9a2797f9ca99427": {
      "model_module": "@jupyter-widgets/controls",
      "model_module_version": "1.5.0",
      "model_name": "TextModel",
      "state": {
       "description": "x",
       "layout": "IPY_MODEL_915eb84c01334cce90f92a336020ba5c",
       "style": "IPY_MODEL_ec2c3f95ad1a45f4a747c0f189b2d304",
       "value": "Hi Pythonistas!"
      }
     },
     "741c2b1b9dfc4b1fa94ab7966b3e203f": {
      "model_module": "@jupyter-widgets/base",
      "model_module_version": "1.2.0",
      "model_name": "LayoutModel",
      "state": {}
     },
     "745efb6601b24eb9b4beab75e6cd5e0e": {
      "model_module": "@jupyter-widgets/base",
      "model_module_version": "1.2.0",
      "model_name": "LayoutModel",
      "state": {}
     },
     "746978f36724453db303bccb7ca1849b": {
      "model_module": "@jupyter-widgets/controls",
      "model_module_version": "1.5.0",
      "model_name": "IntSliderModel",
      "state": {
       "description": "x",
       "layout": "IPY_MODEL_4d9f4c60e46b43ad8a5392793a655b2d",
       "max": 30,
       "min": -10,
       "style": "IPY_MODEL_7dda02c0a8ff4a508ab5c92e50a870cb",
       "value": 10
      }
     },
     "748e3bfaf6634290b5347119a5054147": {
      "model_module": "@jupyter-widgets/output",
      "model_module_version": "1.0.0",
      "model_name": "OutputModel",
      "state": {
       "layout": "IPY_MODEL_4e7e94a948d64e8c89dd628f9be6d6a7",
       "outputs": [
        {
         "data": {
          "text/plain": "'Hi Pythonistas!'"
         },
         "metadata": {},
         "output_type": "display_data"
        }
       ]
      }
     },
     "74eb0d8e7928413ca51b9ab3109fff33": {
      "model_module": "@jupyter-widgets/controls",
      "model_module_version": "1.5.0",
      "model_name": "FloatSliderModel",
      "state": {
       "description": "y",
       "layout": "IPY_MODEL_d1de1b7354cf4dd0ad0595fb19856985",
       "max": 3,
       "min": -1,
       "step": 0.1,
       "style": "IPY_MODEL_b4c8e232846d4a9ba8587aef36642f6c",
       "value": 1
      }
     },
     "76cc3e599fc741f7ba0bc7b9c80236c5": {
      "model_module": "@jupyter-widgets/base",
      "model_module_version": "1.2.0",
      "model_name": "LayoutModel",
      "state": {}
     },
     "77eafe7537cf457cbf71518e7a8951cc": {
      "model_module": "@jupyter-widgets/base",
      "model_module_version": "1.2.0",
      "model_name": "LayoutModel",
      "state": {}
     },
     "78690f0133054964a317dee62874e0fb": {
      "model_module": "@jupyter-widgets/controls",
      "model_module_version": "1.5.0",
      "model_name": "IntSliderModel",
      "state": {
       "description": "x",
       "layout": "IPY_MODEL_8e0258913c334082a0e045809d850136",
       "max": 30,
       "min": -10,
       "style": "IPY_MODEL_0a5708f6c9d04778a13c54607b0d91fb",
       "value": 10
      }
     },
     "79783660dfa745c7a11fd79b9517db25": {
      "model_module": "@jupyter-widgets/controls",
      "model_module_version": "1.5.0",
      "model_name": "CheckboxModel",
      "state": {
       "description": "x",
       "disabled": false,
       "layout": "IPY_MODEL_6993544ae9c74d8e813f2f3abe31af1c",
       "style": "IPY_MODEL_daf5e8ff53474300b71e56da86426f48",
       "value": true
      }
     },
     "7a087a9d0a864070bd64ed089dbe24ea": {
      "model_module": "@jupyter-widgets/controls",
      "model_module_version": "1.5.0",
      "model_name": "VBoxModel",
      "state": {
       "_dom_classes": [
        "widget-interact"
       ],
       "children": [
        "IPY_MODEL_38b22ec1e5d644aba575733afa481921",
        "IPY_MODEL_0cf3a90641944e7095085474bea42fd7"
       ],
       "layout": "IPY_MODEL_c6ee8321dbac46f885aabcfc79849ef3"
      }
     },
     "7a948f09cb20486d8688b6e53b36cd4b": {
      "model_module": "@jupyter-widgets/output",
      "model_module_version": "1.0.0",
      "model_name": "OutputModel",
      "state": {
       "layout": "IPY_MODEL_7ae4980f335e48d5ae26d1117685290f",
       "outputs": [
        {
         "data": {
          "text/plain": "'Hi Pythonistas!'"
         },
         "metadata": {},
         "output_type": "display_data"
        }
       ]
      }
     },
     "7adcad164cde4dfebd6591a522ce7f5b": {
      "model_module": "@jupyter-widgets/output",
      "model_module_version": "1.0.0",
      "model_name": "OutputModel",
      "state": {
       "layout": "IPY_MODEL_c11d1ed7a70843169d83f7616908b5f2",
       "outputs": [
        {
         "data": {
          "text/plain": "10"
         },
         "metadata": {},
         "output_type": "display_data"
        }
       ]
      }
     },
     "7ae4980f335e48d5ae26d1117685290f": {
      "model_module": "@jupyter-widgets/base",
      "model_module_version": "1.2.0",
      "model_name": "LayoutModel",
      "state": {}
     },
     "7b3f1fbdc77d4ef195c62673937805c9": {
      "model_module": "@jupyter-widgets/controls",
      "model_module_version": "1.5.0",
      "model_name": "DescriptionStyleModel",
      "state": {
       "description_width": ""
      }
     },
     "7b802e5518ed4bdeb4c52a04eee86eef": {
      "model_module": "@jupyter-widgets/controls",
      "model_module_version": "1.5.0",
      "model_name": "FloatSliderModel",
      "state": {
       "description": "y",
       "layout": "IPY_MODEL_d68423fa95ef495dafff8d56544bdc2d",
       "max": 3,
       "min": -1,
       "step": 0.1,
       "style": "IPY_MODEL_6de43ed481ce4e8b9fe8a095e6c18449",
       "value": 1
      }
     },
     "7dda02c0a8ff4a508ab5c92e50a870cb": {
      "model_module": "@jupyter-widgets/controls",
      "model_module_version": "1.5.0",
      "model_name": "SliderStyleModel",
      "state": {
       "description_width": ""
      }
     },
     "7efc221476404570a7f9377bdb251cd2": {
      "model_module": "@jupyter-widgets/base",
      "model_module_version": "1.2.0",
      "model_name": "LayoutModel",
      "state": {}
     },
     "7f1c13acd41a45ebbc58292b62bbec12": {
      "model_module": "@jupyter-widgets/base",
      "model_module_version": "1.2.0",
      "model_name": "LayoutModel",
      "state": {}
     },
     "7f6a70ec99784e55936e291ec11e6793": {
      "model_module": "@jupyter-widgets/controls",
      "model_module_version": "1.5.0",
      "model_name": "FloatSliderModel",
      "state": {
       "description": "y",
       "layout": "IPY_MODEL_4c52fa086b9f44078bd78277ca5bbf73",
       "max": 3,
       "min": -1,
       "step": 0.1,
       "style": "IPY_MODEL_af005e70affa4d538fc21c5e5e240078",
       "value": 1
      }
     },
     "80602d9dd7854ad0b24b8e14f644d174": {
      "model_module": "@jupyter-widgets/controls",
      "model_module_version": "1.5.0",
      "model_name": "IntSliderModel",
      "state": {
       "description": "x",
       "layout": "IPY_MODEL_8ea67584978144a0b35e790499dd42ba",
       "max": 30,
       "min": -10,
       "style": "IPY_MODEL_5bc64473348b43a69387802819b48430",
       "value": 6
      }
     },
     "80ba2b362d984da09baba667466bfc2c": {
      "model_module": "@jupyter-widgets/output",
      "model_module_version": "1.0.0",
      "model_name": "OutputModel",
      "state": {
       "layout": "IPY_MODEL_82abe9e437694bd3857977e3771e13fd",
       "outputs": [
        {
         "data": {
          "text/plain": "True"
         },
         "metadata": {},
         "output_type": "display_data"
        }
       ]
      }
     },
     "81a13ddb3ebf42019b12116f8a4d8a75": {
      "model_module": "@jupyter-widgets/base",
      "model_module_version": "1.2.0",
      "model_name": "LayoutModel",
      "state": {}
     },
     "821ab168a62c4275a02467335adeafdd": {
      "model_module": "@jupyter-widgets/output",
      "model_module_version": "1.0.0",
      "model_name": "OutputModel",
      "state": {
       "layout": "IPY_MODEL_89a93bdf71094ae091334a5d44f18050",
       "outputs": [
        {
         "ename": "NameError",
         "evalue": "name 'none' is not defined",
         "output_type": "error",
         "traceback": [
          "\u001b[0;31m---------------------------------------------------------------------------\u001b[0m",
          "\u001b[0;31mNameError\u001b[0m                                 Traceback (most recent call last)",
          "\u001b[0;32m/srv/jupyterhub/python36/lib/python3.6/site-packages/ipywidgets/widgets/interaction.py\u001b[0m in \u001b[0;36mupdate\u001b[0;34m(self, *args)\u001b[0m\n\u001b[1;32m    249\u001b[0m                     \u001b[0mvalue\u001b[0m \u001b[0;34m=\u001b[0m \u001b[0mwidget\u001b[0m\u001b[0;34m.\u001b[0m\u001b[0mget_interact_value\u001b[0m\u001b[0;34m(\u001b[0m\u001b[0;34m)\u001b[0m\u001b[0;34m\u001b[0m\u001b[0m\n\u001b[1;32m    250\u001b[0m                     \u001b[0mself\u001b[0m\u001b[0;34m.\u001b[0m\u001b[0mkwargs\u001b[0m\u001b[0;34m[\u001b[0m\u001b[0mwidget\u001b[0m\u001b[0;34m.\u001b[0m\u001b[0m_kwarg\u001b[0m\u001b[0;34m]\u001b[0m \u001b[0;34m=\u001b[0m \u001b[0mvalue\u001b[0m\u001b[0;34m\u001b[0m\u001b[0m\n\u001b[0;32m--> 251\u001b[0;31m                 \u001b[0mself\u001b[0m\u001b[0;34m.\u001b[0m\u001b[0mresult\u001b[0m \u001b[0;34m=\u001b[0m \u001b[0mself\u001b[0m\u001b[0;34m.\u001b[0m\u001b[0mf\u001b[0m\u001b[0;34m(\u001b[0m\u001b[0;34m**\u001b[0m\u001b[0mself\u001b[0m\u001b[0;34m.\u001b[0m\u001b[0mkwargs\u001b[0m\u001b[0;34m)\u001b[0m\u001b[0;34m\u001b[0m\u001b[0m\n\u001b[0m\u001b[1;32m    252\u001b[0m                 \u001b[0mshow_inline_matplotlib_plots\u001b[0m\u001b[0;34m(\u001b[0m\u001b[0;34m)\u001b[0m\u001b[0;34m\u001b[0m\u001b[0m\n\u001b[1;32m    253\u001b[0m                 \u001b[0;32mif\u001b[0m \u001b[0mself\u001b[0m\u001b[0;34m.\u001b[0m\u001b[0mauto_display\u001b[0m \u001b[0;32mand\u001b[0m \u001b[0mself\u001b[0m\u001b[0;34m.\u001b[0m\u001b[0mresult\u001b[0m \u001b[0;32mis\u001b[0m \u001b[0;32mnot\u001b[0m \u001b[0;32mNone\u001b[0m\u001b[0;34m:\u001b[0m\u001b[0;34m\u001b[0m\u001b[0m\n",
          "\u001b[0;32m<ipython-input-36-b41964005924>\u001b[0m in \u001b[0;36mg\u001b[0;34m(x, y)\u001b[0m\n\u001b[1;32m      1\u001b[0m \u001b[0;34m@\u001b[0m\u001b[0minteract\u001b[0m\u001b[0;34m(\u001b[0m\u001b[0mx\u001b[0m\u001b[0;34m=\u001b[0m\u001b[0;32mTrue\u001b[0m\u001b[0;34m,\u001b[0m \u001b[0my\u001b[0m\u001b[0;34m=\u001b[0m\u001b[0;36m1.0\u001b[0m\u001b[0;34m)\u001b[0m\u001b[0;34m\u001b[0m\u001b[0m\n\u001b[1;32m      2\u001b[0m \u001b[0;32mdef\u001b[0m \u001b[0mg\u001b[0m\u001b[0;34m(\u001b[0m\u001b[0mx\u001b[0m\u001b[0;34m,\u001b[0m \u001b[0my\u001b[0m\u001b[0;34m)\u001b[0m\u001b[0;34m:\u001b[0m\u001b[0;34m\u001b[0m\u001b[0m\n\u001b[0;32m----> 3\u001b[0;31m     \u001b[0;32mreturn\u001b[0m \u001b[0mnone\u001b[0m\u001b[0;34m;\u001b[0m\u001b[0;34m\u001b[0m\u001b[0m\n\u001b[0m",
          "\u001b[0;31mNameError\u001b[0m: name 'none' is not defined"
         ]
        }
       ]
      }
     },
     "82abe9e437694bd3857977e3771e13fd": {
      "model_module": "@jupyter-widgets/base",
      "model_module_version": "1.2.0",
      "model_name": "LayoutModel",
      "state": {}
     },
     "834888a5e8354131902e3c6baf4f664c": {
      "model_module": "@jupyter-widgets/controls",
      "model_module_version": "1.5.0",
      "model_name": "IntSliderModel",
      "state": {
       "description": "x",
       "layout": "IPY_MODEL_53a5d6ce675f4f809ece248b8bbc4e2c",
       "max": 30,
       "min": -10,
       "style": "IPY_MODEL_b0f30fc740194a76821de3af6c07d672",
       "value": 23
      }
     },
     "83b3215ddccc45e0a2ec1a88a04066d5": {
      "model_module": "@jupyter-widgets/base",
      "model_module_version": "1.2.0",
      "model_name": "LayoutModel",
      "state": {}
     },
     "83b79d5102954239807d1eb5df40f047": {
      "model_module": "@jupyter-widgets/controls",
      "model_module_version": "1.5.0",
      "model_name": "IntSliderModel",
      "state": {
       "description": "x",
       "layout": "IPY_MODEL_9332f64372ba4b5581e82d391fe91502",
       "max": 30,
       "min": -10,
       "style": "IPY_MODEL_b19bdf9138624ebe8ea4a9b0052b9c79",
       "value": -10
      }
     },
     "83cac39f82964dc997503d082436d903": {
      "model_module": "@jupyter-widgets/controls",
      "model_module_version": "1.5.0",
      "model_name": "VBoxModel",
      "state": {
       "_dom_classes": [
        "widget-interact"
       ],
       "children": [
        "IPY_MODEL_975a602bd1614a1bb400fb8a707382e3",
        "IPY_MODEL_cbf719a639964f37b6ab8c6092303783"
       ],
       "layout": "IPY_MODEL_3a92776f70c04929aa7c9fd0594148c0"
      }
     },
     "8440b23e64bb4fbf93f41b052363b890": {
      "model_module": "@jupyter-widgets/base",
      "model_module_version": "1.2.0",
      "model_name": "LayoutModel",
      "state": {}
     },
     "867e484d83ac4a7baa8f832ca782283f": {
      "model_module": "@jupyter-widgets/controls",
      "model_module_version": "1.5.0",
      "model_name": "VBoxModel",
      "state": {
       "_dom_classes": [
        "widget-interact"
       ],
       "children": [
        "IPY_MODEL_09157343ff2c4669bc527b55ebc7558b",
        "IPY_MODEL_7b802e5518ed4bdeb4c52a04eee86eef",
        "IPY_MODEL_fd7d1a79c1ac4e588eafc1a9f18558d8"
       ],
       "layout": "IPY_MODEL_6a709f204783442fb3edd55ab2d0a158"
      }
     },
     "875bf5aa8cf7471993c19202ffff6c80": {
      "model_module": "@jupyter-widgets/output",
      "model_module_version": "1.0.0",
      "model_name": "OutputModel",
      "state": {
       "layout": "IPY_MODEL_a1c3f5833b054e488bd7e2739ff11e1e",
       "outputs": [
        {
         "data": {
          "text/plain": "'Hi Pythonistas!'"
         },
         "metadata": {},
         "output_type": "display_data"
        }
       ]
      }
     },
     "888e36f7699b4a9d9b628f80115558da": {
      "model_module": "@jupyter-widgets/controls",
      "model_module_version": "1.5.0",
      "model_name": "VBoxModel",
      "state": {
       "_dom_classes": [
        "widget-interact"
       ],
       "children": [
        "IPY_MODEL_6f178e52a31344df8d888c8a0564779f",
        "IPY_MODEL_f19db1f5078a4c67884fe5dc12e6caa9"
       ],
       "layout": "IPY_MODEL_f8f69478643e40b6aae23dc351d7f82d"
      }
     },
     "89a93bdf71094ae091334a5d44f18050": {
      "model_module": "@jupyter-widgets/base",
      "model_module_version": "1.2.0",
      "model_name": "LayoutModel",
      "state": {}
     },
     "8b1a12f7536c4acf8529b9b6c065e3a8": {
      "model_module": "@jupyter-widgets/controls",
      "model_module_version": "1.5.0",
      "model_name": "SliderStyleModel",
      "state": {
       "description_width": ""
      }
     },
     "8b898fa4a0164d36b13b376b41b8f38e": {
      "model_module": "@jupyter-widgets/output",
      "model_module_version": "1.0.0",
      "model_name": "OutputModel",
      "state": {
       "layout": "IPY_MODEL_cab642fa2fb74cb88e345865d6ed8083"
      }
     },
     "8e0258913c334082a0e045809d850136": {
      "model_module": "@jupyter-widgets/base",
      "model_module_version": "1.2.0",
      "model_name": "LayoutModel",
      "state": {}
     },
     "8ea67584978144a0b35e790499dd42ba": {
      "model_module": "@jupyter-widgets/base",
      "model_module_version": "1.2.0",
      "model_name": "LayoutModel",
      "state": {}
     },
     "90305acd92f44b0d95d0273b6e59fa0f": {
      "model_module": "@jupyter-widgets/output",
      "model_module_version": "1.0.0",
      "model_name": "OutputModel",
      "state": {
       "layout": "IPY_MODEL_a7a158514120447a916544717864e118",
       "outputs": [
        {
         "data": {
          "text/plain": "'Hi Pythonistas!'"
         },
         "metadata": {},
         "output_type": "display_data"
        }
       ]
      }
     },
     "909792ad098f433892198164259f5988": {
      "model_module": "@jupyter-widgets/controls",
      "model_module_version": "1.5.0",
      "model_name": "VBoxModel",
      "state": {
       "_dom_classes": [
        "widget-interact"
       ],
       "children": [
        "IPY_MODEL_9d410da08f614d519cb3e78286977f94",
        "IPY_MODEL_137ce871269948d69a4949e5e2e834b9",
        "IPY_MODEL_3b335835ac924e9182ba3a5c868d2371"
       ],
       "layout": "IPY_MODEL_a78963fe97d94d66912e1ecbec8a86db"
      }
     },
     "913b86dd81ec4dfa87b96ef8285f66ee": {
      "model_module": "@jupyter-widgets/output",
      "model_module_version": "1.0.0",
      "model_name": "OutputModel",
      "state": {
       "layout": "IPY_MODEL_fe3e734d861445bfb0fe3025b056a7d3",
       "outputs": [
        {
         "data": {
          "text/plain": "True"
         },
         "metadata": {},
         "output_type": "display_data"
        }
       ]
      }
     },
     "915eb84c01334cce90f92a336020ba5c": {
      "model_module": "@jupyter-widgets/base",
      "model_module_version": "1.2.0",
      "model_name": "LayoutModel",
      "state": {}
     },
     "927a5a12629244e5b4b3a84d53da30c2": {
      "model_module": "@jupyter-widgets/controls",
      "model_module_version": "1.5.0",
      "model_name": "DescriptionStyleModel",
      "state": {
       "description_width": ""
      }
     },
     "92800f5721834839887d30387d57adaa": {
      "model_module": "@jupyter-widgets/base",
      "model_module_version": "1.2.0",
      "model_name": "LayoutModel",
      "state": {}
     },
     "9332f64372ba4b5581e82d391fe91502": {
      "model_module": "@jupyter-widgets/base",
      "model_module_version": "1.2.0",
      "model_name": "LayoutModel",
      "state": {}
     },
     "93a17080ee864f09b92c188c44fcc741": {
      "model_module": "@jupyter-widgets/controls",
      "model_module_version": "1.5.0",
      "model_name": "DescriptionStyleModel",
      "state": {
       "description_width": ""
      }
     },
     "940fe08cd5814b0fa35f222c62fcfee6": {
      "model_module": "@jupyter-widgets/controls",
      "model_module_version": "1.5.0",
      "model_name": "VBoxModel",
      "state": {
       "_dom_classes": [
        "widget-interact"
       ],
       "children": [
        "IPY_MODEL_3f0aa9324fc94da19eecdc6582534915",
        "IPY_MODEL_875bf5aa8cf7471993c19202ffff6c80"
       ],
       "layout": "IPY_MODEL_1024bca1963245e8b9191cc9dbced624"
      }
     },
     "9463cb9096914c41ad7c8ee188731248": {
      "model_module": "@jupyter-widgets/base",
      "model_module_version": "1.2.0",
      "model_name": "LayoutModel",
      "state": {}
     },
     "9510d88bee3b467c89413f9323757250": {
      "model_module": "@jupyter-widgets/base",
      "model_module_version": "1.2.0",
      "model_name": "LayoutModel",
      "state": {}
     },
     "9622a1dad4f44b6f878c54bb50c2aae7": {
      "model_module": "@jupyter-widgets/controls",
      "model_module_version": "1.5.0",
      "model_name": "IntSliderModel",
      "state": {
       "description": "x",
       "layout": "IPY_MODEL_59664a53965a4271af67c21a63606737",
       "max": 30,
       "min": -10,
       "style": "IPY_MODEL_5e4fc8b676264a228991bff0b5f3d1dd",
       "value": 10
      }
     },
     "96534427f4ff49e6ba441f850c35f9b8": {
      "model_module": "@jupyter-widgets/controls",
      "model_module_version": "1.5.0",
      "model_name": "VBoxModel",
      "state": {
       "_dom_classes": [
        "widget-interact"
       ],
       "children": [
        "IPY_MODEL_f5078fb433454b2288963c935bcbf9ee",
        "IPY_MODEL_73c47a35ee7644339cd6cb9ed1cc4ecb",
        "IPY_MODEL_ef808d98630246919741b96f98d929b9"
       ],
       "layout": "IPY_MODEL_cd9ed01a51554b70b2de0afd24d835ff"
      }
     },
     "975a602bd1614a1bb400fb8a707382e3": {
      "model_module": "@jupyter-widgets/controls",
      "model_module_version": "1.5.0",
      "model_name": "IntSliderModel",
      "state": {
       "description": "x",
       "layout": "IPY_MODEL_551ebd25916746719c071887cb73a922",
       "max": 30,
       "min": -10,
       "style": "IPY_MODEL_5e1cfa9778f54729bafeda049b1e753c",
       "value": 10
      }
     },
     "99153d743abd4b0da70899acfa129c21": {
      "model_module": "@jupyter-widgets/controls",
      "model_module_version": "1.5.0",
      "model_name": "CheckboxModel",
      "state": {
       "description": "x",
       "disabled": false,
       "layout": "IPY_MODEL_1c4048626cb04e32928c182517a13bdf",
       "style": "IPY_MODEL_280a7f8664c1448ea747486e5a486cc0",
       "value": true
      }
     },
     "9d410da08f614d519cb3e78286977f94": {
      "model_module": "@jupyter-widgets/controls",
      "model_module_version": "1.5.0",
      "model_name": "CheckboxModel",
      "state": {
       "description": "x",
       "disabled": false,
       "layout": "IPY_MODEL_0face32cefd84438beb18bb8cd7d163a",
       "style": "IPY_MODEL_127d377546b84d909b80c3c8d3e45fb4",
       "value": true
      }
     },
     "9ea68cbb1b484fe889f93b66e576eb1f": {
      "model_module": "@jupyter-widgets/base",
      "model_module_version": "1.2.0",
      "model_name": "LayoutModel",
      "state": {}
     },
     "9edd323868eb42e3bea032b4b90c2acc": {
      "model_module": "@jupyter-widgets/base",
      "model_module_version": "1.2.0",
      "model_name": "LayoutModel",
      "state": {}
     },
     "9f88aa4de36c4f9495225e76c8765777": {
      "model_module": "@jupyter-widgets/controls",
      "model_module_version": "1.5.0",
      "model_name": "VBoxModel",
      "state": {
       "_dom_classes": [
        "widget-interact"
       ],
       "children": [
        "IPY_MODEL_c1a153c799574994a13e1250d2cf9bf5",
        "IPY_MODEL_4735ed9e754141068d71fc1c34d4626e"
       ],
       "layout": "IPY_MODEL_39a1c9798b9d47318527b0b074d7c9df"
      }
     },
     "9fb646f1d4794595a338437894e5c45d": {
      "model_module": "@jupyter-widgets/controls",
      "model_module_version": "1.5.0",
      "model_name": "SliderStyleModel",
      "state": {
       "description_width": ""
      }
     },
     "9fe02385577146d390ce99ef8c64498b": {
      "model_module": "@jupyter-widgets/controls",
      "model_module_version": "1.5.0",
      "model_name": "SliderStyleModel",
      "state": {
       "description_width": ""
      }
     },
     "a1bb111f6e9e409193930b6dd0d8021f": {
      "model_module": "@jupyter-widgets/base",
      "model_module_version": "1.2.0",
      "model_name": "LayoutModel",
      "state": {}
     },
     "a1c3f5833b054e488bd7e2739ff11e1e": {
      "model_module": "@jupyter-widgets/base",
      "model_module_version": "1.2.0",
      "model_name": "LayoutModel",
      "state": {}
     },
     "a2258103be0d4a62a4c545d683021f02": {
      "model_module": "@jupyter-widgets/controls",
      "model_module_version": "1.5.0",
      "model_name": "VBoxModel",
      "state": {
       "_dom_classes": [
        "widget-interact"
       ],
       "children": [
        "IPY_MODEL_4867720d21554558ac221a049e3967be",
        "IPY_MODEL_1a83dd66ae594b32a0d27b005f43065a",
        "IPY_MODEL_c8dba1a16a2840bf849e39f9491294b8"
       ],
       "layout": "IPY_MODEL_ca4cb4701d7443e686c73fdc8456b2da"
      }
     },
     "a33c90d834074a148d67c5ba9c11f51a": {
      "model_module": "@jupyter-widgets/base",
      "model_module_version": "1.2.0",
      "model_name": "LayoutModel",
      "state": {}
     },
     "a3c09957e1a44a4aa7738be99862cac4": {
      "model_module": "@jupyter-widgets/base",
      "model_module_version": "1.2.0",
      "model_name": "LayoutModel",
      "state": {}
     },
     "a3cc60a873ec4c638466b9310b0a1a72": {
      "model_module": "@jupyter-widgets/controls",
      "model_module_version": "1.5.0",
      "model_name": "CheckboxModel",
      "state": {
       "description": "x",
       "disabled": false,
       "layout": "IPY_MODEL_0184368a831b424886f5aa54d08afbf7",
       "style": "IPY_MODEL_274c5a80778e4468a826f320237276ac",
       "value": true
      }
     },
     "a78963fe97d94d66912e1ecbec8a86db": {
      "model_module": "@jupyter-widgets/base",
      "model_module_version": "1.2.0",
      "model_name": "LayoutModel",
      "state": {}
     },
     "a7a158514120447a916544717864e118": {
      "model_module": "@jupyter-widgets/base",
      "model_module_version": "1.2.0",
      "model_name": "LayoutModel",
      "state": {}
     },
     "a7d407b589fb428085102ad5650d9adc": {
      "model_module": "@jupyter-widgets/output",
      "model_module_version": "1.0.0",
      "model_name": "OutputModel",
      "state": {
       "layout": "IPY_MODEL_baaa43ed2d9443e7bd96c1ed51e3f39b",
       "outputs": [
        {
         "data": {
          "text/plain": "0.5"
         },
         "metadata": {},
         "output_type": "display_data"
        }
       ]
      }
     },
     "a887229e44bd428093d42f8adcf13fd0": {
      "model_module": "@jupyter-widgets/controls",
      "model_module_version": "1.5.0",
      "model_name": "VBoxModel",
      "state": {
       "_dom_classes": [
        "widget-interact"
       ],
       "children": [
        "IPY_MODEL_bf55cfe1449b41d28fc805ccaa043952",
        "IPY_MODEL_7adcad164cde4dfebd6591a522ce7f5b"
       ],
       "layout": "IPY_MODEL_448e7ab2442f48b69e5f2aa845ba1c57"
      }
     },
     "a8e4407486504c9f81392216650a4c0d": {
      "model_module": "@jupyter-widgets/controls",
      "model_module_version": "1.5.0",
      "model_name": "SliderStyleModel",
      "state": {
       "description_width": ""
      }
     },
     "a9b68d6f9d5040c8bfa93b9a28ea8f25": {
      "model_module": "@jupyter-widgets/controls",
      "model_module_version": "1.5.0",
      "model_name": "SliderStyleModel",
      "state": {
       "description_width": ""
      }
     },
     "a9d0e36d26564f1299cd24e052839af3": {
      "model_module": "@jupyter-widgets/base",
      "model_module_version": "1.2.0",
      "model_name": "LayoutModel",
      "state": {}
     },
     "aa047c48f6324171940232419f4fa60b": {
      "model_module": "@jupyter-widgets/controls",
      "model_module_version": "1.5.0",
      "model_name": "CheckboxModel",
      "state": {
       "description": "x",
       "disabled": false,
       "layout": "IPY_MODEL_0a6d957d81e84c3d9bdc1568960df5a5",
       "style": "IPY_MODEL_7b3f1fbdc77d4ef195c62673937805c9",
       "value": false
      }
     },
     "aa47202042af4dc69ed001ba5a641111": {
      "model_module": "@jupyter-widgets/output",
      "model_module_version": "1.0.0",
      "model_name": "OutputModel",
      "state": {
       "layout": "IPY_MODEL_6fe164aafbbf4fb0b6a8d6d5132682a5",
       "outputs": [
        {
         "data": {
          "text/plain": "10"
         },
         "metadata": {},
         "output_type": "display_data"
        }
       ]
      }
     },
     "aa93014b5ae64edd96d7915c38b74df5": {
      "model_module": "@jupyter-widgets/base",
      "model_module_version": "1.2.0",
      "model_name": "LayoutModel",
      "state": {}
     },
     "aace28889f8b46fc8b005dec06ed04bf": {
      "model_module": "@jupyter-widgets/controls",
      "model_module_version": "1.5.0",
      "model_name": "VBoxModel",
      "state": {
       "_dom_classes": [
        "widget-interact"
       ],
       "children": [
        "IPY_MODEL_80602d9dd7854ad0b24b8e14f644d174",
        "IPY_MODEL_6a0a71cdecf44d75921c1faacab8424f"
       ],
       "layout": "IPY_MODEL_3fb3f20c5d7149268c1375a692684603"
      }
     },
     "aafd7f25f9fd42d39fdc62033e177b11": {
      "model_module": "@jupyter-widgets/controls",
      "model_module_version": "1.5.0",
      "model_name": "VBoxModel",
      "state": {
       "_dom_classes": [
        "widget-interact"
       ],
       "children": [
        "IPY_MODEL_f1c9c371dc374ea48c1eef19b8358afe",
        "IPY_MODEL_913b86dd81ec4dfa87b96ef8285f66ee"
       ],
       "layout": "IPY_MODEL_12a5204895cb48e5a3f4d18710fb9754"
      }
     },
     "adb2647c9a88482aab14c76c02d70c63": {
      "model_module": "@jupyter-widgets/base",
      "model_module_version": "1.2.0",
      "model_name": "LayoutModel",
      "state": {}
     },
     "adfa80e0d0864b57af3f73305e878e5e": {
      "model_module": "@jupyter-widgets/controls",
      "model_module_version": "1.5.0",
      "model_name": "VBoxModel",
      "state": {
       "_dom_classes": [
        "widget-interact"
       ],
       "children": [
        "IPY_MODEL_9622a1dad4f44b6f878c54bb50c2aae7",
        "IPY_MODEL_fd752270b9174ed0a2fe21d5bf5569f6"
       ],
       "layout": "IPY_MODEL_f026cb24058e48688aea5615af8d78bf"
      }
     },
     "ae6e5edaca2a48ec9d25a53f6770ae29": {
      "model_module": "@jupyter-widgets/controls",
      "model_module_version": "1.5.0",
      "model_name": "VBoxModel",
      "state": {
       "_dom_classes": [
        "widget-interact"
       ],
       "children": [
        "IPY_MODEL_99153d743abd4b0da70899acfa129c21",
        "IPY_MODEL_3eac6d7271114b6d9fe7c41f59c49842"
       ],
       "layout": "IPY_MODEL_ebc900ad51374d37befedd2207018113"
      }
     },
     "ae731814abc343f58d5469bdb9f058fd": {
      "model_module": "@jupyter-widgets/controls",
      "model_module_version": "1.5.0",
      "model_name": "DescriptionStyleModel",
      "state": {
       "description_width": ""
      }
     },
     "af005e70affa4d538fc21c5e5e240078": {
      "model_module": "@jupyter-widgets/controls",
      "model_module_version": "1.5.0",
      "model_name": "SliderStyleModel",
      "state": {
       "description_width": ""
      }
     },
     "af30a59d998a4c7ca544eb45a84f16a6": {
      "model_module": "@jupyter-widgets/output",
      "model_module_version": "1.0.0",
      "model_name": "OutputModel",
      "state": {
       "layout": "IPY_MODEL_302c6fad18ed4c57a35662c5590ec8f0",
       "outputs": [
        {
         "data": {
          "text/plain": "10"
         },
         "metadata": {},
         "output_type": "display_data"
        }
       ]
      }
     },
     "afc92adbbeea41b6b198dafeca85814b": {
      "model_module": "@jupyter-widgets/output",
      "model_module_version": "1.0.0",
      "model_name": "OutputModel",
      "state": {
       "layout": "IPY_MODEL_203f7e16cfc9411588c426dd770f89bd",
       "outputs": [
        {
         "data": {
          "text/plain": "10"
         },
         "metadata": {},
         "output_type": "display_data"
        }
       ]
      }
     },
     "b04d85426475418d82a7598a97e0e0e5": {
      "model_module": "@jupyter-widgets/base",
      "model_module_version": "1.2.0",
      "model_name": "LayoutModel",
      "state": {}
     },
     "b0f30fc740194a76821de3af6c07d672": {
      "model_module": "@jupyter-widgets/controls",
      "model_module_version": "1.5.0",
      "model_name": "SliderStyleModel",
      "state": {
       "description_width": ""
      }
     },
     "b19bdf9138624ebe8ea4a9b0052b9c79": {
      "model_module": "@jupyter-widgets/controls",
      "model_module_version": "1.5.0",
      "model_name": "SliderStyleModel",
      "state": {
       "description_width": ""
      }
     },
     "b19dfaaf97ef4c62aadbf46707e72972": {
      "model_module": "@jupyter-widgets/controls",
      "model_module_version": "1.5.0",
      "model_name": "CheckboxModel",
      "state": {
       "description": "x",
       "disabled": false,
       "layout": "IPY_MODEL_9ea68cbb1b484fe889f93b66e576eb1f",
       "style": "IPY_MODEL_091eac315696427d8a7d3208c0d3343b",
       "value": true
      }
     },
     "b1f1e4a383bb489c96304a0dcf6c2bf9": {
      "model_module": "@jupyter-widgets/base",
      "model_module_version": "1.2.0",
      "model_name": "LayoutModel",
      "state": {}
     },
     "b25ac1da8ab14ab4b10ce3e922b655a3": {
      "model_module": "@jupyter-widgets/controls",
      "model_module_version": "1.5.0",
      "model_name": "FloatSliderModel",
      "state": {
       "description": "y",
       "layout": "IPY_MODEL_1c8cc92ddec647c38cbada86a98544ef",
       "max": 3,
       "min": -1,
       "step": 0.1,
       "style": "IPY_MODEL_a8e4407486504c9f81392216650a4c0d",
       "value": 0.5
      }
     },
     "b28834dc6d024cf3866501ab9385795f": {
      "model_module": "@jupyter-widgets/base",
      "model_module_version": "1.2.0",
      "model_name": "LayoutModel",
      "state": {}
     },
     "b4c8e232846d4a9ba8587aef36642f6c": {
      "model_module": "@jupyter-widgets/controls",
      "model_module_version": "1.5.0",
      "model_name": "SliderStyleModel",
      "state": {
       "description_width": ""
      }
     },
     "b624e09d38314a96b7c20046331593a2": {
      "model_module": "@jupyter-widgets/base",
      "model_module_version": "1.2.0",
      "model_name": "LayoutModel",
      "state": {}
     },
     "b886b3c20c294ae8a6fd1101dd8e029d": {
      "model_module": "@jupyter-widgets/controls",
      "model_module_version": "1.5.0",
      "model_name": "VBoxModel",
      "state": {
       "_dom_classes": [
        "widget-interact"
       ],
       "children": [
        "IPY_MODEL_a3cc60a873ec4c638466b9310b0a1a72",
        "IPY_MODEL_74eb0d8e7928413ca51b9ab3109fff33",
        "IPY_MODEL_5246c18b443e4fceae72e0ef0c5be6c6"
       ],
       "layout": "IPY_MODEL_c12789be64f14a818d228f86e887c1f3"
      }
     },
     "b9ab6bf5ee204058acdfe79fa71f8043": {
      "model_module": "@jupyter-widgets/base",
      "model_module_version": "1.2.0",
      "model_name": "LayoutModel",
      "state": {}
     },
     "baaa43ed2d9443e7bd96c1ed51e3f39b": {
      "model_module": "@jupyter-widgets/base",
      "model_module_version": "1.2.0",
      "model_name": "LayoutModel",
      "state": {}
     },
     "bb6a16b0bb8f4cb0aca58555cca5a3b2": {
      "model_module": "@jupyter-widgets/controls",
      "model_module_version": "1.5.0",
      "model_name": "VBoxModel",
      "state": {
       "_dom_classes": [
        "widget-interact"
       ],
       "children": [
        "IPY_MODEL_5b2e47baf09544d78702086b56cce764",
        "IPY_MODEL_35430ea6403d435295b07598a5c43f0b",
        "IPY_MODEL_821ab168a62c4275a02467335adeafdd"
       ],
       "layout": "IPY_MODEL_4ff0635088734a03b7b0ec3063387c73"
      }
     },
     "bb910d7416724af3a0b13db84887bba4": {
      "model_module": "@jupyter-widgets/base",
      "model_module_version": "1.2.0",
      "model_name": "LayoutModel",
      "state": {}
     },
     "bd069a32bb4a4b39af4d59c127d6c0ac": {
      "model_module": "@jupyter-widgets/base",
      "model_module_version": "1.2.0",
      "model_name": "LayoutModel",
      "state": {}
     },
     "bd3cba61eb384563b3458678adcea84e": {
      "model_module": "@jupyter-widgets/output",
      "model_module_version": "1.0.0",
      "model_name": "OutputModel",
      "state": {
       "layout": "IPY_MODEL_4d319332e2944a75b3d936c4a4d2c87b",
       "outputs": [
        {
         "data": {
          "text/plain": "23"
         },
         "metadata": {},
         "output_type": "display_data"
        }
       ]
      }
     },
     "bdc119a7db4845bcbedb091276eff0fb": {
      "model_module": "@jupyter-widgets/controls",
      "model_module_version": "1.5.0",
      "model_name": "SliderStyleModel",
      "state": {
       "description_width": ""
      }
     },
     "bee4d78da5974ee389c5f4feb688f487": {
      "model_module": "@jupyter-widgets/controls",
      "model_module_version": "1.5.0",
      "model_name": "SliderStyleModel",
      "state": {
       "description_width": ""
      }
     },
     "bf55cfe1449b41d28fc805ccaa043952": {
      "model_module": "@jupyter-widgets/controls",
      "model_module_version": "1.5.0",
      "model_name": "IntSliderModel",
      "state": {
       "description": "x",
       "layout": "IPY_MODEL_32b91c09885f46f6bef85e8a571d6035",
       "max": 30,
       "min": -10,
       "style": "IPY_MODEL_4b2fe7f07533472babddb7dccf338a3e",
       "value": 10
      }
     },
     "bfb1cb5e4ff140c49a8c4f568002b3f4": {
      "model_module": "@jupyter-widgets/controls",
      "model_module_version": "1.5.0",
      "model_name": "IntSliderModel",
      "state": {
       "description": "x",
       "layout": "IPY_MODEL_0b105e524a674dc9b113c0a44b4ba2e8",
       "max": 30,
       "min": -10,
       "style": "IPY_MODEL_8b1a12f7536c4acf8529b9b6c065e3a8",
       "value": 10
      }
     },
     "c0475235ab244f0dafcb562e3a3d5ca6": {
      "model_module": "@jupyter-widgets/base",
      "model_module_version": "1.2.0",
      "model_name": "LayoutModel",
      "state": {}
     },
     "c11d1ed7a70843169d83f7616908b5f2": {
      "model_module": "@jupyter-widgets/base",
      "model_module_version": "1.2.0",
      "model_name": "LayoutModel",
      "state": {}
     },
     "c12789be64f14a818d228f86e887c1f3": {
      "model_module": "@jupyter-widgets/base",
      "model_module_version": "1.2.0",
      "model_name": "LayoutModel",
      "state": {}
     },
     "c19014ff02a040f591badf67a939e774": {
      "model_module": "@jupyter-widgets/base",
      "model_module_version": "1.2.0",
      "model_name": "LayoutModel",
      "state": {}
     },
     "c1a153c799574994a13e1250d2cf9bf5": {
      "model_module": "@jupyter-widgets/controls",
      "model_module_version": "1.5.0",
      "model_name": "IntSliderModel",
      "state": {
       "description": "x",
       "layout": "IPY_MODEL_61771baf9a8747e3bfcf470d0875f41b",
       "max": 30,
       "min": -10,
       "style": "IPY_MODEL_58bef390bc77443d890c81ea55b8f725",
       "value": -10
      }
     },
     "c40627ce61834f2ebe1bd65e7e18a1d7": {
      "model_module": "@jupyter-widgets/base",
      "model_module_version": "1.2.0",
      "model_name": "LayoutModel",
      "state": {}
     },
     "c45c3d6c8de64e759b1cf8f95db6f9b7": {
      "model_module": "@jupyter-widgets/base",
      "model_module_version": "1.2.0",
      "model_name": "LayoutModel",
      "state": {}
     },
     "c4b66ab68a7e4b8794c520673f8abdbd": {
      "model_module": "@jupyter-widgets/base",
      "model_module_version": "1.2.0",
      "model_name": "LayoutModel",
      "state": {}
     },
     "c53c0da8b0a94e9d94f30138958c258a": {
      "model_module": "@jupyter-widgets/controls",
      "model_module_version": "1.5.0",
      "model_name": "IntSliderModel",
      "state": {
       "description": "x",
       "layout": "IPY_MODEL_76cc3e599fc741f7ba0bc7b9c80236c5",
       "max": 30,
       "min": -10,
       "style": "IPY_MODEL_4e0226f2ddff4446bbe4c386594a1b2c",
       "value": 30
      }
     },
     "c61b882646264c54888419d5fd6d0590": {
      "model_module": "@jupyter-widgets/base",
      "model_module_version": "1.2.0",
      "model_name": "LayoutModel",
      "state": {}
     },
     "c6ee8321dbac46f885aabcfc79849ef3": {
      "model_module": "@jupyter-widgets/base",
      "model_module_version": "1.2.0",
      "model_name": "LayoutModel",
      "state": {}
     },
     "c84c14262c9e489794a05753620a3028": {
      "model_module": "@jupyter-widgets/controls",
      "model_module_version": "1.5.0",
      "model_name": "VBoxModel",
      "state": {
       "_dom_classes": [
        "widget-interact"
       ],
       "children": [
        "IPY_MODEL_c53c0da8b0a94e9d94f30138958c258a",
        "IPY_MODEL_6b61586d857143778b56fe9f39e3fbb5"
       ],
       "layout": "IPY_MODEL_a1bb111f6e9e409193930b6dd0d8021f"
      }
     },
     "c8dba1a16a2840bf849e39f9491294b8": {
      "model_module": "@jupyter-widgets/output",
      "model_module_version": "1.0.0",
      "model_name": "OutputModel",
      "state": {
       "layout": "IPY_MODEL_b1f1e4a383bb489c96304a0dcf6c2bf9"
      }
     },
     "ca4cb4701d7443e686c73fdc8456b2da": {
      "model_module": "@jupyter-widgets/base",
      "model_module_version": "1.2.0",
      "model_name": "LayoutModel",
      "state": {}
     },
     "ca82f15ab93a4b3da21cb9a22fa19661": {
      "model_module": "@jupyter-widgets/controls",
      "model_module_version": "1.5.0",
      "model_name": "VBoxModel",
      "state": {
       "_dom_classes": [
        "widget-interact"
       ],
       "children": [
        "IPY_MODEL_83b79d5102954239807d1eb5df40f047",
        "IPY_MODEL_700dc86713c14123acda1c7b6675ddf0"
       ],
       "layout": "IPY_MODEL_73b51b86608a4e968dd923b18ea934ad"
      }
     },
     "cab642fa2fb74cb88e345865d6ed8083": {
      "model_module": "@jupyter-widgets/base",
      "model_module_version": "1.2.0",
      "model_name": "LayoutModel",
      "state": {}
     },
     "cbf719a639964f37b6ab8c6092303783": {
      "model_module": "@jupyter-widgets/output",
      "model_module_version": "1.0.0",
      "model_name": "OutputModel",
      "state": {
       "layout": "IPY_MODEL_2096ff158a154f69a301cab76ac88503",
       "outputs": [
        {
         "data": {
          "text/plain": "10"
         },
         "metadata": {},
         "output_type": "display_data"
        }
       ]
      }
     },
     "cd9ed01a51554b70b2de0afd24d835ff": {
      "model_module": "@jupyter-widgets/base",
      "model_module_version": "1.2.0",
      "model_name": "LayoutModel",
      "state": {}
     },
     "d056fdf5f5bd4f61964b2643ee883cae": {
      "model_module": "@jupyter-widgets/base",
      "model_module_version": "1.2.0",
      "model_name": "LayoutModel",
      "state": {}
     },
     "d06fa76726f947c5be100d0706dc9f59": {
      "model_module": "@jupyter-widgets/base",
      "model_module_version": "1.2.0",
      "model_name": "LayoutModel",
      "state": {}
     },
     "d0af9369cf3b454a88ccc1350cf97293": {
      "model_module": "@jupyter-widgets/controls",
      "model_module_version": "1.5.0",
      "model_name": "VBoxModel",
      "state": {
       "_dom_classes": [
        "widget-interact"
       ],
       "children": [
        "IPY_MODEL_05d92cdb687644c3b79c0bbfb03b0afb",
        "IPY_MODEL_af30a59d998a4c7ca544eb45a84f16a6"
       ],
       "layout": "IPY_MODEL_65ae4b437bb3488fb0f1f28b817e2017"
      }
     },
     "d10bbfd5b7ff487d9acbdbe51949e216": {
      "model_module": "@jupyter-widgets/controls",
      "model_module_version": "1.5.0",
      "model_name": "TextModel",
      "state": {
       "description": "x",
       "layout": "IPY_MODEL_4943cf66c13944f49d3da0c67ca449ba",
       "style": "IPY_MODEL_5198972c90754025a44a0025d39be986",
       "value": "Hi Pythonistas!"
      }
     },
     "d1de1b7354cf4dd0ad0595fb19856985": {
      "model_module": "@jupyter-widgets/base",
      "model_module_version": "1.2.0",
      "model_name": "LayoutModel",
      "state": {}
     },
     "d4380a9dd02247a1bfd53e416d9d19a6": {
      "model_module": "@jupyter-widgets/output",
      "model_module_version": "1.0.0",
      "model_name": "OutputModel",
      "state": {
       "layout": "IPY_MODEL_fbc78b4b7fd1494db1feae4e0003bc9b",
       "outputs": [
        {
         "data": {
          "text/plain": "'Hi Pythonistas!'"
         },
         "metadata": {},
         "output_type": "display_data"
        }
       ]
      }
     },
     "d5549e1794a240c39b8a407d4e5eee60": {
      "model_module": "@jupyter-widgets/base",
      "model_module_version": "1.2.0",
      "model_name": "LayoutModel",
      "state": {}
     },
     "d62df91d1d8c44cc8d1aeee11ceb97ea": {
      "model_module": "@jupyter-widgets/controls",
      "model_module_version": "1.5.0",
      "model_name": "IntSliderModel",
      "state": {
       "description": "x",
       "layout": "IPY_MODEL_d056fdf5f5bd4f61964b2643ee883cae",
       "max": 30,
       "min": -10,
       "style": "IPY_MODEL_bdc119a7db4845bcbedb091276eff0fb",
       "value": 10
      }
     },
     "d68423fa95ef495dafff8d56544bdc2d": {
      "model_module": "@jupyter-widgets/base",
      "model_module_version": "1.2.0",
      "model_name": "LayoutModel",
      "state": {}
     },
     "d6b9dc5c29a3444fa4e909188029cceb": {
      "model_module": "@jupyter-widgets/controls",
      "model_module_version": "1.5.0",
      "model_name": "IntSliderModel",
      "state": {
       "description": "x",
       "layout": "IPY_MODEL_68161ce8e3ef462d8fc4a12922c45817",
       "max": 30,
       "min": -10,
       "style": "IPY_MODEL_4c6ad66ab93a46a58d1c6a912505d5ea",
       "value": -10
      }
     },
     "d817894deb7b404e80aef69c21b3293f": {
      "model_module": "@jupyter-widgets/base",
      "model_module_version": "1.2.0",
      "model_name": "LayoutModel",
      "state": {}
     },
     "d983100311174ae6a11faf176856f785": {
      "model_module": "@jupyter-widgets/base",
      "model_module_version": "1.2.0",
      "model_name": "LayoutModel",
      "state": {}
     },
     "daf5e8ff53474300b71e56da86426f48": {
      "model_module": "@jupyter-widgets/controls",
      "model_module_version": "1.5.0",
      "model_name": "DescriptionStyleModel",
      "state": {
       "description_width": ""
      }
     },
     "dc3ecc0848ca4d5aaf538c9ccbf0947f": {
      "model_module": "@jupyter-widgets/controls",
      "model_module_version": "1.5.0",
      "model_name": "SliderStyleModel",
      "state": {
       "description_width": ""
      }
     },
     "de21e66adc8b496a9feff7a76fcff944": {
      "model_module": "@jupyter-widgets/base",
      "model_module_version": "1.2.0",
      "model_name": "LayoutModel",
      "state": {}
     },
     "de57a477cb0b466b94cfd49fa649f9ff": {
      "model_module": "@jupyter-widgets/base",
      "model_module_version": "1.2.0",
      "model_name": "LayoutModel",
      "state": {}
     },
     "df3ec808adee4bfe881adf5fb3cb7054": {
      "model_module": "@jupyter-widgets/base",
      "model_module_version": "1.2.0",
      "model_name": "LayoutModel",
      "state": {}
     },
     "e095007bc1ef4c82915da283bc06c2ec": {
      "model_module": "@jupyter-widgets/controls",
      "model_module_version": "1.5.0",
      "model_name": "SliderStyleModel",
      "state": {
       "description_width": ""
      }
     },
     "e1ef4f35546846c3b1bf9a001e86e5ed": {
      "model_module": "@jupyter-widgets/controls",
      "model_module_version": "1.5.0",
      "model_name": "SliderStyleModel",
      "state": {
       "description_width": ""
      }
     },
     "e1fe8efe2ccb47a0b42877e3d869a5a4": {
      "model_module": "@jupyter-widgets/base",
      "model_module_version": "1.2.0",
      "model_name": "LayoutModel",
      "state": {}
     },
     "e21c6286197c46edaa6feca834a227f3": {
      "model_module": "@jupyter-widgets/base",
      "model_module_version": "1.2.0",
      "model_name": "LayoutModel",
      "state": {}
     },
     "e2f9528df6de42c48e248f545c5864d1": {
      "model_module": "@jupyter-widgets/base",
      "model_module_version": "1.2.0",
      "model_name": "LayoutModel",
      "state": {}
     },
     "e42e19a3d281459eb4c2f293e260599c": {
      "model_module": "@jupyter-widgets/base",
      "model_module_version": "1.2.0",
      "model_name": "LayoutModel",
      "state": {}
     },
     "e45c7a51a9fa4593952914038b52adaa": {
      "model_module": "@jupyter-widgets/base",
      "model_module_version": "1.2.0",
      "model_name": "LayoutModel",
      "state": {}
     },
     "e56f700e0f38450bb2a02161d178cd38": {
      "model_module": "@jupyter-widgets/controls",
      "model_module_version": "1.5.0",
      "model_name": "DescriptionStyleModel",
      "state": {
       "description_width": ""
      }
     },
     "e602c19643884a058f69c5b9067c5cf0": {
      "model_module": "@jupyter-widgets/base",
      "model_module_version": "1.2.0",
      "model_name": "LayoutModel",
      "state": {}
     },
     "e7848b38cee6425ca321eb1b3bacb4de": {
      "model_module": "@jupyter-widgets/base",
      "model_module_version": "1.2.0",
      "model_name": "LayoutModel",
      "state": {}
     },
     "e7bd0587319a46bfb2db5f982210bfd1": {
      "model_module": "@jupyter-widgets/base",
      "model_module_version": "1.2.0",
      "model_name": "LayoutModel",
      "state": {}
     },
     "e9611b4a82024de7ac77d8ea635545ac": {
      "model_module": "@jupyter-widgets/controls",
      "model_module_version": "1.5.0",
      "model_name": "VBoxModel",
      "state": {
       "_dom_classes": [
        "widget-interact"
       ],
       "children": [
        "IPY_MODEL_aa047c48f6324171940232419f4fa60b",
        "IPY_MODEL_b25ac1da8ab14ab4b10ce3e922b655a3",
        "IPY_MODEL_5c2e49d7e2d64338968188441615275c"
       ],
       "layout": "IPY_MODEL_745efb6601b24eb9b4beab75e6cd5e0e"
      }
     },
     "e9ba89aab6044a65b11afd0ec777e25d": {
      "model_module": "@jupyter-widgets/controls",
      "model_module_version": "1.5.0",
      "model_name": "IntSliderModel",
      "state": {
       "description": "x",
       "layout": "IPY_MODEL_4784dd1ca8564604bd1f68afd8539127",
       "max": 30,
       "min": -10,
       "style": "IPY_MODEL_dc3ecc0848ca4d5aaf538c9ccbf0947f",
       "value": 10
      }
     },
     "e9de75b77a5a490880e5a5c0a217605d": {
      "model_module": "@jupyter-widgets/output",
      "model_module_version": "1.0.0",
      "model_name": "OutputModel",
      "state": {
       "layout": "IPY_MODEL_13b2d649c8e04c659eb3fd30a7ac2c28",
       "outputs": [
        {
         "data": {
          "text/plain": "10"
         },
         "metadata": {},
         "output_type": "display_data"
        }
       ]
      }
     },
     "e9eb2be77c664b34812345388c56ccac": {
      "model_module": "@jupyter-widgets/controls",
      "model_module_version": "1.5.0",
      "model_name": "IntSliderModel",
      "state": {
       "description": "x",
       "layout": "IPY_MODEL_c40627ce61834f2ebe1bd65e7e18a1d7",
       "max": 30,
       "min": -10,
       "style": "IPY_MODEL_3c04e1bd4de941e483397bb30ee87e02",
       "value": 10
      }
     },
     "e9fd42c2016141eea1c714efc5373652": {
      "model_module": "@jupyter-widgets/controls",
      "model_module_version": "1.5.0",
      "model_name": "TextModel",
      "state": {
       "description": "x",
       "layout": "IPY_MODEL_e42e19a3d281459eb4c2f293e260599c",
       "style": "IPY_MODEL_927a5a12629244e5b4b3a84d53da30c2",
       "value": "Hi Pythonistas!"
      }
     },
     "eb7427e8d0374cccb7fa5f5c24b15d83": {
      "model_module": "@jupyter-widgets/controls",
      "model_module_version": "1.5.0",
      "model_name": "DescriptionStyleModel",
      "state": {
       "description_width": ""
      }
     },
     "ebc900ad51374d37befedd2207018113": {
      "model_module": "@jupyter-widgets/base",
      "model_module_version": "1.2.0",
      "model_name": "LayoutModel",
      "state": {}
     },
     "ec2c3f95ad1a45f4a747c0f189b2d304": {
      "model_module": "@jupyter-widgets/controls",
      "model_module_version": "1.5.0",
      "model_name": "DescriptionStyleModel",
      "state": {
       "description_width": ""
      }
     },
     "ec3a24f523db48a1ab7089da3a39044d": {
      "model_module": "@jupyter-widgets/controls",
      "model_module_version": "1.5.0",
      "model_name": "SliderStyleModel",
      "state": {
       "description_width": ""
      }
     },
     "ec9598bbc52e41f8a5de33b5ca3d1ca1": {
      "model_module": "@jupyter-widgets/base",
      "model_module_version": "1.2.0",
      "model_name": "LayoutModel",
      "state": {}
     },
     "eea3a7b8adc94b4c9810148843dbd708": {
      "model_module": "@jupyter-widgets/output",
      "model_module_version": "1.0.0",
      "model_name": "OutputModel",
      "state": {
       "layout": "IPY_MODEL_6751177787c34a5f8dc9e5d660dbe80a",
       "outputs": [
        {
         "data": {
          "text/plain": "10"
         },
         "metadata": {},
         "output_type": "display_data"
        }
       ]
      }
     },
     "ef6116eddcef444caa2ed8dbbfaf52b5": {
      "model_module": "@jupyter-widgets/base",
      "model_module_version": "1.2.0",
      "model_name": "LayoutModel",
      "state": {}
     },
     "ef808d98630246919741b96f98d929b9": {
      "model_module": "@jupyter-widgets/output",
      "model_module_version": "1.0.0",
      "model_name": "OutputModel",
      "state": {
       "layout": "IPY_MODEL_65780c05144c46d3b2a5720811e8433d",
       "outputs": [
        {
         "data": {
          "text/plain": "(True, 1.0)"
         },
         "metadata": {},
         "output_type": "display_data"
        }
       ]
      }
     },
     "f026cb24058e48688aea5615af8d78bf": {
      "model_module": "@jupyter-widgets/base",
      "model_module_version": "1.2.0",
      "model_name": "LayoutModel",
      "state": {}
     },
     "f199bdaf8acb4d8f893ab6869c660b56": {
      "model_module": "@jupyter-widgets/base",
      "model_module_version": "1.2.0",
      "model_name": "LayoutModel",
      "state": {}
     },
     "f19db1f5078a4c67884fe5dc12e6caa9": {
      "model_module": "@jupyter-widgets/output",
      "model_module_version": "1.0.0",
      "model_name": "OutputModel",
      "state": {
       "layout": "IPY_MODEL_299b6328d78b493c9d73cbbf0e8bfb63",
       "outputs": [
        {
         "data": {
          "text/plain": "True"
         },
         "metadata": {},
         "output_type": "display_data"
        }
       ]
      }
     },
     "f1c9c371dc374ea48c1eef19b8358afe": {
      "model_module": "@jupyter-widgets/controls",
      "model_module_version": "1.5.0",
      "model_name": "CheckboxModel",
      "state": {
       "description": "x",
       "disabled": false,
       "layout": "IPY_MODEL_0e1f6723a4c14459a111677208056928",
       "style": "IPY_MODEL_44a057954d484cbcbcf78b272ca0a544",
       "value": true
      }
     },
     "f2c3b0cfd13f4175a14cd7dcaa6f9038": {
      "model_module": "@jupyter-widgets/base",
      "model_module_version": "1.2.0",
      "model_name": "LayoutModel",
      "state": {}
     },
     "f2e1a747404a46d18bb9ada40c61e535": {
      "model_module": "@jupyter-widgets/controls",
      "model_module_version": "1.5.0",
      "model_name": "VBoxModel",
      "state": {
       "_dom_classes": [
        "widget-interact"
       ],
       "layout": "IPY_MODEL_ec9598bbc52e41f8a5de33b5ca3d1ca1"
      }
     },
     "f2fb8fff468b41a680ac4dc8c4c42bf5": {
      "model_module": "@jupyter-widgets/output",
      "model_module_version": "1.0.0",
      "model_name": "OutputModel",
      "state": {
       "layout": "IPY_MODEL_22f71d0920974a13acf6973a9ee03492",
       "outputs": [
        {
         "data": {
          "text/plain": "(True, 1.0)"
         },
         "metadata": {},
         "output_type": "display_data"
        }
       ]
      }
     },
     "f38c6dfa6ca04ab7a1fd3b75871fada6": {
      "model_module": "@jupyter-widgets/output",
      "model_module_version": "1.0.0",
      "model_name": "OutputModel",
      "state": {
       "layout": "IPY_MODEL_3bf778a788a2459f899824721f4416fd",
       "outputs": [
        {
         "data": {
          "text/plain": "'Hi Pythonistas!'"
         },
         "metadata": {},
         "output_type": "display_data"
        }
       ]
      }
     },
     "f48737ff10f248a088ebda3e3f95537e": {
      "model_module": "@jupyter-widgets/controls",
      "model_module_version": "1.5.0",
      "model_name": "CheckboxModel",
      "state": {
       "description": "x",
       "disabled": false,
       "layout": "IPY_MODEL_1941f4c9f8e94f15a00af1be9d19f9d3",
       "style": "IPY_MODEL_5160fbcad8244b82ae1ce2a698a5d427",
       "value": true
      }
     },
     "f5078fb433454b2288963c935bcbf9ee": {
      "model_module": "@jupyter-widgets/controls",
      "model_module_version": "1.5.0",
      "model_name": "CheckboxModel",
      "state": {
       "description": "x",
       "disabled": false,
       "layout": "IPY_MODEL_b28834dc6d024cf3866501ab9385795f",
       "style": "IPY_MODEL_31e1d8598a5b4d6993809f4f20190602",
       "value": true
      }
     },
     "f7393b23c18949c5a074d00bea500ae0": {
      "model_module": "@jupyter-widgets/base",
      "model_module_version": "1.2.0",
      "model_name": "LayoutModel",
      "state": {}
     },
     "f85b0b8d052543d4965803ceb1a90f87": {
      "model_module": "@jupyter-widgets/controls",
      "model_module_version": "1.5.0",
      "model_name": "VBoxModel",
      "state": {
       "_dom_classes": [
        "widget-interact"
       ],
       "children": [
        "IPY_MODEL_d6b9dc5c29a3444fa4e909188029cceb",
        "IPY_MODEL_0095704b30cf41658845577d30254834"
       ],
       "layout": "IPY_MODEL_bd069a32bb4a4b39af4d59c127d6c0ac"
      }
     },
     "f8f69478643e40b6aae23dc351d7f82d": {
      "model_module": "@jupyter-widgets/base",
      "model_module_version": "1.2.0",
      "model_name": "LayoutModel",
      "state": {}
     },
     "fa79ae3fafcb4365b942f2d70fa926b8": {
      "model_module": "@jupyter-widgets/controls",
      "model_module_version": "1.5.0",
      "model_name": "SliderStyleModel",
      "state": {
       "description_width": ""
      }
     },
     "fbc78b4b7fd1494db1feae4e0003bc9b": {
      "model_module": "@jupyter-widgets/base",
      "model_module_version": "1.2.0",
      "model_name": "LayoutModel",
      "state": {}
     },
     "fd1a4fb979774b8ca6d6051a5bc451fa": {
      "model_module": "@jupyter-widgets/output",
      "model_module_version": "1.0.0",
      "model_name": "OutputModel",
      "state": {
       "layout": "IPY_MODEL_e21c6286197c46edaa6feca834a227f3",
       "outputs": [
        {
         "data": {
          "text/plain": "10"
         },
         "metadata": {},
         "output_type": "display_data"
        }
       ]
      }
     },
     "fd752270b9174ed0a2fe21d5bf5569f6": {
      "model_module": "@jupyter-widgets/output",
      "model_module_version": "1.0.0",
      "model_name": "OutputModel",
      "state": {
       "layout": "IPY_MODEL_294c9bd352824a38a416759829432ff3",
       "outputs": [
        {
         "data": {
          "text/plain": "10"
         },
         "metadata": {},
         "output_type": "display_data"
        }
       ]
      }
     },
     "fd7d1a79c1ac4e588eafc1a9f18558d8": {
      "model_module": "@jupyter-widgets/output",
      "model_module_version": "1.0.0",
      "model_name": "OutputModel",
      "state": {
       "layout": "IPY_MODEL_24a389ca5a054b8ebcd93d158a1007b5",
       "outputs": [
        {
         "data": {
          "text/plain": "(True, 1.0)"
         },
         "metadata": {},
         "output_type": "display_data"
        }
       ]
      }
     },
     "fe3be6fb62274657af873776075b3c4c": {
      "model_module": "@jupyter-widgets/controls",
      "model_module_version": "1.5.0",
      "model_name": "DescriptionStyleModel",
      "state": {
       "description_width": ""
      }
     },
     "fe3e734d861445bfb0fe3025b056a7d3": {
      "model_module": "@jupyter-widgets/base",
      "model_module_version": "1.2.0",
      "model_name": "LayoutModel",
      "state": {}
     },
     "fe841bc8c2f141729f283e38a7783771": {
      "model_module": "@jupyter-widgets/base",
      "model_module_version": "1.2.0",
      "model_name": "LayoutModel",
      "state": {}
     }
    },
    "version_major": 2,
    "version_minor": 0
   }
  }
 },
 "nbformat": 4,
 "nbformat_minor": 4
}
