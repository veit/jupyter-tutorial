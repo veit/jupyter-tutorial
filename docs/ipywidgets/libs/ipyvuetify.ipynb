{
 "cells": [
  {
   "cell_type": "markdown",
   "metadata": {},
   "source": [
    "# `ipyvuetify`\n",
    "\n",
    "[ipyvuetify](https://github.com/mariobuikhuizen/ipyvuetify) provides Jupyter widgets based on [vuetify](https://v15.vuetifyjs.com/en/) UI components and implementing Google’s [Material Design](https://material.io/) with the [Vue.js-Framework](https://vuejs.org/) framework."
   ]
  },
  {
   "cell_type": "markdown",
   "metadata": {},
   "source": [
    "## Installation\n",
    "\n",
    "```bash\n",
    "$ pipenv install ipyvuetify\n",
    "Installing ipyvuetify…\n",
    "…\n",
    "$ pipenv run jupyter nbextension enable --py --sys-prefix ipyvuetify\n",
    "Enabling notebook extension jupyter-vuetify/extension...\n",
    "      - Validating: OK\n",
    "```"
   ]
  },
  {
   "cell_type": "markdown",
   "metadata": {},
   "source": [
    "## Examples"
   ]
  },
  {
   "cell_type": "markdown",
   "metadata": {},
   "source": [
    "### Imports"
   ]
  },
  {
   "cell_type": "code",
   "execution_count": 1,
   "metadata": {},
   "outputs": [],
   "source": [
    "from threading import Timer\n",
    "\n",
    "import ipyvuetify as v\n",
    "import ipywidgets\n",
    "\n",
    "from traitlets import Any, List, Unicode"
   ]
  },
  {
   "cell_type": "markdown",
   "metadata": {},
   "source": [
    "### Menu"
   ]
  },
  {
   "cell_type": "code",
   "execution_count": 2,
   "metadata": {},
   "outputs": [
    {
     "data": {
      "application/vnd.jupyter.widget-view+json": {
       "model_id": "d7fecc6d425c40c2b085296c04a560b9",
       "version_major": 2,
       "version_minor": 0
      },
      "text/plain": [
       "Layout(children=[Menu(children=[List(children=[ListItem(children=[ListItemTitle(children=['Item 1'], layout=No…"
      ]
     },
     "metadata": {},
     "output_type": "display_data"
    }
   ],
   "source": [
    "def on_menu_click(widget, event, data):\n",
    "    if len(layout.children) == 1:\n",
    "        layout.children = layout.children + [info]\n",
    "    info.children = [f\"Item {items.index(widget)+1} clicked\"]\n",
    "\n",
    "\n",
    "items = [\n",
    "    v.ListItem(children=[v.ListItemTitle(children=[f\"Item {i}\"])])\n",
    "    for i in range(1, 5)\n",
    "]\n",
    "\n",
    "for item in items:\n",
    "    item.on_event(\"click\", on_menu_click)\n",
    "\n",
    "menu = v.Menu(\n",
    "    offset_y=True,\n",
    "    v_slots=[\n",
    "        {\n",
    "            \"name\": \"activator\",\n",
    "            \"variable\": \"menuData\",\n",
    "            \"children\": v.Btn(\n",
    "                v_on=\"menuData.on\",\n",
    "                class_=\"ma-2\",\n",
    "                color=\"primary\",\n",
    "                children=[\n",
    "                    \"menu\",\n",
    "                    v.Icon(right=True, children=[\"arrow_drop_down\"]),\n",
    "                ],\n",
    "            ),\n",
    "        }\n",
    "    ],\n",
    "    children=[v.List(children=items)],\n",
    ")\n",
    "\n",
    "info = v.Chip(class_=\"ma-2\")\n",
    "\n",
    "layout = v.Layout(children=[menu])\n",
    "layout"
   ]
  },
  {
   "cell_type": "markdown",
   "metadata": {},
   "source": [
    "### Buttons"
   ]
  },
  {
   "cell_type": "code",
   "execution_count": 3,
   "metadata": {},
   "outputs": [
    {
     "data": {
      "application/vnd.jupyter.widget-view+json": {
       "model_id": "d5a0c8276d124f7b92911d78b3d2a273",
       "version_major": 2,
       "version_minor": 0
      },
      "text/plain": [
       "Layout(children=[Btn(children=['primary'], color='primary', layout=None), Btn(children=['error'], color='error…"
      ]
     },
     "metadata": {},
     "output_type": "display_data"
    }
   ],
   "source": [
    "v.Layout(\n",
    "    children=[\n",
    "        v.Btn(color=\"primary\", children=[\"primary\"]),\n",
    "        v.Btn(color=\"error\", children=[\"error\"]),\n",
    "        v.Btn(disabled=True, children=[\"disabled\"]),\n",
    "        v.Btn(children=[\"reset\"]),\n",
    "    ]\n",
    ")"
   ]
  },
  {
   "cell_type": "code",
   "execution_count": 4,
   "metadata": {},
   "outputs": [
    {
     "data": {
      "application/vnd.jupyter.widget-view+json": {
       "model_id": "2a75c888b93941a1b5914cd3d66463fc",
       "version_major": 2,
       "version_minor": 0
      },
      "text/plain": [
       "Layout(children=[Btn(children=['flat'], color='primary', layout=None), Btn(children=['round'], color='primary'…"
      ]
     },
     "metadata": {},
     "output_type": "display_data"
    }
   ],
   "source": [
    "v.Layout(\n",
    "    children=[\n",
    "        v.Btn(color=\"primary\", flat=True, children=[\"flat\"]),\n",
    "        v.Btn(color=\"primary\", round=True, children=[\"round\"]),\n",
    "        v.Btn(\n",
    "            color=\"primary\",\n",
    "            flat=True,\n",
    "            icon=True,\n",
    "            children=[v.Icon(children=[\"thumb_up\"])],\n",
    "        ),\n",
    "        v.Btn(color=\"primary\", outline=True, children=[\"outline\"]),\n",
    "        v.Btn(\n",
    "            color=\"primary\",\n",
    "            fab=True,\n",
    "            large=True,\n",
    "            children=[v.Icon(children=[\"edit\"])],\n",
    "        ),\n",
    "    ]\n",
    ")"
   ]
  },
  {
   "cell_type": "code",
   "execution_count": 5,
   "metadata": {},
   "outputs": [
    {
     "data": {
      "application/vnd.jupyter.widget-view+json": {
       "model_id": "28842aa1bf4a4205b55fc82cbe55ca8b",
       "version_major": 2,
       "version_minor": 0
      },
      "text/plain": [
       "Layout(children=[Btn(children=['loader'], layout=None, loading=False)], layout=None)"
      ]
     },
     "metadata": {},
     "output_type": "display_data"
    }
   ],
   "source": [
    "def toggleLoading():\n",
    "    button2.loading = not button2.loading\n",
    "    button2.disabled = button2.loading\n",
    "\n",
    "\n",
    "def on_loader_click(*args):\n",
    "    toggleLoading()\n",
    "    Timer(2.0, toggleLoading).start()\n",
    "\n",
    "\n",
    "button2 = v.Btn(loading=False, children=[\"loader\"])\n",
    "button2.on_event(\"click\", on_loader_click)\n",
    "\n",
    "v.Layout(children=[button2])"
   ]
  },
  {
   "cell_type": "code",
   "execution_count": 6,
   "metadata": {},
   "outputs": [
    {
     "data": {
      "application/vnd.jupyter.widget-view+json": {
       "model_id": "707a8bbf4d6b48a196d427ab5952f2cf",
       "version_major": 2,
       "version_minor": 0
      },
      "text/plain": [
       "Layout(children=[BtnToggle(children=[Btn(children=[Icon(children=['format_align_left'], layout=None)], layout=…"
      ]
     },
     "metadata": {},
     "output_type": "display_data"
    }
   ],
   "source": [
    "toggle_single = v.BtnToggle(\n",
    "    v_model=2,\n",
    "    class_=\"mr-3\",\n",
    "    children=[\n",
    "        v.Btn(flat=True, children=[v.Icon(children=[\"format_align_left\"])]),\n",
    "        v.Btn(flat=True, children=[v.Icon(children=[\"format_align_center\"])]),\n",
    "        v.Btn(flat=True, children=[v.Icon(children=[\"format_align_right\"])]),\n",
    "        v.Btn(flat=True, children=[v.Icon(children=[\"format_align_justify\"])]),\n",
    "    ],\n",
    ")\n",
    "\n",
    "toggle_multi = v.BtnToggle(\n",
    "    v_model=[0, 2],\n",
    "    multiple=True,\n",
    "    children=[\n",
    "        v.Btn(flat=True, children=[v.Icon(children=[\"format_bold\"])]),\n",
    "        v.Btn(flat=True, children=[v.Icon(children=[\"format_italic\"])]),\n",
    "        v.Btn(flat=True, children=[v.Icon(children=[\"format_underline\"])]),\n",
    "        v.Btn(flat=True, children=[v.Icon(children=[\"format_color_fill\"])]),\n",
    "    ],\n",
    ")\n",
    "\n",
    "v.Layout(\n",
    "    children=[\n",
    "        toggle_single,\n",
    "        toggle_multi,\n",
    "    ]\n",
    ")"
   ]
  },
  {
   "cell_type": "code",
   "execution_count": 7,
   "metadata": {},
   "outputs": [
    {
     "data": {
      "application/vnd.jupyter.widget-view+json": {
       "model_id": "a083ef1b7ace4414b2d920372c68fcb5",
       "version_major": 2,
       "version_minor": 0
      },
      "text/plain": [
       "Layout(children=[Btn(children=[Icon(children=['fingerprint'], layout=None, left=True), 'Icon left'], color='pr…"
      ]
     },
     "metadata": {},
     "output_type": "display_data"
    }
   ],
   "source": [
    "v.Layout(children=[\n",
    "    v.Btn(color='primary', children=[\n",
    "        v.Icon(left=True, children=['fingerprint']),\n",
    "        'Icon left'\n",
    "    ]),\n",
    "    v.Btn(color='primary', children=[\n",
    "        'Icon right',\n",
    "        v.Icon(right=True, children=['fingerprint']),\n",
    "    ]),\n",
    "    v.Tooltip(bottom=True, children=[\n",
    "        v.Btn(slot='activator', color='primary', children=[\n",
    "           'tooltip' \n",
    "        ]),\n",
    "        'Insert tooltip text here'\n",
    "    ])    \n",
    "])"
   ]
  },
  {
   "cell_type": "code",
   "execution_count": 8,
   "metadata": {},
   "outputs": [
    {
     "data": {
      "application/vnd.jupyter.widget-view+json": {
       "model_id": "6d674685ac144f5dbfd3bb4abf018f91",
       "version_major": 2,
       "version_minor": 0
      },
      "text/plain": [
       "Layout(children=[Btn(children=[Icon(children=['fingerprint'], layout=None, left=True), 'Icon left'], color='pr…"
      ]
     },
     "metadata": {},
     "output_type": "display_data"
    }
   ],
   "source": [
    "v.Layout(\n",
    "    children=[\n",
    "        v.Btn(\n",
    "            color=\"primary\",\n",
    "            children=[\n",
    "                v.Icon(left=True, children=[\"fingerprint\"]),\n",
    "                \"Icon left\",\n",
    "            ],\n",
    "        ),\n",
    "        v.Btn(\n",
    "            color=\"primary\",\n",
    "            children=[\n",
    "                \"Icon right\",\n",
    "                v.Icon(right=True, children=[\"fingerprint\"]),\n",
    "            ],\n",
    "        ),\n",
    "        v.Tooltip(\n",
    "            bottom=True,\n",
    "            children=[\n",
    "                v.Btn(slot=\"activator\", color=\"primary\", children=[\"tooltip\"]),\n",
    "                \"Insert tooltip text here\",\n",
    "            ],\n",
    "        ),\n",
    "    ]\n",
    ")"
   ]
  },
  {
   "cell_type": "markdown",
   "metadata": {},
   "source": [
    "### Slider"
   ]
  },
  {
   "cell_type": "code",
   "execution_count": 9,
   "metadata": {},
   "outputs": [
    {
     "data": {
      "application/vnd.jupyter.widget-view+json": {
       "model_id": "fd901b643f754e1eb496254bd47cbcd8",
       "version_major": 2,
       "version_minor": 0
      },
      "text/plain": [
       "Container(children=[Slider(layout=None, v_model=25), Slider(layout=None, thumb_label=True, v_model=25)], layou…"
      ]
     },
     "metadata": {},
     "output_type": "display_data"
    }
   ],
   "source": [
    "slider = v.Slider(v_model=25)\n",
    "slider2 = v.Slider(thumb_label=True, v_model=25)\n",
    "slider3 = v.Slider(thumb_label=\"always\", v_model=25)\n",
    "\n",
    "ipywidgets.jslink((slider, \"v_model\"), (slider2, \"v_model\"))\n",
    "\n",
    "v.Container(\n",
    "    children=[\n",
    "        slider,\n",
    "        slider2,\n",
    "    ]\n",
    ")"
   ]
  },
  {
   "cell_type": "markdown",
   "metadata": {},
   "source": [
    "### Tabs"
   ]
  },
  {
   "cell_type": "code",
   "execution_count": 10,
   "metadata": {},
   "outputs": [
    {
     "data": {
      "application/vnd.jupyter.widget-view+json": {
       "model_id": "db5cceb51be144b9a93636b3cc906169",
       "version_major": 2,
       "version_minor": 0
      },
      "text/plain": [
       "Tabs(children=[Tab(children=['Tab 1'], layout=None), Tab(children=['Tab 2'], layout=None), Tab(children=['Tab …"
      ]
     },
     "metadata": {},
     "output_type": "display_data"
    }
   ],
   "source": [
    "lorum_ipsum = \"Lorem ipsum dolor sit amet, consectetur adipiscing elit, sed do eiusmod tempor incididunt ut labore et dolore magna aliqua.\"\n",
    "tab_list = [v.Tab(children=[\"Tab \" + str(i)]) for i in range(1, 4)]\n",
    "content_list = [v.TabItem(children=[lorum_ipsum]) for i in range(1, 4)]\n",
    "tabs = v.Tabs(v_model=1, children=tab_list + content_list)\n",
    "tabs"
   ]
  },
  {
   "cell_type": "markdown",
   "metadata": {},
   "source": [
    "### Accordion"
   ]
  },
  {
   "cell_type": "code",
   "execution_count": 11,
   "metadata": {},
   "outputs": [
    {
     "data": {
      "application/vnd.jupyter.widget-view+json": {
       "model_id": "0cdf46b3253348ba96a3998883d4204e",
       "version_major": 2,
       "version_minor": 0
      },
      "text/plain": [
       "Layout(children=[ExpansionPanels(children=[ExpansionPanel(children=[ExpansionPanelHeader(children=['item1'], l…"
      ]
     },
     "metadata": {},
     "output_type": "display_data"
    }
   ],
   "source": [
    "vepc1 = v.ExpansionPanel(\n",
    "    children=[\n",
    "        v.ExpansionPanelHeader(children=[\"item1\"]),\n",
    "        v.ExpansionPanelContent(children=[\"First Text\"]),\n",
    "    ]\n",
    ")\n",
    "\n",
    "vepc2 = v.ExpansionPanel(\n",
    "    children=[\n",
    "        v.ExpansionPanelHeader(children=[\"item2\"]),\n",
    "        v.ExpansionPanelContent(children=[\"Second Text\"]),\n",
    "    ]\n",
    ")\n",
    "\n",
    "vep = v.ExpansionPanels(children=[vepc1, vepc2])\n",
    "vl = v.Layout(class_=\"pa-4\", children=[vep])\n",
    "vl"
   ]
  },
  {
   "cell_type": "markdown",
   "metadata": {},
   "source": [
    "You can search for all available components and attributes in the [Vuetify documentation](https://v15.vuetifyjs.com/en/components/buttons). Ipyvuetify is based on the syntax of Vue.js- and Vuetify, but there are also some differences:\n",
    "\n",
    "| Description | Vuetify | ipyvuetify |\n",
    "| ------------- | --------- | ------------ |\n",
    "| Component names are written in CamelCase and the `v`-prefix is removed | `<v-list-tile …/>` | `ListTile(…)` |\n",
    "| Child components and text are defined in the child traitlet | `<v-btn>text <v-icon …/></v-btn>` | `Btn(children=['text', Icon(…)])` |\n",
    "| Flag attributes require a Boolean value | `<v-btn round …` | `Btn(round=True …` |\n",
    "| Attributes are snake_case | `<v-menu offset-y …` | `Menu(offset_y=True …` |\n",
    "| The `v_model` attribute (value in ipywidgets) receives the value directly | `<v-slider v-model=\"some_property\" …` | `Slider(v_model=25…` |\n",
    "| The scope of `slot` cannot currently be specified | `<v-menu><template slot:activator=\"{ on }\"><v-btn v-on=on>` | `Menu(children=[Btn(slot='activator',…), …]`\n",
    "| Event listeners are defined with `on_event` | `<v-btn @click='someMethod()' …` | `def some_method (widget, event, data):` mit `button.on_event('click', some_method)` |\n",
    "| Regular HTML tags can be created with the `Html` class | `<div>…</div>` | `Html(tag='div', children=[…])` |\n",
    "| An underscore must be added to the `class` and `style` attributes | `<v-btn class=\"mr-3\" style=\"…\" >` | `Btn(class_='mr-3', style_='…')` |"
   ]
  },
  {
   "cell_type": "markdown",
   "metadata": {},
   "source": [
    "## `VuetifyTemplate`\n",
    "\n",
    "You can get a closer match with the Vue/Vuetify API with `VuetifyTemplate`. For this you create a subclass of `VuetifyTemplate` and define your own traitlets. The traitlets can be accessed via the template as if they were in a Vue model. Methods can be defined with the prefix `vue_`, e.g. `def vue_button_click(self, data)`, which can then be called with `@click=\"button_click(e)\"`. In the following I show you a table with search, sorting and number of lines:"
   ]
  },
  {
   "cell_type": "code",
   "execution_count": 12,
   "metadata": {},
   "outputs": [
    {
     "data": {
      "application/vnd.jupyter.widget-view+json": {
       "model_id": "98d4a9d64d1c43cb9e57190483ca7876",
       "version_major": 2,
       "version_minor": 0
      },
      "text/plain": [
       "PandasDataFrame(headers=[{'text': 'index', 'value': 'index', 'align': 'left', 'sortable': True}, {'text': 'sep…"
      ]
     },
     "metadata": {},
     "output_type": "display_data"
    }
   ],
   "source": [
    "import json\n",
    "\n",
    "import ipyvuetify as v\n",
    "import pandas as pd\n",
    "import traitlets\n",
    "\n",
    "\n",
    "class PandasDataFrame(v.VuetifyTemplate):\n",
    "    \"\"\"\n",
    "    Vuetify DataTable rendering of a pandas DataFrame\n",
    "\n",
    "    Args:\n",
    "        data (DataFrame) - the data to render\n",
    "        title (str) - optional title\n",
    "    \"\"\"\n",
    "\n",
    "    headers = traitlets.List([]).tag(sync=True, allow_null=True)\n",
    "    items = traitlets.List([]).tag(sync=True, allow_null=True)\n",
    "    search = traitlets.Unicode(\"\").tag(sync=True)\n",
    "    title = traitlets.Unicode(\"DataFrame\").tag(sync=True)\n",
    "    index_col = traitlets.Unicode(\"\").tag(sync=True)\n",
    "    template = traitlets.Unicode(\n",
    "        \"\"\"\n",
    "        <template>\n",
    "          <v-card>\n",
    "            <v-card-title>\n",
    "              <span class=\"title font-weight-bold\">{{ title }}</span>\n",
    "              <v-spacer></v-spacer>\n",
    "                <v-text-field\n",
    "                    v-model=\"search\"\n",
    "                    append-icon=\"search\"\n",
    "                    label=\"Search ...\"\n",
    "                    single-line\n",
    "                    hide-details\n",
    "                ></v-text-field>\n",
    "            </v-card-title>\n",
    "            <v-data-table\n",
    "                :headers=\"headers\"\n",
    "                :items=\"items\"\n",
    "                :search=\"search\"\n",
    "                :item-key=\"index_col\"\n",
    "                :rows-per-page-items=\"[25, 50, 250, 500]\"\n",
    "            >\n",
    "                <template v-slot:no-data>\n",
    "                  <v-alert :value=\"true\" color=\"error\" icon=\"warning\">\n",
    "                    Sorry, nothing to display here :(\n",
    "                  </v-alert>\n",
    "                </template>\n",
    "                <template v-slot:no-results>\n",
    "                    <v-alert :value=\"true\" color=\"error\" icon=\"warning\">\n",
    "                      Your search for \"{{ search }}\" found no results.\n",
    "                    </v-alert>\n",
    "                </template>\n",
    "                <template v-slot:items=\"rows\">\n",
    "                  <td v-for=\"(element, label, index) in rows.item\"\n",
    "                      @click=cell_click(element)\n",
    "                      >\n",
    "                    {{ element }}\n",
    "                  </td>\n",
    "                </template>\n",
    "            </v-data-table>\n",
    "          </v-card>\n",
    "        </template>\n",
    "        \"\"\"\n",
    "    ).tag(sync=True)\n",
    "\n",
    "    def __init__(self, *args, data=pd.DataFrame(), title=None, **kwargs):\n",
    "        super().__init__(*args, **kwargs)\n",
    "        data = data.reset_index()\n",
    "        self.index_col = data.columns[0]\n",
    "        headers = [{\"text\": col, \"value\": col} for col in data.columns]\n",
    "        headers[0].update({\"align\": \"left\", \"sortable\": True})\n",
    "        self.headers = headers\n",
    "        self.items = json.loads(data.to_json(orient=\"records\"))\n",
    "        if title is not None:\n",
    "            self.title = title\n",
    "\n",
    "\n",
    "iris = pd.read_csv(\n",
    "    \"https://raw.githubusercontent.com/mwaskom/seaborn-data/master/iris.csv\"\n",
    ")\n",
    "test = PandasDataFrame(data=iris, title=\"Iris\")\n",
    "test"
   ]
  },
  {
   "cell_type": "code",
   "execution_count": 13,
   "metadata": {},
   "outputs": [
    {
     "data": {
      "application/vnd.jupyter.widget-view+json": {
       "model_id": "1105a8e934fa4793aeeeb7e0d0d0bc4d",
       "version_major": 2,
       "version_minor": 0
      },
      "text/plain": [
       "Banner(children=['One line message text string with two actions on tablet / Desktop'], layout=None, single_lin…"
      ]
     },
     "metadata": {},
     "output_type": "display_data"
    }
   ],
   "source": [
    "v.Banner(\n",
    "    single_line=True,\n",
    "    v_slots=[\n",
    "        {\"name\": \"icon\", \"children\": v.Icon(children=[\"thumb_up\"])},\n",
    "        {\n",
    "            \"name\": \"actions\",\n",
    "            \"children\": v.Btn(\n",
    "                text=True, color=\"deep-purple accent-4\", children=[\"Action\"]\n",
    "            ),\n",
    "        },\n",
    "    ],\n",
    "    children=[\n",
    "        \"One line message text string with two actions on tablet / Desktop\"\n",
    "    ],\n",
    ")"
   ]
  }
 ],
 "metadata": {
  "kernelspec": {
   "display_name": "Python 3.11 Kernel",
   "language": "python",
   "name": "python311"
  },
  "language_info": {
   "codemirror_mode": {
    "name": "ipython",
    "version": 3
   },
   "file_extension": ".py",
   "mimetype": "text/x-python",
   "name": "python",
   "nbconvert_exporter": "python",
   "pygments_lexer": "ipython3",
   "version": "3.11.4"
  },
  "latex_envs": {
   "LaTeX_envs_menu_present": true,
   "autoclose": false,
   "autocomplete": true,
   "bibliofile": "biblio.bib",
   "cite_by": "apalike",
   "current_citInitial": 1,
   "eqLabelWithNumbers": true,
   "eqNumInitial": 1,
   "hotkeys": {
    "equation": "Ctrl-E",
    "itemize": "Ctrl-I"
   },
   "labels_anchors": false,
   "latex_user_defs": false,
   "report_style_numbering": false,
   "user_envs_cfg": false
  },
  "varInspector": {
   "cols": {
    "lenName": 16,
    "lenType": 16,
    "lenVar": 40
   },
   "kernels_config": {
    "python": {
     "delete_cmd_postfix": "",
     "delete_cmd_prefix": "del ",
     "library": "var_list.py",
     "varRefreshCmd": "print(var_dic_list())"
    },
    "r": {
     "delete_cmd_postfix": ") ",
     "delete_cmd_prefix": "rm(",
     "library": "var_list.r",
     "varRefreshCmd": "cat(var_dic_list()) "
    }
   },
   "types_to_exclude": [
    "module",
    "function",
    "builtin_function_or_method",
    "instance",
    "_Feature"
   ],
   "window_display": false
  },
  "widgets": {
   "application/vnd.jupyter.widget-state+json": {
    "state": {
     "000576ddf5d44799b2f9f4e8186d9f60": {
      "model_module": "@jupyter-widgets/base",
      "model_module_version": "1.2.0",
      "model_name": "LayoutModel",
      "state": {}
     },
     "00fbed851b8142debc3f2aae154198fe": {
      "model_module": "@jupyter-widgets/base",
      "model_module_version": "1.2.0",
      "model_name": "LayoutModel",
      "state": {}
     },
     "0174bb6217c448e18814e6f7731ec2b7": {
      "model_module": "jupyter-vuetify",
      "model_module_version": "^0.1.11",
      "model_name": "MenuModel",
      "state": {
       "_events": [],
       "children": [
        "IPY_MODEL_11dcdad4169b4426a7225a5d15e76136",
        "IPY_MODEL_34c9cc6b52504a56a751fb4328f34543"
       ],
       "close_delay": null,
       "layout": "IPY_MODEL_e0c7ce2d4fd64d66af6ca0da0cc5677e",
       "max_width": null,
       "min_width": null,
       "nudge_bottom": null,
       "nudge_left": null,
       "nudge_right": null,
       "nudge_top": null,
       "nudge_width": null,
       "offset_y": true,
       "open_delay": null,
       "transition": null,
       "z_index": null
      }
     },
     "01b58fd7e3ad41f2a523f958be47f3be": {
      "model_module": "@jupyter-widgets/base",
      "model_module_version": "1.2.0",
      "model_name": "LayoutModel",
      "state": {}
     },
     "01b59a0c4998490d8c05fcd45aa0ce63": {
      "model_module": "@jupyter-widgets/base",
      "model_module_version": "1.2.0",
      "model_name": "LayoutModel",
      "state": {}
     },
     "01ff8773261942d793d00602c828411c": {
      "model_module": "jupyter-vuetify",
      "model_module_version": "^0.1.11",
      "model_name": "BtnModel",
      "state": {
       "_events": [],
       "children": [
        "IPY_MODEL_ace1db8811864e388a112da781dc8c35"
       ],
       "flat": true,
       "href": null,
       "layout": "IPY_MODEL_400f67b73c74403c943e5d8c5046d56e",
       "ripple": null,
       "to": null
      }
     },
     "023ca8985d9a441cbd600302326398d0": {
      "model_module": "jupyter-vuetify",
      "model_module_version": "^0.1.11",
      "model_name": "BtnModel",
      "state": {
       "_events": [],
       "children": [
        "IPY_MODEL_4f35498b1838422098af1ed9d096752f"
       ],
       "color": "primary",
       "flat": true,
       "href": null,
       "icon": true,
       "layout": "IPY_MODEL_8c3c93d28b51469a84e90eccf941305f",
       "ripple": null,
       "to": null
      }
     },
     "027357420e3848f9b9e05a709d0c3f72": {
      "model_module": "jupyter-vuetify",
      "model_module_version": "^0.1.11",
      "model_name": "BtnModel",
      "state": {
       "_events": [],
       "children": [
        "round"
       ],
       "color": "primary",
       "href": null,
       "layout": "IPY_MODEL_f7fccbf94d9541b8a20daadac039866b",
       "ripple": null,
       "round": true,
       "to": null
      }
     },
     "03139d235c544139b2f9d3d56b787230": {
      "model_module": "jupyter-vuetify",
      "model_module_version": "^0.1.11",
      "model_name": "BtnModel",
      "state": {
       "_events": [],
       "children": [
        "IPY_MODEL_5775d36d10754a8dbebdf438f93ff673",
        "Icon left"
       ],
       "color": "primary",
       "href": null,
       "layout": "IPY_MODEL_b530c257b46f4cd691db70fe227cd25a",
       "ripple": null,
       "to": null
      }
     },
     "04aeaa30a6d64824954a2f645495d804": {
      "model_module": "@jupyter-widgets/base",
      "model_module_version": "1.2.0",
      "model_name": "LayoutModel",
      "state": {}
     },
     "04cfd8156ab4409fae4b30ba31a82b59": {
      "model_module": "@jupyter-widgets/base",
      "model_module_version": "1.2.0",
      "model_name": "LayoutModel",
      "state": {}
     },
     "05078ea18a3c4abb9bcb24c7f02b8143": {
      "model_module": "jupyter-vuetify",
      "model_module_version": "^0.1.11",
      "model_name": "LayoutModel",
      "state": {
       "_events": [],
       "children": [
        "IPY_MODEL_4b7db65e8df04715811c0045f4dd9b1c"
       ],
       "layout": "IPY_MODEL_2d2f7462ed9c47b78887154eac993b07"
      }
     },
     "05893847b57f4818a52985469a30f789": {
      "model_module": "jupyter-vuetify",
      "model_module_version": "^0.1.11",
      "model_name": "BtnModel",
      "state": {
       "_events": [],
       "children": [
        "round"
       ],
       "color": "primary",
       "href": null,
       "layout": "IPY_MODEL_9139d9ce81834c4c901cb46e9ead7197",
       "ripple": null,
       "round": true,
       "to": null
      }
     },
     "05aa1322be35479b9bd39c4792b46ae9": {
      "model_module": "@jupyter-widgets/base",
      "model_module_version": "1.2.0",
      "model_name": "LayoutModel",
      "state": {}
     },
     "0676f032e3d0436ea37ea7dc01aa09fb": {
      "model_module": "jupyter-vuetify",
      "model_module_version": "^0.1.11",
      "model_name": "LayoutModel",
      "state": {
       "_events": [],
       "children": [
        "IPY_MODEL_8f2b98bf08614db2aa5b15f093b24a65",
        "IPY_MODEL_ead3838e4f6d461cb841ce8d31cfbe17"
       ],
       "layout": "IPY_MODEL_05aa1322be35479b9bd39c4792b46ae9"
      }
     },
     "0745dc7cf27b4c7fb6999fc14b51e396": {
      "model_module": "jupyter-vuetify",
      "model_module_version": "^0.1.11",
      "model_name": "TabItemModel",
      "state": {
       "_events": [],
       "children": [
        "Lorem ipsum dolor sit amet, consectetur adipiscing elit, sed do eiusmod tempor incididunt ut labore et dolore magna aliqua."
       ],
       "layout": "IPY_MODEL_b6fc5a6da4954ce88199b86270f8f071",
       "reverse_transition": null,
       "transition": null
      }
     },
     "076543c9ee684691959861dc37cd1423": {
      "model_module": "jupyter-vuetify",
      "model_module_version": "^0.1.11",
      "model_name": "VuetifyTemplateModel",
      "state": {
       "_model_module_version": "^0.1.11",
       "_view_module_version": "^0.1.11",
       "_view_name": "VuetifyView",
       "components": null,
       "events": [],
       "headers": [
        {
         "align": "left",
         "sortable": true,
         "text": "index",
         "value": "index"
        },
        {
         "text": "sepal_length",
         "value": "sepal_length"
        },
        {
         "text": "sepal_width",
         "value": "sepal_width"
        },
        {
         "text": "petal_length",
         "value": "petal_length"
        },
        {
         "text": "petal_width",
         "value": "petal_width"
        },
        {
         "text": "species",
         "value": "species"
        }
       ],
       "index_col": "index",
       "items": [
        {
         "index": 0,
         "petal_length": 1.4,
         "petal_width": 0.2,
         "sepal_length": 5.1,
         "sepal_width": 3.5,
         "species": "setosa"
        },
        {
         "index": 1,
         "petal_length": 1.4,
         "petal_width": 0.2,
         "sepal_length": 4.9,
         "sepal_width": 3,
         "species": "setosa"
        },
        {
         "index": 2,
         "petal_length": 1.3,
         "petal_width": 0.2,
         "sepal_length": 4.7,
         "sepal_width": 3.2,
         "species": "setosa"
        },
        {
         "index": 3,
         "petal_length": 1.5,
         "petal_width": 0.2,
         "sepal_length": 4.6,
         "sepal_width": 3.1,
         "species": "setosa"
        },
        {
         "index": 4,
         "petal_length": 1.4,
         "petal_width": 0.2,
         "sepal_length": 5,
         "sepal_width": 3.6,
         "species": "setosa"
        },
        {
         "index": 5,
         "petal_length": 1.7,
         "petal_width": 0.4,
         "sepal_length": 5.4,
         "sepal_width": 3.9,
         "species": "setosa"
        },
        {
         "index": 6,
         "petal_length": 1.4,
         "petal_width": 0.3,
         "sepal_length": 4.6,
         "sepal_width": 3.4,
         "species": "setosa"
        },
        {
         "index": 7,
         "petal_length": 1.5,
         "petal_width": 0.2,
         "sepal_length": 5,
         "sepal_width": 3.4,
         "species": "setosa"
        },
        {
         "index": 8,
         "petal_length": 1.4,
         "petal_width": 0.2,
         "sepal_length": 4.4,
         "sepal_width": 2.9,
         "species": "setosa"
        },
        {
         "index": 9,
         "petal_length": 1.5,
         "petal_width": 0.1,
         "sepal_length": 4.9,
         "sepal_width": 3.1,
         "species": "setosa"
        },
        {
         "index": 10,
         "petal_length": 1.5,
         "petal_width": 0.2,
         "sepal_length": 5.4,
         "sepal_width": 3.7,
         "species": "setosa"
        },
        {
         "index": 11,
         "petal_length": 1.6,
         "petal_width": 0.2,
         "sepal_length": 4.8,
         "sepal_width": 3.4,
         "species": "setosa"
        },
        {
         "index": 12,
         "petal_length": 1.4,
         "petal_width": 0.1,
         "sepal_length": 4.8,
         "sepal_width": 3,
         "species": "setosa"
        },
        {
         "index": 13,
         "petal_length": 1.1,
         "petal_width": 0.1,
         "sepal_length": 4.3,
         "sepal_width": 3,
         "species": "setosa"
        },
        {
         "index": 14,
         "petal_length": 1.2,
         "petal_width": 0.2,
         "sepal_length": 5.8,
         "sepal_width": 4,
         "species": "setosa"
        },
        {
         "index": 15,
         "petal_length": 1.5,
         "petal_width": 0.4,
         "sepal_length": 5.7,
         "sepal_width": 4.4,
         "species": "setosa"
        },
        {
         "index": 16,
         "petal_length": 1.3,
         "petal_width": 0.4,
         "sepal_length": 5.4,
         "sepal_width": 3.9,
         "species": "setosa"
        },
        {
         "index": 17,
         "petal_length": 1.4,
         "petal_width": 0.3,
         "sepal_length": 5.1,
         "sepal_width": 3.5,
         "species": "setosa"
        },
        {
         "index": 18,
         "petal_length": 1.7,
         "petal_width": 0.3,
         "sepal_length": 5.7,
         "sepal_width": 3.8,
         "species": "setosa"
        },
        {
         "index": 19,
         "petal_length": 1.5,
         "petal_width": 0.3,
         "sepal_length": 5.1,
         "sepal_width": 3.8,
         "species": "setosa"
        },
        {
         "index": 20,
         "petal_length": 1.7,
         "petal_width": 0.2,
         "sepal_length": 5.4,
         "sepal_width": 3.4,
         "species": "setosa"
        },
        {
         "index": 21,
         "petal_length": 1.5,
         "petal_width": 0.4,
         "sepal_length": 5.1,
         "sepal_width": 3.7,
         "species": "setosa"
        },
        {
         "index": 22,
         "petal_length": 1,
         "petal_width": 0.2,
         "sepal_length": 4.6,
         "sepal_width": 3.6,
         "species": "setosa"
        },
        {
         "index": 23,
         "petal_length": 1.7,
         "petal_width": 0.5,
         "sepal_length": 5.1,
         "sepal_width": 3.3,
         "species": "setosa"
        },
        {
         "index": 24,
         "petal_length": 1.9,
         "petal_width": 0.2,
         "sepal_length": 4.8,
         "sepal_width": 3.4,
         "species": "setosa"
        },
        {
         "index": 25,
         "petal_length": 1.6,
         "petal_width": 0.2,
         "sepal_length": 5,
         "sepal_width": 3,
         "species": "setosa"
        },
        {
         "index": 26,
         "petal_length": 1.6,
         "petal_width": 0.4,
         "sepal_length": 5,
         "sepal_width": 3.4,
         "species": "setosa"
        },
        {
         "index": 27,
         "petal_length": 1.5,
         "petal_width": 0.2,
         "sepal_length": 5.2,
         "sepal_width": 3.5,
         "species": "setosa"
        },
        {
         "index": 28,
         "petal_length": 1.4,
         "petal_width": 0.2,
         "sepal_length": 5.2,
         "sepal_width": 3.4,
         "species": "setosa"
        },
        {
         "index": 29,
         "petal_length": 1.6,
         "petal_width": 0.2,
         "sepal_length": 4.7,
         "sepal_width": 3.2,
         "species": "setosa"
        },
        {
         "index": 30,
         "petal_length": 1.6,
         "petal_width": 0.2,
         "sepal_length": 4.8,
         "sepal_width": 3.1,
         "species": "setosa"
        },
        {
         "index": 31,
         "petal_length": 1.5,
         "petal_width": 0.4,
         "sepal_length": 5.4,
         "sepal_width": 3.4,
         "species": "setosa"
        },
        {
         "index": 32,
         "petal_length": 1.5,
         "petal_width": 0.1,
         "sepal_length": 5.2,
         "sepal_width": 4.1,
         "species": "setosa"
        },
        {
         "index": 33,
         "petal_length": 1.4,
         "petal_width": 0.2,
         "sepal_length": 5.5,
         "sepal_width": 4.2,
         "species": "setosa"
        },
        {
         "index": 34,
         "petal_length": 1.5,
         "petal_width": 0.2,
         "sepal_length": 4.9,
         "sepal_width": 3.1,
         "species": "setosa"
        },
        {
         "index": 35,
         "petal_length": 1.2,
         "petal_width": 0.2,
         "sepal_length": 5,
         "sepal_width": 3.2,
         "species": "setosa"
        },
        {
         "index": 36,
         "petal_length": 1.3,
         "petal_width": 0.2,
         "sepal_length": 5.5,
         "sepal_width": 3.5,
         "species": "setosa"
        },
        {
         "index": 37,
         "petal_length": 1.4,
         "petal_width": 0.1,
         "sepal_length": 4.9,
         "sepal_width": 3.6,
         "species": "setosa"
        },
        {
         "index": 38,
         "petal_length": 1.3,
         "petal_width": 0.2,
         "sepal_length": 4.4,
         "sepal_width": 3,
         "species": "setosa"
        },
        {
         "index": 39,
         "petal_length": 1.5,
         "petal_width": 0.2,
         "sepal_length": 5.1,
         "sepal_width": 3.4,
         "species": "setosa"
        },
        {
         "index": 40,
         "petal_length": 1.3,
         "petal_width": 0.3,
         "sepal_length": 5,
         "sepal_width": 3.5,
         "species": "setosa"
        },
        {
         "index": 41,
         "petal_length": 1.3,
         "petal_width": 0.3,
         "sepal_length": 4.5,
         "sepal_width": 2.3,
         "species": "setosa"
        },
        {
         "index": 42,
         "petal_length": 1.3,
         "petal_width": 0.2,
         "sepal_length": 4.4,
         "sepal_width": 3.2,
         "species": "setosa"
        },
        {
         "index": 43,
         "petal_length": 1.6,
         "petal_width": 0.6,
         "sepal_length": 5,
         "sepal_width": 3.5,
         "species": "setosa"
        },
        {
         "index": 44,
         "petal_length": 1.9,
         "petal_width": 0.4,
         "sepal_length": 5.1,
         "sepal_width": 3.8,
         "species": "setosa"
        },
        {
         "index": 45,
         "petal_length": 1.4,
         "petal_width": 0.3,
         "sepal_length": 4.8,
         "sepal_width": 3,
         "species": "setosa"
        },
        {
         "index": 46,
         "petal_length": 1.6,
         "petal_width": 0.2,
         "sepal_length": 5.1,
         "sepal_width": 3.8,
         "species": "setosa"
        },
        {
         "index": 47,
         "petal_length": 1.4,
         "petal_width": 0.2,
         "sepal_length": 4.6,
         "sepal_width": 3.2,
         "species": "setosa"
        },
        {
         "index": 48,
         "petal_length": 1.5,
         "petal_width": 0.2,
         "sepal_length": 5.3,
         "sepal_width": 3.7,
         "species": "setosa"
        },
        {
         "index": 49,
         "petal_length": 1.4,
         "petal_width": 0.2,
         "sepal_length": 5,
         "sepal_width": 3.3,
         "species": "setosa"
        },
        {
         "index": 50,
         "petal_length": 4.7,
         "petal_width": 1.4,
         "sepal_length": 7,
         "sepal_width": 3.2,
         "species": "versicolor"
        },
        {
         "index": 51,
         "petal_length": 4.5,
         "petal_width": 1.5,
         "sepal_length": 6.4,
         "sepal_width": 3.2,
         "species": "versicolor"
        },
        {
         "index": 52,
         "petal_length": 4.9,
         "petal_width": 1.5,
         "sepal_length": 6.9,
         "sepal_width": 3.1,
         "species": "versicolor"
        },
        {
         "index": 53,
         "petal_length": 4,
         "petal_width": 1.3,
         "sepal_length": 5.5,
         "sepal_width": 2.3,
         "species": "versicolor"
        },
        {
         "index": 54,
         "petal_length": 4.6,
         "petal_width": 1.5,
         "sepal_length": 6.5,
         "sepal_width": 2.8,
         "species": "versicolor"
        },
        {
         "index": 55,
         "petal_length": 4.5,
         "petal_width": 1.3,
         "sepal_length": 5.7,
         "sepal_width": 2.8,
         "species": "versicolor"
        },
        {
         "index": 56,
         "petal_length": 4.7,
         "petal_width": 1.6,
         "sepal_length": 6.3,
         "sepal_width": 3.3,
         "species": "versicolor"
        },
        {
         "index": 57,
         "petal_length": 3.3,
         "petal_width": 1,
         "sepal_length": 4.9,
         "sepal_width": 2.4,
         "species": "versicolor"
        },
        {
         "index": 58,
         "petal_length": 4.6,
         "petal_width": 1.3,
         "sepal_length": 6.6,
         "sepal_width": 2.9,
         "species": "versicolor"
        },
        {
         "index": 59,
         "petal_length": 3.9,
         "petal_width": 1.4,
         "sepal_length": 5.2,
         "sepal_width": 2.7,
         "species": "versicolor"
        },
        {
         "index": 60,
         "petal_length": 3.5,
         "petal_width": 1,
         "sepal_length": 5,
         "sepal_width": 2,
         "species": "versicolor"
        },
        {
         "index": 61,
         "petal_length": 4.2,
         "petal_width": 1.5,
         "sepal_length": 5.9,
         "sepal_width": 3,
         "species": "versicolor"
        },
        {
         "index": 62,
         "petal_length": 4,
         "petal_width": 1,
         "sepal_length": 6,
         "sepal_width": 2.2,
         "species": "versicolor"
        },
        {
         "index": 63,
         "petal_length": 4.7,
         "petal_width": 1.4,
         "sepal_length": 6.1,
         "sepal_width": 2.9,
         "species": "versicolor"
        },
        {
         "index": 64,
         "petal_length": 3.6,
         "petal_width": 1.3,
         "sepal_length": 5.6,
         "sepal_width": 2.9,
         "species": "versicolor"
        },
        {
         "index": 65,
         "petal_length": 4.4,
         "petal_width": 1.4,
         "sepal_length": 6.7,
         "sepal_width": 3.1,
         "species": "versicolor"
        },
        {
         "index": 66,
         "petal_length": 4.5,
         "petal_width": 1.5,
         "sepal_length": 5.6,
         "sepal_width": 3,
         "species": "versicolor"
        },
        {
         "index": 67,
         "petal_length": 4.1,
         "petal_width": 1,
         "sepal_length": 5.8,
         "sepal_width": 2.7,
         "species": "versicolor"
        },
        {
         "index": 68,
         "petal_length": 4.5,
         "petal_width": 1.5,
         "sepal_length": 6.2,
         "sepal_width": 2.2,
         "species": "versicolor"
        },
        {
         "index": 69,
         "petal_length": 3.9,
         "petal_width": 1.1,
         "sepal_length": 5.6,
         "sepal_width": 2.5,
         "species": "versicolor"
        },
        {
         "index": 70,
         "petal_length": 4.8,
         "petal_width": 1.8,
         "sepal_length": 5.9,
         "sepal_width": 3.2,
         "species": "versicolor"
        },
        {
         "index": 71,
         "petal_length": 4,
         "petal_width": 1.3,
         "sepal_length": 6.1,
         "sepal_width": 2.8,
         "species": "versicolor"
        },
        {
         "index": 72,
         "petal_length": 4.9,
         "petal_width": 1.5,
         "sepal_length": 6.3,
         "sepal_width": 2.5,
         "species": "versicolor"
        },
        {
         "index": 73,
         "petal_length": 4.7,
         "petal_width": 1.2,
         "sepal_length": 6.1,
         "sepal_width": 2.8,
         "species": "versicolor"
        },
        {
         "index": 74,
         "petal_length": 4.3,
         "petal_width": 1.3,
         "sepal_length": 6.4,
         "sepal_width": 2.9,
         "species": "versicolor"
        },
        {
         "index": 75,
         "petal_length": 4.4,
         "petal_width": 1.4,
         "sepal_length": 6.6,
         "sepal_width": 3,
         "species": "versicolor"
        },
        {
         "index": 76,
         "petal_length": 4.8,
         "petal_width": 1.4,
         "sepal_length": 6.8,
         "sepal_width": 2.8,
         "species": "versicolor"
        },
        {
         "index": 77,
         "petal_length": 5,
         "petal_width": 1.7,
         "sepal_length": 6.7,
         "sepal_width": 3,
         "species": "versicolor"
        },
        {
         "index": 78,
         "petal_length": 4.5,
         "petal_width": 1.5,
         "sepal_length": 6,
         "sepal_width": 2.9,
         "species": "versicolor"
        },
        {
         "index": 79,
         "petal_length": 3.5,
         "petal_width": 1,
         "sepal_length": 5.7,
         "sepal_width": 2.6,
         "species": "versicolor"
        },
        {
         "index": 80,
         "petal_length": 3.8,
         "petal_width": 1.1,
         "sepal_length": 5.5,
         "sepal_width": 2.4,
         "species": "versicolor"
        },
        {
         "index": 81,
         "petal_length": 3.7,
         "petal_width": 1,
         "sepal_length": 5.5,
         "sepal_width": 2.4,
         "species": "versicolor"
        },
        {
         "index": 82,
         "petal_length": 3.9,
         "petal_width": 1.2,
         "sepal_length": 5.8,
         "sepal_width": 2.7,
         "species": "versicolor"
        },
        {
         "index": 83,
         "petal_length": 5.1,
         "petal_width": 1.6,
         "sepal_length": 6,
         "sepal_width": 2.7,
         "species": "versicolor"
        },
        {
         "index": 84,
         "petal_length": 4.5,
         "petal_width": 1.5,
         "sepal_length": 5.4,
         "sepal_width": 3,
         "species": "versicolor"
        },
        {
         "index": 85,
         "petal_length": 4.5,
         "petal_width": 1.6,
         "sepal_length": 6,
         "sepal_width": 3.4,
         "species": "versicolor"
        },
        {
         "index": 86,
         "petal_length": 4.7,
         "petal_width": 1.5,
         "sepal_length": 6.7,
         "sepal_width": 3.1,
         "species": "versicolor"
        },
        {
         "index": 87,
         "petal_length": 4.4,
         "petal_width": 1.3,
         "sepal_length": 6.3,
         "sepal_width": 2.3,
         "species": "versicolor"
        },
        {
         "index": 88,
         "petal_length": 4.1,
         "petal_width": 1.3,
         "sepal_length": 5.6,
         "sepal_width": 3,
         "species": "versicolor"
        },
        {
         "index": 89,
         "petal_length": 4,
         "petal_width": 1.3,
         "sepal_length": 5.5,
         "sepal_width": 2.5,
         "species": "versicolor"
        },
        {
         "index": 90,
         "petal_length": 4.4,
         "petal_width": 1.2,
         "sepal_length": 5.5,
         "sepal_width": 2.6,
         "species": "versicolor"
        },
        {
         "index": 91,
         "petal_length": 4.6,
         "petal_width": 1.4,
         "sepal_length": 6.1,
         "sepal_width": 3,
         "species": "versicolor"
        },
        {
         "index": 92,
         "petal_length": 4,
         "petal_width": 1.2,
         "sepal_length": 5.8,
         "sepal_width": 2.6,
         "species": "versicolor"
        },
        {
         "index": 93,
         "petal_length": 3.3,
         "petal_width": 1,
         "sepal_length": 5,
         "sepal_width": 2.3,
         "species": "versicolor"
        },
        {
         "index": 94,
         "petal_length": 4.2,
         "petal_width": 1.3,
         "sepal_length": 5.6,
         "sepal_width": 2.7,
         "species": "versicolor"
        },
        {
         "index": 95,
         "petal_length": 4.2,
         "petal_width": 1.2,
         "sepal_length": 5.7,
         "sepal_width": 3,
         "species": "versicolor"
        },
        {
         "index": 96,
         "petal_length": 4.2,
         "petal_width": 1.3,
         "sepal_length": 5.7,
         "sepal_width": 2.9,
         "species": "versicolor"
        },
        {
         "index": 97,
         "petal_length": 4.3,
         "petal_width": 1.3,
         "sepal_length": 6.2,
         "sepal_width": 2.9,
         "species": "versicolor"
        },
        {
         "index": 98,
         "petal_length": 3,
         "petal_width": 1.1,
         "sepal_length": 5.1,
         "sepal_width": 2.5,
         "species": "versicolor"
        },
        {
         "index": 99,
         "petal_length": 4.1,
         "petal_width": 1.3,
         "sepal_length": 5.7,
         "sepal_width": 2.8,
         "species": "versicolor"
        },
        {
         "index": 100,
         "petal_length": 6,
         "petal_width": 2.5,
         "sepal_length": 6.3,
         "sepal_width": 3.3,
         "species": "virginica"
        },
        {
         "index": 101,
         "petal_length": 5.1,
         "petal_width": 1.9,
         "sepal_length": 5.8,
         "sepal_width": 2.7,
         "species": "virginica"
        },
        {
         "index": 102,
         "petal_length": 5.9,
         "petal_width": 2.1,
         "sepal_length": 7.1,
         "sepal_width": 3,
         "species": "virginica"
        },
        {
         "index": 103,
         "petal_length": 5.6,
         "petal_width": 1.8,
         "sepal_length": 6.3,
         "sepal_width": 2.9,
         "species": "virginica"
        },
        {
         "index": 104,
         "petal_length": 5.8,
         "petal_width": 2.2,
         "sepal_length": 6.5,
         "sepal_width": 3,
         "species": "virginica"
        },
        {
         "index": 105,
         "petal_length": 6.6,
         "petal_width": 2.1,
         "sepal_length": 7.6,
         "sepal_width": 3,
         "species": "virginica"
        },
        {
         "index": 106,
         "petal_length": 4.5,
         "petal_width": 1.7,
         "sepal_length": 4.9,
         "sepal_width": 2.5,
         "species": "virginica"
        },
        {
         "index": 107,
         "petal_length": 6.3,
         "petal_width": 1.8,
         "sepal_length": 7.3,
         "sepal_width": 2.9,
         "species": "virginica"
        },
        {
         "index": 108,
         "petal_length": 5.8,
         "petal_width": 1.8,
         "sepal_length": 6.7,
         "sepal_width": 2.5,
         "species": "virginica"
        },
        {
         "index": 109,
         "petal_length": 6.1,
         "petal_width": 2.5,
         "sepal_length": 7.2,
         "sepal_width": 3.6,
         "species": "virginica"
        },
        {
         "index": 110,
         "petal_length": 5.1,
         "petal_width": 2,
         "sepal_length": 6.5,
         "sepal_width": 3.2,
         "species": "virginica"
        },
        {
         "index": 111,
         "petal_length": 5.3,
         "petal_width": 1.9,
         "sepal_length": 6.4,
         "sepal_width": 2.7,
         "species": "virginica"
        },
        {
         "index": 112,
         "petal_length": 5.5,
         "petal_width": 2.1,
         "sepal_length": 6.8,
         "sepal_width": 3,
         "species": "virginica"
        },
        {
         "index": 113,
         "petal_length": 5,
         "petal_width": 2,
         "sepal_length": 5.7,
         "sepal_width": 2.5,
         "species": "virginica"
        },
        {
         "index": 114,
         "petal_length": 5.1,
         "petal_width": 2.4,
         "sepal_length": 5.8,
         "sepal_width": 2.8,
         "species": "virginica"
        },
        {
         "index": 115,
         "petal_length": 5.3,
         "petal_width": 2.3,
         "sepal_length": 6.4,
         "sepal_width": 3.2,
         "species": "virginica"
        },
        {
         "index": 116,
         "petal_length": 5.5,
         "petal_width": 1.8,
         "sepal_length": 6.5,
         "sepal_width": 3,
         "species": "virginica"
        },
        {
         "index": 117,
         "petal_length": 6.7,
         "petal_width": 2.2,
         "sepal_length": 7.7,
         "sepal_width": 3.8,
         "species": "virginica"
        },
        {
         "index": 118,
         "petal_length": 6.9,
         "petal_width": 2.3,
         "sepal_length": 7.7,
         "sepal_width": 2.6,
         "species": "virginica"
        },
        {
         "index": 119,
         "petal_length": 5,
         "petal_width": 1.5,
         "sepal_length": 6,
         "sepal_width": 2.2,
         "species": "virginica"
        },
        {
         "index": 120,
         "petal_length": 5.7,
         "petal_width": 2.3,
         "sepal_length": 6.9,
         "sepal_width": 3.2,
         "species": "virginica"
        },
        {
         "index": 121,
         "petal_length": 4.9,
         "petal_width": 2,
         "sepal_length": 5.6,
         "sepal_width": 2.8,
         "species": "virginica"
        },
        {
         "index": 122,
         "petal_length": 6.7,
         "petal_width": 2,
         "sepal_length": 7.7,
         "sepal_width": 2.8,
         "species": "virginica"
        },
        {
         "index": 123,
         "petal_length": 4.9,
         "petal_width": 1.8,
         "sepal_length": 6.3,
         "sepal_width": 2.7,
         "species": "virginica"
        },
        {
         "index": 124,
         "petal_length": 5.7,
         "petal_width": 2.1,
         "sepal_length": 6.7,
         "sepal_width": 3.3,
         "species": "virginica"
        },
        {
         "index": 125,
         "petal_length": 6,
         "petal_width": 1.8,
         "sepal_length": 7.2,
         "sepal_width": 3.2,
         "species": "virginica"
        },
        {
         "index": 126,
         "petal_length": 4.8,
         "petal_width": 1.8,
         "sepal_length": 6.2,
         "sepal_width": 2.8,
         "species": "virginica"
        },
        {
         "index": 127,
         "petal_length": 4.9,
         "petal_width": 1.8,
         "sepal_length": 6.1,
         "sepal_width": 3,
         "species": "virginica"
        },
        {
         "index": 128,
         "petal_length": 5.6,
         "petal_width": 2.1,
         "sepal_length": 6.4,
         "sepal_width": 2.8,
         "species": "virginica"
        },
        {
         "index": 129,
         "petal_length": 5.8,
         "petal_width": 1.6,
         "sepal_length": 7.2,
         "sepal_width": 3,
         "species": "virginica"
        },
        {
         "index": 130,
         "petal_length": 6.1,
         "petal_width": 1.9,
         "sepal_length": 7.4,
         "sepal_width": 2.8,
         "species": "virginica"
        },
        {
         "index": 131,
         "petal_length": 6.4,
         "petal_width": 2,
         "sepal_length": 7.9,
         "sepal_width": 3.8,
         "species": "virginica"
        },
        {
         "index": 132,
         "petal_length": 5.6,
         "petal_width": 2.2,
         "sepal_length": 6.4,
         "sepal_width": 2.8,
         "species": "virginica"
        },
        {
         "index": 133,
         "petal_length": 5.1,
         "petal_width": 1.5,
         "sepal_length": 6.3,
         "sepal_width": 2.8,
         "species": "virginica"
        },
        {
         "index": 134,
         "petal_length": 5.6,
         "petal_width": 1.4,
         "sepal_length": 6.1,
         "sepal_width": 2.6,
         "species": "virginica"
        },
        {
         "index": 135,
         "petal_length": 6.1,
         "petal_width": 2.3,
         "sepal_length": 7.7,
         "sepal_width": 3,
         "species": "virginica"
        },
        {
         "index": 136,
         "petal_length": 5.6,
         "petal_width": 2.4,
         "sepal_length": 6.3,
         "sepal_width": 3.4,
         "species": "virginica"
        },
        {
         "index": 137,
         "petal_length": 5.5,
         "petal_width": 1.8,
         "sepal_length": 6.4,
         "sepal_width": 3.1,
         "species": "virginica"
        },
        {
         "index": 138,
         "petal_length": 4.8,
         "petal_width": 1.8,
         "sepal_length": 6,
         "sepal_width": 3,
         "species": "virginica"
        },
        {
         "index": 139,
         "petal_length": 5.4,
         "petal_width": 2.1,
         "sepal_length": 6.9,
         "sepal_width": 3.1,
         "species": "virginica"
        },
        {
         "index": 140,
         "petal_length": 5.6,
         "petal_width": 2.4,
         "sepal_length": 6.7,
         "sepal_width": 3.1,
         "species": "virginica"
        },
        {
         "index": 141,
         "petal_length": 5.1,
         "petal_width": 2.3,
         "sepal_length": 6.9,
         "sepal_width": 3.1,
         "species": "virginica"
        },
        {
         "index": 142,
         "petal_length": 5.1,
         "petal_width": 1.9,
         "sepal_length": 5.8,
         "sepal_width": 2.7,
         "species": "virginica"
        },
        {
         "index": 143,
         "petal_length": 5.9,
         "petal_width": 2.3,
         "sepal_length": 6.8,
         "sepal_width": 3.2,
         "species": "virginica"
        },
        {
         "index": 144,
         "petal_length": 5.7,
         "petal_width": 2.5,
         "sepal_length": 6.7,
         "sepal_width": 3.3,
         "species": "virginica"
        },
        {
         "index": 145,
         "petal_length": 5.2,
         "petal_width": 2.3,
         "sepal_length": 6.7,
         "sepal_width": 3,
         "species": "virginica"
        },
        {
         "index": 146,
         "petal_length": 5,
         "petal_width": 1.9,
         "sepal_length": 6.3,
         "sepal_width": 2.5,
         "species": "virginica"
        },
        {
         "index": 147,
         "petal_length": 5.2,
         "petal_width": 2,
         "sepal_length": 6.5,
         "sepal_width": 3,
         "species": "virginica"
        },
        {
         "index": 148,
         "petal_length": 5.4,
         "petal_width": 2.3,
         "sepal_length": 6.2,
         "sepal_width": 3.4,
         "species": "virginica"
        },
        {
         "index": 149,
         "petal_length": 5.1,
         "petal_width": 1.8,
         "sepal_length": 5.9,
         "sepal_width": 3,
         "species": "virginica"
        }
       ],
       "layout": "IPY_MODEL_f435a7951ec04b3fbb3cb30cab4e0c4d",
       "search": "",
       "template": "\n        <template>\n          <v-card>\n            <v-card-title>\n              <span class=\"title font-weight-bold\">{{ title }}</span>\n              <v-spacer></v-spacer>\n                <v-text-field\n                    v-model=\"search\"\n                    append-icon=\"search\"\n                    label=\"Search ...\"\n                    single-line\n                    hide-details\n                ></v-text-field>\n            </v-card-title>\n            <v-data-table\n                :headers=\"headers\"\n                :items=\"items\"\n                :search=\"search\"\n                :item-key=\"index_col\"\n                :rows-per-page-items=\"[25, 50, 250, 500]\"\n            >\n                <template v-slot:no-data>\n                  <v-alert :value=\"true\" color=\"error\" icon=\"warning\">\n                    Sorry, nothing to display here :(\n                  </v-alert>\n                </template>\n                <template v-slot:no-results>\n                    <v-alert :value=\"true\" color=\"error\" icon=\"warning\">\n                      Your search for \"{{ search }}\" found no results.\n                    </v-alert>\n                </template>\n                <template v-slot:items=\"rows\">\n                  <td v-for=\"(element, label, index) in rows.item\"\n                      @click=cell_click(element)\n                      >\n                    {{ element }}\n                  </td>\n                </template>\n            </v-data-table>\n          </v-card>\n        </template>\n        ",
       "title": "Iris"
      }
     },
     "07bbe42bada14daeb0596290ee6d0bf9": {
      "model_module": "@jupyter-widgets/base",
      "model_module_version": "1.2.0",
      "model_name": "LayoutModel",
      "state": {}
     },
     "07d5a8bce2f543a5a0834f2b1cb25fed": {
      "model_module": "jupyter-vuetify",
      "model_module_version": "^0.1.11",
      "model_name": "BtnModel",
      "state": {
       "_events": [],
       "children": [
        "IPY_MODEL_9416a24bb16c4d88a5778b789a848b91"
       ],
       "color": "primary",
       "flat": true,
       "href": null,
       "icon": true,
       "layout": "IPY_MODEL_7b39c7ea91014da7ba09f05008511b37",
       "ripple": null,
       "to": null
      }
     },
     "082c0c58721c4254b23487d74aa2442e": {
      "model_module": "jupyter-vuetify",
      "model_module_version": "^0.1.11",
      "model_name": "BtnModel",
      "state": {
       "_events": [],
       "children": [
        "Icon right",
        "IPY_MODEL_4f7e56ac64384c469ddbd1b423acb6ec"
       ],
       "color": "primary",
       "href": null,
       "layout": "IPY_MODEL_9f12b3d75ee241f8ab71ac3aa81ee332",
       "ripple": null,
       "to": null
      }
     },
     "08c1fc26e3624dfa97dc93953f924814": {
      "model_module": "jupyter-vuetify",
      "model_module_version": "^0.1.11",
      "model_name": "CardTitleModel",
      "state": {
       "_events": [],
       "children": [
        "Lorem ipsum"
       ],
       "class_": "headline gray lighten-2",
       "layout": "IPY_MODEL_cb9ed7c906a144eb9d79efdf5cc2fd86",
       "primary_title": true
      }
     },
     "09268454904d43ada71422a53a05fbb3": {
      "model_module": "jupyter-vuetify",
      "model_module_version": "^0.1.11",
      "model_name": "CardTextModel",
      "state": {
       "_events": [],
       "children": [
        "Second Text"
       ],
       "layout": "IPY_MODEL_c823d2d7e6ca469ba09b95ace19a2200"
      }
     },
     "099ec5ef77444ea4b9f621d862b5857e": {
      "model_module": "@jupyter-widgets/base",
      "model_module_version": "1.2.0",
      "model_name": "LayoutModel",
      "state": {}
     },
     "0a6a7a47b14f496a99abe0caafb00070": {
      "model_module": "jupyter-vuetify",
      "model_module_version": "^0.1.11",
      "model_name": "BtnModel",
      "state": {
       "_events": [],
       "children": [
        "IPY_MODEL_0e95a9c5d5354ad6a0191cb6ad013a55"
       ],
       "color": "primary",
       "fab": true,
       "href": null,
       "large": true,
       "layout": "IPY_MODEL_ee4b921875bb48b5a20151d8ed7f9c62",
       "ripple": null,
       "to": null
      }
     },
     "0b0a5c01cfc44f3cbe8209b884026407": {
      "model_module": "@jupyter-widgets/base",
      "model_module_version": "1.2.0",
      "model_name": "LayoutModel",
      "state": {}
     },
     "0bd0537a5506488d8ada54a85319230d": {
      "model_module": "jupyter-vuetify",
      "model_module_version": "^0.1.11",
      "model_name": "LayoutModel",
      "state": {
       "_events": [],
       "children": [
        "IPY_MODEL_4da3972a00dc4faf9898d7d6508f92e0",
        "IPY_MODEL_25827dfdae7546069810c0e5548fd297",
        "IPY_MODEL_fe25933200ef4785af9ca732923e72f9"
       ],
       "layout": "IPY_MODEL_81444fbad6b8431cbde4dfe9e19996d3"
      }
     },
     "0d5648393b3445c79ae6de295af778e7": {
      "model_module": "jupyter-vuetify",
      "model_module_version": "^0.1.11",
      "model_name": "ListTileModel",
      "state": {
       "_events": [
        "click"
       ],
       "children": [
        "IPY_MODEL_e173f3d4e40e46cc93f8655978fa64c0"
       ],
       "href": null,
       "layout": "IPY_MODEL_827c6ea663f04d17ab9ff09fd7526c1a",
       "ripple": null,
       "to": null
      }
     },
     "0df5c3f69f21419297430e7d50f40e99": {
      "model_module": "@jupyter-widgets/base",
      "model_module_version": "1.2.0",
      "model_name": "LayoutModel",
      "state": {}
     },
     "0e20ead17ef045838a5655dc02ee4539": {
      "model_module": "@jupyter-widgets/base",
      "model_module_version": "1.2.0",
      "model_name": "LayoutModel",
      "state": {}
     },
     "0e5e4b6b5d1e4d88b2087d2ed0e272f8": {
      "model_module": "jupyter-vuetify",
      "model_module_version": "^0.1.11",
      "model_name": "ContainerModel",
      "state": {
       "_events": [],
       "children": [
        "IPY_MODEL_e3442b335f5749d9b6e17aabfe065395",
        "IPY_MODEL_4f46fa4571364990a356d124b64d0a7a"
       ],
       "layout": "IPY_MODEL_b96cbef7a48343e587588361ab008dd8"
      }
     },
     "0e95a9c5d5354ad6a0191cb6ad013a55": {
      "model_module": "jupyter-vuetify",
      "model_module_version": "^0.1.11",
      "model_name": "IconModel",
      "state": {
       "_events": [],
       "children": [
        "edit"
       ],
       "layout": "IPY_MODEL_b7428418f25e4133bbced9a3c798079f",
       "size": null
      }
     },
     "0ef5c633593e46d090e47b1659d4d2e0": {
      "model_module": "@jupyter-widgets/base",
      "model_module_version": "1.2.0",
      "model_name": "LayoutModel",
      "state": {}
     },
     "0f260ce5291442018693fef351f925d2": {
      "model_module": "@jupyter-widgets/base",
      "model_module_version": "1.2.0",
      "model_name": "LayoutModel",
      "state": {}
     },
     "0fb6d57aa5b6458c9ac12c319627555e": {
      "model_module": "jupyter-vuetify",
      "model_module_version": "^0.1.11",
      "model_name": "TabModel",
      "state": {
       "_events": [],
       "children": [
        "Tab 1"
       ],
       "href": null,
       "layout": "IPY_MODEL_a3f71e3ce6ee41cbbc76728812955a96",
       "ripple": null,
       "to": null
      }
     },
     "10091e4cd24b4c9680a96244b869fe32": {
      "model_module": "jupyter-vuetify",
      "model_module_version": "^0.1.11",
      "model_name": "BtnModel",
      "state": {
       "_events": [],
       "children": [
        "IPY_MODEL_556cf2d25100414084f148e5e1277df6"
       ],
       "flat": true,
       "href": null,
       "layout": "IPY_MODEL_7dd489e1b9ed40e88980eda78f1fdce3",
       "ripple": null,
       "to": null
      }
     },
     "10bf37a7761f4d10beea9eca2e934770": {
      "model_module": "jupyter-vuetify",
      "model_module_version": "^0.1.11",
      "model_name": "BtnModel",
      "state": {
       "_events": [],
       "children": [
        "IPY_MODEL_29a64b8116804b7db7fe747d04d6d346"
       ],
       "color": "primary",
       "flat": true,
       "href": null,
       "icon": true,
       "layout": "IPY_MODEL_e68dedc615a649488a78f5d36e976608",
       "ripple": null,
       "to": null
      }
     },
     "10f9863ffec44248a34069d6974c8a15": {
      "model_module": "@jupyter-widgets/base",
      "model_module_version": "1.2.0",
      "model_name": "LayoutModel",
      "state": {}
     },
     "1147c4f388bd41169477c551114c04f5": {
      "model_module": "@jupyter-widgets/base",
      "model_module_version": "1.2.0",
      "model_name": "LayoutModel",
      "state": {}
     },
     "1155f654e7394cc9ac5e440c2a1a91bf": {
      "model_module": "jupyter-vuetify",
      "model_module_version": "^0.1.11",
      "model_name": "BtnModel",
      "state": {
       "_events": [],
       "children": [
        "round"
       ],
       "color": "primary",
       "href": null,
       "layout": "IPY_MODEL_9f9134bae86b4070aeff0836e515eb83",
       "ripple": null,
       "round": true,
       "to": null
      }
     },
     "11b576d2df8d4637ab7fa10868a704e4": {
      "model_module": "jupyter-vuetify",
      "model_module_version": "^0.1.11",
      "model_name": "BtnModel",
      "state": {
       "_events": [],
       "children": [
        "Open dialog"
       ],
       "color": "success",
       "dark": true,
       "href": null,
       "layout": "IPY_MODEL_3c7a6120964442c988fffa09089e7808",
       "ripple": null,
       "slot": "activator",
       "to": null
      }
     },
     "11dcdad4169b4426a7225a5d15e76136": {
      "model_module": "jupyter-vuetify",
      "model_module_version": "^0.1.11",
      "model_name": "BtnModel",
      "state": {
       "_events": [],
       "children": [
        "menu",
        "IPY_MODEL_faa10caa9d2c4b0ab150b85805890f3c"
       ],
       "color": "primary",
       "href": null,
       "layout": "IPY_MODEL_f0eb4f7dcce94f8cb792d8ad96311888",
       "ripple": null,
       "slot": "activator",
       "to": null
      }
     },
     "12a9d471f04b45aa938b467f498a59bf": {
      "model_module": "@jupyter-widgets/base",
      "model_module_version": "1.2.0",
      "model_name": "LayoutModel",
      "state": {}
     },
     "13246971e0be4510906bf21f5a96b1a3": {
      "model_module": "jupyter-vuetify",
      "model_module_version": "^0.1.11",
      "model_name": "VuetifyTemplateModel",
      "state": {
       "_model_module_version": "^0.1.11",
       "_view_module_version": "^0.1.11",
       "_view_name": "VuetifyView",
       "components": null,
       "events": [],
       "headers": [
        {
         "align": "left",
         "sortable": true,
         "text": "index",
         "value": "index"
        },
        {
         "text": "sepal_length",
         "value": "sepal_length"
        },
        {
         "text": "sepal_width",
         "value": "sepal_width"
        },
        {
         "text": "petal_length",
         "value": "petal_length"
        },
        {
         "text": "petal_width",
         "value": "petal_width"
        },
        {
         "text": "species",
         "value": "species"
        }
       ],
       "index_col": "index",
       "items": [
        {
         "index": 0,
         "petal_length": 1.4,
         "petal_width": 0.2,
         "sepal_length": 5.1,
         "sepal_width": 3.5,
         "species": "setosa"
        },
        {
         "index": 1,
         "petal_length": 1.4,
         "petal_width": 0.2,
         "sepal_length": 4.9,
         "sepal_width": 3,
         "species": "setosa"
        },
        {
         "index": 2,
         "petal_length": 1.3,
         "petal_width": 0.2,
         "sepal_length": 4.7,
         "sepal_width": 3.2,
         "species": "setosa"
        },
        {
         "index": 3,
         "petal_length": 1.5,
         "petal_width": 0.2,
         "sepal_length": 4.6,
         "sepal_width": 3.1,
         "species": "setosa"
        },
        {
         "index": 4,
         "petal_length": 1.4,
         "petal_width": 0.2,
         "sepal_length": 5,
         "sepal_width": 3.6,
         "species": "setosa"
        },
        {
         "index": 5,
         "petal_length": 1.7,
         "petal_width": 0.4,
         "sepal_length": 5.4,
         "sepal_width": 3.9,
         "species": "setosa"
        },
        {
         "index": 6,
         "petal_length": 1.4,
         "petal_width": 0.3,
         "sepal_length": 4.6,
         "sepal_width": 3.4,
         "species": "setosa"
        },
        {
         "index": 7,
         "petal_length": 1.5,
         "petal_width": 0.2,
         "sepal_length": 5,
         "sepal_width": 3.4,
         "species": "setosa"
        },
        {
         "index": 8,
         "petal_length": 1.4,
         "petal_width": 0.2,
         "sepal_length": 4.4,
         "sepal_width": 2.9,
         "species": "setosa"
        },
        {
         "index": 9,
         "petal_length": 1.5,
         "petal_width": 0.1,
         "sepal_length": 4.9,
         "sepal_width": 3.1,
         "species": "setosa"
        },
        {
         "index": 10,
         "petal_length": 1.5,
         "petal_width": 0.2,
         "sepal_length": 5.4,
         "sepal_width": 3.7,
         "species": "setosa"
        },
        {
         "index": 11,
         "petal_length": 1.6,
         "petal_width": 0.2,
         "sepal_length": 4.8,
         "sepal_width": 3.4,
         "species": "setosa"
        },
        {
         "index": 12,
         "petal_length": 1.4,
         "petal_width": 0.1,
         "sepal_length": 4.8,
         "sepal_width": 3,
         "species": "setosa"
        },
        {
         "index": 13,
         "petal_length": 1.1,
         "petal_width": 0.1,
         "sepal_length": 4.3,
         "sepal_width": 3,
         "species": "setosa"
        },
        {
         "index": 14,
         "petal_length": 1.2,
         "petal_width": 0.2,
         "sepal_length": 5.8,
         "sepal_width": 4,
         "species": "setosa"
        },
        {
         "index": 15,
         "petal_length": 1.5,
         "petal_width": 0.4,
         "sepal_length": 5.7,
         "sepal_width": 4.4,
         "species": "setosa"
        },
        {
         "index": 16,
         "petal_length": 1.3,
         "petal_width": 0.4,
         "sepal_length": 5.4,
         "sepal_width": 3.9,
         "species": "setosa"
        },
        {
         "index": 17,
         "petal_length": 1.4,
         "petal_width": 0.3,
         "sepal_length": 5.1,
         "sepal_width": 3.5,
         "species": "setosa"
        },
        {
         "index": 18,
         "petal_length": 1.7,
         "petal_width": 0.3,
         "sepal_length": 5.7,
         "sepal_width": 3.8,
         "species": "setosa"
        },
        {
         "index": 19,
         "petal_length": 1.5,
         "petal_width": 0.3,
         "sepal_length": 5.1,
         "sepal_width": 3.8,
         "species": "setosa"
        },
        {
         "index": 20,
         "petal_length": 1.7,
         "petal_width": 0.2,
         "sepal_length": 5.4,
         "sepal_width": 3.4,
         "species": "setosa"
        },
        {
         "index": 21,
         "petal_length": 1.5,
         "petal_width": 0.4,
         "sepal_length": 5.1,
         "sepal_width": 3.7,
         "species": "setosa"
        },
        {
         "index": 22,
         "petal_length": 1,
         "petal_width": 0.2,
         "sepal_length": 4.6,
         "sepal_width": 3.6,
         "species": "setosa"
        },
        {
         "index": 23,
         "petal_length": 1.7,
         "petal_width": 0.5,
         "sepal_length": 5.1,
         "sepal_width": 3.3,
         "species": "setosa"
        },
        {
         "index": 24,
         "petal_length": 1.9,
         "petal_width": 0.2,
         "sepal_length": 4.8,
         "sepal_width": 3.4,
         "species": "setosa"
        },
        {
         "index": 25,
         "petal_length": 1.6,
         "petal_width": 0.2,
         "sepal_length": 5,
         "sepal_width": 3,
         "species": "setosa"
        },
        {
         "index": 26,
         "petal_length": 1.6,
         "petal_width": 0.4,
         "sepal_length": 5,
         "sepal_width": 3.4,
         "species": "setosa"
        },
        {
         "index": 27,
         "petal_length": 1.5,
         "petal_width": 0.2,
         "sepal_length": 5.2,
         "sepal_width": 3.5,
         "species": "setosa"
        },
        {
         "index": 28,
         "petal_length": 1.4,
         "petal_width": 0.2,
         "sepal_length": 5.2,
         "sepal_width": 3.4,
         "species": "setosa"
        },
        {
         "index": 29,
         "petal_length": 1.6,
         "petal_width": 0.2,
         "sepal_length": 4.7,
         "sepal_width": 3.2,
         "species": "setosa"
        },
        {
         "index": 30,
         "petal_length": 1.6,
         "petal_width": 0.2,
         "sepal_length": 4.8,
         "sepal_width": 3.1,
         "species": "setosa"
        },
        {
         "index": 31,
         "petal_length": 1.5,
         "petal_width": 0.4,
         "sepal_length": 5.4,
         "sepal_width": 3.4,
         "species": "setosa"
        },
        {
         "index": 32,
         "petal_length": 1.5,
         "petal_width": 0.1,
         "sepal_length": 5.2,
         "sepal_width": 4.1,
         "species": "setosa"
        },
        {
         "index": 33,
         "petal_length": 1.4,
         "petal_width": 0.2,
         "sepal_length": 5.5,
         "sepal_width": 4.2,
         "species": "setosa"
        },
        {
         "index": 34,
         "petal_length": 1.5,
         "petal_width": 0.2,
         "sepal_length": 4.9,
         "sepal_width": 3.1,
         "species": "setosa"
        },
        {
         "index": 35,
         "petal_length": 1.2,
         "petal_width": 0.2,
         "sepal_length": 5,
         "sepal_width": 3.2,
         "species": "setosa"
        },
        {
         "index": 36,
         "petal_length": 1.3,
         "petal_width": 0.2,
         "sepal_length": 5.5,
         "sepal_width": 3.5,
         "species": "setosa"
        },
        {
         "index": 37,
         "petal_length": 1.4,
         "petal_width": 0.1,
         "sepal_length": 4.9,
         "sepal_width": 3.6,
         "species": "setosa"
        },
        {
         "index": 38,
         "petal_length": 1.3,
         "petal_width": 0.2,
         "sepal_length": 4.4,
         "sepal_width": 3,
         "species": "setosa"
        },
        {
         "index": 39,
         "petal_length": 1.5,
         "petal_width": 0.2,
         "sepal_length": 5.1,
         "sepal_width": 3.4,
         "species": "setosa"
        },
        {
         "index": 40,
         "petal_length": 1.3,
         "petal_width": 0.3,
         "sepal_length": 5,
         "sepal_width": 3.5,
         "species": "setosa"
        },
        {
         "index": 41,
         "petal_length": 1.3,
         "petal_width": 0.3,
         "sepal_length": 4.5,
         "sepal_width": 2.3,
         "species": "setosa"
        },
        {
         "index": 42,
         "petal_length": 1.3,
         "petal_width": 0.2,
         "sepal_length": 4.4,
         "sepal_width": 3.2,
         "species": "setosa"
        },
        {
         "index": 43,
         "petal_length": 1.6,
         "petal_width": 0.6,
         "sepal_length": 5,
         "sepal_width": 3.5,
         "species": "setosa"
        },
        {
         "index": 44,
         "petal_length": 1.9,
         "petal_width": 0.4,
         "sepal_length": 5.1,
         "sepal_width": 3.8,
         "species": "setosa"
        },
        {
         "index": 45,
         "petal_length": 1.4,
         "petal_width": 0.3,
         "sepal_length": 4.8,
         "sepal_width": 3,
         "species": "setosa"
        },
        {
         "index": 46,
         "petal_length": 1.6,
         "petal_width": 0.2,
         "sepal_length": 5.1,
         "sepal_width": 3.8,
         "species": "setosa"
        },
        {
         "index": 47,
         "petal_length": 1.4,
         "petal_width": 0.2,
         "sepal_length": 4.6,
         "sepal_width": 3.2,
         "species": "setosa"
        },
        {
         "index": 48,
         "petal_length": 1.5,
         "petal_width": 0.2,
         "sepal_length": 5.3,
         "sepal_width": 3.7,
         "species": "setosa"
        },
        {
         "index": 49,
         "petal_length": 1.4,
         "petal_width": 0.2,
         "sepal_length": 5,
         "sepal_width": 3.3,
         "species": "setosa"
        },
        {
         "index": 50,
         "petal_length": 4.7,
         "petal_width": 1.4,
         "sepal_length": 7,
         "sepal_width": 3.2,
         "species": "versicolor"
        },
        {
         "index": 51,
         "petal_length": 4.5,
         "petal_width": 1.5,
         "sepal_length": 6.4,
         "sepal_width": 3.2,
         "species": "versicolor"
        },
        {
         "index": 52,
         "petal_length": 4.9,
         "petal_width": 1.5,
         "sepal_length": 6.9,
         "sepal_width": 3.1,
         "species": "versicolor"
        },
        {
         "index": 53,
         "petal_length": 4,
         "petal_width": 1.3,
         "sepal_length": 5.5,
         "sepal_width": 2.3,
         "species": "versicolor"
        },
        {
         "index": 54,
         "petal_length": 4.6,
         "petal_width": 1.5,
         "sepal_length": 6.5,
         "sepal_width": 2.8,
         "species": "versicolor"
        },
        {
         "index": 55,
         "petal_length": 4.5,
         "petal_width": 1.3,
         "sepal_length": 5.7,
         "sepal_width": 2.8,
         "species": "versicolor"
        },
        {
         "index": 56,
         "petal_length": 4.7,
         "petal_width": 1.6,
         "sepal_length": 6.3,
         "sepal_width": 3.3,
         "species": "versicolor"
        },
        {
         "index": 57,
         "petal_length": 3.3,
         "petal_width": 1,
         "sepal_length": 4.9,
         "sepal_width": 2.4,
         "species": "versicolor"
        },
        {
         "index": 58,
         "petal_length": 4.6,
         "petal_width": 1.3,
         "sepal_length": 6.6,
         "sepal_width": 2.9,
         "species": "versicolor"
        },
        {
         "index": 59,
         "petal_length": 3.9,
         "petal_width": 1.4,
         "sepal_length": 5.2,
         "sepal_width": 2.7,
         "species": "versicolor"
        },
        {
         "index": 60,
         "petal_length": 3.5,
         "petal_width": 1,
         "sepal_length": 5,
         "sepal_width": 2,
         "species": "versicolor"
        },
        {
         "index": 61,
         "petal_length": 4.2,
         "petal_width": 1.5,
         "sepal_length": 5.9,
         "sepal_width": 3,
         "species": "versicolor"
        },
        {
         "index": 62,
         "petal_length": 4,
         "petal_width": 1,
         "sepal_length": 6,
         "sepal_width": 2.2,
         "species": "versicolor"
        },
        {
         "index": 63,
         "petal_length": 4.7,
         "petal_width": 1.4,
         "sepal_length": 6.1,
         "sepal_width": 2.9,
         "species": "versicolor"
        },
        {
         "index": 64,
         "petal_length": 3.6,
         "petal_width": 1.3,
         "sepal_length": 5.6,
         "sepal_width": 2.9,
         "species": "versicolor"
        },
        {
         "index": 65,
         "petal_length": 4.4,
         "petal_width": 1.4,
         "sepal_length": 6.7,
         "sepal_width": 3.1,
         "species": "versicolor"
        },
        {
         "index": 66,
         "petal_length": 4.5,
         "petal_width": 1.5,
         "sepal_length": 5.6,
         "sepal_width": 3,
         "species": "versicolor"
        },
        {
         "index": 67,
         "petal_length": 4.1,
         "petal_width": 1,
         "sepal_length": 5.8,
         "sepal_width": 2.7,
         "species": "versicolor"
        },
        {
         "index": 68,
         "petal_length": 4.5,
         "petal_width": 1.5,
         "sepal_length": 6.2,
         "sepal_width": 2.2,
         "species": "versicolor"
        },
        {
         "index": 69,
         "petal_length": 3.9,
         "petal_width": 1.1,
         "sepal_length": 5.6,
         "sepal_width": 2.5,
         "species": "versicolor"
        },
        {
         "index": 70,
         "petal_length": 4.8,
         "petal_width": 1.8,
         "sepal_length": 5.9,
         "sepal_width": 3.2,
         "species": "versicolor"
        },
        {
         "index": 71,
         "petal_length": 4,
         "petal_width": 1.3,
         "sepal_length": 6.1,
         "sepal_width": 2.8,
         "species": "versicolor"
        },
        {
         "index": 72,
         "petal_length": 4.9,
         "petal_width": 1.5,
         "sepal_length": 6.3,
         "sepal_width": 2.5,
         "species": "versicolor"
        },
        {
         "index": 73,
         "petal_length": 4.7,
         "petal_width": 1.2,
         "sepal_length": 6.1,
         "sepal_width": 2.8,
         "species": "versicolor"
        },
        {
         "index": 74,
         "petal_length": 4.3,
         "petal_width": 1.3,
         "sepal_length": 6.4,
         "sepal_width": 2.9,
         "species": "versicolor"
        },
        {
         "index": 75,
         "petal_length": 4.4,
         "petal_width": 1.4,
         "sepal_length": 6.6,
         "sepal_width": 3,
         "species": "versicolor"
        },
        {
         "index": 76,
         "petal_length": 4.8,
         "petal_width": 1.4,
         "sepal_length": 6.8,
         "sepal_width": 2.8,
         "species": "versicolor"
        },
        {
         "index": 77,
         "petal_length": 5,
         "petal_width": 1.7,
         "sepal_length": 6.7,
         "sepal_width": 3,
         "species": "versicolor"
        },
        {
         "index": 78,
         "petal_length": 4.5,
         "petal_width": 1.5,
         "sepal_length": 6,
         "sepal_width": 2.9,
         "species": "versicolor"
        },
        {
         "index": 79,
         "petal_length": 3.5,
         "petal_width": 1,
         "sepal_length": 5.7,
         "sepal_width": 2.6,
         "species": "versicolor"
        },
        {
         "index": 80,
         "petal_length": 3.8,
         "petal_width": 1.1,
         "sepal_length": 5.5,
         "sepal_width": 2.4,
         "species": "versicolor"
        },
        {
         "index": 81,
         "petal_length": 3.7,
         "petal_width": 1,
         "sepal_length": 5.5,
         "sepal_width": 2.4,
         "species": "versicolor"
        },
        {
         "index": 82,
         "petal_length": 3.9,
         "petal_width": 1.2,
         "sepal_length": 5.8,
         "sepal_width": 2.7,
         "species": "versicolor"
        },
        {
         "index": 83,
         "petal_length": 5.1,
         "petal_width": 1.6,
         "sepal_length": 6,
         "sepal_width": 2.7,
         "species": "versicolor"
        },
        {
         "index": 84,
         "petal_length": 4.5,
         "petal_width": 1.5,
         "sepal_length": 5.4,
         "sepal_width": 3,
         "species": "versicolor"
        },
        {
         "index": 85,
         "petal_length": 4.5,
         "petal_width": 1.6,
         "sepal_length": 6,
         "sepal_width": 3.4,
         "species": "versicolor"
        },
        {
         "index": 86,
         "petal_length": 4.7,
         "petal_width": 1.5,
         "sepal_length": 6.7,
         "sepal_width": 3.1,
         "species": "versicolor"
        },
        {
         "index": 87,
         "petal_length": 4.4,
         "petal_width": 1.3,
         "sepal_length": 6.3,
         "sepal_width": 2.3,
         "species": "versicolor"
        },
        {
         "index": 88,
         "petal_length": 4.1,
         "petal_width": 1.3,
         "sepal_length": 5.6,
         "sepal_width": 3,
         "species": "versicolor"
        },
        {
         "index": 89,
         "petal_length": 4,
         "petal_width": 1.3,
         "sepal_length": 5.5,
         "sepal_width": 2.5,
         "species": "versicolor"
        },
        {
         "index": 90,
         "petal_length": 4.4,
         "petal_width": 1.2,
         "sepal_length": 5.5,
         "sepal_width": 2.6,
         "species": "versicolor"
        },
        {
         "index": 91,
         "petal_length": 4.6,
         "petal_width": 1.4,
         "sepal_length": 6.1,
         "sepal_width": 3,
         "species": "versicolor"
        },
        {
         "index": 92,
         "petal_length": 4,
         "petal_width": 1.2,
         "sepal_length": 5.8,
         "sepal_width": 2.6,
         "species": "versicolor"
        },
        {
         "index": 93,
         "petal_length": 3.3,
         "petal_width": 1,
         "sepal_length": 5,
         "sepal_width": 2.3,
         "species": "versicolor"
        },
        {
         "index": 94,
         "petal_length": 4.2,
         "petal_width": 1.3,
         "sepal_length": 5.6,
         "sepal_width": 2.7,
         "species": "versicolor"
        },
        {
         "index": 95,
         "petal_length": 4.2,
         "petal_width": 1.2,
         "sepal_length": 5.7,
         "sepal_width": 3,
         "species": "versicolor"
        },
        {
         "index": 96,
         "petal_length": 4.2,
         "petal_width": 1.3,
         "sepal_length": 5.7,
         "sepal_width": 2.9,
         "species": "versicolor"
        },
        {
         "index": 97,
         "petal_length": 4.3,
         "petal_width": 1.3,
         "sepal_length": 6.2,
         "sepal_width": 2.9,
         "species": "versicolor"
        },
        {
         "index": 98,
         "petal_length": 3,
         "petal_width": 1.1,
         "sepal_length": 5.1,
         "sepal_width": 2.5,
         "species": "versicolor"
        },
        {
         "index": 99,
         "petal_length": 4.1,
         "petal_width": 1.3,
         "sepal_length": 5.7,
         "sepal_width": 2.8,
         "species": "versicolor"
        },
        {
         "index": 100,
         "petal_length": 6,
         "petal_width": 2.5,
         "sepal_length": 6.3,
         "sepal_width": 3.3,
         "species": "virginica"
        },
        {
         "index": 101,
         "petal_length": 5.1,
         "petal_width": 1.9,
         "sepal_length": 5.8,
         "sepal_width": 2.7,
         "species": "virginica"
        },
        {
         "index": 102,
         "petal_length": 5.9,
         "petal_width": 2.1,
         "sepal_length": 7.1,
         "sepal_width": 3,
         "species": "virginica"
        },
        {
         "index": 103,
         "petal_length": 5.6,
         "petal_width": 1.8,
         "sepal_length": 6.3,
         "sepal_width": 2.9,
         "species": "virginica"
        },
        {
         "index": 104,
         "petal_length": 5.8,
         "petal_width": 2.2,
         "sepal_length": 6.5,
         "sepal_width": 3,
         "species": "virginica"
        },
        {
         "index": 105,
         "petal_length": 6.6,
         "petal_width": 2.1,
         "sepal_length": 7.6,
         "sepal_width": 3,
         "species": "virginica"
        },
        {
         "index": 106,
         "petal_length": 4.5,
         "petal_width": 1.7,
         "sepal_length": 4.9,
         "sepal_width": 2.5,
         "species": "virginica"
        },
        {
         "index": 107,
         "petal_length": 6.3,
         "petal_width": 1.8,
         "sepal_length": 7.3,
         "sepal_width": 2.9,
         "species": "virginica"
        },
        {
         "index": 108,
         "petal_length": 5.8,
         "petal_width": 1.8,
         "sepal_length": 6.7,
         "sepal_width": 2.5,
         "species": "virginica"
        },
        {
         "index": 109,
         "petal_length": 6.1,
         "petal_width": 2.5,
         "sepal_length": 7.2,
         "sepal_width": 3.6,
         "species": "virginica"
        },
        {
         "index": 110,
         "petal_length": 5.1,
         "petal_width": 2,
         "sepal_length": 6.5,
         "sepal_width": 3.2,
         "species": "virginica"
        },
        {
         "index": 111,
         "petal_length": 5.3,
         "petal_width": 1.9,
         "sepal_length": 6.4,
         "sepal_width": 2.7,
         "species": "virginica"
        },
        {
         "index": 112,
         "petal_length": 5.5,
         "petal_width": 2.1,
         "sepal_length": 6.8,
         "sepal_width": 3,
         "species": "virginica"
        },
        {
         "index": 113,
         "petal_length": 5,
         "petal_width": 2,
         "sepal_length": 5.7,
         "sepal_width": 2.5,
         "species": "virginica"
        },
        {
         "index": 114,
         "petal_length": 5.1,
         "petal_width": 2.4,
         "sepal_length": 5.8,
         "sepal_width": 2.8,
         "species": "virginica"
        },
        {
         "index": 115,
         "petal_length": 5.3,
         "petal_width": 2.3,
         "sepal_length": 6.4,
         "sepal_width": 3.2,
         "species": "virginica"
        },
        {
         "index": 116,
         "petal_length": 5.5,
         "petal_width": 1.8,
         "sepal_length": 6.5,
         "sepal_width": 3,
         "species": "virginica"
        },
        {
         "index": 117,
         "petal_length": 6.7,
         "petal_width": 2.2,
         "sepal_length": 7.7,
         "sepal_width": 3.8,
         "species": "virginica"
        },
        {
         "index": 118,
         "petal_length": 6.9,
         "petal_width": 2.3,
         "sepal_length": 7.7,
         "sepal_width": 2.6,
         "species": "virginica"
        },
        {
         "index": 119,
         "petal_length": 5,
         "petal_width": 1.5,
         "sepal_length": 6,
         "sepal_width": 2.2,
         "species": "virginica"
        },
        {
         "index": 120,
         "petal_length": 5.7,
         "petal_width": 2.3,
         "sepal_length": 6.9,
         "sepal_width": 3.2,
         "species": "virginica"
        },
        {
         "index": 121,
         "petal_length": 4.9,
         "petal_width": 2,
         "sepal_length": 5.6,
         "sepal_width": 2.8,
         "species": "virginica"
        },
        {
         "index": 122,
         "petal_length": 6.7,
         "petal_width": 2,
         "sepal_length": 7.7,
         "sepal_width": 2.8,
         "species": "virginica"
        },
        {
         "index": 123,
         "petal_length": 4.9,
         "petal_width": 1.8,
         "sepal_length": 6.3,
         "sepal_width": 2.7,
         "species": "virginica"
        },
        {
         "index": 124,
         "petal_length": 5.7,
         "petal_width": 2.1,
         "sepal_length": 6.7,
         "sepal_width": 3.3,
         "species": "virginica"
        },
        {
         "index": 125,
         "petal_length": 6,
         "petal_width": 1.8,
         "sepal_length": 7.2,
         "sepal_width": 3.2,
         "species": "virginica"
        },
        {
         "index": 126,
         "petal_length": 4.8,
         "petal_width": 1.8,
         "sepal_length": 6.2,
         "sepal_width": 2.8,
         "species": "virginica"
        },
        {
         "index": 127,
         "petal_length": 4.9,
         "petal_width": 1.8,
         "sepal_length": 6.1,
         "sepal_width": 3,
         "species": "virginica"
        },
        {
         "index": 128,
         "petal_length": 5.6,
         "petal_width": 2.1,
         "sepal_length": 6.4,
         "sepal_width": 2.8,
         "species": "virginica"
        },
        {
         "index": 129,
         "petal_length": 5.8,
         "petal_width": 1.6,
         "sepal_length": 7.2,
         "sepal_width": 3,
         "species": "virginica"
        },
        {
         "index": 130,
         "petal_length": 6.1,
         "petal_width": 1.9,
         "sepal_length": 7.4,
         "sepal_width": 2.8,
         "species": "virginica"
        },
        {
         "index": 131,
         "petal_length": 6.4,
         "petal_width": 2,
         "sepal_length": 7.9,
         "sepal_width": 3.8,
         "species": "virginica"
        },
        {
         "index": 132,
         "petal_length": 5.6,
         "petal_width": 2.2,
         "sepal_length": 6.4,
         "sepal_width": 2.8,
         "species": "virginica"
        },
        {
         "index": 133,
         "petal_length": 5.1,
         "petal_width": 1.5,
         "sepal_length": 6.3,
         "sepal_width": 2.8,
         "species": "virginica"
        },
        {
         "index": 134,
         "petal_length": 5.6,
         "petal_width": 1.4,
         "sepal_length": 6.1,
         "sepal_width": 2.6,
         "species": "virginica"
        },
        {
         "index": 135,
         "petal_length": 6.1,
         "petal_width": 2.3,
         "sepal_length": 7.7,
         "sepal_width": 3,
         "species": "virginica"
        },
        {
         "index": 136,
         "petal_length": 5.6,
         "petal_width": 2.4,
         "sepal_length": 6.3,
         "sepal_width": 3.4,
         "species": "virginica"
        },
        {
         "index": 137,
         "petal_length": 5.5,
         "petal_width": 1.8,
         "sepal_length": 6.4,
         "sepal_width": 3.1,
         "species": "virginica"
        },
        {
         "index": 138,
         "petal_length": 4.8,
         "petal_width": 1.8,
         "sepal_length": 6,
         "sepal_width": 3,
         "species": "virginica"
        },
        {
         "index": 139,
         "petal_length": 5.4,
         "petal_width": 2.1,
         "sepal_length": 6.9,
         "sepal_width": 3.1,
         "species": "virginica"
        },
        {
         "index": 140,
         "petal_length": 5.6,
         "petal_width": 2.4,
         "sepal_length": 6.7,
         "sepal_width": 3.1,
         "species": "virginica"
        },
        {
         "index": 141,
         "petal_length": 5.1,
         "petal_width": 2.3,
         "sepal_length": 6.9,
         "sepal_width": 3.1,
         "species": "virginica"
        },
        {
         "index": 142,
         "petal_length": 5.1,
         "petal_width": 1.9,
         "sepal_length": 5.8,
         "sepal_width": 2.7,
         "species": "virginica"
        },
        {
         "index": 143,
         "petal_length": 5.9,
         "petal_width": 2.3,
         "sepal_length": 6.8,
         "sepal_width": 3.2,
         "species": "virginica"
        },
        {
         "index": 144,
         "petal_length": 5.7,
         "petal_width": 2.5,
         "sepal_length": 6.7,
         "sepal_width": 3.3,
         "species": "virginica"
        },
        {
         "index": 145,
         "petal_length": 5.2,
         "petal_width": 2.3,
         "sepal_length": 6.7,
         "sepal_width": 3,
         "species": "virginica"
        },
        {
         "index": 146,
         "petal_length": 5,
         "petal_width": 1.9,
         "sepal_length": 6.3,
         "sepal_width": 2.5,
         "species": "virginica"
        },
        {
         "index": 147,
         "petal_length": 5.2,
         "petal_width": 2,
         "sepal_length": 6.5,
         "sepal_width": 3,
         "species": "virginica"
        },
        {
         "index": 148,
         "petal_length": 5.4,
         "petal_width": 2.3,
         "sepal_length": 6.2,
         "sepal_width": 3.4,
         "species": "virginica"
        },
        {
         "index": 149,
         "petal_length": 5.1,
         "petal_width": 1.8,
         "sepal_length": 5.9,
         "sepal_width": 3,
         "species": "virginica"
        }
       ],
       "layout": "IPY_MODEL_28a8233c94014cd6a74f62ccfdf82336",
       "search": "",
       "template": "\n        <template>\n          <v-card>\n            <v-card-title>\n              <span class=\"title font-weight-bold\">{{ title }}</span>\n              <v-spacer></v-spacer>\n                <v-text-field\n                    v-model=\"search\"\n                    append-icon=\"search\"\n                    label=\"Search ...\"\n                    single-line\n                    hide-details\n                ></v-text-field>\n            </v-card-title>\n            <v-data-table\n                :headers=\"headers\"\n                :items=\"items\"\n                :search=\"search\"\n                :item-key=\"index_col\"\n                :rows-per-page-items=\"[25, 50, 250, 500]\"\n            >\n                <template v-slot:no-data>\n                  <v-alert :value=\"true\" color=\"error\" icon=\"warning\">\n                    Sorry, nothing to display here :(\n                  </v-alert>\n                </template>\n                <template v-slot:no-results>\n                    <v-alert :value=\"true\" color=\"error\" icon=\"warning\">\n                      Your search for \"{{ search }}\" found no results.\n                    </v-alert>\n                </template>\n                <template v-slot:items=\"rows\">\n                  <td v-for=\"(element, label, index) in rows.item\"\n                      @click=cell_click(element)\n                      >\n                    {{ element }}\n                  </td>\n                </template>\n            </v-data-table>\n          </v-card>\n        </template>\n        ",
       "title": "Iris"
      }
     },
     "13345f9b84e34c1680f9b63e78a5d0a6": {
      "model_module": "@jupyter-widgets/base",
      "model_module_version": "1.2.0",
      "model_name": "LayoutModel",
      "state": {}
     },
     "135bf367a9d94a49b05ae07bac1dfd99": {
      "model_module": "@jupyter-widgets/base",
      "model_module_version": "1.2.0",
      "model_name": "LayoutModel",
      "state": {}
     },
     "153e606886ff4d58a1b1ef67f9f3c39f": {
      "model_module": "@jupyter-widgets/base",
      "model_module_version": "1.2.0",
      "model_name": "LayoutModel",
      "state": {}
     },
     "1562a4ad51da4aac9a7b082cd827774b": {
      "model_module": "jupyter-vuetify",
      "model_module_version": "^0.1.11",
      "model_name": "LayoutModel",
      "state": {
       "_events": [],
       "children": [
        "IPY_MODEL_b5ba366a329e4798b72f4e55ca9f002f",
        "IPY_MODEL_acf5ef593365422ebdbd8661793a9932",
        "IPY_MODEL_666582669b134967971770907fcc145c",
        "IPY_MODEL_a7c070245e01491b8743244bea1285c6"
       ],
       "layout": "IPY_MODEL_e3f115c7ac844cf1b038db98a50890e1"
      }
     },
     "15d9a859f1174e38aa00018e9742d687": {
      "model_module": "@jupyter-widgets/base",
      "model_module_version": "1.2.0",
      "model_name": "LayoutModel",
      "state": {}
     },
     "160ccb8b03ac4e849f5286016f265fc1": {
      "model_module": "@jupyter-widgets/base",
      "model_module_version": "1.2.0",
      "model_name": "LayoutModel",
      "state": {}
     },
     "161953d2a67a41a7a1e92cdbc62f2b86": {
      "model_module": "jupyter-vuetify",
      "model_module_version": "^0.1.11",
      "model_name": "ListTileModel",
      "state": {
       "_events": [
        "click"
       ],
       "children": [
        "IPY_MODEL_446bfc4649d9497cb0d2ac35f22343f1"
       ],
       "href": null,
       "layout": "IPY_MODEL_4b99a0895a6f4f15897f0553564d4f7e",
       "ripple": null,
       "to": null
      }
     },
     "168f270200894642adc8997c9dcceccb": {
      "model_module": "@jupyter-widgets/base",
      "model_module_version": "1.2.0",
      "model_name": "LayoutModel",
      "state": {}
     },
     "16c4d7808ef044dd8b3845ea32734f52": {
      "model_module": "@jupyter-widgets/base",
      "model_module_version": "1.2.0",
      "model_name": "LayoutModel",
      "state": {}
     },
     "174e55d7c5b540a2a399bb2abd628b1a": {
      "model_module": "@jupyter-widgets/base",
      "model_module_version": "1.2.0",
      "model_name": "LayoutModel",
      "state": {}
     },
     "175f618652f3488399685c86c0d7cbd6": {
      "model_module": "jupyter-vuetify",
      "model_module_version": "^0.1.11",
      "model_name": "TabsModel",
      "state": {
       "_events": [],
       "children": [
        "IPY_MODEL_955dee71727348549f6778a17f956e10",
        "IPY_MODEL_c1b735f039d24fd98eef4263dabe65d4",
        "IPY_MODEL_cfae4458dcdb4c34b6fd1966bbfa60f2",
        "IPY_MODEL_fea64b3f692b4082827403ebd08dbfad",
        "IPY_MODEL_46f151272926468797f2371c6beab01c",
        "IPY_MODEL_d8f0e39a16244d658a85121ecbdfd175"
       ],
       "height": null,
       "layout": "IPY_MODEL_bdcc0b1e932441debc7b6f3d2f19eb0f",
       "max": null,
       "mobile_break_point": null,
       "v_model": 1,
       "value": null
      }
     },
     "177941e147a347e68da733bb7848950e": {
      "model_module": "@jupyter-widgets/base",
      "model_module_version": "1.2.0",
      "model_name": "LayoutModel",
      "state": {}
     },
     "179406d7e69e408b9c3a2ce6587379e5": {
      "model_module": "@jupyter-widgets/base",
      "model_module_version": "1.2.0",
      "model_name": "LayoutModel",
      "state": {}
     },
     "17ab562e0d3a4182b53b7ba642bead9d": {
      "model_module": "@jupyter-widgets/base",
      "model_module_version": "1.2.0",
      "model_name": "LayoutModel",
      "state": {}
     },
     "18906cacfebf4e49bbfeb277060a1eb3": {
      "model_module": "jupyter-vuetify",
      "model_module_version": "^0.1.11",
      "model_name": "BtnModel",
      "state": {
       "_events": [],
       "children": [
        "reset"
       ],
       "href": null,
       "layout": "IPY_MODEL_cf1c750e352242b4bd8bf5023f1400de",
       "ripple": null,
       "to": null
      }
     },
     "18da96c49c144c44bc4f6c6187903ada": {
      "model_module": "jupyter-vuetify",
      "model_module_version": "^0.1.11",
      "model_name": "LayoutModel",
      "state": {
       "_events": [],
       "children": [
        "IPY_MODEL_89db00abccda473ab179bf3c40ed3fd9"
       ],
       "layout": "IPY_MODEL_04cfd8156ab4409fae4b30ba31a82b59"
      }
     },
     "18f8fe94664841b191924e22e75004e6": {
      "model_module": "jupyter-vuetify",
      "model_module_version": "^0.1.11",
      "model_name": "TooltipModel",
      "state": {
       "_events": [],
       "bottom": true,
       "children": [
        "IPY_MODEL_ec227d6fcf72444a947548778f1da4c8",
        "Insert tooltip text here"
       ],
       "close_delay": null,
       "debounce": null,
       "layout": "IPY_MODEL_cfec853b1b8b4baa99dc7b7695652cab",
       "max_width": null,
       "min_width": null,
       "nudge_bottom": null,
       "nudge_left": null,
       "nudge_right": null,
       "nudge_top": null,
       "nudge_width": null,
       "open_delay": null
      }
     },
     "19e31bdbb4fb4b0387b577447dd6b31d": {
      "model_module": "@jupyter-widgets/base",
      "model_module_version": "1.2.0",
      "model_name": "LayoutModel",
      "state": {}
     },
     "19eb9d82c58040ef9a8c2e9283c50e10": {
      "model_module": "jupyter-vuetify",
      "model_module_version": "^0.1.11",
      "model_name": "CardTitleModel",
      "state": {
       "_events": [],
       "children": [
        "Lorem ipsum"
       ],
       "class_": "headline gray lighten-2",
       "layout": "IPY_MODEL_16c4d7808ef044dd8b3845ea32734f52",
       "primary_title": true
      }
     },
     "1a4c12ee5f6c497981242e031c36dc41": {
      "model_module": "@jupyter-widgets/base",
      "model_module_version": "1.2.0",
      "model_name": "LayoutModel",
      "state": {}
     },
     "1bc60f9032b74ab68646f04fcdb8e812": {
      "model_module": "jupyter-vuetify",
      "model_module_version": "^0.1.11",
      "model_name": "LayoutModel",
      "state": {
       "_events": [],
       "children": [
        "IPY_MODEL_8fcda67f4aff473c857d5f7f9b285b9f",
        "IPY_MODEL_1155f654e7394cc9ac5e440c2a1a91bf",
        "IPY_MODEL_023ca8985d9a441cbd600302326398d0",
        "IPY_MODEL_70638c7043c54b03989667b7b318cec4",
        "IPY_MODEL_f7699e619aa04dabb424546cd04816f5"
       ],
       "layout": "IPY_MODEL_64cc0339416847f58a94fd6b686db1f5"
      }
     },
     "1c03ff90dd3c4b7894d86d497138007a": {
      "model_module": "jupyter-vuetify",
      "model_module_version": "^0.1.11",
      "model_name": "SliderModel",
      "state": {
       "_events": [],
       "children": [],
       "error_count": null,
       "error_messages": null,
       "height": null,
       "layout": "IPY_MODEL_bd896cf2ff244556a07e8b23d16689a5",
       "loading": null,
       "max": null,
       "messages": null,
       "min": null,
       "rules": [],
       "step": null,
       "success_messages": null,
       "thumb_label": true,
       "thumb_size": null,
       "tick_labels": [],
       "tick_size": null,
       "ticks": null,
       "v_model": 25,
       "value": null
      }
     },
     "1c3633a905204c2f8fab69ca272bd1d6": {
      "model_module": "jupyter-vuetify",
      "model_module_version": "^0.1.11",
      "model_name": "ListTileModel",
      "state": {
       "_events": [
        "click"
       ],
       "children": [
        "IPY_MODEL_ea65bfa4d1284433aa7ca69978b012a9"
       ],
       "href": null,
       "layout": "IPY_MODEL_8ad93ca0da6f45cba36bee86bc1c1b0b",
       "ripple": null,
       "to": null
      }
     },
     "1c43dd9f563b4c70b434785f36842fee": {
      "model_module": "jupyter-vuetify",
      "model_module_version": "^0.1.11",
      "model_name": "ListTileTitleModel",
      "state": {
       "_events": [],
       "children": [
        "Item 1"
       ],
       "layout": "IPY_MODEL_bc6e22763d944661847d3c4ad16c1316"
      }
     },
     "1c632b9a207f4ce0af160aac8c5b938c": {
      "model_module": "@jupyter-widgets/base",
      "model_module_version": "1.2.0",
      "model_name": "LayoutModel",
      "state": {}
     },
     "1cb03d45d29a4f72901304107985eeb1": {
      "model_module": "@jupyter-widgets/base",
      "model_module_version": "1.2.0",
      "model_name": "LayoutModel",
      "state": {}
     },
     "1cf615241f564a95be132b15451e01c9": {
      "model_module": "jupyter-vuetify",
      "model_module_version": "^0.1.11",
      "model_name": "BtnModel",
      "state": {
       "_events": [],
       "children": [
        "disabled"
       ],
       "disabled": true,
       "href": null,
       "layout": "IPY_MODEL_ca791fec831a433fb8c540b66dcd61df",
       "ripple": null,
       "to": null
      }
     },
     "1d0fc886997543a7bf61f2fef5ba763d": {
      "model_module": "jupyter-vuetify",
      "model_module_version": "^0.1.11",
      "model_name": "IconModel",
      "state": {
       "_events": [],
       "children": [
        "arrow_drop_down"
       ],
       "layout": "IPY_MODEL_12a9d471f04b45aa938b467f498a59bf",
       "right": true,
       "size": null
      }
     },
     "1d69944dad3f417abe36561e58e7b58b": {
      "model_module": "@jupyter-widgets/base",
      "model_module_version": "1.2.0",
      "model_name": "LayoutModel",
      "state": {}
     },
     "1e5766abf20b46c9b760d9333743bcd3": {
      "model_module": "@jupyter-widgets/base",
      "model_module_version": "1.2.0",
      "model_name": "LayoutModel",
      "state": {}
     },
     "1ef3f3a8b235414eb2a2ed5e3a4784f8": {
      "model_module": "jupyter-vuetify",
      "model_module_version": "^0.1.11",
      "model_name": "CardTextModel",
      "state": {
       "_events": [],
       "children": [
        "Lorem ipsum dolor sit amet, consectetur adipiscing elit, sed do eiusmod tempor incididunt ut labore et dolore magna aliqua."
       ],
       "layout": "IPY_MODEL_21c11798341646c18cf33795954759b1"
      }
     },
     "1f13af5cbce649d787484eee1f6712a8": {
      "model_module": "@jupyter-widgets/base",
      "model_module_version": "1.2.0",
      "model_name": "LayoutModel",
      "state": {}
     },
     "1f36b682aa5842ff82a5ce3674ce9f42": {
      "model_module": "jupyter-vuetify",
      "model_module_version": "^0.1.11",
      "model_name": "LayoutModel",
      "state": {
       "_events": [],
       "children": [
        "IPY_MODEL_924fe9bbd11c490aac4fadcbfe33eae1",
        "IPY_MODEL_a5120bd3c14548d58a7de2f5046fa170",
        "IPY_MODEL_e45f3441b6c043dfbf28e13087d1869f",
        "IPY_MODEL_18906cacfebf4e49bbfeb277060a1eb3",
        "IPY_MODEL_6d2bcafd940a4d46a4d34d71bb44642a",
        "IPY_MODEL_4a188cb975014022bb670d937dbbd705",
        "IPY_MODEL_3d107916b4814168b62de60a91191dcc",
        "IPY_MODEL_2bc2831ed7b747cda619614d8b71140d",
        "IPY_MODEL_c10ab29fbb2e4f3e83a60a2aff82b194"
       ],
       "layout": "IPY_MODEL_c5a39cc2132f4428a54fb24c0a8c26db"
      }
     },
     "1f60a05b1a424502b8c46d619424e4d2": {
      "model_module": "@jupyter-widgets/base",
      "model_module_version": "1.2.0",
      "model_name": "LayoutModel",
      "state": {}
     },
     "1f87e9e561a34974aec765cd27a42b59": {
      "model_module": "@jupyter-widgets/base",
      "model_module_version": "1.2.0",
      "model_name": "LayoutModel",
      "state": {}
     },
     "1fafb3ee0e7f45a2bf470ab98594e759": {
      "model_module": "@jupyter-widgets/base",
      "model_module_version": "1.2.0",
      "model_name": "LayoutModel",
      "state": {}
     },
     "200b333770c942d5af2d7c24af837ae2": {
      "model_module": "jupyter-vuetify",
      "model_module_version": "^0.1.11",
      "model_name": "BtnModel",
      "state": {
       "_events": [],
       "children": [
        "Open dialog"
       ],
       "color": "success",
       "dark": true,
       "href": null,
       "layout": "IPY_MODEL_1fafb3ee0e7f45a2bf470ab98594e759",
       "ripple": null,
       "slot": "activator",
       "to": null
      }
     },
     "20b5632c2b2f43938d2895b0a7385d9a": {
      "model_module": "jupyter-vuetify",
      "model_module_version": "^0.1.11",
      "model_name": "SliderModel",
      "state": {
       "_events": [],
       "children": [],
       "error_count": null,
       "error_messages": null,
       "height": null,
       "layout": "IPY_MODEL_fbaf0e128ee64a4ab06e79a108bbac99",
       "loading": null,
       "max": null,
       "messages": null,
       "min": null,
       "rules": [],
       "step": null,
       "success_messages": null,
       "thumb_label": null,
       "thumb_size": null,
       "tick_labels": [],
       "tick_size": null,
       "ticks": null,
       "v_model": 25,
       "value": null
      }
     },
     "20d4653334254d9c834a48ea5708d52a": {
      "model_module": "jupyter-vuetify",
      "model_module_version": "^0.1.11",
      "model_name": "ListTileModel",
      "state": {
       "_events": [
        "click"
       ],
       "children": [
        "IPY_MODEL_867a03dd0dae458db232777c0625f8cd"
       ],
       "href": null,
       "layout": "IPY_MODEL_2bf17f7be9764d878c0cd4dafeaac13d",
       "ripple": null,
       "to": null
      }
     },
     "20dad516910043879e67519a27fe7936": {
      "model_module": "@jupyter-widgets/base",
      "model_module_version": "1.2.0",
      "model_name": "LayoutModel",
      "state": {}
     },
     "212daff07df1473ea9e53e8860681d01": {
      "model_module": "jupyter-vuetify",
      "model_module_version": "^0.1.11",
      "model_name": "IconModel",
      "state": {
       "_events": [],
       "children": [
        "format_align_left"
       ],
       "layout": "IPY_MODEL_38ea64b5160a408fae01c7f7a4530acc",
       "size": null
      }
     },
     "21956d5461dc4412b6cee988acbbb5f3": {
      "model_module": "jupyter-vuetify",
      "model_module_version": "^0.1.11",
      "model_name": "BtnModel",
      "state": {
       "_events": [],
       "children": [
        "Open dialog"
       ],
       "color": "success",
       "dark": true,
       "href": null,
       "layout": "IPY_MODEL_24e7e3f736474e75838ede33f99eb174",
       "ripple": null,
       "slot": "activator",
       "to": null
      }
     },
     "21a1aa45d4fb4a788613118ae5b0a388": {
      "model_module": "@jupyter-widgets/base",
      "model_module_version": "1.2.0",
      "model_name": "LayoutModel",
      "state": {}
     },
     "21c11798341646c18cf33795954759b1": {
      "model_module": "@jupyter-widgets/base",
      "model_module_version": "1.2.0",
      "model_name": "LayoutModel",
      "state": {}
     },
     "221a294ec5e845528efd22b24a187338": {
      "model_module": "@jupyter-widgets/base",
      "model_module_version": "1.2.0",
      "model_name": "LayoutModel",
      "state": {}
     },
     "22838a05c9064a22b0a40d00d8436bd2": {
      "model_module": "jupyter-vuetify",
      "model_module_version": "^0.1.11",
      "model_name": "BtnModel",
      "state": {
       "_events": [],
       "children": [
        "error"
       ],
       "color": "error",
       "href": null,
       "layout": "IPY_MODEL_336f421b468540f2915ef0c0b0d7d383",
       "ripple": null,
       "to": null
      }
     },
     "22c6c34df184404dbc94b818bd35e7e2": {
      "model_module": "@jupyter-widgets/base",
      "model_module_version": "1.2.0",
      "model_name": "LayoutModel",
      "state": {}
     },
     "22e10f8b769e4afc9766e6002e443e6e": {
      "model_module": "@jupyter-widgets/base",
      "model_module_version": "1.2.0",
      "model_name": "LayoutModel",
      "state": {}
     },
     "230dd17f712c4f6691b0fb3426af1abd": {
      "model_module": "jupyter-vuetify",
      "model_module_version": "^0.1.11",
      "model_name": "CardModel",
      "state": {
       "_events": [],
       "children": [
        "IPY_MODEL_eb03b0ddbbc5428b94a96c6fa1bd0786"
       ],
       "elevation": null,
       "height": null,
       "href": null,
       "layout": "IPY_MODEL_429f4182cacb4681a8821772ed452503",
       "max_height": null,
       "max_width": null,
       "min_height": null,
       "min_width": null,
       "ripple": null,
       "to": null,
       "width": null
      }
     },
     "2314ef14b73c4f1d919ad706ae27da2e": {
      "model_module": "@jupyter-widgets/base",
      "model_module_version": "1.2.0",
      "model_name": "LayoutModel",
      "state": {}
     },
     "2366796fbf5d472cb39109c69eda3d73": {
      "model_module": "@jupyter-widgets/base",
      "model_module_version": "1.2.0",
      "model_name": "LayoutModel",
      "state": {}
     },
     "239907ce24f244b78b4aee6f9438474f": {
      "model_module": "@jupyter-widgets/base",
      "model_module_version": "1.2.0",
      "model_name": "LayoutModel",
      "state": {}
     },
     "23a99727e92f4c8b8b880060284f8d27": {
      "model_module": "@jupyter-widgets/base",
      "model_module_version": "1.2.0",
      "model_name": "LayoutModel",
      "state": {}
     },
     "23cd8671bbef41198ba8af8779462d72": {
      "model_module": "@jupyter-widgets/base",
      "model_module_version": "1.2.0",
      "model_name": "LayoutModel",
      "state": {}
     },
     "2413106f31af40bf9940d8d5349b49fd": {
      "model_module": "@jupyter-widgets/base",
      "model_module_version": "1.2.0",
      "model_name": "LayoutModel",
      "state": {}
     },
     "24e277fb13c544a48fa695abda36ab73": {
      "model_module": "jupyter-vuetify",
      "model_module_version": "^0.1.11",
      "model_name": "BtnModel",
      "state": {
       "_events": [],
       "children": [
        "IPY_MODEL_d870934e19e44c15869f0757a40ae8a8"
       ],
       "flat": true,
       "href": null,
       "layout": "IPY_MODEL_e5d404b5aa654909a0853d218b4ddde0",
       "ripple": null,
       "to": null
      }
     },
     "24e7e3f736474e75838ede33f99eb174": {
      "model_module": "@jupyter-widgets/base",
      "model_module_version": "1.2.0",
      "model_name": "LayoutModel",
      "state": {}
     },
     "25827dfdae7546069810c0e5548fd297": {
      "model_module": "jupyter-vuetify",
      "model_module_version": "^0.1.11",
      "model_name": "BtnModel",
      "state": {
       "_events": [],
       "children": [
        "Icon right",
        "IPY_MODEL_f82033c0736447e4b4d48c57227dec3f"
       ],
       "color": "primary",
       "href": null,
       "layout": "IPY_MODEL_af88032e91124e83a4e0d76edda746f9",
       "ripple": null,
       "to": null
      }
     },
     "25829bebc07b4766bee027f9913d5553": {
      "model_module": "jupyter-vuetify",
      "model_module_version": "^0.1.11",
      "model_name": "BtnModel",
      "state": {
       "_events": [],
       "children": [
        "flat"
       ],
       "color": "primary",
       "flat": true,
       "href": null,
       "layout": "IPY_MODEL_8b425c5dd14447f09e25fa5b40f627eb",
       "ripple": null,
       "to": null
      }
     },
     "268e4fc4417947bba43c606a73c627d1": {
      "model_module": "jupyter-vuetify",
      "model_module_version": "^0.1.11",
      "model_name": "BtnModel",
      "state": {
       "_events": [],
       "children": [
        "IPY_MODEL_67c5ffd69ba841a3bc698285a0ff5a23"
       ],
       "flat": true,
       "href": null,
       "layout": "IPY_MODEL_f924ef2fe9c24d57845bce96ba7f4fec",
       "ripple": null,
       "to": null
      }
     },
     "276798ddc5e2418dbd24e3488113a15d": {
      "model_module": "@jupyter-widgets/base",
      "model_module_version": "1.2.0",
      "model_name": "LayoutModel",
      "state": {}
     },
     "27683cc20dd54d1a97bf5cd5f2406d15": {
      "model_module": "jupyter-vuetify",
      "model_module_version": "^0.1.11",
      "model_name": "BtnModel",
      "state": {
       "_events": [],
       "children": [
        "IPY_MODEL_f0b008390b814f3f8fddddff97010d20"
       ],
       "flat": true,
       "href": null,
       "layout": "IPY_MODEL_65bb0c53a9034c9f91d8c8c010bdc482",
       "ripple": null,
       "to": null
      }
     },
     "2779b3586a8740d5837fb8c90ec90f69": {
      "model_module": "@jupyter-widgets/base",
      "model_module_version": "1.2.0",
      "model_name": "LayoutModel",
      "state": {}
     },
     "28a29ad1270c4986b7d00c6f8ba8ec30": {
      "model_module": "@jupyter-widgets/base",
      "model_module_version": "1.2.0",
      "model_name": "LayoutModel",
      "state": {}
     },
     "28a8233c94014cd6a74f62ccfdf82336": {
      "model_module": "@jupyter-widgets/base",
      "model_module_version": "1.2.0",
      "model_name": "LayoutModel",
      "state": {}
     },
     "28d50c2073934fbe85a4f150ea9c90d9": {
      "model_module": "@jupyter-widgets/base",
      "model_module_version": "1.2.0",
      "model_name": "LayoutModel",
      "state": {}
     },
     "2901acc2056547bcb13484fd2555707e": {
      "model_module": "@jupyter-widgets/base",
      "model_module_version": "1.2.0",
      "model_name": "LayoutModel",
      "state": {}
     },
     "29a64b8116804b7db7fe747d04d6d346": {
      "model_module": "jupyter-vuetify",
      "model_module_version": "^0.1.11",
      "model_name": "IconModel",
      "state": {
       "_events": [],
       "children": [
        "thumb_up"
       ],
       "layout": "IPY_MODEL_b17b54730a97498d8507fba75fdd6f68",
       "size": null
      }
     },
     "2a7af6e2765249cb965e734660c67b33": {
      "model_module": "@jupyter-widgets/base",
      "model_module_version": "1.2.0",
      "model_name": "LayoutModel",
      "state": {}
     },
     "2b10cde1cc38456dacc8936a5cf88b4f": {
      "model_module": "jupyter-vuetify",
      "model_module_version": "^0.1.11",
      "model_name": "TabModel",
      "state": {
       "_events": [],
       "children": [
        "Tab 3"
       ],
       "href": null,
       "layout": "IPY_MODEL_65f5178d38344ab783546326bc745a8a",
       "ripple": null,
       "to": null
      }
     },
     "2b43386df5e94685b3825e7067c7b303": {
      "model_module": "jupyter-vuetify",
      "model_module_version": "^0.1.11",
      "model_name": "LayoutModel",
      "state": {
       "_events": [],
       "children": [
        "IPY_MODEL_3372d68a459445188fbc371695fcccc2"
       ],
       "layout": "IPY_MODEL_c83e680c6550423182fd59c812702e65"
      }
     },
     "2b45403e39ec45bebbd89b2ce2103a57": {
      "model_module": "@jupyter-widgets/base",
      "model_module_version": "1.2.0",
      "model_name": "LayoutModel",
      "state": {}
     },
     "2bc2831ed7b747cda619614d8b71140d": {
      "model_module": "jupyter-vuetify",
      "model_module_version": "^0.1.11",
      "model_name": "BtnModel",
      "state": {
       "_events": [],
       "children": [
        "outline"
       ],
       "color": "primary",
       "href": null,
       "layout": "IPY_MODEL_d34c0f186b184c4c88c20315b9acc0f7",
       "outline": true,
       "ripple": null,
       "to": null
      }
     },
     "2bf17f7be9764d878c0cd4dafeaac13d": {
      "model_module": "@jupyter-widgets/base",
      "model_module_version": "1.2.0",
      "model_name": "LayoutModel",
      "state": {}
     },
     "2c47f40aa9224f3ab014f8a9d6e48f92": {
      "model_module": "@jupyter-widgets/base",
      "model_module_version": "1.2.0",
      "model_name": "LayoutModel",
      "state": {}
     },
     "2d13841eadcf46d695736c4672dcd19b": {
      "model_module": "@jupyter-widgets/base",
      "model_module_version": "1.2.0",
      "model_name": "LayoutModel",
      "state": {}
     },
     "2d2f7462ed9c47b78887154eac993b07": {
      "model_module": "@jupyter-widgets/base",
      "model_module_version": "1.2.0",
      "model_name": "LayoutModel",
      "state": {}
     },
     "2d86d5e3fd9044ce8c53144ca4d1c59e": {
      "model_module": "@jupyter-widgets/controls",
      "model_module_version": "1.5.0",
      "model_name": "LinkModel",
      "state": {
       "source": [
        "IPY_MODEL_20b5632c2b2f43938d2895b0a7385d9a",
        "v_model"
       ],
       "target": [
        "IPY_MODEL_e530f7b4ea2b464f97b45366779974bb",
        "v_model"
       ]
      }
     },
     "2e35bb08ffd149dbb464a1295ac876de": {
      "model_module": "jupyter-vuetify",
      "model_module_version": "^0.1.11",
      "model_name": "TabItemModel",
      "state": {
       "_events": [],
       "children": [
        "Lorem ipsum dolor sit amet, consectetur adipiscing elit, sed do eiusmod tempor incididunt ut labore et dolore magna aliqua."
       ],
       "layout": "IPY_MODEL_ea7b7b0c1440473ea1edaaf2d81a2813",
       "reverse_transition": null,
       "transition": null
      }
     },
     "2e48df4bb5fa4250983a0de2dd820d78": {
      "model_module": "jupyter-vuetify",
      "model_module_version": "^0.1.11",
      "model_name": "ListTileTitleModel",
      "state": {
       "_events": [],
       "children": [
        "Item 2"
       ],
       "layout": "IPY_MODEL_1f87e9e561a34974aec765cd27a42b59"
      }
     },
     "2e7fc3347d754a1bb4be73ff56fe3850": {
      "model_module": "@jupyter-widgets/base",
      "model_module_version": "1.2.0",
      "model_name": "LayoutModel",
      "state": {}
     },
     "2f286f39ec7643e7b05b7bb5498fdc2a": {
      "model_module": "jupyter-vuetify",
      "model_module_version": "^0.1.11",
      "model_name": "BtnModel",
      "state": {
       "_events": [],
       "children": [
        "IPY_MODEL_731bc264b1b1447d8e926b6d133338e0"
       ],
       "flat": true,
       "href": null,
       "layout": "IPY_MODEL_feb64ec8028549bba9a211cbe5e52124",
       "ripple": null,
       "to": null
      }
     },
     "2f34e9ab604447ffbae0c2d8b7681f14": {
      "model_module": "@jupyter-widgets/base",
      "model_module_version": "1.2.0",
      "model_name": "LayoutModel",
      "state": {}
     },
     "2f6b924ae62847f4832f1fa24575f56d": {
      "model_module": "@jupyter-widgets/base",
      "model_module_version": "1.2.0",
      "model_name": "LayoutModel",
      "state": {}
     },
     "2fce6ee2382d442882b173cb4fa5a226": {
      "model_module": "@jupyter-widgets/base",
      "model_module_version": "1.2.0",
      "model_name": "LayoutModel",
      "state": {}
     },
     "2fd9c834dc9f43c3996e87395f07921d": {
      "model_module": "@jupyter-widgets/base",
      "model_module_version": "1.2.0",
      "model_name": "LayoutModel",
      "state": {}
     },
     "30c436ca6f9344a9a8a1db0b6bf54fff": {
      "model_module": "@jupyter-widgets/base",
      "model_module_version": "1.2.0",
      "model_name": "LayoutModel",
      "state": {}
     },
     "315cba145a354c3eb2f12fb56f84ebad": {
      "model_module": "jupyter-vuetify",
      "model_module_version": "^0.1.11",
      "model_name": "TooltipModel",
      "state": {
       "_events": [],
       "bottom": true,
       "children": [
        "IPY_MODEL_e32de27d65a94dffb69aeac84b9fcfa9",
        "Insert tooltip text here"
       ],
       "close_delay": null,
       "debounce": null,
       "layout": "IPY_MODEL_da0c370f8f534ee59565136f1a8a126b",
       "max_width": null,
       "min_width": null,
       "nudge_bottom": null,
       "nudge_left": null,
       "nudge_right": null,
       "nudge_top": null,
       "nudge_width": null,
       "open_delay": null
      }
     },
     "31f77c0a01bd4955a46cb45c19ce71f4": {
      "model_module": "@jupyter-widgets/base",
      "model_module_version": "1.2.0",
      "model_name": "LayoutModel",
      "state": {}
     },
     "327111263be64ff286adf552b92c0770": {
      "model_module": "jupyter-vuetify",
      "model_module_version": "^0.1.11",
      "model_name": "BtnModel",
      "state": {
       "_events": [],
       "children": [
        "reset"
       ],
       "href": null,
       "layout": "IPY_MODEL_ae4c2bf0dacc403c86494868afec816f",
       "ripple": null,
       "to": null
      }
     },
     "32e33a819005449388b614c85b7388e4": {
      "model_module": "jupyter-vuetify",
      "model_module_version": "^0.1.11",
      "model_name": "LayoutModel",
      "state": {
       "_events": [],
       "children": [
        "IPY_MODEL_a49cbb2b424647b0aa449443a3d16d7c",
        "IPY_MODEL_027357420e3848f9b9e05a709d0c3f72",
        "IPY_MODEL_07d5a8bce2f543a5a0834f2b1cb25fed",
        "IPY_MODEL_bb62d82f1eb545eb93b39405346e5d78",
        "IPY_MODEL_c337ff1b01c74d17bb44a76281a53aad"
       ],
       "layout": "IPY_MODEL_a0e339898a5a41e9878b907c379c4b72"
      }
     },
     "3301aec123eb46e3b637a1f49a98bb57": {
      "model_module": "jupyter-vuetify",
      "model_module_version": "^0.1.11",
      "model_name": "LayoutModel",
      "state": {
       "_events": [],
       "children": [
        "IPY_MODEL_5eeed90bad66400c86cb8b20e5a70b91",
        "IPY_MODEL_fc5ba749903749f0baa79db940fc0d86"
       ],
       "layout": "IPY_MODEL_0df5c3f69f21419297430e7d50f40e99"
      }
     },
     "3317cd45f5e245a1b247380f41bbe5d0": {
      "model_module": "@jupyter-widgets/base",
      "model_module_version": "1.2.0",
      "model_name": "LayoutModel",
      "state": {}
     },
     "33197a4a6cc74e1f9b61b47d0ebac2f1": {
      "model_module": "jupyter-vuetify",
      "model_module_version": "^0.1.11",
      "model_name": "LayoutModel",
      "state": {
       "_events": [],
       "children": [
        "IPY_MODEL_25829bebc07b4766bee027f9913d5553",
        "IPY_MODEL_9f033adc28e94517870d588a1855ac44",
        "IPY_MODEL_a0988836f1304d1d8cdd2fbdbb6f243a",
        "IPY_MODEL_e865a296554944758428bb73db6da571",
        "IPY_MODEL_0a6a7a47b14f496a99abe0caafb00070"
       ],
       "layout": "IPY_MODEL_2fce6ee2382d442882b173cb4fa5a226"
      }
     },
     "3369779d7c3445b58e34ff1f042f8d31": {
      "model_module": "@jupyter-widgets/base",
      "model_module_version": "1.2.0",
      "model_name": "LayoutModel",
      "state": {}
     },
     "336f421b468540f2915ef0c0b0d7d383": {
      "model_module": "@jupyter-widgets/base",
      "model_module_version": "1.2.0",
      "model_name": "LayoutModel",
      "state": {}
     },
     "3372d68a459445188fbc371695fcccc2": {
      "model_module": "jupyter-vuetify",
      "model_module_version": "^0.1.11",
      "model_name": "ExpansionPanelModel",
      "state": {
       "_events": [],
       "children": [
        "IPY_MODEL_518ed776d37b4f0cb43faef1d178288b",
        "IPY_MODEL_49084eb69fa045da9a513e35f0629dfd"
       ],
       "layout": "IPY_MODEL_b7b06b85456f40a9aa402f7025fe650b",
       "value": null
      }
     },
     "33c9a7d0c92242bd8941ec57089ff869": {
      "model_module": "@jupyter-widgets/base",
      "model_module_version": "1.2.0",
      "model_name": "LayoutModel",
      "state": {}
     },
     "341ce5957fd742ef9d31c98dca1e14d6": {
      "model_module": "@jupyter-widgets/base",
      "model_module_version": "1.2.0",
      "model_name": "LayoutModel",
      "state": {}
     },
     "34c9cc6b52504a56a751fb4328f34543": {
      "model_module": "jupyter-vuetify",
      "model_module_version": "^0.1.11",
      "model_name": "ListModel",
      "state": {
       "_events": [],
       "children": [
        "IPY_MODEL_0d5648393b3445c79ae6de295af778e7",
        "IPY_MODEL_b5a293b52970425ba1706b5518dd2acd",
        "IPY_MODEL_a463a19b827b43399ac52ce68a2fce62",
        "IPY_MODEL_1c3633a905204c2f8fab69ca272bd1d6"
       ],
       "layout": "IPY_MODEL_fdd70cfdf27d492595283121ab6aee09"
      }
     },
     "362f842e044740e2b053773fa9b15a03": {
      "model_module": "@jupyter-widgets/base",
      "model_module_version": "1.2.0",
      "model_name": "LayoutModel",
      "state": {}
     },
     "363bb42be361488ea9901c718c9d3d2d": {
      "model_module": "jupyter-vuetify",
      "model_module_version": "^0.1.11",
      "model_name": "BtnModel",
      "state": {
       "_events": [],
       "children": [
        "IPY_MODEL_51e26489196a4513b29b9e2a6b661b80"
       ],
       "flat": true,
       "href": null,
       "layout": "IPY_MODEL_2d13841eadcf46d695736c4672dcd19b",
       "ripple": null,
       "to": null
      }
     },
     "363e7593ba5240c4a91b29fffade2246": {
      "model_module": "@jupyter-widgets/base",
      "model_module_version": "1.2.0",
      "model_name": "LayoutModel",
      "state": {}
     },
     "36d9b51116ac4bc7a8eecbb529e67622": {
      "model_module": "jupyter-vuetify",
      "model_module_version": "^0.1.11",
      "model_name": "MenuModel",
      "state": {
       "_events": [],
       "children": [
        "IPY_MODEL_3e67f1b99dc147ac983d8451a1497254",
        "IPY_MODEL_a24074e52ab249e5ade116369324d8c6"
       ],
       "close_delay": null,
       "layout": "IPY_MODEL_cb41247f719841c18468c0cbc3ff12f1",
       "max_width": null,
       "min_width": null,
       "nudge_bottom": null,
       "nudge_left": null,
       "nudge_right": null,
       "nudge_top": null,
       "nudge_width": null,
       "offset_y": true,
       "open_delay": null,
       "transition": null,
       "z_index": null
      }
     },
     "38472831f3b74a99a0b337f67ca49e87": {
      "model_module": "jupyter-vuetify",
      "model_module_version": "^0.1.11",
      "model_name": "LayoutModel",
      "state": {
       "_events": [],
       "children": [
        "IPY_MODEL_d1b8098fb4f74ed09a5ebcb94ef22a16"
       ],
       "layout": "IPY_MODEL_5811d63718bb4fac9d2c382a8bec8120"
      }
     },
     "38ea64b5160a408fae01c7f7a4530acc": {
      "model_module": "@jupyter-widgets/base",
      "model_module_version": "1.2.0",
      "model_name": "LayoutModel",
      "state": {}
     },
     "39e22a9987394006bf30b4ee18724439": {
      "model_module": "jupyter-vuetify",
      "model_module_version": "^0.1.11",
      "model_name": "ListTileTitleModel",
      "state": {
       "_events": [],
       "children": [
        "Item 3"
       ],
       "layout": "IPY_MODEL_446dfbffbc8844d39b8d32c849439214"
      }
     },
     "3a2b7bf777ee467fa9d4616a45d2ec69": {
      "model_module": "jupyter-vuetify",
      "model_module_version": "^0.1.11",
      "model_name": "DialogModel",
      "state": {
       "_events": [],
       "children": [
        "IPY_MODEL_11b576d2df8d4637ab7fa10868a704e4",
        "IPY_MODEL_e96bf74c169f4510bd0469d5c192c132"
       ],
       "layout": "IPY_MODEL_759400f6fd4f49e3b9d878d57f0c48f4",
       "max_width": null,
       "transition": null,
       "v_model": false,
       "width": "500"
      }
     },
     "3a649fe09faa40f9a1fc7b0bb9dc1cae": {
      "model_module": "jupyter-vuetify",
      "model_module_version": "^0.1.11",
      "model_name": "MenuModel",
      "state": {
       "_events": [],
       "children": [
        "IPY_MODEL_72312c48dde64526b9d7b1760b544e8b",
        "IPY_MODEL_540a20f84ea94aa1936f50a92f257908"
       ],
       "close_delay": null,
       "layout": "IPY_MODEL_afef7ef199fa434ba9913e41341acfcf",
       "max_width": null,
       "min_width": null,
       "nudge_bottom": null,
       "nudge_left": null,
       "nudge_right": null,
       "nudge_top": null,
       "nudge_width": null,
       "offset_y": true,
       "open_delay": null,
       "transition": null,
       "z_index": null
      }
     },
     "3af3a003f797468899a0201f2e9b881b": {
      "model_module": "jupyter-vuetify",
      "model_module_version": "^0.1.11",
      "model_name": "BtnModel",
      "state": {
       "_events": [],
       "children": [
        "reset"
       ],
       "href": null,
       "layout": "IPY_MODEL_e5681967f5464f41b9207e52b6abc56f",
       "ripple": null,
       "to": null
      }
     },
     "3b7c2f175a444307995badcfa8456375": {
      "model_module": "@jupyter-widgets/base",
      "model_module_version": "1.2.0",
      "model_name": "LayoutModel",
      "state": {}
     },
     "3c5057c7c09046a3b139ae746cdd09ba": {
      "model_module": "jupyter-vuetify",
      "model_module_version": "^0.1.11",
      "model_name": "ListTileTitleModel",
      "state": {
       "_events": [],
       "children": [
        "Item 2"
       ],
       "layout": "IPY_MODEL_52281da217564701b0f24ccdd1188741"
      }
     },
     "3c7a6120964442c988fffa09089e7808": {
      "model_module": "@jupyter-widgets/base",
      "model_module_version": "1.2.0",
      "model_name": "LayoutModel",
      "state": {}
     },
     "3cb29187d8d24be9949e826a45093330": {
      "model_module": "jupyter-vuetify",
      "model_module_version": "^0.1.11",
      "model_name": "ListTileTitleModel",
      "state": {
       "_events": [],
       "children": [
        "Item 3"
       ],
       "layout": "IPY_MODEL_07bbe42bada14daeb0596290ee6d0bf9"
      }
     },
     "3ced6ac9d5cf45fc9c4fff38f3f4f0b9": {
      "model_module": "@jupyter-widgets/base",
      "model_module_version": "1.2.0",
      "model_name": "LayoutModel",
      "state": {}
     },
     "3d107916b4814168b62de60a91191dcc": {
      "model_module": "jupyter-vuetify",
      "model_module_version": "^0.1.11",
      "model_name": "BtnModel",
      "state": {
       "_events": [],
       "children": [
        "IPY_MODEL_e563b84934554a2b97ccff30748f7976"
       ],
       "color": "primary",
       "flat": true,
       "href": null,
       "icon": true,
       "layout": "IPY_MODEL_ab782c0df156436bacdca84e09068c2b",
       "ripple": null,
       "to": null
      }
     },
     "3d1aeef259e6424393d789a47484915f": {
      "model_module": "jupyter-vuetify",
      "model_module_version": "^0.1.11",
      "model_name": "BtnModel",
      "state": {
       "_events": [],
       "children": [
        "IPY_MODEL_e55731c3daf8420c9ed914a22ae07710"
       ],
       "flat": true,
       "href": null,
       "layout": "IPY_MODEL_f3d182f1ab8147b6beb924b8dc73f277",
       "ripple": null,
       "to": null
      }
     },
     "3db34e496c674ee6b654bfba333ea697": {
      "model_module": "jupyter-vuetify",
      "model_module_version": "^0.1.11",
      "model_name": "SliderModel",
      "state": {
       "_events": [],
       "children": [],
       "error_count": null,
       "error_messages": null,
       "height": null,
       "layout": "IPY_MODEL_cea3afbd6ef34c5bb07d5a8bce8ecf17",
       "loading": null,
       "max": null,
       "messages": null,
       "min": null,
       "rules": [],
       "step": null,
       "success_messages": null,
       "thumb_label": "always",
       "thumb_size": null,
       "tick_labels": [],
       "tick_size": null,
       "ticks": null,
       "v_model": 25,
       "value": null
      }
     },
     "3defee61854e4fa698d13414fef040d5": {
      "model_module": "jupyter-vuetify",
      "model_module_version": "^0.1.11",
      "model_name": "IconModel",
      "state": {
       "_events": [],
       "children": [
        "format_color_fill"
       ],
       "layout": "IPY_MODEL_3f9fa9e0606c4706b7264ba7aad162a0",
       "size": null
      }
     },
     "3e440ef282334f9fa9dd1bc42d99549b": {
      "model_module": "jupyter-vuetify",
      "model_module_version": "^0.1.11",
      "model_name": "BtnModel",
      "state": {
       "_events": [],
       "children": [
        "primary"
       ],
       "color": "primary",
       "href": null,
       "layout": "IPY_MODEL_1d69944dad3f417abe36561e58e7b58b",
       "ripple": null,
       "to": null
      }
     },
     "3e67f1b99dc147ac983d8451a1497254": {
      "model_module": "jupyter-vuetify",
      "model_module_version": "^0.1.11",
      "model_name": "BtnModel",
      "state": {
       "_events": [],
       "children": [
        "menu",
        "IPY_MODEL_4c07cd52ce744508a4e73f97a1802ae5"
       ],
       "color": "primary",
       "href": null,
       "layout": "IPY_MODEL_099ec5ef77444ea4b9f621d862b5857e",
       "ripple": null,
       "slot": "activator",
       "to": null
      }
     },
     "3e9a1164bfb2464c98ad90b2094de397": {
      "model_module": "jupyter-vuetify",
      "model_module_version": "^0.1.11",
      "model_name": "IconModel",
      "state": {
       "_events": [],
       "children": [
        "format_bold"
       ],
       "layout": "IPY_MODEL_b4f3f0fd91374bd080b6300b599dc277",
       "size": null
      }
     },
     "3f090e7469144d60a28b61aaa54dd5c1": {
      "model_module": "jupyter-vuetify",
      "model_module_version": "^0.1.11",
      "model_name": "CardModel",
      "state": {
       "_events": [],
       "children": [
        "IPY_MODEL_3f8f1258a325460eb3e5910fe8dbd3ed"
       ],
       "elevation": null,
       "height": null,
       "href": null,
       "layout": "IPY_MODEL_80b9af4a7f5a4d65ae9cfbc61a096dc7",
       "max_height": null,
       "max_width": null,
       "min_height": null,
       "min_width": null,
       "ripple": null,
       "to": null,
       "width": null
      }
     },
     "3f3d99c862a5437597cb97341d3f353f": {
      "model_module": "@jupyter-widgets/base",
      "model_module_version": "1.2.0",
      "model_name": "LayoutModel",
      "state": {}
     },
     "3f46933ffbd7407eb532384e4eee8700": {
      "model_module": "jupyter-vuetify",
      "model_module_version": "^0.1.11",
      "model_name": "LayoutModel",
      "state": {
       "_events": [],
       "children": [
        "IPY_MODEL_54942c359c474f77bcbc1964da5c606b",
        "IPY_MODEL_a53a54b1f3e245ba98ce6846631309b3",
        "IPY_MODEL_65a5317de7c64ae680f98300e61aa02d",
        "IPY_MODEL_b264077389f646b9be195b18ead08250",
        "IPY_MODEL_9a3564429e9b4c8ea040f01e2d4e43ad"
       ],
       "layout": "IPY_MODEL_dee5a55b76674a999a6ec1ea0050aee2"
      }
     },
     "3f8f1258a325460eb3e5910fe8dbd3ed": {
      "model_module": "jupyter-vuetify",
      "model_module_version": "^0.1.11",
      "model_name": "CardTextModel",
      "state": {
       "_events": [],
       "children": [
        "Second Text"
       ],
       "layout": "IPY_MODEL_5ba969e9829840298886d7c738a74609"
      }
     },
     "3f9fa9e0606c4706b7264ba7aad162a0": {
      "model_module": "@jupyter-widgets/base",
      "model_module_version": "1.2.0",
      "model_name": "LayoutModel",
      "state": {}
     },
     "3fd4a81efae14628a36a0a502b726c29": {
      "model_module": "@jupyter-widgets/base",
      "model_module_version": "1.2.0",
      "model_name": "LayoutModel",
      "state": {}
     },
     "3ff71f18acb24764a1d99f207d93a609": {
      "model_module": "jupyter-vuetify",
      "model_module_version": "^0.1.11",
      "model_name": "IconModel",
      "state": {
       "_events": [],
       "children": [
        "thumb_up"
       ],
       "layout": "IPY_MODEL_7fbae291ca0049279706a4e3bc54b99a",
       "size": null
      }
     },
     "400f67b73c74403c943e5d8c5046d56e": {
      "model_module": "@jupyter-widgets/base",
      "model_module_version": "1.2.0",
      "model_name": "LayoutModel",
      "state": {}
     },
     "407949690bef4e8da27be9d81166505b": {
      "model_module": "jupyter-vuetify",
      "model_module_version": "^0.1.11",
      "model_name": "BtnModel",
      "state": {
       "_events": [],
       "children": [
        "Icon right",
        "IPY_MODEL_466d8481b019434f933b0dce960ed998"
       ],
       "color": "primary",
       "href": null,
       "layout": "IPY_MODEL_b75bf20b823a49779806117e52213928",
       "ripple": null,
       "to": null
      }
     },
     "409fabe68c62409497c246f4731e36ae": {
      "model_module": "@jupyter-widgets/base",
      "model_module_version": "1.2.0",
      "model_name": "LayoutModel",
      "state": {}
     },
     "40a2324a88844608a1ccac9dd72314dd": {
      "model_module": "@jupyter-widgets/base",
      "model_module_version": "1.2.0",
      "model_name": "LayoutModel",
      "state": {}
     },
     "40e5df053b4043bdb8053f6dfcf0198d": {
      "model_module": "@jupyter-widgets/base",
      "model_module_version": "1.2.0",
      "model_name": "LayoutModel",
      "state": {}
     },
     "4140d3a330f5456f86bcddade2034a80": {
      "model_module": "@jupyter-widgets/base",
      "model_module_version": "1.2.0",
      "model_name": "LayoutModel",
      "state": {}
     },
     "41da6204c2f04681a830646b9a57e2ee": {
      "model_module": "@jupyter-widgets/base",
      "model_module_version": "1.2.0",
      "model_name": "LayoutModel",
      "state": {}
     },
     "429f4182cacb4681a8821772ed452503": {
      "model_module": "@jupyter-widgets/base",
      "model_module_version": "1.2.0",
      "model_name": "LayoutModel",
      "state": {}
     },
     "42e3d0b61ad64066b50680f4e1b8c27b": {
      "model_module": "jupyter-vuetify",
      "model_module_version": "^0.1.11",
      "model_name": "BtnModel",
      "state": {
       "_events": [],
       "children": [
        "IPY_MODEL_7cc1b866d1e24203ad28cc9115ba6a36"
       ],
       "flat": true,
       "href": null,
       "layout": "IPY_MODEL_dcd73cb2e5af467f95580526ac4a5fb9",
       "ripple": null,
       "to": null
      }
     },
     "436098fa7bb846269f194b771f93c4ff": {
      "model_module": "@jupyter-widgets/base",
      "model_module_version": "1.2.0",
      "model_name": "LayoutModel",
      "state": {}
     },
     "43d6683a1a544479802bb084ce872abb": {
      "model_module": "jupyter-vuetify",
      "model_module_version": "^0.1.11",
      "model_name": "BtnModel",
      "state": {
       "_events": [],
       "children": [
        "IPY_MODEL_d22fb4e2fd9140eebb077d69febb91ab"
       ],
       "flat": true,
       "href": null,
       "layout": "IPY_MODEL_6e07c322db244e3a9402420e2d99ed89",
       "ripple": null,
       "to": null
      }
     },
     "4424e0d131674fe8bf060f2522e1a905": {
      "model_module": "jupyter-vuetify",
      "model_module_version": "^0.1.11",
      "model_name": "TabModel",
      "state": {
       "_events": [],
       "children": [
        "Tab 2"
       ],
       "href": null,
       "layout": "IPY_MODEL_2e7fc3347d754a1bb4be73ff56fe3850",
       "ripple": null,
       "to": null
      }
     },
     "446bfc4649d9497cb0d2ac35f22343f1": {
      "model_module": "jupyter-vuetify",
      "model_module_version": "^0.1.11",
      "model_name": "ListTileTitleModel",
      "state": {
       "_events": [],
       "children": [
        "Item 4"
       ],
       "layout": "IPY_MODEL_62e9d4e7e1ca402a83cadd7837058980"
      }
     },
     "446dfbffbc8844d39b8d32c849439214": {
      "model_module": "@jupyter-widgets/base",
      "model_module_version": "1.2.0",
      "model_name": "LayoutModel",
      "state": {}
     },
     "44d77c2f0a6b4f0c84c1afdfa7088563": {
      "model_module": "jupyter-vuetify",
      "model_module_version": "^0.1.11",
      "model_name": "CardTextModel",
      "state": {
       "_events": [],
       "children": [
        "Second Text"
       ],
       "layout": "IPY_MODEL_83ad395e5bd54fc4862c6c601d02d827"
      }
     },
     "460db57dd2f14964bead0e84004f2e9a": {
      "model_module": "jupyter-vuetify",
      "model_module_version": "^0.1.11",
      "model_name": "BtnModel",
      "state": {
       "_events": [],
       "children": [
        "IPY_MODEL_cdfea1eaae0a4eada33c65369e9dc3b3"
       ],
       "flat": true,
       "href": null,
       "layout": "IPY_MODEL_785c6857dcdf4fcb85bb4e5c97f264f4",
       "ripple": null,
       "to": null
      }
     },
     "46136103fcc442c8a113124f4396e27e": {
      "model_module": "jupyter-vuetify",
      "model_module_version": "^0.1.11",
      "model_name": "LayoutModel",
      "state": {
       "_events": [],
       "children": [
        "IPY_MODEL_eefb1d0253644ec2935f476ebe9da2d9"
       ],
       "layout": "IPY_MODEL_9f2c60aa435f4dd0b6f47dfd91e9756a"
      }
     },
     "46563508afd8453ea6a8561f9138e3c5": {
      "model_module": "@jupyter-widgets/base",
      "model_module_version": "1.2.0",
      "model_name": "LayoutModel",
      "state": {}
     },
     "466d8481b019434f933b0dce960ed998": {
      "model_module": "jupyter-vuetify",
      "model_module_version": "^0.1.11",
      "model_name": "IconModel",
      "state": {
       "_events": [],
       "children": [
        "fingerprint"
       ],
       "layout": "IPY_MODEL_00fbed851b8142debc3f2aae154198fe",
       "right": true,
       "size": null
      }
     },
     "46d305e3df7843fb9075b851d2855196": {
      "model_module": "@jupyter-widgets/base",
      "model_module_version": "1.2.0",
      "model_name": "LayoutModel",
      "state": {}
     },
     "46f151272926468797f2371c6beab01c": {
      "model_module": "jupyter-vuetify",
      "model_module_version": "^0.1.11",
      "model_name": "TabItemModel",
      "state": {
       "_events": [],
       "children": [
        "Lorem ipsum dolor sit amet, consectetur adipiscing elit, sed do eiusmod tempor incididunt ut labore et dolore magna aliqua."
       ],
       "layout": "IPY_MODEL_362f842e044740e2b053773fa9b15a03",
       "reverse_transition": null,
       "transition": null
      }
     },
     "474960350f29499a93dc445865dcc992": {
      "model_module": "@jupyter-widgets/base",
      "model_module_version": "1.2.0",
      "model_name": "LayoutModel",
      "state": {}
     },
     "48f8343c011c463a8407880a44d666ea": {
      "model_module": "@jupyter-widgets/base",
      "model_module_version": "1.2.0",
      "model_name": "LayoutModel",
      "state": {}
     },
     "49084eb69fa045da9a513e35f0629dfd": {
      "model_module": "jupyter-vuetify",
      "model_module_version": "^0.1.11",
      "model_name": "ExpansionPanelContentModel",
      "state": {
       "_events": [],
       "children": [
        "IPY_MODEL_bd97283f39c94446bb5529602025b3e5",
        "IPY_MODEL_aea1448950254fccb2615e91653a5240"
       ],
       "layout": "IPY_MODEL_174e55d7c5b540a2a399bb2abd628b1a",
       "ripple": null
      }
     },
     "4a188cb975014022bb670d937dbbd705": {
      "model_module": "jupyter-vuetify",
      "model_module_version": "^0.1.11",
      "model_name": "BtnModel",
      "state": {
       "_events": [],
       "children": [
        "round"
       ],
       "color": "primary",
       "href": null,
       "layout": "IPY_MODEL_239907ce24f244b78b4aee6f9438474f",
       "ripple": null,
       "round": true,
       "to": null
      }
     },
     "4a28257501d6417f9fe62833e97100e3": {
      "model_module": "@jupyter-widgets/base",
      "model_module_version": "1.2.0",
      "model_name": "LayoutModel",
      "state": {}
     },
     "4a2ee1b3e08e463492fddb35007e638c": {
      "model_module": "@jupyter-widgets/base",
      "model_module_version": "1.2.0",
      "model_name": "LayoutModel",
      "state": {}
     },
     "4a81e3b127514dba9ecc13969ac33f83": {
      "model_module": "jupyter-vuetify",
      "model_module_version": "^0.1.11",
      "model_name": "TabItemModel",
      "state": {
       "_events": [],
       "children": [
        "Lorem ipsum dolor sit amet, consectetur adipiscing elit, sed do eiusmod tempor incididunt ut labore et dolore magna aliqua."
       ],
       "layout": "IPY_MODEL_4140d3a330f5456f86bcddade2034a80",
       "reverse_transition": null,
       "transition": null
      }
     },
     "4a8d31d534b74509a4a23b58a360e911": {
      "model_module": "@jupyter-widgets/base",
      "model_module_version": "1.2.0",
      "model_name": "LayoutModel",
      "state": {}
     },
     "4abd2fb8e4b140b19a6cd312399ca93a": {
      "model_module": "@jupyter-widgets/base",
      "model_module_version": "1.2.0",
      "model_name": "LayoutModel",
      "state": {}
     },
     "4b7db65e8df04715811c0045f4dd9b1c": {
      "model_module": "jupyter-vuetify",
      "model_module_version": "^0.1.11",
      "model_name": "BtnModel",
      "state": {
       "_events": [
        "click"
       ],
       "children": [
        "loader"
       ],
       "href": null,
       "layout": "IPY_MODEL_46d305e3df7843fb9075b851d2855196",
       "loading": false,
       "ripple": null,
       "to": null
      }
     },
     "4b971f60a9544b61ad8f7d1c454357da": {
      "model_module": "jupyter-vuetify",
      "model_module_version": "^0.1.11",
      "model_name": "BtnModel",
      "state": {
       "_events": [],
       "children": [
        "error"
       ],
       "color": "error",
       "href": null,
       "layout": "IPY_MODEL_bdddfa481db84e1f9eca935ce43e71ff",
       "ripple": null,
       "to": null
      }
     },
     "4b99a0895a6f4f15897f0553564d4f7e": {
      "model_module": "@jupyter-widgets/base",
      "model_module_version": "1.2.0",
      "model_name": "LayoutModel",
      "state": {}
     },
     "4bbd3c04dbe9465082d6d0d2d81dfdd6": {
      "model_module": "@jupyter-widgets/base",
      "model_module_version": "1.2.0",
      "model_name": "LayoutModel",
      "state": {}
     },
     "4c07cd52ce744508a4e73f97a1802ae5": {
      "model_module": "jupyter-vuetify",
      "model_module_version": "^0.1.11",
      "model_name": "IconModel",
      "state": {
       "_events": [],
       "children": [
        "arrow_drop_down"
       ],
       "layout": "IPY_MODEL_eb26fff7783c47f0a5e1d5daecd8bf69",
       "right": true,
       "size": null
      }
     },
     "4c7a585f974d47b39363a75a836f59b3": {
      "model_module": "@jupyter-widgets/base",
      "model_module_version": "1.2.0",
      "model_name": "LayoutModel",
      "state": {}
     },
     "4cde0145f86847a7998d024cd678e08f": {
      "model_module": "@jupyter-widgets/base",
      "model_module_version": "1.2.0",
      "model_name": "LayoutModel",
      "state": {}
     },
     "4da3972a00dc4faf9898d7d6508f92e0": {
      "model_module": "jupyter-vuetify",
      "model_module_version": "^0.1.11",
      "model_name": "BtnModel",
      "state": {
       "_events": [],
       "children": [
        "IPY_MODEL_f9aaf396313c4c9ca61c6fd7f89937ad",
        "Icon left"
       ],
       "color": "primary",
       "href": null,
       "layout": "IPY_MODEL_5cd6b32cb672434f82d9b3e9b5003ea5",
       "ripple": null,
       "to": null
      }
     },
     "4dbc12149f73436ba71cdf6180759991": {
      "model_module": "jupyter-vuetify",
      "model_module_version": "^0.1.11",
      "model_name": "BtnModel",
      "state": {
       "_events": [],
       "children": [
        "IPY_MODEL_dfc6eaf8385c449d8201ae628370491a"
       ],
       "flat": true,
       "href": null,
       "layout": "IPY_MODEL_d20092dfe64c4ee39d4a1ff90cd7788b",
       "ripple": null,
       "to": null
      }
     },
     "4e522b4db9464a4da0b20ee3695bd04e": {
      "model_module": "jupyter-vuetify",
      "model_module_version": "^0.1.11",
      "model_name": "ListTileModel",
      "state": {
       "_events": [
        "click"
       ],
       "children": [
        "IPY_MODEL_3c5057c7c09046a3b139ae746cdd09ba"
       ],
       "href": null,
       "layout": "IPY_MODEL_b85ee2701945468ba21cbaced660ead9",
       "ripple": null,
       "to": null
      }
     },
     "4ee994491b12411ba115312292cb169f": {
      "model_module": "jupyter-vuetify",
      "model_module_version": "^0.1.11",
      "model_name": "IconModel",
      "state": {
       "_events": [],
       "children": [
        "edit"
       ],
       "layout": "IPY_MODEL_c8ba1f3ea6ab43149a77b71eef3d9a50",
       "size": null
      }
     },
     "4f0a2709937047b496a74ed4ade3e643": {
      "model_module": "@jupyter-widgets/base",
      "model_module_version": "1.2.0",
      "model_name": "LayoutModel",
      "state": {}
     },
     "4f1c8097cd084357ac8344a061f8a95f": {
      "model_module": "@jupyter-widgets/base",
      "model_module_version": "1.2.0",
      "model_name": "LayoutModel",
      "state": {}
     },
     "4f35498b1838422098af1ed9d096752f": {
      "model_module": "jupyter-vuetify",
      "model_module_version": "^0.1.11",
      "model_name": "IconModel",
      "state": {
       "_events": [],
       "children": [
        "thumb_up"
       ],
       "layout": "IPY_MODEL_f6b8d4bf7ec04f02a16c560fc8e9e0d3",
       "size": null
      }
     },
     "4f46fa4571364990a356d124b64d0a7a": {
      "model_module": "jupyter-vuetify",
      "model_module_version": "^0.1.11",
      "model_name": "SliderModel",
      "state": {
       "_events": [],
       "children": [],
       "error_count": null,
       "error_messages": null,
       "height": null,
       "layout": "IPY_MODEL_c0173effb68644a6b5a905acb6b837c3",
       "loading": null,
       "max": null,
       "messages": null,
       "min": null,
       "rules": [],
       "step": null,
       "success_messages": null,
       "thumb_label": true,
       "thumb_size": null,
       "tick_labels": [],
       "tick_size": null,
       "ticks": null,
       "v_model": 25,
       "value": null
      }
     },
     "4f4adc6be9df41bea80024b1a026c424": {
      "model_module": "@jupyter-widgets/base",
      "model_module_version": "1.2.0",
      "model_name": "LayoutModel",
      "state": {}
     },
     "4f6b7d9890fc4bd78474f42556843cba": {
      "model_module": "@jupyter-widgets/base",
      "model_module_version": "1.2.0",
      "model_name": "LayoutModel",
      "state": {}
     },
     "4f7e56ac64384c469ddbd1b423acb6ec": {
      "model_module": "jupyter-vuetify",
      "model_module_version": "^0.1.11",
      "model_name": "IconModel",
      "state": {
       "_events": [],
       "children": [
        "fingerprint"
       ],
       "layout": "IPY_MODEL_4f1c8097cd084357ac8344a061f8a95f",
       "right": true,
       "size": null
      }
     },
     "50d98c9ee210451f9e8cc3ce64e8974e": {
      "model_module": "@jupyter-widgets/base",
      "model_module_version": "1.2.0",
      "model_name": "LayoutModel",
      "state": {}
     },
     "510f3d9cee89439fa2646aa0ebdf7696": {
      "model_module": "@jupyter-widgets/base",
      "model_module_version": "1.2.0",
      "model_name": "LayoutModel",
      "state": {}
     },
     "51449946945c465c9ce14d2c20801e4f": {
      "model_module": "@jupyter-widgets/base",
      "model_module_version": "1.2.0",
      "model_name": "LayoutModel",
      "state": {}
     },
     "518ed776d37b4f0cb43faef1d178288b": {
      "model_module": "jupyter-vuetify",
      "model_module_version": "^0.1.11",
      "model_name": "ExpansionPanelContentModel",
      "state": {
       "_events": [],
       "children": [
        "IPY_MODEL_ee2de8f32fc741b8a87fa6ceff6600ae",
        "IPY_MODEL_8353b1224f9d4cb5b460096404fa775e"
       ],
       "layout": "IPY_MODEL_78b580a542c64daaa395fa42db245e91",
       "ripple": null
      }
     },
     "51e26489196a4513b29b9e2a6b661b80": {
      "model_module": "jupyter-vuetify",
      "model_module_version": "^0.1.11",
      "model_name": "IconModel",
      "state": {
       "_events": [],
       "children": [
        "format_align_right"
       ],
       "layout": "IPY_MODEL_51449946945c465c9ce14d2c20801e4f",
       "size": null
      }
     },
     "52281da217564701b0f24ccdd1188741": {
      "model_module": "@jupyter-widgets/base",
      "model_module_version": "1.2.0",
      "model_name": "LayoutModel",
      "state": {}
     },
     "525d0a409b5c4020a35a2593f469205f": {
      "model_module": "jupyter-vuetify",
      "model_module_version": "^0.1.11",
      "model_name": "ListTileTitleModel",
      "state": {
       "_events": [],
       "children": [
        "Item 2"
       ],
       "layout": "IPY_MODEL_815a63db94664ac99ef174e45bcdfed1"
      }
     },
     "5268bfc86e1b4853bd3fe1e32f4dd8a2": {
      "model_module": "@jupyter-widgets/base",
      "model_module_version": "1.2.0",
      "model_name": "LayoutModel",
      "state": {}
     },
     "53914ea15b1040c3935f91c892697d69": {
      "model_module": "@jupyter-widgets/base",
      "model_module_version": "1.2.0",
      "model_name": "LayoutModel",
      "state": {}
     },
     "53fccf54e983411aa50c9b9fd6906fb6": {
      "model_module": "@jupyter-widgets/base",
      "model_module_version": "1.2.0",
      "model_name": "LayoutModel",
      "state": {}
     },
     "540a20f84ea94aa1936f50a92f257908": {
      "model_module": "jupyter-vuetify",
      "model_module_version": "^0.1.11",
      "model_name": "ListModel",
      "state": {
       "_events": [],
       "children": [
        "IPY_MODEL_20d4653334254d9c834a48ea5708d52a",
        "IPY_MODEL_5a7c9c19b8ba411c95abcf9f7d2c1472",
        "IPY_MODEL_ebc4ac9bc74e4a619b08c9c4cea7f43e",
        "IPY_MODEL_161953d2a67a41a7a1e92cdbc62f2b86"
       ],
       "layout": "IPY_MODEL_01b59a0c4998490d8c05fcd45aa0ce63"
      }
     },
     "54942c359c474f77bcbc1964da5c606b": {
      "model_module": "jupyter-vuetify",
      "model_module_version": "^0.1.11",
      "model_name": "BtnModel",
      "state": {
       "_events": [],
       "children": [
        "flat"
       ],
       "color": "primary",
       "flat": true,
       "href": null,
       "layout": "IPY_MODEL_f27302d4f3be4a2e991d0c3c6f755105",
       "ripple": null,
       "to": null
      }
     },
     "552382e81b414695a9c406976f9e51bc": {
      "model_module": "jupyter-vuetify",
      "model_module_version": "^0.1.11",
      "model_name": "LayoutModel",
      "state": {
       "_events": [],
       "children": [
        "IPY_MODEL_f6c6820c44c2410da9e7a42f9b37f5b7",
        "IPY_MODEL_fcd6839eee87485b86850e05da90fe52"
       ],
       "layout": "IPY_MODEL_a66dbcc5f104494a9efebac8159d9e12"
      }
     },
     "556cf2d25100414084f148e5e1277df6": {
      "model_module": "jupyter-vuetify",
      "model_module_version": "^0.1.11",
      "model_name": "IconModel",
      "state": {
       "_events": [],
       "children": [
        "format_bold"
       ],
       "layout": "IPY_MODEL_c7c9907399304c3a9a3c183964f0e466",
       "size": null
      }
     },
     "55bc50a743e1422fb6963dd99fe0aa89": {
      "model_module": "jupyter-vuetify",
      "model_module_version": "^0.1.11",
      "model_name": "ListTileModel",
      "state": {
       "_events": [
        "click"
       ],
       "children": [
        "IPY_MODEL_cea255bb8af74198b8709939b4074147"
       ],
       "href": null,
       "layout": "IPY_MODEL_5e606c321cd44daf81e358d4cc63d48c",
       "ripple": null,
       "to": null
      }
     },
     "55dc9e64356b44cfb3c2d7310b0c5bb8": {
      "model_module": "jupyter-vuetify",
      "model_module_version": "^0.1.11",
      "model_name": "ContainerModel",
      "state": {
       "_events": [],
       "children": [
        "IPY_MODEL_7891b17954454b4dbe00bbb920c501ac",
        "IPY_MODEL_ba1476cfd5274ca1937b3ae1ce3ec1be"
       ],
       "layout": "IPY_MODEL_1cb03d45d29a4f72901304107985eeb1"
      }
     },
     "5714e353d89a4e279fb2ef3384fb3519": {
      "model_module": "jupyter-vuetify",
      "model_module_version": "^0.1.11",
      "model_name": "ListTileTitleModel",
      "state": {
       "_events": [],
       "children": [
        "Item 4"
       ],
       "layout": "IPY_MODEL_e10cfbb24b8d4541945c3c4f8c5ae82f"
      }
     },
     "57193ee0717c466f9f3a99a3f33a559c": {
      "model_module": "jupyter-vuetify",
      "model_module_version": "^0.1.11",
      "model_name": "BtnModel",
      "state": {
       "_events": [],
       "children": [
        "IPY_MODEL_cea83876dca442b7918ed5ef8ab94093"
       ],
       "flat": true,
       "href": null,
       "layout": "IPY_MODEL_ca5771a4e4c3481d95154ee2176dd4d9",
       "ripple": null,
       "to": null
      }
     },
     "5775d36d10754a8dbebdf438f93ff673": {
      "model_module": "jupyter-vuetify",
      "model_module_version": "^0.1.11",
      "model_name": "IconModel",
      "state": {
       "_events": [],
       "children": [
        "fingerprint"
       ],
       "layout": "IPY_MODEL_92cd8d155caa46dd858962c3fc4a04b2",
       "left": true,
       "size": null
      }
     },
     "5790414931c34c4b86b1194537f7901d": {
      "model_module": "jupyter-vuetify",
      "model_module_version": "^0.1.11",
      "model_name": "BtnModel",
      "state": {
       "_events": [],
       "children": [
        "IPY_MODEL_bd820e2a18ae419194d572186eca60e7"
       ],
       "flat": true,
       "href": null,
       "layout": "IPY_MODEL_7e38ffececc44b769117dc9b9658585e",
       "ripple": null,
       "to": null
      }
     },
     "57bce6e1293b448d81d73a08399d88d6": {
      "model_module": "jupyter-vuetify",
      "model_module_version": "^0.1.11",
      "model_name": "BtnModel",
      "state": {
       "_events": [],
       "children": [
        "Icon right",
        "IPY_MODEL_d7364890db9147ccba3ec87866edd61b"
       ],
       "color": "primary",
       "href": null,
       "layout": "IPY_MODEL_1a4c12ee5f6c497981242e031c36dc41",
       "ripple": null,
       "to": null
      }
     },
     "5811d63718bb4fac9d2c382a8bec8120": {
      "model_module": "@jupyter-widgets/base",
      "model_module_version": "1.2.0",
      "model_name": "LayoutModel",
      "state": {}
     },
     "5814adb77ecf456281ce35f8608951b7": {
      "model_module": "jupyter-vuetify",
      "model_module_version": "^0.1.11",
      "model_name": "ListTileModel",
      "state": {
       "_events": [
        "click"
       ],
       "children": [
        "IPY_MODEL_c8aaf59c60e2475f88d134e85e655d42"
       ],
       "href": null,
       "layout": "IPY_MODEL_474960350f29499a93dc445865dcc992",
       "ripple": null,
       "to": null
      }
     },
     "586babf0cd5544fb94514b3c72394c6e": {
      "model_module": "jupyter-vuetify",
      "model_module_version": "^0.1.11",
      "model_name": "BtnModel",
      "state": {
       "_events": [],
       "children": [
        "IPY_MODEL_c1d885940bca4b819647628bacc4c7b4"
       ],
       "flat": true,
       "href": null,
       "layout": "IPY_MODEL_2779b3586a8740d5837fb8c90ec90f69",
       "ripple": null,
       "to": null
      }
     },
     "587048b3792741ac854d0fb8381d907a": {
      "model_module": "jupyter-vuetify",
      "model_module_version": "^0.1.11",
      "model_name": "LayoutModel",
      "state": {
       "_events": [],
       "children": [
        "IPY_MODEL_e094689bd5de4e21aa3723a0262b276e",
        "IPY_MODEL_22838a05c9064a22b0a40d00d8436bd2",
        "IPY_MODEL_aeed3da47d67481ab39bf17b4837b503",
        "IPY_MODEL_63d1938a877b45c5b2d7275791090cc6"
       ],
       "layout": "IPY_MODEL_85f3cd4f97a1406f8e230e341004f4f0"
      }
     },
     "5992f27cbe6f487e93188e830251873b": {
      "model_module": "@jupyter-widgets/base",
      "model_module_version": "1.2.0",
      "model_name": "LayoutModel",
      "state": {}
     },
     "59a4650e76d24585a4a580b305f603b5": {
      "model_module": "jupyter-vuetify",
      "model_module_version": "^0.1.11",
      "model_name": "CardModel",
      "state": {
       "_events": [],
       "children": [
        "IPY_MODEL_d25ff9f55ab3412d8b83d203941e08d0",
        "IPY_MODEL_1ef3f3a8b235414eb2a2ed5e3a4784f8"
       ],
       "elevation": null,
       "height": null,
       "href": null,
       "layout": "IPY_MODEL_50d98c9ee210451f9e8cc3ce64e8974e",
       "max_height": null,
       "max_width": null,
       "min_height": null,
       "min_width": null,
       "ripple": null,
       "to": null,
       "width": null
      }
     },
     "59ab6f6b811643fdb96623885218673e": {
      "model_module": "@jupyter-widgets/base",
      "model_module_version": "1.2.0",
      "model_name": "LayoutModel",
      "state": {}
     },
     "5a5e757956504de28722acaa54bb74ad": {
      "model_module": "jupyter-vuetify",
      "model_module_version": "^0.1.11",
      "model_name": "BtnModel",
      "state": {
       "_events": [],
       "children": [
        "IPY_MODEL_617107d70f1e42c4b367f742c5fd680f"
       ],
       "flat": true,
       "href": null,
       "layout": "IPY_MODEL_363e7593ba5240c4a91b29fffade2246",
       "ripple": null,
       "to": null
      }
     },
     "5a7c9c19b8ba411c95abcf9f7d2c1472": {
      "model_module": "jupyter-vuetify",
      "model_module_version": "^0.1.11",
      "model_name": "ListTileModel",
      "state": {
       "_events": [
        "click"
       ],
       "children": [
        "IPY_MODEL_2e48df4bb5fa4250983a0de2dd820d78"
       ],
       "href": null,
       "layout": "IPY_MODEL_f0afe8ad60e948c3ab06df50485188ec",
       "ripple": null,
       "to": null
      }
     },
     "5a95d6c225a642d8b27dd1add6fc3c4c": {
      "model_module": "jupyter-vuetify",
      "model_module_version": "^0.1.11",
      "model_name": "BtnModel",
      "state": {
       "_events": [],
       "children": [
        "IPY_MODEL_db70c21f55c545c2a63102e7a9570d2e"
       ],
       "flat": true,
       "href": null,
       "layout": "IPY_MODEL_94d1c93cc77746688acbc3d4d8659a7a",
       "ripple": null,
       "to": null
      }
     },
     "5acfa48eb50145f0a8ed2d82f9bdcad6": {
      "model_module": "jupyter-vuetify",
      "model_module_version": "^0.1.11",
      "model_name": "LayoutModel",
      "state": {
       "_events": [],
       "children": [
        "IPY_MODEL_36d9b51116ac4bc7a8eecbb529e67622"
       ],
       "layout": "IPY_MODEL_9c0423c3deea4bf08d64c7d71f8a034f"
      }
     },
     "5b1ae768a5b3410e8b94f4a9fb85f016": {
      "model_module": "@jupyter-widgets/base",
      "model_module_version": "1.2.0",
      "model_name": "LayoutModel",
      "state": {}
     },
     "5ba969e9829840298886d7c738a74609": {
      "model_module": "@jupyter-widgets/base",
      "model_module_version": "1.2.0",
      "model_name": "LayoutModel",
      "state": {}
     },
     "5bb7e8f9ab1641bab151b6ee3681c47c": {
      "model_module": "jupyter-vuetify",
      "model_module_version": "^0.1.11",
      "model_name": "DialogModel",
      "state": {
       "_events": [],
       "children": [
        "IPY_MODEL_21956d5461dc4412b6cee988acbbb5f3",
        "IPY_MODEL_59a4650e76d24585a4a580b305f603b5"
       ],
       "layout": "IPY_MODEL_79250824cc4941efa9ec663b91aa8171",
       "max_width": null,
       "transition": null,
       "v_model": false,
       "width": "500"
      }
     },
     "5be7de61bde24ebfaed1407650622818": {
      "model_module": "@jupyter-widgets/controls",
      "model_module_version": "1.5.0",
      "model_name": "LinkModel",
      "state": {
       "source": [
        "IPY_MODEL_813a0707564a4caca2865174103da543",
        "v_model"
       ],
       "target": [
        "IPY_MODEL_1c03ff90dd3c4b7894d86d497138007a",
        "v_model"
       ]
      }
     },
     "5c09fcdd972e429f8d124cedf53a79e1": {
      "model_module": "jupyter-vuetify",
      "model_module_version": "^0.1.11",
      "model_name": "ListTileTitleModel",
      "state": {
       "_events": [],
       "children": [
        "Item 3"
       ],
       "layout": "IPY_MODEL_e4b3a87f30aa485fbfb80270a56de852"
      }
     },
     "5c41139475a6413dbee7e3d9fdb582d7": {
      "model_module": "jupyter-vuetify",
      "model_module_version": "^0.1.11",
      "model_name": "BtnModel",
      "state": {
       "_events": [],
       "children": [
        "reset"
       ],
       "href": null,
       "layout": "IPY_MODEL_b4a28d4aa775497ba4f3bde2e4274a05",
       "ripple": null,
       "to": null
      }
     },
     "5c48614cab2e4ec49da2d21fbefef087": {
      "model_module": "@jupyter-widgets/base",
      "model_module_version": "1.2.0",
      "model_name": "LayoutModel",
      "state": {}
     },
     "5c6f1e5d98204bac8e3bd866d89ea662": {
      "model_module": "@jupyter-widgets/base",
      "model_module_version": "1.2.0",
      "model_name": "LayoutModel",
      "state": {}
     },
     "5cd68e21016342f2a4b132ddd2a00168": {
      "model_module": "jupyter-vuetify",
      "model_module_version": "^0.1.11",
      "model_name": "BtnModel",
      "state": {
       "_events": [],
       "children": [
        "primary"
       ],
       "color": "primary",
       "href": null,
       "layout": "IPY_MODEL_5e9dbb05cd3740e3bfe588908c024deb",
       "ripple": null,
       "to": null
      }
     },
     "5cd6b32cb672434f82d9b3e9b5003ea5": {
      "model_module": "@jupyter-widgets/base",
      "model_module_version": "1.2.0",
      "model_name": "LayoutModel",
      "state": {}
     },
     "5d362e35520b4c9aa6529aa6a89a1bd8": {
      "model_module": "jupyter-vuetify",
      "model_module_version": "^0.1.11",
      "model_name": "LayoutModel",
      "state": {
       "_events": [],
       "children": [
        "IPY_MODEL_0174bb6217c448e18814e6f7731ec2b7"
       ],
       "layout": "IPY_MODEL_23cd8671bbef41198ba8af8779462d72"
      }
     },
     "5d699172d463459b81949adbb99062f2": {
      "model_module": "@jupyter-widgets/base",
      "model_module_version": "1.2.0",
      "model_name": "LayoutModel",
      "state": {}
     },
     "5e606c321cd44daf81e358d4cc63d48c": {
      "model_module": "@jupyter-widgets/base",
      "model_module_version": "1.2.0",
      "model_name": "LayoutModel",
      "state": {}
     },
     "5e92fe05493947918c9a2902413f6f73": {
      "model_module": "jupyter-vuetify",
      "model_module_version": "^0.1.11",
      "model_name": "BtnModel",
      "state": {
       "_events": [
        "click"
       ],
       "children": [
        "loader"
       ],
       "href": null,
       "layout": "IPY_MODEL_b6e57a6209f04438ad0b9c5e0abf3428",
       "loading": false,
       "ripple": null,
       "to": null
      }
     },
     "5e9dbb05cd3740e3bfe588908c024deb": {
      "model_module": "@jupyter-widgets/base",
      "model_module_version": "1.2.0",
      "model_name": "LayoutModel",
      "state": {}
     },
     "5ee7b58bcd8c4e48ab1dd7d6a243e362": {
      "model_module": "@jupyter-widgets/base",
      "model_module_version": "1.2.0",
      "model_name": "LayoutModel",
      "state": {}
     },
     "5eeed90bad66400c86cb8b20e5a70b91": {
      "model_module": "jupyter-vuetify",
      "model_module_version": "^0.1.11",
      "model_name": "BtnToggleModel",
      "state": {
       "_events": [],
       "children": [
        "IPY_MODEL_586babf0cd5544fb94514b3c72394c6e",
        "IPY_MODEL_3d1aeef259e6424393d789a47484915f",
        "IPY_MODEL_c111d780807a4660b5738e4000d529c0",
        "IPY_MODEL_5a95d6c225a642d8b27dd1add6fc3c4c"
       ],
       "class_": "mr-3",
       "layout": "IPY_MODEL_e2d2e73ea5714ef7bd3e25fe204066fd",
       "max": null,
       "v_model": 2
      }
     },
     "604f558e609a42b5bfc5e2621a2b33b0": {
      "model_module": "@jupyter-widgets/base",
      "model_module_version": "1.2.0",
      "model_name": "LayoutModel",
      "state": {}
     },
     "605c04d91c404a79b2b65159fe0f3d60": {
      "model_module": "@jupyter-widgets/base",
      "model_module_version": "1.2.0",
      "model_name": "LayoutModel",
      "state": {}
     },
     "616c64b280be461aa6927660e6b62dd8": {
      "model_module": "@jupyter-widgets/base",
      "model_module_version": "1.2.0",
      "model_name": "LayoutModel",
      "state": {}
     },
     "617107d70f1e42c4b367f742c5fd680f": {
      "model_module": "jupyter-vuetify",
      "model_module_version": "^0.1.11",
      "model_name": "IconModel",
      "state": {
       "_events": [],
       "children": [
        "format_align_right"
       ],
       "layout": "IPY_MODEL_672b318e4b6040eea9051d99d9163ee7",
       "size": null
      }
     },
     "6280c2d148ee443ea290661371144ecf": {
      "model_module": "@jupyter-widgets/base",
      "model_module_version": "1.2.0",
      "model_name": "LayoutModel",
      "state": {}
     },
     "62e9d4e7e1ca402a83cadd7837058980": {
      "model_module": "@jupyter-widgets/base",
      "model_module_version": "1.2.0",
      "model_name": "LayoutModel",
      "state": {}
     },
     "62faabfc3f8f42dba6e1d9877d1f017a": {
      "model_module": "@jupyter-widgets/base",
      "model_module_version": "1.2.0",
      "model_name": "LayoutModel",
      "state": {}
     },
     "63d1938a877b45c5b2d7275791090cc6": {
      "model_module": "jupyter-vuetify",
      "model_module_version": "^0.1.11",
      "model_name": "BtnModel",
      "state": {
       "_events": [],
       "children": [
        "reset"
       ],
       "href": null,
       "layout": "IPY_MODEL_79cd3129c1d142c885fb3fefd63b9ea7",
       "ripple": null,
       "to": null
      }
     },
     "64cc0339416847f58a94fd6b686db1f5": {
      "model_module": "@jupyter-widgets/base",
      "model_module_version": "1.2.0",
      "model_name": "LayoutModel",
      "state": {}
     },
     "65a5317de7c64ae680f98300e61aa02d": {
      "model_module": "jupyter-vuetify",
      "model_module_version": "^0.1.11",
      "model_name": "BtnModel",
      "state": {
       "_events": [],
       "children": [
        "IPY_MODEL_3ff71f18acb24764a1d99f207d93a609"
       ],
       "color": "primary",
       "flat": true,
       "href": null,
       "icon": true,
       "layout": "IPY_MODEL_95e6c8dad5184f7e82cb8dd08fa34ee9",
       "ripple": null,
       "to": null
      }
     },
     "65bb0c53a9034c9f91d8c8c010bdc482": {
      "model_module": "@jupyter-widgets/base",
      "model_module_version": "1.2.0",
      "model_name": "LayoutModel",
      "state": {}
     },
     "65f5178d38344ab783546326bc745a8a": {
      "model_module": "@jupyter-widgets/base",
      "model_module_version": "1.2.0",
      "model_name": "LayoutModel",
      "state": {}
     },
     "666582669b134967971770907fcc145c": {
      "model_module": "jupyter-vuetify",
      "model_module_version": "^0.1.11",
      "model_name": "BtnModel",
      "state": {
       "_events": [],
       "children": [
        "disabled"
       ],
       "disabled": true,
       "href": null,
       "layout": "IPY_MODEL_f2daad67551648afa0a52f140f352790",
       "ripple": null,
       "to": null
      }
     },
     "672b318e4b6040eea9051d99d9163ee7": {
      "model_module": "@jupyter-widgets/base",
      "model_module_version": "1.2.0",
      "model_name": "LayoutModel",
      "state": {}
     },
     "67c5ffd69ba841a3bc698285a0ff5a23": {
      "model_module": "jupyter-vuetify",
      "model_module_version": "^0.1.11",
      "model_name": "IconModel",
      "state": {
       "_events": [],
       "children": [
        "format_underline"
       ],
       "layout": "IPY_MODEL_4bbd3c04dbe9465082d6d0d2d81dfdd6",
       "size": null
      }
     },
     "68ca2b6349894d998b45c11f1f4a8079": {
      "model_module": "jupyter-vuetify",
      "model_module_version": "^0.1.11",
      "model_name": "BtnModel",
      "state": {
       "_events": [],
       "children": [
        "disabled"
       ],
       "disabled": true,
       "href": null,
       "layout": "IPY_MODEL_c9cfad79645545b388b2f591c25e90a2",
       "ripple": null,
       "to": null
      }
     },
     "68da013a50654c9c87aa96537b83f9d9": {
      "model_module": "@jupyter-widgets/base",
      "model_module_version": "1.2.0",
      "model_name": "LayoutModel",
      "state": {}
     },
     "6989d89496eb43e7a5c63955bb77d28d": {
      "model_module": "@jupyter-widgets/base",
      "model_module_version": "1.2.0",
      "model_name": "LayoutModel",
      "state": {}
     },
     "69ecb2d2e23e45b2bf9128ae4d7af7de": {
      "model_module": "@jupyter-widgets/base",
      "model_module_version": "1.2.0",
      "model_name": "LayoutModel",
      "state": {}
     },
     "6b2b860ff45f42658fb2273eadfec995": {
      "model_module": "jupyter-vuetify",
      "model_module_version": "^0.1.11",
      "model_name": "IconModel",
      "state": {
       "_events": [],
       "children": [
        "format_underline"
       ],
       "layout": "IPY_MODEL_01b58fd7e3ad41f2a523f958be47f3be",
       "size": null
      }
     },
     "6bb97e7eea9040528a092d4383a68f80": {
      "model_module": "@jupyter-widgets/base",
      "model_module_version": "1.2.0",
      "model_name": "LayoutModel",
      "state": {}
     },
     "6d2bcafd940a4d46a4d34d71bb44642a": {
      "model_module": "jupyter-vuetify",
      "model_module_version": "^0.1.11",
      "model_name": "BtnModel",
      "state": {
       "_events": [],
       "children": [
        "flat"
       ],
       "color": "primary",
       "flat": true,
       "href": null,
       "layout": "IPY_MODEL_af6972cfe45f44808199f0888ef65ffc",
       "ripple": null,
       "to": null
      }
     },
     "6e07c322db244e3a9402420e2d99ed89": {
      "model_module": "@jupyter-widgets/base",
      "model_module_version": "1.2.0",
      "model_name": "LayoutModel",
      "state": {}
     },
     "6f17c6544e5d4275a5939397bdb38678": {
      "model_module": "jupyter-vuetify",
      "model_module_version": "^0.1.11",
      "model_name": "ExpansionPanelContentModel",
      "state": {
       "_events": [],
       "children": [
        "IPY_MODEL_f0e80413d3904f02be864113b0b75332",
        "IPY_MODEL_3f090e7469144d60a28b61aaa54dd5c1"
       ],
       "layout": "IPY_MODEL_71df16e864d84e41a0bad47e03c2ddbc",
       "ripple": null
      }
     },
     "70523a1357574680b0d1da176e9dd5d0": {
      "model_module": "@jupyter-widgets/base",
      "model_module_version": "1.2.0",
      "model_name": "LayoutModel",
      "state": {}
     },
     "70638c7043c54b03989667b7b318cec4": {
      "model_module": "jupyter-vuetify",
      "model_module_version": "^0.1.11",
      "model_name": "BtnModel",
      "state": {
       "_events": [],
       "children": [
        "outline"
       ],
       "color": "primary",
       "href": null,
       "layout": "IPY_MODEL_f43b007fd04a4bccb13bfb1354057d39",
       "outline": true,
       "ripple": null,
       "to": null
      }
     },
     "70f5aeca8e2744839aa4cfdc5863c573": {
      "model_module": "@jupyter-widgets/base",
      "model_module_version": "1.2.0",
      "model_name": "LayoutModel",
      "state": {}
     },
     "714d40a6ac7e4cdb88b4a1d88fc271f7": {
      "model_module": "jupyter-vuetify",
      "model_module_version": "^0.1.11",
      "model_name": "LayoutModel",
      "state": {
       "_events": [],
       "children": [
        "IPY_MODEL_f7983b1f9dca4accb5d6bf5788adc059"
       ],
       "layout": "IPY_MODEL_84b17e0b8ee74349aa3e774c1a2bcf2b"
      }
     },
     "716825e96fc54be1acf1b268f37280d4": {
      "model_module": "jupyter-vuetify",
      "model_module_version": "^0.1.11",
      "model_name": "BtnModel",
      "state": {
       "_events": [],
       "children": [
        "reset"
       ],
       "href": null,
       "layout": "IPY_MODEL_84df2ce261104940867dce2c91482cf0",
       "ripple": null,
       "to": null
      }
     },
     "7176d27c2f5f428399e4988e30a6e06d": {
      "model_module": "jupyter-vuetify",
      "model_module_version": "^0.1.11",
      "model_name": "IconModel",
      "state": {
       "_events": [],
       "children": [
        "edit"
       ],
       "layout": "IPY_MODEL_9371d5f07dd54e9a8f65d91e156f158e",
       "size": null
      }
     },
     "71a29ecf18de489182c5265805d651a1": {
      "model_module": "@jupyter-widgets/base",
      "model_module_version": "1.2.0",
      "model_name": "LayoutModel",
      "state": {}
     },
     "71df16e864d84e41a0bad47e03c2ddbc": {
      "model_module": "@jupyter-widgets/base",
      "model_module_version": "1.2.0",
      "model_name": "LayoutModel",
      "state": {}
     },
     "72312c48dde64526b9d7b1760b544e8b": {
      "model_module": "jupyter-vuetify",
      "model_module_version": "^0.1.11",
      "model_name": "BtnModel",
      "state": {
       "_events": [],
       "children": [
        "menu",
        "IPY_MODEL_1d0fc886997543a7bf61f2fef5ba763d"
       ],
       "color": "primary",
       "href": null,
       "layout": "IPY_MODEL_f10f5a4932e742c3ba6d5d116e220f08",
       "ripple": null,
       "slot": "activator",
       "to": null
      }
     },
     "731bc264b1b1447d8e926b6d133338e0": {
      "model_module": "jupyter-vuetify",
      "model_module_version": "^0.1.11",
      "model_name": "IconModel",
      "state": {
       "_events": [],
       "children": [
        "format_align_justify"
       ],
       "layout": "IPY_MODEL_30c436ca6f9344a9a8a1db0b6bf54fff",
       "size": null
      }
     },
     "737adbc7119342268d02feb718731b77": {
      "model_module": "jupyter-vuetify",
      "model_module_version": "^0.1.11",
      "model_name": "ExpansionPanelModel",
      "state": {
       "_events": [],
       "children": [
        "IPY_MODEL_d5ea99ef853d4e27854dd37986bacc7a",
        "IPY_MODEL_6f17c6544e5d4275a5939397bdb38678"
       ],
       "layout": "IPY_MODEL_f6a5a4f11b534e448da17b1e8350e26e",
       "value": null
      }
     },
     "74a2d152da5a493899db590bffee6258": {
      "model_module": "@jupyter-widgets/base",
      "model_module_version": "1.2.0",
      "model_name": "LayoutModel",
      "state": {}
     },
     "7575417f936041668eb58c3f6a89e67c": {
      "model_module": "@jupyter-widgets/base",
      "model_module_version": "1.2.0",
      "model_name": "LayoutModel",
      "state": {}
     },
     "7589b73da76941f0b66708c1b00e2447": {
      "model_module": "jupyter-vuetify",
      "model_module_version": "^0.1.11",
      "model_name": "BtnModel",
      "state": {
       "_events": [],
       "children": [
        "tooltip"
       ],
       "color": "primary",
       "href": null,
       "layout": "IPY_MODEL_ab46577179ee4c0880fe4dc66c159573",
       "ripple": null,
       "slot": "activator",
       "to": null
      }
     },
     "759400f6fd4f49e3b9d878d57f0c48f4": {
      "model_module": "@jupyter-widgets/base",
      "model_module_version": "1.2.0",
      "model_name": "LayoutModel",
      "state": {}
     },
     "7680a1d61e914a05beafadf301e6bcf9": {
      "model_module": "jupyter-vuetify",
      "model_module_version": "^0.1.11",
      "model_name": "ChipModel",
      "state": {
       "_events": [],
       "children": [],
       "layout": "IPY_MODEL_c24a09882a6243ee82907f4b1e87f344"
      }
     },
     "76a187170c464a36b87eb190b4a02c59": {
      "model_module": "jupyter-vuetify",
      "model_module_version": "^0.1.11",
      "model_name": "ListTileModel",
      "state": {
       "_events": [
        "click"
       ],
       "children": [
        "IPY_MODEL_a7c53c52b66943b6860232533e03f140"
       ],
       "href": null,
       "layout": "IPY_MODEL_2413106f31af40bf9940d8d5349b49fd",
       "ripple": null,
       "to": null
      }
     },
     "76d83d4c4f5a4462a5c1d25b166f90eb": {
      "model_module": "@jupyter-widgets/base",
      "model_module_version": "1.2.0",
      "model_name": "LayoutModel",
      "state": {}
     },
     "772953993f3343bd92c31f0a1171eb40": {
      "model_module": "jupyter-vuetify",
      "model_module_version": "^0.1.11",
      "model_name": "CardModel",
      "state": {
       "_events": [],
       "children": [
        "IPY_MODEL_19eb9d82c58040ef9a8c2e9283c50e10",
        "IPY_MODEL_7d4a4a145aff45ecbbdff917bb11a449"
       ],
       "elevation": null,
       "height": null,
       "href": null,
       "layout": "IPY_MODEL_bf147518a9854e70ba8a062e7117d4d0",
       "max_height": null,
       "max_width": null,
       "min_height": null,
       "min_width": null,
       "ripple": null,
       "to": null,
       "width": null
      }
     },
     "77dff490472a4ec09ddeb29e031d1165": {
      "model_module": "jupyter-vuetify",
      "model_module_version": "^0.1.11",
      "model_name": "CardModel",
      "state": {
       "_events": [],
       "children": [
        "IPY_MODEL_09268454904d43ada71422a53a05fbb3"
       ],
       "elevation": null,
       "height": null,
       "href": null,
       "layout": "IPY_MODEL_a396af847fce4233b5baafe034eb5bfe",
       "max_height": null,
       "max_width": null,
       "min_height": null,
       "min_width": null,
       "ripple": null,
       "to": null,
       "width": null
      }
     },
     "78242c9dee494d6fb2690da6ae4822a0": {
      "model_module": "jupyter-vuetify",
      "model_module_version": "^0.1.11",
      "model_name": "BtnModel",
      "state": {
       "_events": [],
       "children": [
        "IPY_MODEL_3e9a1164bfb2464c98ad90b2094de397"
       ],
       "flat": true,
       "href": null,
       "layout": "IPY_MODEL_fb968001de23465fad8fab03b63a34a2",
       "ripple": null,
       "to": null
      }
     },
     "7843a197017b40ff8db7392404f3d4f1": {
      "model_module": "jupyter-vuetify",
      "model_module_version": "^0.1.11",
      "model_name": "TabItemModel",
      "state": {
       "_events": [],
       "children": [
        "Lorem ipsum dolor sit amet, consectetur adipiscing elit, sed do eiusmod tempor incididunt ut labore et dolore magna aliqua."
       ],
       "layout": "IPY_MODEL_f66690270d6d41bea7378fb140726d5a",
       "reverse_transition": null,
       "transition": null
      }
     },
     "785c6857dcdf4fcb85bb4e5c97f264f4": {
      "model_module": "@jupyter-widgets/base",
      "model_module_version": "1.2.0",
      "model_name": "LayoutModel",
      "state": {}
     },
     "7891b17954454b4dbe00bbb920c501ac": {
      "model_module": "jupyter-vuetify",
      "model_module_version": "^0.1.11",
      "model_name": "SliderModel",
      "state": {
       "_events": [],
       "children": [],
       "error_count": null,
       "error_messages": null,
       "height": null,
       "layout": "IPY_MODEL_10f9863ffec44248a34069d6974c8a15",
       "loading": null,
       "max": null,
       "messages": null,
       "min": null,
       "rules": [],
       "step": null,
       "success_messages": null,
       "thumb_label": null,
       "thumb_size": null,
       "tick_labels": [],
       "tick_size": null,
       "ticks": null,
       "v_model": 25,
       "value": null
      }
     },
     "78b580a542c64daaa395fa42db245e91": {
      "model_module": "@jupyter-widgets/base",
      "model_module_version": "1.2.0",
      "model_name": "LayoutModel",
      "state": {}
     },
     "78daac9cb8154be8ae658da587383c41": {
      "model_module": "@jupyter-widgets/base",
      "model_module_version": "1.2.0",
      "model_name": "LayoutModel",
      "state": {}
     },
     "7922c29b79ce4e88925fb50a70ff9a5c": {
      "model_module": "jupyter-vuetify",
      "model_module_version": "^0.1.11",
      "model_name": "TabItemModel",
      "state": {
       "_events": [],
       "children": [
        "Lorem ipsum dolor sit amet, consectetur adipiscing elit, sed do eiusmod tempor incididunt ut labore et dolore magna aliqua."
       ],
       "layout": "IPY_MODEL_dd1737d265a8467e8236b12797b15ac5",
       "reverse_transition": null,
       "transition": null
      }
     },
     "79250824cc4941efa9ec663b91aa8171": {
      "model_module": "@jupyter-widgets/base",
      "model_module_version": "1.2.0",
      "model_name": "LayoutModel",
      "state": {}
     },
     "79b4fd33cc4e440696ddfd4904fe609c": {
      "model_module": "@jupyter-widgets/base",
      "model_module_version": "1.2.0",
      "model_name": "LayoutModel",
      "state": {}
     },
     "79cd3129c1d142c885fb3fefd63b9ea7": {
      "model_module": "@jupyter-widgets/base",
      "model_module_version": "1.2.0",
      "model_name": "LayoutModel",
      "state": {}
     },
     "79f614fd53f44f8c98b9cf4c7c45472d": {
      "model_module": "@jupyter-widgets/base",
      "model_module_version": "1.2.0",
      "model_name": "LayoutModel",
      "state": {}
     },
     "7b39c7ea91014da7ba09f05008511b37": {
      "model_module": "@jupyter-widgets/base",
      "model_module_version": "1.2.0",
      "model_name": "LayoutModel",
      "state": {}
     },
     "7b978e9ad0f6493fad49ae7cee7e1f4a": {
      "model_module": "jupyter-vuetify",
      "model_module_version": "^0.1.11",
      "model_name": "LayoutModel",
      "state": {
       "_events": [],
       "children": [
        "IPY_MODEL_d3fa837056ba442595f6f4f98d58638c",
        "IPY_MODEL_98ad668cfc374d36ba30d9af501f9bd7"
       ],
       "layout": "IPY_MODEL_2b45403e39ec45bebbd89b2ce2103a57"
      }
     },
     "7c28e07824544acca14ed5c455a988e2": {
      "model_module": "@jupyter-widgets/base",
      "model_module_version": "1.2.0",
      "model_name": "LayoutModel",
      "state": {}
     },
     "7cc1b866d1e24203ad28cc9115ba6a36": {
      "model_module": "jupyter-vuetify",
      "model_module_version": "^0.1.11",
      "model_name": "IconModel",
      "state": {
       "_events": [],
       "children": [
        "format_underline"
       ],
       "layout": "IPY_MODEL_153e606886ff4d58a1b1ef67f9f3c39f",
       "size": null
      }
     },
     "7ce3a0c27e2745c88799e893217177da": {
      "model_module": "@jupyter-widgets/base",
      "model_module_version": "1.2.0",
      "model_name": "LayoutModel",
      "state": {}
     },
     "7d43482f1bf745f88c8ded93b4de7558": {
      "model_module": "@jupyter-widgets/base",
      "model_module_version": "1.2.0",
      "model_name": "LayoutModel",
      "state": {}
     },
     "7d4a4a145aff45ecbbdff917bb11a449": {
      "model_module": "jupyter-vuetify",
      "model_module_version": "^0.1.11",
      "model_name": "CardTextModel",
      "state": {
       "_events": [],
       "children": [
        "Lorem ipsum dolor sit amet, consectetur adipiscing elit, sed do eiusmod tempor incididunt ut labore et dolore magna aliqua."
       ],
       "layout": "IPY_MODEL_d1967796f2d840399112637268089906"
      }
     },
     "7d7d6d92d7dd4963be5546c29d41e695": {
      "model_module": "@jupyter-widgets/base",
      "model_module_version": "1.2.0",
      "model_name": "LayoutModel",
      "state": {}
     },
     "7dd489e1b9ed40e88980eda78f1fdce3": {
      "model_module": "@jupyter-widgets/base",
      "model_module_version": "1.2.0",
      "model_name": "LayoutModel",
      "state": {}
     },
     "7dd7401d065a44c7811f32443998edb5": {
      "model_module": "@jupyter-widgets/base",
      "model_module_version": "1.2.0",
      "model_name": "LayoutModel",
      "state": {}
     },
     "7de8b2eed1c944849c231c82198dc0dd": {
      "model_module": "jupyter-vuetify",
      "model_module_version": "^0.1.11",
      "model_name": "ListTileModel",
      "state": {
       "_events": [
        "click"
       ],
       "children": [
        "IPY_MODEL_5714e353d89a4e279fb2ef3384fb3519"
       ],
       "href": null,
       "layout": "IPY_MODEL_95da1eb4a50c4f259e090ea3428480f1",
       "ripple": null,
       "to": null
      }
     },
     "7dfaab6fe4f74db98bb6a9fa96ffe292": {
      "model_module": "@jupyter-widgets/base",
      "model_module_version": "1.2.0",
      "model_name": "LayoutModel",
      "state": {}
     },
     "7e1e993bd4bb43e0bb9e37be0f72e168": {
      "model_module": "jupyter-vuetify",
      "model_module_version": "^0.1.11",
      "model_name": "ContainerModel",
      "state": {
       "_events": [],
       "children": [
        "IPY_MODEL_813a0707564a4caca2865174103da543",
        "IPY_MODEL_1c03ff90dd3c4b7894d86d497138007a"
       ],
       "layout": "IPY_MODEL_94b70669473f4dbfbfba0461f21a5240"
      }
     },
     "7e38ffececc44b769117dc9b9658585e": {
      "model_module": "@jupyter-widgets/base",
      "model_module_version": "1.2.0",
      "model_name": "LayoutModel",
      "state": {}
     },
     "7eb22409cbdd405993683589050e8bfe": {
      "model_module": "jupyter-vuetify",
      "model_module_version": "^0.1.11",
      "model_name": "IconModel",
      "state": {
       "_events": [],
       "children": [
        "edit"
       ],
       "layout": "IPY_MODEL_ba088839275a4d5ea9baf9324fa88a1b",
       "size": null
      }
     },
     "7efe97f35fce4803a1363de901d471b7": {
      "model_module": "@jupyter-widgets/base",
      "model_module_version": "1.2.0",
      "model_name": "LayoutModel",
      "state": {}
     },
     "7fbae291ca0049279706a4e3bc54b99a": {
      "model_module": "@jupyter-widgets/base",
      "model_module_version": "1.2.0",
      "model_name": "LayoutModel",
      "state": {}
     },
     "808e1d04f58144c3bb3bfc0c164c8e2c": {
      "model_module": "@jupyter-widgets/base",
      "model_module_version": "1.2.0",
      "model_name": "LayoutModel",
      "state": {}
     },
     "80b9af4a7f5a4d65ae9cfbc61a096dc7": {
      "model_module": "@jupyter-widgets/base",
      "model_module_version": "1.2.0",
      "model_name": "LayoutModel",
      "state": {}
     },
     "80d1e12c642a49788a797b5d8dbf525b": {
      "model_module": "@jupyter-widgets/base",
      "model_module_version": "1.2.0",
      "model_name": "LayoutModel",
      "state": {}
     },
     "813a0707564a4caca2865174103da543": {
      "model_module": "jupyter-vuetify",
      "model_module_version": "^0.1.11",
      "model_name": "SliderModel",
      "state": {
       "_events": [],
       "children": [],
       "error_count": null,
       "error_messages": null,
       "height": null,
       "layout": "IPY_MODEL_2f34e9ab604447ffbae0c2d8b7681f14",
       "loading": null,
       "max": null,
       "messages": null,
       "min": null,
       "rules": [],
       "step": null,
       "success_messages": null,
       "thumb_label": null,
       "thumb_size": null,
       "tick_labels": [],
       "tick_size": null,
       "ticks": null,
       "v_model": 25,
       "value": null
      }
     },
     "81444fbad6b8431cbde4dfe9e19996d3": {
      "model_module": "@jupyter-widgets/base",
      "model_module_version": "1.2.0",
      "model_name": "LayoutModel",
      "state": {}
     },
     "815a63db94664ac99ef174e45bcdfed1": {
      "model_module": "@jupyter-widgets/base",
      "model_module_version": "1.2.0",
      "model_name": "LayoutModel",
      "state": {}
     },
     "81b5e960ea2d4b58a2ab11a8b6215738": {
      "model_module": "jupyter-vuetify",
      "model_module_version": "^0.1.11",
      "model_name": "ListTileModel",
      "state": {
       "_events": [
        "click"
       ],
       "children": [
        "IPY_MODEL_1c43dd9f563b4c70b434785f36842fee"
       ],
       "href": null,
       "layout": "IPY_MODEL_db60a50a47e34402b33ebbbec7db5fa4",
       "ripple": null,
       "to": null
      }
     },
     "8253cd0523054153b8bcd74007c0b4d0": {
      "model_module": "jupyter-vuetify",
      "model_module_version": "^0.1.11",
      "model_name": "TabItemModel",
      "state": {
       "_events": [],
       "children": [
        "Lorem ipsum dolor sit amet, consectetur adipiscing elit, sed do eiusmod tempor incididunt ut labore et dolore magna aliqua."
       ],
       "layout": "IPY_MODEL_3fd4a81efae14628a36a0a502b726c29",
       "reverse_transition": null,
       "transition": null
      }
     },
     "827c6ea663f04d17ab9ff09fd7526c1a": {
      "model_module": "@jupyter-widgets/base",
      "model_module_version": "1.2.0",
      "model_name": "LayoutModel",
      "state": {}
     },
     "8353b1224f9d4cb5b460096404fa775e": {
      "model_module": "jupyter-vuetify",
      "model_module_version": "^0.1.11",
      "model_name": "CardModel",
      "state": {
       "_events": [],
       "children": [
        "IPY_MODEL_ff5fbe9409f24a0ba5942ebfde11b62b"
       ],
       "elevation": null,
       "height": null,
       "href": null,
       "layout": "IPY_MODEL_e5daf71ff0be478c80a11d6e7721bfcb",
       "max_height": null,
       "max_width": null,
       "min_height": null,
       "min_width": null,
       "ripple": null,
       "to": null,
       "width": null
      }
     },
     "8359a37fe04a40fd9dbadcaec653b58e": {
      "model_module": "jupyter-vuetify",
      "model_module_version": "^0.1.11",
      "model_name": "ChipModel",
      "state": {
       "_events": [],
       "children": [],
       "layout": "IPY_MODEL_409fabe68c62409497c246f4731e36ae"
      }
     },
     "83ad395e5bd54fc4862c6c601d02d827": {
      "model_module": "@jupyter-widgets/base",
      "model_module_version": "1.2.0",
      "model_name": "LayoutModel",
      "state": {}
     },
     "840b7131b4744f068356b49906751ad1": {
      "model_module": "jupyter-vuetify",
      "model_module_version": "^0.1.11",
      "model_name": "LayoutModel",
      "state": {
       "_events": [],
       "children": [
        "IPY_MODEL_3e440ef282334f9fa9dd1bc42d99549b",
        "IPY_MODEL_d78aabf2752541cabf1eb04e1e95a7b4",
        "IPY_MODEL_f2725324e9b24b1c962c83a9765a7e27",
        "IPY_MODEL_5c41139475a6413dbee7e3d9fdb582d7"
       ],
       "layout": "IPY_MODEL_991cf6efd357455397595d671f2537cb"
      }
     },
     "84b17e0b8ee74349aa3e774c1a2bcf2b": {
      "model_module": "@jupyter-widgets/base",
      "model_module_version": "1.2.0",
      "model_name": "LayoutModel",
      "state": {}
     },
     "84df2ce261104940867dce2c91482cf0": {
      "model_module": "@jupyter-widgets/base",
      "model_module_version": "1.2.0",
      "model_name": "LayoutModel",
      "state": {}
     },
     "85f3cd4f97a1406f8e230e341004f4f0": {
      "model_module": "@jupyter-widgets/base",
      "model_module_version": "1.2.0",
      "model_name": "LayoutModel",
      "state": {}
     },
     "85f5a2f9c9a546f3bdad1ce8fa70cd6f": {
      "model_module": "@jupyter-widgets/base",
      "model_module_version": "1.2.0",
      "model_name": "LayoutModel",
      "state": {}
     },
     "867a03dd0dae458db232777c0625f8cd": {
      "model_module": "jupyter-vuetify",
      "model_module_version": "^0.1.11",
      "model_name": "ListTileTitleModel",
      "state": {
       "_events": [],
       "children": [
        "Item 1"
       ],
       "layout": "IPY_MODEL_4f0a2709937047b496a74ed4ade3e643"
      }
     },
     "870f9ec2b89e4a2080123128531c8c8d": {
      "model_module": "@jupyter-widgets/base",
      "model_module_version": "1.2.0",
      "model_name": "LayoutModel",
      "state": {}
     },
     "87d6c9d741ed4bb5b966a470114f6d4d": {
      "model_module": "@jupyter-widgets/base",
      "model_module_version": "1.2.0",
      "model_name": "LayoutModel",
      "state": {}
     },
     "8812024a34ae4040a319264c0007991f": {
      "model_module": "jupyter-vuetify",
      "model_module_version": "^0.1.11",
      "model_name": "ExpansionPanelContentModel",
      "state": {
       "_events": [],
       "children": [
        "IPY_MODEL_8986561f8e19400f8ef7905c792fc932",
        "IPY_MODEL_a53ab01330364ff38b77bd71011e3e3b"
       ],
       "layout": "IPY_MODEL_2fd9c834dc9f43c3996e87395f07921d",
       "ripple": null
      }
     },
     "884af4a04aa443cfa9e2a4673ad11b52": {
      "model_module": "jupyter-vuetify",
      "model_module_version": "^0.1.11",
      "model_name": "ExpansionPanelContentModel",
      "state": {
       "_events": [],
       "children": [
        "IPY_MODEL_c04196fea32f49869a365d977666bbea",
        "IPY_MODEL_cf4ae35ff2e043eb972e29a1e1a465a4"
       ],
       "layout": "IPY_MODEL_b89e3c97daea433bacb0e2d2abcc629d",
       "ripple": null
      }
     },
     "8986561f8e19400f8ef7905c792fc932": {
      "model_module": "jupyter-vuetify",
      "model_module_version": "^0.1.11",
      "model_name": "HtmlModel",
      "state": {
       "_events": [],
       "children": [
        "item1"
       ],
       "layout": "IPY_MODEL_160ccb8b03ac4e849f5286016f265fc1",
       "slot": "header",
       "tag": "div"
      }
     },
     "89db00abccda473ab179bf3c40ed3fd9": {
      "model_module": "jupyter-vuetify",
      "model_module_version": "^0.1.11",
      "model_name": "ExpansionPanelModel",
      "state": {
       "_events": [],
       "children": [
        "IPY_MODEL_8812024a34ae4040a319264c0007991f",
        "IPY_MODEL_884af4a04aa443cfa9e2a4673ad11b52"
       ],
       "layout": "IPY_MODEL_b8187134300b4119a734fe8c2c498479",
       "value": null
      }
     },
     "8ac9f6d4be234c4f88e0edc075e89cbb": {
      "model_module": "jupyter-vuetify",
      "model_module_version": "^0.1.11",
      "model_name": "MenuModel",
      "state": {
       "_events": [],
       "children": [
        "IPY_MODEL_8d760f1d4747482f93b02450abad6bb2",
        "IPY_MODEL_92f61e3da5264361897ab6db7a676967"
       ],
       "close_delay": null,
       "layout": "IPY_MODEL_04aeaa30a6d64824954a2f645495d804",
       "max_width": null,
       "min_width": null,
       "nudge_bottom": null,
       "nudge_left": null,
       "nudge_right": null,
       "nudge_top": null,
       "nudge_width": null,
       "offset_y": true,
       "open_delay": null,
       "transition": null,
       "z_index": null
      }
     },
     "8ad93ca0da6f45cba36bee86bc1c1b0b": {
      "model_module": "@jupyter-widgets/base",
      "model_module_version": "1.2.0",
      "model_name": "LayoutModel",
      "state": {}
     },
     "8b1dbfdddbd54035b0cd50af479e6fb0": {
      "model_module": "jupyter-vuetify",
      "model_module_version": "^0.1.11",
      "model_name": "BtnModel",
      "state": {
       "_events": [],
       "children": [
        "error"
       ],
       "color": "error",
       "href": null,
       "layout": "IPY_MODEL_48f8343c011c463a8407880a44d666ea",
       "ripple": null,
       "to": null
      }
     },
     "8b425c5dd14447f09e25fa5b40f627eb": {
      "model_module": "@jupyter-widgets/base",
      "model_module_version": "1.2.0",
      "model_name": "LayoutModel",
      "state": {}
     },
     "8b491097751046f2b0e6426c59aff6c5": {
      "model_module": "@jupyter-widgets/base",
      "model_module_version": "1.2.0",
      "model_name": "LayoutModel",
      "state": {}
     },
     "8bbba4eeaac74474be45b2f6b1fe1406": {
      "model_module": "jupyter-vuetify",
      "model_module_version": "^0.1.11",
      "model_name": "LayoutModel",
      "state": {
       "_events": [],
       "children": [
        "IPY_MODEL_5e92fe05493947918c9a2902413f6f73"
       ],
       "layout": "IPY_MODEL_4f4adc6be9df41bea80024b1a026c424"
      }
     },
     "8c3c93d28b51469a84e90eccf941305f": {
      "model_module": "@jupyter-widgets/base",
      "model_module_version": "1.2.0",
      "model_name": "LayoutModel",
      "state": {}
     },
     "8c88ed5587944210b2bb7433898eede8": {
      "model_module": "jupyter-vuetify",
      "model_module_version": "^0.1.11",
      "model_name": "IconModel",
      "state": {
       "_events": [],
       "children": [
        "format_italic"
       ],
       "layout": "IPY_MODEL_5c6f1e5d98204bac8e3bd866d89ea662",
       "size": null
      }
     },
     "8d1e57bdd01f41639b867a39ddd22f19": {
      "model_module": "jupyter-vuetify",
      "model_module_version": "^0.1.11",
      "model_name": "IconModel",
      "state": {
       "_events": [],
       "children": [
        "format_italic"
       ],
       "layout": "IPY_MODEL_2f6b924ae62847f4832f1fa24575f56d",
       "size": null
      }
     },
     "8d760f1d4747482f93b02450abad6bb2": {
      "model_module": "jupyter-vuetify",
      "model_module_version": "^0.1.11",
      "model_name": "BtnModel",
      "state": {
       "_events": [],
       "children": [
        "menu",
        "IPY_MODEL_99b213fff9cc43a0bb21b1587deb6d85"
       ],
       "color": "primary",
       "href": null,
       "layout": "IPY_MODEL_13345f9b84e34c1680f9b63e78a5d0a6",
       "ripple": null,
       "slot": "activator",
       "to": null
      }
     },
     "8d9a4dca573046c48039496870913f69": {
      "model_module": "@jupyter-widgets/base",
      "model_module_version": "1.2.0",
      "model_name": "LayoutModel",
      "state": {}
     },
     "8e208695ee9647dab133aa2465741a7f": {
      "model_module": "jupyter-vuetify",
      "model_module_version": "^0.1.11",
      "model_name": "TabModel",
      "state": {
       "_events": [],
       "children": [
        "Tab 1"
       ],
       "href": null,
       "layout": "IPY_MODEL_fdd08092363e48b58ea81fe1c74ffd10",
       "ripple": null,
       "to": null
      }
     },
     "8e45155ac7284f70ae3ffdb5d99e4b35": {
      "model_module": "jupyter-vuetify",
      "model_module_version": "^0.1.11",
      "model_name": "IconModel",
      "state": {
       "_events": [],
       "children": [
        "format_italic"
       ],
       "layout": "IPY_MODEL_5d699172d463459b81949adbb99062f2",
       "size": null
      }
     },
     "8f2b98bf08614db2aa5b15f093b24a65": {
      "model_module": "jupyter-vuetify",
      "model_module_version": "^0.1.11",
      "model_name": "BtnToggleModel",
      "state": {
       "_events": [],
       "children": [
        "IPY_MODEL_d91429f1102f4eb8b38e164a8dcb4929",
        "IPY_MODEL_911d63f56b9a4aa8bcc818ad00d7ae9a",
        "IPY_MODEL_5a5e757956504de28722acaa54bb74ad",
        "IPY_MODEL_2f286f39ec7643e7b05b7bb5498fdc2a"
       ],
       "class_": "mr-3",
       "layout": "IPY_MODEL_90d1260146084f23b7d5e1c840cb44d3",
       "max": null,
       "v_model": 2
      }
     },
     "8fcda67f4aff473c857d5f7f9b285b9f": {
      "model_module": "jupyter-vuetify",
      "model_module_version": "^0.1.11",
      "model_name": "BtnModel",
      "state": {
       "_events": [],
       "children": [
        "flat"
       ],
       "color": "primary",
       "flat": true,
       "href": null,
       "layout": "IPY_MODEL_fd558aa759ea4bb6be4fbedb6de8a044",
       "ripple": null,
       "to": null
      }
     },
     "907dbdb20d37454ba733371be74d7c04": {
      "model_module": "@jupyter-widgets/base",
      "model_module_version": "1.2.0",
      "model_name": "LayoutModel",
      "state": {}
     },
     "907e7a5d538d423d94d5476bd86578e7": {
      "model_module": "@jupyter-widgets/base",
      "model_module_version": "1.2.0",
      "model_name": "LayoutModel",
      "state": {}
     },
     "90d1260146084f23b7d5e1c840cb44d3": {
      "model_module": "@jupyter-widgets/base",
      "model_module_version": "1.2.0",
      "model_name": "LayoutModel",
      "state": {}
     },
     "911d63f56b9a4aa8bcc818ad00d7ae9a": {
      "model_module": "jupyter-vuetify",
      "model_module_version": "^0.1.11",
      "model_name": "BtnModel",
      "state": {
       "_events": [],
       "children": [
        "IPY_MODEL_a02cdadf128a4d4da0857eb541f4927a"
       ],
       "flat": true,
       "href": null,
       "layout": "IPY_MODEL_b1e9211710cf4fbdabddfa3c7c39e52a",
       "ripple": null,
       "to": null
      }
     },
     "9139d9ce81834c4c901cb46e9ead7197": {
      "model_module": "@jupyter-widgets/base",
      "model_module_version": "1.2.0",
      "model_name": "LayoutModel",
      "state": {}
     },
     "914ff3917d31455ba245cbea58c1b9b3": {
      "model_module": "@jupyter-widgets/base",
      "model_module_version": "1.2.0",
      "model_name": "LayoutModel",
      "state": {}
     },
     "91a79f47d84d43fb8c520c6832893faa": {
      "model_module": "@jupyter-widgets/base",
      "model_module_version": "1.2.0",
      "model_name": "LayoutModel",
      "state": {}
     },
     "91b14c1eab2a4915b8180b1123e5537e": {
      "model_module": "@jupyter-widgets/base",
      "model_module_version": "1.2.0",
      "model_name": "LayoutModel",
      "state": {}
     },
     "924fe9bbd11c490aac4fadcbfe33eae1": {
      "model_module": "jupyter-vuetify",
      "model_module_version": "^0.1.11",
      "model_name": "BtnModel",
      "state": {
       "_events": [],
       "children": [
        "primary"
       ],
       "color": "primary",
       "href": null,
       "layout": "IPY_MODEL_d7406bb80f68455c9468a5bd92bfc189",
       "ripple": null,
       "to": null
      }
     },
     "92cd8d155caa46dd858962c3fc4a04b2": {
      "model_module": "@jupyter-widgets/base",
      "model_module_version": "1.2.0",
      "model_name": "LayoutModel",
      "state": {}
     },
     "92f61e3da5264361897ab6db7a676967": {
      "model_module": "jupyter-vuetify",
      "model_module_version": "^0.1.11",
      "model_name": "ListModel",
      "state": {
       "_events": [],
       "children": [
        "IPY_MODEL_81b5e960ea2d4b58a2ab11a8b6215738",
        "IPY_MODEL_5814adb77ecf456281ce35f8608951b7",
        "IPY_MODEL_a6dbb1f2bff3488ebbc7c39610ca992e",
        "IPY_MODEL_76a187170c464a36b87eb190b4a02c59"
       ],
       "layout": "IPY_MODEL_cddbfd48366b43a3a07f4d1ba0369eed"
      }
     },
     "9371d5f07dd54e9a8f65d91e156f158e": {
      "model_module": "@jupyter-widgets/base",
      "model_module_version": "1.2.0",
      "model_name": "LayoutModel",
      "state": {}
     },
     "9411ef023d9342bda96a85833105a8db": {
      "model_module": "@jupyter-widgets/base",
      "model_module_version": "1.2.0",
      "model_name": "LayoutModel",
      "state": {}
     },
     "9416a24bb16c4d88a5778b789a848b91": {
      "model_module": "jupyter-vuetify",
      "model_module_version": "^0.1.11",
      "model_name": "IconModel",
      "state": {
       "_events": [],
       "children": [
        "thumb_up"
       ],
       "layout": "IPY_MODEL_2901acc2056547bcb13484fd2555707e",
       "size": null
      }
     },
     "9483c55b00a3441895c6d9fc776d9432": {
      "model_module": "jupyter-vuetify",
      "model_module_version": "^0.1.11",
      "model_name": "CardTextModel",
      "state": {
       "_events": [],
       "children": [
        "First Text"
       ],
       "layout": "IPY_MODEL_605c04d91c404a79b2b65159fe0f3d60"
      }
     },
     "94b70669473f4dbfbfba0461f21a5240": {
      "model_module": "@jupyter-widgets/base",
      "model_module_version": "1.2.0",
      "model_name": "LayoutModel",
      "state": {}
     },
     "94d1c93cc77746688acbc3d4d8659a7a": {
      "model_module": "@jupyter-widgets/base",
      "model_module_version": "1.2.0",
      "model_name": "LayoutModel",
      "state": {}
     },
     "9533f5772fed421280d3439384a1c90d": {
      "model_module": "jupyter-vuetify",
      "model_module_version": "^0.1.11",
      "model_name": "BtnModel",
      "state": {
       "_events": [],
       "children": [
        "IPY_MODEL_aadc718a4e6d4e418dcc5f0b9cf03f18",
        "Icon left"
       ],
       "color": "primary",
       "href": null,
       "layout": "IPY_MODEL_b1c27e04816c460a9100e585255965ab",
       "ripple": null,
       "to": null
      }
     },
     "955dee71727348549f6778a17f956e10": {
      "model_module": "jupyter-vuetify",
      "model_module_version": "^0.1.11",
      "model_name": "TabModel",
      "state": {
       "_events": [],
       "children": [
        "Tab 1"
       ],
       "href": null,
       "layout": "IPY_MODEL_7dfaab6fe4f74db98bb6a9fa96ffe292",
       "ripple": null,
       "to": null
      }
     },
     "956af0c3e9514f7f84c4da420049300c": {
      "model_module": "jupyter-vuetify",
      "model_module_version": "^0.1.11",
      "model_name": "LayoutModel",
      "state": {
       "_events": [],
       "children": [
        "IPY_MODEL_9f4d80cb8f9f49b0927ed50e244a391f",
        "IPY_MODEL_05893847b57f4818a52985469a30f789",
        "IPY_MODEL_10bf37a7761f4d10beea9eca2e934770",
        "IPY_MODEL_e71e2b8126454a4398abc4cbd71fbf45",
        "IPY_MODEL_f66f9b93cf354d74a889e805249c7573"
       ],
       "layout": "IPY_MODEL_97090c17d39e47a9b12dd708262d6485"
      }
     },
     "9586fde0997547d5b35e34bdb0b814c0": {
      "model_module": "@jupyter-widgets/base",
      "model_module_version": "1.2.0",
      "model_name": "LayoutModel",
      "state": {}
     },
     "95da1eb4a50c4f259e090ea3428480f1": {
      "model_module": "@jupyter-widgets/base",
      "model_module_version": "1.2.0",
      "model_name": "LayoutModel",
      "state": {}
     },
     "95e6c8dad5184f7e82cb8dd08fa34ee9": {
      "model_module": "@jupyter-widgets/base",
      "model_module_version": "1.2.0",
      "model_name": "LayoutModel",
      "state": {}
     },
     "96d2e5fef9c24396b87829aeef895093": {
      "model_module": "@jupyter-widgets/base",
      "model_module_version": "1.2.0",
      "model_name": "LayoutModel",
      "state": {}
     },
     "96d7be2fdace4cc884d414898d3f636c": {
      "model_module": "@jupyter-widgets/base",
      "model_module_version": "1.2.0",
      "model_name": "LayoutModel",
      "state": {}
     },
     "96ee87e7209a4475ad0b1e27b2c21232": {
      "model_module": "jupyter-vuetify",
      "model_module_version": "^0.1.11",
      "model_name": "CardModel",
      "state": {
       "_events": [],
       "children": [
        "IPY_MODEL_08c1fc26e3624dfa97dc93953f924814",
        "IPY_MODEL_cd5707f7b1ac47ba9a88ebfea54c0d76"
       ],
       "elevation": null,
       "height": null,
       "href": null,
       "layout": "IPY_MODEL_c29ddacdf2d343e8873a97fe298ccf1f",
       "max_height": null,
       "max_width": null,
       "min_height": null,
       "min_width": null,
       "ripple": null,
       "to": null,
       "width": null
      }
     },
     "97090c17d39e47a9b12dd708262d6485": {
      "model_module": "@jupyter-widgets/base",
      "model_module_version": "1.2.0",
      "model_name": "LayoutModel",
      "state": {}
     },
     "97b7bf40cea1477aaa434d8c8eb30b16": {
      "model_module": "@jupyter-widgets/base",
      "model_module_version": "1.2.0",
      "model_name": "LayoutModel",
      "state": {}
     },
     "983a64bcf4174ae69a7508cd997a3de8": {
      "model_module": "jupyter-vuetify",
      "model_module_version": "^0.1.11",
      "model_name": "TabModel",
      "state": {
       "_events": [],
       "children": [
        "Tab 3"
       ],
       "href": null,
       "layout": "IPY_MODEL_17ab562e0d3a4182b53b7ba642bead9d",
       "ripple": null,
       "to": null
      }
     },
     "98ad668cfc374d36ba30d9af501f9bd7": {
      "model_module": "jupyter-vuetify",
      "model_module_version": "^0.1.11",
      "model_name": "BtnToggleModel",
      "state": {
       "_events": [],
       "children": [
        "IPY_MODEL_a6cd76f5863d40cb9e64cf8fff360a7e",
        "IPY_MODEL_a9ea67ff4f1d4620bdae2d2f7fa57589",
        "IPY_MODEL_42e3d0b61ad64066b50680f4e1b8c27b",
        "IPY_MODEL_d9722a6980a549af8c5d68d4f9ad94c3"
       ],
       "layout": "IPY_MODEL_5b1ae768a5b3410e8b94f4a9fb85f016",
       "max": null,
       "multiple": true,
       "v_model": [
        0,
        2
       ]
      }
     },
     "98b851b61d9741778e29ec75184eeea0": {
      "model_module": "@jupyter-widgets/base",
      "model_module_version": "1.2.0",
      "model_name": "LayoutModel",
      "state": {}
     },
     "98dace6358fd43eb8c46683cf386c82b": {
      "model_module": "jupyter-vuetify",
      "model_module_version": "^0.1.11",
      "model_name": "ListTileTitleModel",
      "state": {
       "_events": [],
       "children": [
        "Item 3"
       ],
       "layout": "IPY_MODEL_78daac9cb8154be8ae658da587383c41"
      }
     },
     "991cf6efd357455397595d671f2537cb": {
      "model_module": "@jupyter-widgets/base",
      "model_module_version": "1.2.0",
      "model_name": "LayoutModel",
      "state": {}
     },
     "99b213fff9cc43a0bb21b1587deb6d85": {
      "model_module": "jupyter-vuetify",
      "model_module_version": "^0.1.11",
      "model_name": "IconModel",
      "state": {
       "_events": [],
       "children": [
        "arrow_drop_down"
       ],
       "layout": "IPY_MODEL_2366796fbf5d472cb39109c69eda3d73",
       "right": true,
       "size": null
      }
     },
     "99ddf7aca2454a22b407fc367ae597e9": {
      "model_module": "@jupyter-widgets/base",
      "model_module_version": "1.2.0",
      "model_name": "LayoutModel",
      "state": {}
     },
     "9a0813033a8748d3af48928e0ec781c0": {
      "model_module": "@jupyter-widgets/base",
      "model_module_version": "1.2.0",
      "model_name": "LayoutModel",
      "state": {}
     },
     "9a3564429e9b4c8ea040f01e2d4e43ad": {
      "model_module": "jupyter-vuetify",
      "model_module_version": "^0.1.11",
      "model_name": "BtnModel",
      "state": {
       "_events": [],
       "children": [
        "IPY_MODEL_7176d27c2f5f428399e4988e30a6e06d"
       ],
       "color": "primary",
       "fab": true,
       "href": null,
       "large": true,
       "layout": "IPY_MODEL_ec37ad987a104f63ac62ed5e0fc3f2df",
       "ripple": null,
       "to": null
      }
     },
     "9b50408323c1420bb57ead28795851ef": {
      "model_module": "@jupyter-widgets/base",
      "model_module_version": "1.2.0",
      "model_name": "LayoutModel",
      "state": {}
     },
     "9c0423c3deea4bf08d64c7d71f8a034f": {
      "model_module": "@jupyter-widgets/base",
      "model_module_version": "1.2.0",
      "model_name": "LayoutModel",
      "state": {}
     },
     "9c3d3f0b460d42169d52db757244a184": {
      "model_module": "jupyter-vuetify",
      "model_module_version": "^0.1.11",
      "model_name": "HtmlModel",
      "state": {
       "_events": [],
       "children": [
        "item2"
       ],
       "layout": "IPY_MODEL_c1410aee8a0a44e09bfe4e073b57ba65",
       "slot": "header",
       "tag": "div"
      }
     },
     "9cbdae80e99b4d89abd32beb704974cb": {
      "model_module": "jupyter-vuetify",
      "model_module_version": "^0.1.11",
      "model_name": "TabItemModel",
      "state": {
       "_events": [],
       "children": [
        "Lorem ipsum dolor sit amet, consectetur adipiscing elit, sed do eiusmod tempor incididunt ut labore et dolore magna aliqua."
       ],
       "layout": "IPY_MODEL_21a1aa45d4fb4a788613118ae5b0a388",
       "reverse_transition": null,
       "transition": null
      }
     },
     "9d26864bd03c461bae4e269371c0c003": {
      "model_module": "jupyter-vuetify",
      "model_module_version": "^0.1.11",
      "model_name": "BtnModel",
      "state": {
       "_events": [],
       "children": [
        "IPY_MODEL_3defee61854e4fa698d13414fef040d5"
       ],
       "flat": true,
       "href": null,
       "layout": "IPY_MODEL_179406d7e69e408b9c3a2ce6587379e5",
       "ripple": null,
       "to": null
      }
     },
     "9f033adc28e94517870d588a1855ac44": {
      "model_module": "jupyter-vuetify",
      "model_module_version": "^0.1.11",
      "model_name": "BtnModel",
      "state": {
       "_events": [],
       "children": [
        "round"
       ],
       "color": "primary",
       "href": null,
       "layout": "IPY_MODEL_168f270200894642adc8997c9dcceccb",
       "ripple": null,
       "round": true,
       "to": null
      }
     },
     "9f12b3d75ee241f8ab71ac3aa81ee332": {
      "model_module": "@jupyter-widgets/base",
      "model_module_version": "1.2.0",
      "model_name": "LayoutModel",
      "state": {}
     },
     "9f2c60aa435f4dd0b6f47dfd91e9756a": {
      "model_module": "@jupyter-widgets/base",
      "model_module_version": "1.2.0",
      "model_name": "LayoutModel",
      "state": {}
     },
     "9f4d80cb8f9f49b0927ed50e244a391f": {
      "model_module": "jupyter-vuetify",
      "model_module_version": "^0.1.11",
      "model_name": "BtnModel",
      "state": {
       "_events": [],
       "children": [
        "flat"
       ],
       "color": "primary",
       "flat": true,
       "href": null,
       "layout": "IPY_MODEL_4a2ee1b3e08e463492fddb35007e638c",
       "ripple": null,
       "to": null
      }
     },
     "9f9134bae86b4070aeff0836e515eb83": {
      "model_module": "@jupyter-widgets/base",
      "model_module_version": "1.2.0",
      "model_name": "LayoutModel",
      "state": {}
     },
     "a02cdadf128a4d4da0857eb541f4927a": {
      "model_module": "jupyter-vuetify",
      "model_module_version": "^0.1.11",
      "model_name": "IconModel",
      "state": {
       "_events": [],
       "children": [
        "format_align_center"
       ],
       "layout": "IPY_MODEL_2314ef14b73c4f1d919ad706ae27da2e",
       "size": null
      }
     },
     "a0988836f1304d1d8cdd2fbdbb6f243a": {
      "model_module": "jupyter-vuetify",
      "model_module_version": "^0.1.11",
      "model_name": "BtnModel",
      "state": {
       "_events": [],
       "children": [
        "IPY_MODEL_ab349421e3e741d3aa4b4697ca9c796d"
       ],
       "color": "primary",
       "flat": true,
       "href": null,
       "icon": true,
       "layout": "IPY_MODEL_7c28e07824544acca14ed5c455a988e2",
       "ripple": null,
       "to": null
      }
     },
     "a0e339898a5a41e9878b907c379c4b72": {
      "model_module": "@jupyter-widgets/base",
      "model_module_version": "1.2.0",
      "model_name": "LayoutModel",
      "state": {}
     },
     "a151b1e925344d8b843bbba102bc1c85": {
      "model_module": "jupyter-vuetify",
      "model_module_version": "^0.1.11",
      "model_name": "BtnModel",
      "state": {
       "_events": [],
       "children": [
        "IPY_MODEL_6b2b860ff45f42658fb2273eadfec995"
       ],
       "flat": true,
       "href": null,
       "layout": "IPY_MODEL_b9e26d524c2147bd84e14acbafc50cf1",
       "ripple": null,
       "to": null
      }
     },
     "a24074e52ab249e5ade116369324d8c6": {
      "model_module": "jupyter-vuetify",
      "model_module_version": "^0.1.11",
      "model_name": "ListModel",
      "state": {
       "_events": [],
       "children": [
        "IPY_MODEL_55bc50a743e1422fb6963dd99fe0aa89",
        "IPY_MODEL_4e522b4db9464a4da0b20ee3695bd04e",
        "IPY_MODEL_f2f3ac3b01214fb2ba3c372974feceef",
        "IPY_MODEL_7de8b2eed1c944849c231c82198dc0dd"
       ],
       "layout": "IPY_MODEL_5992f27cbe6f487e93188e830251873b"
      }
     },
     "a2abd030f0214cd6a77d76f50ffaad20": {
      "model_module": "jupyter-vuetify",
      "model_module_version": "^0.1.11",
      "model_name": "IconModel",
      "state": {
       "_events": [],
       "children": [
        "format_align_justify"
       ],
       "layout": "IPY_MODEL_97b7bf40cea1477aaa434d8c8eb30b16",
       "size": null
      }
     },
     "a32434ea8e13469aa57273bea82faa50": {
      "model_module": "@jupyter-widgets/base",
      "model_module_version": "1.2.0",
      "model_name": "LayoutModel",
      "state": {}
     },
     "a396af847fce4233b5baafe034eb5bfe": {
      "model_module": "@jupyter-widgets/base",
      "model_module_version": "1.2.0",
      "model_name": "LayoutModel",
      "state": {}
     },
     "a3f4fd4f20c3462487ce06a516ea34ed": {
      "model_module": "@jupyter-widgets/base",
      "model_module_version": "1.2.0",
      "model_name": "LayoutModel",
      "state": {}
     },
     "a3f71e3ce6ee41cbbc76728812955a96": {
      "model_module": "@jupyter-widgets/base",
      "model_module_version": "1.2.0",
      "model_name": "LayoutModel",
      "state": {}
     },
     "a463a19b827b43399ac52ce68a2fce62": {
      "model_module": "jupyter-vuetify",
      "model_module_version": "^0.1.11",
      "model_name": "ListTileModel",
      "state": {
       "_events": [
        "click"
       ],
       "children": [
        "IPY_MODEL_39e22a9987394006bf30b4ee18724439"
       ],
       "href": null,
       "layout": "IPY_MODEL_53fccf54e983411aa50c9b9fd6906fb6",
       "ripple": null,
       "to": null
      }
     },
     "a49cbb2b424647b0aa449443a3d16d7c": {
      "model_module": "jupyter-vuetify",
      "model_module_version": "^0.1.11",
      "model_name": "BtnModel",
      "state": {
       "_events": [],
       "children": [
        "flat"
       ],
       "color": "primary",
       "flat": true,
       "href": null,
       "layout": "IPY_MODEL_e4c68c93c1194d329ade8837a5231cc4",
       "ripple": null,
       "to": null
      }
     },
     "a5120bd3c14548d58a7de2f5046fa170": {
      "model_module": "jupyter-vuetify",
      "model_module_version": "^0.1.11",
      "model_name": "BtnModel",
      "state": {
       "_events": [],
       "children": [
        "error"
       ],
       "color": "error",
       "href": null,
       "layout": "IPY_MODEL_c1f81f57026f4d35ad6d732771ad232c",
       "ripple": null,
       "to": null
      }
     },
     "a5362a6b3fd8477f840816ed9829b8fc": {
      "model_module": "@jupyter-widgets/base",
      "model_module_version": "1.2.0",
      "model_name": "LayoutModel",
      "state": {}
     },
     "a53a54b1f3e245ba98ce6846631309b3": {
      "model_module": "jupyter-vuetify",
      "model_module_version": "^0.1.11",
      "model_name": "BtnModel",
      "state": {
       "_events": [],
       "children": [
        "round"
       ],
       "color": "primary",
       "href": null,
       "layout": "IPY_MODEL_7ce3a0c27e2745c88799e893217177da",
       "ripple": null,
       "round": true,
       "to": null
      }
     },
     "a53ab01330364ff38b77bd71011e3e3b": {
      "model_module": "jupyter-vuetify",
      "model_module_version": "^0.1.11",
      "model_name": "CardModel",
      "state": {
       "_events": [],
       "children": [
        "IPY_MODEL_9483c55b00a3441895c6d9fc776d9432"
       ],
       "elevation": null,
       "height": null,
       "href": null,
       "layout": "IPY_MODEL_ec8835199c3f45d1b51732e71d1bb9ed",
       "max_height": null,
       "max_width": null,
       "min_height": null,
       "min_width": null,
       "ripple": null,
       "to": null,
       "width": null
      }
     },
     "a57784cc030f41cc818a9625ba589988": {
      "model_module": "@jupyter-widgets/base",
      "model_module_version": "1.2.0",
      "model_name": "LayoutModel",
      "state": {}
     },
     "a66dbcc5f104494a9efebac8159d9e12": {
      "model_module": "@jupyter-widgets/base",
      "model_module_version": "1.2.0",
      "model_name": "LayoutModel",
      "state": {}
     },
     "a680c0baee2448cea39d65f96d4448ac": {
      "model_module": "@jupyter-widgets/base",
      "model_module_version": "1.2.0",
      "model_name": "LayoutModel",
      "state": {}
     },
     "a6cd76f5863d40cb9e64cf8fff360a7e": {
      "model_module": "jupyter-vuetify",
      "model_module_version": "^0.1.11",
      "model_name": "BtnModel",
      "state": {
       "_events": [],
       "children": [
        "IPY_MODEL_a8eee0b45a1d4b71b8bb1ed9627346d2"
       ],
       "flat": true,
       "href": null,
       "layout": "IPY_MODEL_9b50408323c1420bb57ead28795851ef",
       "ripple": null,
       "to": null
      }
     },
     "a6dbb1f2bff3488ebbc7c39610ca992e": {
      "model_module": "jupyter-vuetify",
      "model_module_version": "^0.1.11",
      "model_name": "ListTileModel",
      "state": {
       "_events": [
        "click"
       ],
       "children": [
        "IPY_MODEL_3cb29187d8d24be9949e826a45093330"
       ],
       "href": null,
       "layout": "IPY_MODEL_4f6b7d9890fc4bd78474f42556843cba",
       "ripple": null,
       "to": null
      }
     },
     "a7601f7a0f9d4b22a1e5025628595cf0": {
      "model_module": "jupyter-vuetify",
      "model_module_version": "^0.1.11",
      "model_name": "ContainerModel",
      "state": {
       "_events": [],
       "children": [
        "IPY_MODEL_20b5632c2b2f43938d2895b0a7385d9a",
        "IPY_MODEL_e530f7b4ea2b464f97b45366779974bb"
       ],
       "layout": "IPY_MODEL_1c632b9a207f4ce0af160aac8c5b938c"
      }
     },
     "a7a0fbc8d9144225b51d7f6ed84f5484": {
      "model_module": "@jupyter-widgets/base",
      "model_module_version": "1.2.0",
      "model_name": "LayoutModel",
      "state": {}
     },
     "a7c070245e01491b8743244bea1285c6": {
      "model_module": "jupyter-vuetify",
      "model_module_version": "^0.1.11",
      "model_name": "BtnModel",
      "state": {
       "_events": [],
       "children": [
        "reset"
       ],
       "href": null,
       "layout": "IPY_MODEL_1e5766abf20b46c9b760d9333743bcd3",
       "ripple": null,
       "to": null
      }
     },
     "a7c53c52b66943b6860232533e03f140": {
      "model_module": "jupyter-vuetify",
      "model_module_version": "^0.1.11",
      "model_name": "ListTileTitleModel",
      "state": {
       "_events": [],
       "children": [
        "Item 4"
       ],
       "layout": "IPY_MODEL_40a2324a88844608a1ccac9dd72314dd"
      }
     },
     "a8eee0b45a1d4b71b8bb1ed9627346d2": {
      "model_module": "jupyter-vuetify",
      "model_module_version": "^0.1.11",
      "model_name": "IconModel",
      "state": {
       "_events": [],
       "children": [
        "format_bold"
       ],
       "layout": "IPY_MODEL_20dad516910043879e67519a27fe7936",
       "size": null
      }
     },
     "a9ea67ff4f1d4620bdae2d2f7fa57589": {
      "model_module": "jupyter-vuetify",
      "model_module_version": "^0.1.11",
      "model_name": "BtnModel",
      "state": {
       "_events": [],
       "children": [
        "IPY_MODEL_b48f3ba1afb349c288770e34edf0c409"
       ],
       "flat": true,
       "href": null,
       "layout": "IPY_MODEL_7575417f936041668eb58c3f6a89e67c",
       "ripple": null,
       "to": null
      }
     },
     "aadc718a4e6d4e418dcc5f0b9cf03f18": {
      "model_module": "jupyter-vuetify",
      "model_module_version": "^0.1.11",
      "model_name": "IconModel",
      "state": {
       "_events": [],
       "children": [
        "fingerprint"
       ],
       "layout": "IPY_MODEL_d8a954d3b2404a528faa773d42b42ab4",
       "left": true,
       "size": null
      }
     },
     "ab349421e3e741d3aa4b4697ca9c796d": {
      "model_module": "jupyter-vuetify",
      "model_module_version": "^0.1.11",
      "model_name": "IconModel",
      "state": {
       "_events": [],
       "children": [
        "thumb_up"
       ],
       "layout": "IPY_MODEL_6bb97e7eea9040528a092d4383a68f80",
       "size": null
      }
     },
     "ab46577179ee4c0880fe4dc66c159573": {
      "model_module": "@jupyter-widgets/base",
      "model_module_version": "1.2.0",
      "model_name": "LayoutModel",
      "state": {}
     },
     "ab782c0df156436bacdca84e09068c2b": {
      "model_module": "@jupyter-widgets/base",
      "model_module_version": "1.2.0",
      "model_name": "LayoutModel",
      "state": {}
     },
     "ac730b7fe32648e4b25ffedf68648dd5": {
      "model_module": "@jupyter-widgets/base",
      "model_module_version": "1.2.0",
      "model_name": "LayoutModel",
      "state": {}
     },
     "acb6e1111a5d4065bbf25e18f1072c7f": {
      "model_module": "jupyter-vuetify",
      "model_module_version": "^0.1.11",
      "model_name": "IconModel",
      "state": {
       "_events": [],
       "children": [
        "format_align_right"
       ],
       "layout": "IPY_MODEL_c38dee2bdd474792bdb87015afaed775",
       "size": null
      }
     },
     "ace1db8811864e388a112da781dc8c35": {
      "model_module": "jupyter-vuetify",
      "model_module_version": "^0.1.11",
      "model_name": "IconModel",
      "state": {
       "_events": [],
       "children": [
        "format_align_right"
       ],
       "layout": "IPY_MODEL_e8fb0124e6094972ad5de1f71691929e",
       "size": null
      }
     },
     "aceec1f740964c9db6773f1524810a51": {
      "model_module": "@jupyter-widgets/base",
      "model_module_version": "1.2.0",
      "model_name": "LayoutModel",
      "state": {}
     },
     "acf5ef593365422ebdbd8661793a9932": {
      "model_module": "jupyter-vuetify",
      "model_module_version": "^0.1.11",
      "model_name": "BtnModel",
      "state": {
       "_events": [],
       "children": [
        "error"
       ],
       "color": "error",
       "href": null,
       "layout": "IPY_MODEL_1f13af5cbce649d787484eee1f6712a8",
       "ripple": null,
       "to": null
      }
     },
     "ad0d8e510d8a4a52912491dd289d77e2": {
      "model_module": "jupyter-vuetify",
      "model_module_version": "^0.1.11",
      "model_name": "TabsModel",
      "state": {
       "_events": [],
       "children": [
        "IPY_MODEL_0fb6d57aa5b6458c9ac12c319627555e",
        "IPY_MODEL_4424e0d131674fe8bf060f2522e1a905",
        "IPY_MODEL_2b10cde1cc38456dacc8936a5cf88b4f",
        "IPY_MODEL_bfcdf5620a4d453cbf158c61ef9e9540",
        "IPY_MODEL_2e35bb08ffd149dbb464a1295ac876de",
        "IPY_MODEL_4a81e3b127514dba9ecc13969ac33f83"
       ],
       "height": null,
       "layout": "IPY_MODEL_de2a2da72db94999b05594bbf1d66e97",
       "max": null,
       "mobile_break_point": null,
       "v_model": 1,
       "value": null
      }
     },
     "ad5f2e40c82f4f948cd25a074a636fab": {
      "model_module": "jupyter-vuetify",
      "model_module_version": "^0.1.11",
      "model_name": "VuetifyTemplateModel",
      "state": {
       "_model_module_version": "^0.1.11",
       "_view_module_version": "^0.1.11",
       "_view_name": "VuetifyView",
       "components": null,
       "events": [],
       "headers": [
        {
         "align": "left",
         "sortable": true,
         "text": "index",
         "value": "index"
        },
        {
         "text": "sepal_length",
         "value": "sepal_length"
        },
        {
         "text": "sepal_width",
         "value": "sepal_width"
        },
        {
         "text": "petal_length",
         "value": "petal_length"
        },
        {
         "text": "petal_width",
         "value": "petal_width"
        },
        {
         "text": "species",
         "value": "species"
        }
       ],
       "index_col": "index",
       "items": [
        {
         "index": 0,
         "petal_length": 1.4,
         "petal_width": 0.2,
         "sepal_length": 5.1,
         "sepal_width": 3.5,
         "species": "setosa"
        },
        {
         "index": 1,
         "petal_length": 1.4,
         "petal_width": 0.2,
         "sepal_length": 4.9,
         "sepal_width": 3,
         "species": "setosa"
        },
        {
         "index": 2,
         "petal_length": 1.3,
         "petal_width": 0.2,
         "sepal_length": 4.7,
         "sepal_width": 3.2,
         "species": "setosa"
        },
        {
         "index": 3,
         "petal_length": 1.5,
         "petal_width": 0.2,
         "sepal_length": 4.6,
         "sepal_width": 3.1,
         "species": "setosa"
        },
        {
         "index": 4,
         "petal_length": 1.4,
         "petal_width": 0.2,
         "sepal_length": 5,
         "sepal_width": 3.6,
         "species": "setosa"
        },
        {
         "index": 5,
         "petal_length": 1.7,
         "petal_width": 0.4,
         "sepal_length": 5.4,
         "sepal_width": 3.9,
         "species": "setosa"
        },
        {
         "index": 6,
         "petal_length": 1.4,
         "petal_width": 0.3,
         "sepal_length": 4.6,
         "sepal_width": 3.4,
         "species": "setosa"
        },
        {
         "index": 7,
         "petal_length": 1.5,
         "petal_width": 0.2,
         "sepal_length": 5,
         "sepal_width": 3.4,
         "species": "setosa"
        },
        {
         "index": 8,
         "petal_length": 1.4,
         "petal_width": 0.2,
         "sepal_length": 4.4,
         "sepal_width": 2.9,
         "species": "setosa"
        },
        {
         "index": 9,
         "petal_length": 1.5,
         "petal_width": 0.1,
         "sepal_length": 4.9,
         "sepal_width": 3.1,
         "species": "setosa"
        },
        {
         "index": 10,
         "petal_length": 1.5,
         "petal_width": 0.2,
         "sepal_length": 5.4,
         "sepal_width": 3.7,
         "species": "setosa"
        },
        {
         "index": 11,
         "petal_length": 1.6,
         "petal_width": 0.2,
         "sepal_length": 4.8,
         "sepal_width": 3.4,
         "species": "setosa"
        },
        {
         "index": 12,
         "petal_length": 1.4,
         "petal_width": 0.1,
         "sepal_length": 4.8,
         "sepal_width": 3,
         "species": "setosa"
        },
        {
         "index": 13,
         "petal_length": 1.1,
         "petal_width": 0.1,
         "sepal_length": 4.3,
         "sepal_width": 3,
         "species": "setosa"
        },
        {
         "index": 14,
         "petal_length": 1.2,
         "petal_width": 0.2,
         "sepal_length": 5.8,
         "sepal_width": 4,
         "species": "setosa"
        },
        {
         "index": 15,
         "petal_length": 1.5,
         "petal_width": 0.4,
         "sepal_length": 5.7,
         "sepal_width": 4.4,
         "species": "setosa"
        },
        {
         "index": 16,
         "petal_length": 1.3,
         "petal_width": 0.4,
         "sepal_length": 5.4,
         "sepal_width": 3.9,
         "species": "setosa"
        },
        {
         "index": 17,
         "petal_length": 1.4,
         "petal_width": 0.3,
         "sepal_length": 5.1,
         "sepal_width": 3.5,
         "species": "setosa"
        },
        {
         "index": 18,
         "petal_length": 1.7,
         "petal_width": 0.3,
         "sepal_length": 5.7,
         "sepal_width": 3.8,
         "species": "setosa"
        },
        {
         "index": 19,
         "petal_length": 1.5,
         "petal_width": 0.3,
         "sepal_length": 5.1,
         "sepal_width": 3.8,
         "species": "setosa"
        },
        {
         "index": 20,
         "petal_length": 1.7,
         "petal_width": 0.2,
         "sepal_length": 5.4,
         "sepal_width": 3.4,
         "species": "setosa"
        },
        {
         "index": 21,
         "petal_length": 1.5,
         "petal_width": 0.4,
         "sepal_length": 5.1,
         "sepal_width": 3.7,
         "species": "setosa"
        },
        {
         "index": 22,
         "petal_length": 1,
         "petal_width": 0.2,
         "sepal_length": 4.6,
         "sepal_width": 3.6,
         "species": "setosa"
        },
        {
         "index": 23,
         "petal_length": 1.7,
         "petal_width": 0.5,
         "sepal_length": 5.1,
         "sepal_width": 3.3,
         "species": "setosa"
        },
        {
         "index": 24,
         "petal_length": 1.9,
         "petal_width": 0.2,
         "sepal_length": 4.8,
         "sepal_width": 3.4,
         "species": "setosa"
        },
        {
         "index": 25,
         "petal_length": 1.6,
         "petal_width": 0.2,
         "sepal_length": 5,
         "sepal_width": 3,
         "species": "setosa"
        },
        {
         "index": 26,
         "petal_length": 1.6,
         "petal_width": 0.4,
         "sepal_length": 5,
         "sepal_width": 3.4,
         "species": "setosa"
        },
        {
         "index": 27,
         "petal_length": 1.5,
         "petal_width": 0.2,
         "sepal_length": 5.2,
         "sepal_width": 3.5,
         "species": "setosa"
        },
        {
         "index": 28,
         "petal_length": 1.4,
         "petal_width": 0.2,
         "sepal_length": 5.2,
         "sepal_width": 3.4,
         "species": "setosa"
        },
        {
         "index": 29,
         "petal_length": 1.6,
         "petal_width": 0.2,
         "sepal_length": 4.7,
         "sepal_width": 3.2,
         "species": "setosa"
        },
        {
         "index": 30,
         "petal_length": 1.6,
         "petal_width": 0.2,
         "sepal_length": 4.8,
         "sepal_width": 3.1,
         "species": "setosa"
        },
        {
         "index": 31,
         "petal_length": 1.5,
         "petal_width": 0.4,
         "sepal_length": 5.4,
         "sepal_width": 3.4,
         "species": "setosa"
        },
        {
         "index": 32,
         "petal_length": 1.5,
         "petal_width": 0.1,
         "sepal_length": 5.2,
         "sepal_width": 4.1,
         "species": "setosa"
        },
        {
         "index": 33,
         "petal_length": 1.4,
         "petal_width": 0.2,
         "sepal_length": 5.5,
         "sepal_width": 4.2,
         "species": "setosa"
        },
        {
         "index": 34,
         "petal_length": 1.5,
         "petal_width": 0.2,
         "sepal_length": 4.9,
         "sepal_width": 3.1,
         "species": "setosa"
        },
        {
         "index": 35,
         "petal_length": 1.2,
         "petal_width": 0.2,
         "sepal_length": 5,
         "sepal_width": 3.2,
         "species": "setosa"
        },
        {
         "index": 36,
         "petal_length": 1.3,
         "petal_width": 0.2,
         "sepal_length": 5.5,
         "sepal_width": 3.5,
         "species": "setosa"
        },
        {
         "index": 37,
         "petal_length": 1.4,
         "petal_width": 0.1,
         "sepal_length": 4.9,
         "sepal_width": 3.6,
         "species": "setosa"
        },
        {
         "index": 38,
         "petal_length": 1.3,
         "petal_width": 0.2,
         "sepal_length": 4.4,
         "sepal_width": 3,
         "species": "setosa"
        },
        {
         "index": 39,
         "petal_length": 1.5,
         "petal_width": 0.2,
         "sepal_length": 5.1,
         "sepal_width": 3.4,
         "species": "setosa"
        },
        {
         "index": 40,
         "petal_length": 1.3,
         "petal_width": 0.3,
         "sepal_length": 5,
         "sepal_width": 3.5,
         "species": "setosa"
        },
        {
         "index": 41,
         "petal_length": 1.3,
         "petal_width": 0.3,
         "sepal_length": 4.5,
         "sepal_width": 2.3,
         "species": "setosa"
        },
        {
         "index": 42,
         "petal_length": 1.3,
         "petal_width": 0.2,
         "sepal_length": 4.4,
         "sepal_width": 3.2,
         "species": "setosa"
        },
        {
         "index": 43,
         "petal_length": 1.6,
         "petal_width": 0.6,
         "sepal_length": 5,
         "sepal_width": 3.5,
         "species": "setosa"
        },
        {
         "index": 44,
         "petal_length": 1.9,
         "petal_width": 0.4,
         "sepal_length": 5.1,
         "sepal_width": 3.8,
         "species": "setosa"
        },
        {
         "index": 45,
         "petal_length": 1.4,
         "petal_width": 0.3,
         "sepal_length": 4.8,
         "sepal_width": 3,
         "species": "setosa"
        },
        {
         "index": 46,
         "petal_length": 1.6,
         "petal_width": 0.2,
         "sepal_length": 5.1,
         "sepal_width": 3.8,
         "species": "setosa"
        },
        {
         "index": 47,
         "petal_length": 1.4,
         "petal_width": 0.2,
         "sepal_length": 4.6,
         "sepal_width": 3.2,
         "species": "setosa"
        },
        {
         "index": 48,
         "petal_length": 1.5,
         "petal_width": 0.2,
         "sepal_length": 5.3,
         "sepal_width": 3.7,
         "species": "setosa"
        },
        {
         "index": 49,
         "petal_length": 1.4,
         "petal_width": 0.2,
         "sepal_length": 5,
         "sepal_width": 3.3,
         "species": "setosa"
        },
        {
         "index": 50,
         "petal_length": 4.7,
         "petal_width": 1.4,
         "sepal_length": 7,
         "sepal_width": 3.2,
         "species": "versicolor"
        },
        {
         "index": 51,
         "petal_length": 4.5,
         "petal_width": 1.5,
         "sepal_length": 6.4,
         "sepal_width": 3.2,
         "species": "versicolor"
        },
        {
         "index": 52,
         "petal_length": 4.9,
         "petal_width": 1.5,
         "sepal_length": 6.9,
         "sepal_width": 3.1,
         "species": "versicolor"
        },
        {
         "index": 53,
         "petal_length": 4,
         "petal_width": 1.3,
         "sepal_length": 5.5,
         "sepal_width": 2.3,
         "species": "versicolor"
        },
        {
         "index": 54,
         "petal_length": 4.6,
         "petal_width": 1.5,
         "sepal_length": 6.5,
         "sepal_width": 2.8,
         "species": "versicolor"
        },
        {
         "index": 55,
         "petal_length": 4.5,
         "petal_width": 1.3,
         "sepal_length": 5.7,
         "sepal_width": 2.8,
         "species": "versicolor"
        },
        {
         "index": 56,
         "petal_length": 4.7,
         "petal_width": 1.6,
         "sepal_length": 6.3,
         "sepal_width": 3.3,
         "species": "versicolor"
        },
        {
         "index": 57,
         "petal_length": 3.3,
         "petal_width": 1,
         "sepal_length": 4.9,
         "sepal_width": 2.4,
         "species": "versicolor"
        },
        {
         "index": 58,
         "petal_length": 4.6,
         "petal_width": 1.3,
         "sepal_length": 6.6,
         "sepal_width": 2.9,
         "species": "versicolor"
        },
        {
         "index": 59,
         "petal_length": 3.9,
         "petal_width": 1.4,
         "sepal_length": 5.2,
         "sepal_width": 2.7,
         "species": "versicolor"
        },
        {
         "index": 60,
         "petal_length": 3.5,
         "petal_width": 1,
         "sepal_length": 5,
         "sepal_width": 2,
         "species": "versicolor"
        },
        {
         "index": 61,
         "petal_length": 4.2,
         "petal_width": 1.5,
         "sepal_length": 5.9,
         "sepal_width": 3,
         "species": "versicolor"
        },
        {
         "index": 62,
         "petal_length": 4,
         "petal_width": 1,
         "sepal_length": 6,
         "sepal_width": 2.2,
         "species": "versicolor"
        },
        {
         "index": 63,
         "petal_length": 4.7,
         "petal_width": 1.4,
         "sepal_length": 6.1,
         "sepal_width": 2.9,
         "species": "versicolor"
        },
        {
         "index": 64,
         "petal_length": 3.6,
         "petal_width": 1.3,
         "sepal_length": 5.6,
         "sepal_width": 2.9,
         "species": "versicolor"
        },
        {
         "index": 65,
         "petal_length": 4.4,
         "petal_width": 1.4,
         "sepal_length": 6.7,
         "sepal_width": 3.1,
         "species": "versicolor"
        },
        {
         "index": 66,
         "petal_length": 4.5,
         "petal_width": 1.5,
         "sepal_length": 5.6,
         "sepal_width": 3,
         "species": "versicolor"
        },
        {
         "index": 67,
         "petal_length": 4.1,
         "petal_width": 1,
         "sepal_length": 5.8,
         "sepal_width": 2.7,
         "species": "versicolor"
        },
        {
         "index": 68,
         "petal_length": 4.5,
         "petal_width": 1.5,
         "sepal_length": 6.2,
         "sepal_width": 2.2,
         "species": "versicolor"
        },
        {
         "index": 69,
         "petal_length": 3.9,
         "petal_width": 1.1,
         "sepal_length": 5.6,
         "sepal_width": 2.5,
         "species": "versicolor"
        },
        {
         "index": 70,
         "petal_length": 4.8,
         "petal_width": 1.8,
         "sepal_length": 5.9,
         "sepal_width": 3.2,
         "species": "versicolor"
        },
        {
         "index": 71,
         "petal_length": 4,
         "petal_width": 1.3,
         "sepal_length": 6.1,
         "sepal_width": 2.8,
         "species": "versicolor"
        },
        {
         "index": 72,
         "petal_length": 4.9,
         "petal_width": 1.5,
         "sepal_length": 6.3,
         "sepal_width": 2.5,
         "species": "versicolor"
        },
        {
         "index": 73,
         "petal_length": 4.7,
         "petal_width": 1.2,
         "sepal_length": 6.1,
         "sepal_width": 2.8,
         "species": "versicolor"
        },
        {
         "index": 74,
         "petal_length": 4.3,
         "petal_width": 1.3,
         "sepal_length": 6.4,
         "sepal_width": 2.9,
         "species": "versicolor"
        },
        {
         "index": 75,
         "petal_length": 4.4,
         "petal_width": 1.4,
         "sepal_length": 6.6,
         "sepal_width": 3,
         "species": "versicolor"
        },
        {
         "index": 76,
         "petal_length": 4.8,
         "petal_width": 1.4,
         "sepal_length": 6.8,
         "sepal_width": 2.8,
         "species": "versicolor"
        },
        {
         "index": 77,
         "petal_length": 5,
         "petal_width": 1.7,
         "sepal_length": 6.7,
         "sepal_width": 3,
         "species": "versicolor"
        },
        {
         "index": 78,
         "petal_length": 4.5,
         "petal_width": 1.5,
         "sepal_length": 6,
         "sepal_width": 2.9,
         "species": "versicolor"
        },
        {
         "index": 79,
         "petal_length": 3.5,
         "petal_width": 1,
         "sepal_length": 5.7,
         "sepal_width": 2.6,
         "species": "versicolor"
        },
        {
         "index": 80,
         "petal_length": 3.8,
         "petal_width": 1.1,
         "sepal_length": 5.5,
         "sepal_width": 2.4,
         "species": "versicolor"
        },
        {
         "index": 81,
         "petal_length": 3.7,
         "petal_width": 1,
         "sepal_length": 5.5,
         "sepal_width": 2.4,
         "species": "versicolor"
        },
        {
         "index": 82,
         "petal_length": 3.9,
         "petal_width": 1.2,
         "sepal_length": 5.8,
         "sepal_width": 2.7,
         "species": "versicolor"
        },
        {
         "index": 83,
         "petal_length": 5.1,
         "petal_width": 1.6,
         "sepal_length": 6,
         "sepal_width": 2.7,
         "species": "versicolor"
        },
        {
         "index": 84,
         "petal_length": 4.5,
         "petal_width": 1.5,
         "sepal_length": 5.4,
         "sepal_width": 3,
         "species": "versicolor"
        },
        {
         "index": 85,
         "petal_length": 4.5,
         "petal_width": 1.6,
         "sepal_length": 6,
         "sepal_width": 3.4,
         "species": "versicolor"
        },
        {
         "index": 86,
         "petal_length": 4.7,
         "petal_width": 1.5,
         "sepal_length": 6.7,
         "sepal_width": 3.1,
         "species": "versicolor"
        },
        {
         "index": 87,
         "petal_length": 4.4,
         "petal_width": 1.3,
         "sepal_length": 6.3,
         "sepal_width": 2.3,
         "species": "versicolor"
        },
        {
         "index": 88,
         "petal_length": 4.1,
         "petal_width": 1.3,
         "sepal_length": 5.6,
         "sepal_width": 3,
         "species": "versicolor"
        },
        {
         "index": 89,
         "petal_length": 4,
         "petal_width": 1.3,
         "sepal_length": 5.5,
         "sepal_width": 2.5,
         "species": "versicolor"
        },
        {
         "index": 90,
         "petal_length": 4.4,
         "petal_width": 1.2,
         "sepal_length": 5.5,
         "sepal_width": 2.6,
         "species": "versicolor"
        },
        {
         "index": 91,
         "petal_length": 4.6,
         "petal_width": 1.4,
         "sepal_length": 6.1,
         "sepal_width": 3,
         "species": "versicolor"
        },
        {
         "index": 92,
         "petal_length": 4,
         "petal_width": 1.2,
         "sepal_length": 5.8,
         "sepal_width": 2.6,
         "species": "versicolor"
        },
        {
         "index": 93,
         "petal_length": 3.3,
         "petal_width": 1,
         "sepal_length": 5,
         "sepal_width": 2.3,
         "species": "versicolor"
        },
        {
         "index": 94,
         "petal_length": 4.2,
         "petal_width": 1.3,
         "sepal_length": 5.6,
         "sepal_width": 2.7,
         "species": "versicolor"
        },
        {
         "index": 95,
         "petal_length": 4.2,
         "petal_width": 1.2,
         "sepal_length": 5.7,
         "sepal_width": 3,
         "species": "versicolor"
        },
        {
         "index": 96,
         "petal_length": 4.2,
         "petal_width": 1.3,
         "sepal_length": 5.7,
         "sepal_width": 2.9,
         "species": "versicolor"
        },
        {
         "index": 97,
         "petal_length": 4.3,
         "petal_width": 1.3,
         "sepal_length": 6.2,
         "sepal_width": 2.9,
         "species": "versicolor"
        },
        {
         "index": 98,
         "petal_length": 3,
         "petal_width": 1.1,
         "sepal_length": 5.1,
         "sepal_width": 2.5,
         "species": "versicolor"
        },
        {
         "index": 99,
         "petal_length": 4.1,
         "petal_width": 1.3,
         "sepal_length": 5.7,
         "sepal_width": 2.8,
         "species": "versicolor"
        },
        {
         "index": 100,
         "petal_length": 6,
         "petal_width": 2.5,
         "sepal_length": 6.3,
         "sepal_width": 3.3,
         "species": "virginica"
        },
        {
         "index": 101,
         "petal_length": 5.1,
         "petal_width": 1.9,
         "sepal_length": 5.8,
         "sepal_width": 2.7,
         "species": "virginica"
        },
        {
         "index": 102,
         "petal_length": 5.9,
         "petal_width": 2.1,
         "sepal_length": 7.1,
         "sepal_width": 3,
         "species": "virginica"
        },
        {
         "index": 103,
         "petal_length": 5.6,
         "petal_width": 1.8,
         "sepal_length": 6.3,
         "sepal_width": 2.9,
         "species": "virginica"
        },
        {
         "index": 104,
         "petal_length": 5.8,
         "petal_width": 2.2,
         "sepal_length": 6.5,
         "sepal_width": 3,
         "species": "virginica"
        },
        {
         "index": 105,
         "petal_length": 6.6,
         "petal_width": 2.1,
         "sepal_length": 7.6,
         "sepal_width": 3,
         "species": "virginica"
        },
        {
         "index": 106,
         "petal_length": 4.5,
         "petal_width": 1.7,
         "sepal_length": 4.9,
         "sepal_width": 2.5,
         "species": "virginica"
        },
        {
         "index": 107,
         "petal_length": 6.3,
         "petal_width": 1.8,
         "sepal_length": 7.3,
         "sepal_width": 2.9,
         "species": "virginica"
        },
        {
         "index": 108,
         "petal_length": 5.8,
         "petal_width": 1.8,
         "sepal_length": 6.7,
         "sepal_width": 2.5,
         "species": "virginica"
        },
        {
         "index": 109,
         "petal_length": 6.1,
         "petal_width": 2.5,
         "sepal_length": 7.2,
         "sepal_width": 3.6,
         "species": "virginica"
        },
        {
         "index": 110,
         "petal_length": 5.1,
         "petal_width": 2,
         "sepal_length": 6.5,
         "sepal_width": 3.2,
         "species": "virginica"
        },
        {
         "index": 111,
         "petal_length": 5.3,
         "petal_width": 1.9,
         "sepal_length": 6.4,
         "sepal_width": 2.7,
         "species": "virginica"
        },
        {
         "index": 112,
         "petal_length": 5.5,
         "petal_width": 2.1,
         "sepal_length": 6.8,
         "sepal_width": 3,
         "species": "virginica"
        },
        {
         "index": 113,
         "petal_length": 5,
         "petal_width": 2,
         "sepal_length": 5.7,
         "sepal_width": 2.5,
         "species": "virginica"
        },
        {
         "index": 114,
         "petal_length": 5.1,
         "petal_width": 2.4,
         "sepal_length": 5.8,
         "sepal_width": 2.8,
         "species": "virginica"
        },
        {
         "index": 115,
         "petal_length": 5.3,
         "petal_width": 2.3,
         "sepal_length": 6.4,
         "sepal_width": 3.2,
         "species": "virginica"
        },
        {
         "index": 116,
         "petal_length": 5.5,
         "petal_width": 1.8,
         "sepal_length": 6.5,
         "sepal_width": 3,
         "species": "virginica"
        },
        {
         "index": 117,
         "petal_length": 6.7,
         "petal_width": 2.2,
         "sepal_length": 7.7,
         "sepal_width": 3.8,
         "species": "virginica"
        },
        {
         "index": 118,
         "petal_length": 6.9,
         "petal_width": 2.3,
         "sepal_length": 7.7,
         "sepal_width": 2.6,
         "species": "virginica"
        },
        {
         "index": 119,
         "petal_length": 5,
         "petal_width": 1.5,
         "sepal_length": 6,
         "sepal_width": 2.2,
         "species": "virginica"
        },
        {
         "index": 120,
         "petal_length": 5.7,
         "petal_width": 2.3,
         "sepal_length": 6.9,
         "sepal_width": 3.2,
         "species": "virginica"
        },
        {
         "index": 121,
         "petal_length": 4.9,
         "petal_width": 2,
         "sepal_length": 5.6,
         "sepal_width": 2.8,
         "species": "virginica"
        },
        {
         "index": 122,
         "petal_length": 6.7,
         "petal_width": 2,
         "sepal_length": 7.7,
         "sepal_width": 2.8,
         "species": "virginica"
        },
        {
         "index": 123,
         "petal_length": 4.9,
         "petal_width": 1.8,
         "sepal_length": 6.3,
         "sepal_width": 2.7,
         "species": "virginica"
        },
        {
         "index": 124,
         "petal_length": 5.7,
         "petal_width": 2.1,
         "sepal_length": 6.7,
         "sepal_width": 3.3,
         "species": "virginica"
        },
        {
         "index": 125,
         "petal_length": 6,
         "petal_width": 1.8,
         "sepal_length": 7.2,
         "sepal_width": 3.2,
         "species": "virginica"
        },
        {
         "index": 126,
         "petal_length": 4.8,
         "petal_width": 1.8,
         "sepal_length": 6.2,
         "sepal_width": 2.8,
         "species": "virginica"
        },
        {
         "index": 127,
         "petal_length": 4.9,
         "petal_width": 1.8,
         "sepal_length": 6.1,
         "sepal_width": 3,
         "species": "virginica"
        },
        {
         "index": 128,
         "petal_length": 5.6,
         "petal_width": 2.1,
         "sepal_length": 6.4,
         "sepal_width": 2.8,
         "species": "virginica"
        },
        {
         "index": 129,
         "petal_length": 5.8,
         "petal_width": 1.6,
         "sepal_length": 7.2,
         "sepal_width": 3,
         "species": "virginica"
        },
        {
         "index": 130,
         "petal_length": 6.1,
         "petal_width": 1.9,
         "sepal_length": 7.4,
         "sepal_width": 2.8,
         "species": "virginica"
        },
        {
         "index": 131,
         "petal_length": 6.4,
         "petal_width": 2,
         "sepal_length": 7.9,
         "sepal_width": 3.8,
         "species": "virginica"
        },
        {
         "index": 132,
         "petal_length": 5.6,
         "petal_width": 2.2,
         "sepal_length": 6.4,
         "sepal_width": 2.8,
         "species": "virginica"
        },
        {
         "index": 133,
         "petal_length": 5.1,
         "petal_width": 1.5,
         "sepal_length": 6.3,
         "sepal_width": 2.8,
         "species": "virginica"
        },
        {
         "index": 134,
         "petal_length": 5.6,
         "petal_width": 1.4,
         "sepal_length": 6.1,
         "sepal_width": 2.6,
         "species": "virginica"
        },
        {
         "index": 135,
         "petal_length": 6.1,
         "petal_width": 2.3,
         "sepal_length": 7.7,
         "sepal_width": 3,
         "species": "virginica"
        },
        {
         "index": 136,
         "petal_length": 5.6,
         "petal_width": 2.4,
         "sepal_length": 6.3,
         "sepal_width": 3.4,
         "species": "virginica"
        },
        {
         "index": 137,
         "petal_length": 5.5,
         "petal_width": 1.8,
         "sepal_length": 6.4,
         "sepal_width": 3.1,
         "species": "virginica"
        },
        {
         "index": 138,
         "petal_length": 4.8,
         "petal_width": 1.8,
         "sepal_length": 6,
         "sepal_width": 3,
         "species": "virginica"
        },
        {
         "index": 139,
         "petal_length": 5.4,
         "petal_width": 2.1,
         "sepal_length": 6.9,
         "sepal_width": 3.1,
         "species": "virginica"
        },
        {
         "index": 140,
         "petal_length": 5.6,
         "petal_width": 2.4,
         "sepal_length": 6.7,
         "sepal_width": 3.1,
         "species": "virginica"
        },
        {
         "index": 141,
         "petal_length": 5.1,
         "petal_width": 2.3,
         "sepal_length": 6.9,
         "sepal_width": 3.1,
         "species": "virginica"
        },
        {
         "index": 142,
         "petal_length": 5.1,
         "petal_width": 1.9,
         "sepal_length": 5.8,
         "sepal_width": 2.7,
         "species": "virginica"
        },
        {
         "index": 143,
         "petal_length": 5.9,
         "petal_width": 2.3,
         "sepal_length": 6.8,
         "sepal_width": 3.2,
         "species": "virginica"
        },
        {
         "index": 144,
         "petal_length": 5.7,
         "petal_width": 2.5,
         "sepal_length": 6.7,
         "sepal_width": 3.3,
         "species": "virginica"
        },
        {
         "index": 145,
         "petal_length": 5.2,
         "petal_width": 2.3,
         "sepal_length": 6.7,
         "sepal_width": 3,
         "species": "virginica"
        },
        {
         "index": 146,
         "petal_length": 5,
         "petal_width": 1.9,
         "sepal_length": 6.3,
         "sepal_width": 2.5,
         "species": "virginica"
        },
        {
         "index": 147,
         "petal_length": 5.2,
         "petal_width": 2,
         "sepal_length": 6.5,
         "sepal_width": 3,
         "species": "virginica"
        },
        {
         "index": 148,
         "petal_length": 5.4,
         "petal_width": 2.3,
         "sepal_length": 6.2,
         "sepal_width": 3.4,
         "species": "virginica"
        },
        {
         "index": 149,
         "petal_length": 5.1,
         "petal_width": 1.8,
         "sepal_length": 5.9,
         "sepal_width": 3,
         "species": "virginica"
        }
       ],
       "layout": "IPY_MODEL_d5438ea9079c45a49ffbb7a061e7a4fe",
       "search": "",
       "template": "\n        <template>\n          <v-card>\n            <v-card-title>\n              <span class=\"title font-weight-bold\">{{ title }}</span>\n              <v-spacer></v-spacer>\n                <v-text-field\n                    v-model=\"search\"\n                    append-icon=\"search\"\n                    label=\"Search ...\"\n                    single-line\n                    hide-details\n                ></v-text-field>\n            </v-card-title>\n            <v-data-table\n                :headers=\"headers\"\n                :items=\"items\"\n                :search=\"search\"\n                :item-key=\"index_col\"\n                :rows-per-page-items=\"[25, 50, 250, 500]\"\n            >\n                <template v-slot:no-data>\n                  <v-alert :value=\"true\" color=\"error\" icon=\"warning\">\n                    Sorry, nothing to display here :(\n                  </v-alert>\n                </template>\n                <template v-slot:no-results>\n                    <v-alert :value=\"true\" color=\"error\" icon=\"warning\">\n                      Your search for \"{{ search }}\" found no results.\n                    </v-alert>\n                </template>\n                <template v-slot:items=\"rows\">\n                  <td v-for=\"(element, label, index) in rows.item\"\n                      @click=cell_click(element)\n                      >\n                    {{ element }}\n                  </td>\n                </template>\n            </v-data-table>\n          </v-card>\n        </template>\n        ",
       "title": "Iris"
      }
     },
     "addcacc880a4451f81608dc7d4e80507": {
      "model_module": "@jupyter-widgets/base",
      "model_module_version": "1.2.0",
      "model_name": "LayoutModel",
      "state": {}
     },
     "addeec28a06b40eb90441859c2947f80": {
      "model_module": "jupyter-vuetify",
      "model_module_version": "^0.1.11",
      "model_name": "BtnModel",
      "state": {
       "_events": [],
       "children": [
        "primary"
       ],
       "color": "primary",
       "href": null,
       "layout": "IPY_MODEL_99ddf7aca2454a22b407fc367ae597e9",
       "ripple": null,
       "to": null
      }
     },
     "adead1cc57c641bfa715b742a0beb1db": {
      "model_module": "jupyter-vuetify",
      "model_module_version": "^0.1.11",
      "model_name": "CardTextModel",
      "state": {
       "_events": [],
       "children": [
        "First Text"
       ],
       "layout": "IPY_MODEL_907e7a5d538d423d94d5476bd86578e7"
      }
     },
     "ae4c2bf0dacc403c86494868afec816f": {
      "model_module": "@jupyter-widgets/base",
      "model_module_version": "1.2.0",
      "model_name": "LayoutModel",
      "state": {}
     },
     "ae796066a78e4a5ebb343eea814ca06c": {
      "model_module": "@jupyter-widgets/base",
      "model_module_version": "1.2.0",
      "model_name": "LayoutModel",
      "state": {}
     },
     "aea1448950254fccb2615e91653a5240": {
      "model_module": "jupyter-vuetify",
      "model_module_version": "^0.1.11",
      "model_name": "CardModel",
      "state": {
       "_events": [],
       "children": [
        "IPY_MODEL_44d77c2f0a6b4f0c84c1afdfa7088563"
       ],
       "elevation": null,
       "height": null,
       "href": null,
       "layout": "IPY_MODEL_5ee7b58bcd8c4e48ab1dd7d6a243e362",
       "max_height": null,
       "max_width": null,
       "min_height": null,
       "min_width": null,
       "ripple": null,
       "to": null,
       "width": null
      }
     },
     "aeed3da47d67481ab39bf17b4837b503": {
      "model_module": "jupyter-vuetify",
      "model_module_version": "^0.1.11",
      "model_name": "BtnModel",
      "state": {
       "_events": [],
       "children": [
        "disabled"
       ],
       "disabled": true,
       "href": null,
       "layout": "IPY_MODEL_ce80ce7d5b7844a7a875299f901314ab",
       "ripple": null,
       "to": null
      }
     },
     "af6972cfe45f44808199f0888ef65ffc": {
      "model_module": "@jupyter-widgets/base",
      "model_module_version": "1.2.0",
      "model_name": "LayoutModel",
      "state": {}
     },
     "af88032e91124e83a4e0d76edda746f9": {
      "model_module": "@jupyter-widgets/base",
      "model_module_version": "1.2.0",
      "model_name": "LayoutModel",
      "state": {}
     },
     "afef7ef199fa434ba9913e41341acfcf": {
      "model_module": "@jupyter-widgets/base",
      "model_module_version": "1.2.0",
      "model_name": "LayoutModel",
      "state": {}
     },
     "b04f8f5ce3a54083a89d8d6b924e306b": {
      "model_module": "jupyter-vuetify",
      "model_module_version": "^0.1.11",
      "model_name": "BtnModel",
      "state": {
       "_events": [],
       "children": [
        "disabled"
       ],
       "disabled": true,
       "href": null,
       "layout": "IPY_MODEL_e27bfc3c68ef40c5bc2be179d7519227",
       "ripple": null,
       "to": null
      }
     },
     "b17b54730a97498d8507fba75fdd6f68": {
      "model_module": "@jupyter-widgets/base",
      "model_module_version": "1.2.0",
      "model_name": "LayoutModel",
      "state": {}
     },
     "b1862fd4ab614b56a83c752cb90ab81d": {
      "model_module": "jupyter-vuetify",
      "model_module_version": "^0.1.11",
      "model_name": "TabModel",
      "state": {
       "_events": [],
       "children": [
        "Tab 2"
       ],
       "href": null,
       "layout": "IPY_MODEL_221a294ec5e845528efd22b24a187338",
       "ripple": null,
       "to": null
      }
     },
     "b1c27e04816c460a9100e585255965ab": {
      "model_module": "@jupyter-widgets/base",
      "model_module_version": "1.2.0",
      "model_name": "LayoutModel",
      "state": {}
     },
     "b1e9211710cf4fbdabddfa3c7c39e52a": {
      "model_module": "@jupyter-widgets/base",
      "model_module_version": "1.2.0",
      "model_name": "LayoutModel",
      "state": {}
     },
     "b264077389f646b9be195b18ead08250": {
      "model_module": "jupyter-vuetify",
      "model_module_version": "^0.1.11",
      "model_name": "BtnModel",
      "state": {
       "_events": [],
       "children": [
        "outline"
       ],
       "color": "primary",
       "href": null,
       "layout": "IPY_MODEL_b51493f6f8b74232a6a4185d9d02fa9c",
       "outline": true,
       "ripple": null,
       "to": null
      }
     },
     "b379455c7f434287a3cb153adf3ba4da": {
      "model_module": "jupyter-vuetify",
      "model_module_version": "^0.1.11",
      "model_name": "CardModel",
      "state": {
       "_events": [],
       "children": [
        "IPY_MODEL_adead1cc57c641bfa715b742a0beb1db"
       ],
       "elevation": null,
       "height": null,
       "href": null,
       "layout": "IPY_MODEL_e9afb82da8ae4821b9486dce439d253a",
       "max_height": null,
       "max_width": null,
       "min_height": null,
       "min_width": null,
       "ripple": null,
       "to": null,
       "width": null
      }
     },
     "b408a67c03034bd49f02e4397d2884a9": {
      "model_module": "jupyter-vuetify",
      "model_module_version": "^0.1.11",
      "model_name": "LayoutModel",
      "state": {
       "_events": [],
       "children": [
        "IPY_MODEL_3a649fe09faa40f9a1fc7b0bb9dc1cae"
       ],
       "layout": "IPY_MODEL_db63734f9ac1438490d963c5af173ccd"
      }
     },
     "b424e5b72618465cb708244a9631fea2": {
      "model_module": "jupyter-vuetify",
      "model_module_version": "^0.1.11",
      "model_name": "LayoutModel",
      "state": {
       "_events": [],
       "children": [
        "IPY_MODEL_c596874491cc4e94a05f2305369d4ac3",
        "IPY_MODEL_57bce6e1293b448d81d73a08399d88d6",
        "IPY_MODEL_18f8fe94664841b191924e22e75004e6"
       ],
       "layout": "IPY_MODEL_e4e601d616dc40fd8ac313463a545170"
      }
     },
     "b4350952c6c0454c8aaba07517f03b9a": {
      "model_module": "@jupyter-widgets/base",
      "model_module_version": "1.2.0",
      "model_name": "LayoutModel",
      "state": {}
     },
     "b48f3ba1afb349c288770e34edf0c409": {
      "model_module": "jupyter-vuetify",
      "model_module_version": "^0.1.11",
      "model_name": "IconModel",
      "state": {
       "_events": [],
       "children": [
        "format_italic"
       ],
       "layout": "IPY_MODEL_28d50c2073934fbe85a4f150ea9c90d9",
       "size": null
      }
     },
     "b4a28d4aa775497ba4f3bde2e4274a05": {
      "model_module": "@jupyter-widgets/base",
      "model_module_version": "1.2.0",
      "model_name": "LayoutModel",
      "state": {}
     },
     "b4f3f0fd91374bd080b6300b599dc277": {
      "model_module": "@jupyter-widgets/base",
      "model_module_version": "1.2.0",
      "model_name": "LayoutModel",
      "state": {}
     },
     "b50d8a8f6f10408fb0a5cce5e5c84654": {
      "model_module": "@jupyter-widgets/base",
      "model_module_version": "1.2.0",
      "model_name": "LayoutModel",
      "state": {}
     },
     "b51493f6f8b74232a6a4185d9d02fa9c": {
      "model_module": "@jupyter-widgets/base",
      "model_module_version": "1.2.0",
      "model_name": "LayoutModel",
      "state": {}
     },
     "b530c257b46f4cd691db70fe227cd25a": {
      "model_module": "@jupyter-widgets/base",
      "model_module_version": "1.2.0",
      "model_name": "LayoutModel",
      "state": {}
     },
     "b59b13b8a921422bb6c6a468e09ae72d": {
      "model_module": "@jupyter-widgets/base",
      "model_module_version": "1.2.0",
      "model_name": "LayoutModel",
      "state": {}
     },
     "b5a293b52970425ba1706b5518dd2acd": {
      "model_module": "jupyter-vuetify",
      "model_module_version": "^0.1.11",
      "model_name": "ListTileModel",
      "state": {
       "_events": [
        "click"
       ],
       "children": [
        "IPY_MODEL_525d0a409b5c4020a35a2593f469205f"
       ],
       "href": null,
       "layout": "IPY_MODEL_46563508afd8453ea6a8561f9138e3c5",
       "ripple": null,
       "to": null
      }
     },
     "b5ba366a329e4798b72f4e55ca9f002f": {
      "model_module": "jupyter-vuetify",
      "model_module_version": "^0.1.11",
      "model_name": "BtnModel",
      "state": {
       "_events": [],
       "children": [
        "primary"
       ],
       "color": "primary",
       "href": null,
       "layout": "IPY_MODEL_3b7c2f175a444307995badcfa8456375",
       "ripple": null,
       "to": null
      }
     },
     "b5bdddcf362541e19f92d4e84b8adb99": {
      "model_module": "@jupyter-widgets/base",
      "model_module_version": "1.2.0",
      "model_name": "LayoutModel",
      "state": {}
     },
     "b624dd95381a458e8ca375cf506d2512": {
      "model_module": "jupyter-vuetify",
      "model_module_version": "^0.1.11",
      "model_name": "TooltipModel",
      "state": {
       "_events": [],
       "bottom": true,
       "children": [
        "IPY_MODEL_7589b73da76941f0b66708c1b00e2447",
        "Insert tooltip text here"
       ],
       "close_delay": null,
       "debounce": null,
       "layout": "IPY_MODEL_5c48614cab2e4ec49da2d21fbefef087",
       "max_width": null,
       "min_width": null,
       "nudge_bottom": null,
       "nudge_left": null,
       "nudge_right": null,
       "nudge_top": null,
       "nudge_width": null,
       "open_delay": null
      }
     },
     "b6e57a6209f04438ad0b9c5e0abf3428": {
      "model_module": "@jupyter-widgets/base",
      "model_module_version": "1.2.0",
      "model_name": "LayoutModel",
      "state": {}
     },
     "b6fc5a6da4954ce88199b86270f8f071": {
      "model_module": "@jupyter-widgets/base",
      "model_module_version": "1.2.0",
      "model_name": "LayoutModel",
      "state": {}
     },
     "b7428418f25e4133bbced9a3c798079f": {
      "model_module": "@jupyter-widgets/base",
      "model_module_version": "1.2.0",
      "model_name": "LayoutModel",
      "state": {}
     },
     "b75bf20b823a49779806117e52213928": {
      "model_module": "@jupyter-widgets/base",
      "model_module_version": "1.2.0",
      "model_name": "LayoutModel",
      "state": {}
     },
     "b7b06b85456f40a9aa402f7025fe650b": {
      "model_module": "@jupyter-widgets/base",
      "model_module_version": "1.2.0",
      "model_name": "LayoutModel",
      "state": {}
     },
     "b8187134300b4119a734fe8c2c498479": {
      "model_module": "@jupyter-widgets/base",
      "model_module_version": "1.2.0",
      "model_name": "LayoutModel",
      "state": {}
     },
     "b85ee2701945468ba21cbaced660ead9": {
      "model_module": "@jupyter-widgets/base",
      "model_module_version": "1.2.0",
      "model_name": "LayoutModel",
      "state": {}
     },
     "b89e3c97daea433bacb0e2d2abcc629d": {
      "model_module": "@jupyter-widgets/base",
      "model_module_version": "1.2.0",
      "model_name": "LayoutModel",
      "state": {}
     },
     "b96cbef7a48343e587588361ab008dd8": {
      "model_module": "@jupyter-widgets/base",
      "model_module_version": "1.2.0",
      "model_name": "LayoutModel",
      "state": {}
     },
     "b9e26d524c2147bd84e14acbafc50cf1": {
      "model_module": "@jupyter-widgets/base",
      "model_module_version": "1.2.0",
      "model_name": "LayoutModel",
      "state": {}
     },
     "ba088839275a4d5ea9baf9324fa88a1b": {
      "model_module": "@jupyter-widgets/base",
      "model_module_version": "1.2.0",
      "model_name": "LayoutModel",
      "state": {}
     },
     "ba1476cfd5274ca1937b3ae1ce3ec1be": {
      "model_module": "jupyter-vuetify",
      "model_module_version": "^0.1.11",
      "model_name": "SliderModel",
      "state": {
       "_events": [],
       "children": [],
       "error_count": null,
       "error_messages": null,
       "height": null,
       "layout": "IPY_MODEL_ec86ad97016a435aa593f9e498a769e9",
       "loading": null,
       "max": null,
       "messages": null,
       "min": null,
       "rules": [],
       "step": null,
       "success_messages": null,
       "thumb_label": true,
       "thumb_size": null,
       "tick_labels": [],
       "tick_size": null,
       "ticks": null,
       "v_model": 25,
       "value": null
      }
     },
     "ba2ccd75a6304743b3023d96a303a60f": {
      "model_module": "jupyter-vuetify",
      "model_module_version": "^0.1.11",
      "model_name": "VuetifyTemplateModel",
      "state": {
       "_model_module_version": "^0.1.11",
       "_view_module_version": "^0.1.11",
       "_view_name": "VuetifyView",
       "components": null,
       "events": [],
       "headers": [
        {
         "align": "left",
         "sortable": true,
         "text": "index",
         "value": "index"
        },
        {
         "text": "sepal_length",
         "value": "sepal_length"
        },
        {
         "text": "sepal_width",
         "value": "sepal_width"
        },
        {
         "text": "petal_length",
         "value": "petal_length"
        },
        {
         "text": "petal_width",
         "value": "petal_width"
        },
        {
         "text": "species",
         "value": "species"
        }
       ],
       "index_col": "index",
       "items": [
        {
         "index": 0,
         "petal_length": 1.4,
         "petal_width": 0.2,
         "sepal_length": 5.1,
         "sepal_width": 3.5,
         "species": "setosa"
        },
        {
         "index": 1,
         "petal_length": 1.4,
         "petal_width": 0.2,
         "sepal_length": 4.9,
         "sepal_width": 3,
         "species": "setosa"
        },
        {
         "index": 2,
         "petal_length": 1.3,
         "petal_width": 0.2,
         "sepal_length": 4.7,
         "sepal_width": 3.2,
         "species": "setosa"
        },
        {
         "index": 3,
         "petal_length": 1.5,
         "petal_width": 0.2,
         "sepal_length": 4.6,
         "sepal_width": 3.1,
         "species": "setosa"
        },
        {
         "index": 4,
         "petal_length": 1.4,
         "petal_width": 0.2,
         "sepal_length": 5,
         "sepal_width": 3.6,
         "species": "setosa"
        },
        {
         "index": 5,
         "petal_length": 1.7,
         "petal_width": 0.4,
         "sepal_length": 5.4,
         "sepal_width": 3.9,
         "species": "setosa"
        },
        {
         "index": 6,
         "petal_length": 1.4,
         "petal_width": 0.3,
         "sepal_length": 4.6,
         "sepal_width": 3.4,
         "species": "setosa"
        },
        {
         "index": 7,
         "petal_length": 1.5,
         "petal_width": 0.2,
         "sepal_length": 5,
         "sepal_width": 3.4,
         "species": "setosa"
        },
        {
         "index": 8,
         "petal_length": 1.4,
         "petal_width": 0.2,
         "sepal_length": 4.4,
         "sepal_width": 2.9,
         "species": "setosa"
        },
        {
         "index": 9,
         "petal_length": 1.5,
         "petal_width": 0.1,
         "sepal_length": 4.9,
         "sepal_width": 3.1,
         "species": "setosa"
        },
        {
         "index": 10,
         "petal_length": 1.5,
         "petal_width": 0.2,
         "sepal_length": 5.4,
         "sepal_width": 3.7,
         "species": "setosa"
        },
        {
         "index": 11,
         "petal_length": 1.6,
         "petal_width": 0.2,
         "sepal_length": 4.8,
         "sepal_width": 3.4,
         "species": "setosa"
        },
        {
         "index": 12,
         "petal_length": 1.4,
         "petal_width": 0.1,
         "sepal_length": 4.8,
         "sepal_width": 3,
         "species": "setosa"
        },
        {
         "index": 13,
         "petal_length": 1.1,
         "petal_width": 0.1,
         "sepal_length": 4.3,
         "sepal_width": 3,
         "species": "setosa"
        },
        {
         "index": 14,
         "petal_length": 1.2,
         "petal_width": 0.2,
         "sepal_length": 5.8,
         "sepal_width": 4,
         "species": "setosa"
        },
        {
         "index": 15,
         "petal_length": 1.5,
         "petal_width": 0.4,
         "sepal_length": 5.7,
         "sepal_width": 4.4,
         "species": "setosa"
        },
        {
         "index": 16,
         "petal_length": 1.3,
         "petal_width": 0.4,
         "sepal_length": 5.4,
         "sepal_width": 3.9,
         "species": "setosa"
        },
        {
         "index": 17,
         "petal_length": 1.4,
         "petal_width": 0.3,
         "sepal_length": 5.1,
         "sepal_width": 3.5,
         "species": "setosa"
        },
        {
         "index": 18,
         "petal_length": 1.7,
         "petal_width": 0.3,
         "sepal_length": 5.7,
         "sepal_width": 3.8,
         "species": "setosa"
        },
        {
         "index": 19,
         "petal_length": 1.5,
         "petal_width": 0.3,
         "sepal_length": 5.1,
         "sepal_width": 3.8,
         "species": "setosa"
        },
        {
         "index": 20,
         "petal_length": 1.7,
         "petal_width": 0.2,
         "sepal_length": 5.4,
         "sepal_width": 3.4,
         "species": "setosa"
        },
        {
         "index": 21,
         "petal_length": 1.5,
         "petal_width": 0.4,
         "sepal_length": 5.1,
         "sepal_width": 3.7,
         "species": "setosa"
        },
        {
         "index": 22,
         "petal_length": 1,
         "petal_width": 0.2,
         "sepal_length": 4.6,
         "sepal_width": 3.6,
         "species": "setosa"
        },
        {
         "index": 23,
         "petal_length": 1.7,
         "petal_width": 0.5,
         "sepal_length": 5.1,
         "sepal_width": 3.3,
         "species": "setosa"
        },
        {
         "index": 24,
         "petal_length": 1.9,
         "petal_width": 0.2,
         "sepal_length": 4.8,
         "sepal_width": 3.4,
         "species": "setosa"
        },
        {
         "index": 25,
         "petal_length": 1.6,
         "petal_width": 0.2,
         "sepal_length": 5,
         "sepal_width": 3,
         "species": "setosa"
        },
        {
         "index": 26,
         "petal_length": 1.6,
         "petal_width": 0.4,
         "sepal_length": 5,
         "sepal_width": 3.4,
         "species": "setosa"
        },
        {
         "index": 27,
         "petal_length": 1.5,
         "petal_width": 0.2,
         "sepal_length": 5.2,
         "sepal_width": 3.5,
         "species": "setosa"
        },
        {
         "index": 28,
         "petal_length": 1.4,
         "petal_width": 0.2,
         "sepal_length": 5.2,
         "sepal_width": 3.4,
         "species": "setosa"
        },
        {
         "index": 29,
         "petal_length": 1.6,
         "petal_width": 0.2,
         "sepal_length": 4.7,
         "sepal_width": 3.2,
         "species": "setosa"
        },
        {
         "index": 30,
         "petal_length": 1.6,
         "petal_width": 0.2,
         "sepal_length": 4.8,
         "sepal_width": 3.1,
         "species": "setosa"
        },
        {
         "index": 31,
         "petal_length": 1.5,
         "petal_width": 0.4,
         "sepal_length": 5.4,
         "sepal_width": 3.4,
         "species": "setosa"
        },
        {
         "index": 32,
         "petal_length": 1.5,
         "petal_width": 0.1,
         "sepal_length": 5.2,
         "sepal_width": 4.1,
         "species": "setosa"
        },
        {
         "index": 33,
         "petal_length": 1.4,
         "petal_width": 0.2,
         "sepal_length": 5.5,
         "sepal_width": 4.2,
         "species": "setosa"
        },
        {
         "index": 34,
         "petal_length": 1.5,
         "petal_width": 0.2,
         "sepal_length": 4.9,
         "sepal_width": 3.1,
         "species": "setosa"
        },
        {
         "index": 35,
         "petal_length": 1.2,
         "petal_width": 0.2,
         "sepal_length": 5,
         "sepal_width": 3.2,
         "species": "setosa"
        },
        {
         "index": 36,
         "petal_length": 1.3,
         "petal_width": 0.2,
         "sepal_length": 5.5,
         "sepal_width": 3.5,
         "species": "setosa"
        },
        {
         "index": 37,
         "petal_length": 1.4,
         "petal_width": 0.1,
         "sepal_length": 4.9,
         "sepal_width": 3.6,
         "species": "setosa"
        },
        {
         "index": 38,
         "petal_length": 1.3,
         "petal_width": 0.2,
         "sepal_length": 4.4,
         "sepal_width": 3,
         "species": "setosa"
        },
        {
         "index": 39,
         "petal_length": 1.5,
         "petal_width": 0.2,
         "sepal_length": 5.1,
         "sepal_width": 3.4,
         "species": "setosa"
        },
        {
         "index": 40,
         "petal_length": 1.3,
         "petal_width": 0.3,
         "sepal_length": 5,
         "sepal_width": 3.5,
         "species": "setosa"
        },
        {
         "index": 41,
         "petal_length": 1.3,
         "petal_width": 0.3,
         "sepal_length": 4.5,
         "sepal_width": 2.3,
         "species": "setosa"
        },
        {
         "index": 42,
         "petal_length": 1.3,
         "petal_width": 0.2,
         "sepal_length": 4.4,
         "sepal_width": 3.2,
         "species": "setosa"
        },
        {
         "index": 43,
         "petal_length": 1.6,
         "petal_width": 0.6,
         "sepal_length": 5,
         "sepal_width": 3.5,
         "species": "setosa"
        },
        {
         "index": 44,
         "petal_length": 1.9,
         "petal_width": 0.4,
         "sepal_length": 5.1,
         "sepal_width": 3.8,
         "species": "setosa"
        },
        {
         "index": 45,
         "petal_length": 1.4,
         "petal_width": 0.3,
         "sepal_length": 4.8,
         "sepal_width": 3,
         "species": "setosa"
        },
        {
         "index": 46,
         "petal_length": 1.6,
         "petal_width": 0.2,
         "sepal_length": 5.1,
         "sepal_width": 3.8,
         "species": "setosa"
        },
        {
         "index": 47,
         "petal_length": 1.4,
         "petal_width": 0.2,
         "sepal_length": 4.6,
         "sepal_width": 3.2,
         "species": "setosa"
        },
        {
         "index": 48,
         "petal_length": 1.5,
         "petal_width": 0.2,
         "sepal_length": 5.3,
         "sepal_width": 3.7,
         "species": "setosa"
        },
        {
         "index": 49,
         "petal_length": 1.4,
         "petal_width": 0.2,
         "sepal_length": 5,
         "sepal_width": 3.3,
         "species": "setosa"
        },
        {
         "index": 50,
         "petal_length": 4.7,
         "petal_width": 1.4,
         "sepal_length": 7,
         "sepal_width": 3.2,
         "species": "versicolor"
        },
        {
         "index": 51,
         "petal_length": 4.5,
         "petal_width": 1.5,
         "sepal_length": 6.4,
         "sepal_width": 3.2,
         "species": "versicolor"
        },
        {
         "index": 52,
         "petal_length": 4.9,
         "petal_width": 1.5,
         "sepal_length": 6.9,
         "sepal_width": 3.1,
         "species": "versicolor"
        },
        {
         "index": 53,
         "petal_length": 4,
         "petal_width": 1.3,
         "sepal_length": 5.5,
         "sepal_width": 2.3,
         "species": "versicolor"
        },
        {
         "index": 54,
         "petal_length": 4.6,
         "petal_width": 1.5,
         "sepal_length": 6.5,
         "sepal_width": 2.8,
         "species": "versicolor"
        },
        {
         "index": 55,
         "petal_length": 4.5,
         "petal_width": 1.3,
         "sepal_length": 5.7,
         "sepal_width": 2.8,
         "species": "versicolor"
        },
        {
         "index": 56,
         "petal_length": 4.7,
         "petal_width": 1.6,
         "sepal_length": 6.3,
         "sepal_width": 3.3,
         "species": "versicolor"
        },
        {
         "index": 57,
         "petal_length": 3.3,
         "petal_width": 1,
         "sepal_length": 4.9,
         "sepal_width": 2.4,
         "species": "versicolor"
        },
        {
         "index": 58,
         "petal_length": 4.6,
         "petal_width": 1.3,
         "sepal_length": 6.6,
         "sepal_width": 2.9,
         "species": "versicolor"
        },
        {
         "index": 59,
         "petal_length": 3.9,
         "petal_width": 1.4,
         "sepal_length": 5.2,
         "sepal_width": 2.7,
         "species": "versicolor"
        },
        {
         "index": 60,
         "petal_length": 3.5,
         "petal_width": 1,
         "sepal_length": 5,
         "sepal_width": 2,
         "species": "versicolor"
        },
        {
         "index": 61,
         "petal_length": 4.2,
         "petal_width": 1.5,
         "sepal_length": 5.9,
         "sepal_width": 3,
         "species": "versicolor"
        },
        {
         "index": 62,
         "petal_length": 4,
         "petal_width": 1,
         "sepal_length": 6,
         "sepal_width": 2.2,
         "species": "versicolor"
        },
        {
         "index": 63,
         "petal_length": 4.7,
         "petal_width": 1.4,
         "sepal_length": 6.1,
         "sepal_width": 2.9,
         "species": "versicolor"
        },
        {
         "index": 64,
         "petal_length": 3.6,
         "petal_width": 1.3,
         "sepal_length": 5.6,
         "sepal_width": 2.9,
         "species": "versicolor"
        },
        {
         "index": 65,
         "petal_length": 4.4,
         "petal_width": 1.4,
         "sepal_length": 6.7,
         "sepal_width": 3.1,
         "species": "versicolor"
        },
        {
         "index": 66,
         "petal_length": 4.5,
         "petal_width": 1.5,
         "sepal_length": 5.6,
         "sepal_width": 3,
         "species": "versicolor"
        },
        {
         "index": 67,
         "petal_length": 4.1,
         "petal_width": 1,
         "sepal_length": 5.8,
         "sepal_width": 2.7,
         "species": "versicolor"
        },
        {
         "index": 68,
         "petal_length": 4.5,
         "petal_width": 1.5,
         "sepal_length": 6.2,
         "sepal_width": 2.2,
         "species": "versicolor"
        },
        {
         "index": 69,
         "petal_length": 3.9,
         "petal_width": 1.1,
         "sepal_length": 5.6,
         "sepal_width": 2.5,
         "species": "versicolor"
        },
        {
         "index": 70,
         "petal_length": 4.8,
         "petal_width": 1.8,
         "sepal_length": 5.9,
         "sepal_width": 3.2,
         "species": "versicolor"
        },
        {
         "index": 71,
         "petal_length": 4,
         "petal_width": 1.3,
         "sepal_length": 6.1,
         "sepal_width": 2.8,
         "species": "versicolor"
        },
        {
         "index": 72,
         "petal_length": 4.9,
         "petal_width": 1.5,
         "sepal_length": 6.3,
         "sepal_width": 2.5,
         "species": "versicolor"
        },
        {
         "index": 73,
         "petal_length": 4.7,
         "petal_width": 1.2,
         "sepal_length": 6.1,
         "sepal_width": 2.8,
         "species": "versicolor"
        },
        {
         "index": 74,
         "petal_length": 4.3,
         "petal_width": 1.3,
         "sepal_length": 6.4,
         "sepal_width": 2.9,
         "species": "versicolor"
        },
        {
         "index": 75,
         "petal_length": 4.4,
         "petal_width": 1.4,
         "sepal_length": 6.6,
         "sepal_width": 3,
         "species": "versicolor"
        },
        {
         "index": 76,
         "petal_length": 4.8,
         "petal_width": 1.4,
         "sepal_length": 6.8,
         "sepal_width": 2.8,
         "species": "versicolor"
        },
        {
         "index": 77,
         "petal_length": 5,
         "petal_width": 1.7,
         "sepal_length": 6.7,
         "sepal_width": 3,
         "species": "versicolor"
        },
        {
         "index": 78,
         "petal_length": 4.5,
         "petal_width": 1.5,
         "sepal_length": 6,
         "sepal_width": 2.9,
         "species": "versicolor"
        },
        {
         "index": 79,
         "petal_length": 3.5,
         "petal_width": 1,
         "sepal_length": 5.7,
         "sepal_width": 2.6,
         "species": "versicolor"
        },
        {
         "index": 80,
         "petal_length": 3.8,
         "petal_width": 1.1,
         "sepal_length": 5.5,
         "sepal_width": 2.4,
         "species": "versicolor"
        },
        {
         "index": 81,
         "petal_length": 3.7,
         "petal_width": 1,
         "sepal_length": 5.5,
         "sepal_width": 2.4,
         "species": "versicolor"
        },
        {
         "index": 82,
         "petal_length": 3.9,
         "petal_width": 1.2,
         "sepal_length": 5.8,
         "sepal_width": 2.7,
         "species": "versicolor"
        },
        {
         "index": 83,
         "petal_length": 5.1,
         "petal_width": 1.6,
         "sepal_length": 6,
         "sepal_width": 2.7,
         "species": "versicolor"
        },
        {
         "index": 84,
         "petal_length": 4.5,
         "petal_width": 1.5,
         "sepal_length": 5.4,
         "sepal_width": 3,
         "species": "versicolor"
        },
        {
         "index": 85,
         "petal_length": 4.5,
         "petal_width": 1.6,
         "sepal_length": 6,
         "sepal_width": 3.4,
         "species": "versicolor"
        },
        {
         "index": 86,
         "petal_length": 4.7,
         "petal_width": 1.5,
         "sepal_length": 6.7,
         "sepal_width": 3.1,
         "species": "versicolor"
        },
        {
         "index": 87,
         "petal_length": 4.4,
         "petal_width": 1.3,
         "sepal_length": 6.3,
         "sepal_width": 2.3,
         "species": "versicolor"
        },
        {
         "index": 88,
         "petal_length": 4.1,
         "petal_width": 1.3,
         "sepal_length": 5.6,
         "sepal_width": 3,
         "species": "versicolor"
        },
        {
         "index": 89,
         "petal_length": 4,
         "petal_width": 1.3,
         "sepal_length": 5.5,
         "sepal_width": 2.5,
         "species": "versicolor"
        },
        {
         "index": 90,
         "petal_length": 4.4,
         "petal_width": 1.2,
         "sepal_length": 5.5,
         "sepal_width": 2.6,
         "species": "versicolor"
        },
        {
         "index": 91,
         "petal_length": 4.6,
         "petal_width": 1.4,
         "sepal_length": 6.1,
         "sepal_width": 3,
         "species": "versicolor"
        },
        {
         "index": 92,
         "petal_length": 4,
         "petal_width": 1.2,
         "sepal_length": 5.8,
         "sepal_width": 2.6,
         "species": "versicolor"
        },
        {
         "index": 93,
         "petal_length": 3.3,
         "petal_width": 1,
         "sepal_length": 5,
         "sepal_width": 2.3,
         "species": "versicolor"
        },
        {
         "index": 94,
         "petal_length": 4.2,
         "petal_width": 1.3,
         "sepal_length": 5.6,
         "sepal_width": 2.7,
         "species": "versicolor"
        },
        {
         "index": 95,
         "petal_length": 4.2,
         "petal_width": 1.2,
         "sepal_length": 5.7,
         "sepal_width": 3,
         "species": "versicolor"
        },
        {
         "index": 96,
         "petal_length": 4.2,
         "petal_width": 1.3,
         "sepal_length": 5.7,
         "sepal_width": 2.9,
         "species": "versicolor"
        },
        {
         "index": 97,
         "petal_length": 4.3,
         "petal_width": 1.3,
         "sepal_length": 6.2,
         "sepal_width": 2.9,
         "species": "versicolor"
        },
        {
         "index": 98,
         "petal_length": 3,
         "petal_width": 1.1,
         "sepal_length": 5.1,
         "sepal_width": 2.5,
         "species": "versicolor"
        },
        {
         "index": 99,
         "petal_length": 4.1,
         "petal_width": 1.3,
         "sepal_length": 5.7,
         "sepal_width": 2.8,
         "species": "versicolor"
        },
        {
         "index": 100,
         "petal_length": 6,
         "petal_width": 2.5,
         "sepal_length": 6.3,
         "sepal_width": 3.3,
         "species": "virginica"
        },
        {
         "index": 101,
         "petal_length": 5.1,
         "petal_width": 1.9,
         "sepal_length": 5.8,
         "sepal_width": 2.7,
         "species": "virginica"
        },
        {
         "index": 102,
         "petal_length": 5.9,
         "petal_width": 2.1,
         "sepal_length": 7.1,
         "sepal_width": 3,
         "species": "virginica"
        },
        {
         "index": 103,
         "petal_length": 5.6,
         "petal_width": 1.8,
         "sepal_length": 6.3,
         "sepal_width": 2.9,
         "species": "virginica"
        },
        {
         "index": 104,
         "petal_length": 5.8,
         "petal_width": 2.2,
         "sepal_length": 6.5,
         "sepal_width": 3,
         "species": "virginica"
        },
        {
         "index": 105,
         "petal_length": 6.6,
         "petal_width": 2.1,
         "sepal_length": 7.6,
         "sepal_width": 3,
         "species": "virginica"
        },
        {
         "index": 106,
         "petal_length": 4.5,
         "petal_width": 1.7,
         "sepal_length": 4.9,
         "sepal_width": 2.5,
         "species": "virginica"
        },
        {
         "index": 107,
         "petal_length": 6.3,
         "petal_width": 1.8,
         "sepal_length": 7.3,
         "sepal_width": 2.9,
         "species": "virginica"
        },
        {
         "index": 108,
         "petal_length": 5.8,
         "petal_width": 1.8,
         "sepal_length": 6.7,
         "sepal_width": 2.5,
         "species": "virginica"
        },
        {
         "index": 109,
         "petal_length": 6.1,
         "petal_width": 2.5,
         "sepal_length": 7.2,
         "sepal_width": 3.6,
         "species": "virginica"
        },
        {
         "index": 110,
         "petal_length": 5.1,
         "petal_width": 2,
         "sepal_length": 6.5,
         "sepal_width": 3.2,
         "species": "virginica"
        },
        {
         "index": 111,
         "petal_length": 5.3,
         "petal_width": 1.9,
         "sepal_length": 6.4,
         "sepal_width": 2.7,
         "species": "virginica"
        },
        {
         "index": 112,
         "petal_length": 5.5,
         "petal_width": 2.1,
         "sepal_length": 6.8,
         "sepal_width": 3,
         "species": "virginica"
        },
        {
         "index": 113,
         "petal_length": 5,
         "petal_width": 2,
         "sepal_length": 5.7,
         "sepal_width": 2.5,
         "species": "virginica"
        },
        {
         "index": 114,
         "petal_length": 5.1,
         "petal_width": 2.4,
         "sepal_length": 5.8,
         "sepal_width": 2.8,
         "species": "virginica"
        },
        {
         "index": 115,
         "petal_length": 5.3,
         "petal_width": 2.3,
         "sepal_length": 6.4,
         "sepal_width": 3.2,
         "species": "virginica"
        },
        {
         "index": 116,
         "petal_length": 5.5,
         "petal_width": 1.8,
         "sepal_length": 6.5,
         "sepal_width": 3,
         "species": "virginica"
        },
        {
         "index": 117,
         "petal_length": 6.7,
         "petal_width": 2.2,
         "sepal_length": 7.7,
         "sepal_width": 3.8,
         "species": "virginica"
        },
        {
         "index": 118,
         "petal_length": 6.9,
         "petal_width": 2.3,
         "sepal_length": 7.7,
         "sepal_width": 2.6,
         "species": "virginica"
        },
        {
         "index": 119,
         "petal_length": 5,
         "petal_width": 1.5,
         "sepal_length": 6,
         "sepal_width": 2.2,
         "species": "virginica"
        },
        {
         "index": 120,
         "petal_length": 5.7,
         "petal_width": 2.3,
         "sepal_length": 6.9,
         "sepal_width": 3.2,
         "species": "virginica"
        },
        {
         "index": 121,
         "petal_length": 4.9,
         "petal_width": 2,
         "sepal_length": 5.6,
         "sepal_width": 2.8,
         "species": "virginica"
        },
        {
         "index": 122,
         "petal_length": 6.7,
         "petal_width": 2,
         "sepal_length": 7.7,
         "sepal_width": 2.8,
         "species": "virginica"
        },
        {
         "index": 123,
         "petal_length": 4.9,
         "petal_width": 1.8,
         "sepal_length": 6.3,
         "sepal_width": 2.7,
         "species": "virginica"
        },
        {
         "index": 124,
         "petal_length": 5.7,
         "petal_width": 2.1,
         "sepal_length": 6.7,
         "sepal_width": 3.3,
         "species": "virginica"
        },
        {
         "index": 125,
         "petal_length": 6,
         "petal_width": 1.8,
         "sepal_length": 7.2,
         "sepal_width": 3.2,
         "species": "virginica"
        },
        {
         "index": 126,
         "petal_length": 4.8,
         "petal_width": 1.8,
         "sepal_length": 6.2,
         "sepal_width": 2.8,
         "species": "virginica"
        },
        {
         "index": 127,
         "petal_length": 4.9,
         "petal_width": 1.8,
         "sepal_length": 6.1,
         "sepal_width": 3,
         "species": "virginica"
        },
        {
         "index": 128,
         "petal_length": 5.6,
         "petal_width": 2.1,
         "sepal_length": 6.4,
         "sepal_width": 2.8,
         "species": "virginica"
        },
        {
         "index": 129,
         "petal_length": 5.8,
         "petal_width": 1.6,
         "sepal_length": 7.2,
         "sepal_width": 3,
         "species": "virginica"
        },
        {
         "index": 130,
         "petal_length": 6.1,
         "petal_width": 1.9,
         "sepal_length": 7.4,
         "sepal_width": 2.8,
         "species": "virginica"
        },
        {
         "index": 131,
         "petal_length": 6.4,
         "petal_width": 2,
         "sepal_length": 7.9,
         "sepal_width": 3.8,
         "species": "virginica"
        },
        {
         "index": 132,
         "petal_length": 5.6,
         "petal_width": 2.2,
         "sepal_length": 6.4,
         "sepal_width": 2.8,
         "species": "virginica"
        },
        {
         "index": 133,
         "petal_length": 5.1,
         "petal_width": 1.5,
         "sepal_length": 6.3,
         "sepal_width": 2.8,
         "species": "virginica"
        },
        {
         "index": 134,
         "petal_length": 5.6,
         "petal_width": 1.4,
         "sepal_length": 6.1,
         "sepal_width": 2.6,
         "species": "virginica"
        },
        {
         "index": 135,
         "petal_length": 6.1,
         "petal_width": 2.3,
         "sepal_length": 7.7,
         "sepal_width": 3,
         "species": "virginica"
        },
        {
         "index": 136,
         "petal_length": 5.6,
         "petal_width": 2.4,
         "sepal_length": 6.3,
         "sepal_width": 3.4,
         "species": "virginica"
        },
        {
         "index": 137,
         "petal_length": 5.5,
         "petal_width": 1.8,
         "sepal_length": 6.4,
         "sepal_width": 3.1,
         "species": "virginica"
        },
        {
         "index": 138,
         "petal_length": 4.8,
         "petal_width": 1.8,
         "sepal_length": 6,
         "sepal_width": 3,
         "species": "virginica"
        },
        {
         "index": 139,
         "petal_length": 5.4,
         "petal_width": 2.1,
         "sepal_length": 6.9,
         "sepal_width": 3.1,
         "species": "virginica"
        },
        {
         "index": 140,
         "petal_length": 5.6,
         "petal_width": 2.4,
         "sepal_length": 6.7,
         "sepal_width": 3.1,
         "species": "virginica"
        },
        {
         "index": 141,
         "petal_length": 5.1,
         "petal_width": 2.3,
         "sepal_length": 6.9,
         "sepal_width": 3.1,
         "species": "virginica"
        },
        {
         "index": 142,
         "petal_length": 5.1,
         "petal_width": 1.9,
         "sepal_length": 5.8,
         "sepal_width": 2.7,
         "species": "virginica"
        },
        {
         "index": 143,
         "petal_length": 5.9,
         "petal_width": 2.3,
         "sepal_length": 6.8,
         "sepal_width": 3.2,
         "species": "virginica"
        },
        {
         "index": 144,
         "petal_length": 5.7,
         "petal_width": 2.5,
         "sepal_length": 6.7,
         "sepal_width": 3.3,
         "species": "virginica"
        },
        {
         "index": 145,
         "petal_length": 5.2,
         "petal_width": 2.3,
         "sepal_length": 6.7,
         "sepal_width": 3,
         "species": "virginica"
        },
        {
         "index": 146,
         "petal_length": 5,
         "petal_width": 1.9,
         "sepal_length": 6.3,
         "sepal_width": 2.5,
         "species": "virginica"
        },
        {
         "index": 147,
         "petal_length": 5.2,
         "petal_width": 2,
         "sepal_length": 6.5,
         "sepal_width": 3,
         "species": "virginica"
        },
        {
         "index": 148,
         "petal_length": 5.4,
         "petal_width": 2.3,
         "sepal_length": 6.2,
         "sepal_width": 3.4,
         "species": "virginica"
        },
        {
         "index": 149,
         "petal_length": 5.1,
         "petal_width": 1.8,
         "sepal_length": 5.9,
         "sepal_width": 3,
         "species": "virginica"
        }
       ],
       "layout": "IPY_MODEL_c56d87ee0e8e4eae8a00de9e225cb6e0",
       "search": "",
       "template": "\n        <template>\n          <v-card>\n            <v-card-title>\n              <span class=\"title font-weight-bold\">{{ title }}</span>\n              <v-spacer></v-spacer>\n                <v-text-field\n                    v-model=\"search\"\n                    append-icon=\"search\"\n                    label=\"Search ...\"\n                    single-line\n                    hide-details\n                ></v-text-field>\n            </v-card-title>\n            <v-data-table\n                :headers=\"headers\"\n                :items=\"items\"\n                :search=\"search\"\n                :item-key=\"index_col\"\n                :rows-per-page-items=\"[25, 50, 250, 500]\"\n            >\n                <template v-slot:no-data>\n                  <v-alert :value=\"true\" color=\"error\" icon=\"warning\">\n                    Sorry, nothing to display here :(\n                  </v-alert>\n                </template>\n                <template v-slot:no-results>\n                    <v-alert :value=\"true\" color=\"error\" icon=\"warning\">\n                      Your search for \"{{ search }}\" found no results.\n                    </v-alert>\n                </template>\n                <template v-slot:items=\"rows\">\n                  <td v-for=\"(element, label, index) in rows.item\"\n                      @click=cell_click(element)\n                      >\n                    {{ element }}\n                  </td>\n                </template>\n            </v-data-table>\n          </v-card>\n        </template>\n        ",
       "title": "Iris"
      }
     },
     "baf9ac1ae9274acaa32843a457db917b": {
      "model_module": "jupyter-vuetify",
      "model_module_version": "^0.1.11",
      "model_name": "HtmlModel",
      "state": {
       "_events": [],
       "children": [
        "item1"
       ],
       "layout": "IPY_MODEL_4cde0145f86847a7998d024cd678e08f",
       "slot": "header",
       "tag": "div"
      }
     },
     "bb62d82f1eb545eb93b39405346e5d78": {
      "model_module": "jupyter-vuetify",
      "model_module_version": "^0.1.11",
      "model_name": "BtnModel",
      "state": {
       "_events": [],
       "children": [
        "outline"
       ],
       "color": "primary",
       "href": null,
       "layout": "IPY_MODEL_d0fd62ff9daf4e599f968432e0248cff",
       "outline": true,
       "ripple": null,
       "to": null
      }
     },
     "bc36673354f746018f3cff82caf2c45f": {
      "model_module": "jupyter-vuetify",
      "model_module_version": "^0.1.11",
      "model_name": "ChipModel",
      "state": {
       "_events": [],
       "children": [],
       "layout": "IPY_MODEL_3ced6ac9d5cf45fc9c4fff38f3f4f0b9"
      }
     },
     "bc3fbb37762e42648728dd8536a7d759": {
      "model_module": "jupyter-vuetify",
      "model_module_version": "^0.1.11",
      "model_name": "SliderModel",
      "state": {
       "_events": [],
       "children": [],
       "error_count": null,
       "error_messages": null,
       "height": null,
       "layout": "IPY_MODEL_ebe54730df04438785613077eba50cdb",
       "loading": null,
       "max": null,
       "messages": null,
       "min": null,
       "rules": [],
       "step": null,
       "success_messages": null,
       "thumb_label": "always",
       "thumb_size": null,
       "tick_labels": [],
       "tick_size": null,
       "ticks": null,
       "v_model": 25,
       "value": null
      }
     },
     "bc6e22763d944661847d3c4ad16c1316": {
      "model_module": "@jupyter-widgets/base",
      "model_module_version": "1.2.0",
      "model_name": "LayoutModel",
      "state": {}
     },
     "bd596fcb7b46418ea09821e676fab982": {
      "model_module": "jupyter-vuetify",
      "model_module_version": "^0.1.11",
      "model_name": "ChipModel",
      "state": {
       "_events": [],
       "children": [],
       "layout": "IPY_MODEL_0e20ead17ef045838a5655dc02ee4539"
      }
     },
     "bd820e2a18ae419194d572186eca60e7": {
      "model_module": "jupyter-vuetify",
      "model_module_version": "^0.1.11",
      "model_name": "IconModel",
      "state": {
       "_events": [],
       "children": [
        "format_align_center"
       ],
       "layout": "IPY_MODEL_000576ddf5d44799b2f9f4e8186d9f60",
       "size": null
      }
     },
     "bd896cf2ff244556a07e8b23d16689a5": {
      "model_module": "@jupyter-widgets/base",
      "model_module_version": "1.2.0",
      "model_name": "LayoutModel",
      "state": {}
     },
     "bd97283f39c94446bb5529602025b3e5": {
      "model_module": "jupyter-vuetify",
      "model_module_version": "^0.1.11",
      "model_name": "HtmlModel",
      "state": {
       "_events": [],
       "children": [
        "item2"
       ],
       "layout": "IPY_MODEL_91a79f47d84d43fb8c520c6832893faa",
       "slot": "header",
       "tag": "div"
      }
     },
     "bdcc0b1e932441debc7b6f3d2f19eb0f": {
      "model_module": "@jupyter-widgets/base",
      "model_module_version": "1.2.0",
      "model_name": "LayoutModel",
      "state": {}
     },
     "bdddfa481db84e1f9eca935ce43e71ff": {
      "model_module": "@jupyter-widgets/base",
      "model_module_version": "1.2.0",
      "model_name": "LayoutModel",
      "state": {}
     },
     "bea808a6effc4517945ad36266146f3e": {
      "model_module": "jupyter-vuetify",
      "model_module_version": "^0.1.11",
      "model_name": "IconModel",
      "state": {
       "_events": [],
       "children": [
        "edit"
       ],
       "layout": "IPY_MODEL_ac730b7fe32648e4b25ffedf68648dd5",
       "size": null
      }
     },
     "bf147518a9854e70ba8a062e7117d4d0": {
      "model_module": "@jupyter-widgets/base",
      "model_module_version": "1.2.0",
      "model_name": "LayoutModel",
      "state": {}
     },
     "bfcdf5620a4d453cbf158c61ef9e9540": {
      "model_module": "jupyter-vuetify",
      "model_module_version": "^0.1.11",
      "model_name": "TabItemModel",
      "state": {
       "_events": [],
       "children": [
        "Lorem ipsum dolor sit amet, consectetur adipiscing elit, sed do eiusmod tempor incididunt ut labore et dolore magna aliqua."
       ],
       "layout": "IPY_MODEL_8b491097751046f2b0e6426c59aff6c5",
       "reverse_transition": null,
       "transition": null
      }
     },
     "bfcfe40111bd49efa44b0e988a6ad15a": {
      "model_module": "jupyter-vuetify",
      "model_module_version": "^0.1.11",
      "model_name": "IconModel",
      "state": {
       "_events": [],
       "children": [
        "fingerprint"
       ],
       "layout": "IPY_MODEL_6280c2d148ee443ea290661371144ecf",
       "left": true,
       "size": null
      }
     },
     "c0173effb68644a6b5a905acb6b837c3": {
      "model_module": "@jupyter-widgets/base",
      "model_module_version": "1.2.0",
      "model_name": "LayoutModel",
      "state": {}
     },
     "c01b5ca4ff544a98ae5e40b1c16e7adf": {
      "model_module": "@jupyter-widgets/base",
      "model_module_version": "1.2.0",
      "model_name": "LayoutModel",
      "state": {}
     },
     "c04196fea32f49869a365d977666bbea": {
      "model_module": "jupyter-vuetify",
      "model_module_version": "^0.1.11",
      "model_name": "HtmlModel",
      "state": {
       "_events": [],
       "children": [
        "item2"
       ],
       "layout": "IPY_MODEL_c8a5a82fbbe04209ada73da17803dcec",
       "slot": "header",
       "tag": "div"
      }
     },
     "c10ab29fbb2e4f3e83a60a2aff82b194": {
      "model_module": "jupyter-vuetify",
      "model_module_version": "^0.1.11",
      "model_name": "BtnModel",
      "state": {
       "_events": [],
       "children": [
        "IPY_MODEL_d8f15e42b04e4d2da3dfeb4fa3fca799"
       ],
       "color": "primary",
       "fab": true,
       "href": null,
       "large": true,
       "layout": "IPY_MODEL_91b14c1eab2a4915b8180b1123e5537e",
       "ripple": null,
       "to": null
      }
     },
     "c111d780807a4660b5738e4000d529c0": {
      "model_module": "jupyter-vuetify",
      "model_module_version": "^0.1.11",
      "model_name": "BtnModel",
      "state": {
       "_events": [],
       "children": [
        "IPY_MODEL_acb6e1111a5d4065bbf25e18f1072c7f"
       ],
       "flat": true,
       "href": null,
       "layout": "IPY_MODEL_c01b5ca4ff544a98ae5e40b1c16e7adf",
       "ripple": null,
       "to": null
      }
     },
     "c1410aee8a0a44e09bfe4e073b57ba65": {
      "model_module": "@jupyter-widgets/base",
      "model_module_version": "1.2.0",
      "model_name": "LayoutModel",
      "state": {}
     },
     "c1876f07f79543888a6ca419b4f84741": {
      "model_module": "jupyter-vuetify",
      "model_module_version": "^0.1.11",
      "model_name": "TabsModel",
      "state": {
       "_events": [],
       "children": [
        "IPY_MODEL_8e208695ee9647dab133aa2465741a7f",
        "IPY_MODEL_e0d194bca3464780a020e9b2ae9669a9",
        "IPY_MODEL_e5365ef08d1e493fa8e4d067b8e2f7d8",
        "IPY_MODEL_9cbdae80e99b4d89abd32beb704974cb",
        "IPY_MODEL_f3a736188ece4f599d48e5ce16bb0606",
        "IPY_MODEL_0745dc7cf27b4c7fb6999fc14b51e396"
       ],
       "height": null,
       "layout": "IPY_MODEL_e4f90deedafe4a93b2a6464bf3122953",
       "max": null,
       "mobile_break_point": null,
       "v_model": 1,
       "value": null
      }
     },
     "c1b735f039d24fd98eef4263dabe65d4": {
      "model_module": "jupyter-vuetify",
      "model_module_version": "^0.1.11",
      "model_name": "TabModel",
      "state": {
       "_events": [],
       "children": [
        "Tab 2"
       ],
       "href": null,
       "layout": "IPY_MODEL_9a0813033a8748d3af48928e0ec781c0",
       "ripple": null,
       "to": null
      }
     },
     "c1d885940bca4b819647628bacc4c7b4": {
      "model_module": "jupyter-vuetify",
      "model_module_version": "^0.1.11",
      "model_name": "IconModel",
      "state": {
       "_events": [],
       "children": [
        "format_align_left"
       ],
       "layout": "IPY_MODEL_7dd7401d065a44c7811f32443998edb5",
       "size": null
      }
     },
     "c1f81f57026f4d35ad6d732771ad232c": {
      "model_module": "@jupyter-widgets/base",
      "model_module_version": "1.2.0",
      "model_name": "LayoutModel",
      "state": {}
     },
     "c24a09882a6243ee82907f4b1e87f344": {
      "model_module": "@jupyter-widgets/base",
      "model_module_version": "1.2.0",
      "model_name": "LayoutModel",
      "state": {}
     },
     "c29ddacdf2d343e8873a97fe298ccf1f": {
      "model_module": "@jupyter-widgets/base",
      "model_module_version": "1.2.0",
      "model_name": "LayoutModel",
      "state": {}
     },
     "c337ff1b01c74d17bb44a76281a53aad": {
      "model_module": "jupyter-vuetify",
      "model_module_version": "^0.1.11",
      "model_name": "BtnModel",
      "state": {
       "_events": [],
       "children": [
        "IPY_MODEL_bea808a6effc4517945ad36266146f3e"
       ],
       "color": "primary",
       "fab": true,
       "href": null,
       "large": true,
       "layout": "IPY_MODEL_d1a2f471d2da4af49d6207af80be555c",
       "ripple": null,
       "to": null
      }
     },
     "c38dee2bdd474792bdb87015afaed775": {
      "model_module": "@jupyter-widgets/base",
      "model_module_version": "1.2.0",
      "model_name": "LayoutModel",
      "state": {}
     },
     "c4d9e8ec644846a388892165898e9a22": {
      "model_module": "jupyter-vuetify",
      "model_module_version": "^0.1.11",
      "model_name": "BtnModel",
      "state": {
       "_events": [],
       "children": [
        "IPY_MODEL_d1ab2b01c64040259f830732e5b2588c"
       ],
       "flat": true,
       "href": null,
       "layout": "IPY_MODEL_70f5aeca8e2744839aa4cfdc5863c573",
       "ripple": null,
       "to": null
      }
     },
     "c56d87ee0e8e4eae8a00de9e225cb6e0": {
      "model_module": "@jupyter-widgets/base",
      "model_module_version": "1.2.0",
      "model_name": "LayoutModel",
      "state": {}
     },
     "c58cf1372b9545f3b94392e61d3cba96": {
      "model_module": "jupyter-vuetify",
      "model_module_version": "^0.1.11",
      "model_name": "ExpansionPanelContentModel",
      "state": {
       "_events": [],
       "children": [
        "IPY_MODEL_9c3d3f0b460d42169d52db757244a184",
        "IPY_MODEL_77dff490472a4ec09ddeb29e031d1165"
       ],
       "layout": "IPY_MODEL_eeb5f15e4d68475bb79c2a67b8c0b3f4",
       "ripple": null
      }
     },
     "c596874491cc4e94a05f2305369d4ac3": {
      "model_module": "jupyter-vuetify",
      "model_module_version": "^0.1.11",
      "model_name": "BtnModel",
      "state": {
       "_events": [],
       "children": [
        "IPY_MODEL_bfcfe40111bd49efa44b0e988a6ad15a",
        "Icon left"
       ],
       "color": "primary",
       "href": null,
       "layout": "IPY_MODEL_a5362a6b3fd8477f840816ed9829b8fc",
       "ripple": null,
       "to": null
      }
     },
     "c5a39cc2132f4428a54fb24c0a8c26db": {
      "model_module": "@jupyter-widgets/base",
      "model_module_version": "1.2.0",
      "model_name": "LayoutModel",
      "state": {}
     },
     "c6463f7bd83e4498bb46962ff9656ec5": {
      "model_module": "@jupyter-widgets/base",
      "model_module_version": "1.2.0",
      "model_name": "LayoutModel",
      "state": {}
     },
     "c7c9907399304c3a9a3c183964f0e466": {
      "model_module": "@jupyter-widgets/base",
      "model_module_version": "1.2.0",
      "model_name": "LayoutModel",
      "state": {}
     },
     "c823d2d7e6ca469ba09b95ace19a2200": {
      "model_module": "@jupyter-widgets/base",
      "model_module_version": "1.2.0",
      "model_name": "LayoutModel",
      "state": {}
     },
     "c83e680c6550423182fd59c812702e65": {
      "model_module": "@jupyter-widgets/base",
      "model_module_version": "1.2.0",
      "model_name": "LayoutModel",
      "state": {}
     },
     "c8a5a82fbbe04209ada73da17803dcec": {
      "model_module": "@jupyter-widgets/base",
      "model_module_version": "1.2.0",
      "model_name": "LayoutModel",
      "state": {}
     },
     "c8aaf59c60e2475f88d134e85e655d42": {
      "model_module": "jupyter-vuetify",
      "model_module_version": "^0.1.11",
      "model_name": "ListTileTitleModel",
      "state": {
       "_events": [],
       "children": [
        "Item 2"
       ],
       "layout": "IPY_MODEL_f63b06b2d5824b14bb3e16038b090b94"
      }
     },
     "c8b270f628c84f35860455851d6b1616": {
      "model_module": "jupyter-vuetify",
      "model_module_version": "^0.1.11",
      "model_name": "TabModel",
      "state": {
       "_events": [],
       "children": [
        "Tab 1"
       ],
       "href": null,
       "layout": "IPY_MODEL_98b851b61d9741778e29ec75184eeea0",
       "ripple": null,
       "to": null
      }
     },
     "c8ba1f3ea6ab43149a77b71eef3d9a50": {
      "model_module": "@jupyter-widgets/base",
      "model_module_version": "1.2.0",
      "model_name": "LayoutModel",
      "state": {}
     },
     "c9cfad79645545b388b2f591c25e90a2": {
      "model_module": "@jupyter-widgets/base",
      "model_module_version": "1.2.0",
      "model_name": "LayoutModel",
      "state": {}
     },
     "ca5771a4e4c3481d95154ee2176dd4d9": {
      "model_module": "@jupyter-widgets/base",
      "model_module_version": "1.2.0",
      "model_name": "LayoutModel",
      "state": {}
     },
     "ca791fec831a433fb8c540b66dcd61df": {
      "model_module": "@jupyter-widgets/base",
      "model_module_version": "1.2.0",
      "model_name": "LayoutModel",
      "state": {}
     },
     "cb41247f719841c18468c0cbc3ff12f1": {
      "model_module": "@jupyter-widgets/base",
      "model_module_version": "1.2.0",
      "model_name": "LayoutModel",
      "state": {}
     },
     "cb9ed7c906a144eb9d79efdf5cc2fd86": {
      "model_module": "@jupyter-widgets/base",
      "model_module_version": "1.2.0",
      "model_name": "LayoutModel",
      "state": {}
     },
     "cc0a11ab1e9f421ba587b720df9f7cfc": {
      "model_module": "@jupyter-widgets/base",
      "model_module_version": "1.2.0",
      "model_name": "LayoutModel",
      "state": {}
     },
     "cc39dfa3722041abb7324d9bed943294": {
      "model_module": "jupyter-vuetify",
      "model_module_version": "^0.1.11",
      "model_name": "LayoutModel",
      "state": {
       "_events": [],
       "children": [
        "IPY_MODEL_03139d235c544139b2f9d3d56b787230",
        "IPY_MODEL_407949690bef4e8da27be9d81166505b",
        "IPY_MODEL_315cba145a354c3eb2f12fb56f84ebad"
       ],
       "layout": "IPY_MODEL_0f260ce5291442018693fef351f925d2"
      }
     },
     "cd0b4beb87d64724b4cf308956cafdc5": {
      "model_module": "jupyter-vuetify",
      "model_module_version": "^0.1.11",
      "model_name": "LayoutModel",
      "state": {
       "_events": [],
       "children": [
        "IPY_MODEL_737adbc7119342268d02feb718731b77"
       ],
       "layout": "IPY_MODEL_85f5a2f9c9a546f3bdad1ce8fa70cd6f"
      }
     },
     "cd5707f7b1ac47ba9a88ebfea54c0d76": {
      "model_module": "jupyter-vuetify",
      "model_module_version": "^0.1.11",
      "model_name": "CardTextModel",
      "state": {
       "_events": [],
       "children": [
        "Lorem ipsum dolor sit amet, consectetur adipiscing elit, sed do eiusmod tempor incididunt ut labore et dolore magna aliqua."
       ],
       "layout": "IPY_MODEL_1147c4f388bd41169477c551114c04f5"
      }
     },
     "cddbfd48366b43a3a07f4d1ba0369eed": {
      "model_module": "@jupyter-widgets/base",
      "model_module_version": "1.2.0",
      "model_name": "LayoutModel",
      "state": {}
     },
     "cdf84a122ec349a6a172e9826aae5a90": {
      "model_module": "jupyter-vuetify",
      "model_module_version": "^0.1.11",
      "model_name": "CardTextModel",
      "state": {
       "_events": [],
       "children": [
        "Second Text"
       ],
       "layout": "IPY_MODEL_3317cd45f5e245a1b247380f41bbe5d0"
      }
     },
     "cdfb9a21213644ef93dbcdf7b7a7bb26": {
      "model_module": "jupyter-vuetify",
      "model_module_version": "^0.1.11",
      "model_name": "BtnModel",
      "state": {
       "_events": [],
       "children": [
        "IPY_MODEL_8d1e57bdd01f41639b867a39ddd22f19"
       ],
       "flat": true,
       "href": null,
       "layout": "IPY_MODEL_907dbdb20d37454ba733371be74d7c04",
       "ripple": null,
       "to": null
      }
     },
     "cdfea1eaae0a4eada33c65369e9dc3b3": {
      "model_module": "jupyter-vuetify",
      "model_module_version": "^0.1.11",
      "model_name": "IconModel",
      "state": {
       "_events": [],
       "children": [
        "format_underline"
       ],
       "layout": "IPY_MODEL_28a29ad1270c4986b7d00c6f8ba8ec30",
       "size": null
      }
     },
     "ce595b9002ec43f4bc30763763396c24": {
      "model_module": "@jupyter-widgets/base",
      "model_module_version": "1.2.0",
      "model_name": "LayoutModel",
      "state": {}
     },
     "ce80ce7d5b7844a7a875299f901314ab": {
      "model_module": "@jupyter-widgets/base",
      "model_module_version": "1.2.0",
      "model_name": "LayoutModel",
      "state": {}
     },
     "cea255bb8af74198b8709939b4074147": {
      "model_module": "jupyter-vuetify",
      "model_module_version": "^0.1.11",
      "model_name": "ListTileTitleModel",
      "state": {
       "_events": [],
       "children": [
        "Item 1"
       ],
       "layout": "IPY_MODEL_808e1d04f58144c3bb3bfc0c164c8e2c"
      }
     },
     "cea3afbd6ef34c5bb07d5a8bce8ecf17": {
      "model_module": "@jupyter-widgets/base",
      "model_module_version": "1.2.0",
      "model_name": "LayoutModel",
      "state": {}
     },
     "cea83876dca442b7918ed5ef8ab94093": {
      "model_module": "jupyter-vuetify",
      "model_module_version": "^0.1.11",
      "model_name": "IconModel",
      "state": {
       "_events": [],
       "children": [
        "format_color_fill"
       ],
       "layout": "IPY_MODEL_a3f4fd4f20c3462487ce06a516ea34ed",
       "size": null
      }
     },
     "cf1c750e352242b4bd8bf5023f1400de": {
      "model_module": "@jupyter-widgets/base",
      "model_module_version": "1.2.0",
      "model_name": "LayoutModel",
      "state": {}
     },
     "cf4ae35ff2e043eb972e29a1e1a465a4": {
      "model_module": "jupyter-vuetify",
      "model_module_version": "^0.1.11",
      "model_name": "CardModel",
      "state": {
       "_events": [],
       "children": [
        "IPY_MODEL_cdf84a122ec349a6a172e9826aae5a90"
       ],
       "elevation": null,
       "height": null,
       "href": null,
       "layout": "IPY_MODEL_870f9ec2b89e4a2080123128531c8c8d",
       "max_height": null,
       "max_width": null,
       "min_height": null,
       "min_width": null,
       "ripple": null,
       "to": null,
       "width": null
      }
     },
     "cfae4458dcdb4c34b6fd1966bbfa60f2": {
      "model_module": "jupyter-vuetify",
      "model_module_version": "^0.1.11",
      "model_name": "TabModel",
      "state": {
       "_events": [],
       "children": [
        "Tab 3"
       ],
       "href": null,
       "layout": "IPY_MODEL_a7a0fbc8d9144225b51d7f6ed84f5484",
       "ripple": null,
       "to": null
      }
     },
     "cfec853b1b8b4baa99dc7b7695652cab": {
      "model_module": "@jupyter-widgets/base",
      "model_module_version": "1.2.0",
      "model_name": "LayoutModel",
      "state": {}
     },
     "d0fd62ff9daf4e599f968432e0248cff": {
      "model_module": "@jupyter-widgets/base",
      "model_module_version": "1.2.0",
      "model_name": "LayoutModel",
      "state": {}
     },
     "d13fa07123674f6ab8acb6510f395845": {
      "model_module": "@jupyter-widgets/base",
      "model_module_version": "1.2.0",
      "model_name": "LayoutModel",
      "state": {}
     },
     "d1967796f2d840399112637268089906": {
      "model_module": "@jupyter-widgets/base",
      "model_module_version": "1.2.0",
      "model_name": "LayoutModel",
      "state": {}
     },
     "d1a2f471d2da4af49d6207af80be555c": {
      "model_module": "@jupyter-widgets/base",
      "model_module_version": "1.2.0",
      "model_name": "LayoutModel",
      "state": {}
     },
     "d1ab2b01c64040259f830732e5b2588c": {
      "model_module": "jupyter-vuetify",
      "model_module_version": "^0.1.11",
      "model_name": "IconModel",
      "state": {
       "_events": [],
       "children": [
        "format_align_center"
       ],
       "layout": "IPY_MODEL_3369779d7c3445b58e34ff1f042f8d31",
       "size": null
      }
     },
     "d1b8098fb4f74ed09a5ebcb94ef22a16": {
      "model_module": "jupyter-vuetify",
      "model_module_version": "^0.1.11",
      "model_name": "BtnModel",
      "state": {
       "_events": [
        "click"
       ],
       "children": [
        "loader"
       ],
       "disabled": true,
       "href": null,
       "layout": "IPY_MODEL_4abd2fb8e4b140b19a6cd312399ca93a",
       "loading": true,
       "ripple": null,
       "to": null
      }
     },
     "d20092dfe64c4ee39d4a1ff90cd7788b": {
      "model_module": "@jupyter-widgets/base",
      "model_module_version": "1.2.0",
      "model_name": "LayoutModel",
      "state": {}
     },
     "d22fb4e2fd9140eebb077d69febb91ab": {
      "model_module": "jupyter-vuetify",
      "model_module_version": "^0.1.11",
      "model_name": "IconModel",
      "state": {
       "_events": [],
       "children": [
        "format_bold"
       ],
       "layout": "IPY_MODEL_8d9a4dca573046c48039496870913f69",
       "size": null
      }
     },
     "d25ff9f55ab3412d8b83d203941e08d0": {
      "model_module": "jupyter-vuetify",
      "model_module_version": "^0.1.11",
      "model_name": "CardTitleModel",
      "state": {
       "_events": [],
       "children": [
        "Lorem ipsum"
       ],
       "class_": "headline gray lighten-2",
       "layout": "IPY_MODEL_0ef5c633593e46d090e47b1659d4d2e0",
       "primary_title": true
      }
     },
     "d34c0f186b184c4c88c20315b9acc0f7": {
      "model_module": "@jupyter-widgets/base",
      "model_module_version": "1.2.0",
      "model_name": "LayoutModel",
      "state": {}
     },
     "d3df357adddf4798a08fb02a7a1df3d3": {
      "model_module": "jupyter-vuetify",
      "model_module_version": "^0.1.11",
      "model_name": "LayoutModel",
      "state": {
       "_events": [],
       "children": [
        "IPY_MODEL_addeec28a06b40eb90441859c2947f80",
        "IPY_MODEL_8b1dbfdddbd54035b0cd50af479e6fb0",
        "IPY_MODEL_68ca2b6349894d998b45c11f1f4a8079",
        "IPY_MODEL_327111263be64ff286adf552b92c0770"
       ],
       "layout": "IPY_MODEL_74a2d152da5a493899db590bffee6258"
      }
     },
     "d3fa837056ba442595f6f4f98d58638c": {
      "model_module": "jupyter-vuetify",
      "model_module_version": "^0.1.11",
      "model_name": "BtnToggleModel",
      "state": {
       "_events": [],
       "children": [
        "IPY_MODEL_dac6cad492b04db28078d1208b9b9d5a",
        "IPY_MODEL_c4d9e8ec644846a388892165898e9a22",
        "IPY_MODEL_363bb42be361488ea9901c718c9d3d2d",
        "IPY_MODEL_24e277fb13c544a48fa695abda36ab73"
       ],
       "class_": "mr-3",
       "layout": "IPY_MODEL_eeaf853f63374a38b4985f43504d9710",
       "max": null,
       "v_model": 2
      }
     },
     "d3fb72afd2c84df6b936479763b2b439": {
      "model_module": "jupyter-vuetify",
      "model_module_version": "^0.1.11",
      "model_name": "CardTextModel",
      "state": {
       "_events": [],
       "children": [
        "Lorem ipsum dolor sit amet, consectetur adipiscing elit, sed do eiusmod tempor incididunt ut labore et dolore magna aliqua."
       ],
       "layout": "IPY_MODEL_4a8d31d534b74509a4a23b58a360e911"
      }
     },
     "d5438ea9079c45a49ffbb7a061e7a4fe": {
      "model_module": "@jupyter-widgets/base",
      "model_module_version": "1.2.0",
      "model_name": "LayoutModel",
      "state": {}
     },
     "d5ddc8c279fe4cd2bd433d8db04dcae3": {
      "model_module": "jupyter-vuetify",
      "model_module_version": "^0.1.11",
      "model_name": "BtnModel",
      "state": {
       "_events": [],
       "children": [
        "IPY_MODEL_8e45155ac7284f70ae3ffdb5d99e4b35"
       ],
       "flat": true,
       "href": null,
       "layout": "IPY_MODEL_22e10f8b769e4afc9766e6002e443e6e",
       "ripple": null,
       "to": null
      }
     },
     "d5ea99ef853d4e27854dd37986bacc7a": {
      "model_module": "jupyter-vuetify",
      "model_module_version": "^0.1.11",
      "model_name": "ExpansionPanelContentModel",
      "state": {
       "_events": [],
       "children": [
        "IPY_MODEL_ed7f50b6b8564614bed19ba4d2a0ab88",
        "IPY_MODEL_230dd17f712c4f6691b0fb3426af1abd"
       ],
       "layout": "IPY_MODEL_b4350952c6c0454c8aaba07517f03b9a",
       "ripple": null
      }
     },
     "d7364890db9147ccba3ec87866edd61b": {
      "model_module": "jupyter-vuetify",
      "model_module_version": "^0.1.11",
      "model_name": "IconModel",
      "state": {
       "_events": [],
       "children": [
        "fingerprint"
       ],
       "layout": "IPY_MODEL_3f3d99c862a5437597cb97341d3f353f",
       "right": true,
       "size": null
      }
     },
     "d7406bb80f68455c9468a5bd92bfc189": {
      "model_module": "@jupyter-widgets/base",
      "model_module_version": "1.2.0",
      "model_name": "LayoutModel",
      "state": {}
     },
     "d75d7533ada2405195108323229949d1": {
      "model_module": "jupyter-vuetify",
      "model_module_version": "^0.1.11",
      "model_name": "SliderModel",
      "state": {
       "_events": [],
       "children": [],
       "error_count": null,
       "error_messages": null,
       "height": null,
       "layout": "IPY_MODEL_604f558e609a42b5bfc5e2621a2b33b0",
       "loading": null,
       "max": null,
       "messages": null,
       "min": null,
       "rules": [],
       "step": null,
       "success_messages": null,
       "thumb_label": "always",
       "thumb_size": null,
       "tick_labels": [],
       "tick_size": null,
       "ticks": null,
       "v_model": 25,
       "value": null
      }
     },
     "d78aabf2752541cabf1eb04e1e95a7b4": {
      "model_module": "jupyter-vuetify",
      "model_module_version": "^0.1.11",
      "model_name": "BtnModel",
      "state": {
       "_events": [],
       "children": [
        "error"
       ],
       "color": "error",
       "href": null,
       "layout": "IPY_MODEL_a57784cc030f41cc818a9625ba589988",
       "ripple": null,
       "to": null
      }
     },
     "d870934e19e44c15869f0757a40ae8a8": {
      "model_module": "jupyter-vuetify",
      "model_module_version": "^0.1.11",
      "model_name": "IconModel",
      "state": {
       "_events": [],
       "children": [
        "format_align_justify"
       ],
       "layout": "IPY_MODEL_ae796066a78e4a5ebb343eea814ca06c",
       "size": null
      }
     },
     "d8a954d3b2404a528faa773d42b42ab4": {
      "model_module": "@jupyter-widgets/base",
      "model_module_version": "1.2.0",
      "model_name": "LayoutModel",
      "state": {}
     },
     "d8f0e39a16244d658a85121ecbdfd175": {
      "model_module": "jupyter-vuetify",
      "model_module_version": "^0.1.11",
      "model_name": "TabItemModel",
      "state": {
       "_events": [],
       "children": [
        "Lorem ipsum dolor sit amet, consectetur adipiscing elit, sed do eiusmod tempor incididunt ut labore et dolore magna aliqua."
       ],
       "layout": "IPY_MODEL_87d6c9d741ed4bb5b966a470114f6d4d",
       "reverse_transition": null,
       "transition": null
      }
     },
     "d8f15e42b04e4d2da3dfeb4fa3fca799": {
      "model_module": "jupyter-vuetify",
      "model_module_version": "^0.1.11",
      "model_name": "IconModel",
      "state": {
       "_events": [],
       "children": [
        "edit"
       ],
       "layout": "IPY_MODEL_80d1e12c642a49788a797b5d8dbf525b",
       "size": null
      }
     },
     "d91429f1102f4eb8b38e164a8dcb4929": {
      "model_module": "jupyter-vuetify",
      "model_module_version": "^0.1.11",
      "model_name": "BtnModel",
      "state": {
       "_events": [],
       "children": [
        "IPY_MODEL_db7380869c1d45f18af7eb3d4ac04707"
       ],
       "flat": true,
       "href": null,
       "layout": "IPY_MODEL_ce595b9002ec43f4bc30763763396c24",
       "ripple": null,
       "to": null
      }
     },
     "d9722a6980a549af8c5d68d4f9ad94c3": {
      "model_module": "jupyter-vuetify",
      "model_module_version": "^0.1.11",
      "model_name": "BtnModel",
      "state": {
       "_events": [],
       "children": [
        "IPY_MODEL_eb79182809584f2e80f462b232723b4d"
       ],
       "flat": true,
       "href": null,
       "layout": "IPY_MODEL_69ecb2d2e23e45b2bf9128ae4d7af7de",
       "ripple": null,
       "to": null
      }
     },
     "da0c370f8f534ee59565136f1a8a126b": {
      "model_module": "@jupyter-widgets/base",
      "model_module_version": "1.2.0",
      "model_name": "LayoutModel",
      "state": {}
     },
     "dac6cad492b04db28078d1208b9b9d5a": {
      "model_module": "jupyter-vuetify",
      "model_module_version": "^0.1.11",
      "model_name": "BtnModel",
      "state": {
       "_events": [],
       "children": [
        "IPY_MODEL_212daff07df1473ea9e53e8860681d01"
       ],
       "flat": true,
       "href": null,
       "layout": "IPY_MODEL_79f614fd53f44f8c98b9cf4c7c45472d",
       "ripple": null,
       "to": null
      }
     },
     "daf877ef9ef44ecda84c1bca1f81aa52": {
      "model_module": "jupyter-vuetify",
      "model_module_version": "^0.1.11",
      "model_name": "SliderModel",
      "state": {
       "_events": [],
       "children": [],
       "error_count": null,
       "error_messages": null,
       "height": null,
       "layout": "IPY_MODEL_23a99727e92f4c8b8b880060284f8d27",
       "loading": null,
       "max": null,
       "messages": null,
       "min": null,
       "rules": [],
       "step": null,
       "success_messages": null,
       "thumb_label": "always",
       "thumb_size": null,
       "tick_labels": [],
       "tick_size": null,
       "ticks": null,
       "v_model": 25,
       "value": null
      }
     },
     "db60a50a47e34402b33ebbbec7db5fa4": {
      "model_module": "@jupyter-widgets/base",
      "model_module_version": "1.2.0",
      "model_name": "LayoutModel",
      "state": {}
     },
     "db63734f9ac1438490d963c5af173ccd": {
      "model_module": "@jupyter-widgets/base",
      "model_module_version": "1.2.0",
      "model_name": "LayoutModel",
      "state": {}
     },
     "db70c21f55c545c2a63102e7a9570d2e": {
      "model_module": "jupyter-vuetify",
      "model_module_version": "^0.1.11",
      "model_name": "IconModel",
      "state": {
       "_events": [],
       "children": [
        "format_align_justify"
       ],
       "layout": "IPY_MODEL_dbe9ba81099c401d97b81499435f0ffa",
       "size": null
      }
     },
     "db7380869c1d45f18af7eb3d4ac04707": {
      "model_module": "jupyter-vuetify",
      "model_module_version": "^0.1.11",
      "model_name": "IconModel",
      "state": {
       "_events": [],
       "children": [
        "format_align_left"
       ],
       "layout": "IPY_MODEL_62faabfc3f8f42dba6e1d9877d1f017a",
       "size": null
      }
     },
     "dbe9ba81099c401d97b81499435f0ffa": {
      "model_module": "@jupyter-widgets/base",
      "model_module_version": "1.2.0",
      "model_name": "LayoutModel",
      "state": {}
     },
     "dc014e8db53941078768f771d0056880": {
      "model_module": "jupyter-vuetify",
      "model_module_version": "^0.1.11",
      "model_name": "BtnModel",
      "state": {
       "_events": [],
       "children": [
        "IPY_MODEL_8c88ed5587944210b2bb7433898eede8"
       ],
       "flat": true,
       "href": null,
       "layout": "IPY_MODEL_71a29ecf18de489182c5265805d651a1",
       "ripple": null,
       "to": null
      }
     },
     "dc0340a998654281871910e47c5881f5": {
      "model_module": "jupyter-vuetify",
      "model_module_version": "^0.1.11",
      "model_name": "LayoutModel",
      "state": {
       "_events": [],
       "children": [
        "IPY_MODEL_8ac9f6d4be234c4f88e0edc075e89cbb"
       ],
       "layout": "IPY_MODEL_dd543fa7d65a4014a63679dcfb93eab0"
      }
     },
     "dc1828c601284c71a3594654fa952cb0": {
      "model_module": "jupyter-vuetify",
      "model_module_version": "^0.1.11",
      "model_name": "DialogModel",
      "state": {
       "_events": [],
       "children": [
        "IPY_MODEL_ffe50b8b6445458b88985c2bf63ea1a8",
        "IPY_MODEL_96ee87e7209a4475ad0b1e27b2c21232"
       ],
       "layout": "IPY_MODEL_fbad060d178e407fa5867e6c5c947f14",
       "max_width": null,
       "transition": null,
       "v_model": false,
       "width": "500"
      }
     },
     "dcd73cb2e5af467f95580526ac4a5fb9": {
      "model_module": "@jupyter-widgets/base",
      "model_module_version": "1.2.0",
      "model_name": "LayoutModel",
      "state": {}
     },
     "dd1737d265a8467e8236b12797b15ac5": {
      "model_module": "@jupyter-widgets/base",
      "model_module_version": "1.2.0",
      "model_name": "LayoutModel",
      "state": {}
     },
     "dd543fa7d65a4014a63679dcfb93eab0": {
      "model_module": "@jupyter-widgets/base",
      "model_module_version": "1.2.0",
      "model_name": "LayoutModel",
      "state": {}
     },
     "de2a2da72db94999b05594bbf1d66e97": {
      "model_module": "@jupyter-widgets/base",
      "model_module_version": "1.2.0",
      "model_name": "LayoutModel",
      "state": {}
     },
     "dee5a55b76674a999a6ec1ea0050aee2": {
      "model_module": "@jupyter-widgets/base",
      "model_module_version": "1.2.0",
      "model_name": "LayoutModel",
      "state": {}
     },
     "dfc6eaf8385c449d8201ae628370491a": {
      "model_module": "jupyter-vuetify",
      "model_module_version": "^0.1.11",
      "model_name": "IconModel",
      "state": {
       "_events": [],
       "children": [
        "format_align_left"
       ],
       "layout": "IPY_MODEL_177941e147a347e68da733bb7848950e",
       "size": null
      }
     },
     "e094689bd5de4e21aa3723a0262b276e": {
      "model_module": "jupyter-vuetify",
      "model_module_version": "^0.1.11",
      "model_name": "BtnModel",
      "state": {
       "_events": [],
       "children": [
        "primary"
       ],
       "color": "primary",
       "href": null,
       "layout": "IPY_MODEL_31f77c0a01bd4955a46cb45c19ce71f4",
       "ripple": null,
       "to": null
      }
     },
     "e0b016d5b5c94e00b14084e72ce8b1c0": {
      "model_module": "@jupyter-widgets/base",
      "model_module_version": "1.2.0",
      "model_name": "LayoutModel",
      "state": {}
     },
     "e0c7ce2d4fd64d66af6ca0da0cc5677e": {
      "model_module": "@jupyter-widgets/base",
      "model_module_version": "1.2.0",
      "model_name": "LayoutModel",
      "state": {}
     },
     "e0d194bca3464780a020e9b2ae9669a9": {
      "model_module": "jupyter-vuetify",
      "model_module_version": "^0.1.11",
      "model_name": "TabModel",
      "state": {
       "_events": [],
       "children": [
        "Tab 2"
       ],
       "href": null,
       "layout": "IPY_MODEL_1f60a05b1a424502b8c46d619424e4d2",
       "ripple": null,
       "to": null
      }
     },
     "e10cfbb24b8d4541945c3c4f8c5ae82f": {
      "model_module": "@jupyter-widgets/base",
      "model_module_version": "1.2.0",
      "model_name": "LayoutModel",
      "state": {}
     },
     "e173f3d4e40e46cc93f8655978fa64c0": {
      "model_module": "jupyter-vuetify",
      "model_module_version": "^0.1.11",
      "model_name": "ListTileTitleModel",
      "state": {
       "_events": [],
       "children": [
        "Item 1"
       ],
       "layout": "IPY_MODEL_6989d89496eb43e7a5c63955bb77d28d"
      }
     },
     "e27bfc3c68ef40c5bc2be179d7519227": {
      "model_module": "@jupyter-widgets/base",
      "model_module_version": "1.2.0",
      "model_name": "LayoutModel",
      "state": {}
     },
     "e2d2e73ea5714ef7bd3e25fe204066fd": {
      "model_module": "@jupyter-widgets/base",
      "model_module_version": "1.2.0",
      "model_name": "LayoutModel",
      "state": {}
     },
     "e32de27d65a94dffb69aeac84b9fcfa9": {
      "model_module": "jupyter-vuetify",
      "model_module_version": "^0.1.11",
      "model_name": "BtnModel",
      "state": {
       "_events": [],
       "children": [
        "tooltip"
       ],
       "color": "primary",
       "href": null,
       "layout": "IPY_MODEL_4a28257501d6417f9fe62833e97100e3",
       "ripple": null,
       "slot": "activator",
       "to": null
      }
     },
     "e3442b335f5749d9b6e17aabfe065395": {
      "model_module": "jupyter-vuetify",
      "model_module_version": "^0.1.11",
      "model_name": "SliderModel",
      "state": {
       "_events": [],
       "children": [],
       "error_count": null,
       "error_messages": null,
       "height": null,
       "layout": "IPY_MODEL_a680c0baee2448cea39d65f96d4448ac",
       "loading": null,
       "max": null,
       "messages": null,
       "min": null,
       "rules": [],
       "step": null,
       "success_messages": null,
       "thumb_label": null,
       "thumb_size": null,
       "tick_labels": [],
       "tick_size": null,
       "ticks": null,
       "v_model": 25,
       "value": null
      }
     },
     "e3f115c7ac844cf1b038db98a50890e1": {
      "model_module": "@jupyter-widgets/base",
      "model_module_version": "1.2.0",
      "model_name": "LayoutModel",
      "state": {}
     },
     "e45f3441b6c043dfbf28e13087d1869f": {
      "model_module": "jupyter-vuetify",
      "model_module_version": "^0.1.11",
      "model_name": "BtnModel",
      "state": {
       "_events": [],
       "children": [
        "disabled"
       ],
       "disabled": true,
       "href": null,
       "layout": "IPY_MODEL_59ab6f6b811643fdb96623885218673e",
       "ripple": null,
       "to": null
      }
     },
     "e4b3a87f30aa485fbfb80270a56de852": {
      "model_module": "@jupyter-widgets/base",
      "model_module_version": "1.2.0",
      "model_name": "LayoutModel",
      "state": {}
     },
     "e4c68c93c1194d329ade8837a5231cc4": {
      "model_module": "@jupyter-widgets/base",
      "model_module_version": "1.2.0",
      "model_name": "LayoutModel",
      "state": {}
     },
     "e4e601d616dc40fd8ac313463a545170": {
      "model_module": "@jupyter-widgets/base",
      "model_module_version": "1.2.0",
      "model_name": "LayoutModel",
      "state": {}
     },
     "e4f90deedafe4a93b2a6464bf3122953": {
      "model_module": "@jupyter-widgets/base",
      "model_module_version": "1.2.0",
      "model_name": "LayoutModel",
      "state": {}
     },
     "e530f7b4ea2b464f97b45366779974bb": {
      "model_module": "jupyter-vuetify",
      "model_module_version": "^0.1.11",
      "model_name": "SliderModel",
      "state": {
       "_events": [],
       "children": [],
       "error_count": null,
       "error_messages": null,
       "height": null,
       "layout": "IPY_MODEL_7efe97f35fce4803a1363de901d471b7",
       "loading": null,
       "max": null,
       "messages": null,
       "min": null,
       "rules": [],
       "step": null,
       "success_messages": null,
       "thumb_label": true,
       "thumb_size": null,
       "tick_labels": [],
       "tick_size": null,
       "ticks": null,
       "v_model": 25,
       "value": null
      }
     },
     "e5365ef08d1e493fa8e4d067b8e2f7d8": {
      "model_module": "jupyter-vuetify",
      "model_module_version": "^0.1.11",
      "model_name": "TabModel",
      "state": {
       "_events": [],
       "children": [
        "Tab 3"
       ],
       "href": null,
       "layout": "IPY_MODEL_b50d8a8f6f10408fb0a5cce5e5c84654",
       "ripple": null,
       "to": null
      }
     },
     "e55731c3daf8420c9ed914a22ae07710": {
      "model_module": "jupyter-vuetify",
      "model_module_version": "^0.1.11",
      "model_name": "IconModel",
      "state": {
       "_events": [],
       "children": [
        "format_align_center"
       ],
       "layout": "IPY_MODEL_96d7be2fdace4cc884d414898d3f636c",
       "size": null
      }
     },
     "e563b84934554a2b97ccff30748f7976": {
      "model_module": "jupyter-vuetify",
      "model_module_version": "^0.1.11",
      "model_name": "IconModel",
      "state": {
       "_events": [],
       "children": [
        "thumb_up"
       ],
       "layout": "IPY_MODEL_b5bdddcf362541e19f92d4e84b8adb99",
       "size": null
      }
     },
     "e5681967f5464f41b9207e52b6abc56f": {
      "model_module": "@jupyter-widgets/base",
      "model_module_version": "1.2.0",
      "model_name": "LayoutModel",
      "state": {}
     },
     "e5bbfc8c0fb142a5badfb43e0b0b10d7": {
      "model_module": "jupyter-vuetify",
      "model_module_version": "^0.1.11",
      "model_name": "CardTitleModel",
      "state": {
       "_events": [],
       "children": [
        "Lorem ipsum"
       ],
       "class_": "headline gray lighten-2",
       "layout": "IPY_MODEL_2c47f40aa9224f3ab014f8a9d6e48f92",
       "primary_title": true
      }
     },
     "e5d404b5aa654909a0853d218b4ddde0": {
      "model_module": "@jupyter-widgets/base",
      "model_module_version": "1.2.0",
      "model_name": "LayoutModel",
      "state": {}
     },
     "e5daf71ff0be478c80a11d6e7721bfcb": {
      "model_module": "@jupyter-widgets/base",
      "model_module_version": "1.2.0",
      "model_name": "LayoutModel",
      "state": {}
     },
     "e68dedc615a649488a78f5d36e976608": {
      "model_module": "@jupyter-widgets/base",
      "model_module_version": "1.2.0",
      "model_name": "LayoutModel",
      "state": {}
     },
     "e71e2b8126454a4398abc4cbd71fbf45": {
      "model_module": "jupyter-vuetify",
      "model_module_version": "^0.1.11",
      "model_name": "BtnModel",
      "state": {
       "_events": [],
       "children": [
        "outline"
       ],
       "color": "primary",
       "href": null,
       "layout": "IPY_MODEL_510f3d9cee89439fa2646aa0ebdf7696",
       "outline": true,
       "ripple": null,
       "to": null
      }
     },
     "e865a296554944758428bb73db6da571": {
      "model_module": "jupyter-vuetify",
      "model_module_version": "^0.1.11",
      "model_name": "BtnModel",
      "state": {
       "_events": [],
       "children": [
        "outline"
       ],
       "color": "primary",
       "href": null,
       "layout": "IPY_MODEL_15d9a859f1174e38aa00018e9742d687",
       "outline": true,
       "ripple": null,
       "to": null
      }
     },
     "e8fb0124e6094972ad5de1f71691929e": {
      "model_module": "@jupyter-widgets/base",
      "model_module_version": "1.2.0",
      "model_name": "LayoutModel",
      "state": {}
     },
     "e964d1402df3484f8b822f24a7dcac1c": {
      "model_module": "@jupyter-widgets/base",
      "model_module_version": "1.2.0",
      "model_name": "LayoutModel",
      "state": {}
     },
     "e96bf74c169f4510bd0469d5c192c132": {
      "model_module": "jupyter-vuetify",
      "model_module_version": "^0.1.11",
      "model_name": "CardModel",
      "state": {
       "_events": [],
       "children": [
        "IPY_MODEL_e5bbfc8c0fb142a5badfb43e0b0b10d7",
        "IPY_MODEL_d3fb72afd2c84df6b936479763b2b439"
       ],
       "elevation": null,
       "height": null,
       "href": null,
       "layout": "IPY_MODEL_fd4d7085df6a44de9c30d448fa181bf7",
       "max_height": null,
       "max_width": null,
       "min_height": null,
       "min_width": null,
       "ripple": null,
       "to": null,
       "width": null
      }
     },
     "e9afb82da8ae4821b9486dce439d253a": {
      "model_module": "@jupyter-widgets/base",
      "model_module_version": "1.2.0",
      "model_name": "LayoutModel",
      "state": {}
     },
     "ea65bfa4d1284433aa7ca69978b012a9": {
      "model_module": "jupyter-vuetify",
      "model_module_version": "^0.1.11",
      "model_name": "ListTileTitleModel",
      "state": {
       "_events": [],
       "children": [
        "Item 4"
       ],
       "layout": "IPY_MODEL_7d43482f1bf745f88c8ded93b4de7558"
      }
     },
     "ea7b7b0c1440473ea1edaaf2d81a2813": {
      "model_module": "@jupyter-widgets/base",
      "model_module_version": "1.2.0",
      "model_name": "LayoutModel",
      "state": {}
     },
     "ead3838e4f6d461cb841ce8d31cfbe17": {
      "model_module": "jupyter-vuetify",
      "model_module_version": "^0.1.11",
      "model_name": "BtnToggleModel",
      "state": {
       "_events": [],
       "children": [
        "IPY_MODEL_43d6683a1a544479802bb084ce872abb",
        "IPY_MODEL_d5ddc8c279fe4cd2bd433d8db04dcae3",
        "IPY_MODEL_460db57dd2f14964bead0e84004f2e9a",
        "IPY_MODEL_57193ee0717c466f9f3a99a3f33a559c"
       ],
       "layout": "IPY_MODEL_41da6204c2f04681a830646b9a57e2ee",
       "max": null,
       "multiple": true,
       "v_model": [
        0,
        2
       ]
      }
     },
     "eb03b0ddbbc5428b94a96c6fa1bd0786": {
      "model_module": "jupyter-vuetify",
      "model_module_version": "^0.1.11",
      "model_name": "CardTextModel",
      "state": {
       "_events": [],
       "children": [
        "First Text"
       ],
       "layout": "IPY_MODEL_76d83d4c4f5a4462a5c1d25b166f90eb"
      }
     },
     "eb26fff7783c47f0a5e1d5daecd8bf69": {
      "model_module": "@jupyter-widgets/base",
      "model_module_version": "1.2.0",
      "model_name": "LayoutModel",
      "state": {}
     },
     "eb79182809584f2e80f462b232723b4d": {
      "model_module": "jupyter-vuetify",
      "model_module_version": "^0.1.11",
      "model_name": "IconModel",
      "state": {
       "_events": [],
       "children": [
        "format_color_fill"
       ],
       "layout": "IPY_MODEL_9411ef023d9342bda96a85833105a8db",
       "size": null
      }
     },
     "ebc4ac9bc74e4a619b08c9c4cea7f43e": {
      "model_module": "jupyter-vuetify",
      "model_module_version": "^0.1.11",
      "model_name": "ListTileModel",
      "state": {
       "_events": [
        "click"
       ],
       "children": [
        "IPY_MODEL_98dace6358fd43eb8c46683cf386c82b"
       ],
       "href": null,
       "layout": "IPY_MODEL_70523a1357574680b0d1da176e9dd5d0",
       "ripple": null,
       "to": null
      }
     },
     "ebe54730df04438785613077eba50cdb": {
      "model_module": "@jupyter-widgets/base",
      "model_module_version": "1.2.0",
      "model_name": "LayoutModel",
      "state": {}
     },
     "ec19a34dfb16486c91dc62bab2776ce8": {
      "model_module": "@jupyter-widgets/base",
      "model_module_version": "1.2.0",
      "model_name": "LayoutModel",
      "state": {}
     },
     "ec227d6fcf72444a947548778f1da4c8": {
      "model_module": "jupyter-vuetify",
      "model_module_version": "^0.1.11",
      "model_name": "BtnModel",
      "state": {
       "_events": [],
       "children": [
        "tooltip"
       ],
       "color": "primary",
       "href": null,
       "layout": "IPY_MODEL_faa86ee1010646d484b602bb2d14d5bb",
       "ripple": null,
       "slot": "activator",
       "to": null
      }
     },
     "ec37ad987a104f63ac62ed5e0fc3f2df": {
      "model_module": "@jupyter-widgets/base",
      "model_module_version": "1.2.0",
      "model_name": "LayoutModel",
      "state": {}
     },
     "ec86ad97016a435aa593f9e498a769e9": {
      "model_module": "@jupyter-widgets/base",
      "model_module_version": "1.2.0",
      "model_name": "LayoutModel",
      "state": {}
     },
     "ec8835199c3f45d1b51732e71d1bb9ed": {
      "model_module": "@jupyter-widgets/base",
      "model_module_version": "1.2.0",
      "model_name": "LayoutModel",
      "state": {}
     },
     "ed7f50b6b8564614bed19ba4d2a0ab88": {
      "model_module": "jupyter-vuetify",
      "model_module_version": "^0.1.11",
      "model_name": "HtmlModel",
      "state": {
       "_events": [],
       "children": [
        "item1"
       ],
       "layout": "IPY_MODEL_33c9a7d0c92242bd8941ec57089ff869",
       "slot": "header",
       "tag": "div"
      }
     },
     "ee2de8f32fc741b8a87fa6ceff6600ae": {
      "model_module": "jupyter-vuetify",
      "model_module_version": "^0.1.11",
      "model_name": "HtmlModel",
      "state": {
       "_events": [],
       "children": [
        "item1"
       ],
       "layout": "IPY_MODEL_135bf367a9d94a49b05ae07bac1dfd99",
       "slot": "header",
       "tag": "div"
      }
     },
     "ee4b921875bb48b5a20151d8ed7f9c62": {
      "model_module": "@jupyter-widgets/base",
      "model_module_version": "1.2.0",
      "model_name": "LayoutModel",
      "state": {}
     },
     "ee538f92fb4442b88164e1dfef24dad3": {
      "model_module": "jupyter-vuetify",
      "model_module_version": "^0.1.11",
      "model_name": "DialogModel",
      "state": {
       "_events": [],
       "children": [
        "IPY_MODEL_200b333770c942d5af2d7c24af837ae2",
        "IPY_MODEL_772953993f3343bd92c31f0a1171eb40"
       ],
       "layout": "IPY_MODEL_436098fa7bb846269f194b771f93c4ff",
       "max_width": null,
       "transition": null,
       "v_model": false,
       "width": "500"
      }
     },
     "ee819f45b2e949518c1017189d87dc45": {
      "model_module": "jupyter-vuetify",
      "model_module_version": "^0.1.11",
      "model_name": "BtnModel",
      "state": {
       "_events": [],
       "children": [
        "tooltip"
       ],
       "color": "primary",
       "href": null,
       "layout": "IPY_MODEL_a32434ea8e13469aa57273bea82faa50",
       "ripple": null,
       "slot": "activator",
       "to": null
      }
     },
     "eea4e091a39d44d18f1d4d25751a7a51": {
      "model_module": "jupyter-vuetify",
      "model_module_version": "^0.1.11",
      "model_name": "LayoutModel",
      "state": {
       "_events": [],
       "children": [
        "IPY_MODEL_f29431e4a17d42daa1966bc82028cba5",
        "IPY_MODEL_4b971f60a9544b61ad8f7d1c454357da",
        "IPY_MODEL_1cf615241f564a95be132b15451e01c9",
        "IPY_MODEL_3af3a003f797468899a0201f2e9b881b"
       ],
       "layout": "IPY_MODEL_68da013a50654c9c87aa96537b83f9d9"
      }
     },
     "eeaf853f63374a38b4985f43504d9710": {
      "model_module": "@jupyter-widgets/base",
      "model_module_version": "1.2.0",
      "model_name": "LayoutModel",
      "state": {}
     },
     "eeb5f15e4d68475bb79c2a67b8c0b3f4": {
      "model_module": "@jupyter-widgets/base",
      "model_module_version": "1.2.0",
      "model_name": "LayoutModel",
      "state": {}
     },
     "eefb1d0253644ec2935f476ebe9da2d9": {
      "model_module": "jupyter-vuetify",
      "model_module_version": "^0.1.11",
      "model_name": "ExpansionPanelModel",
      "state": {
       "_events": [],
       "children": [
        "IPY_MODEL_f0733ff05751438a9521c93250225f45",
        "IPY_MODEL_c58cf1372b9545f3b94392e61d3cba96"
       ],
       "layout": "IPY_MODEL_276798ddc5e2418dbd24e3488113a15d",
       "value": null
      }
     },
     "ef317709ea2944359b832c35c5188b05": {
      "model_module": "jupyter-vuetify",
      "model_module_version": "^0.1.11",
      "model_name": "LayoutModel",
      "state": {
       "_events": [],
       "children": [
        "IPY_MODEL_5cd68e21016342f2a4b132ddd2a00168",
        "IPY_MODEL_fbbe537a9e00427781d5ee595a1688ca",
        "IPY_MODEL_b04f8f5ce3a54083a89d8d6b924e306b",
        "IPY_MODEL_716825e96fc54be1acf1b268f37280d4"
       ],
       "layout": "IPY_MODEL_addcacc880a4451f81608dc7d4e80507"
      }
     },
     "ef775c47c7c341cabf2cd4efd50a8257": {
      "model_module": "jupyter-vuetify",
      "model_module_version": "^0.1.11",
      "model_name": "LayoutModel",
      "state": {
       "_events": [],
       "children": [
        "IPY_MODEL_9533f5772fed421280d3439384a1c90d",
        "IPY_MODEL_082c0c58721c4254b23487d74aa2442e",
        "IPY_MODEL_b624dd95381a458e8ca375cf506d2512"
       ],
       "layout": "IPY_MODEL_616c64b280be461aa6927660e6b62dd8"
      }
     },
     "f0733ff05751438a9521c93250225f45": {
      "model_module": "jupyter-vuetify",
      "model_module_version": "^0.1.11",
      "model_name": "ExpansionPanelContentModel",
      "state": {
       "_events": [],
       "children": [
        "IPY_MODEL_baf9ac1ae9274acaa32843a457db917b",
        "IPY_MODEL_b379455c7f434287a3cb153adf3ba4da"
       ],
       "layout": "IPY_MODEL_7d7d6d92d7dd4963be5546c29d41e695",
       "ripple": null
      }
     },
     "f0afe8ad60e948c3ab06df50485188ec": {
      "model_module": "@jupyter-widgets/base",
      "model_module_version": "1.2.0",
      "model_name": "LayoutModel",
      "state": {}
     },
     "f0b008390b814f3f8fddddff97010d20": {
      "model_module": "jupyter-vuetify",
      "model_module_version": "^0.1.11",
      "model_name": "IconModel",
      "state": {
       "_events": [],
       "children": [
        "format_color_fill"
       ],
       "layout": "IPY_MODEL_2a7af6e2765249cb965e734660c67b33",
       "size": null
      }
     },
     "f0e80413d3904f02be864113b0b75332": {
      "model_module": "jupyter-vuetify",
      "model_module_version": "^0.1.11",
      "model_name": "HtmlModel",
      "state": {
       "_events": [],
       "children": [
        "item2"
       ],
       "layout": "IPY_MODEL_914ff3917d31455ba245cbea58c1b9b3",
       "slot": "header",
       "tag": "div"
      }
     },
     "f0eb4f7dcce94f8cb792d8ad96311888": {
      "model_module": "@jupyter-widgets/base",
      "model_module_version": "1.2.0",
      "model_name": "LayoutModel",
      "state": {}
     },
     "f10f5a4932e742c3ba6d5d116e220f08": {
      "model_module": "@jupyter-widgets/base",
      "model_module_version": "1.2.0",
      "model_name": "LayoutModel",
      "state": {}
     },
     "f1d59baffd174df196513e29a51d2649": {
      "model_module": "@jupyter-widgets/controls",
      "model_module_version": "1.5.0",
      "model_name": "LinkModel",
      "state": {
       "source": [
        "IPY_MODEL_7891b17954454b4dbe00bbb920c501ac",
        "v_model"
       ],
       "target": [
        "IPY_MODEL_ba1476cfd5274ca1937b3ae1ce3ec1be",
        "v_model"
       ]
      }
     },
     "f1ee59fcdc9743b69829deca3924fba3": {
      "model_module": "@jupyter-widgets/base",
      "model_module_version": "1.2.0",
      "model_name": "LayoutModel",
      "state": {}
     },
     "f2725324e9b24b1c962c83a9765a7e27": {
      "model_module": "jupyter-vuetify",
      "model_module_version": "^0.1.11",
      "model_name": "BtnModel",
      "state": {
       "_events": [],
       "children": [
        "disabled"
       ],
       "disabled": true,
       "href": null,
       "layout": "IPY_MODEL_53914ea15b1040c3935f91c892697d69",
       "ripple": null,
       "to": null
      }
     },
     "f27302d4f3be4a2e991d0c3c6f755105": {
      "model_module": "@jupyter-widgets/base",
      "model_module_version": "1.2.0",
      "model_name": "LayoutModel",
      "state": {}
     },
     "f29431e4a17d42daa1966bc82028cba5": {
      "model_module": "jupyter-vuetify",
      "model_module_version": "^0.1.11",
      "model_name": "BtnModel",
      "state": {
       "_events": [],
       "children": [
        "primary"
       ],
       "color": "primary",
       "href": null,
       "layout": "IPY_MODEL_79b4fd33cc4e440696ddfd4904fe609c",
       "ripple": null,
       "to": null
      }
     },
     "f2daad67551648afa0a52f140f352790": {
      "model_module": "@jupyter-widgets/base",
      "model_module_version": "1.2.0",
      "model_name": "LayoutModel",
      "state": {}
     },
     "f2f3ac3b01214fb2ba3c372974feceef": {
      "model_module": "jupyter-vuetify",
      "model_module_version": "^0.1.11",
      "model_name": "ListTileModel",
      "state": {
       "_events": [
        "click"
       ],
       "children": [
        "IPY_MODEL_5c09fcdd972e429f8d124cedf53a79e1"
       ],
       "href": null,
       "layout": "IPY_MODEL_f1ee59fcdc9743b69829deca3924fba3",
       "ripple": null,
       "to": null
      }
     },
     "f36028e3ad4246d8b782d78072d57660": {
      "model_module": "jupyter-vuetify",
      "model_module_version": "^0.1.11",
      "model_name": "BtnModel",
      "state": {
       "_events": [],
       "children": [
        "IPY_MODEL_a2abd030f0214cd6a77d76f50ffaad20"
       ],
       "flat": true,
       "href": null,
       "layout": "IPY_MODEL_e964d1402df3484f8b822f24a7dcac1c",
       "ripple": null,
       "to": null
      }
     },
     "f3a736188ece4f599d48e5ce16bb0606": {
      "model_module": "jupyter-vuetify",
      "model_module_version": "^0.1.11",
      "model_name": "TabItemModel",
      "state": {
       "_events": [],
       "children": [
        "Lorem ipsum dolor sit amet, consectetur adipiscing elit, sed do eiusmod tempor incididunt ut labore et dolore magna aliqua."
       ],
       "layout": "IPY_MODEL_4c7a585f974d47b39363a75a836f59b3",
       "reverse_transition": null,
       "transition": null
      }
     },
     "f3d182f1ab8147b6beb924b8dc73f277": {
      "model_module": "@jupyter-widgets/base",
      "model_module_version": "1.2.0",
      "model_name": "LayoutModel",
      "state": {}
     },
     "f435a7951ec04b3fbb3cb30cab4e0c4d": {
      "model_module": "@jupyter-widgets/base",
      "model_module_version": "1.2.0",
      "model_name": "LayoutModel",
      "state": {}
     },
     "f43b007fd04a4bccb13bfb1354057d39": {
      "model_module": "@jupyter-widgets/base",
      "model_module_version": "1.2.0",
      "model_name": "LayoutModel",
      "state": {}
     },
     "f4d4efc3a4e248798fb521693dd6286c": {
      "model_module": "jupyter-vuetify",
      "model_module_version": "^0.1.11",
      "model_name": "TabsModel",
      "state": {
       "_events": [],
       "children": [
        "IPY_MODEL_c8b270f628c84f35860455851d6b1616",
        "IPY_MODEL_b1862fd4ab614b56a83c752cb90ab81d",
        "IPY_MODEL_983a64bcf4174ae69a7508cd997a3de8",
        "IPY_MODEL_7843a197017b40ff8db7392404f3d4f1",
        "IPY_MODEL_7922c29b79ce4e88925fb50a70ff9a5c",
        "IPY_MODEL_8253cd0523054153b8bcd74007c0b4d0"
       ],
       "height": null,
       "layout": "IPY_MODEL_d13fa07123674f6ab8acb6510f395845",
       "max": null,
       "mobile_break_point": null,
       "v_model": 1,
       "value": null
      }
     },
     "f63b06b2d5824b14bb3e16038b090b94": {
      "model_module": "@jupyter-widgets/base",
      "model_module_version": "1.2.0",
      "model_name": "LayoutModel",
      "state": {}
     },
     "f66690270d6d41bea7378fb140726d5a": {
      "model_module": "@jupyter-widgets/base",
      "model_module_version": "1.2.0",
      "model_name": "LayoutModel",
      "state": {}
     },
     "f66f9b93cf354d74a889e805249c7573": {
      "model_module": "jupyter-vuetify",
      "model_module_version": "^0.1.11",
      "model_name": "BtnModel",
      "state": {
       "_events": [],
       "children": [
        "IPY_MODEL_4ee994491b12411ba115312292cb169f"
       ],
       "color": "primary",
       "fab": true,
       "href": null,
       "large": true,
       "layout": "IPY_MODEL_ec19a34dfb16486c91dc62bab2776ce8",
       "ripple": null,
       "to": null
      }
     },
     "f6a5a4f11b534e448da17b1e8350e26e": {
      "model_module": "@jupyter-widgets/base",
      "model_module_version": "1.2.0",
      "model_name": "LayoutModel",
      "state": {}
     },
     "f6b8d4bf7ec04f02a16c560fc8e9e0d3": {
      "model_module": "@jupyter-widgets/base",
      "model_module_version": "1.2.0",
      "model_name": "LayoutModel",
      "state": {}
     },
     "f6c6820c44c2410da9e7a42f9b37f5b7": {
      "model_module": "jupyter-vuetify",
      "model_module_version": "^0.1.11",
      "model_name": "BtnToggleModel",
      "state": {
       "_events": [],
       "children": [
        "IPY_MODEL_4dbc12149f73436ba71cdf6180759991",
        "IPY_MODEL_5790414931c34c4b86b1194537f7901d",
        "IPY_MODEL_01ff8773261942d793d00602c828411c",
        "IPY_MODEL_f36028e3ad4246d8b782d78072d57660"
       ],
       "class_": "mr-3",
       "layout": "IPY_MODEL_40e5df053b4043bdb8053f6dfcf0198d",
       "max": null,
       "v_model": 2
      }
     },
     "f7699e619aa04dabb424546cd04816f5": {
      "model_module": "jupyter-vuetify",
      "model_module_version": "^0.1.11",
      "model_name": "BtnModel",
      "state": {
       "_events": [],
       "children": [
        "IPY_MODEL_7eb22409cbdd405993683589050e8bfe"
       ],
       "color": "primary",
       "fab": true,
       "href": null,
       "large": true,
       "layout": "IPY_MODEL_96d2e5fef9c24396b87829aeef895093",
       "ripple": null,
       "to": null
      }
     },
     "f7983b1f9dca4accb5d6bf5788adc059": {
      "model_module": "jupyter-vuetify",
      "model_module_version": "^0.1.11",
      "model_name": "BtnModel",
      "state": {
       "_events": [
        "click"
       ],
       "children": [
        "loader"
       ],
       "href": null,
       "layout": "IPY_MODEL_19e31bdbb4fb4b0387b577447dd6b31d",
       "loading": false,
       "ripple": null,
       "to": null
      }
     },
     "f7fccbf94d9541b8a20daadac039866b": {
      "model_module": "@jupyter-widgets/base",
      "model_module_version": "1.2.0",
      "model_name": "LayoutModel",
      "state": {}
     },
     "f82033c0736447e4b4d48c57227dec3f": {
      "model_module": "jupyter-vuetify",
      "model_module_version": "^0.1.11",
      "model_name": "IconModel",
      "state": {
       "_events": [],
       "children": [
        "fingerprint"
       ],
       "layout": "IPY_MODEL_cc0a11ab1e9f421ba587b720df9f7cfc",
       "right": true,
       "size": null
      }
     },
     "f924ef2fe9c24d57845bce96ba7f4fec": {
      "model_module": "@jupyter-widgets/base",
      "model_module_version": "1.2.0",
      "model_name": "LayoutModel",
      "state": {}
     },
     "f9aaf396313c4c9ca61c6fd7f89937ad": {
      "model_module": "jupyter-vuetify",
      "model_module_version": "^0.1.11",
      "model_name": "IconModel",
      "state": {
       "_events": [],
       "children": [
        "fingerprint"
       ],
       "layout": "IPY_MODEL_22c6c34df184404dbc94b818bd35e7e2",
       "left": true,
       "size": null
      }
     },
     "faa10caa9d2c4b0ab150b85805890f3c": {
      "model_module": "jupyter-vuetify",
      "model_module_version": "^0.1.11",
      "model_name": "IconModel",
      "state": {
       "_events": [],
       "children": [
        "arrow_drop_down"
       ],
       "layout": "IPY_MODEL_9586fde0997547d5b35e34bdb0b814c0",
       "right": true,
       "size": null
      }
     },
     "faa86ee1010646d484b602bb2d14d5bb": {
      "model_module": "@jupyter-widgets/base",
      "model_module_version": "1.2.0",
      "model_name": "LayoutModel",
      "state": {}
     },
     "fb968001de23465fad8fab03b63a34a2": {
      "model_module": "@jupyter-widgets/base",
      "model_module_version": "1.2.0",
      "model_name": "LayoutModel",
      "state": {}
     },
     "fbad060d178e407fa5867e6c5c947f14": {
      "model_module": "@jupyter-widgets/base",
      "model_module_version": "1.2.0",
      "model_name": "LayoutModel",
      "state": {}
     },
     "fbaf0e128ee64a4ab06e79a108bbac99": {
      "model_module": "@jupyter-widgets/base",
      "model_module_version": "1.2.0",
      "model_name": "LayoutModel",
      "state": {}
     },
     "fbbe537a9e00427781d5ee595a1688ca": {
      "model_module": "jupyter-vuetify",
      "model_module_version": "^0.1.11",
      "model_name": "BtnModel",
      "state": {
       "_events": [],
       "children": [
        "error"
       ],
       "color": "error",
       "href": null,
       "layout": "IPY_MODEL_c6463f7bd83e4498bb46962ff9656ec5",
       "ripple": null,
       "to": null
      }
     },
     "fc5ba749903749f0baa79db940fc0d86": {
      "model_module": "jupyter-vuetify",
      "model_module_version": "^0.1.11",
      "model_name": "BtnToggleModel",
      "state": {
       "_events": [],
       "children": [
        "IPY_MODEL_78242c9dee494d6fb2690da6ae4822a0",
        "IPY_MODEL_dc014e8db53941078768f771d0056880",
        "IPY_MODEL_a151b1e925344d8b843bbba102bc1c85",
        "IPY_MODEL_27683cc20dd54d1a97bf5cd5f2406d15"
       ],
       "layout": "IPY_MODEL_b59b13b8a921422bb6c6a468e09ae72d",
       "max": null,
       "multiple": true,
       "v_model": [
        0,
        2
       ]
      }
     },
     "fcd6839eee87485b86850e05da90fe52": {
      "model_module": "jupyter-vuetify",
      "model_module_version": "^0.1.11",
      "model_name": "BtnToggleModel",
      "state": {
       "_events": [],
       "children": [
        "IPY_MODEL_10091e4cd24b4c9680a96244b869fe32",
        "IPY_MODEL_cdfb9a21213644ef93dbcdf7b7a7bb26",
        "IPY_MODEL_268e4fc4417947bba43c606a73c627d1",
        "IPY_MODEL_9d26864bd03c461bae4e269371c0c003"
       ],
       "layout": "IPY_MODEL_aceec1f740964c9db6773f1524810a51",
       "max": null,
       "multiple": true,
       "v_model": [
        0,
        2
       ]
      }
     },
     "fcea96b25b5d46a79dbb2af82ce40004": {
      "model_module": "@jupyter-widgets/controls",
      "model_module_version": "1.5.0",
      "model_name": "LinkModel",
      "state": {
       "source": [
        "IPY_MODEL_e3442b335f5749d9b6e17aabfe065395",
        "v_model"
       ],
       "target": [
        "IPY_MODEL_4f46fa4571364990a356d124b64d0a7a",
        "v_model"
       ]
      }
     },
     "fd4d7085df6a44de9c30d448fa181bf7": {
      "model_module": "@jupyter-widgets/base",
      "model_module_version": "1.2.0",
      "model_name": "LayoutModel",
      "state": {}
     },
     "fd558aa759ea4bb6be4fbedb6de8a044": {
      "model_module": "@jupyter-widgets/base",
      "model_module_version": "1.2.0",
      "model_name": "LayoutModel",
      "state": {}
     },
     "fdd08092363e48b58ea81fe1c74ffd10": {
      "model_module": "@jupyter-widgets/base",
      "model_module_version": "1.2.0",
      "model_name": "LayoutModel",
      "state": {}
     },
     "fdd70cfdf27d492595283121ab6aee09": {
      "model_module": "@jupyter-widgets/base",
      "model_module_version": "1.2.0",
      "model_name": "LayoutModel",
      "state": {}
     },
     "fe25933200ef4785af9ca732923e72f9": {
      "model_module": "jupyter-vuetify",
      "model_module_version": "^0.1.11",
      "model_name": "TooltipModel",
      "state": {
       "_events": [],
       "bottom": true,
       "children": [
        "IPY_MODEL_ee819f45b2e949518c1017189d87dc45",
        "Insert tooltip text here"
       ],
       "close_delay": null,
       "debounce": null,
       "layout": "IPY_MODEL_5268bfc86e1b4853bd3fe1e32f4dd8a2",
       "max_width": null,
       "min_width": null,
       "nudge_bottom": null,
       "nudge_left": null,
       "nudge_right": null,
       "nudge_top": null,
       "nudge_width": null,
       "open_delay": null
      }
     },
     "fea64b3f692b4082827403ebd08dbfad": {
      "model_module": "jupyter-vuetify",
      "model_module_version": "^0.1.11",
      "model_name": "TabItemModel",
      "state": {
       "_events": [],
       "children": [
        "Lorem ipsum dolor sit amet, consectetur adipiscing elit, sed do eiusmod tempor incididunt ut labore et dolore magna aliqua."
       ],
       "layout": "IPY_MODEL_0b0a5c01cfc44f3cbe8209b884026407",
       "reverse_transition": null,
       "transition": null
      }
     },
     "feb64ec8028549bba9a211cbe5e52124": {
      "model_module": "@jupyter-widgets/base",
      "model_module_version": "1.2.0",
      "model_name": "LayoutModel",
      "state": {}
     },
     "ff5fbe9409f24a0ba5942ebfde11b62b": {
      "model_module": "jupyter-vuetify",
      "model_module_version": "^0.1.11",
      "model_name": "CardTextModel",
      "state": {
       "_events": [],
       "children": [
        "First Text"
       ],
       "layout": "IPY_MODEL_e0b016d5b5c94e00b14084e72ce8b1c0"
      }
     },
     "ffe50b8b6445458b88985c2bf63ea1a8": {
      "model_module": "jupyter-vuetify",
      "model_module_version": "^0.1.11",
      "model_name": "BtnModel",
      "state": {
       "_events": [],
       "children": [
        "Open dialog"
       ],
       "color": "success",
       "dark": true,
       "href": null,
       "layout": "IPY_MODEL_341ce5957fd742ef9d31c98dca1e14d6",
       "ripple": null,
       "slot": "activator",
       "to": null
      }
     }
    },
    "version_major": 2,
    "version_minor": 0
   }
  }
 },
 "nbformat": 4,
 "nbformat_minor": 2
}
