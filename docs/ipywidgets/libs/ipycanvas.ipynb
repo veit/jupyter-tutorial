{
 "cells": [
  {
   "cell_type": "markdown",
   "metadata": {},
   "source": [
    "# `ipycanvas`\n",
    "\n",
    "provides the [Web-Canvas-API](https://developer.mozilla.org/en-US/docs/Web/API/Canvas_API). However, there are some differences:\n",
    "\n",
    "* The Canvas widget exposes the [CanvasRenderingContext2D](https://developer.mozilla.org/en-US/docs/Web/API/CanvasRenderingContext2D) API directly\n",
    "* The entire API is written in `snake_case` instead of `camelCase`, so for example `canvas.fillStyle = 'red'` written in Python becomes `canvas.fill_style = 'red'` in JavaScript."
   ]
  },
  {
   "cell_type": "markdown",
   "metadata": {},
   "source": [
    "## Installation\n",
    "\n",
    "```bash\n",
    "$ pipenv install ipycanvas\n",
    "Installing ipycanvas…\n",
    "…\n",
    "```"
   ]
  },
  {
   "cell_type": "markdown",
   "metadata": {},
   "source": [
    "## Creating canvas elements\n",
    "\n",
    "Before we can start creating canvas elements, first a note about the canvas grid. The origin of a grid is in the upper left corner at the coordinate `(0,0)`. All elements are placed relative to this origin.\n",
    "\n",
    "There are four methods of drawing rectangles:\n",
    "\n",
    "* `fill_rect(x, y, width, height=None)` draws a filled rectangle\n",
    "* `stroke_rect(x, y, width, height=None)` draws a rectangular outline\n",
    "* `fill_rects(x, y, width, height=None)` draws filled rectangles\n",
    "* `stroke_rects(x, y, width, height=None)` draws rectangular outlines\n",
    "\n",
    "With `height=None`, the same value is used as with `width`.\n",
    "\n",
    "For `*_rects`, `x`, `y`, `width` and `height` are integers, lists of integers or numpy arrays."
   ]
  },
  {
   "cell_type": "code",
   "execution_count": 17,
   "metadata": {},
   "outputs": [
    {
     "data": {
      "application/vnd.jupyter.widget-view+json": {
       "model_id": "9f352bf488844c0aa52c1fcc2b3ba6ee",
       "version_major": 2,
       "version_minor": 0
      },
      "text/plain": [
       "Canvas()"
      ]
     },
     "metadata": {},
     "output_type": "display_data"
    }
   ],
   "source": [
    "from ipycanvas import Canvas\n",
    "\n",
    "\n",
    "canvas = Canvas(size=(120, 100))\n",
    "canvas.fill_style = \"lime\"\n",
    "canvas.stroke_style = \"green\"\n",
    "\n",
    "canvas.fill_rect(10, 20, 100, 50)\n",
    "canvas.stroke_rect(10, 20, 100, 50)\n",
    "\n",
    "canvas"
   ]
  },
  {
   "cell_type": "code",
   "execution_count": 18,
   "metadata": {},
   "outputs": [
    {
     "data": {
      "application/vnd.jupyter.widget-view+json": {
       "model_id": "6793e3446ae44ff8a1fc8aa6de2b6a4a",
       "version_major": 2,
       "version_minor": 0
      },
      "text/plain": [
       "MultiCanvas()"
      ]
     },
     "metadata": {},
     "output_type": "display_data"
    }
   ],
   "source": [
    "from ipycanvas import MultiCanvas\n",
    "\n",
    "\n",
    "# Create a multi-layer canvas with 2 layers\n",
    "multi_canvas = MultiCanvas(2, size=(165, 115))\n",
    "multi_canvas[0]  #  Access first layer (background)\n",
    "multi_canvas[0].fill_style = \"lime\"\n",
    "multi_canvas[0].stroke_style = \"green\"\n",
    "multi_canvas[0].fill_rect(10, 20, 100, 50)\n",
    "multi_canvas[0].stroke_rect(10, 20, 100, 50)\n",
    "\n",
    "multi_canvas[1]  #  Access last layer\n",
    "multi_canvas[1].fill_style = \"red\"\n",
    "multi_canvas[1].stroke_style = \"brown\"\n",
    "multi_canvas[1].fill_rect(55, 45, 100, 50)\n",
    "multi_canvas[1].stroke_rect(55, 45, 100, 50)\n",
    "\n",
    "multi_canvas"
   ]
  },
  {
   "cell_type": "code",
   "execution_count": 19,
   "metadata": {},
   "outputs": [
    {
     "data": {
      "application/vnd.jupyter.widget-view+json": {
       "model_id": "6ccf4f6b7d9c4c6c9da3e07e6de53133",
       "version_major": 2,
       "version_minor": 0
      },
      "text/plain": [
       "Canvas()"
      ]
     },
     "metadata": {},
     "output_type": "display_data"
    }
   ],
   "source": [
    "import numpy as np\n",
    "\n",
    "from ipycanvas import Canvas\n",
    "\n",
    "\n",
    "n_particles = 75_000\n",
    "\n",
    "x = np.array(np.random.rayleigh(350, n_particles), dtype=np.int32)\n",
    "y = np.array(np.random.rayleigh(150, n_particles), dtype=np.int32)\n",
    "size = np.random.randint(1, 3, n_particles)\n",
    "\n",
    "canvas = Canvas(size=(1000, 500))\n",
    "\n",
    "canvas.fill_style = \"green\"\n",
    "canvas.fill_rects(x, y, size)\n",
    "\n",
    "canvas"
   ]
  },
  {
   "cell_type": "markdown",
   "metadata": {},
   "source": [
    "Since `Canvas` is an [ipywidget](https://ipywidgets.readthedocs.io/en/stable/), it can\n",
    "\n",
    "* appear several times in a notebook\n",
    "* change the attributes\n",
    "* Link changed attributes to other widget attributes"
   ]
  },
  {
   "cell_type": "markdown",
   "metadata": {},
   "source": [
    "## Delete canvas"
   ]
  },
  {
   "cell_type": "code",
   "execution_count": 20,
   "metadata": {},
   "outputs": [],
   "source": [
    "from ipycanvas import Canvas\n",
    "\n",
    "\n",
    "canvas = Canvas(size=(120, 100))\n",
    "# Perform some drawings…\n",
    "canvas.clear()"
   ]
  },
  {
   "cell_type": "code",
   "execution_count": 21,
   "metadata": {},
   "outputs": [
    {
     "data": {
      "application/vnd.jupyter.widget-view+json": {
       "model_id": "08b5f2f1be6a44acbb99119b43930a5f",
       "version_major": 2,
       "version_minor": 0
      },
      "text/plain": [
       "Canvas()"
      ]
     },
     "metadata": {},
     "output_type": "display_data"
    }
   ],
   "source": [
    "from ipycanvas import Canvas\n",
    "\n",
    "\n",
    "canvas = Canvas(size=(165, 115))\n",
    "\n",
    "canvas.fill_style = \"lime\"\n",
    "canvas.stroke_style = \"brown\"\n",
    "\n",
    "canvas.fill_rect(10, 20, 100, 50)\n",
    "canvas.clear_rect(52, 42, 100, 50)\n",
    "canvas.stroke_rect(55, 45, 100, 50)\n",
    "\n",
    "canvas"
   ]
  },
  {
   "cell_type": "markdown",
   "metadata": {},
   "source": [
    "## Shapes\n",
    "\n",
    "The available drawing commands are:\n",
    "\n",
    "* `move_to(x, y)`: \n",
    "* `line_to(x, y)`: \n",
    "* `arc(x, y, radius, start_angle, end_angle, anticlockwise=False)`: \n",
    "* `arc_to(x1, y1, x2, y2, radius)`: \n",
    "* `quadratic_curve_to(cp1x, cp1y, x, y)`: \n",
    "* `bezier_curve_to(cp1x, cp1y, cp2x, cp2y, x, y)`: \n",
    "* `rect(x, y, width, height)`: "
   ]
  },
  {
   "cell_type": "markdown",
   "metadata": {},
   "source": [
    "### Draw circles\n",
    "\n",
    "There are four different ways to draw circles:\n",
    "\n",
    "* `fill_arc(x, y, radius, start_angle, end_angle, anticlockwise=False)`\n",
    "* `stroke_arc(x, y, radius, start_angle, end_angle, anticlockwise=False)`\n",
    "* `fill_arcs(x, y, radius, start_angle, end_angle, anticlockwise=False)`\n",
    "* `stroke_arcs(x, y, radius, start_angle, end_angle, anticlockwise=False)`\n",
    "\n",
    "With `*_arcs`, `x`, `y` and `radius` are NumPy arrays, lists or scalar values."
   ]
  },
  {
   "cell_type": "code",
   "execution_count": 22,
   "metadata": {},
   "outputs": [
    {
     "data": {
      "application/vnd.jupyter.widget-view+json": {
       "model_id": "c917391bd86144919e47c624af20d153",
       "version_major": 2,
       "version_minor": 0
      },
      "text/plain": [
       "Canvas()"
      ]
     },
     "metadata": {},
     "output_type": "display_data"
    }
   ],
   "source": [
    "from math import pi\n",
    "\n",
    "from ipycanvas import Canvas\n",
    "\n",
    "\n",
    "canvas = Canvas(size=(200, 200))\n",
    "\n",
    "canvas.fill_style = \"red\"\n",
    "canvas.stroke_style = \"green\"\n",
    "\n",
    "canvas.fill_arc(60, 60, 50, 0, pi)\n",
    "canvas.stroke_arc(60, 60, 40, 0, 2 * pi)\n",
    "\n",
    "canvas"
   ]
  },
  {
   "cell_type": "markdown",
   "metadata": {},
   "source": [
    "### Drawing paths\n",
    "\n",
    "A path is a list of points connected by line segments that can be different shapes, straight or curved, closed or open, different widths and colors. The following functions are available:\n",
    "\n",
    "     begin_path () \n",
    "     close_path () adds a straight line to the path leading to the beginning of the current path\n",
    "     stroke () draws the shape along the contour\n",
    "     fill (rule) draws the shape using a fill within the path\n",
    "     \n",
    "\n",
    "* `begin_path()` creates a new path\n",
    "* `close_path()` adds a straight line to the path leading to the beginning of the current path\n",
    "* `stroke()` draws the shape along the contour\n",
    "* `fill(rule)` draws the shape using a fill within the path"
   ]
  },
  {
   "cell_type": "code",
   "execution_count": 23,
   "metadata": {},
   "outputs": [
    {
     "data": {
      "application/vnd.jupyter.widget-view+json": {
       "model_id": "d2b068c7bc54476fa9cc8ce8a1f16258",
       "version_major": 2,
       "version_minor": 0
      },
      "text/plain": [
       "Canvas()"
      ]
     },
     "metadata": {},
     "output_type": "display_data"
    }
   ],
   "source": [
    "from ipycanvas import Canvas\n",
    "\n",
    "canvas = Canvas(size=(100, 100))\n",
    "\n",
    "# Draw simple triangle shape\n",
    "canvas.begin_path()\n",
    "canvas.move_to(75, 50)\n",
    "canvas.line_to(100, 75)\n",
    "canvas.line_to(100, 25)\n",
    "canvas.fill()\n",
    "\n",
    "canvas"
   ]
  },
  {
   "cell_type": "markdown",
   "metadata": {},
   "source": [
    "### Examples"
   ]
  },
  {
   "cell_type": "markdown",
   "metadata": {},
   "source": [
    "#### `arc`"
   ]
  },
  {
   "cell_type": "code",
   "execution_count": 24,
   "metadata": {},
   "outputs": [
    {
     "data": {
      "application/vnd.jupyter.widget-view+json": {
       "model_id": "89816fd8267847e5868ed4495e19021e",
       "version_major": 2,
       "version_minor": 0
      },
      "text/plain": [
       "Canvas()"
      ]
     },
     "metadata": {},
     "output_type": "display_data"
    }
   ],
   "source": [
    "from math import pi\n",
    "\n",
    "from ipycanvas import Canvas\n",
    "\n",
    "\n",
    "canvas = Canvas(size=(200, 200))\n",
    "\n",
    "# Draw smiley face\n",
    "canvas.begin_path()\n",
    "canvas.arc(75, 75, 50, 0, pi * 2, True)  # Outer circle\n",
    "canvas.move_to(110, 75)\n",
    "canvas.arc(75, 75, 35, 0, pi, False)  # Mouth (clockwise)\n",
    "canvas.move_to(65, 65)\n",
    "canvas.arc(60, 65, 5, 0, pi * 2, True)  # Left eye\n",
    "canvas.move_to(95, 65)\n",
    "canvas.arc(90, 65, 5, 0, pi * 2, True)  # Right eye\n",
    "canvas.stroke()\n",
    "\n",
    "canvas"
   ]
  },
  {
   "cell_type": "markdown",
   "metadata": {},
   "source": [
    "#### `bezier_curve_to`"
   ]
  },
  {
   "cell_type": "code",
   "execution_count": 25,
   "metadata": {},
   "outputs": [
    {
     "data": {
      "application/vnd.jupyter.widget-view+json": {
       "model_id": "d09d9324277e44648334a2b5fcc42cb7",
       "version_major": 2,
       "version_minor": 0
      },
      "text/plain": [
       "Canvas()"
      ]
     },
     "metadata": {},
     "output_type": "display_data"
    }
   ],
   "source": [
    "from ipycanvas import Canvas\n",
    "\n",
    "\n",
    "canvas = Canvas(size=(200, 200))\n",
    "\n",
    "# Cubic curves example\n",
    "canvas.begin_path()\n",
    "canvas.move_to(75, 40)\n",
    "canvas.bezier_curve_to(75, 37, 70, 25, 50, 25)\n",
    "canvas.bezier_curve_to(20, 25, 20, 62.5, 20, 62.5)\n",
    "canvas.bezier_curve_to(20, 80, 40, 102, 75, 120)\n",
    "canvas.bezier_curve_to(110, 102, 130, 80, 130, 62.5)\n",
    "canvas.bezier_curve_to(130, 62.5, 130, 25, 100, 25)\n",
    "canvas.bezier_curve_to(85, 25, 75, 37, 75, 40)\n",
    "canvas.fill()\n",
    "\n",
    "canvas"
   ]
  },
  {
   "cell_type": "markdown",
   "metadata": {},
   "source": [
    "## Styles and colors"
   ]
  },
  {
   "cell_type": "markdown",
   "metadata": {},
   "source": [
    "### Colors\n",
    "\n",
    "`Canvas`  has two color attributes, one for strokes and one for areas; the transparency can also be changed.\n",
    "\n",
    "* `stroke_style` expects a valid HTML color. The default is black.\n",
    "* `fill_style`  expects a valid HTML color. The default is black.\n",
    "* `global_alpha` indicates the transparency. The default is 1.0."
   ]
  },
  {
   "cell_type": "markdown",
   "metadata": {},
   "source": [
    "### Lines"
   ]
  },
  {
   "cell_type": "markdown",
   "metadata": {},
   "source": [
    "#### Line style\n",
    "\n",
    "Lines can be described by the following attributes:\n",
    "\n",
    "* `line_width`\n",
    "* `line_cap`\n",
    "* `line_join`\n",
    "* `miter_limit`\n",
    "* `get_line_dash()`\n",
    "* `set_line_dash(segments)`\n",
    "* `line_dash_offset`"
   ]
  },
  {
   "cell_type": "markdown",
   "metadata": {},
   "source": [
    "#### Line width"
   ]
  },
  {
   "cell_type": "code",
   "execution_count": 26,
   "metadata": {},
   "outputs": [
    {
     "data": {
      "application/vnd.jupyter.widget-view+json": {
       "model_id": "0a1bf2d3e556499e81eb9efc421182de",
       "version_major": 2,
       "version_minor": 0
      },
      "text/plain": [
       "Canvas()"
      ]
     },
     "metadata": {},
     "output_type": "display_data"
    }
   ],
   "source": [
    "from ipycanvas import Canvas\n",
    "\n",
    "\n",
    "canvas = Canvas(size=(400, 280))\n",
    "canvas.scale(2)\n",
    "\n",
    "for i in range(10):\n",
    "    width = 1 + i\n",
    "    x = 5 + i * 20\n",
    "    canvas.line_width = width\n",
    "\n",
    "    canvas.fill_text(str(width), x - 5, 15)\n",
    "\n",
    "    canvas.begin_path()\n",
    "    canvas.move_to(x, 20)\n",
    "    canvas.line_to(x, 140)\n",
    "    canvas.stroke()\n",
    "canvas"
   ]
  },
  {
   "cell_type": "markdown",
   "metadata": {},
   "source": [
    "#### Line end"
   ]
  },
  {
   "cell_type": "code",
   "execution_count": 27,
   "metadata": {},
   "outputs": [
    {
     "data": {
      "application/vnd.jupyter.widget-view+json": {
       "model_id": "513a84244aa345cd973ca78720f8291d",
       "version_major": 2,
       "version_minor": 0
      },
      "text/plain": [
       "Canvas()"
      ]
     },
     "metadata": {},
     "output_type": "display_data"
    }
   ],
   "source": [
    "from ipycanvas import Canvas\n",
    "\n",
    "\n",
    "canvas = Canvas(size=(320, 360))\n",
    "\n",
    "# Possible line_cap values\n",
    "line_caps = [\"butt\", \"round\", \"square\"]\n",
    "\n",
    "canvas.scale(2)\n",
    "\n",
    "# Draw guides\n",
    "canvas.stroke_style = \"#09f\"\n",
    "canvas.begin_path()\n",
    "canvas.move_to(10, 30)\n",
    "canvas.line_to(140, 30)\n",
    "canvas.move_to(10, 140)\n",
    "canvas.line_to(140, 140)\n",
    "canvas.stroke()\n",
    "\n",
    "# Draw lines\n",
    "canvas.stroke_style = \"black\"\n",
    "canvas.font = \"15px serif\"\n",
    "\n",
    "for i in range(len(line_caps)):\n",
    "    line_cap = line_caps[i]\n",
    "    x = 25 + i * 50\n",
    "\n",
    "    canvas.fill_text(line_cap, x - 15, 15)\n",
    "    canvas.line_width = 15\n",
    "    canvas.line_cap = line_cap\n",
    "    canvas.begin_path()\n",
    "    canvas.move_to(x, 30)\n",
    "    canvas.line_to(x, 140)\n",
    "    canvas.stroke()\n",
    "\n",
    "canvas"
   ]
  },
  {
   "cell_type": "markdown",
   "metadata": {},
   "source": [
    "#### Line connection\n",
    "\n",
    "defines the appearance of the corners where lines meet."
   ]
  },
  {
   "cell_type": "code",
   "execution_count": 28,
   "metadata": {},
   "outputs": [
    {
     "data": {
      "application/vnd.jupyter.widget-view+json": {
       "model_id": "c600cac36ac549f098d4bd7b754f7b65",
       "version_major": 2,
       "version_minor": 0
      },
      "text/plain": [
       "Canvas()"
      ]
     },
     "metadata": {},
     "output_type": "display_data"
    }
   ],
   "source": [
    "from ipycanvas import Canvas\n",
    "\n",
    "\n",
    "canvas = Canvas(size=(320, 360))\n",
    "\n",
    "# Possible line_join values\n",
    "line_joins = [\"round\", \"bevel\", \"miter\"]\n",
    "\n",
    "min_y = 40\n",
    "max_y = 80\n",
    "spacing = 45\n",
    "\n",
    "canvas.line_width = 10\n",
    "canvas.scale(2)\n",
    "for i in range(len(line_joins)):\n",
    "    line_join = line_joins[i]\n",
    "\n",
    "    y1 = min_y + i * spacing\n",
    "    y2 = max_y + i * spacing\n",
    "\n",
    "    canvas.line_join = line_join\n",
    "\n",
    "    canvas.fill_text(line_join, 60, y1 - 10)\n",
    "\n",
    "    canvas.begin_path()\n",
    "    canvas.move_to(-5, y1)\n",
    "    canvas.line_to(35, y2)\n",
    "    canvas.line_to(75, y1)\n",
    "    canvas.line_to(115, y2)\n",
    "    canvas.line_to(155, y1)\n",
    "    canvas.stroke()\n",
    "\n",
    "canvas"
   ]
  },
  {
   "cell_type": "markdown",
   "metadata": {},
   "source": [
    "#### Line pattern"
   ]
  },
  {
   "cell_type": "code",
   "execution_count": 29,
   "metadata": {},
   "outputs": [
    {
     "data": {
      "application/vnd.jupyter.widget-view+json": {
       "model_id": "1d10d83403684036b391e78ff1ef1d56",
       "version_major": 2,
       "version_minor": 0
      },
      "text/plain": [
       "Canvas()"
      ]
     },
     "metadata": {},
     "output_type": "display_data"
    }
   ],
   "source": [
    "from ipycanvas import Canvas\n",
    "\n",
    "\n",
    "canvas = Canvas(size=(400, 280))\n",
    "canvas.scale(2)\n",
    "\n",
    "line_dashes = [[5, 10], [10, 5], [5, 10, 20], [10, 20], [20, 10], [20, 20]]\n",
    "\n",
    "canvas.line_width = 2\n",
    "\n",
    "for i in range(len(line_dashes)):\n",
    "    x = 5 + i * 20\n",
    "\n",
    "    canvas.set_line_dash(line_dashes[i])\n",
    "    canvas.begin_path()\n",
    "    canvas.move_to(x, 0)\n",
    "    canvas.line_to(x, 140)\n",
    "    canvas.stroke()\n",
    "canvas"
   ]
  },
  {
   "cell_type": "markdown",
   "metadata": {},
   "source": [
    "## text\n",
    "\n",
    "There are two methods of designing text:\n",
    "\n",
    "* `fill_text(text, x, y, max_width=None)`\n",
    "* `stroke_text(text, x, y, max_width=None)`"
   ]
  },
  {
   "cell_type": "code",
   "execution_count": 30,
   "metadata": {},
   "outputs": [
    {
     "data": {
      "application/vnd.jupyter.widget-view+json": {
       "model_id": "b84a414fa8e045058f098294527bd4c3",
       "version_major": 2,
       "version_minor": 0
      },
      "text/plain": [
       "Canvas()"
      ]
     },
     "metadata": {},
     "output_type": "display_data"
    }
   ],
   "source": [
    "from ipycanvas import Canvas\n",
    "\n",
    "\n",
    "canvas = Canvas(size=(400, 50))\n",
    "\n",
    "canvas.font = \"32px serif\"\n",
    "canvas.fill_text(\"Drawing from Python is cool!\", 10, 32)\n",
    "canvas"
   ]
  },
  {
   "cell_type": "code",
   "execution_count": 31,
   "metadata": {},
   "outputs": [
    {
     "data": {
      "application/vnd.jupyter.widget-view+json": {
       "model_id": "acbe0077a7ab4001bff71b0dc7a1d0a1",
       "version_major": 2,
       "version_minor": 0
      },
      "text/plain": [
       "Canvas()"
      ]
     },
     "metadata": {},
     "output_type": "display_data"
    }
   ],
   "source": [
    "from ipycanvas import Canvas\n",
    "\n",
    "\n",
    "canvas = Canvas(size=(400, 50))\n",
    "\n",
    "canvas.font = \"32px serif\"\n",
    "canvas.stroke_text(\"Hello There!\", 10, 32)\n",
    "canvas"
   ]
  },
  {
   "cell_type": "markdown",
   "metadata": {},
   "source": [
    "font indicates the current text style. The default value is \"12px sans-serif\".\n",
    "     text_align specifies the text alignment. Possible values are \"start\", \"end\", \"left\", \"right\" or \"center\".\n",
    "     text_baseline indicates the alignment with the baseline. Possible values are \"top\", \"hanging\", \"middle\", \"alphabetic\", \"ideographic\" and \"bottom\". The default value is \"alphabetic\".\n",
    "     direction indicates the text direction. Possible values are \"ltr\", \"rtl\", \"inherit\". The default value is \"inherit\".\n",
    "\n",
    "Of course, fill_style and stroke_style can also be used to color the text.\n",
    "\n",
    "* `font` indicates the current text style. The default value is `\"12px sans-serif\"`.\n",
    "* `text_align` specifies the text alignment. Possible values are `\"start\"`, `\"end\"`, `\"left\"`, `\"right\"` or `\"center\"` .\n",
    "* `text_baseline` indicates the alignment with the baseline. Possible values are `\"top\"`, `\"hanging\"`, `\"middle\"`, `\"alphabetic\"`, `\"ideographic\"` and `\"bottom\"`. The default value is `\"alphabetic\"`.\n",
    "* `direction` indicates the text direction. Possible values are `\"ltr\"`, `\"rtl\"`, `\"inherit\"`. The default value is `\"inherit\"`. \n",
    "\n",
    "Of course, `fill_style` and `stroke_style` can also be used to color the text."
   ]
  },
  {
   "cell_type": "markdown",
   "metadata": {},
   "source": [
    "## Images"
   ]
  },
  {
   "cell_type": "markdown",
   "metadata": {},
   "source": [
    "### … from a Numpy array\n",
    "\n",
    "With `put_image_data(image_data, dx, dy)` an image can be displayed, where `image_data` specifies a Numpy array and `dx` and `dy` the upper left corner of the image."
   ]
  },
  {
   "cell_type": "code",
   "execution_count": 32,
   "metadata": {},
   "outputs": [
    {
     "data": {
      "application/vnd.jupyter.widget-view+json": {
       "model_id": "9cbc0d5379b64d4884ea0894faefb33c",
       "version_major": 2,
       "version_minor": 0
      },
      "text/plain": [
       "Canvas()"
      ]
     },
     "metadata": {},
     "output_type": "display_data"
    }
   ],
   "source": [
    "import numpy as np\n",
    "\n",
    "from ipycanvas import Canvas\n",
    "\n",
    "\n",
    "x = np.linspace(-1, 1, 600)\n",
    "y = np.linspace(-1, 1, 600)\n",
    "\n",
    "x_grid, y_grid = np.meshgrid(x, y)\n",
    "\n",
    "blue_channel = np.array(\n",
    "    np.sin(x_grid**2 + y_grid**2) * 255, dtype=np.int32\n",
    ")\n",
    "red_channel = np.zeros_like(blue_channel) + 200\n",
    "green_channel = np.zeros_like(blue_channel) + 50\n",
    "\n",
    "image_data = np.stack((red_channel, blue_channel, green_channel), axis=2)\n",
    "\n",
    "canvas = Canvas(size=(image_data.shape[0], image_data.shape[1]))\n",
    "canvas.put_image_data(image_data, 0, 0)\n",
    "\n",
    "canvas"
   ]
  },
  {
   "cell_type": "markdown",
   "metadata": {},
   "source": [
    "## Status\n",
    "\n",
    "The status can be specified with two values:\n",
    "\n",
    "* `save()` saves the status of the canvas element.\n",
    "* `restore()` restores the last saved status of the canvas element. This method can be called as often as required."
   ]
  },
  {
   "cell_type": "markdown",
   "metadata": {},
   "source": [
    "## Transformations\n",
    "\n",
    "* `translate(x, y)` moves the canvas element\n",
    "* `rotate(angle)` rotates the canvas element clockwise\n",
    "* `scale(x, y=None)` scales the canvas element"
   ]
  },
  {
   "cell_type": "markdown",
   "metadata": {},
   "source": [
    "<div class=\"alert alert-block alert-info\">\n",
    "\n",
    "**See also:**\n",
    "\n",
    "* [API reference](https://ipycanvas.readthedocs.io/en/latest/api.html)\n",
    "\n",
    "</div>"
   ]
  }
 ],
 "metadata": {
  "kernelspec": {
   "display_name": "Python 3.11 Kernel",
   "language": "python",
   "name": "python311"
  },
  "language_info": {
   "codemirror_mode": {
    "name": "ipython",
    "version": 3
   },
   "file_extension": ".py",
   "mimetype": "text/x-python",
   "name": "python",
   "nbconvert_exporter": "python",
   "pygments_lexer": "ipython3",
   "version": "3.11.4"
  },
  "latex_envs": {
   "LaTeX_envs_menu_present": true,
   "autoclose": false,
   "autocomplete": true,
   "bibliofile": "biblio.bib",
   "cite_by": "apalike",
   "current_citInitial": 1,
   "eqLabelWithNumbers": true,
   "eqNumInitial": 1,
   "hotkeys": {
    "equation": "Ctrl-E",
    "itemize": "Ctrl-I"
   },
   "labels_anchors": false,
   "latex_user_defs": false,
   "report_style_numbering": false,
   "user_envs_cfg": false
  },
  "varInspector": {
   "cols": {
    "lenName": 16,
    "lenType": 16,
    "lenVar": 40
   },
   "kernels_config": {
    "python": {
     "delete_cmd_postfix": "",
     "delete_cmd_prefix": "del ",
     "library": "var_list.py",
     "varRefreshCmd": "print(var_dic_list())"
    },
    "r": {
     "delete_cmd_postfix": ") ",
     "delete_cmd_prefix": "rm(",
     "library": "var_list.r",
     "varRefreshCmd": "cat(var_dic_list()) "
    }
   },
   "types_to_exclude": [
    "module",
    "function",
    "builtin_function_or_method",
    "instance",
    "_Feature"
   ],
   "window_display": false
  },
  "widgets": {
   "application/vnd.jupyter.widget-state+json": {
    "state": {
     "0089248aa42e454ba66ee950062b68ac": {
      "model_module": "ipycanvas",
      "model_module_version": "^0.3.2",
      "model_name": "CanvasModel",
      "state": {
       "_model_module_version": "^0.3.2",
       "_view_module_version": "^0.3.2",
       "layout": "IPY_MODEL_0bb7d1d82ba443a8be1d8b6e372ca2de",
       "size": [
        165,
        115
       ]
      }
     },
     "018820a8686f44eeb462c7531c11411d": {
      "model_module": "ipycanvas",
      "model_module_version": "^0.3.2",
      "model_name": "CanvasModel",
      "state": {
       "_model_module_version": "^0.3.2",
       "_view_module_version": "^0.3.2",
       "layout": "IPY_MODEL_4db31a69894a41c9a0bcc60828e85107",
       "size": [
        200,
        200
       ]
      }
     },
     "01a71917bdd44157b811ef102ca78cd8": {
      "model_module": "@jupyter-widgets/base",
      "model_module_version": "1.2.0",
      "model_name": "LayoutModel",
      "state": {
       "height": "200px",
       "width": "200px"
      }
     },
     "01bb9d46488d4bc8a3a98dede8d259f0": {
      "model_module": "@jupyter-widgets/base",
      "model_module_version": "1.2.0",
      "model_name": "LayoutModel",
      "state": {
       "height": "110px",
       "width": "110px"
      }
     },
     "01c8ae530b244524b74c48a7b1fe9aaa": {
      "model_module": "ipycanvas",
      "model_module_version": "^0.3.2",
      "model_name": "CanvasModel",
      "state": {
       "_model_module_version": "^0.3.2",
       "_view_module_version": "^0.3.2",
       "layout": "IPY_MODEL_b45cc15983c14f5c8aed31b95894e7ea",
       "size": [
        400,
        280
       ]
      }
     },
     "02d699ae7f8440638171eec316f4918f": {
      "model_module": "@jupyter-widgets/base",
      "model_module_version": "1.2.0",
      "model_name": "LayoutModel",
      "state": {
       "height": "100px",
       "width": "100px"
      }
     },
     "0333312781ee4e57b8115797d3dbbff7": {
      "model_module": "ipycanvas",
      "model_module_version": "^0.3.2",
      "model_name": "CanvasModel",
      "state": {
       "_model_module_version": "^0.3.2",
       "_view_module_version": "^0.3.2",
       "layout": "IPY_MODEL_5e3ee821e4104d6f92b9a1f90fba7f3d",
       "size": [
        400,
        280
       ]
      }
     },
     "03638949aa264ca0a1dcf7b7acdda08a": {
      "model_module": "@jupyter-widgets/base",
      "model_module_version": "1.2.0",
      "model_name": "LayoutModel",
      "state": {
       "height": "115px",
       "width": "165px"
      }
     },
     "0372ef81c59c4c2fbbad0f63b08b35f3": {
      "model_module": "ipycanvas",
      "model_module_version": "^0.3.2",
      "model_name": "CanvasModel",
      "state": {
       "_model_module_version": "^0.3.2",
       "_view_module_version": "^0.3.2",
       "layout": "IPY_MODEL_ba3a03732ac94da8910c7f5b91eb62b4",
       "size": [
        165,
        115
       ]
      }
     },
     "0437dd537396421ca8185a66ced47cb9": {
      "model_module": "@jupyter-widgets/base",
      "model_module_version": "1.2.0",
      "model_name": "LayoutModel",
      "state": {
       "height": "250px",
       "width": "800px"
      }
     },
     "04a0ed6c85c04898a5b9be964e4617b6": {
      "model_module": "@jupyter-widgets/base",
      "model_module_version": "1.2.0",
      "model_name": "LayoutModel",
      "state": {
       "height": "200px",
       "width": "200px"
      }
     },
     "04b3c352814f40e6a150bf56b62271e2": {
      "model_module": "@jupyter-widgets/base",
      "model_module_version": "1.2.0",
      "model_name": "LayoutModel",
      "state": {
       "height": "100px",
       "width": "120px"
      }
     },
     "04e40968fb4d494880a400211536bb6c": {
      "model_module": "@jupyter-widgets/base",
      "model_module_version": "1.2.0",
      "model_name": "LayoutModel",
      "state": {
       "height": "100px",
       "width": "100px"
      }
     },
     "050f75fa93b849528fe88c4d6ede0b23": {
      "model_module": "@jupyter-widgets/base",
      "model_module_version": "1.2.0",
      "model_name": "LayoutModel",
      "state": {
       "height": "200px",
       "width": "200px"
      }
     },
     "05930a9c79fa4c35ba23725d08a9f8b5": {
      "model_module": "ipycanvas",
      "model_module_version": "^0.3.2",
      "model_name": "CanvasModel",
      "state": {
       "_model_module_version": "^0.3.2",
       "_view_module_version": "^0.3.2",
       "layout": "IPY_MODEL_34eaac2c94b74197bc624abe8e802ad6",
       "size": [
        100,
        100
       ]
      }
     },
     "06a69100b2904d1abaa554acf84985bf": {
      "model_module": "@jupyter-widgets/base",
      "model_module_version": "1.2.0",
      "model_name": "LayoutModel",
      "state": {
       "height": "200px",
       "width": "200px"
      }
     },
     "0728574d1c4b4478a902400cfffe7a2e": {
      "model_module": "ipycanvas",
      "model_module_version": "^0.3.2",
      "model_name": "CanvasModel",
      "state": {
       "_model_module_version": "^0.3.2",
       "_view_module_version": "^0.3.2",
       "layout": "IPY_MODEL_5bf9b6dd3a854759816a5b9f2c900c6b",
       "size": [
        1000,
        500
       ]
      }
     },
     "0762be984802430b96f3fba10b34bc58": {
      "model_module": "@jupyter-widgets/base",
      "model_module_version": "1.2.0",
      "model_name": "LayoutModel",
      "state": {
       "height": "200px",
       "width": "200px"
      }
     },
     "07756f8c44c54621950754b60cb5486a": {
      "model_module": "@jupyter-widgets/base",
      "model_module_version": "1.2.0",
      "model_name": "LayoutModel",
      "state": {
       "height": "100px",
       "width": "100px"
      }
     },
     "07e311d8d7d64e5eb7898ae38efa93c3": {
      "model_module": "@jupyter-widgets/base",
      "model_module_version": "1.2.0",
      "model_name": "LayoutModel",
      "state": {
       "height": "500px",
       "width": "800px"
      }
     },
     "0838f88d00da41a3b5129a85c03692e1": {
      "model_module": "@jupyter-widgets/base",
      "model_module_version": "1.2.0",
      "model_name": "LayoutModel",
      "state": {
       "height": "200px",
       "width": "200px"
      }
     },
     "0851906c7bf0488f8cfc8e906dda23bd": {
      "model_module": "ipycanvas",
      "model_module_version": "^0.3.2",
      "model_name": "CanvasModel",
      "state": {
       "_model_module_version": "^0.3.2",
       "_view_module_version": "^0.3.2",
       "layout": "IPY_MODEL_752b25bfa5084cdaa0e74ac6e387a2dd",
       "size": [
        200,
        200
       ]
      }
     },
     "089ba8896cf843e5830ee125bae86a0e": {
      "model_module": "ipycanvas",
      "model_module_version": "^0.3.2",
      "model_name": "CanvasModel",
      "state": {
       "_model_module_version": "^0.3.2",
       "_view_module_version": "^0.3.2",
       "layout": "IPY_MODEL_12ae90729f134dac8b6f93be3f366485",
       "size": [
        165,
        115
       ]
      }
     },
     "08b5f2f1be6a44acbb99119b43930a5f": {
      "model_module": "ipycanvas",
      "model_module_version": "^0.13",
      "model_name": "CanvasModel",
      "state": {
       "_canvas_manager": "IPY_MODEL_a17888730109410cbcbaf78ea646dd3b",
       "_model_module_version": "^0.13",
       "_view_module_version": "^0.13",
       "layout": "IPY_MODEL_c90fa02ae7164ebe893780356bd47e58"
      }
     },
     "0a1bf2d3e556499e81eb9efc421182de": {
      "model_module": "ipycanvas",
      "model_module_version": "^0.13",
      "model_name": "CanvasModel",
      "state": {
       "_canvas_manager": "IPY_MODEL_a17888730109410cbcbaf78ea646dd3b",
       "_model_module_version": "^0.13",
       "_view_module_version": "^0.13",
       "layout": "IPY_MODEL_5e432db49efb4023bfe051da12aca385"
      }
     },
     "0a31b896f4254e769961945c2dad71e5": {
      "model_module": "ipycanvas",
      "model_module_version": "^0.3.2",
      "model_name": "CanvasModel",
      "state": {
       "_model_module_version": "^0.3.2",
       "_view_module_version": "^0.3.2",
       "layout": "IPY_MODEL_f3db7036541c43c6be26188fdd11f6d1",
       "size": [
        200,
        200
       ]
      }
     },
     "0a77889153ce4375bf48cdae96fcb873": {
      "model_module": "ipycanvas",
      "model_module_version": "^0.3.2",
      "model_name": "CanvasModel",
      "state": {
       "_model_module_version": "^0.3.2",
       "_view_module_version": "^0.3.2",
       "layout": "IPY_MODEL_b376264dc03345f1adfe441df4a29245",
       "size": [
        100,
        100
       ]
      }
     },
     "0a998f76863940a49c2bdf366c1c9566": {
      "model_module": "ipycanvas",
      "model_module_version": "^0.3.2",
      "model_name": "CanvasModel",
      "state": {
       "_model_module_version": "^0.3.2",
       "_view_module_version": "^0.3.2",
       "layout": "IPY_MODEL_c60ce78654624cb3a238bb263eaf65b3",
       "size": [
        165,
        115
       ]
      }
     },
     "0abe52a113354a22b031a2fc94bf0c35": {
      "model_module": "@jupyter-widgets/base",
      "model_module_version": "1.2.0",
      "model_name": "LayoutModel",
      "state": {
       "height": "500px",
       "width": "1000px"
      }
     },
     "0ac76bf296ad46ecabce1a5a16e8323e": {
      "model_module": "ipycanvas",
      "model_module_version": "^0.3.2",
      "model_name": "CanvasModel",
      "state": {
       "_model_module_version": "^0.3.2",
       "_view_module_version": "^0.3.2",
       "layout": "IPY_MODEL_81788ab439564f199467ec42c93c6804",
       "size": [
        200,
        200
       ]
      }
     },
     "0b743f59734d41618bcf9f8da0d9cad0": {
      "model_module": "@jupyter-widgets/base",
      "model_module_version": "1.2.0",
      "model_name": "LayoutModel",
      "state": {}
     },
     "0bb7d1d82ba443a8be1d8b6e372ca2de": {
      "model_module": "@jupyter-widgets/base",
      "model_module_version": "1.2.0",
      "model_name": "LayoutModel",
      "state": {
       "height": "115px",
       "width": "165px"
      }
     },
     "0bcf468d2f174473a673061f0aa1dec3": {
      "model_module": "ipycanvas",
      "model_module_version": "^0.3.2",
      "model_name": "CanvasModel",
      "state": {
       "_model_module_version": "^0.3.2",
       "_view_module_version": "^0.3.2",
       "layout": "IPY_MODEL_107b0c3e84b4483492349fe4b09a9dfe",
       "size": [
        200,
        200
       ]
      }
     },
     "0bfecbb4341f447fa9c5862efa81599f": {
      "model_module": "ipycanvas",
      "model_module_version": "^0.3.2",
      "model_name": "CanvasModel",
      "state": {
       "_model_module_version": "^0.3.2",
       "_view_module_version": "^0.3.2",
       "layout": "IPY_MODEL_75c6f1d01c074716ab472a0be6efde9b",
       "size": [
        200,
        200
       ]
      }
     },
     "0c3022008adb4050b46fcdffd7f8d04d": {
      "model_module": "@jupyter-widgets/base",
      "model_module_version": "1.2.0",
      "model_name": "LayoutModel",
      "state": {
       "height": "115px",
       "width": "165px"
      }
     },
     "0c68d5a2293e4b529eb0a83a1f2f2b5d": {
      "model_module": "ipycanvas",
      "model_module_version": "^0.13",
      "model_name": "CanvasModel",
      "state": {
       "_canvas_manager": "IPY_MODEL_2b3f9ff77f2e4d1cb622d2e7f1b56891",
       "_model_module_version": "^0.13",
       "_view_module_version": "^0.13",
       "layout": "IPY_MODEL_fefb9e46ca3e44979c372d25b200e0e0"
      }
     },
     "0da03b20caa24112a57ac58c9c340b7c": {
      "model_module": "ipycanvas",
      "model_module_version": "^0.3.2",
      "model_name": "CanvasModel",
      "state": {
       "_model_module_version": "^0.3.2",
       "_view_module_version": "^0.3.2",
       "layout": "IPY_MODEL_8539f0e8aa764ca18408fce7848b72fe",
       "size": [
        200,
        200
       ]
      }
     },
     "0e0f2609123c495b87fd30ed04b03a5c": {
      "model_module": "@jupyter-widgets/base",
      "model_module_version": "1.2.0",
      "model_name": "LayoutModel",
      "state": {
       "height": "100px",
       "width": "100px"
      }
     },
     "0e3eb5f22f1249eb90cabbe16e97e006": {
      "model_module": "@jupyter-widgets/base",
      "model_module_version": "1.2.0",
      "model_name": "LayoutModel",
      "state": {
       "height": "280px",
       "width": "400px"
      }
     },
     "0f4b29597f704d1889888b03aaa47f85": {
      "model_module": "ipycanvas",
      "model_module_version": "^0.3.2",
      "model_name": "CanvasModel",
      "state": {
       "_model_module_version": "^0.3.2",
       "_view_module_version": "^0.3.2",
       "layout": "IPY_MODEL_74fff5034f8545618cdce2f8b1ceba5e",
       "size": [
        200,
        200
       ]
      }
     },
     "0f7d1e0f805d4ea6b1490e47858d46a0": {
      "model_module": "@jupyter-widgets/base",
      "model_module_version": "1.2.0",
      "model_name": "LayoutModel",
      "state": {
       "height": "115px",
       "width": "165px"
      }
     },
     "0faef50bc9354d69a1f394d22d41bff9": {
      "model_module": "ipycanvas",
      "model_module_version": "^0.3.2",
      "model_name": "CanvasModel",
      "state": {
       "_model_module_version": "^0.3.2",
       "_view_module_version": "^0.3.2",
       "layout": "IPY_MODEL_88de54712af4498cb223d34551cff630",
       "size": [
        165,
        115
       ]
      }
     },
     "0fd55331f29540c5a784ca0551103b7a": {
      "model_module": "ipycanvas",
      "model_module_version": "^0.3.2",
      "model_name": "CanvasModel",
      "state": {
       "_model_module_version": "^0.3.2",
       "_view_module_version": "^0.3.2",
       "layout": "IPY_MODEL_ded46a8982aa438ca336627fafe820c8",
       "size": [
        200,
        200
       ]
      }
     },
     "103409372357485a8bb7c08a584f1920": {
      "model_module": "@jupyter-widgets/base",
      "model_module_version": "1.2.0",
      "model_name": "LayoutModel",
      "state": {
       "height": "600px",
       "width": "600px"
      }
     },
     "104379cb4ad9409795a262ad79652721": {
      "model_module": "@jupyter-widgets/base",
      "model_module_version": "1.2.0",
      "model_name": "LayoutModel",
      "state": {
       "height": "500px",
       "width": "1000px"
      }
     },
     "1056eeee11924b0392fb2deb54445074": {
      "model_module": "@jupyter-widgets/base",
      "model_module_version": "1.2.0",
      "model_name": "LayoutModel",
      "state": {
       "height": "200px",
       "width": "200px"
      }
     },
     "107b0c3e84b4483492349fe4b09a9dfe": {
      "model_module": "@jupyter-widgets/base",
      "model_module_version": "1.2.0",
      "model_name": "LayoutModel",
      "state": {
       "height": "200px",
       "width": "200px"
      }
     },
     "109a27953a954e01987aa1866068b05c": {
      "model_module": "ipycanvas",
      "model_module_version": "^0.3.2",
      "model_name": "CanvasModel",
      "state": {
       "_model_module_version": "^0.3.2",
       "_view_module_version": "^0.3.2",
       "layout": "IPY_MODEL_1d8d73892430459b9b5fa24190cb8d00",
       "size": [
        165,
        115
       ]
      }
     },
     "10e0736aefa54f27bfa314327364d421": {
      "model_module": "@jupyter-widgets/base",
      "model_module_version": "1.2.0",
      "model_name": "LayoutModel",
      "state": {}
     },
     "10efdd1d32de4ca8a453cbc4144c9fe2": {
      "model_module": "@jupyter-widgets/base",
      "model_module_version": "1.2.0",
      "model_name": "LayoutModel",
      "state": {
       "height": "280px",
       "width": "400px"
      }
     },
     "1100a0033493427392a7ac02e9b28529": {
      "model_module": "ipycanvas",
      "model_module_version": "^0.3.2",
      "model_name": "CanvasModel",
      "state": {
       "_model_module_version": "^0.3.2",
       "_view_module_version": "^0.3.2",
       "layout": "IPY_MODEL_19ecd0e1949e49cf86e68cb5550af236",
       "size": [
        200,
        200
       ]
      }
     },
     "1182409ff6f045eaa9d45490abd8597d": {
      "model_module": "ipycanvas",
      "model_module_version": "^0.3.2",
      "model_name": "CanvasModel",
      "state": {
       "_model_module_version": "^0.3.2",
       "_view_module_version": "^0.3.2",
       "layout": "IPY_MODEL_32c4c1adae6143bf99fc0b10f2082020",
       "size": [
        200,
        200
       ]
      }
     },
     "122ec19666234bac8a075ba76aab5c1e": {
      "model_module": "@jupyter-widgets/base",
      "model_module_version": "1.2.0",
      "model_name": "LayoutModel",
      "state": {
       "height": "500px",
       "width": "800px"
      }
     },
     "1230530bccaa47f1a0c9f7b32d10c219": {
      "model_module": "@jupyter-widgets/base",
      "model_module_version": "1.2.0",
      "model_name": "LayoutModel",
      "state": {
       "height": "200px",
       "width": "200px"
      }
     },
     "127ef1c7c73d450d88eac80518a0fd6c": {
      "model_module": "ipycanvas",
      "model_module_version": "^0.3.2",
      "model_name": "CanvasModel",
      "state": {
       "_model_module_version": "^0.3.2",
       "_view_module_version": "^0.3.2",
       "layout": "IPY_MODEL_f75da7ae81d041b0a03714b2d7c75e14",
       "size": [
        320,
        360
       ]
      }
     },
     "1293ecc69faf440cbc5cca0979e90b22": {
      "model_module": "ipycanvas",
      "model_module_version": "^0.3.2",
      "model_name": "MultiCanvasModel",
      "state": {
       "_canvases": [
        "IPY_MODEL_932bb638ccb44ac192bcc11f7db79392",
        "IPY_MODEL_c1d921671c6b4814826a8659a103e917",
        "IPY_MODEL_3b96acf55de144379f4b2063a2561baa",
        "IPY_MODEL_9991387e613b48f7a2bb6ebedc3a981b"
       ],
       "_model_module_version": "^0.3.2",
       "_view_module_version": "^0.3.2",
       "layout": "IPY_MODEL_708b1f6b020e44229ff986e3891bc235"
      }
     },
     "12ae90729f134dac8b6f93be3f366485": {
      "model_module": "@jupyter-widgets/base",
      "model_module_version": "1.2.0",
      "model_name": "LayoutModel",
      "state": {
       "height": "115px",
       "width": "165px"
      }
     },
     "1429a3fbfc484703b10416dbafd85d18": {
      "model_module": "ipycanvas",
      "model_module_version": "^0.3.2",
      "model_name": "CanvasModel",
      "state": {
       "_model_module_version": "^0.3.2",
       "_view_module_version": "^0.3.2",
       "layout": "IPY_MODEL_b9bf2ef1c9ba4bf1aa38978a6e8b18cf",
       "size": [
        100,
        100
       ]
      }
     },
     "15812054467f4b0fbbcbf763b0503b0b": {
      "model_module": "ipycanvas",
      "model_module_version": "^0.3.2",
      "model_name": "CanvasModel",
      "state": {
       "_model_module_version": "^0.3.2",
       "_view_module_version": "^0.3.2",
       "layout": "IPY_MODEL_f2f21b3abbf6425f95b3333d5dcb1b9a",
       "size": [
        400,
        280
       ]
      }
     },
     "15cf74e4e99149c3bc6fa35f843f96a4": {
      "model_module": "@jupyter-widgets/base",
      "model_module_version": "1.2.0",
      "model_name": "LayoutModel",
      "state": {
       "height": "200px",
       "width": "200px"
      }
     },
     "15dabb08617047abbdb16fc84bcd1d20": {
      "model_module": "ipycanvas",
      "model_module_version": "^0.3.2",
      "model_name": "CanvasModel",
      "state": {
       "_model_module_version": "^0.3.2",
       "_view_module_version": "^0.3.2",
       "layout": "IPY_MODEL_c3220a0513fe4c3590e18e0777578f3f",
       "size": [
        200,
        200
       ]
      }
     },
     "168d83fe9be842f8b3651a3b38dfccb6": {
      "model_module": "ipycanvas",
      "model_module_version": "^0.3.2",
      "model_name": "CanvasModel",
      "state": {
       "_model_module_version": "^0.3.2",
       "_view_module_version": "^0.3.2",
       "layout": "IPY_MODEL_b5329fd50d1746eb9f3590b17cfcfcff",
       "size": [
        200,
        200
       ]
      }
     },
     "178d8cd9e0054dd6baddd752388fe6e6": {
      "model_module": "@jupyter-widgets/base",
      "model_module_version": "1.2.0",
      "model_name": "LayoutModel",
      "state": {
       "height": "360px",
       "width": "320px"
      }
     },
     "178de2297f7d4e57af426ae40ce30291": {
      "model_module": "ipycanvas",
      "model_module_version": "^0.3.2",
      "model_name": "CanvasModel",
      "state": {
       "_model_module_version": "^0.3.2",
       "_view_module_version": "^0.3.2",
       "layout": "IPY_MODEL_2d3c6e5f10324525aaee432be73090c2",
       "size": [
        100,
        100
       ]
      }
     },
     "18609181242146809cef191a24ce97d4": {
      "model_module": "@jupyter-widgets/base",
      "model_module_version": "1.2.0",
      "model_name": "LayoutModel",
      "state": {
       "height": "120px",
       "width": "100px"
      }
     },
     "18d9846bb6904853bd047bc35e4a8d17": {
      "model_module": "@jupyter-widgets/base",
      "model_module_version": "1.2.0",
      "model_name": "LayoutModel",
      "state": {
       "height": "100px",
       "width": "100px"
      }
     },
     "18e62dd893fe43d08a0a8343f8dfe1a2": {
      "model_module": "@jupyter-widgets/base",
      "model_module_version": "1.2.0",
      "model_name": "LayoutModel",
      "state": {
       "height": "200px",
       "width": "200px"
      }
     },
     "19763b8e5af547ba8bfd780427c65671": {
      "model_module": "ipycanvas",
      "model_module_version": "^0.3.2",
      "model_name": "MultiCanvasModel",
      "state": {
       "_canvases": [
        "IPY_MODEL_df0159d06ef8475b983e08fa25339608",
        "IPY_MODEL_4406da9c6f0c417bae2811e57c3294f1"
       ],
       "_model_module_version": "^0.3.2",
       "_view_module_version": "^0.3.2",
       "layout": "IPY_MODEL_c69ac41d6df9491cbb7d1199de05017d"
      }
     },
     "1993386f98804ba48d06164ce7db310f": {
      "model_module": "ipycanvas",
      "model_module_version": "^0.3.2",
      "model_name": "CanvasModel",
      "state": {
       "_model_module_version": "^0.3.2",
       "_view_module_version": "^0.3.2",
       "layout": "IPY_MODEL_9463254e1d2249d4973a003d09cc5b9e",
       "size": [
        200,
        200
       ]
      }
     },
     "19de02dbd475423bb593619d10db2647": {
      "model_module": "@jupyter-widgets/base",
      "model_module_version": "1.2.0",
      "model_name": "LayoutModel",
      "state": {
       "height": "500px",
       "width": "1000px"
      }
     },
     "19dff2a9b06e4172bb8b1b8a1fcd4d72": {
      "model_module": "ipycanvas",
      "model_module_version": "^0.3.2",
      "model_name": "CanvasModel",
      "state": {
       "_model_module_version": "^0.3.2",
       "_view_module_version": "^0.3.2",
       "layout": "IPY_MODEL_cededce7d9bb42be819207342ab72468",
       "size": [
        100,
        100
       ]
      }
     },
     "19ecd0e1949e49cf86e68cb5550af236": {
      "model_module": "@jupyter-widgets/base",
      "model_module_version": "1.2.0",
      "model_name": "LayoutModel",
      "state": {
       "height": "200px",
       "width": "200px"
      }
     },
     "19f57a595b784f33906d2f05220da945": {
      "model_module": "ipycanvas",
      "model_module_version": "^0.3.2",
      "model_name": "CanvasModel",
      "state": {
       "_model_module_version": "^0.3.2",
       "_view_module_version": "^0.3.2",
       "layout": "IPY_MODEL_e0a305cc5d654ab2a2119dcf6b377a07",
       "size": [
        800,
        500
       ]
      }
     },
     "1a85820a9a7f478eb38840bd27dae52f": {
      "model_module": "@jupyter-widgets/base",
      "model_module_version": "1.2.0",
      "model_name": "LayoutModel",
      "state": {
       "height": "100px",
       "width": "120px"
      }
     },
     "1ac779ebc62b415e8b90007e5aa09398": {
      "model_module": "@jupyter-widgets/base",
      "model_module_version": "1.2.0",
      "model_name": "LayoutModel",
      "state": {
       "height": "100px",
       "width": "100px"
      }
     },
     "1b44c5ed0f1f43499ce1606e2b1e2a79": {
      "model_module": "@jupyter-widgets/base",
      "model_module_version": "1.2.0",
      "model_name": "LayoutModel",
      "state": {}
     },
     "1c418a9407f24249a4b33bac2525c1c4": {
      "model_module": "ipycanvas",
      "model_module_version": "^0.13",
      "model_name": "CanvasModel",
      "state": {
       "_canvas_manager": "IPY_MODEL_2b3f9ff77f2e4d1cb622d2e7f1b56891",
       "_model_module_version": "^0.13",
       "_view_module_version": "^0.13",
       "layout": "IPY_MODEL_82c7119602f0495797433a28d219079d"
      }
     },
     "1c5a6c71b99c4557939d2d25af7941bc": {
      "model_module": "ipycanvas",
      "model_module_version": "^0.3.2",
      "model_name": "CanvasModel",
      "state": {
       "_model_module_version": "^0.3.2",
       "_view_module_version": "^0.3.2",
       "layout": "IPY_MODEL_d5aa01844a12447a8412bd568ed525e3",
       "size": [
        155,
        115
       ]
      }
     },
     "1c8df1b938014864b85678abe176ea04": {
      "model_module": "ipycanvas",
      "model_module_version": "^0.13",
      "model_name": "CanvasModel",
      "state": {
       "_canvas_manager": "IPY_MODEL_a17888730109410cbcbaf78ea646dd3b",
       "_model_module_version": "^0.13",
       "_view_module_version": "^0.13",
       "layout": "IPY_MODEL_73e63ea34cdd4cb6b8dcb7da8bc1680c"
      }
     },
     "1ce10504759446d3a179470efaf15de5": {
      "model_module": "ipycanvas",
      "model_module_version": "^0.3.2",
      "model_name": "CanvasModel",
      "state": {
       "_model_module_version": "^0.3.2",
       "_view_module_version": "^0.3.2",
       "layout": "IPY_MODEL_5848e0ab985343208cdda56ab9a5fa2a",
       "size": [
        200,
        200
       ]
      }
     },
     "1d10d83403684036b391e78ff1ef1d56": {
      "model_module": "ipycanvas",
      "model_module_version": "^0.13",
      "model_name": "CanvasModel",
      "state": {
       "_canvas_manager": "IPY_MODEL_a17888730109410cbcbaf78ea646dd3b",
       "_model_module_version": "^0.13",
       "_view_module_version": "^0.13",
       "layout": "IPY_MODEL_73fca89065d24544abad3ac3b26cc593"
      }
     },
     "1d8d73892430459b9b5fa24190cb8d00": {
      "model_module": "@jupyter-widgets/base",
      "model_module_version": "1.2.0",
      "model_name": "LayoutModel",
      "state": {
       "height": "115px",
       "width": "165px"
      }
     },
     "1e19b4fa89124845bfd60a441748b65c": {
      "model_module": "@jupyter-widgets/base",
      "model_module_version": "1.2.0",
      "model_name": "LayoutModel",
      "state": {
       "height": "115px",
       "width": "165px"
      }
     },
     "1e9e92daaa9f41c7af992c034b3c9b76": {
      "model_module": "@jupyter-widgets/base",
      "model_module_version": "1.2.0",
      "model_name": "LayoutModel",
      "state": {
       "height": "100px",
       "width": "100px"
      }
     },
     "1f148dd8245a49c4b7a8526d79552c1a": {
      "model_module": "ipycanvas",
      "model_module_version": "^0.3.2",
      "model_name": "CanvasModel",
      "state": {
       "_model_module_version": "^0.3.2",
       "_view_module_version": "^0.3.2",
       "layout": "IPY_MODEL_a0c1d21f9ad3474a95e6b4e543db2db0",
       "size": [
        400,
        50
       ]
      }
     },
     "1f5401df2cf7473ca4c41da1b08cc0f8": {
      "model_module": "ipycanvas",
      "model_module_version": "^0.13",
      "model_name": "CanvasModel",
      "state": {
       "_canvas_manager": "IPY_MODEL_a17888730109410cbcbaf78ea646dd3b",
       "_model_module_version": "^0.13",
       "_view_module_version": "^0.13",
       "layout": "IPY_MODEL_83173dc75e054ac5b4b29578898bc4b7"
      }
     },
     "208526b720264ef7add03879912b72ec": {
      "model_module": "ipycanvas",
      "model_module_version": "^0.13",
      "model_name": "CanvasModel",
      "state": {
       "_canvas_manager": "IPY_MODEL_2b3f9ff77f2e4d1cb622d2e7f1b56891",
       "_model_module_version": "^0.13",
       "_view_module_version": "^0.13",
       "layout": "IPY_MODEL_1b44c5ed0f1f43499ce1606e2b1e2a79"
      }
     },
     "210c42901d4d4da3bd24336a41a2187b": {
      "model_module": "ipycanvas",
      "model_module_version": "^0.3.2",
      "model_name": "CanvasModel",
      "state": {
       "_model_module_version": "^0.3.2",
       "_view_module_version": "^0.3.2",
       "layout": "IPY_MODEL_18609181242146809cef191a24ce97d4",
       "size": [
        100,
        120
       ]
      }
     },
     "21e1db8289c34ee7a39d681b9cfa3b38": {
      "model_module": "@jupyter-widgets/base",
      "model_module_version": "1.2.0",
      "model_name": "LayoutModel",
      "state": {
       "height": "200px",
       "width": "200px"
      }
     },
     "2242556f074a4b57aa78ca189e4cfac6": {
      "model_module": "@jupyter-widgets/base",
      "model_module_version": "1.2.0",
      "model_name": "LayoutModel",
      "state": {
       "height": "115px",
       "width": "155px"
      }
     },
     "22bfde42f416458ba52ebf09102241eb": {
      "model_module": "@jupyter-widgets/base",
      "model_module_version": "1.2.0",
      "model_name": "LayoutModel",
      "state": {
       "height": "360px",
       "width": "320px"
      }
     },
     "22e30770001a4888a742166a8fd5d7c1": {
      "model_module": "@jupyter-widgets/base",
      "model_module_version": "1.2.0",
      "model_name": "LayoutModel",
      "state": {}
     },
     "24c4ae19b1e44daf88450be9d674eef9": {
      "model_module": "ipycanvas",
      "model_module_version": "^0.3.2",
      "model_name": "CanvasModel",
      "state": {
       "_model_module_version": "^0.3.2",
       "_view_module_version": "^0.3.2",
       "layout": "IPY_MODEL_bb30058a426f4b89a4057c7fc06c0540",
       "size": [
        165,
        115
       ]
      }
     },
     "256ef60abab64713acc99559b285b087": {
      "model_module": "ipycanvas",
      "model_module_version": "^0.3.2",
      "model_name": "CanvasModel",
      "state": {
       "_model_module_version": "^0.3.2",
       "_view_module_version": "^0.3.2",
       "layout": "IPY_MODEL_ae6896a432484f2ab3fbb074eea98f2a",
       "size": [
        165,
        115
       ]
      }
     },
     "25c188f50c5b42d88acd16ab1c87860d": {
      "model_module": "@jupyter-widgets/base",
      "model_module_version": "1.2.0",
      "model_name": "LayoutModel",
      "state": {}
     },
     "2753edbe488a45ee970b193bea282fbb": {
      "model_module": "@jupyter-widgets/base",
      "model_module_version": "1.2.0",
      "model_name": "LayoutModel",
      "state": {
       "height": "200px",
       "width": "200px"
      }
     },
     "283a8741ade144ee8640afbaca7d0ef5": {
      "model_module": "@jupyter-widgets/base",
      "model_module_version": "1.2.0",
      "model_name": "LayoutModel",
      "state": {
       "height": "100px",
       "width": "120px"
      }
     },
     "288c8eda560e4fb3a6d239f35de1a13e": {
      "model_module": "ipycanvas",
      "model_module_version": "^0.3.2",
      "model_name": "CanvasModel",
      "state": {
       "_model_module_version": "^0.3.2",
       "_view_module_version": "^0.3.2",
       "layout": "IPY_MODEL_33a5371c37df4e4ca1973b5a4bd1a509",
       "size": [
        200,
        200
       ]
      }
     },
     "29462a40ddb9445db44e7f7bc1c6a69b": {
      "model_module": "ipycanvas",
      "model_module_version": "^0.3.2",
      "model_name": "CanvasModel",
      "state": {
       "_model_module_version": "^0.3.2",
       "_view_module_version": "^0.3.2",
       "layout": "IPY_MODEL_a0e6e6985a9f4fc0b9f928157079b78e",
       "size": [
        100,
        100
       ]
      }
     },
     "29a23e18da50473d932b525b9ac70550": {
      "model_module": "ipycanvas",
      "model_module_version": "^0.3.2",
      "model_name": "CanvasModel",
      "state": {
       "_model_module_version": "^0.3.2",
       "_view_module_version": "^0.3.2",
       "layout": "IPY_MODEL_cc2980cc7f2545cbb2b8eb0ceaccc509",
       "size": [
        200,
        200
       ]
      }
     },
     "29ddef7f260245be950fb90b5a52d99e": {
      "model_module": "ipycanvas",
      "model_module_version": "^0.3.2",
      "model_name": "CanvasModel",
      "state": {
       "_model_module_version": "^0.3.2",
       "_view_module_version": "^0.3.2",
       "layout": "IPY_MODEL_e81d4d4e47b6435d8b25546d84ee8dab",
       "size": [
        200,
        200
       ]
      }
     },
     "29f94e5d87c94662a1a748044a5315b6": {
      "model_module": "@jupyter-widgets/base",
      "model_module_version": "1.2.0",
      "model_name": "LayoutModel",
      "state": {
       "height": "115px",
       "width": "165px"
      }
     },
     "2ac7c4ef4ff44d3aab716057cd7926f8": {
      "model_module": "@jupyter-widgets/base",
      "model_module_version": "1.2.0",
      "model_name": "LayoutModel",
      "state": {
       "height": "200px",
       "width": "200px"
      }
     },
     "2b3f9ff77f2e4d1cb622d2e7f1b56891": {
      "model_module": "ipycanvas",
      "model_module_version": "^0.13",
      "model_name": "CanvasManagerModel",
      "state": {
       "_model_module_version": "^0.13",
       "_view_module": null,
       "_view_module_version": ""
      }
     },
     "2b5af6e83b804a6293e202953e81a91c": {
      "model_module": "@jupyter-widgets/base",
      "model_module_version": "1.2.0",
      "model_name": "LayoutModel",
      "state": {
       "height": "100px",
       "width": "100px"
      }
     },
     "2be41439851b417da0885aabaf66db5d": {
      "model_module": "ipycanvas",
      "model_module_version": "^0.3.2",
      "model_name": "CanvasModel",
      "state": {
       "_model_module_version": "^0.3.2",
       "_view_module_version": "^0.3.2",
       "layout": "IPY_MODEL_0abe52a113354a22b031a2fc94bf0c35",
       "size": [
        1000,
        500
       ]
      }
     },
     "2c12d2a1586a45cabc1bade2990be7b9": {
      "model_module": "@jupyter-widgets/base",
      "model_module_version": "1.2.0",
      "model_name": "LayoutModel",
      "state": {
       "height": "50px",
       "width": "400px"
      }
     },
     "2c363310b8f94438aa4ff0374cba2b63": {
      "model_module": "ipycanvas",
      "model_module_version": "^0.3.2",
      "model_name": "CanvasModel",
      "state": {
       "_model_module_version": "^0.3.2",
       "_view_module_version": "^0.3.2",
       "layout": "IPY_MODEL_122ec19666234bac8a075ba76aab5c1e",
       "size": [
        800,
        500
       ]
      }
     },
     "2c465effe6b84da3ada2c64b3b0a96dd": {
      "model_module": "ipycanvas",
      "model_module_version": "^0.3.2",
      "model_name": "CanvasModel",
      "state": {
       "_model_module_version": "^0.3.2",
       "_view_module_version": "^0.3.2",
       "layout": "IPY_MODEL_b357f58a561b429aa435472b8da20f7b",
       "size": [
        200,
        200
       ]
      }
     },
     "2d2df766913c49d08b5b1ba2ee8d89f8": {
      "model_module": "@jupyter-widgets/base",
      "model_module_version": "1.2.0",
      "model_name": "LayoutModel",
      "state": {
       "height": "115px",
       "width": "165px"
      }
     },
     "2d3c6e5f10324525aaee432be73090c2": {
      "model_module": "@jupyter-widgets/base",
      "model_module_version": "1.2.0",
      "model_name": "LayoutModel",
      "state": {
       "height": "100px",
       "width": "100px"
      }
     },
     "2df4c9dbc7a948b3bc5ef0d8bd32b89e": {
      "model_module": "ipycanvas",
      "model_module_version": "^0.3.2",
      "model_name": "CanvasModel",
      "state": {
       "_model_module_version": "^0.3.2",
       "_view_module_version": "^0.3.2",
       "layout": "IPY_MODEL_c528c12b672d46faa10dc63cad9ed4a7",
       "size": [
        165,
        115
       ]
      }
     },
     "2e161941688143a7a15ae981633baa49": {
      "model_module": "@jupyter-widgets/base",
      "model_module_version": "1.2.0",
      "model_name": "LayoutModel",
      "state": {}
     },
     "2e49d9c001b34045992419e94fea875f": {
      "model_module": "ipycanvas",
      "model_module_version": "^0.3.2",
      "model_name": "CanvasModel",
      "state": {
       "_model_module_version": "^0.3.2",
       "_view_module_version": "^0.3.2",
       "layout": "IPY_MODEL_8b8b7e679be44701aa9786b7502fb2c0",
       "size": [
        400,
        50
       ]
      }
     },
     "2e9aa4b1bf934ef49a5d08f5c85136a8": {
      "model_module": "@jupyter-widgets/base",
      "model_module_version": "1.2.0",
      "model_name": "LayoutModel",
      "state": {
       "height": "200px",
       "width": "200px"
      }
     },
     "2ea3328de9a141d192b9f12db5107238": {
      "model_module": "@jupyter-widgets/base",
      "model_module_version": "1.2.0",
      "model_name": "LayoutModel",
      "state": {
       "height": "300px",
       "width": "300px"
      }
     },
     "2ec2299db7604e149d78dd31e87e4ae3": {
      "model_module": "@jupyter-widgets/base",
      "model_module_version": "1.2.0",
      "model_name": "LayoutModel",
      "state": {
       "height": "360px",
       "width": "320px"
      }
     },
     "2eceee49d5d046488aa503c797cc4c7a": {
      "model_module": "@jupyter-widgets/base",
      "model_module_version": "1.2.0",
      "model_name": "LayoutModel",
      "state": {
       "height": "115px",
       "width": "165px"
      }
     },
     "2f7a62d2fcf9485690263bcad5f88064": {
      "model_module": "@jupyter-widgets/base",
      "model_module_version": "1.2.0",
      "model_name": "LayoutModel",
      "state": {
       "height": "115px",
       "width": "165px"
      }
     },
     "2f81c79185884719b690410303d7929c": {
      "model_module": "ipycanvas",
      "model_module_version": "^0.3.2",
      "model_name": "CanvasModel",
      "state": {
       "_model_module_version": "^0.3.2",
       "_view_module_version": "^0.3.2",
       "layout": "IPY_MODEL_04e40968fb4d494880a400211536bb6c",
       "size": [
        100,
        100
       ]
      }
     },
     "2fbef850b7214168b80d27d268554ccf": {
      "model_module": "@jupyter-widgets/base",
      "model_module_version": "1.2.0",
      "model_name": "LayoutModel",
      "state": {}
     },
     "30781f22f0714906b0ed026a07e5eba9": {
      "model_module": "ipycanvas",
      "model_module_version": "^0.3.2",
      "model_name": "CanvasModel",
      "state": {
       "_model_module_version": "^0.3.2",
       "_view_module_version": "^0.3.2",
       "layout": "IPY_MODEL_87459162ed9b4d8e87d39872b27891f3",
       "size": [
        400,
        50
       ]
      }
     },
     "30f8051afc7f41c79925534ba8f96c7a": {
      "model_module": "ipycanvas",
      "model_module_version": "^0.3.2",
      "model_name": "CanvasModel",
      "state": {
       "_model_module_version": "^0.3.2",
       "_view_module_version": "^0.3.2",
       "layout": "IPY_MODEL_6257206637ec48c797dd6152f5fb5b70",
       "size": [
        120,
        100
       ]
      }
     },
     "3110d2db7c5540c596c891d066c87337": {
      "model_module": "@jupyter-widgets/base",
      "model_module_version": "1.2.0",
      "model_name": "LayoutModel",
      "state": {
       "height": "115px",
       "width": "155px"
      }
     },
     "314133464f934b1788d750e0d58e9019": {
      "model_module": "ipycanvas",
      "model_module_version": "^0.3.2",
      "model_name": "CanvasModel",
      "state": {
       "_model_module_version": "^0.3.2",
       "_view_module_version": "^0.3.2",
       "layout": "IPY_MODEL_2e9aa4b1bf934ef49a5d08f5c85136a8",
       "size": [
        200,
        200
       ]
      }
     },
     "316090aaa2fe409c833434824ce528cd": {
      "model_module": "ipycanvas",
      "model_module_version": "^0.3.2",
      "model_name": "MultiCanvasModel",
      "state": {
       "_canvases": [
        "IPY_MODEL_109a27953a954e01987aa1866068b05c",
        "IPY_MODEL_e82afc33eae94b19b6ad13a1b60da8bf"
       ],
       "_model_module_version": "^0.3.2",
       "_view_module_version": "^0.3.2",
       "layout": "IPY_MODEL_3b999b8c528c44e0b9476defb4790b0e"
      }
     },
     "31a47533f5734c42a42c99655bcc5f05": {
      "model_module": "@jupyter-widgets/base",
      "model_module_version": "1.2.0",
      "model_name": "LayoutModel",
      "state": {
       "height": "100px",
       "width": "120px"
      }
     },
     "31a710562a8f49abbe9502651b978c16": {
      "model_module": "@jupyter-widgets/base",
      "model_module_version": "1.2.0",
      "model_name": "LayoutModel",
      "state": {
       "height": "200px",
       "width": "200px"
      }
     },
     "31c611933d5f4acba04e076dd3565ce5": {
      "model_module": "ipycanvas",
      "model_module_version": "^0.13",
      "model_name": "CanvasModel",
      "state": {
       "_canvas_manager": "IPY_MODEL_2b3f9ff77f2e4d1cb622d2e7f1b56891",
       "_model_module_version": "^0.13",
       "_view_module_version": "^0.13",
       "layout": "IPY_MODEL_8d42ea66e2e742cf94627de91896f588"
      }
     },
     "32c33e02a2e0496c8fc028921c0979dd": {
      "model_module": "ipycanvas",
      "model_module_version": "^0.3.2",
      "model_name": "CanvasModel",
      "state": {
       "_model_module_version": "^0.3.2",
       "_view_module_version": "^0.3.2",
       "layout": "IPY_MODEL_be485a209c124fce8a9e0fcfd3d7e3ed",
       "size": [
        100,
        100
       ]
      }
     },
     "32c4c1adae6143bf99fc0b10f2082020": {
      "model_module": "@jupyter-widgets/base",
      "model_module_version": "1.2.0",
      "model_name": "LayoutModel",
      "state": {
       "height": "200px",
       "width": "200px"
      }
     },
     "331dfc3aaa3a4496b4ef9f65f7649b41": {
      "model_module": "ipycanvas",
      "model_module_version": "^0.3.2",
      "model_name": "CanvasModel",
      "state": {
       "_model_module_version": "^0.3.2",
       "_view_module_version": "^0.3.2",
       "layout": "IPY_MODEL_43084c04eb61443aa456c1e28640e789",
       "size": [
        400,
        280
       ]
      }
     },
     "335e1e9fea4d452a8a2dc12e29d1b430": {
      "model_module": "@jupyter-widgets/base",
      "model_module_version": "1.2.0",
      "model_name": "LayoutModel",
      "state": {
       "height": "200px",
       "width": "200px"
      }
     },
     "33a5371c37df4e4ca1973b5a4bd1a509": {
      "model_module": "@jupyter-widgets/base",
      "model_module_version": "1.2.0",
      "model_name": "LayoutModel",
      "state": {
       "height": "200px",
       "width": "200px"
      }
     },
     "33be11fa5fab47ceb1b29aaa780dd72c": {
      "model_module": "@jupyter-widgets/base",
      "model_module_version": "1.2.0",
      "model_name": "LayoutModel",
      "state": {
       "height": "200px",
       "width": "200px"
      }
     },
     "33e5e289f0c148fa8275d0106668c746": {
      "model_module": "@jupyter-widgets/base",
      "model_module_version": "1.2.0",
      "model_name": "LayoutModel",
      "state": {
       "height": "360px",
       "width": "320px"
      }
     },
     "34328453e0e34bffb87ad294a39bbd38": {
      "model_module": "@jupyter-widgets/base",
      "model_module_version": "1.2.0",
      "model_name": "LayoutModel",
      "state": {
       "height": "200px",
       "width": "200px"
      }
     },
     "347bdc2e22ab4c909982196a144e4dc1": {
      "model_module": "@jupyter-widgets/base",
      "model_module_version": "1.2.0",
      "model_name": "LayoutModel",
      "state": {
       "height": "200px",
       "width": "200px"
      }
     },
     "34eaac2c94b74197bc624abe8e802ad6": {
      "model_module": "@jupyter-widgets/base",
      "model_module_version": "1.2.0",
      "model_name": "LayoutModel",
      "state": {
       "height": "100px",
       "width": "100px"
      }
     },
     "355e355c416f4387868ba9035f8a161f": {
      "model_module": "ipycanvas",
      "model_module_version": "^0.3.2",
      "model_name": "MultiCanvasModel",
      "state": {
       "_canvases": [
        "IPY_MODEL_439bfd7d2e9340319cc9f4fdbcf2f5d0",
        "IPY_MODEL_1ce10504759446d3a179470efaf15de5",
        "IPY_MODEL_0851906c7bf0488f8cfc8e906dda23bd",
        "IPY_MODEL_709b69e34cfc4ce4b2bb3387e01f66d2"
       ],
       "_model_module_version": "^0.3.2",
       "_view_module_version": "^0.3.2",
       "layout": "IPY_MODEL_b2c9e535f2524ea0952e6c1112bc4870"
      }
     },
     "3597b64f0de148b2b99f74087f26260e": {
      "model_module": "ipycanvas",
      "model_module_version": "^0.3.2",
      "model_name": "CanvasModel",
      "state": {
       "_model_module_version": "^0.3.2",
       "_view_module_version": "^0.3.2",
       "layout": "IPY_MODEL_85a8a78bfcc74a0d9a9bd9e23f692ec5",
       "size": [
        165,
        115
       ]
      }
     },
     "35b6aff5f39943eaa895ff9deafdf482": {
      "model_module": "ipycanvas",
      "model_module_version": "^0.13",
      "model_name": "CanvasModel",
      "state": {
       "_canvas_manager": "IPY_MODEL_a17888730109410cbcbaf78ea646dd3b",
       "_model_module_version": "^0.13",
       "_view_module_version": "^0.13",
       "layout": "IPY_MODEL_e10870a9e66f45bc9713b617f717cacb"
      }
     },
     "35c97fc34dd5489885ed6b0898b7b0a2": {
      "model_module": "ipycanvas",
      "model_module_version": "^0.3.2",
      "model_name": "CanvasModel",
      "state": {
       "_model_module_version": "^0.3.2",
       "_view_module_version": "^0.3.2",
       "layout": "IPY_MODEL_01a71917bdd44157b811ef102ca78cd8",
       "size": [
        200,
        200
       ]
      }
     },
     "36024713edc34722a4cc8cd74f280b20": {
      "model_module": "ipycanvas",
      "model_module_version": "^0.3.2",
      "model_name": "CanvasModel",
      "state": {
       "_model_module_version": "^0.3.2",
       "_view_module_version": "^0.3.2",
       "layout": "IPY_MODEL_e6c01ce7a6634ac0906d16d2fce2bd6d",
       "size": [
        200,
        200
       ]
      }
     },
     "36505692e10144c7b6b8fc762bd0b0a2": {
      "model_module": "ipycanvas",
      "model_module_version": "^0.3.2",
      "model_name": "CanvasModel",
      "state": {
       "_model_module_version": "^0.3.2",
       "_view_module_version": "^0.3.2",
       "layout": "IPY_MODEL_c6540b4703da467bab8b9fd16d6ff0d1",
       "size": [
        100,
        100
       ]
      }
     },
     "36de65ef2c7a43d0811b9766f8424b67": {
      "model_module": "ipycanvas",
      "model_module_version": "^0.3.2",
      "model_name": "CanvasModel",
      "state": {
       "_model_module_version": "^0.3.2",
       "_view_module_version": "^0.3.2",
       "layout": "IPY_MODEL_aaa6fb171db64cbfab2189c05f249f1e",
       "size": [
        100,
        100
       ]
      }
     },
     "37120c1812e2440798ac7a5752a0ece1": {
      "model_module": "ipycanvas",
      "model_module_version": "^0.3.2",
      "model_name": "CanvasModel",
      "state": {
       "_model_module_version": "^0.3.2",
       "_view_module_version": "^0.3.2",
       "layout": "IPY_MODEL_45f3167d8247423d81a954eb633360ee",
       "size": [
        165,
        115
       ]
      }
     },
     "393dad8d3b1b4e84a06aad02f0573e9f": {
      "model_module": "@jupyter-widgets/base",
      "model_module_version": "1.2.0",
      "model_name": "LayoutModel",
      "state": {}
     },
     "396ebbe1939947d9a7114224777284ff": {
      "model_module": "ipycanvas",
      "model_module_version": "^0.3.2",
      "model_name": "CanvasModel",
      "state": {
       "_model_module_version": "^0.3.2",
       "_view_module_version": "^0.3.2",
       "layout": "IPY_MODEL_103409372357485a8bb7c08a584f1920",
       "size": [
        600,
        600
       ]
      }
     },
     "397021f5881a4b6b8a6d6bb4cdd82fa0": {
      "model_module": "@jupyter-widgets/base",
      "model_module_version": "1.2.0",
      "model_name": "LayoutModel",
      "state": {
       "height": "600px",
       "width": "600px"
      }
     },
     "397b7cf61158484e98d816058c8a8994": {
      "model_module": "ipycanvas",
      "model_module_version": "^0.3.2",
      "model_name": "CanvasModel",
      "state": {
       "_model_module_version": "^0.3.2",
       "_view_module_version": "^0.3.2",
       "layout": "IPY_MODEL_5ce41d62747a4143a835336808651f40",
       "size": [
        200,
        200
       ]
      }
     },
     "39e80a60342e45bfa638d2d832b9d0cd": {
      "model_module": "ipycanvas",
      "model_module_version": "^0.3.2",
      "model_name": "CanvasModel",
      "state": {
       "_model_module_version": "^0.3.2",
       "_view_module_version": "^0.3.2",
       "layout": "IPY_MODEL_764c9b56a8244fdfb2a48ee0097c31fe",
       "size": [
        100,
        100
       ]
      }
     },
     "3a0f06d823054ca48041556730e21351": {
      "model_module": "@jupyter-widgets/base",
      "model_module_version": "1.2.0",
      "model_name": "LayoutModel",
      "state": {}
     },
     "3adbebc4edb64c0899acbef3b8377ca0": {
      "model_module": "ipycanvas",
      "model_module_version": "^0.3.2",
      "model_name": "MultiCanvasModel",
      "state": {
       "_canvases": [
        "IPY_MODEL_95be07f1630c4ba080692bd27d8501a7",
        "IPY_MODEL_6866f1e85e814e2086744bed2ab2910b",
        "IPY_MODEL_018820a8686f44eeb462c7531c11411d",
        "IPY_MODEL_49b069a6d33e4e0c862e30c4ae717122"
       ],
       "_model_module_version": "^0.3.2",
       "_view_module_version": "^0.3.2",
       "layout": "IPY_MODEL_6c4d8a3dc23042fa83d630c141548481"
      }
     },
     "3b1e85eb2f7f4d1d8a4ebdf4173ded13": {
      "model_module": "@jupyter-widgets/base",
      "model_module_version": "1.2.0",
      "model_name": "LayoutModel",
      "state": {}
     },
     "3b7d737b687f4bde8c07b1d2a53449b0": {
      "model_module": "@jupyter-widgets/base",
      "model_module_version": "1.2.0",
      "model_name": "LayoutModel",
      "state": {
       "height": "200px",
       "width": "200px"
      }
     },
     "3b96acf55de144379f4b2063a2561baa": {
      "model_module": "ipycanvas",
      "model_module_version": "^0.3.2",
      "model_name": "CanvasModel",
      "state": {
       "_model_module_version": "^0.3.2",
       "_view_module_version": "^0.3.2",
       "layout": "IPY_MODEL_3f9016d2e7734e968d402a6399673f59",
       "size": [
        200,
        200
       ]
      }
     },
     "3b999b8c528c44e0b9476defb4790b0e": {
      "model_module": "@jupyter-widgets/base",
      "model_module_version": "1.2.0",
      "model_name": "LayoutModel",
      "state": {
       "height": "115px",
       "width": "165px"
      }
     },
     "3c3befaa356045d4b2db0a736450e673": {
      "model_module": "ipycanvas",
      "model_module_version": "^0.13",
      "model_name": "CanvasModel",
      "state": {
       "_canvas_manager": "IPY_MODEL_2b3f9ff77f2e4d1cb622d2e7f1b56891",
       "_model_module_version": "^0.13",
       "_view_module_version": "^0.13",
       "layout": "IPY_MODEL_4138a1b027b04a7382cc46be617bec10"
      }
     },
     "3c3c08667a484f8ca85588bcc4fbe958": {
      "model_module": "@jupyter-widgets/base",
      "model_module_version": "1.2.0",
      "model_name": "LayoutModel",
      "state": {
       "height": "200px",
       "width": "200px"
      }
     },
     "3cbe4b4a2dbd4d6692add7b1847341ec": {
      "model_module": "ipycanvas",
      "model_module_version": "^0.3.2",
      "model_name": "CanvasModel",
      "state": {
       "_model_module_version": "^0.3.2",
       "_view_module_version": "^0.3.2",
       "layout": "IPY_MODEL_8cbcdcff15634357a1824fb483ae0df6",
       "size": [
        100,
        100
       ]
      }
     },
     "3d136d05c0744574b14b9cae02105c8d": {
      "model_module": "ipycanvas",
      "model_module_version": "^0.3.2",
      "model_name": "CanvasModel",
      "state": {
       "_model_module_version": "^0.3.2",
       "_view_module_version": "^0.3.2",
       "layout": "IPY_MODEL_eaf124931d0f43f89c71180dce1ba7a5",
       "size": [
        165,
        115
       ]
      }
     },
     "3dc6bb5b3f9d48aebd810659bb87a646": {
      "model_module": "ipycanvas",
      "model_module_version": "^0.3.2",
      "model_name": "CanvasModel",
      "state": {
       "_model_module_version": "^0.3.2",
       "_view_module_version": "^0.3.2",
       "layout": "IPY_MODEL_dc4ecee532f248fe8ea3ab32cf768950",
       "size": [
        1000,
        500
       ]
      }
     },
     "3dd9a225d33b4716acf9e057f3651081": {
      "model_module": "ipycanvas",
      "model_module_version": "^0.3.2",
      "model_name": "CanvasModel",
      "state": {
       "_model_module_version": "^0.3.2",
       "_view_module_version": "^0.3.2",
       "layout": "IPY_MODEL_01bb9d46488d4bc8a3a98dede8d259f0",
       "size": [
        110,
        110
       ]
      }
     },
     "3e49970d09a7463e879d153b6fb0ebde": {
      "model_module": "ipycanvas",
      "model_module_version": "^0.3.2",
      "model_name": "MultiCanvasModel",
      "state": {
       "_canvases": [
        "IPY_MODEL_830637039e1545c9a4d0b2c15a9f26da",
        "IPY_MODEL_ff722186114f461998c8d7d344930f33"
       ],
       "_model_module_version": "^0.3.2",
       "_view_module_version": "^0.3.2",
       "layout": "IPY_MODEL_2f7a62d2fcf9485690263bcad5f88064"
      }
     },
     "3e77915ae440425690eb3028cbcae574": {
      "model_module": "@jupyter-widgets/base",
      "model_module_version": "1.2.0",
      "model_name": "LayoutModel",
      "state": {
       "height": "200px",
       "width": "200px"
      }
     },
     "3e79784708b14339bddf7a8172f9fd8c": {
      "model_module": "@jupyter-widgets/base",
      "model_module_version": "1.2.0",
      "model_name": "LayoutModel",
      "state": {
       "height": "600px",
       "width": "600px"
      }
     },
     "3eb8751022c64ccfaa89b5c534b2213b": {
      "model_module": "@jupyter-widgets/base",
      "model_module_version": "1.2.0",
      "model_name": "LayoutModel",
      "state": {
       "height": "100px",
       "width": "100px"
      }
     },
     "3ebdc97795e54c3fae7b86d7ef9df8f4": {
      "model_module": "@jupyter-widgets/base",
      "model_module_version": "1.2.0",
      "model_name": "LayoutModel",
      "state": {
       "height": "115px",
       "width": "165px"
      }
     },
     "3f792f37da264cd082a1af66dc1300ba": {
      "model_module": "@jupyter-widgets/base",
      "model_module_version": "1.2.0",
      "model_name": "LayoutModel",
      "state": {
       "height": "200px",
       "width": "200px"
      }
     },
     "3f9016d2e7734e968d402a6399673f59": {
      "model_module": "@jupyter-widgets/base",
      "model_module_version": "1.2.0",
      "model_name": "LayoutModel",
      "state": {
       "height": "200px",
       "width": "200px"
      }
     },
     "3fb0347a626c4f54a802b526b26d9f37": {
      "model_module": "@jupyter-widgets/base",
      "model_module_version": "1.2.0",
      "model_name": "LayoutModel",
      "state": {
       "height": "100px",
       "width": "120px"
      }
     },
     "408bdef520dc40128d2dcd4e7abf2df9": {
      "model_module": "@jupyter-widgets/base",
      "model_module_version": "1.2.0",
      "model_name": "LayoutModel",
      "state": {
       "height": "200px",
       "width": "200px"
      }
     },
     "40f5b493e626431392d9ab72a5014599": {
      "model_module": "ipycanvas",
      "model_module_version": "^0.3.2",
      "model_name": "MultiCanvasModel",
      "state": {
       "_canvases": [
        "IPY_MODEL_87fab345f1a14d4b8c3f1fe488cb388a",
        "IPY_MODEL_ec9a57b4b00e4e74a426367fba94d65d"
       ],
       "_model_module_version": "^0.3.2",
       "_view_module_version": "^0.3.2",
       "layout": "IPY_MODEL_54077e9c84ec4d3395409183de86962a"
      }
     },
     "4123040ce87e44469b69d6e429810f7c": {
      "model_module": "ipycanvas",
      "model_module_version": "^0.3.2",
      "model_name": "CanvasModel",
      "state": {
       "_model_module_version": "^0.3.2",
       "_view_module_version": "^0.3.2",
       "layout": "IPY_MODEL_9a233b9617e64c668c32bc101359dd90",
       "size": [
        165,
        115
       ]
      }
     },
     "4138a1b027b04a7382cc46be617bec10": {
      "model_module": "@jupyter-widgets/base",
      "model_module_version": "1.2.0",
      "model_name": "LayoutModel",
      "state": {}
     },
     "4148f74e409f439099bb116c2029c436": {
      "model_module": "@jupyter-widgets/base",
      "model_module_version": "1.2.0",
      "model_name": "LayoutModel",
      "state": {
       "height": "115px",
       "width": "165px"
      }
     },
     "418fdfa0b8c94665b91ebc8a5abf6068": {
      "model_module": "@jupyter-widgets/base",
      "model_module_version": "1.2.0",
      "model_name": "LayoutModel",
      "state": {
       "height": "200px",
       "width": "200px"
      }
     },
     "4216d13d608e44668f180b13849d16f5": {
      "model_module": "@jupyter-widgets/base",
      "model_module_version": "1.2.0",
      "model_name": "LayoutModel",
      "state": {
       "height": "50px",
       "width": "400px"
      }
     },
     "42da8705123b40babba0d7d4f73d79e4": {
      "model_module": "@jupyter-widgets/base",
      "model_module_version": "1.2.0",
      "model_name": "LayoutModel",
      "state": {
       "height": "500px",
       "width": "1000px"
      }
     },
     "42e124f65b8a40bba170b2f794fe9dcc": {
      "model_module": "ipycanvas",
      "model_module_version": "^0.3.2",
      "model_name": "CanvasModel",
      "state": {
       "_model_module_version": "^0.3.2",
       "_view_module_version": "^0.3.2",
       "layout": "IPY_MODEL_b4b431d913ca436ca6d2ac1052615289",
       "size": [
        200,
        200
       ]
      }
     },
     "43084c04eb61443aa456c1e28640e789": {
      "model_module": "@jupyter-widgets/base",
      "model_module_version": "1.2.0",
      "model_name": "LayoutModel",
      "state": {
       "height": "280px",
       "width": "400px"
      }
     },
     "439bfd7d2e9340319cc9f4fdbcf2f5d0": {
      "model_module": "ipycanvas",
      "model_module_version": "^0.3.2",
      "model_name": "CanvasModel",
      "state": {
       "_model_module_version": "^0.3.2",
       "_view_module_version": "^0.3.2",
       "layout": "IPY_MODEL_b3de05f4f4a7430dadf40fca906b2aa7",
       "size": [
        200,
        200
       ]
      }
     },
     "43bf53a1c9574004b6b7b0619f89b5a1": {
      "model_module": "ipycanvas",
      "model_module_version": "^0.3.2",
      "model_name": "CanvasModel",
      "state": {
       "_model_module_version": "^0.3.2",
       "_view_module_version": "^0.3.2",
       "layout": "IPY_MODEL_d183761106d5444e9c2f008f100d5e55",
       "size": [
        200,
        200
       ]
      }
     },
     "43d1503b8cd0415e95882b87f9d00885": {
      "model_module": "@jupyter-widgets/base",
      "model_module_version": "1.2.0",
      "model_name": "LayoutModel",
      "state": {
       "height": "200px",
       "width": "200px"
      }
     },
     "4406da9c6f0c417bae2811e57c3294f1": {
      "model_module": "ipycanvas",
      "model_module_version": "^0.3.2",
      "model_name": "CanvasModel",
      "state": {
       "_model_module_version": "^0.3.2",
       "_view_module_version": "^0.3.2",
       "layout": "IPY_MODEL_9d064b74685a48e4ab2b8c59e5b7cbc1",
       "size": [
        165,
        115
       ]
      }
     },
     "4419d44390c344168be0511d7ce30c3f": {
      "model_module": "ipycanvas",
      "model_module_version": "^0.3.2",
      "model_name": "CanvasModel",
      "state": {
       "_model_module_version": "^0.3.2",
       "_view_module_version": "^0.3.2",
       "layout": "IPY_MODEL_4a987081b7ed46ca8cfbe44e974b190d",
       "size": [
        100,
        110
       ]
      }
     },
     "4422d6698abc43b08ae535c6b4c2a9a5": {
      "model_module": "@jupyter-widgets/base",
      "model_module_version": "1.2.0",
      "model_name": "LayoutModel",
      "state": {
       "height": "115px",
       "width": "165px"
      }
     },
     "443df542b96f47abaccb3b645341f1fe": {
      "model_module": "ipycanvas",
      "model_module_version": "^0.3.2",
      "model_name": "CanvasModel",
      "state": {
       "_model_module_version": "^0.3.2",
       "_view_module_version": "^0.3.2",
       "layout": "IPY_MODEL_c5a83f8e06df4e7a87682acef4ea653e",
       "size": [
        200,
        200
       ]
      }
     },
     "4443b8f23480403fa56e6ffbe390c3ec": {
      "model_module": "ipycanvas",
      "model_module_version": "^0.3.2",
      "model_name": "CanvasModel",
      "state": {
       "_model_module_version": "^0.3.2",
       "_view_module_version": "^0.3.2",
       "layout": "IPY_MODEL_e1b753a6d5d34e3d864a55b589860f6d",
       "size": [
        200,
        200
       ]
      }
     },
     "444d1757c93146ba819c04c5ec64e97d": {
      "model_module": "@jupyter-widgets/base",
      "model_module_version": "1.2.0",
      "model_name": "LayoutModel",
      "state": {
       "height": "200px",
       "width": "200px"
      }
     },
     "4468c9a175d14b5f93a6011e7770c7eb": {
      "model_module": "@jupyter-widgets/base",
      "model_module_version": "1.2.0",
      "model_name": "LayoutModel",
      "state": {
       "height": "200px",
       "width": "200px"
      }
     },
     "4504278970b04910bf7656398af7d1db": {
      "model_module": "@jupyter-widgets/base",
      "model_module_version": "1.2.0",
      "model_name": "LayoutModel",
      "state": {}
     },
     "45142ab9bf634a67bc7fdcb5d36535c1": {
      "model_module": "@jupyter-widgets/base",
      "model_module_version": "1.2.0",
      "model_name": "LayoutModel",
      "state": {
       "height": "200px",
       "width": "200px"
      }
     },
     "458b98e6ee0d4134b198d64844b64f8f": {
      "model_module": "@jupyter-widgets/base",
      "model_module_version": "1.2.0",
      "model_name": "LayoutModel",
      "state": {
       "height": "100px",
       "width": "100px"
      }
     },
     "45f3167d8247423d81a954eb633360ee": {
      "model_module": "@jupyter-widgets/base",
      "model_module_version": "1.2.0",
      "model_name": "LayoutModel",
      "state": {
       "height": "115px",
       "width": "165px"
      }
     },
     "467401815e5a41aa88c1cf6f50aa4941": {
      "model_module": "@jupyter-widgets/base",
      "model_module_version": "1.2.0",
      "model_name": "LayoutModel",
      "state": {}
     },
     "4752d355b7174c1d9adad96a5e48f9ef": {
      "model_module": "ipycanvas",
      "model_module_version": "^0.3.2",
      "model_name": "MultiCanvasModel",
      "state": {
       "_canvases": [
        "IPY_MODEL_b3db98e321e342a6a0ba9f8f87a1d283",
        "IPY_MODEL_a2973ccf3bea43ddb929b578306253fa"
       ],
       "_model_module_version": "^0.3.2",
       "_view_module_version": "^0.3.2",
       "layout": "IPY_MODEL_3ebdc97795e54c3fae7b86d7ef9df8f4"
      }
     },
     "47e6f26ad7624ecb8ff9fc4cd80a080d": {
      "model_module": "ipycanvas",
      "model_module_version": "^0.3.2",
      "model_name": "CanvasModel",
      "state": {
       "_model_module_version": "^0.3.2",
       "_view_module_version": "^0.3.2",
       "layout": "IPY_MODEL_d1adf24170744b609cf9e3910a89e2c8",
       "size": [
        800,
        500
       ]
      }
     },
     "48727c34c0d64a0892dbe312f15c3947": {
      "model_module": "@jupyter-widgets/base",
      "model_module_version": "1.2.0",
      "model_name": "LayoutModel",
      "state": {
       "height": "200px",
       "width": "200px"
      }
     },
     "48ab18614fbf45b4ab0a7b3368fbf20b": {
      "model_module": "ipycanvas",
      "model_module_version": "^0.3.2",
      "model_name": "CanvasModel",
      "state": {
       "_model_module_version": "^0.3.2",
       "_view_module_version": "^0.3.2",
       "layout": "IPY_MODEL_9e922299d1654166bc1c6a9057de8776",
       "size": [
        1000,
        500
       ]
      }
     },
     "48de48bfc3c74c448233e05ba3bd5194": {
      "model_module": "@jupyter-widgets/base",
      "model_module_version": "1.2.0",
      "model_name": "LayoutModel",
      "state": {
       "height": "200px",
       "width": "200px"
      }
     },
     "4960948886f0491eb3ae07319b227c4d": {
      "model_module": "ipycanvas",
      "model_module_version": "^0.3.2",
      "model_name": "CanvasModel",
      "state": {
       "_model_module_version": "^0.3.2",
       "_view_module_version": "^0.3.2",
       "layout": "IPY_MODEL_4e50f4975c20492ba1a98d6b97fb0a29",
       "size": [
        200,
        200
       ]
      }
     },
     "49765a7fca3a4c0bbbc71870186381d7": {
      "model_module": "@jupyter-widgets/base",
      "model_module_version": "1.2.0",
      "model_name": "LayoutModel",
      "state": {
       "height": "200px",
       "width": "200px"
      }
     },
     "49b069a6d33e4e0c862e30c4ae717122": {
      "model_module": "ipycanvas",
      "model_module_version": "^0.3.2",
      "model_name": "CanvasModel",
      "state": {
       "_model_module_version": "^0.3.2",
       "_view_module_version": "^0.3.2",
       "layout": "IPY_MODEL_3c3c08667a484f8ca85588bcc4fbe958",
       "size": [
        200,
        200
       ]
      }
     },
     "49faf5e3419a41ccbb5e23abcba8e331": {
      "model_module": "ipycanvas",
      "model_module_version": "^0.3.2",
      "model_name": "CanvasModel",
      "state": {
       "_model_module_version": "^0.3.2",
       "_view_module_version": "^0.3.2",
       "layout": "IPY_MODEL_683d0572c3a949c1ad3247cc90826c64",
       "size": [
        1000,
        500
       ]
      }
     },
     "4a0bb84e362b45409ab4c473f1f30d4c": {
      "model_module": "@jupyter-widgets/base",
      "model_module_version": "1.2.0",
      "model_name": "LayoutModel",
      "state": {
       "height": "100px",
       "width": "100px"
      }
     },
     "4a830e7e2d834a02837e4e205ae9741f": {
      "model_module": "ipycanvas",
      "model_module_version": "^0.3.2",
      "model_name": "CanvasModel",
      "state": {
       "_model_module_version": "^0.3.2",
       "_view_module_version": "^0.3.2",
       "layout": "IPY_MODEL_3f792f37da264cd082a1af66dc1300ba",
       "size": [
        200,
        200
       ]
      }
     },
     "4a987081b7ed46ca8cfbe44e974b190d": {
      "model_module": "@jupyter-widgets/base",
      "model_module_version": "1.2.0",
      "model_name": "LayoutModel",
      "state": {
       "height": "110px",
       "width": "100px"
      }
     },
     "4b05ec787dbe4d68b559f756e615ce60": {
      "model_module": "ipycanvas",
      "model_module_version": "^0.3.2",
      "model_name": "CanvasModel",
      "state": {
       "_model_module_version": "^0.3.2",
       "_view_module_version": "^0.3.2",
       "layout": "IPY_MODEL_ad0244570d8f4c04951a16494115bb75",
       "size": [
        200,
        200
       ]
      }
     },
     "4b0deb6f28b94a15a74a18a579abf86e": {
      "model_module": "ipycanvas",
      "model_module_version": "^0.3.2",
      "model_name": "CanvasModel",
      "state": {
       "_model_module_version": "^0.3.2",
       "_view_module_version": "^0.3.2",
       "layout": "IPY_MODEL_4216d13d608e44668f180b13849d16f5",
       "size": [
        400,
        50
       ]
      }
     },
     "4b2e135243a74df8a252415896ca3276": {
      "model_module": "ipycanvas",
      "model_module_version": "^0.3.2",
      "model_name": "CanvasModel",
      "state": {
       "_model_module_version": "^0.3.2",
       "_view_module_version": "^0.3.2",
       "layout": "IPY_MODEL_bb9ed6adc55040dc8c25a90b002a92f0",
       "size": [
        200,
        200
       ]
      }
     },
     "4b46a70a306f4cf1809e35f70b4062d1": {
      "model_module": "@jupyter-widgets/base",
      "model_module_version": "1.2.0",
      "model_name": "LayoutModel",
      "state": {
       "height": "100px",
       "width": "100px"
      }
     },
     "4bb097f1fc1f4f1db63f30b12dc6ce2b": {
      "model_module": "@jupyter-widgets/base",
      "model_module_version": "1.2.0",
      "model_name": "LayoutModel",
      "state": {
       "height": "115px",
       "width": "165px"
      }
     },
     "4bee6f600e2241c1b3dd3621137c9e9a": {
      "model_module": "ipycanvas",
      "model_module_version": "^0.3.2",
      "model_name": "CanvasModel",
      "state": {
       "_model_module_version": "^0.3.2",
       "_view_module_version": "^0.3.2",
       "layout": "IPY_MODEL_5223347cfdf44487a85e8ebdeb59ad11",
       "size": [
        200,
        200
       ]
      }
     },
     "4c40a24d6782410fbe76098fa9a99eb7": {
      "model_module": "ipycanvas",
      "model_module_version": "^0.13",
      "model_name": "CanvasModel",
      "state": {
       "_canvas_manager": "IPY_MODEL_a17888730109410cbcbaf78ea646dd3b",
       "_model_module_version": "^0.13",
       "_view_module_version": "^0.13",
       "layout": "IPY_MODEL_6edba9929fe84e54bc5bc9e9a0142ec6"
      }
     },
     "4d774b42041946fea8b8484b427f4fbb": {
      "model_module": "ipycanvas",
      "model_module_version": "^0.3.2",
      "model_name": "CanvasModel",
      "state": {
       "_model_module_version": "^0.3.2",
       "_view_module_version": "^0.3.2",
       "layout": "IPY_MODEL_1a85820a9a7f478eb38840bd27dae52f",
       "size": [
        120,
        100
       ]
      }
     },
     "4da0f20a01a145968e34a97f0f7d91dd": {
      "model_module": "ipycanvas",
      "model_module_version": "^0.3.2",
      "model_name": "CanvasModel",
      "state": {
       "_model_module_version": "^0.3.2",
       "_view_module_version": "^0.3.2",
       "layout": "IPY_MODEL_f92cf0a49a80423087a0e64192c5f85d",
       "size": [
        800,
        500
       ]
      }
     },
     "4db31a69894a41c9a0bcc60828e85107": {
      "model_module": "@jupyter-widgets/base",
      "model_module_version": "1.2.0",
      "model_name": "LayoutModel",
      "state": {
       "height": "200px",
       "width": "200px"
      }
     },
     "4dba758ab0444752bf6d203aed608036": {
      "model_module": "@jupyter-widgets/base",
      "model_module_version": "1.2.0",
      "model_name": "LayoutModel",
      "state": {}
     },
     "4dff3b73ca7345058945cef59896284d": {
      "model_module": "ipycanvas",
      "model_module_version": "^0.3.2",
      "model_name": "CanvasModel",
      "state": {
       "_model_module_version": "^0.3.2",
       "_view_module_version": "^0.3.2",
       "layout": "IPY_MODEL_43d1503b8cd0415e95882b87f9d00885",
       "size": [
        200,
        200
       ]
      }
     },
     "4e0460c0c5124f568fab5663bff09496": {
      "model_module": "ipycanvas",
      "model_module_version": "^0.3.2",
      "model_name": "CanvasModel",
      "state": {
       "_model_module_version": "^0.3.2",
       "_view_module_version": "^0.3.2",
       "layout": "IPY_MODEL_a35f0b174b58448895d65025ac767e66",
       "size": [
        200,
        200
       ]
      }
     },
     "4e50f4975c20492ba1a98d6b97fb0a29": {
      "model_module": "@jupyter-widgets/base",
      "model_module_version": "1.2.0",
      "model_name": "LayoutModel",
      "state": {
       "height": "200px",
       "width": "200px"
      }
     },
     "4eab850f407d40c9a09af6318e09b02b": {
      "model_module": "ipycanvas",
      "model_module_version": "^0.13",
      "model_name": "CanvasModel",
      "state": {
       "_canvas_manager": "IPY_MODEL_a17888730109410cbcbaf78ea646dd3b",
       "_model_module_version": "^0.13",
       "_view_module_version": "^0.13",
       "layout": "IPY_MODEL_cbfcf559e5b44d7fbf56848969ad851a"
      }
     },
     "4ef859dddee640c0b9797e5fe32e3cc8": {
      "model_module": "@jupyter-widgets/base",
      "model_module_version": "1.2.0",
      "model_name": "LayoutModel",
      "state": {
       "height": "115px",
       "width": "165px"
      }
     },
     "4f3d19a307a74f2bb39b351716436e38": {
      "model_module": "ipycanvas",
      "model_module_version": "^0.13",
      "model_name": "CanvasModel",
      "state": {
       "_canvas_manager": "IPY_MODEL_2b3f9ff77f2e4d1cb622d2e7f1b56891",
       "_model_module_version": "^0.13",
       "_view_module_version": "^0.13",
       "layout": "IPY_MODEL_e585a7335c074f07a14042449f6ac227"
      }
     },
     "4f431ac199244554902bb8550f392bd7": {
      "model_module": "ipycanvas",
      "model_module_version": "^0.3.2",
      "model_name": "CanvasModel",
      "state": {
       "_model_module_version": "^0.3.2",
       "_view_module_version": "^0.3.2",
       "layout": "IPY_MODEL_79355d7c765548bc8bc53a02df0f63ee",
       "size": [
        200,
        200
       ]
      }
     },
     "4f4f7360c7a744e285c0ae6a159229c6": {
      "model_module": "@jupyter-widgets/base",
      "model_module_version": "1.2.0",
      "model_name": "LayoutModel",
      "state": {
       "height": "200px",
       "width": "200px"
      }
     },
     "4fca97ff79ee4ebb85a892fddabe63e2": {
      "model_module": "@jupyter-widgets/base",
      "model_module_version": "1.2.0",
      "model_name": "LayoutModel",
      "state": {
       "height": "100px",
       "width": "100px"
      }
     },
     "5056edfb15904da48826ce92086dc71d": {
      "model_module": "ipycanvas",
      "model_module_version": "^0.3.2",
      "model_name": "MultiCanvasModel",
      "state": {
       "_canvases": [
        "IPY_MODEL_ccd85183fd884a28925f6524e930325b",
        "IPY_MODEL_fc55318440024d1db8dbf1dc176a7e24"
       ],
       "_model_module_version": "^0.3.2",
       "_view_module_version": "^0.3.2",
       "layout": "IPY_MODEL_2d2df766913c49d08b5b1ba2ee8d89f8"
      }
     },
     "50f57d0d2d2441fd872f4edb0118e0a6": {
      "model_module": "ipycanvas",
      "model_module_version": "^0.3.2",
      "model_name": "CanvasModel",
      "state": {
       "_model_module_version": "^0.3.2",
       "_view_module_version": "^0.3.2",
       "layout": "IPY_MODEL_4fca97ff79ee4ebb85a892fddabe63e2",
       "size": [
        100,
        100
       ]
      }
     },
     "512f088490f54486bf079acef510790f": {
      "model_module": "@jupyter-widgets/base",
      "model_module_version": "1.2.0",
      "model_name": "LayoutModel",
      "state": {
       "height": "50px",
       "width": "400px"
      }
     },
     "513a84244aa345cd973ca78720f8291d": {
      "model_module": "ipycanvas",
      "model_module_version": "^0.13",
      "model_name": "CanvasModel",
      "state": {
       "_canvas_manager": "IPY_MODEL_a17888730109410cbcbaf78ea646dd3b",
       "_model_module_version": "^0.13",
       "_view_module_version": "^0.13",
       "layout": "IPY_MODEL_25c188f50c5b42d88acd16ab1c87860d"
      }
     },
     "513f809ddfc64a5d81e318c25f4c6de6": {
      "model_module": "ipycanvas",
      "model_module_version": "^0.3.2",
      "model_name": "CanvasModel",
      "state": {
       "_model_module_version": "^0.3.2",
       "_view_module_version": "^0.3.2",
       "layout": "IPY_MODEL_1ac779ebc62b415e8b90007e5aa09398",
       "size": [
        100,
        100
       ]
      }
     },
     "5223347cfdf44487a85e8ebdeb59ad11": {
      "model_module": "@jupyter-widgets/base",
      "model_module_version": "1.2.0",
      "model_name": "LayoutModel",
      "state": {
       "height": "200px",
       "width": "200px"
      }
     },
     "52266217dd714b87bdad40707a090122": {
      "model_module": "@jupyter-widgets/base",
      "model_module_version": "1.2.0",
      "model_name": "LayoutModel",
      "state": {
       "height": "200px",
       "width": "200px"
      }
     },
     "52d2e0e1898a43fca9f1ff6ea9e11581": {
      "model_module": "@jupyter-widgets/base",
      "model_module_version": "1.2.0",
      "model_name": "LayoutModel",
      "state": {
       "height": "100px",
       "width": "100px"
      }
     },
     "54077e9c84ec4d3395409183de86962a": {
      "model_module": "@jupyter-widgets/base",
      "model_module_version": "1.2.0",
      "model_name": "LayoutModel",
      "state": {
       "height": "115px",
       "width": "165px"
      }
     },
     "5492ed8999894b70af14c818a33cf2ea": {
      "model_module": "ipycanvas",
      "model_module_version": "^0.3.2",
      "model_name": "CanvasModel",
      "state": {
       "_model_module_version": "^0.3.2",
       "_view_module_version": "^0.3.2",
       "layout": "IPY_MODEL_bb5dde00b6ff43b7aa4a0ce7487f433c",
       "size": [
        200,
        200
       ]
      }
     },
     "55ae2afad79343e5acf3d52e423b4c65": {
      "model_module": "ipycanvas",
      "model_module_version": "^0.3.2",
      "model_name": "CanvasModel",
      "state": {
       "_model_module_version": "^0.3.2",
       "_view_module_version": "^0.3.2",
       "layout": "IPY_MODEL_f7460580b5f8494ca83625b26c7d9471",
       "size": [
        1000,
        500
       ]
      }
     },
     "55d9fd332c1b4f0dbcdf9e5780432db0": {
      "model_module": "ipycanvas",
      "model_module_version": "^0.3.2",
      "model_name": "CanvasModel",
      "state": {
       "_model_module_version": "^0.3.2",
       "_view_module_version": "^0.3.2",
       "layout": "IPY_MODEL_71a27aeb06ba4a6f858f68044f9f6490",
       "size": [
        100,
        100
       ]
      }
     },
     "561d54e2d7274ec0a3970d5d385985df": {
      "model_module": "@jupyter-widgets/base",
      "model_module_version": "1.2.0",
      "model_name": "LayoutModel",
      "state": {
       "height": "200px",
       "width": "200px"
      }
     },
     "563bb969d8d4402888dd3ee75a6f7e79": {
      "model_module": "@jupyter-widgets/base",
      "model_module_version": "1.2.0",
      "model_name": "LayoutModel",
      "state": {
       "height": "200px",
       "width": "800px"
      }
     },
     "564f5e0e1c7b4dff9c74491b7abb50d3": {
      "model_module": "ipycanvas",
      "model_module_version": "^0.13",
      "model_name": "CanvasModel",
      "state": {
       "_canvas_manager": "IPY_MODEL_2b3f9ff77f2e4d1cb622d2e7f1b56891",
       "_model_module_version": "^0.13",
       "_view_module_version": "^0.13",
       "layout": "IPY_MODEL_ec6e72eb666345428aebc785985a2f40"
      }
     },
     "56835567122a48339548680393279672": {
      "model_module": "ipycanvas",
      "model_module_version": "^0.3.2",
      "model_name": "MultiCanvasModel",
      "state": {
       "_canvases": [
        "IPY_MODEL_1c5a6c71b99c4557939d2d25af7941bc",
        "IPY_MODEL_c2218b2523a54eb2b0ac6bd5b1667020",
        "IPY_MODEL_cfa8048530944188a210499e7ad13d9b",
        "IPY_MODEL_e2a7fa6f686d4aa4baa8ea9c310dd9d0"
       ],
       "_model_module_version": "^0.3.2",
       "_view_module_version": "^0.3.2",
       "layout": "IPY_MODEL_3110d2db7c5540c596c891d066c87337"
      }
     },
     "57925767b377471291ee539ed28391ad": {
      "model_module": "ipycanvas",
      "model_module_version": "^0.3.2",
      "model_name": "CanvasModel",
      "state": {
       "_model_module_version": "^0.3.2",
       "_view_module_version": "^0.3.2",
       "layout": "IPY_MODEL_f967d34b52cd41e88b9dd5f1f8c5a53e",
       "size": [
        100,
        100
       ]
      }
     },
     "5848e0ab985343208cdda56ab9a5fa2a": {
      "model_module": "@jupyter-widgets/base",
      "model_module_version": "1.2.0",
      "model_name": "LayoutModel",
      "state": {
       "height": "200px",
       "width": "200px"
      }
     },
     "589c8bdc26fb4ef8ab15566dbf3f80ea": {
      "model_module": "ipycanvas",
      "model_module_version": "^0.3.2",
      "model_name": "CanvasModel",
      "state": {
       "_model_module_version": "^0.3.2",
       "_view_module_version": "^0.3.2",
       "layout": "IPY_MODEL_07756f8c44c54621950754b60cb5486a",
       "size": [
        100,
        100
       ]
      }
     },
     "5919a9a41d494835855e05b14d436570": {
      "model_module": "ipycanvas",
      "model_module_version": "^0.3.2",
      "model_name": "CanvasModel",
      "state": {
       "_model_module_version": "^0.3.2",
       "_view_module_version": "^0.3.2",
       "layout": "IPY_MODEL_613fb72c018b415095f7f400b0427c8d",
       "size": [
        165,
        115
       ]
      }
     },
     "59fd124c688548c6b7fa671dae536ad9": {
      "model_module": "ipycanvas",
      "model_module_version": "^0.3.2",
      "model_name": "CanvasModel",
      "state": {
       "_model_module_version": "^0.3.2",
       "_view_module_version": "^0.3.2",
       "layout": "IPY_MODEL_fd29d53811874f8fbc2edc04fc59b935",
       "size": [
        100,
        100
       ]
      }
     },
     "5b3f2e176b7048d4adcbe326cc9aede6": {
      "model_module": "ipycanvas",
      "model_module_version": "^0.3.2",
      "model_name": "MultiCanvasModel",
      "state": {
       "_canvases": [
        "IPY_MODEL_8b6ce54f06954a0d980db26781bfc1e9",
        "IPY_MODEL_6627828eb66a48b8aa04f054740d6f1e",
        "IPY_MODEL_0bcf468d2f174473a673061f0aa1dec3",
        "IPY_MODEL_1182409ff6f045eaa9d45490abd8597d"
       ],
       "_model_module_version": "^0.3.2",
       "_view_module_version": "^0.3.2",
       "layout": "IPY_MODEL_d1c6476d52814c02a967604b2a6a5e46"
      }
     },
     "5b41fe596c4b45219e9870b2f4149b8e": {
      "model_module": "ipycanvas",
      "model_module_version": "^0.3.2",
      "model_name": "CanvasModel",
      "state": {
       "_model_module_version": "^0.3.2",
       "_view_module_version": "^0.3.2",
       "layout": "IPY_MODEL_8a4aa4ab59904bf88e49ad3e2db63cb4",
       "size": [
        100,
        100
       ]
      }
     },
     "5be354bd0ed5412980be4762f00a4d84": {
      "model_module": "@jupyter-widgets/base",
      "model_module_version": "1.2.0",
      "model_name": "LayoutModel",
      "state": {}
     },
     "5bf9b6dd3a854759816a5b9f2c900c6b": {
      "model_module": "@jupyter-widgets/base",
      "model_module_version": "1.2.0",
      "model_name": "LayoutModel",
      "state": {
       "height": "500px",
       "width": "1000px"
      }
     },
     "5c6cf148b3884eda9d27aa7f4556674c": {
      "model_module": "ipycanvas",
      "model_module_version": "^0.3.2",
      "model_name": "CanvasModel",
      "state": {
       "_model_module_version": "^0.3.2",
       "_view_module_version": "^0.3.2",
       "layout": "IPY_MODEL_5e65ca3e810e40be9e8bc33d7170a895",
       "size": [
        100,
        110
       ]
      }
     },
     "5ce41d62747a4143a835336808651f40": {
      "model_module": "@jupyter-widgets/base",
      "model_module_version": "1.2.0",
      "model_name": "LayoutModel",
      "state": {
       "height": "200px",
       "width": "200px"
      }
     },
     "5d68eef2c9ce43248ebd0c82e36bccbd": {
      "model_module": "@jupyter-widgets/base",
      "model_module_version": "1.2.0",
      "model_name": "LayoutModel",
      "state": {
       "height": "100px",
       "width": "100px"
      }
     },
     "5e138a097fc64ae9905f1cdeebb9d581": {
      "model_module": "ipycanvas",
      "model_module_version": "^0.3.2",
      "model_name": "MultiCanvasModel",
      "state": {
       "_canvases": [
        "IPY_MODEL_4f431ac199244554902bb8550f392bd7",
        "IPY_MODEL_4960948886f0491eb3ae07319b227c4d",
        "IPY_MODEL_7cae59a05d7a4cab84739bec914c3f95",
        "IPY_MODEL_ed2f9d366bfd4830b23a11e0bf6b4346"
       ],
       "_model_module_version": "^0.3.2",
       "_view_module_version": "^0.3.2",
       "layout": "IPY_MODEL_418fdfa0b8c94665b91ebc8a5abf6068"
      }
     },
     "5e2d580399834d999ab6e3b57eb855ac": {
      "model_module": "@jupyter-widgets/base",
      "model_module_version": "1.2.0",
      "model_name": "LayoutModel",
      "state": {
       "height": "200px",
       "width": "200px"
      }
     },
     "5e3ee821e4104d6f92b9a1f90fba7f3d": {
      "model_module": "@jupyter-widgets/base",
      "model_module_version": "1.2.0",
      "model_name": "LayoutModel",
      "state": {
       "height": "280px",
       "width": "400px"
      }
     },
     "5e432db49efb4023bfe051da12aca385": {
      "model_module": "@jupyter-widgets/base",
      "model_module_version": "1.2.0",
      "model_name": "LayoutModel",
      "state": {}
     },
     "5e4cdeecc5f44069b9734861be718b09": {
      "model_module": "@jupyter-widgets/base",
      "model_module_version": "1.2.0",
      "model_name": "LayoutModel",
      "state": {
       "height": "100px",
       "width": "100px"
      }
     },
     "5e65ca3e810e40be9e8bc33d7170a895": {
      "model_module": "@jupyter-widgets/base",
      "model_module_version": "1.2.0",
      "model_name": "LayoutModel",
      "state": {
       "height": "110px",
       "width": "100px"
      }
     },
     "5ea0d9d25784466c8caf94a3e3425d90": {
      "model_module": "ipycanvas",
      "model_module_version": "^0.3.2",
      "model_name": "CanvasModel",
      "state": {
       "_model_module_version": "^0.3.2",
       "_view_module_version": "^0.3.2",
       "layout": "IPY_MODEL_0838f88d00da41a3b5129a85c03692e1",
       "size": [
        200,
        200
       ]
      }
     },
     "5ea46b2bc7194eb180c4791e3d0ea4f3": {
      "model_module": "@jupyter-widgets/base",
      "model_module_version": "1.2.0",
      "model_name": "LayoutModel",
      "state": {
       "height": "100px",
       "width": "100px"
      }
     },
     "5ea7f9866ca443758a52a1691844ae54": {
      "model_module": "@jupyter-widgets/base",
      "model_module_version": "1.2.0",
      "model_name": "LayoutModel",
      "state": {}
     },
     "5ed12ef71b3945079906a8afd11b2b1d": {
      "model_module": "@jupyter-widgets/base",
      "model_module_version": "1.2.0",
      "model_name": "LayoutModel",
      "state": {
       "height": "115px",
       "width": "165px"
      }
     },
     "6055627f542f46839c04a82ee1fef5d4": {
      "model_module": "ipycanvas",
      "model_module_version": "^0.3.2",
      "model_name": "MultiCanvasModel",
      "state": {
       "_canvases": [
        "IPY_MODEL_f4314523c61440aea28801866fadbd6d",
        "IPY_MODEL_7b56cb0080cf4500bc4200962a56f591"
       ],
       "_model_module_version": "^0.3.2",
       "_view_module_version": "^0.3.2",
       "layout": "IPY_MODEL_2eceee49d5d046488aa503c797cc4c7a"
      }
     },
     "613fb72c018b415095f7f400b0427c8d": {
      "model_module": "@jupyter-widgets/base",
      "model_module_version": "1.2.0",
      "model_name": "LayoutModel",
      "state": {
       "height": "115px",
       "width": "165px"
      }
     },
     "61668dd5438348a18cbec46741570f8c": {
      "model_module": "ipycanvas",
      "model_module_version": "^0.3.2",
      "model_name": "CanvasModel",
      "state": {
       "_model_module_version": "^0.3.2",
       "_view_module_version": "^0.3.2",
       "layout": "IPY_MODEL_f5232b89aac84c839458dc2e41ea6159",
       "size": [
        200,
        200
       ]
      }
     },
     "6167f6c3a3b64ff98daed78b43fcc637": {
      "model_module": "ipycanvas",
      "model_module_version": "^0.3.2",
      "model_name": "CanvasModel",
      "state": {
       "_model_module_version": "^0.3.2",
       "_view_module_version": "^0.3.2",
       "layout": "IPY_MODEL_2ea3328de9a141d192b9f12db5107238",
       "size": [
        300,
        300
       ]
      }
     },
     "61c352ee32944a27a559d567d4b93a8f": {
      "model_module": "ipycanvas",
      "model_module_version": "^0.3.2",
      "model_name": "CanvasModel",
      "state": {
       "_model_module_version": "^0.3.2",
       "_view_module_version": "^0.3.2",
       "layout": "IPY_MODEL_b8529a8ddf2c4eb0b02ebd6e0702e469",
       "size": [
        200,
        200
       ]
      }
     },
     "61d84e4168fb4b17920bd835e933637f": {
      "model_module": "ipycanvas",
      "model_module_version": "^0.3.2",
      "model_name": "CanvasModel",
      "state": {
       "_model_module_version": "^0.3.2",
       "_view_module_version": "^0.3.2",
       "layout": "IPY_MODEL_04a0ed6c85c04898a5b9be964e4617b6",
       "size": [
        200,
        200
       ]
      }
     },
     "6257206637ec48c797dd6152f5fb5b70": {
      "model_module": "@jupyter-widgets/base",
      "model_module_version": "1.2.0",
      "model_name": "LayoutModel",
      "state": {
       "height": "100px",
       "width": "120px"
      }
     },
     "63a92258ae254ffa8a10ac8dbf5e6870": {
      "model_module": "ipycanvas",
      "model_module_version": "^0.3.2",
      "model_name": "CanvasModel",
      "state": {
       "_model_module_version": "^0.3.2",
       "_view_module_version": "^0.3.2",
       "layout": "IPY_MODEL_18e62dd893fe43d08a0a8343f8dfe1a2",
       "size": [
        200,
        200
       ]
      }
     },
     "644c2753b3b54d8fbf1323fe1270247e": {
      "model_module": "ipycanvas",
      "model_module_version": "^0.3.2",
      "model_name": "CanvasModel",
      "state": {
       "_model_module_version": "^0.3.2",
       "_view_module_version": "^0.3.2",
       "layout": "IPY_MODEL_15cf74e4e99149c3bc6fa35f843f96a4",
       "size": [
        200,
        200
       ]
      }
     },
     "64bbf3be603d4160a288ffd919915005": {
      "model_module": "ipycanvas",
      "model_module_version": "^0.3.2",
      "model_name": "MultiCanvasModel",
      "state": {
       "_canvases": [
        "IPY_MODEL_168d83fe9be842f8b3651a3b38dfccb6",
        "IPY_MODEL_839137a6de034c6e8d2592e503585052",
        "IPY_MODEL_36024713edc34722a4cc8cd74f280b20",
        "IPY_MODEL_867aa2fdf8ae4ce8aed3f287c0b01f55"
       ],
       "_model_module_version": "^0.3.2",
       "_view_module_version": "^0.3.2",
       "layout": "IPY_MODEL_3b7d737b687f4bde8c07b1d2a53449b0"
      }
     },
     "6592f24d9ead42b9be21003cd520268e": {
      "model_module": "@jupyter-widgets/base",
      "model_module_version": "1.2.0",
      "model_name": "LayoutModel",
      "state": {
       "height": "200px",
       "width": "200px"
      }
     },
     "65ca78ce3dbf4bdfac498497c35bc5bb": {
      "model_module": "ipycanvas",
      "model_module_version": "^0.3.2",
      "model_name": "MultiCanvasModel",
      "state": {
       "_canvases": [
        "IPY_MODEL_cec916129051438d8b85e94f67a9510b",
        "IPY_MODEL_837e26660f194c15a6aa021377c09ec1",
        "IPY_MODEL_eeeda2f892214098af46c4d23bbb885d",
        "IPY_MODEL_9434bb54ca0c4361b1442694f62cab71"
       ],
       "_model_module_version": "^0.3.2",
       "_view_module_version": "^0.3.2",
       "layout": "IPY_MODEL_5e4cdeecc5f44069b9734861be718b09"
      }
     },
     "65ce67d2db6e4d0c8a7824e59446e6e5": {
      "model_module": "@jupyter-widgets/base",
      "model_module_version": "1.2.0",
      "model_name": "LayoutModel",
      "state": {
       "height": "200px",
       "width": "200px"
      }
     },
     "6627828eb66a48b8aa04f054740d6f1e": {
      "model_module": "ipycanvas",
      "model_module_version": "^0.3.2",
      "model_name": "CanvasModel",
      "state": {
       "_model_module_version": "^0.3.2",
       "_view_module_version": "^0.3.2",
       "layout": "IPY_MODEL_f07ebef3c65a40e0a8f1c9752574f987",
       "size": [
        200,
        200
       ]
      }
     },
     "663a0a74a63946d7bed676447cdf072d": {
      "model_module": "ipycanvas",
      "model_module_version": "^0.3.2",
      "model_name": "CanvasModel",
      "state": {
       "_model_module_version": "^0.3.2",
       "_view_module_version": "^0.3.2",
       "layout": "IPY_MODEL_3eb8751022c64ccfaa89b5c534b2213b",
       "size": [
        100,
        100
       ]
      }
     },
     "66512a2c5e2c4b7e9a9c1835f4de514f": {
      "model_module": "ipycanvas",
      "model_module_version": "^0.3.2",
      "model_name": "CanvasModel",
      "state": {
       "_model_module_version": "^0.3.2",
       "_view_module_version": "^0.3.2",
       "layout": "IPY_MODEL_77ef773be1bc49fd8907bb5e851e556a",
       "size": [
        800,
        500
       ]
      }
     },
     "6793e3446ae44ff8a1fc8aa6de2b6a4a": {
      "model_module": "ipycanvas",
      "model_module_version": "^0.13",
      "model_name": "MultiCanvasModel",
      "state": {
       "_canvas_manager": "IPY_MODEL_a17888730109410cbcbaf78ea646dd3b",
       "_canvases": [
        "IPY_MODEL_1f5401df2cf7473ca4c41da1b08cc0f8",
        "IPY_MODEL_78c68696256f498087b0cd5b12773800"
       ],
       "_model_module_version": "^0.13",
       "_view_module_version": "^0.13",
       "layout": "IPY_MODEL_be969e1d93634c499236775e4278270b"
      }
     },
     "681bc5495c414261b682eaa69b7c10c4": {
      "model_module": "ipycanvas",
      "model_module_version": "^0.3.2",
      "model_name": "CanvasModel",
      "state": {
       "_model_module_version": "^0.3.2",
       "_view_module_version": "^0.3.2",
       "layout": "IPY_MODEL_6b0e0504ab2c46c1bf695f76bd3cb408",
       "size": [
        200,
        200
       ]
      }
     },
     "6824ada4c37a4b3b98d6c03a66d408b4": {
      "model_module": "ipycanvas",
      "model_module_version": "^0.3.2",
      "model_name": "CanvasModel",
      "state": {
       "_model_module_version": "^0.3.2",
       "_view_module_version": "^0.3.2",
       "layout": "IPY_MODEL_2c12d2a1586a45cabc1bade2990be7b9",
       "size": [
        400,
        50
       ]
      }
     },
     "683d0572c3a949c1ad3247cc90826c64": {
      "model_module": "@jupyter-widgets/base",
      "model_module_version": "1.2.0",
      "model_name": "LayoutModel",
      "state": {
       "height": "500px",
       "width": "1000px"
      }
     },
     "6866f1e85e814e2086744bed2ab2910b": {
      "model_module": "ipycanvas",
      "model_module_version": "^0.3.2",
      "model_name": "CanvasModel",
      "state": {
       "_model_module_version": "^0.3.2",
       "_view_module_version": "^0.3.2",
       "layout": "IPY_MODEL_65ce67d2db6e4d0c8a7824e59446e6e5",
       "size": [
        200,
        200
       ]
      }
     },
     "68ae44c7b6d944518f2711d0e499995f": {
      "model_module": "ipycanvas",
      "model_module_version": "^0.3.2",
      "model_name": "CanvasModel",
      "state": {
       "_model_module_version": "^0.3.2",
       "_view_module_version": "^0.3.2",
       "layout": "IPY_MODEL_c767704d06fa4abb9008f7f91d76bfd6",
       "size": [
        600,
        600
       ]
      }
     },
     "69d3e8abcb6e4a0fa1ae41ac237ee21d": {
      "model_module": "@jupyter-widgets/base",
      "model_module_version": "1.2.0",
      "model_name": "LayoutModel",
      "state": {
       "height": "280px",
       "width": "400px"
      }
     },
     "69f19a5d04904f979fc968dbbae4d03f": {
      "model_module": "@jupyter-widgets/base",
      "model_module_version": "1.2.0",
      "model_name": "LayoutModel",
      "state": {}
     },
     "6a4bb5c7b619483a8efc12eddea6a4f8": {
      "model_module": "@jupyter-widgets/base",
      "model_module_version": "1.2.0",
      "model_name": "LayoutModel",
      "state": {
       "height": "115px",
       "width": "165px"
      }
     },
     "6a64df0bde554cc1b09a0ae798cdf08b": {
      "model_module": "@jupyter-widgets/base",
      "model_module_version": "1.2.0",
      "model_name": "LayoutModel",
      "state": {
       "height": "115px",
       "width": "155px"
      }
     },
     "6a77813f47624cc2a7016ee8d71520f6": {
      "model_module": "@jupyter-widgets/base",
      "model_module_version": "1.2.0",
      "model_name": "LayoutModel",
      "state": {
       "height": "500px",
       "width": "800px"
      }
     },
     "6b0e0504ab2c46c1bf695f76bd3cb408": {
      "model_module": "@jupyter-widgets/base",
      "model_module_version": "1.2.0",
      "model_name": "LayoutModel",
      "state": {
       "height": "200px",
       "width": "200px"
      }
     },
     "6c4d8a3dc23042fa83d630c141548481": {
      "model_module": "@jupyter-widgets/base",
      "model_module_version": "1.2.0",
      "model_name": "LayoutModel",
      "state": {
       "height": "200px",
       "width": "200px"
      }
     },
     "6c5cd42399814b15807c845973a45532": {
      "model_module": "@jupyter-widgets/base",
      "model_module_version": "1.2.0",
      "model_name": "LayoutModel",
      "state": {
       "height": "115px",
       "width": "165px"
      }
     },
     "6cbad82d7cc54a2eb1b78a576ae07918": {
      "model_module": "ipycanvas",
      "model_module_version": "^0.3.2",
      "model_name": "CanvasModel",
      "state": {
       "_model_module_version": "^0.3.2",
       "_view_module_version": "^0.3.2",
       "layout": "IPY_MODEL_d9644fac21ff437ab346f4a7a57af64a",
       "size": [
        100,
        100
       ]
      }
     },
     "6ccc62bb05ed4c85b8e16a62d458f5be": {
      "model_module": "ipycanvas",
      "model_module_version": "^0.3.2",
      "model_name": "CanvasModel",
      "state": {
       "_model_module_version": "^0.3.2",
       "_view_module_version": "^0.3.2",
       "layout": "IPY_MODEL_561d54e2d7274ec0a3970d5d385985df",
       "size": [
        200,
        200
       ]
      }
     },
     "6ccf4f6b7d9c4c6c9da3e07e6de53133": {
      "model_module": "ipycanvas",
      "model_module_version": "^0.13",
      "model_name": "CanvasModel",
      "state": {
       "_canvas_manager": "IPY_MODEL_a17888730109410cbcbaf78ea646dd3b",
       "_model_module_version": "^0.13",
       "_view_module_version": "^0.13",
       "layout": "IPY_MODEL_69f19a5d04904f979fc968dbbae4d03f"
      }
     },
     "6d0bf08566274e0c9fcf1a3ca56956d4": {
      "model_module": "@jupyter-widgets/base",
      "model_module_version": "1.2.0",
      "model_name": "LayoutModel",
      "state": {
       "height": "200px",
       "width": "200px"
      }
     },
     "6d1545f30a5c472bbca2898a26a3ecbf": {
      "model_module": "@jupyter-widgets/base",
      "model_module_version": "1.2.0",
      "model_name": "LayoutModel",
      "state": {}
     },
     "6e29a1579a024f529c2055598d1dae5d": {
      "model_module": "@jupyter-widgets/base",
      "model_module_version": "1.2.0",
      "model_name": "LayoutModel",
      "state": {
       "height": "100px",
       "width": "120px"
      }
     },
     "6edba9929fe84e54bc5bc9e9a0142ec6": {
      "model_module": "@jupyter-widgets/base",
      "model_module_version": "1.2.0",
      "model_name": "LayoutModel",
      "state": {}
     },
     "6f290b1439bc4a65a26d2e9043b1b5b4": {
      "model_module": "ipycanvas",
      "model_module_version": "^0.3.2",
      "model_name": "MultiCanvasModel",
      "state": {
       "_canvases": [
        "IPY_MODEL_42e124f65b8a40bba170b2f794fe9dcc",
        "IPY_MODEL_a4ad71f81eca4524b2a346e27d8699b5",
        "IPY_MODEL_0a31b896f4254e769961945c2dad71e5",
        "IPY_MODEL_e9b73580ab5c42d4bb7b4915712ab1fe"
       ],
       "_model_module_version": "^0.3.2",
       "_view_module_version": "^0.3.2",
       "layout": "IPY_MODEL_d2d39803aa58466b9a31a9adc938feb6"
      }
     },
     "6f2fbefcaaa549ae855b4b5267528b99": {
      "model_module": "@jupyter-widgets/base",
      "model_module_version": "1.2.0",
      "model_name": "LayoutModel",
      "state": {
       "height": "115px",
       "width": "165px"
      }
     },
     "708b1f6b020e44229ff986e3891bc235": {
      "model_module": "@jupyter-widgets/base",
      "model_module_version": "1.2.0",
      "model_name": "LayoutModel",
      "state": {
       "height": "200px",
       "width": "200px"
      }
     },
     "709b69e34cfc4ce4b2bb3387e01f66d2": {
      "model_module": "ipycanvas",
      "model_module_version": "^0.3.2",
      "model_name": "CanvasModel",
      "state": {
       "_model_module_version": "^0.3.2",
       "_view_module_version": "^0.3.2",
       "layout": "IPY_MODEL_48de48bfc3c74c448233e05ba3bd5194",
       "size": [
        200,
        200
       ]
      }
     },
     "70a69034ad24420484a4581cf7a61098": {
      "model_module": "@jupyter-widgets/base",
      "model_module_version": "1.2.0",
      "model_name": "LayoutModel",
      "state": {
       "height": "200px",
       "width": "200px"
      }
     },
     "71a1b7845a7e403499c6df6d7026926f": {
      "model_module": "@jupyter-widgets/base",
      "model_module_version": "1.2.0",
      "model_name": "LayoutModel",
      "state": {
       "height": "115px",
       "width": "165px"
      }
     },
     "71a27aeb06ba4a6f858f68044f9f6490": {
      "model_module": "@jupyter-widgets/base",
      "model_module_version": "1.2.0",
      "model_name": "LayoutModel",
      "state": {
       "height": "100px",
       "width": "100px"
      }
     },
     "71cdf557be8d484b9e90087cdd509136": {
      "model_module": "ipycanvas",
      "model_module_version": "^0.3.2",
      "model_name": "CanvasModel",
      "state": {
       "_model_module_version": "^0.3.2",
       "_view_module_version": "^0.3.2",
       "layout": "IPY_MODEL_99242091a83541d281c3d1f76e0a598f",
       "size": [
        165,
        115
       ]
      }
     },
     "71ec6a9711fc4524ba1f9d7cc92b5fe2": {
      "model_module": "ipycanvas",
      "model_module_version": "^0.3.2",
      "model_name": "CanvasModel",
      "state": {
       "_model_module_version": "^0.3.2",
       "_view_module_version": "^0.3.2",
       "layout": "IPY_MODEL_4422d6698abc43b08ae535c6b4c2a9a5",
       "size": [
        165,
        115
       ]
      }
     },
     "72a8af8c9a8141a3976eb79b87b9af8b": {
      "model_module": "@jupyter-widgets/base",
      "model_module_version": "1.2.0",
      "model_name": "LayoutModel",
      "state": {
       "height": "200px",
       "width": "200px"
      }
     },
     "73b20a5eec9042288dd18b54fbc8de9d": {
      "model_module": "ipycanvas",
      "model_module_version": "^0.13",
      "model_name": "CanvasModel",
      "state": {
       "_canvas_manager": "IPY_MODEL_a17888730109410cbcbaf78ea646dd3b",
       "_model_module_version": "^0.13",
       "_view_module_version": "^0.13",
       "layout": "IPY_MODEL_a277171e3c0348f29a3e177c58681b78"
      }
     },
     "73e63ea34cdd4cb6b8dcb7da8bc1680c": {
      "model_module": "@jupyter-widgets/base",
      "model_module_version": "1.2.0",
      "model_name": "LayoutModel",
      "state": {}
     },
     "73fca89065d24544abad3ac3b26cc593": {
      "model_module": "@jupyter-widgets/base",
      "model_module_version": "1.2.0",
      "model_name": "LayoutModel",
      "state": {}
     },
     "7458a9ecfb2c4713aadcf9f7a6a6053a": {
      "model_module": "@jupyter-widgets/base",
      "model_module_version": "1.2.0",
      "model_name": "LayoutModel",
      "state": {
       "height": "100px",
       "width": "120px"
      }
     },
     "74c2c6ef2f1e4ca28c1282b1c67d4ae9": {
      "model_module": "ipycanvas",
      "model_module_version": "^0.3.2",
      "model_name": "CanvasModel",
      "state": {
       "_model_module_version": "^0.3.2",
       "_view_module_version": "^0.3.2",
       "layout": "IPY_MODEL_71a1b7845a7e403499c6df6d7026926f",
       "size": [
        165,
        115
       ]
      }
     },
     "74fff5034f8545618cdce2f8b1ceba5e": {
      "model_module": "@jupyter-widgets/base",
      "model_module_version": "1.2.0",
      "model_name": "LayoutModel",
      "state": {
       "height": "200px",
       "width": "200px"
      }
     },
     "752b25bfa5084cdaa0e74ac6e387a2dd": {
      "model_module": "@jupyter-widgets/base",
      "model_module_version": "1.2.0",
      "model_name": "LayoutModel",
      "state": {
       "height": "200px",
       "width": "200px"
      }
     },
     "75af06564cae47ea940194811b1c28a2": {
      "model_module": "@jupyter-widgets/base",
      "model_module_version": "1.2.0",
      "model_name": "LayoutModel",
      "state": {
       "height": "200px",
       "width": "200px"
      }
     },
     "75c6f1d01c074716ab472a0be6efde9b": {
      "model_module": "@jupyter-widgets/base",
      "model_module_version": "1.2.0",
      "model_name": "LayoutModel",
      "state": {
       "height": "200px",
       "width": "200px"
      }
     },
     "76243a2220d64fff969c1144c36ef299": {
      "model_module": "ipycanvas",
      "model_module_version": "^0.3.2",
      "model_name": "CanvasModel",
      "state": {
       "_model_module_version": "^0.3.2",
       "_view_module_version": "^0.3.2",
       "layout": "IPY_MODEL_9a3bbb57ee8a4f7fbfe186e22a161118",
       "size": [
        200,
        200
       ]
      }
     },
     "764c9b56a8244fdfb2a48ee0097c31fe": {
      "model_module": "@jupyter-widgets/base",
      "model_module_version": "1.2.0",
      "model_name": "LayoutModel",
      "state": {
       "height": "100px",
       "width": "100px"
      }
     },
     "7727c6da1d544b7b9fb84ce4e510561b": {
      "model_module": "@jupyter-widgets/base",
      "model_module_version": "1.2.0",
      "model_name": "LayoutModel",
      "state": {
       "height": "200px",
       "width": "200px"
      }
     },
     "77774aa0fc8241a1bf8759a7d36dc5a8": {
      "model_module": "ipycanvas",
      "model_module_version": "^0.3.2",
      "model_name": "CanvasModel",
      "state": {
       "_model_module_version": "^0.3.2",
       "_view_module_version": "^0.3.2",
       "layout": "IPY_MODEL_45142ab9bf634a67bc7fdcb5d36535c1",
       "size": [
        200,
        200
       ]
      }
     },
     "77c7b8eee12f4ffbbc55d383a5fd9b05": {
      "model_module": "@jupyter-widgets/base",
      "model_module_version": "1.2.0",
      "model_name": "LayoutModel",
      "state": {
       "height": "500px",
       "width": "1000px"
      }
     },
     "77ef773be1bc49fd8907bb5e851e556a": {
      "model_module": "@jupyter-widgets/base",
      "model_module_version": "1.2.0",
      "model_name": "LayoutModel",
      "state": {
       "height": "500px",
       "width": "800px"
      }
     },
     "780de7f509ad407ea2392c14dfe5116f": {
      "model_module": "ipycanvas",
      "model_module_version": "^0.3.2",
      "model_name": "CanvasModel",
      "state": {
       "_model_module_version": "^0.3.2",
       "_view_module_version": "^0.3.2",
       "layout": "IPY_MODEL_9424079df4fe4599b7a3b44b40cef9d6",
       "size": [
        1000,
        500
       ]
      }
     },
     "7868a032623c42eca1a6f319df08976c": {
      "model_module": "@jupyter-widgets/base",
      "model_module_version": "1.2.0",
      "model_name": "LayoutModel",
      "state": {
       "height": "115px",
       "width": "165px"
      }
     },
     "788169f451444360aa30f95b3fec25ae": {
      "model_module": "ipycanvas",
      "model_module_version": "^0.3.2",
      "model_name": "CanvasModel",
      "state": {
       "_model_module_version": "^0.3.2",
       "_view_module_version": "^0.3.2",
       "layout": "IPY_MODEL_dbe6910ecf904fabaebf4b1134190848",
       "size": [
        200,
        200
       ]
      }
     },
     "78a0febbd80242d2af9ecfb664e7efe2": {
      "model_module": "ipycanvas",
      "model_module_version": "^0.3.2",
      "model_name": "CanvasModel",
      "state": {
       "_model_module_version": "^0.3.2",
       "_view_module_version": "^0.3.2",
       "layout": "IPY_MODEL_03638949aa264ca0a1dcf7b7acdda08a",
       "size": [
        165,
        115
       ]
      }
     },
     "78c68696256f498087b0cd5b12773800": {
      "model_module": "ipycanvas",
      "model_module_version": "^0.13",
      "model_name": "CanvasModel",
      "state": {
       "_canvas_manager": "IPY_MODEL_a17888730109410cbcbaf78ea646dd3b",
       "_model_module_version": "^0.13",
       "_view_module_version": "^0.13",
       "layout": "IPY_MODEL_10e0736aefa54f27bfa314327364d421"
      }
     },
     "79355d7c765548bc8bc53a02df0f63ee": {
      "model_module": "@jupyter-widgets/base",
      "model_module_version": "1.2.0",
      "model_name": "LayoutModel",
      "state": {
       "height": "200px",
       "width": "200px"
      }
     },
     "7a23e35d8a5e4d6a9b2520dea9e6f52a": {
      "model_module": "ipycanvas",
      "model_module_version": "^0.3.2",
      "model_name": "CanvasModel",
      "state": {
       "_model_module_version": "^0.3.2",
       "_view_module_version": "^0.3.2",
       "layout": "IPY_MODEL_acca3ec34f774ce1be40a4f8d962c684",
       "size": [
        200,
        200
       ]
      }
     },
     "7afc44b5971b4d07a40ed54e6648d345": {
      "model_module": "@jupyter-widgets/base",
      "model_module_version": "1.2.0",
      "model_name": "LayoutModel",
      "state": {
       "height": "200px",
       "width": "200px"
      }
     },
     "7b56cb0080cf4500bc4200962a56f591": {
      "model_module": "ipycanvas",
      "model_module_version": "^0.3.2",
      "model_name": "CanvasModel",
      "state": {
       "_model_module_version": "^0.3.2",
       "_view_module_version": "^0.3.2",
       "layout": "IPY_MODEL_8eaa4ae524a242258a1c09e6ce7d86af",
       "size": [
        165,
        115
       ]
      }
     },
     "7cae59a05d7a4cab84739bec914c3f95": {
      "model_module": "ipycanvas",
      "model_module_version": "^0.3.2",
      "model_name": "CanvasModel",
      "state": {
       "_model_module_version": "^0.3.2",
       "_view_module_version": "^0.3.2",
       "layout": "IPY_MODEL_d13133097a3e4014a9a188d5b9b8b805",
       "size": [
        200,
        200
       ]
      }
     },
     "7ccdbb209e224748b1ac3ad920571d5b": {
      "model_module": "ipycanvas",
      "model_module_version": "^0.3.2",
      "model_name": "CanvasModel",
      "state": {
       "_model_module_version": "^0.3.2",
       "_view_module_version": "^0.3.2",
       "layout": "IPY_MODEL_f646ad4381cb48e7997ec873176c6e3d",
       "size": [
        120,
        100
       ]
      }
     },
     "7d05545c5e194d33974c59f087983794": {
      "model_module": "ipycanvas",
      "model_module_version": "^0.3.2",
      "model_name": "MultiCanvasModel",
      "state": {
       "_canvases": [
        "IPY_MODEL_951c4f0ab04f4b32af7b70d953eb892d",
        "IPY_MODEL_0f4b29597f704d1889888b03aaa47f85",
        "IPY_MODEL_288c8eda560e4fb3a6d239f35de1a13e",
        "IPY_MODEL_4dff3b73ca7345058945cef59896284d"
       ],
       "_model_module_version": "^0.3.2",
       "_view_module_version": "^0.3.2",
       "layout": "IPY_MODEL_dcbe4969aee846ff82fae55e907339e2"
      }
     },
     "7d2fa150bca24aaf8ddfb2cfdbffe221": {
      "model_module": "ipycanvas",
      "model_module_version": "^0.3.2",
      "model_name": "CanvasModel",
      "state": {
       "_model_module_version": "^0.3.2",
       "_view_module_version": "^0.3.2",
       "layout": "IPY_MODEL_a16b2a260cd64847967397b1df52ed83",
       "size": [
        165,
        115
       ]
      }
     },
     "7de6f0b932554d57a32ecf2734dd117d": {
      "model_module": "ipycanvas",
      "model_module_version": "^0.3.2",
      "model_name": "CanvasModel",
      "state": {
       "_model_module_version": "^0.3.2",
       "_view_module_version": "^0.3.2",
       "layout": "IPY_MODEL_6e29a1579a024f529c2055598d1dae5d",
       "size": [
        120,
        100
       ]
      }
     },
     "7e27783e5f464d2f9503d96043c7d113": {
      "model_module": "@jupyter-widgets/base",
      "model_module_version": "1.2.0",
      "model_name": "LayoutModel",
      "state": {
       "height": "100px",
       "width": "100px"
      }
     },
     "7e77b0f183e54e5494267cab2b3d9173": {
      "model_module": "@jupyter-widgets/base",
      "model_module_version": "1.2.0",
      "model_name": "LayoutModel",
      "state": {}
     },
     "7eb62be4a4d34d8a9466dc6c4fb2702d": {
      "model_module": "@jupyter-widgets/base",
      "model_module_version": "1.2.0",
      "model_name": "LayoutModel",
      "state": {
       "height": "200px",
       "width": "200px"
      }
     },
     "7f180acfaba3431699544bf634147c0a": {
      "model_module": "ipycanvas",
      "model_module_version": "^0.13",
      "model_name": "CanvasModel",
      "state": {
       "_canvas_manager": "IPY_MODEL_2b3f9ff77f2e4d1cb622d2e7f1b56891",
       "_model_module_version": "^0.13",
       "_view_module_version": "^0.13",
       "layout": "IPY_MODEL_4dba758ab0444752bf6d203aed608036"
      }
     },
     "7fa2d27526d44a24a64e5d24d88d452a": {
      "model_module": "ipycanvas",
      "model_module_version": "^0.3.2",
      "model_name": "CanvasModel",
      "state": {
       "_model_module_version": "^0.3.2",
       "_view_module_version": "^0.3.2",
       "layout": "IPY_MODEL_f2954051e86a49d5b75bee287faea09d",
       "size": [
        320,
        360
       ]
      }
     },
     "7ff4129e4e14460f9d1366c24f9d742f": {
      "model_module": "@jupyter-widgets/base",
      "model_module_version": "1.2.0",
      "model_name": "LayoutModel",
      "state": {
       "height": "500px",
       "width": "1000px"
      }
     },
     "80d299f972d8453a85302b231b276db4": {
      "model_module": "@jupyter-widgets/base",
      "model_module_version": "1.2.0",
      "model_name": "LayoutModel",
      "state": {
       "height": "200px",
       "width": "200px"
      }
     },
     "80fbca9cd0f440b49a3ae7c54be2fc10": {
      "model_module": "ipycanvas",
      "model_module_version": "^0.3.2",
      "model_name": "MultiCanvasModel",
      "state": {
       "_canvases": [
        "IPY_MODEL_3d136d05c0744574b14b9cae02105c8d",
        "IPY_MODEL_74c2c6ef2f1e4ca28c1282b1c67d4ae9",
        "IPY_MODEL_e75ff8f5c9224157a37282711463f406",
        "IPY_MODEL_de6d1e6fc83d4185b54bbce591e2311d"
       ],
       "_model_module_version": "^0.3.2",
       "_view_module_version": "^0.3.2",
       "layout": "IPY_MODEL_cff9794bfe284bfa9976ae54de6c4eb6"
      }
     },
     "8129caff5d4643f18869b14a290b86bb": {
      "model_module": "@jupyter-widgets/base",
      "model_module_version": "1.2.0",
      "model_name": "LayoutModel",
      "state": {}
     },
     "812f14b9999d4ad9bf2811b61e98c132": {
      "model_module": "@jupyter-widgets/base",
      "model_module_version": "1.2.0",
      "model_name": "LayoutModel",
      "state": {
       "height": "115px",
       "width": "165px"
      }
     },
     "81788ab439564f199467ec42c93c6804": {
      "model_module": "@jupyter-widgets/base",
      "model_module_version": "1.2.0",
      "model_name": "LayoutModel",
      "state": {
       "height": "200px",
       "width": "200px"
      }
     },
     "82238011da704f5fa63959392968869a": {
      "model_module": "ipycanvas",
      "model_module_version": "^0.3.2",
      "model_name": "MultiCanvasModel",
      "state": {
       "_canvases": [
        "IPY_MODEL_aa6dbe25ab0049298c2f1b94ece1c7ee",
        "IPY_MODEL_0faef50bc9354d69a1f394d22d41bff9",
        "IPY_MODEL_4123040ce87e44469b69d6e429810f7c",
        "IPY_MODEL_089ba8896cf843e5830ee125bae86a0e"
       ],
       "_model_module_version": "^0.3.2",
       "_view_module_version": "^0.3.2",
       "layout": "IPY_MODEL_6c5cd42399814b15807c845973a45532"
      }
     },
     "82bf9c2a621b4827a68824432c1abe2c": {
      "model_module": "@jupyter-widgets/base",
      "model_module_version": "1.2.0",
      "model_name": "LayoutModel",
      "state": {
       "height": "500px",
       "width": "1000px"
      }
     },
     "82c7119602f0495797433a28d219079d": {
      "model_module": "@jupyter-widgets/base",
      "model_module_version": "1.2.0",
      "model_name": "LayoutModel",
      "state": {}
     },
     "82da4b6ef15147e680b0897bf8f4c71f": {
      "model_module": "@jupyter-widgets/base",
      "model_module_version": "1.2.0",
      "model_name": "LayoutModel",
      "state": {
       "height": "100px",
       "width": "100px"
      }
     },
     "830637039e1545c9a4d0b2c15a9f26da": {
      "model_module": "ipycanvas",
      "model_module_version": "^0.3.2",
      "model_name": "CanvasModel",
      "state": {
       "_model_module_version": "^0.3.2",
       "_view_module_version": "^0.3.2",
       "layout": "IPY_MODEL_bedc64962a264fd296afbea1ea09426a",
       "size": [
        165,
        115
       ]
      }
     },
     "83173dc75e054ac5b4b29578898bc4b7": {
      "model_module": "@jupyter-widgets/base",
      "model_module_version": "1.2.0",
      "model_name": "LayoutModel",
      "state": {}
     },
     "83782c4737e046ffbba43e67a391f2ce": {
      "model_module": "ipycanvas",
      "model_module_version": "^0.3.2",
      "model_name": "CanvasModel",
      "state": {
       "_model_module_version": "^0.3.2",
       "_view_module_version": "^0.3.2",
       "layout": "IPY_MODEL_cdbd790651a640219883cc84d0f9762f",
       "size": [
        800,
        100
       ]
      }
     },
     "837e26660f194c15a6aa021377c09ec1": {
      "model_module": "ipycanvas",
      "model_module_version": "^0.3.2",
      "model_name": "CanvasModel",
      "state": {
       "_model_module_version": "^0.3.2",
       "_view_module_version": "^0.3.2",
       "layout": "IPY_MODEL_2b5af6e83b804a6293e202953e81a91c",
       "size": [
        100,
        100
       ]
      }
     },
     "839137a6de034c6e8d2592e503585052": {
      "model_module": "ipycanvas",
      "model_module_version": "^0.3.2",
      "model_name": "CanvasModel",
      "state": {
       "_model_module_version": "^0.3.2",
       "_view_module_version": "^0.3.2",
       "layout": "IPY_MODEL_408bdef520dc40128d2dcd4e7abf2df9",
       "size": [
        200,
        200
       ]
      }
     },
     "846bac82066847389018dc09651944b6": {
      "model_module": "ipycanvas",
      "model_module_version": "^0.3.2",
      "model_name": "CanvasModel",
      "state": {
       "_model_module_version": "^0.3.2",
       "_view_module_version": "^0.3.2",
       "layout": "IPY_MODEL_96d342cf5703452cb7694a127a2df665",
       "size": [
        200,
        200
       ]
      }
     },
     "84fd8e6a5f1d4e9a923221e9c9bc7025": {
      "model_module": "ipycanvas",
      "model_module_version": "^0.3.2",
      "model_name": "CanvasModel",
      "state": {
       "_model_module_version": "^0.3.2",
       "_view_module_version": "^0.3.2",
       "layout": "IPY_MODEL_06a69100b2904d1abaa554acf84985bf",
       "size": [
        200,
        200
       ]
      }
     },
     "8515312921f64690b4d3029a2d683f59": {
      "model_module": "ipycanvas",
      "model_module_version": "^0.3.2",
      "model_name": "CanvasModel",
      "state": {
       "_model_module_version": "^0.3.2",
       "_view_module_version": "^0.3.2",
       "layout": "IPY_MODEL_9e8043d99d424406a40e454323d13d76",
       "size": [
        165,
        115
       ]
      }
     },
     "8539f0e8aa764ca18408fce7848b72fe": {
      "model_module": "@jupyter-widgets/base",
      "model_module_version": "1.2.0",
      "model_name": "LayoutModel",
      "state": {
       "height": "200px",
       "width": "200px"
      }
     },
     "85a8a78bfcc74a0d9a9bd9e23f692ec5": {
      "model_module": "@jupyter-widgets/base",
      "model_module_version": "1.2.0",
      "model_name": "LayoutModel",
      "state": {
       "height": "115px",
       "width": "165px"
      }
     },
     "85f6f648ded34d5c8f2583e0ac0fafb7": {
      "model_module": "@jupyter-widgets/base",
      "model_module_version": "1.2.0",
      "model_name": "LayoutModel",
      "state": {}
     },
     "864ae9190efe4e798e680e9c261d08d4": {
      "model_module": "ipycanvas",
      "model_module_version": "^0.3.2",
      "model_name": "CanvasModel",
      "state": {
       "_model_module_version": "^0.3.2",
       "_view_module_version": "^0.3.2",
       "layout": "IPY_MODEL_c134b0c155c34773910229daf8bd16c1",
       "size": [
        200,
        200
       ]
      }
     },
     "8652ba63a6094439833f8073db4e74c5": {
      "model_module": "ipycanvas",
      "model_module_version": "^0.3.2",
      "model_name": "CanvasModel",
      "state": {
       "_model_module_version": "^0.3.2",
       "_view_module_version": "^0.3.2",
       "layout": "IPY_MODEL_458b98e6ee0d4134b198d64844b64f8f",
       "size": [
        100,
        100
       ]
      }
     },
     "867aa2fdf8ae4ce8aed3f287c0b01f55": {
      "model_module": "ipycanvas",
      "model_module_version": "^0.3.2",
      "model_name": "CanvasModel",
      "state": {
       "_model_module_version": "^0.3.2",
       "_view_module_version": "^0.3.2",
       "layout": "IPY_MODEL_2753edbe488a45ee970b193bea282fbb",
       "size": [
        200,
        200
       ]
      }
     },
     "87459162ed9b4d8e87d39872b27891f3": {
      "model_module": "@jupyter-widgets/base",
      "model_module_version": "1.2.0",
      "model_name": "LayoutModel",
      "state": {
       "height": "50px",
       "width": "400px"
      }
     },
     "87b3d54cfdbf45f48dfa184413948f95": {
      "model_module": "ipycanvas",
      "model_module_version": "^0.3.2",
      "model_name": "CanvasModel",
      "state": {
       "_model_module_version": "^0.3.2",
       "_view_module_version": "^0.3.2",
       "layout": "IPY_MODEL_0762be984802430b96f3fba10b34bc58",
       "size": [
        200,
        200
       ]
      }
     },
     "87be4db6912040f4aa71fdafe62d4448": {
      "model_module": "ipycanvas",
      "model_module_version": "^0.3.2",
      "model_name": "CanvasModel",
      "state": {
       "_model_module_version": "^0.3.2",
       "_view_module_version": "^0.3.2",
       "layout": "IPY_MODEL_104379cb4ad9409795a262ad79652721",
       "size": [
        1000,
        500
       ]
      }
     },
     "87ebcc920c4748ecbca341be5c2723b2": {
      "model_module": "ipycanvas",
      "model_module_version": "^0.3.2",
      "model_name": "CanvasModel",
      "state": {
       "_model_module_version": "^0.3.2",
       "_view_module_version": "^0.3.2",
       "layout": "IPY_MODEL_4a0bb84e362b45409ab4c473f1f30d4c",
       "size": [
        100,
        100
       ]
      }
     },
     "87fab345f1a14d4b8c3f1fe488cb388a": {
      "model_module": "ipycanvas",
      "model_module_version": "^0.3.2",
      "model_name": "CanvasModel",
      "state": {
       "_model_module_version": "^0.3.2",
       "_view_module_version": "^0.3.2",
       "layout": "IPY_MODEL_0f7d1e0f805d4ea6b1490e47858d46a0",
       "size": [
        165,
        115
       ]
      }
     },
     "888c4f703d9648249d0e659ed691031b": {
      "model_module": "@jupyter-widgets/base",
      "model_module_version": "1.2.0",
      "model_name": "LayoutModel",
      "state": {}
     },
     "88b2c78c5e1a4e9ca6a6c5ae82e17829": {
      "model_module": "ipycanvas",
      "model_module_version": "^0.3.2",
      "model_name": "CanvasModel",
      "state": {
       "_model_module_version": "^0.3.2",
       "_view_module_version": "^0.3.2",
       "layout": "IPY_MODEL_dc9e2a941fbe41eb84132d85848d7f30",
       "size": [
        1000,
        500
       ]
      }
     },
     "88de54712af4498cb223d34551cff630": {
      "model_module": "@jupyter-widgets/base",
      "model_module_version": "1.2.0",
      "model_name": "LayoutModel",
      "state": {
       "height": "115px",
       "width": "165px"
      }
     },
     "88f29a7127904a47af5ad87b6f4c45e0": {
      "model_module": "@jupyter-widgets/base",
      "model_module_version": "1.2.0",
      "model_name": "LayoutModel",
      "state": {}
     },
     "88fca19434b94b4099a26fedd983bfa0": {
      "model_module": "@jupyter-widgets/base",
      "model_module_version": "1.2.0",
      "model_name": "LayoutModel",
      "state": {
       "height": "100px",
       "width": "100px"
      }
     },
     "8924e98356f74d8d94bb417339d8d3ed": {
      "model_module": "ipycanvas",
      "model_module_version": "^0.3.2",
      "model_name": "MultiCanvasModel",
      "state": {
       "_canvases": [
        "IPY_MODEL_71cdf557be8d484b9e90087cdd509136",
        "IPY_MODEL_71ec6a9711fc4524ba1f9d7cc92b5fe2"
       ],
       "_model_module_version": "^0.3.2",
       "_view_module_version": "^0.3.2",
       "layout": "IPY_MODEL_b76a65978b3a4536a09308fe594c18aa"
      }
     },
     "89744751aaf440ef958b69ff69b2f2ac": {
      "model_module": "@jupyter-widgets/base",
      "model_module_version": "1.2.0",
      "model_name": "LayoutModel",
      "state": {}
     },
     "89816fd8267847e5868ed4495e19021e": {
      "model_module": "ipycanvas",
      "model_module_version": "^0.13",
      "model_name": "CanvasModel",
      "state": {
       "_canvas_manager": "IPY_MODEL_a17888730109410cbcbaf78ea646dd3b",
       "_model_module_version": "^0.13",
       "_view_module_version": "^0.13",
       "layout": "IPY_MODEL_ac8a1be652f44dacb59f27cd396fe05e"
      }
     },
     "89ff2c98cf7045069246dc956da26c10": {
      "model_module": "ipycanvas",
      "model_module_version": "^0.13",
      "model_name": "CanvasModel",
      "state": {
       "_canvas_manager": "IPY_MODEL_a17888730109410cbcbaf78ea646dd3b",
       "_model_module_version": "^0.13",
       "_view_module_version": "^0.13",
       "layout": "IPY_MODEL_0b743f59734d41618bcf9f8da0d9cad0"
      }
     },
     "8a34c174a863471898cf79d808d6c0f0": {
      "model_module": "ipycanvas",
      "model_module_version": "^0.3.2",
      "model_name": "CanvasModel",
      "state": {
       "_model_module_version": "^0.3.2",
       "_view_module_version": "^0.3.2",
       "layout": "IPY_MODEL_80d299f972d8453a85302b231b276db4",
       "size": [
        200,
        200
       ]
      }
     },
     "8a4aa4ab59904bf88e49ad3e2db63cb4": {
      "model_module": "@jupyter-widgets/base",
      "model_module_version": "1.2.0",
      "model_name": "LayoutModel",
      "state": {
       "height": "100px",
       "width": "100px"
      }
     },
     "8a4f433e337342bfb0e3f66b7a5a0647": {
      "model_module": "ipycanvas",
      "model_module_version": "^0.3.2",
      "model_name": "CanvasModel",
      "state": {
       "_model_module_version": "^0.3.2",
       "_view_module_version": "^0.3.2",
       "layout": "IPY_MODEL_7afc44b5971b4d07a40ed54e6648d345",
       "size": [
        200,
        200
       ]
      }
     },
     "8adcd0c244c04eaab4eb654339cddb19": {
      "model_module": "@jupyter-widgets/base",
      "model_module_version": "1.2.0",
      "model_name": "LayoutModel",
      "state": {
       "height": "360px",
       "width": "320px"
      }
     },
     "8b150b3e6c3644f0989d1b85b68bf7e1": {
      "model_module": "ipycanvas",
      "model_module_version": "^0.3.2",
      "model_name": "CanvasModel",
      "state": {
       "_model_module_version": "^0.3.2",
       "_view_module_version": "^0.3.2",
       "layout": "IPY_MODEL_33be11fa5fab47ceb1b29aaa780dd72c",
       "size": [
        200,
        200
       ]
      }
     },
     "8b514a14b8bc4a11814d28a4928dbd4a": {
      "model_module": "ipycanvas",
      "model_module_version": "^0.13",
      "model_name": "CanvasModel",
      "state": {
       "_canvas_manager": "IPY_MODEL_2b3f9ff77f2e4d1cb622d2e7f1b56891",
       "_model_module_version": "^0.13",
       "_view_module_version": "^0.13",
       "layout": "IPY_MODEL_88f29a7127904a47af5ad87b6f4c45e0"
      }
     },
     "8b6ce54f06954a0d980db26781bfc1e9": {
      "model_module": "ipycanvas",
      "model_module_version": "^0.3.2",
      "model_name": "CanvasModel",
      "state": {
       "_model_module_version": "^0.3.2",
       "_view_module_version": "^0.3.2",
       "layout": "IPY_MODEL_e3a26a66285a4b2ea59ab9f7bf2845eb",
       "size": [
        200,
        200
       ]
      }
     },
     "8b8b7e679be44701aa9786b7502fb2c0": {
      "model_module": "@jupyter-widgets/base",
      "model_module_version": "1.2.0",
      "model_name": "LayoutModel",
      "state": {
       "height": "50px",
       "width": "400px"
      }
     },
     "8b8d6528a42a45f7bf27de2517d2e6d2": {
      "model_module": "ipycanvas",
      "model_module_version": "^0.3.2",
      "model_name": "MultiCanvasModel",
      "state": {
       "_canvases": [
        "IPY_MODEL_f0182c2ea80f4b41a168717667a77eee",
        "IPY_MODEL_fbe7c32abab24f368d549f15f6c12ee7",
        "IPY_MODEL_63a92258ae254ffa8a10ac8dbf5e6870",
        "IPY_MODEL_1100a0033493427392a7ac02e9b28529"
       ],
       "_model_module_version": "^0.3.2",
       "_view_module_version": "^0.3.2",
       "layout": "IPY_MODEL_6d0bf08566274e0c9fcf1a3ca56956d4"
      }
     },
     "8cbcdcff15634357a1824fb483ae0df6": {
      "model_module": "@jupyter-widgets/base",
      "model_module_version": "1.2.0",
      "model_name": "LayoutModel",
      "state": {
       "height": "100px",
       "width": "100px"
      }
     },
     "8d42ea66e2e742cf94627de91896f588": {
      "model_module": "@jupyter-widgets/base",
      "model_module_version": "1.2.0",
      "model_name": "LayoutModel",
      "state": {}
     },
     "8dec4f49937745d7b15d8138da3cefe2": {
      "model_module": "ipycanvas",
      "model_module_version": "^0.3.2",
      "model_name": "CanvasModel",
      "state": {
       "_model_module_version": "^0.3.2",
       "_view_module_version": "^0.3.2",
       "layout": "IPY_MODEL_c0cf62a681f8423bbd648879ccc384b1",
       "size": [
        200,
        200
       ]
      }
     },
     "8dee8bf5cba245a2a613eb3a88071142": {
      "model_module": "@jupyter-widgets/base",
      "model_module_version": "1.2.0",
      "model_name": "LayoutModel",
      "state": {
       "height": "115px",
       "width": "165px"
      }
     },
     "8e0b56d2c2c84e509aa5ca730ac2ed50": {
      "model_module": "ipycanvas",
      "model_module_version": "^0.13",
      "model_name": "CanvasModel",
      "state": {
       "_canvas_manager": "IPY_MODEL_2b3f9ff77f2e4d1cb622d2e7f1b56891",
       "_model_module_version": "^0.13",
       "_view_module_version": "^0.13",
       "layout": "IPY_MODEL_393dad8d3b1b4e84a06aad02f0573e9f"
      }
     },
     "8e22a14e7e91424b90e89fc7c16a53bd": {
      "model_module": "ipycanvas",
      "model_module_version": "^0.3.2",
      "model_name": "CanvasModel",
      "state": {
       "_model_module_version": "^0.3.2",
       "_view_module_version": "^0.3.2",
       "layout": "IPY_MODEL_512f088490f54486bf079acef510790f",
       "size": [
        400,
        50
       ]
      }
     },
     "8e369c2508cb4d77a7b2b07a772d820b": {
      "model_module": "@jupyter-widgets/base",
      "model_module_version": "1.2.0",
      "model_name": "LayoutModel",
      "state": {
       "height": "115px",
       "width": "165px"
      }
     },
     "8e9daa70457c4d35868a0f19088b5dd9": {
      "model_module": "ipycanvas",
      "model_module_version": "^0.3.2",
      "model_name": "CanvasModel",
      "state": {
       "_model_module_version": "^0.3.2",
       "_view_module_version": "^0.3.2",
       "layout": "IPY_MODEL_a19bc1d3f57949f4937bdc9642673f85",
       "size": [
        1000,
        500
       ]
      }
     },
     "8eaa4ae524a242258a1c09e6ce7d86af": {
      "model_module": "@jupyter-widgets/base",
      "model_module_version": "1.2.0",
      "model_name": "LayoutModel",
      "state": {
       "height": "115px",
       "width": "165px"
      }
     },
     "8fe7c9d2b4cb47f782337dcd681e2835": {
      "model_module": "ipycanvas",
      "model_module_version": "^0.3.2",
      "model_name": "CanvasModel",
      "state": {
       "_model_module_version": "^0.3.2",
       "_view_module_version": "^0.3.2",
       "layout": "IPY_MODEL_e3d4492b8b10444dadab85502dd8b403",
       "size": [
        200,
        200
       ]
      }
     },
     "90329a4a7d8e4e14b856ff832015baf5": {
      "model_module": "ipycanvas",
      "model_module_version": "^0.3.2",
      "model_name": "CanvasModel",
      "state": {
       "_model_module_version": "^0.3.2",
       "_view_module_version": "^0.3.2",
       "layout": "IPY_MODEL_49765a7fca3a4c0bbbc71870186381d7",
       "size": [
        200,
        200
       ]
      }
     },
     "90d4f6a5dc2a41ac87196b47fce981a6": {
      "model_module": "@jupyter-widgets/base",
      "model_module_version": "1.2.0",
      "model_name": "LayoutModel",
      "state": {
       "height": "500px",
       "width": "1000px"
      }
     },
     "90f6faefd76c4ed98cad4b5e6cc5e978": {
      "model_module": "ipycanvas",
      "model_module_version": "^0.13",
      "model_name": "CanvasModel",
      "state": {
       "_canvas_manager": "IPY_MODEL_a17888730109410cbcbaf78ea646dd3b",
       "_model_module_version": "^0.13",
       "_view_module_version": "^0.13",
       "layout": "IPY_MODEL_a43fc9be62e243ff969cffd51935ddf8"
      }
     },
     "9156049c2f9c442eb417ba43cbe13f9e": {
      "model_module": "@jupyter-widgets/base",
      "model_module_version": "1.2.0",
      "model_name": "LayoutModel",
      "state": {
       "height": "200px",
       "width": "200px"
      }
     },
     "928a814d435449d2b2d6d279233d264d": {
      "model_module": "ipycanvas",
      "model_module_version": "^0.3.2",
      "model_name": "CanvasModel",
      "state": {
       "_model_module_version": "^0.3.2",
       "_view_module_version": "^0.3.2",
       "layout": "IPY_MODEL_347bdc2e22ab4c909982196a144e4dc1",
       "size": [
        200,
        200
       ]
      }
     },
     "92bd238269e34d44b9951cab2a90e22c": {
      "model_module": "@jupyter-widgets/base",
      "model_module_version": "1.2.0",
      "model_name": "LayoutModel",
      "state": {
       "height": "100px",
       "width": "100px"
      }
     },
     "932bb638ccb44ac192bcc11f7db79392": {
      "model_module": "ipycanvas",
      "model_module_version": "^0.3.2",
      "model_name": "CanvasModel",
      "state": {
       "_model_module_version": "^0.3.2",
       "_view_module_version": "^0.3.2",
       "layout": "IPY_MODEL_f758258f96f14f3d98a717b905ce5bd3",
       "size": [
        200,
        200
       ]
      }
     },
     "9345f8fbb584499e88a2d2e56fd71dc8": {
      "model_module": "ipycanvas",
      "model_module_version": "^0.3.2",
      "model_name": "CanvasModel",
      "state": {
       "_model_module_version": "^0.3.2",
       "_view_module_version": "^0.3.2",
       "layout": "IPY_MODEL_5e2d580399834d999ab6e3b57eb855ac",
       "size": [
        200,
        200
       ]
      }
     },
     "9424079df4fe4599b7a3b44b40cef9d6": {
      "model_module": "@jupyter-widgets/base",
      "model_module_version": "1.2.0",
      "model_name": "LayoutModel",
      "state": {
       "height": "500px",
       "width": "1000px"
      }
     },
     "9434bb54ca0c4361b1442694f62cab71": {
      "model_module": "ipycanvas",
      "model_module_version": "^0.3.2",
      "model_name": "CanvasModel",
      "state": {
       "_model_module_version": "^0.3.2",
       "_view_module_version": "^0.3.2",
       "layout": "IPY_MODEL_ee1a09fbb4f2492e9b428f4002044ed1",
       "size": [
        100,
        100
       ]
      }
     },
     "9463254e1d2249d4973a003d09cc5b9e": {
      "model_module": "@jupyter-widgets/base",
      "model_module_version": "1.2.0",
      "model_name": "LayoutModel",
      "state": {
       "height": "200px",
       "width": "200px"
      }
     },
     "951c4f0ab04f4b32af7b70d953eb892d": {
      "model_module": "ipycanvas",
      "model_module_version": "^0.3.2",
      "model_name": "CanvasModel",
      "state": {
       "_model_module_version": "^0.3.2",
       "_view_module_version": "^0.3.2",
       "layout": "IPY_MODEL_df154ab716924a00923fa20a084a2543",
       "size": [
        200,
        200
       ]
      }
     },
     "95be07f1630c4ba080692bd27d8501a7": {
      "model_module": "ipycanvas",
      "model_module_version": "^0.3.2",
      "model_name": "CanvasModel",
      "state": {
       "_model_module_version": "^0.3.2",
       "_view_module_version": "^0.3.2",
       "layout": "IPY_MODEL_ac645f1f3f71476a94bec8cffa77d7fd",
       "size": [
        200,
        200
       ]
      }
     },
     "95e3092780fe4749ba2463d0bef8803a": {
      "model_module": "ipycanvas",
      "model_module_version": "^0.3.2",
      "model_name": "CanvasModel",
      "state": {
       "_model_module_version": "^0.3.2",
       "_view_module_version": "^0.3.2",
       "layout": "IPY_MODEL_33e5e289f0c148fa8275d0106668c746",
       "size": [
        320,
        360
       ]
      }
     },
     "96610f8d48b44e6f986ce38f4b2f07a5": {
      "model_module": "ipycanvas",
      "model_module_version": "^0.3.2",
      "model_name": "CanvasModel",
      "state": {
       "_model_module_version": "^0.3.2",
       "_view_module_version": "^0.3.2",
       "layout": "IPY_MODEL_52266217dd714b87bdad40707a090122",
       "size": [
        200,
        200
       ]
      }
     },
     "96c125e2fda343c5a54af32c0b0e2cda": {
      "model_module": "@jupyter-widgets/base",
      "model_module_version": "1.2.0",
      "model_name": "LayoutModel",
      "state": {}
     },
     "96d342cf5703452cb7694a127a2df665": {
      "model_module": "@jupyter-widgets/base",
      "model_module_version": "1.2.0",
      "model_name": "LayoutModel",
      "state": {
       "height": "200px",
       "width": "200px"
      }
     },
     "9738b193a2d548d2abe879abd88bed57": {
      "model_module": "ipycanvas",
      "model_module_version": "^0.13",
      "model_name": "CanvasModel",
      "state": {
       "_canvas_manager": "IPY_MODEL_a17888730109410cbcbaf78ea646dd3b",
       "_model_module_version": "^0.13",
       "_view_module_version": "^0.13",
       "layout": "IPY_MODEL_e63350b22b914c2fb37c0081dcdc9d55"
      }
     },
     "977e12e1b3eb425e8c0a64bf520971c4": {
      "model_module": "@jupyter-widgets/base",
      "model_module_version": "1.2.0",
      "model_name": "LayoutModel",
      "state": {}
     },
     "97a4d97136c941b0b5d1dce506668ae2": {
      "model_module": "ipycanvas",
      "model_module_version": "^0.3.2",
      "model_name": "CanvasModel",
      "state": {
       "_model_module_version": "^0.3.2",
       "_view_module_version": "^0.3.2",
       "layout": "IPY_MODEL_04b3c352814f40e6a150bf56b62271e2",
       "size": [
        120,
        100
       ]
      }
     },
     "988ac659d4ac45d09697f232bc503106": {
      "model_module": "ipycanvas",
      "model_module_version": "^0.3.2",
      "model_name": "CanvasModel",
      "state": {
       "_model_module_version": "^0.3.2",
       "_view_module_version": "^0.3.2",
       "layout": "IPY_MODEL_d3a0ee8d88ad41bd9e940cd37cbf6107",
       "size": [
        800,
        500
       ]
      }
     },
     "99242091a83541d281c3d1f76e0a598f": {
      "model_module": "@jupyter-widgets/base",
      "model_module_version": "1.2.0",
      "model_name": "LayoutModel",
      "state": {
       "height": "115px",
       "width": "165px"
      }
     },
     "9991387e613b48f7a2bb6ebedc3a981b": {
      "model_module": "ipycanvas",
      "model_module_version": "^0.3.2",
      "model_name": "CanvasModel",
      "state": {
       "_model_module_version": "^0.3.2",
       "_view_module_version": "^0.3.2",
       "layout": "IPY_MODEL_dc26e36e76944f1fb8f886c6cdb64ecc",
       "size": [
        200,
        200
       ]
      }
     },
     "9a059276bb2749cb8022f04baa77a620": {
      "model_module": "ipycanvas",
      "model_module_version": "^0.3.2",
      "model_name": "CanvasModel",
      "state": {
       "_model_module_version": "^0.3.2",
       "_view_module_version": "^0.3.2",
       "layout": "IPY_MODEL_aeee90c7ce8443d6a21bbceec877873e",
       "size": [
        165,
        115
       ]
      }
     },
     "9a233b9617e64c668c32bc101359dd90": {
      "model_module": "@jupyter-widgets/base",
      "model_module_version": "1.2.0",
      "model_name": "LayoutModel",
      "state": {
       "height": "115px",
       "width": "165px"
      }
     },
     "9a3bbb57ee8a4f7fbfe186e22a161118": {
      "model_module": "@jupyter-widgets/base",
      "model_module_version": "1.2.0",
      "model_name": "LayoutModel",
      "state": {
       "height": "200px",
       "width": "200px"
      }
     },
     "9a70ad7a0a8c42bc82fada6056372863": {
      "model_module": "@jupyter-widgets/base",
      "model_module_version": "1.2.0",
      "model_name": "LayoutModel",
      "state": {
       "height": "200px",
       "width": "200px"
      }
     },
     "9aaa88bbe3c74e83b2d66d79bb16f4cf": {
      "model_module": "ipycanvas",
      "model_module_version": "^0.3.2",
      "model_name": "CanvasModel",
      "state": {
       "_model_module_version": "^0.3.2",
       "_view_module_version": "^0.3.2",
       "layout": "IPY_MODEL_8adcd0c244c04eaab4eb654339cddb19",
       "size": [
        320,
        360
       ]
      }
     },
     "9bfd0b4052c24ab1a2c9bfb30b48b243": {
      "model_module": "ipycanvas",
      "model_module_version": "^0.3.2",
      "model_name": "CanvasModel",
      "state": {
       "_model_module_version": "^0.3.2",
       "_view_module_version": "^0.3.2",
       "layout": "IPY_MODEL_4f4f7360c7a744e285c0ae6a159229c6",
       "size": [
        200,
        200
       ]
      }
     },
     "9c7d8bf279f54c74b9f8757c3a8e1594": {
      "model_module": "@jupyter-widgets/base",
      "model_module_version": "1.2.0",
      "model_name": "LayoutModel",
      "state": {
       "height": "200px",
       "width": "200px"
      }
     },
     "9c84ea6edf6d434abbef02ff771e16c4": {
      "model_module": "ipycanvas",
      "model_module_version": "^0.3.2",
      "model_name": "CanvasModel",
      "state": {
       "_model_module_version": "^0.3.2",
       "_view_module_version": "^0.3.2",
       "layout": "IPY_MODEL_ccf0c893822a426ea00bbe3278864f4d",
       "size": [
        200,
        200
       ]
      }
     },
     "9cbc0d5379b64d4884ea0894faefb33c": {
      "model_module": "ipycanvas",
      "model_module_version": "^0.13",
      "model_name": "CanvasModel",
      "state": {
       "_canvas_manager": "IPY_MODEL_a17888730109410cbcbaf78ea646dd3b",
       "_model_module_version": "^0.13",
       "_view_module_version": "^0.13",
       "layout": "IPY_MODEL_6d1545f30a5c472bbca2898a26a3ecbf"
      }
     },
     "9d064b74685a48e4ab2b8c59e5b7cbc1": {
      "model_module": "@jupyter-widgets/base",
      "model_module_version": "1.2.0",
      "model_name": "LayoutModel",
      "state": {
       "height": "115px",
       "width": "165px"
      }
     },
     "9d55c33a41094ea592b092e71460a709": {
      "model_module": "ipycanvas",
      "model_module_version": "^0.3.2",
      "model_name": "CanvasModel",
      "state": {
       "_model_module_version": "^0.3.2",
       "_view_module_version": "^0.3.2",
       "layout": "IPY_MODEL_8dee8bf5cba245a2a613eb3a88071142",
       "size": [
        165,
        115
       ]
      }
     },
     "9e8043d99d424406a40e454323d13d76": {
      "model_module": "@jupyter-widgets/base",
      "model_module_version": "1.2.0",
      "model_name": "LayoutModel",
      "state": {
       "height": "115px",
       "width": "165px"
      }
     },
     "9e922299d1654166bc1c6a9057de8776": {
      "model_module": "@jupyter-widgets/base",
      "model_module_version": "1.2.0",
      "model_name": "LayoutModel",
      "state": {
       "height": "500px",
       "width": "1000px"
      }
     },
     "9f352bf488844c0aa52c1fcc2b3ba6ee": {
      "model_module": "ipycanvas",
      "model_module_version": "^0.13",
      "model_name": "CanvasModel",
      "state": {
       "_canvas_manager": "IPY_MODEL_a17888730109410cbcbaf78ea646dd3b",
       "_model_module_version": "^0.13",
       "_view_module_version": "^0.13",
       "layout": "IPY_MODEL_3b1e85eb2f7f4d1d8a4ebdf4173ded13"
      }
     },
     "9f9bcaa0900b43ddaa805e28d84d447d": {
      "model_module": "ipycanvas",
      "model_module_version": "^0.3.2",
      "model_name": "CanvasModel",
      "state": {
       "_model_module_version": "^0.3.2",
       "_view_module_version": "^0.3.2",
       "layout": "IPY_MODEL_21e1db8289c34ee7a39d681b9cfa3b38",
       "size": [
        200,
        200
       ]
      }
     },
     "9fd439891ac6466a94a030dfe1a2ebd1": {
      "model_module": "@jupyter-widgets/base",
      "model_module_version": "1.2.0",
      "model_name": "LayoutModel",
      "state": {
       "height": "115px",
       "width": "165px"
      }
     },
     "a0c1d21f9ad3474a95e6b4e543db2db0": {
      "model_module": "@jupyter-widgets/base",
      "model_module_version": "1.2.0",
      "model_name": "LayoutModel",
      "state": {
       "height": "50px",
       "width": "400px"
      }
     },
     "a0e6e6985a9f4fc0b9f928157079b78e": {
      "model_module": "@jupyter-widgets/base",
      "model_module_version": "1.2.0",
      "model_name": "LayoutModel",
      "state": {
       "height": "100px",
       "width": "100px"
      }
     },
     "a15e02adbb764a32b88bc64d3c56d966": {
      "model_module": "ipycanvas",
      "model_module_version": "^0.3.2",
      "model_name": "CanvasModel",
      "state": {
       "_model_module_version": "^0.3.2",
       "_view_module_version": "^0.3.2",
       "layout": "IPY_MODEL_bf46da4f5b944613af843b932bc454d5",
       "size": [
        1000,
        500
       ]
      }
     },
     "a16b2a260cd64847967397b1df52ed83": {
      "model_module": "@jupyter-widgets/base",
      "model_module_version": "1.2.0",
      "model_name": "LayoutModel",
      "state": {
       "height": "115px",
       "width": "165px"
      }
     },
     "a174e91e9a30499e9baa1938d0a029b5": {
      "model_module": "ipycanvas",
      "model_module_version": "^0.3.2",
      "model_name": "CanvasModel",
      "state": {
       "_model_module_version": "^0.3.2",
       "_view_module_version": "^0.3.2",
       "layout": "IPY_MODEL_e172d32c2b1b42c3b52b20f06b41db39",
       "size": [
        200,
        200
       ]
      }
     },
     "a1757ec9eef84ca88865ab471e17d6b8": {
      "model_module": "ipycanvas",
      "model_module_version": "^0.3.2",
      "model_name": "CanvasModel",
      "state": {
       "_model_module_version": "^0.3.2",
       "_view_module_version": "^0.3.2",
       "layout": "IPY_MODEL_19de02dbd475423bb593619d10db2647",
       "size": [
        1000,
        500
       ]
      }
     },
     "a17888730109410cbcbaf78ea646dd3b": {
      "model_module": "ipycanvas",
      "model_module_version": "^0.13",
      "model_name": "CanvasManagerModel",
      "state": {
       "_model_module_version": "^0.13",
       "_view_module": null,
       "_view_module_version": ""
      }
     },
     "a19bc1d3f57949f4937bdc9642673f85": {
      "model_module": "@jupyter-widgets/base",
      "model_module_version": "1.2.0",
      "model_name": "LayoutModel",
      "state": {
       "height": "500px",
       "width": "1000px"
      }
     },
     "a1ac033c0b544963ba385033c85eb42b": {
      "model_module": "ipycanvas",
      "model_module_version": "^0.3.2",
      "model_name": "CanvasModel",
      "state": {
       "_model_module_version": "^0.3.2",
       "_view_module_version": "^0.3.2",
       "layout": "IPY_MODEL_e0ec58e33f33405fb1fac87b724c6d21",
       "size": [
        100,
        100
       ]
      }
     },
     "a277171e3c0348f29a3e177c58681b78": {
      "model_module": "@jupyter-widgets/base",
      "model_module_version": "1.2.0",
      "model_name": "LayoutModel",
      "state": {}
     },
     "a2973ccf3bea43ddb929b578306253fa": {
      "model_module": "ipycanvas",
      "model_module_version": "^0.3.2",
      "model_name": "CanvasModel",
      "state": {
       "_model_module_version": "^0.3.2",
       "_view_module_version": "^0.3.2",
       "layout": "IPY_MODEL_4148f74e409f439099bb116c2029c436",
       "size": [
        165,
        115
       ]
      }
     },
     "a35f0b174b58448895d65025ac767e66": {
      "model_module": "@jupyter-widgets/base",
      "model_module_version": "1.2.0",
      "model_name": "LayoutModel",
      "state": {
       "height": "200px",
       "width": "200px"
      }
     },
     "a39883e659fc4c2cad13a2e8867e4c7c": {
      "model_module": "ipycanvas",
      "model_module_version": "^0.3.2",
      "model_name": "CanvasModel",
      "state": {
       "_model_module_version": "^0.3.2",
       "_view_module_version": "^0.3.2",
       "layout": "IPY_MODEL_9156049c2f9c442eb417ba43cbe13f9e",
       "size": [
        200,
        200
       ]
      }
     },
     "a43fc9be62e243ff969cffd51935ddf8": {
      "model_module": "@jupyter-widgets/base",
      "model_module_version": "1.2.0",
      "model_name": "LayoutModel",
      "state": {}
     },
     "a4ad71f81eca4524b2a346e27d8699b5": {
      "model_module": "ipycanvas",
      "model_module_version": "^0.3.2",
      "model_name": "CanvasModel",
      "state": {
       "_model_module_version": "^0.3.2",
       "_view_module_version": "^0.3.2",
       "layout": "IPY_MODEL_9a70ad7a0a8c42bc82fada6056372863",
       "size": [
        200,
        200
       ]
      }
     },
     "a50d3f95e9a6483b96ce08c88008304f": {
      "model_module": "@jupyter-widgets/base",
      "model_module_version": "1.2.0",
      "model_name": "LayoutModel",
      "state": {
       "height": "115px",
       "width": "165px"
      }
     },
     "a5b59b76bcbc43c0b8f6c5f45d9107af": {
      "model_module": "ipycanvas",
      "model_module_version": "^0.3.2",
      "model_name": "MultiCanvasModel",
      "state": {
       "_canvases": [
        "IPY_MODEL_ef7eba389c0f49d29e6f7fd7df920e10",
        "IPY_MODEL_e838c014d65d46f7b98111353a02ebca",
        "IPY_MODEL_77774aa0fc8241a1bf8759a7d36dc5a8",
        "IPY_MODEL_8a4f433e337342bfb0e3f66b7a5a0647"
       ],
       "_model_module_version": "^0.3.2",
       "_view_module_version": "^0.3.2",
       "layout": "IPY_MODEL_4468c9a175d14b5f93a6011e7770c7eb"
      }
     },
     "a5c64b2751e0466f8ed611660bdd0066": {
      "model_module": "@jupyter-widgets/base",
      "model_module_version": "1.2.0",
      "model_name": "LayoutModel",
      "state": {
       "height": "115px",
       "width": "155px"
      }
     },
     "a73cc516953548a5a62970312aa4fb96": {
      "model_module": "@jupyter-widgets/base",
      "model_module_version": "1.2.0",
      "model_name": "LayoutModel",
      "state": {
       "height": "100px",
       "width": "100px"
      }
     },
     "a7e8eb2f8c074746862f1ba339ce93be": {
      "model_module": "@jupyter-widgets/base",
      "model_module_version": "1.2.0",
      "model_name": "LayoutModel",
      "state": {
       "height": "360px",
       "width": "320px"
      }
     },
     "a877dadfa2384fdcba43f5bcff018725": {
      "model_module": "@jupyter-widgets/base",
      "model_module_version": "1.2.0",
      "model_name": "LayoutModel",
      "state": {
       "height": "115px",
       "width": "165px"
      }
     },
     "a900a9919bc6496e88dbe2ae6d9ffb4f": {
      "model_module": "@jupyter-widgets/base",
      "model_module_version": "1.2.0",
      "model_name": "LayoutModel",
      "state": {
       "height": "115px",
       "width": "165px"
      }
     },
     "a98f4146ead84be3b13e68f2d2d15b7d": {
      "model_module": "ipycanvas",
      "model_module_version": "^0.3.2",
      "model_name": "CanvasModel",
      "state": {
       "_model_module_version": "^0.3.2",
       "_view_module_version": "^0.3.2",
       "layout": "IPY_MODEL_f5ed501c428b4585a6086f034a40daa5",
       "size": [
        100,
        100
       ]
      }
     },
     "aa6dbe25ab0049298c2f1b94ece1c7ee": {
      "model_module": "ipycanvas",
      "model_module_version": "^0.3.2",
      "model_name": "CanvasModel",
      "state": {
       "_model_module_version": "^0.3.2",
       "_view_module_version": "^0.3.2",
       "layout": "IPY_MODEL_0c3022008adb4050b46fcdffd7f8d04d",
       "size": [
        165,
        115
       ]
      }
     },
     "aaa6fb171db64cbfab2189c05f249f1e": {
      "model_module": "@jupyter-widgets/base",
      "model_module_version": "1.2.0",
      "model_name": "LayoutModel",
      "state": {
       "height": "100px",
       "width": "100px"
      }
     },
     "ab26c6231cd6439c8dfcbb78bd8189d6": {
      "model_module": "ipycanvas",
      "model_module_version": "^0.3.2",
      "model_name": "CanvasModel",
      "state": {
       "_model_module_version": "^0.3.2",
       "_view_module_version": "^0.3.2",
       "layout": "IPY_MODEL_ce3461760316486796a9b7ee48a94ae6",
       "size": [
        200,
        200
       ]
      }
     },
     "ab3fa3e403db4ddbabcc3974fb85c73c": {
      "model_module": "@jupyter-widgets/base",
      "model_module_version": "1.2.0",
      "model_name": "LayoutModel",
      "state": {
       "height": "200px",
       "width": "200px"
      }
     },
     "ab6c35be08024a98bb3229a143f878d3": {
      "model_module": "ipycanvas",
      "model_module_version": "^0.3.2",
      "model_name": "CanvasModel",
      "state": {
       "_model_module_version": "^0.3.2",
       "_view_module_version": "^0.3.2",
       "layout": "IPY_MODEL_e8fb9b47e4b54de2baa92f399116fb07",
       "size": [
        165,
        115
       ]
      }
     },
     "ab70ee47a86441048b571002d16b39cc": {
      "model_module": "@jupyter-widgets/base",
      "model_module_version": "1.2.0",
      "model_name": "LayoutModel",
      "state": {
       "height": "115px",
       "width": "165px"
      }
     },
     "ac645f1f3f71476a94bec8cffa77d7fd": {
      "model_module": "@jupyter-widgets/base",
      "model_module_version": "1.2.0",
      "model_name": "LayoutModel",
      "state": {
       "height": "200px",
       "width": "200px"
      }
     },
     "ac8a1be652f44dacb59f27cd396fe05e": {
      "model_module": "@jupyter-widgets/base",
      "model_module_version": "1.2.0",
      "model_name": "LayoutModel",
      "state": {}
     },
     "acbe0077a7ab4001bff71b0dc7a1d0a1": {
      "model_module": "ipycanvas",
      "model_module_version": "^0.13",
      "model_name": "CanvasModel",
      "state": {
       "_canvas_manager": "IPY_MODEL_a17888730109410cbcbaf78ea646dd3b",
       "_model_module_version": "^0.13",
       "_view_module_version": "^0.13",
       "layout": "IPY_MODEL_d909fc5e900e43fe86c8f966dd9a432b"
      }
     },
     "acca3ec34f774ce1be40a4f8d962c684": {
      "model_module": "@jupyter-widgets/base",
      "model_module_version": "1.2.0",
      "model_name": "LayoutModel",
      "state": {
       "height": "200px",
       "width": "200px"
      }
     },
     "ad0244570d8f4c04951a16494115bb75": {
      "model_module": "@jupyter-widgets/base",
      "model_module_version": "1.2.0",
      "model_name": "LayoutModel",
      "state": {
       "height": "200px",
       "width": "200px"
      }
     },
     "ad344e85d2234ebba797affcae707f2f": {
      "model_module": "ipycanvas",
      "model_module_version": "^0.3.2",
      "model_name": "CanvasModel",
      "state": {
       "_model_module_version": "^0.3.2",
       "_view_module_version": "^0.3.2",
       "layout": "IPY_MODEL_7868a032623c42eca1a6f319df08976c",
       "size": [
        165,
        115
       ]
      }
     },
     "ad704f07117f41c19724cb4fa9ba2f56": {
      "model_module": "ipycanvas",
      "model_module_version": "^0.3.2",
      "model_name": "CanvasModel",
      "state": {
       "_model_module_version": "^0.3.2",
       "_view_module_version": "^0.3.2",
       "layout": "IPY_MODEL_31a47533f5734c42a42c99655bcc5f05",
       "size": [
        120,
        100
       ]
      }
     },
     "adbfa69b126d4adf91328a27a2247151": {
      "model_module": "@jupyter-widgets/base",
      "model_module_version": "1.2.0",
      "model_name": "LayoutModel",
      "state": {
       "height": "100px",
       "width": "100px"
      }
     },
     "ae6896a432484f2ab3fbb074eea98f2a": {
      "model_module": "@jupyter-widgets/base",
      "model_module_version": "1.2.0",
      "model_name": "LayoutModel",
      "state": {
       "height": "115px",
       "width": "165px"
      }
     },
     "aeee90c7ce8443d6a21bbceec877873e": {
      "model_module": "@jupyter-widgets/base",
      "model_module_version": "1.2.0",
      "model_name": "LayoutModel",
      "state": {
       "height": "115px",
       "width": "165px"
      }
     },
     "af16fb23dac64448aac49c9fd75c844d": {
      "model_module": "ipycanvas",
      "model_module_version": "^0.3.2",
      "model_name": "CanvasModel",
      "state": {
       "_model_module_version": "^0.3.2",
       "_view_module_version": "^0.3.2",
       "layout": "IPY_MODEL_0e3eb5f22f1249eb90cabbe16e97e006",
       "size": [
        400,
        280
       ]
      }
     },
     "af3c07d2625b4a68a8243d94f27333ab": {
      "model_module": "ipycanvas",
      "model_module_version": "^0.3.2",
      "model_name": "CanvasModel",
      "state": {
       "_model_module_version": "^0.3.2",
       "_view_module_version": "^0.3.2",
       "layout": "IPY_MODEL_c9d991f6bdb64f83addc9f2410494941",
       "size": [
        300,
        300
       ]
      }
     },
     "af81f84a492f4e259e809d9e684afa0d": {
      "model_module": "ipycanvas",
      "model_module_version": "^0.3.2",
      "model_name": "CanvasModel",
      "state": {
       "_model_module_version": "^0.3.2",
       "_view_module_version": "^0.3.2",
       "layout": "IPY_MODEL_7e27783e5f464d2f9503d96043c7d113",
       "size": [
        100,
        100
       ]
      }
     },
     "afac9c1c29fe4f87ba998196883d379e": {
      "model_module": "@jupyter-widgets/base",
      "model_module_version": "1.2.0",
      "model_name": "LayoutModel",
      "state": {
       "height": "200px",
       "width": "200px"
      }
     },
     "afff636bc543419db06cf469ba8f2b85": {
      "model_module": "ipycanvas",
      "model_module_version": "^0.3.2",
      "model_name": "CanvasModel",
      "state": {
       "_model_module_version": "^0.3.2",
       "_view_module_version": "^0.3.2",
       "layout": "IPY_MODEL_77c7b8eee12f4ffbbc55d383a5fd9b05",
       "size": [
        1000,
        500
       ]
      }
     },
     "b06b65af6fc14c619637d9f1c90fc390": {
      "model_module": "ipycanvas",
      "model_module_version": "^0.3.2",
      "model_name": "CanvasModel",
      "state": {
       "_model_module_version": "^0.3.2",
       "_view_module_version": "^0.3.2",
       "layout": "IPY_MODEL_29f94e5d87c94662a1a748044a5315b6",
       "size": [
        165,
        115
       ]
      }
     },
     "b07de67ddb964d8188541813bdcdd696": {
      "model_module": "ipycanvas",
      "model_module_version": "^0.3.2",
      "model_name": "CanvasModel",
      "state": {
       "_model_module_version": "^0.3.2",
       "_view_module_version": "^0.3.2",
       "layout": "IPY_MODEL_5ea46b2bc7194eb180c4791e3d0ea4f3",
       "size": [
        100,
        100
       ]
      }
     },
     "b298a1086675482b840316d3d82871e2": {
      "model_module": "@jupyter-widgets/base",
      "model_module_version": "1.2.0",
      "model_name": "LayoutModel",
      "state": {
       "height": "115px",
       "width": "165px"
      }
     },
     "b2c9e535f2524ea0952e6c1112bc4870": {
      "model_module": "@jupyter-widgets/base",
      "model_module_version": "1.2.0",
      "model_name": "LayoutModel",
      "state": {
       "height": "200px",
       "width": "200px"
      }
     },
     "b3079075bd39409f8793e2fef494b8fd": {
      "model_module": "ipycanvas",
      "model_module_version": "^0.3.2",
      "model_name": "CanvasModel",
      "state": {
       "_model_module_version": "^0.3.2",
       "_view_module_version": "^0.3.2",
       "layout": "IPY_MODEL_92bd238269e34d44b9951cab2a90e22c",
       "size": [
        100,
        100
       ]
      }
     },
     "b35464bd85df491489e35007d177521c": {
      "model_module": "@jupyter-widgets/base",
      "model_module_version": "1.2.0",
      "model_name": "LayoutModel",
      "state": {
       "height": "200px",
       "width": "200px"
      }
     },
     "b357f58a561b429aa435472b8da20f7b": {
      "model_module": "@jupyter-widgets/base",
      "model_module_version": "1.2.0",
      "model_name": "LayoutModel",
      "state": {
       "height": "200px",
       "width": "200px"
      }
     },
     "b376264dc03345f1adfe441df4a29245": {
      "model_module": "@jupyter-widgets/base",
      "model_module_version": "1.2.0",
      "model_name": "LayoutModel",
      "state": {
       "height": "100px",
       "width": "100px"
      }
     },
     "b392099acfcb4db49cc79ad5d529dcb2": {
      "model_module": "ipycanvas",
      "model_module_version": "^0.3.2",
      "model_name": "CanvasModel",
      "state": {
       "_model_module_version": "^0.3.2",
       "_view_module_version": "^0.3.2",
       "layout": "IPY_MODEL_b35464bd85df491489e35007d177521c",
       "size": [
        200,
        200
       ]
      }
     },
     "b3db98e321e342a6a0ba9f8f87a1d283": {
      "model_module": "ipycanvas",
      "model_module_version": "^0.3.2",
      "model_name": "CanvasModel",
      "state": {
       "_model_module_version": "^0.3.2",
       "_view_module_version": "^0.3.2",
       "layout": "IPY_MODEL_9fd439891ac6466a94a030dfe1a2ebd1",
       "size": [
        165,
        115
       ]
      }
     },
     "b3de05f4f4a7430dadf40fca906b2aa7": {
      "model_module": "@jupyter-widgets/base",
      "model_module_version": "1.2.0",
      "model_name": "LayoutModel",
      "state": {
       "height": "200px",
       "width": "200px"
      }
     },
     "b3fd734e7b6c45a483fcb1651cd2f6cd": {
      "model_module": "@jupyter-widgets/base",
      "model_module_version": "1.2.0",
      "model_name": "LayoutModel",
      "state": {
       "height": "200px",
       "width": "200px"
      }
     },
     "b45cc15983c14f5c8aed31b95894e7ea": {
      "model_module": "@jupyter-widgets/base",
      "model_module_version": "1.2.0",
      "model_name": "LayoutModel",
      "state": {
       "height": "280px",
       "width": "400px"
      }
     },
     "b4b431d913ca436ca6d2ac1052615289": {
      "model_module": "@jupyter-widgets/base",
      "model_module_version": "1.2.0",
      "model_name": "LayoutModel",
      "state": {
       "height": "200px",
       "width": "200px"
      }
     },
     "b4d64a7bf5a04892b7199915a466c511": {
      "model_module": "ipycanvas",
      "model_module_version": "^0.3.2",
      "model_name": "CanvasModel",
      "state": {
       "_model_module_version": "^0.3.2",
       "_view_module_version": "^0.3.2",
       "layout": "IPY_MODEL_3e77915ae440425690eb3028cbcae574",
       "size": [
        200,
        200
       ]
      }
     },
     "b4d835c61af14c1485c649d748710947": {
      "model_module": "ipycanvas",
      "model_module_version": "^0.3.2",
      "model_name": "CanvasModel",
      "state": {
       "_model_module_version": "^0.3.2",
       "_view_module_version": "^0.3.2",
       "layout": "IPY_MODEL_5d68eef2c9ce43248ebd0c82e36bccbd",
       "size": [
        100,
        100
       ]
      }
     },
     "b5329fd50d1746eb9f3590b17cfcfcff": {
      "model_module": "@jupyter-widgets/base",
      "model_module_version": "1.2.0",
      "model_name": "LayoutModel",
      "state": {
       "height": "200px",
       "width": "200px"
      }
     },
     "b54a6fdb04b14ba9a9f22273d81145f2": {
      "model_module": "ipycanvas",
      "model_module_version": "^0.13",
      "model_name": "CanvasModel",
      "state": {
       "_canvas_manager": "IPY_MODEL_a17888730109410cbcbaf78ea646dd3b",
       "_model_module_version": "^0.13",
       "_view_module_version": "^0.13",
       "layout": "IPY_MODEL_3a0f06d823054ca48041556730e21351"
      }
     },
     "b6fe1b122d6a45ab8d933b316879dbbd": {
      "model_module": "ipycanvas",
      "model_module_version": "^0.3.2",
      "model_name": "CanvasModel",
      "state": {
       "_model_module_version": "^0.3.2",
       "_view_module_version": "^0.3.2",
       "layout": "IPY_MODEL_f3422c310c0a43a9b97f1428393bb370",
       "size": [
        300,
        300
       ]
      }
     },
     "b7060b18ae82470abcc54eb62dd33552": {
      "model_module": "@jupyter-widgets/base",
      "model_module_version": "1.2.0",
      "model_name": "LayoutModel",
      "state": {
       "height": "200px",
       "width": "200px"
      }
     },
     "b76a65978b3a4536a09308fe594c18aa": {
      "model_module": "@jupyter-widgets/base",
      "model_module_version": "1.2.0",
      "model_name": "LayoutModel",
      "state": {
       "height": "115px",
       "width": "165px"
      }
     },
     "b823b1f2e26944b6869c384c5dc5ee0b": {
      "model_module": "ipycanvas",
      "model_module_version": "^0.3.2",
      "model_name": "CanvasModel",
      "state": {
       "_model_module_version": "^0.3.2",
       "_view_module_version": "^0.3.2",
       "layout": "IPY_MODEL_48727c34c0d64a0892dbe312f15c3947",
       "size": [
        200,
        200
       ]
      }
     },
     "b846e9878b7d42cbbf52dc92c6dbdb81": {
      "model_module": "@jupyter-widgets/base",
      "model_module_version": "1.2.0",
      "model_name": "LayoutModel",
      "state": {
       "height": "500px",
       "width": "800px"
      }
     },
     "b84a414fa8e045058f098294527bd4c3": {
      "model_module": "ipycanvas",
      "model_module_version": "^0.13",
      "model_name": "CanvasModel",
      "state": {
       "_canvas_manager": "IPY_MODEL_a17888730109410cbcbaf78ea646dd3b",
       "_model_module_version": "^0.13",
       "_view_module_version": "^0.13",
       "layout": "IPY_MODEL_8129caff5d4643f18869b14a290b86bb"
      }
     },
     "b8529a8ddf2c4eb0b02ebd6e0702e469": {
      "model_module": "@jupyter-widgets/base",
      "model_module_version": "1.2.0",
      "model_name": "LayoutModel",
      "state": {
       "height": "200px",
       "width": "200px"
      }
     },
     "b8f1f06264fa4cb2ba459a57b6b507fa": {
      "model_module": "@jupyter-widgets/base",
      "model_module_version": "1.2.0",
      "model_name": "LayoutModel",
      "state": {
       "height": "100px",
       "width": "120px"
      }
     },
     "b95435f979b446069d49ad177dda5ddb": {
      "model_module": "ipycanvas",
      "model_module_version": "^0.3.2",
      "model_name": "CanvasModel",
      "state": {
       "_model_module_version": "^0.3.2",
       "_view_module_version": "^0.3.2",
       "layout": "IPY_MODEL_2ac7c4ef4ff44d3aab716057cd7926f8",
       "size": [
        200,
        200
       ]
      }
     },
     "b9bf2ef1c9ba4bf1aa38978a6e8b18cf": {
      "model_module": "@jupyter-widgets/base",
      "model_module_version": "1.2.0",
      "model_name": "LayoutModel",
      "state": {
       "height": "100px",
       "width": "100px"
      }
     },
     "ba3a03732ac94da8910c7f5b91eb62b4": {
      "model_module": "@jupyter-widgets/base",
      "model_module_version": "1.2.0",
      "model_name": "LayoutModel",
      "state": {
       "height": "115px",
       "width": "165px"
      }
     },
     "ba6bac38183b4898829a6f3a311d361a": {
      "model_module": "ipycanvas",
      "model_module_version": "^0.3.2",
      "model_name": "CanvasModel",
      "state": {
       "_model_module_version": "^0.3.2",
       "_view_module_version": "^0.3.2",
       "layout": "IPY_MODEL_b3fd734e7b6c45a483fcb1651cd2f6cd",
       "size": [
        200,
        200
       ]
      }
     },
     "bacbc7a142d74f1dbc683db05917f6b1": {
      "model_module": "@jupyter-widgets/base",
      "model_module_version": "1.2.0",
      "model_name": "LayoutModel",
      "state": {
       "height": "100px",
       "width": "110px"
      }
     },
     "bb2e1b876e51499fa626731477753da5": {
      "model_module": "ipycanvas",
      "model_module_version": "^0.3.2",
      "model_name": "CanvasModel",
      "state": {
       "_model_module_version": "^0.3.2",
       "_view_module_version": "^0.3.2",
       "layout": "IPY_MODEL_e98bee1c807b4f0287b2470f8abfcbda",
       "size": [
        120,
        100
       ]
      }
     },
     "bb30058a426f4b89a4057c7fc06c0540": {
      "model_module": "@jupyter-widgets/base",
      "model_module_version": "1.2.0",
      "model_name": "LayoutModel",
      "state": {
       "height": "115px",
       "width": "165px"
      }
     },
     "bb58ecc48ca24904b4d929d356f18af2": {
      "model_module": "ipycanvas",
      "model_module_version": "^0.3.2",
      "model_name": "CanvasModel",
      "state": {
       "_model_module_version": "^0.3.2",
       "_view_module_version": "^0.3.2",
       "layout": "IPY_MODEL_bacbc7a142d74f1dbc683db05917f6b1",
       "size": [
        110,
        100
       ]
      }
     },
     "bb5dde00b6ff43b7aa4a0ce7487f433c": {
      "model_module": "@jupyter-widgets/base",
      "model_module_version": "1.2.0",
      "model_name": "LayoutModel",
      "state": {
       "height": "200px",
       "width": "200px"
      }
     },
     "bb9ed6adc55040dc8c25a90b002a92f0": {
      "model_module": "@jupyter-widgets/base",
      "model_module_version": "1.2.0",
      "model_name": "LayoutModel",
      "state": {
       "height": "200px",
       "width": "200px"
      }
     },
     "bbc96f2cc2ae429eb4e03aaffaf5b0c0": {
      "model_module": "@jupyter-widgets/base",
      "model_module_version": "1.2.0",
      "model_name": "LayoutModel",
      "state": {
       "height": "100px",
       "width": "100px"
      }
     },
     "bc0b92b86d1148afabd1efdd0efd2e64": {
      "model_module": "ipycanvas",
      "model_module_version": "^0.3.2",
      "model_name": "CanvasModel",
      "state": {
       "_model_module_version": "^0.3.2",
       "_view_module_version": "^0.3.2",
       "layout": "IPY_MODEL_90d4f6a5dc2a41ac87196b47fce981a6",
       "size": [
        1000,
        500
       ]
      }
     },
     "bc5f7d33b6894397a8f934cddfb0d75e": {
      "model_module": "@jupyter-widgets/base",
      "model_module_version": "1.2.0",
      "model_name": "LayoutModel",
      "state": {
       "height": "100px",
       "width": "100px"
      }
     },
     "bc9cc3e2240a4b34949310097dc3624c": {
      "model_module": "ipycanvas",
      "model_module_version": "^0.3.2",
      "model_name": "CanvasModel",
      "state": {
       "_model_module_version": "^0.3.2",
       "_view_module_version": "^0.3.2",
       "layout": "IPY_MODEL_8e369c2508cb4d77a7b2b07a772d820b",
       "size": [
        165,
        115
       ]
      }
     },
     "bcc275cfbcd94089b647207becdd86df": {
      "model_module": "ipycanvas",
      "model_module_version": "^0.3.2",
      "model_name": "MultiCanvasModel",
      "state": {
       "_canvases": [
        "IPY_MODEL_b06b65af6fc14c619637d9f1c90fc390",
        "IPY_MODEL_37120c1812e2440798ac7a5752a0ece1"
       ],
       "_model_module_version": "^0.3.2",
       "_view_module_version": "^0.3.2",
       "layout": "IPY_MODEL_4ef859dddee640c0b9797e5fe32e3cc8"
      }
     },
     "bd69894b140c4537a40ab3d0803351fd": {
      "model_module": "ipycanvas",
      "model_module_version": "^0.3.2",
      "model_name": "CanvasModel",
      "state": {
       "_model_module_version": "^0.3.2",
       "_view_module_version": "^0.3.2",
       "layout": "IPY_MODEL_a877dadfa2384fdcba43f5bcff018725",
       "size": [
        165,
        115
       ]
      }
     },
     "be485a209c124fce8a9e0fcfd3d7e3ed": {
      "model_module": "@jupyter-widgets/base",
      "model_module_version": "1.2.0",
      "model_name": "LayoutModel",
      "state": {
       "height": "100px",
       "width": "100px"
      }
     },
     "be969e1d93634c499236775e4278270b": {
      "model_module": "@jupyter-widgets/base",
      "model_module_version": "1.2.0",
      "model_name": "LayoutModel",
      "state": {}
     },
     "bedc64962a264fd296afbea1ea09426a": {
      "model_module": "@jupyter-widgets/base",
      "model_module_version": "1.2.0",
      "model_name": "LayoutModel",
      "state": {
       "height": "115px",
       "width": "165px"
      }
     },
     "befc85e4ad0a40d898207da5315f6b8f": {
      "model_module": "@jupyter-widgets/base",
      "model_module_version": "1.2.0",
      "model_name": "LayoutModel",
      "state": {
       "height": "200px",
       "width": "200px"
      }
     },
     "bf46da4f5b944613af843b932bc454d5": {
      "model_module": "@jupyter-widgets/base",
      "model_module_version": "1.2.0",
      "model_name": "LayoutModel",
      "state": {
       "height": "500px",
       "width": "1000px"
      }
     },
     "c0cf62a681f8423bbd648879ccc384b1": {
      "model_module": "@jupyter-widgets/base",
      "model_module_version": "1.2.0",
      "model_name": "LayoutModel",
      "state": {
       "height": "200px",
       "width": "200px"
      }
     },
     "c0dc2fc637d1414a91361e232b686557": {
      "model_module": "@jupyter-widgets/base",
      "model_module_version": "1.2.0",
      "model_name": "LayoutModel",
      "state": {
       "height": "200px",
       "width": "200px"
      }
     },
     "c10fce454432439e827320a594fcfc67": {
      "model_module": "@jupyter-widgets/base",
      "model_module_version": "1.2.0",
      "model_name": "LayoutModel",
      "state": {
       "height": "200px",
       "width": "200px"
      }
     },
     "c134b0c155c34773910229daf8bd16c1": {
      "model_module": "@jupyter-widgets/base",
      "model_module_version": "1.2.0",
      "model_name": "LayoutModel",
      "state": {
       "height": "200px",
       "width": "200px"
      }
     },
     "c1d921671c6b4814826a8659a103e917": {
      "model_module": "ipycanvas",
      "model_module_version": "^0.3.2",
      "model_name": "CanvasModel",
      "state": {
       "_model_module_version": "^0.3.2",
       "_view_module_version": "^0.3.2",
       "layout": "IPY_MODEL_72a8af8c9a8141a3976eb79b87b9af8b",
       "size": [
        200,
        200
       ]
      }
     },
     "c2218b2523a54eb2b0ac6bd5b1667020": {
      "model_module": "ipycanvas",
      "model_module_version": "^0.3.2",
      "model_name": "CanvasModel",
      "state": {
       "_model_module_version": "^0.3.2",
       "_view_module_version": "^0.3.2",
       "layout": "IPY_MODEL_2242556f074a4b57aa78ca189e4cfac6",
       "size": [
        155,
        115
       ]
      }
     },
     "c23156cf93b8416d854f58ab2522da93": {
      "model_module": "ipycanvas",
      "model_module_version": "^0.3.2",
      "model_name": "CanvasModel",
      "state": {
       "_model_module_version": "^0.3.2",
       "_view_module_version": "^0.3.2",
       "layout": "IPY_MODEL_befc85e4ad0a40d898207da5315f6b8f",
       "size": [
        200,
        200
       ]
      }
     },
     "c26636934e5d40759255fd8a7ced484e": {
      "model_module": "ipycanvas",
      "model_module_version": "^0.13",
      "model_name": "CanvasModel",
      "state": {
       "_canvas_manager": "IPY_MODEL_2b3f9ff77f2e4d1cb622d2e7f1b56891",
       "_model_module_version": "^0.13",
       "_view_module_version": "^0.13",
       "layout": "IPY_MODEL_5be354bd0ed5412980be4762f00a4d84"
      }
     },
     "c3220a0513fe4c3590e18e0777578f3f": {
      "model_module": "@jupyter-widgets/base",
      "model_module_version": "1.2.0",
      "model_name": "LayoutModel",
      "state": {
       "height": "200px",
       "width": "200px"
      }
     },
     "c3262f1831a4421d965913e81a4074be": {
      "model_module": "ipycanvas",
      "model_module_version": "^0.13",
      "model_name": "CanvasModel",
      "state": {
       "_canvas_manager": "IPY_MODEL_a17888730109410cbcbaf78ea646dd3b",
       "_model_module_version": "^0.13",
       "_view_module_version": "^0.13",
       "layout": "IPY_MODEL_96c125e2fda343c5a54af32c0b0e2cda"
      }
     },
     "c37af455a2d64e9fb5985e8523ac1341": {
      "model_module": "@jupyter-widgets/base",
      "model_module_version": "1.2.0",
      "model_name": "LayoutModel",
      "state": {
       "height": "115px",
       "width": "165px"
      }
     },
     "c385f209980f492d8e24296a900a33d8": {
      "model_module": "ipycanvas",
      "model_module_version": "^0.13",
      "model_name": "CanvasModel",
      "state": {
       "_canvas_manager": "IPY_MODEL_a17888730109410cbcbaf78ea646dd3b",
       "_model_module_version": "^0.13",
       "_view_module_version": "^0.13",
       "layout": "IPY_MODEL_22e30770001a4888a742166a8fd5d7c1"
      }
     },
     "c388f561ffba4332b393f4a87ff2366a": {
      "model_module": "@jupyter-widgets/base",
      "model_module_version": "1.2.0",
      "model_name": "LayoutModel",
      "state": {
       "height": "200px",
       "width": "200px"
      }
     },
     "c399922d13d24f989df032eb939fc24c": {
      "model_module": "ipycanvas",
      "model_module_version": "^0.3.2",
      "model_name": "CanvasModel",
      "state": {
       "_model_module_version": "^0.3.2",
       "_view_module_version": "^0.3.2",
       "layout": "IPY_MODEL_335e1e9fea4d452a8a2dc12e29d1b430",
       "size": [
        200,
        200
       ]
      }
     },
     "c3e307bd9ca04cab8af422b9644fc3f4": {
      "model_module": "ipycanvas",
      "model_module_version": "^0.3.2",
      "model_name": "CanvasModel",
      "state": {
       "_model_module_version": "^0.3.2",
       "_view_module_version": "^0.3.2",
       "layout": "IPY_MODEL_b8f1f06264fa4cb2ba459a57b6b507fa",
       "size": [
        120,
        100
       ]
      }
     },
     "c4a049214e78410dbc2151d3105be69e": {
      "model_module": "ipycanvas",
      "model_module_version": "^0.3.2",
      "model_name": "CanvasModel",
      "state": {
       "_model_module_version": "^0.3.2",
       "_view_module_version": "^0.3.2",
       "layout": "IPY_MODEL_1230530bccaa47f1a0c9f7b32d10c219",
       "size": [
        200,
        200
       ]
      }
     },
     "c528c12b672d46faa10dc63cad9ed4a7": {
      "model_module": "@jupyter-widgets/base",
      "model_module_version": "1.2.0",
      "model_name": "LayoutModel",
      "state": {
       "height": "115px",
       "width": "165px"
      }
     },
     "c544705bb367447cbe5b92e3e4d527d2": {
      "model_module": "ipycanvas",
      "model_module_version": "^0.3.2",
      "model_name": "CanvasModel",
      "state": {
       "_model_module_version": "^0.3.2",
       "_view_module_version": "^0.3.2",
       "layout": "IPY_MODEL_563bb969d8d4402888dd3ee75a6f7e79",
       "size": [
        800,
        200
       ]
      }
     },
     "c5a83f8e06df4e7a87682acef4ea653e": {
      "model_module": "@jupyter-widgets/base",
      "model_module_version": "1.2.0",
      "model_name": "LayoutModel",
      "state": {
       "height": "200px",
       "width": "200px"
      }
     },
     "c5d75f53fe124d72bca0b301cec9b66c": {
      "model_module": "@jupyter-widgets/base",
      "model_module_version": "1.2.0",
      "model_name": "LayoutModel",
      "state": {
       "height": "100px",
       "width": "120px"
      }
     },
     "c5ee502859854e99adaad260b4df983b": {
      "model_module": "ipycanvas",
      "model_module_version": "^0.3.2",
      "model_name": "CanvasModel",
      "state": {
       "_model_module_version": "^0.3.2",
       "_view_module_version": "^0.3.2",
       "layout": "IPY_MODEL_7727c6da1d544b7b9fb84ce4e510561b",
       "size": [
        200,
        200
       ]
      }
     },
     "c600cac36ac549f098d4bd7b754f7b65": {
      "model_module": "ipycanvas",
      "model_module_version": "^0.13",
      "model_name": "CanvasModel",
      "state": {
       "_canvas_manager": "IPY_MODEL_a17888730109410cbcbaf78ea646dd3b",
       "_model_module_version": "^0.13",
       "_view_module_version": "^0.13",
       "layout": "IPY_MODEL_5ea7f9866ca443758a52a1691844ae54"
      }
     },
     "c60ce78654624cb3a238bb263eaf65b3": {
      "model_module": "@jupyter-widgets/base",
      "model_module_version": "1.2.0",
      "model_name": "LayoutModel",
      "state": {
       "height": "115px",
       "width": "165px"
      }
     },
     "c62a0b78ef7046d49dd0cf6b0df60fe9": {
      "model_module": "ipycanvas",
      "model_module_version": "^0.13",
      "model_name": "CanvasModel",
      "state": {
       "_canvas_manager": "IPY_MODEL_a17888730109410cbcbaf78ea646dd3b",
       "_model_module_version": "^0.13",
       "_view_module_version": "^0.13",
       "layout": "IPY_MODEL_977e12e1b3eb425e8c0a64bf520971c4"
      }
     },
     "c6540b4703da467bab8b9fd16d6ff0d1": {
      "model_module": "@jupyter-widgets/base",
      "model_module_version": "1.2.0",
      "model_name": "LayoutModel",
      "state": {
       "height": "100px",
       "width": "100px"
      }
     },
     "c69ac41d6df9491cbb7d1199de05017d": {
      "model_module": "@jupyter-widgets/base",
      "model_module_version": "1.2.0",
      "model_name": "LayoutModel",
      "state": {
       "height": "115px",
       "width": "165px"
      }
     },
     "c7107dd76c274ecb9c64facad1b4e2a6": {
      "model_module": "ipycanvas",
      "model_module_version": "^0.3.2",
      "model_name": "CanvasModel",
      "state": {
       "_model_module_version": "^0.3.2",
       "_view_module_version": "^0.3.2",
       "layout": "IPY_MODEL_ed3178b94d5240ec88db1c106b29da5b",
       "size": [
        100,
        100
       ]
      }
     },
     "c7655b7451a1444eaf4fdf4a7610e89c": {
      "model_module": "ipycanvas",
      "model_module_version": "^0.3.2",
      "model_name": "CanvasModel",
      "state": {
       "_model_module_version": "^0.3.2",
       "_view_module_version": "^0.3.2",
       "layout": "IPY_MODEL_3e79784708b14339bddf7a8172f9fd8c",
       "size": [
        600,
        600
       ]
      }
     },
     "c767704d06fa4abb9008f7f91d76bfd6": {
      "model_module": "@jupyter-widgets/base",
      "model_module_version": "1.2.0",
      "model_name": "LayoutModel",
      "state": {
       "height": "600px",
       "width": "600px"
      }
     },
     "c77d1267f81d4ae29c798647fd482d62": {
      "model_module": "ipycanvas",
      "model_module_version": "^0.3.2",
      "model_name": "MultiCanvasModel",
      "state": {
       "_canvases": [
        "IPY_MODEL_6ccc62bb05ed4c85b8e16a62d458f5be",
        "IPY_MODEL_b4d64a7bf5a04892b7199915a466c511",
        "IPY_MODEL_c4a049214e78410dbc2151d3105be69e",
        "IPY_MODEL_43bf53a1c9574004b6b7b0619f89b5a1"
       ],
       "_model_module_version": "^0.3.2",
       "_view_module_version": "^0.3.2",
       "layout": "IPY_MODEL_b7060b18ae82470abcc54eb62dd33552"
      }
     },
     "c78a5111831546c5a631a92ea0e81682": {
      "model_module": "@jupyter-widgets/base",
      "model_module_version": "1.2.0",
      "model_name": "LayoutModel",
      "state": {
       "height": "500px",
       "width": "1000px"
      }
     },
     "c7bfc9d7528d454f9e63d65e3f469414": {
      "model_module": "ipycanvas",
      "model_module_version": "^0.3.2",
      "model_name": "CanvasModel",
      "state": {
       "_model_module_version": "^0.3.2",
       "_view_module_version": "^0.3.2",
       "layout": "IPY_MODEL_afac9c1c29fe4f87ba998196883d379e",
       "size": [
        200,
        200
       ]
      }
     },
     "c856e5788b8d41899599d9af479db6df": {
      "model_module": "@jupyter-widgets/base",
      "model_module_version": "1.2.0",
      "model_name": "LayoutModel",
      "state": {}
     },
     "c87e88f80b4544d4a0d30393162c90a3": {
      "model_module": "ipycanvas",
      "model_module_version": "^0.3.2",
      "model_name": "CanvasModel",
      "state": {
       "_model_module_version": "^0.3.2",
       "_view_module_version": "^0.3.2",
       "layout": "IPY_MODEL_0437dd537396421ca8185a66ced47cb9",
       "size": [
        800,
        250
       ]
      }
     },
     "c8b55faeb0844fde9903b381be6bf45f": {
      "model_module": "ipycanvas",
      "model_module_version": "^0.3.2",
      "model_name": "CanvasModel",
      "state": {
       "_model_module_version": "^0.3.2",
       "_view_module_version": "^0.3.2",
       "layout": "IPY_MODEL_e481071468b94029a3dc90464025e0f9",
       "size": [
        400,
        280
       ]
      }
     },
     "c90fa02ae7164ebe893780356bd47e58": {
      "model_module": "@jupyter-widgets/base",
      "model_module_version": "1.2.0",
      "model_name": "LayoutModel",
      "state": {}
     },
     "c917391bd86144919e47c624af20d153": {
      "model_module": "ipycanvas",
      "model_module_version": "^0.13",
      "model_name": "CanvasModel",
      "state": {
       "_canvas_manager": "IPY_MODEL_a17888730109410cbcbaf78ea646dd3b",
       "_model_module_version": "^0.13",
       "_view_module_version": "^0.13",
       "layout": "IPY_MODEL_467401815e5a41aa88c1cf6f50aa4941"
      }
     },
     "c9b49e44fc444b9ba97d9d9b1c5f14b0": {
      "model_module": "ipycanvas",
      "model_module_version": "^0.3.2",
      "model_name": "CanvasModel",
      "state": {
       "_model_module_version": "^0.3.2",
       "_view_module_version": "^0.3.2",
       "layout": "IPY_MODEL_4b46a70a306f4cf1809e35f70b4062d1",
       "size": [
        100,
        100
       ]
      }
     },
     "c9d991f6bdb64f83addc9f2410494941": {
      "model_module": "@jupyter-widgets/base",
      "model_module_version": "1.2.0",
      "model_name": "LayoutModel",
      "state": {
       "height": "300px",
       "width": "300px"
      }
     },
     "c9f5dfbdf9e64e66b977fdab9ca368fa": {
      "model_module": "ipycanvas",
      "model_module_version": "^0.3.2",
      "model_name": "CanvasModel",
      "state": {
       "_model_module_version": "^0.3.2",
       "_view_module_version": "^0.3.2",
       "layout": "IPY_MODEL_22bfde42f416458ba52ebf09102241eb",
       "size": [
        320,
        360
       ]
      }
     },
     "cb366558f3154dd4aaba34d0912176d5": {
      "model_module": "ipycanvas",
      "model_module_version": "^0.13",
      "model_name": "CanvasModel",
      "state": {
       "_canvas_manager": "IPY_MODEL_a17888730109410cbcbaf78ea646dd3b",
       "_model_module_version": "^0.13",
       "_view_module_version": "^0.13",
       "layout": "IPY_MODEL_4504278970b04910bf7656398af7d1db"
      }
     },
     "cb6e7edc5bb34cc887f04afa54a2f833": {
      "model_module": "@jupyter-widgets/base",
      "model_module_version": "1.2.0",
      "model_name": "LayoutModel",
      "state": {
       "height": "100px",
       "width": "100px"
      }
     },
     "cb988a4d130747d48e0ba7141c13ef56": {
      "model_module": "@jupyter-widgets/base",
      "model_module_version": "1.2.0",
      "model_name": "LayoutModel",
      "state": {
       "height": "115px",
       "width": "165px"
      }
     },
     "cbacff90addd4de6b89c1c70003b07a5": {
      "model_module": "ipycanvas",
      "model_module_version": "^0.3.2",
      "model_name": "CanvasModel",
      "state": {
       "_model_module_version": "^0.3.2",
       "_view_module_version": "^0.3.2",
       "layout": "IPY_MODEL_c5d75f53fe124d72bca0b301cec9b66c",
       "size": [
        120,
        100
       ]
      }
     },
     "cbfcf559e5b44d7fbf56848969ad851a": {
      "model_module": "@jupyter-widgets/base",
      "model_module_version": "1.2.0",
      "model_name": "LayoutModel",
      "state": {}
     },
     "cc2980cc7f2545cbb2b8eb0ceaccc509": {
      "model_module": "@jupyter-widgets/base",
      "model_module_version": "1.2.0",
      "model_name": "LayoutModel",
      "state": {
       "height": "200px",
       "width": "200px"
      }
     },
     "ccd85183fd884a28925f6524e930325b": {
      "model_module": "ipycanvas",
      "model_module_version": "^0.3.2",
      "model_name": "CanvasModel",
      "state": {
       "_model_module_version": "^0.3.2",
       "_view_module_version": "^0.3.2",
       "layout": "IPY_MODEL_d8432246213c468ab65606f980f0b68a",
       "size": [
        165,
        115
       ]
      }
     },
     "ccf0c893822a426ea00bbe3278864f4d": {
      "model_module": "@jupyter-widgets/base",
      "model_module_version": "1.2.0",
      "model_name": "LayoutModel",
      "state": {
       "height": "200px",
       "width": "200px"
      }
     },
     "cd26390720b04f5884681e1733be9cd2": {
      "model_module": "ipycanvas",
      "model_module_version": "^0.13",
      "model_name": "CanvasModel",
      "state": {
       "_canvas_manager": "IPY_MODEL_a17888730109410cbcbaf78ea646dd3b",
       "_model_module_version": "^0.13",
       "_view_module_version": "^0.13",
       "layout": "IPY_MODEL_85f6f648ded34d5c8f2583e0ac0fafb7"
      }
     },
     "cdbd790651a640219883cc84d0f9762f": {
      "model_module": "@jupyter-widgets/base",
      "model_module_version": "1.2.0",
      "model_name": "LayoutModel",
      "state": {
       "height": "100px",
       "width": "800px"
      }
     },
     "ce3461760316486796a9b7ee48a94ae6": {
      "model_module": "@jupyter-widgets/base",
      "model_module_version": "1.2.0",
      "model_name": "LayoutModel",
      "state": {
       "height": "200px",
       "width": "200px"
      }
     },
     "cec916129051438d8b85e94f67a9510b": {
      "model_module": "ipycanvas",
      "model_module_version": "^0.3.2",
      "model_name": "CanvasModel",
      "state": {
       "_model_module_version": "^0.3.2",
       "_view_module_version": "^0.3.2",
       "layout": "IPY_MODEL_02d699ae7f8440638171eec316f4918f",
       "size": [
        100,
        100
       ]
      }
     },
     "cededce7d9bb42be819207342ab72468": {
      "model_module": "@jupyter-widgets/base",
      "model_module_version": "1.2.0",
      "model_name": "LayoutModel",
      "state": {
       "height": "100px",
       "width": "100px"
      }
     },
     "cf2cba21fe7741bba0abb23c006af854": {
      "model_module": "ipycanvas",
      "model_module_version": "^0.3.2",
      "model_name": "CanvasModel",
      "state": {
       "_model_module_version": "^0.3.2",
       "_view_module_version": "^0.3.2",
       "layout": "IPY_MODEL_75af06564cae47ea940194811b1c28a2",
       "size": [
        200,
        200
       ]
      }
     },
     "cfa8048530944188a210499e7ad13d9b": {
      "model_module": "ipycanvas",
      "model_module_version": "^0.3.2",
      "model_name": "CanvasModel",
      "state": {
       "_model_module_version": "^0.3.2",
       "_view_module_version": "^0.3.2",
       "layout": "IPY_MODEL_a5c64b2751e0466f8ed611660bdd0066",
       "size": [
        155,
        115
       ]
      }
     },
     "cff9794bfe284bfa9976ae54de6c4eb6": {
      "model_module": "@jupyter-widgets/base",
      "model_module_version": "1.2.0",
      "model_name": "LayoutModel",
      "state": {
       "height": "115px",
       "width": "165px"
      }
     },
     "d043426221124b51ae1dd63d29d6d324": {
      "model_module": "ipycanvas",
      "model_module_version": "^0.3.2",
      "model_name": "CanvasModel",
      "state": {
       "_model_module_version": "^0.3.2",
       "_view_module_version": "^0.3.2",
       "layout": "IPY_MODEL_82bf9c2a621b4827a68824432c1abe2c",
       "size": [
        1000,
        500
       ]
      }
     },
     "d060eb53ecdf48d8abc47ee3dc57f691": {
      "model_module": "@jupyter-widgets/base",
      "model_module_version": "1.2.0",
      "model_name": "LayoutModel",
      "state": {
       "height": "115px",
       "width": "165px"
      }
     },
     "d09d9324277e44648334a2b5fcc42cb7": {
      "model_module": "ipycanvas",
      "model_module_version": "^0.13",
      "model_name": "CanvasModel",
      "state": {
       "_canvas_manager": "IPY_MODEL_a17888730109410cbcbaf78ea646dd3b",
       "_model_module_version": "^0.13",
       "_view_module_version": "^0.13",
       "layout": "IPY_MODEL_7e77b0f183e54e5494267cab2b3d9173"
      }
     },
     "d0ceee6ed1bb4466bc6718b91a9d1417": {
      "model_module": "ipycanvas",
      "model_module_version": "^0.3.2",
      "model_name": "CanvasModel",
      "state": {
       "_model_module_version": "^0.3.2",
       "_view_module_version": "^0.3.2",
       "layout": "IPY_MODEL_178d8cd9e0054dd6baddd752388fe6e6",
       "size": [
        320,
        360
       ]
      }
     },
     "d13133097a3e4014a9a188d5b9b8b805": {
      "model_module": "@jupyter-widgets/base",
      "model_module_version": "1.2.0",
      "model_name": "LayoutModel",
      "state": {
       "height": "200px",
       "width": "200px"
      }
     },
     "d183761106d5444e9c2f008f100d5e55": {
      "model_module": "@jupyter-widgets/base",
      "model_module_version": "1.2.0",
      "model_name": "LayoutModel",
      "state": {
       "height": "200px",
       "width": "200px"
      }
     },
     "d1adf24170744b609cf9e3910a89e2c8": {
      "model_module": "@jupyter-widgets/base",
      "model_module_version": "1.2.0",
      "model_name": "LayoutModel",
      "state": {
       "height": "500px",
       "width": "800px"
      }
     },
     "d1aeaf8d2f52488490aa0ae6922076d2": {
      "model_module": "ipycanvas",
      "model_module_version": "^0.3.2",
      "model_name": "CanvasModel",
      "state": {
       "_model_module_version": "^0.3.2",
       "_view_module_version": "^0.3.2",
       "layout": "IPY_MODEL_07e311d8d7d64e5eb7898ae38efa93c3",
       "size": [
        800,
        500
       ]
      }
     },
     "d1c6476d52814c02a967604b2a6a5e46": {
      "model_module": "@jupyter-widgets/base",
      "model_module_version": "1.2.0",
      "model_name": "LayoutModel",
      "state": {
       "height": "200px",
       "width": "200px"
      }
     },
     "d1cd47628bf24feba60054d67c69de35": {
      "model_module": "ipycanvas",
      "model_module_version": "^0.3.2",
      "model_name": "CanvasModel",
      "state": {
       "_model_module_version": "^0.3.2",
       "_view_module_version": "^0.3.2",
       "layout": "IPY_MODEL_444d1757c93146ba819c04c5ec64e97d",
       "size": [
        200,
        200
       ]
      }
     },
     "d1f9364da5a84347b6d5b2c171d68545": {
      "model_module": "ipycanvas",
      "model_module_version": "^0.3.2",
      "model_name": "CanvasModel",
      "state": {
       "_model_module_version": "^0.3.2",
       "_view_module_version": "^0.3.2",
       "layout": "IPY_MODEL_7ff4129e4e14460f9d1366c24f9d742f",
       "size": [
        1000,
        500
       ]
      }
     },
     "d286d056ccf44ca4bfbfbc154c227053": {
      "model_module": "@jupyter-widgets/base",
      "model_module_version": "1.2.0",
      "model_name": "LayoutModel",
      "state": {}
     },
     "d2b068c7bc54476fa9cc8ce8a1f16258": {
      "model_module": "ipycanvas",
      "model_module_version": "^0.13",
      "model_name": "CanvasModel",
      "state": {
       "_canvas_manager": "IPY_MODEL_a17888730109410cbcbaf78ea646dd3b",
       "_model_module_version": "^0.13",
       "_view_module_version": "^0.13",
       "layout": "IPY_MODEL_c856e5788b8d41899599d9af479db6df"
      }
     },
     "d2d39803aa58466b9a31a9adc938feb6": {
      "model_module": "@jupyter-widgets/base",
      "model_module_version": "1.2.0",
      "model_name": "LayoutModel",
      "state": {
       "height": "200px",
       "width": "200px"
      }
     },
     "d35d7c49de474c1c9e208753ea410bd2": {
      "model_module": "@jupyter-widgets/base",
      "model_module_version": "1.2.0",
      "model_name": "LayoutModel",
      "state": {
       "height": "115px",
       "width": "165px"
      }
     },
     "d3a0ee8d88ad41bd9e940cd37cbf6107": {
      "model_module": "@jupyter-widgets/base",
      "model_module_version": "1.2.0",
      "model_name": "LayoutModel",
      "state": {
       "height": "500px",
       "width": "800px"
      }
     },
     "d5aa01844a12447a8412bd568ed525e3": {
      "model_module": "@jupyter-widgets/base",
      "model_module_version": "1.2.0",
      "model_name": "LayoutModel",
      "state": {
       "height": "115px",
       "width": "155px"
      }
     },
     "d727714f2ed246c586051552959f80a5": {
      "model_module": "ipycanvas",
      "model_module_version": "^0.3.2",
      "model_name": "CanvasModel",
      "state": {
       "_model_module_version": "^0.3.2",
       "_view_module_version": "^0.3.2",
       "layout": "IPY_MODEL_0e0f2609123c495b87fd30ed04b03a5c",
       "size": [
        100,
        100
       ]
      }
     },
     "d7525707123c4ebdb719fdc45d645861": {
      "model_module": "ipycanvas",
      "model_module_version": "^0.3.2",
      "model_name": "CanvasModel",
      "state": {
       "_model_module_version": "^0.3.2",
       "_view_module_version": "^0.3.2",
       "layout": "IPY_MODEL_10efdd1d32de4ca8a453cbc4144c9fe2",
       "size": [
        400,
        280
       ]
      }
     },
     "d762c16ad19f4417adede59dea69b0ef": {
      "model_module": "ipycanvas",
      "model_module_version": "^0.3.2",
      "model_name": "CanvasModel",
      "state": {
       "_model_module_version": "^0.3.2",
       "_view_module_version": "^0.3.2",
       "layout": "IPY_MODEL_cb988a4d130747d48e0ba7141c13ef56",
       "size": [
        165,
        115
       ]
      }
     },
     "d7674a8342204c14a10aa1676ea2c67b": {
      "model_module": "ipycanvas",
      "model_module_version": "^0.3.2",
      "model_name": "CanvasModel",
      "state": {
       "_model_module_version": "^0.3.2",
       "_view_module_version": "^0.3.2",
       "layout": "IPY_MODEL_c0dc2fc637d1414a91361e232b686557",
       "size": [
        200,
        200
       ]
      }
     },
     "d77f10e661f349e9b1d81e46e61fdbb7": {
      "model_module": "ipycanvas",
      "model_module_version": "^0.3.2",
      "model_name": "CanvasModel",
      "state": {
       "_model_module_version": "^0.3.2",
       "_view_module_version": "^0.3.2",
       "layout": "IPY_MODEL_dec2af0e535a4f42bf9ab43563fb6bbe",
       "size": [
        100,
        100
       ]
      }
     },
     "d7cec5504df04566ae265420eca78d0c": {
      "model_module": "ipycanvas",
      "model_module_version": "^0.3.2",
      "model_name": "CanvasModel",
      "state": {
       "_model_module_version": "^0.3.2",
       "_view_module_version": "^0.3.2",
       "layout": "IPY_MODEL_7eb62be4a4d34d8a9466dc6c4fb2702d",
       "size": [
        200,
        200
       ]
      }
     },
     "d7cfbd360d04443bbcc9b9bb88fedd70": {
      "model_module": "ipycanvas",
      "model_module_version": "^0.3.2",
      "model_name": "CanvasModel",
      "state": {
       "_model_module_version": "^0.3.2",
       "_view_module_version": "^0.3.2",
       "layout": "IPY_MODEL_cb6e7edc5bb34cc887f04afa54a2f833",
       "size": [
        100,
        100
       ]
      }
     },
     "d80d13feb70c4ce98fc3035df208c1b9": {
      "model_module": "ipycanvas",
      "model_module_version": "^0.3.2",
      "model_name": "CanvasModel",
      "state": {
       "_model_module_version": "^0.3.2",
       "_view_module_version": "^0.3.2",
       "layout": "IPY_MODEL_6a77813f47624cc2a7016ee8d71520f6",
       "size": [
        800,
        500
       ]
      }
     },
     "d8432246213c468ab65606f980f0b68a": {
      "model_module": "@jupyter-widgets/base",
      "model_module_version": "1.2.0",
      "model_name": "LayoutModel",
      "state": {
       "height": "115px",
       "width": "165px"
      }
     },
     "d851b176725a4e17b51516dec66921d0": {
      "model_module": "ipycanvas",
      "model_module_version": "^0.13",
      "model_name": "CanvasModel",
      "state": {
       "_canvas_manager": "IPY_MODEL_2b3f9ff77f2e4d1cb622d2e7f1b56891",
       "_model_module_version": "^0.13",
       "_view_module_version": "^0.13",
       "layout": "IPY_MODEL_f9fae9e8802043b8a0ae6da50d723a0b"
      }
     },
     "d8e489bf270b4bf78e5e26d82dc736d1": {
      "model_module": "ipycanvas",
      "model_module_version": "^0.3.2",
      "model_name": "CanvasModel",
      "state": {
       "_model_module_version": "^0.3.2",
       "_view_module_version": "^0.3.2",
       "layout": "IPY_MODEL_18d9846bb6904853bd047bc35e4a8d17",
       "size": [
        100,
        100
       ]
      }
     },
     "d909fc5e900e43fe86c8f966dd9a432b": {
      "model_module": "@jupyter-widgets/base",
      "model_module_version": "1.2.0",
      "model_name": "LayoutModel",
      "state": {}
     },
     "d9644fac21ff437ab346f4a7a57af64a": {
      "model_module": "@jupyter-widgets/base",
      "model_module_version": "1.2.0",
      "model_name": "LayoutModel",
      "state": {
       "height": "100px",
       "width": "100px"
      }
     },
     "d9abed8e4aa54259b0070805c5cdc648": {
      "model_module": "ipycanvas",
      "model_module_version": "^0.3.2",
      "model_name": "CanvasModel",
      "state": {
       "_model_module_version": "^0.3.2",
       "_view_module_version": "^0.3.2",
       "layout": "IPY_MODEL_f6b1e85b6e7b46fa94720fb9f5e93d59",
       "size": [
        200,
        200
       ]
      }
     },
     "d9bcf01c9c5b4735b7a4e21728ae1b59": {
      "model_module": "ipycanvas",
      "model_module_version": "^0.3.2",
      "model_name": "CanvasModel",
      "state": {
       "_model_module_version": "^0.3.2",
       "_view_module_version": "^0.3.2",
       "layout": "IPY_MODEL_ed91e38c1dd945cc863b6b0ca13fc8be",
       "size": [
        200,
        200
       ]
      }
     },
     "dbe6910ecf904fabaebf4b1134190848": {
      "model_module": "@jupyter-widgets/base",
      "model_module_version": "1.2.0",
      "model_name": "LayoutModel",
      "state": {
       "height": "200px",
       "width": "200px"
      }
     },
     "dc26e36e76944f1fb8f886c6cdb64ecc": {
      "model_module": "@jupyter-widgets/base",
      "model_module_version": "1.2.0",
      "model_name": "LayoutModel",
      "state": {
       "height": "200px",
       "width": "200px"
      }
     },
     "dc3e6a86895c4c349848dc3b58be5f85": {
      "model_module": "ipycanvas",
      "model_module_version": "^0.13",
      "model_name": "MultiCanvasModel",
      "state": {
       "_canvas_manager": "IPY_MODEL_a17888730109410cbcbaf78ea646dd3b",
       "_canvases": [
        "IPY_MODEL_cd26390720b04f5884681e1733be9cd2",
        "IPY_MODEL_9738b193a2d548d2abe879abd88bed57"
       ],
       "_model_module_version": "^0.13",
       "_view_module_version": "^0.13",
       "layout": "IPY_MODEL_2fbef850b7214168b80d27d268554ccf"
      }
     },
     "dc4ecee532f248fe8ea3ab32cf768950": {
      "model_module": "@jupyter-widgets/base",
      "model_module_version": "1.2.0",
      "model_name": "LayoutModel",
      "state": {
       "height": "500px",
       "width": "1000px"
      }
     },
     "dc9e2a941fbe41eb84132d85848d7f30": {
      "model_module": "@jupyter-widgets/base",
      "model_module_version": "1.2.0",
      "model_name": "LayoutModel",
      "state": {
       "height": "500px",
       "width": "1000px"
      }
     },
     "dcbe4969aee846ff82fae55e907339e2": {
      "model_module": "@jupyter-widgets/base",
      "model_module_version": "1.2.0",
      "model_name": "LayoutModel",
      "state": {
       "height": "200px",
       "width": "200px"
      }
     },
     "de6d1e6fc83d4185b54bbce591e2311d": {
      "model_module": "ipycanvas",
      "model_module_version": "^0.3.2",
      "model_name": "CanvasModel",
      "state": {
       "_model_module_version": "^0.3.2",
       "_view_module_version": "^0.3.2",
       "layout": "IPY_MODEL_b298a1086675482b840316d3d82871e2",
       "size": [
        165,
        115
       ]
      }
     },
     "dea74912209f4bc9b438c832ac4534b4": {
      "model_module": "@jupyter-widgets/base",
      "model_module_version": "1.2.0",
      "model_name": "LayoutModel",
      "state": {
       "height": "200px",
       "width": "200px"
      }
     },
     "dec2af0e535a4f42bf9ab43563fb6bbe": {
      "model_module": "@jupyter-widgets/base",
      "model_module_version": "1.2.0",
      "model_name": "LayoutModel",
      "state": {
       "height": "100px",
       "width": "100px"
      }
     },
     "ded46a8982aa438ca336627fafe820c8": {
      "model_module": "@jupyter-widgets/base",
      "model_module_version": "1.2.0",
      "model_name": "LayoutModel",
      "state": {
       "height": "200px",
       "width": "200px"
      }
     },
     "df0159d06ef8475b983e08fa25339608": {
      "model_module": "ipycanvas",
      "model_module_version": "^0.3.2",
      "model_name": "CanvasModel",
      "state": {
       "_model_module_version": "^0.3.2",
       "_view_module_version": "^0.3.2",
       "layout": "IPY_MODEL_ab70ee47a86441048b571002d16b39cc",
       "size": [
        165,
        115
       ]
      }
     },
     "df154ab716924a00923fa20a084a2543": {
      "model_module": "@jupyter-widgets/base",
      "model_module_version": "1.2.0",
      "model_name": "LayoutModel",
      "state": {
       "height": "200px",
       "width": "200px"
      }
     },
     "df2521dffa9045cfad4dc4460c8bc401": {
      "model_module": "ipycanvas",
      "model_module_version": "^0.3.2",
      "model_name": "CanvasModel",
      "state": {
       "_model_module_version": "^0.3.2",
       "_view_module_version": "^0.3.2",
       "layout": "IPY_MODEL_9c7d8bf279f54c74b9f8757c3a8e1594",
       "size": [
        200,
        200
       ]
      }
     },
     "dfb3cf6509734a218e68d90148eb46fa": {
      "model_module": "ipycanvas",
      "model_module_version": "^0.3.2",
      "model_name": "CanvasModel",
      "state": {
       "_model_module_version": "^0.3.2",
       "_view_module_version": "^0.3.2",
       "layout": "IPY_MODEL_fb552b44a5c2448a89de730957d768fa",
       "size": [
        800,
        500
       ]
      }
     },
     "e088364fb13e4a5e91920fd9af5cf529": {
      "model_module": "ipycanvas",
      "model_module_version": "^0.3.2",
      "model_name": "CanvasModel",
      "state": {
       "_model_module_version": "^0.3.2",
       "_view_module_version": "^0.3.2",
       "layout": "IPY_MODEL_bbc96f2cc2ae429eb4e03aaffaf5b0c0",
       "size": [
        100,
        100
       ]
      }
     },
     "e0a305cc5d654ab2a2119dcf6b377a07": {
      "model_module": "@jupyter-widgets/base",
      "model_module_version": "1.2.0",
      "model_name": "LayoutModel",
      "state": {
       "height": "500px",
       "width": "800px"
      }
     },
     "e0ec58e33f33405fb1fac87b724c6d21": {
      "model_module": "@jupyter-widgets/base",
      "model_module_version": "1.2.0",
      "model_name": "LayoutModel",
      "state": {
       "height": "100px",
       "width": "100px"
      }
     },
     "e10870a9e66f45bc9713b617f717cacb": {
      "model_module": "@jupyter-widgets/base",
      "model_module_version": "1.2.0",
      "model_name": "LayoutModel",
      "state": {}
     },
     "e1100f5361cf4925a8940ad79f85ac07": {
      "model_module": "ipycanvas",
      "model_module_version": "^0.13",
      "model_name": "CanvasModel",
      "state": {
       "_canvas_manager": "IPY_MODEL_2b3f9ff77f2e4d1cb622d2e7f1b56891",
       "_model_module_version": "^0.13",
       "_view_module_version": "^0.13",
       "layout": "IPY_MODEL_d286d056ccf44ca4bfbfbc154c227053"
      }
     },
     "e15e512e53c84ac2a22034ba8e591a64": {
      "model_module": "ipycanvas",
      "model_module_version": "^0.3.2",
      "model_name": "CanvasModel",
      "state": {
       "_model_module_version": "^0.3.2",
       "_view_module_version": "^0.3.2",
       "layout": "IPY_MODEL_bc5f7d33b6894397a8f934cddfb0d75e",
       "size": [
        100,
        100
       ]
      }
     },
     "e172d32c2b1b42c3b52b20f06b41db39": {
      "model_module": "@jupyter-widgets/base",
      "model_module_version": "1.2.0",
      "model_name": "LayoutModel",
      "state": {
       "height": "200px",
       "width": "200px"
      }
     },
     "e1b753a6d5d34e3d864a55b589860f6d": {
      "model_module": "@jupyter-widgets/base",
      "model_module_version": "1.2.0",
      "model_name": "LayoutModel",
      "state": {
       "height": "200px",
       "width": "200px"
      }
     },
     "e298b9df094a4f9aa3e7a09dba98eb89": {
      "model_module": "ipycanvas",
      "model_module_version": "^0.3.2",
      "model_name": "CanvasModel",
      "state": {
       "_model_module_version": "^0.3.2",
       "_view_module_version": "^0.3.2",
       "layout": "IPY_MODEL_c78a5111831546c5a631a92ea0e81682",
       "size": [
        1000,
        500
       ]
      }
     },
     "e2a7fa6f686d4aa4baa8ea9c310dd9d0": {
      "model_module": "ipycanvas",
      "model_module_version": "^0.3.2",
      "model_name": "CanvasModel",
      "state": {
       "_model_module_version": "^0.3.2",
       "_view_module_version": "^0.3.2",
       "layout": "IPY_MODEL_6a64df0bde554cc1b09a0ae798cdf08b",
       "size": [
        155,
        115
       ]
      }
     },
     "e2b8b63c69f04c6b98f0da238202020d": {
      "model_module": "ipycanvas",
      "model_module_version": "^0.3.2",
      "model_name": "CanvasModel",
      "state": {
       "_model_module_version": "^0.3.2",
       "_view_module_version": "^0.3.2",
       "layout": "IPY_MODEL_52d2e0e1898a43fca9f1ff6ea9e11581",
       "size": [
        100,
        100
       ]
      }
     },
     "e2d2d8a8c59a456298edb04048f256fe": {
      "model_module": "ipycanvas",
      "model_module_version": "^0.3.2",
      "model_name": "MultiCanvasModel",
      "state": {
       "_canvases": [
        "IPY_MODEL_513f809ddfc64a5d81e318c25f4c6de6",
        "IPY_MODEL_55d9fd332c1b4f0dbcdf9e5780432db0",
        "IPY_MODEL_efb6ac9476894620bfd027d7a4e122b7",
        "IPY_MODEL_e088364fb13e4a5e91920fd9af5cf529"
       ],
       "_model_module_version": "^0.3.2",
       "_view_module_version": "^0.3.2",
       "layout": "IPY_MODEL_88fca19434b94b4099a26fedd983bfa0"
      }
     },
     "e3a26a66285a4b2ea59ab9f7bf2845eb": {
      "model_module": "@jupyter-widgets/base",
      "model_module_version": "1.2.0",
      "model_name": "LayoutModel",
      "state": {
       "height": "200px",
       "width": "200px"
      }
     },
     "e3d4492b8b10444dadab85502dd8b403": {
      "model_module": "@jupyter-widgets/base",
      "model_module_version": "1.2.0",
      "model_name": "LayoutModel",
      "state": {
       "height": "200px",
       "width": "200px"
      }
     },
     "e44da6c5797f4ce3b4e78ed3c515230e": {
      "model_module": "ipycanvas",
      "model_module_version": "^0.13",
      "model_name": "CanvasModel",
      "state": {
       "_canvas_manager": "IPY_MODEL_a17888730109410cbcbaf78ea646dd3b",
       "_model_module_version": "^0.13",
       "_view_module_version": "^0.13",
       "layout": "IPY_MODEL_888c4f703d9648249d0e659ed691031b"
      }
     },
     "e481071468b94029a3dc90464025e0f9": {
      "model_module": "@jupyter-widgets/base",
      "model_module_version": "1.2.0",
      "model_name": "LayoutModel",
      "state": {
       "height": "280px",
       "width": "400px"
      }
     },
     "e4db973482c54fc5ba8707df3f96b76b": {
      "model_module": "ipycanvas",
      "model_module_version": "^0.3.2",
      "model_name": "CanvasModel",
      "state": {
       "_model_module_version": "^0.3.2",
       "_view_module_version": "^0.3.2",
       "layout": "IPY_MODEL_2ec2299db7604e149d78dd31e87e4ae3",
       "size": [
        320,
        360
       ]
      }
     },
     "e585a7335c074f07a14042449f6ac227": {
      "model_module": "@jupyter-widgets/base",
      "model_module_version": "1.2.0",
      "model_name": "LayoutModel",
      "state": {}
     },
     "e5ab951f01f74879b07cc333b012c61c": {
      "model_module": "ipycanvas",
      "model_module_version": "^0.3.2",
      "model_name": "CanvasModel",
      "state": {
       "_model_module_version": "^0.3.2",
       "_view_module_version": "^0.3.2",
       "layout": "IPY_MODEL_3fb0347a626c4f54a802b526b26d9f37",
       "size": [
        120,
        100
       ]
      }
     },
     "e6329e3d9f6c4c3dbc55df6e03bd6b88": {
      "model_module": "ipycanvas",
      "model_module_version": "^0.13",
      "model_name": "CanvasModel",
      "state": {
       "_canvas_manager": "IPY_MODEL_a17888730109410cbcbaf78ea646dd3b",
       "_model_module_version": "^0.13",
       "_view_module_version": "^0.13",
       "layout": "IPY_MODEL_2e161941688143a7a15ae981633baa49"
      }
     },
     "e63350b22b914c2fb37c0081dcdc9d55": {
      "model_module": "@jupyter-widgets/base",
      "model_module_version": "1.2.0",
      "model_name": "LayoutModel",
      "state": {}
     },
     "e6c01ce7a6634ac0906d16d2fce2bd6d": {
      "model_module": "@jupyter-widgets/base",
      "model_module_version": "1.2.0",
      "model_name": "LayoutModel",
      "state": {
       "height": "200px",
       "width": "200px"
      }
     },
     "e736629f64124904896de409f47bfb1a": {
      "model_module": "ipycanvas",
      "model_module_version": "^0.3.2",
      "model_name": "CanvasModel",
      "state": {
       "_model_module_version": "^0.3.2",
       "_view_module_version": "^0.3.2",
       "layout": "IPY_MODEL_397021f5881a4b6b8a6d6bb4cdd82fa0",
       "size": [
        600,
        600
       ]
      }
     },
     "e75ff8f5c9224157a37282711463f406": {
      "model_module": "ipycanvas",
      "model_module_version": "^0.3.2",
      "model_name": "CanvasModel",
      "state": {
       "_model_module_version": "^0.3.2",
       "_view_module_version": "^0.3.2",
       "layout": "IPY_MODEL_d060eb53ecdf48d8abc47ee3dc57f691",
       "size": [
        165,
        115
       ]
      }
     },
     "e7c83408e26941c18375d188d3c9a797": {
      "model_module": "ipycanvas",
      "model_module_version": "^0.3.2",
      "model_name": "CanvasModel",
      "state": {
       "_model_module_version": "^0.3.2",
       "_view_module_version": "^0.3.2",
       "layout": "IPY_MODEL_c10fce454432439e827320a594fcfc67",
       "size": [
        200,
        200
       ]
      }
     },
     "e81d4d4e47b6435d8b25546d84ee8dab": {
      "model_module": "@jupyter-widgets/base",
      "model_module_version": "1.2.0",
      "model_name": "LayoutModel",
      "state": {
       "height": "200px",
       "width": "200px"
      }
     },
     "e82afc33eae94b19b6ad13a1b60da8bf": {
      "model_module": "ipycanvas",
      "model_module_version": "^0.3.2",
      "model_name": "CanvasModel",
      "state": {
       "_model_module_version": "^0.3.2",
       "_view_module_version": "^0.3.2",
       "layout": "IPY_MODEL_6a4bb5c7b619483a8efc12eddea6a4f8",
       "size": [
        165,
        115
       ]
      }
     },
     "e838c014d65d46f7b98111353a02ebca": {
      "model_module": "ipycanvas",
      "model_module_version": "^0.3.2",
      "model_name": "CanvasModel",
      "state": {
       "_model_module_version": "^0.3.2",
       "_view_module_version": "^0.3.2",
       "layout": "IPY_MODEL_1056eeee11924b0392fb2deb54445074",
       "size": [
        200,
        200
       ]
      }
     },
     "e8fb9b47e4b54de2baa92f399116fb07": {
      "model_module": "@jupyter-widgets/base",
      "model_module_version": "1.2.0",
      "model_name": "LayoutModel",
      "state": {
       "height": "115px",
       "width": "165px"
      }
     },
     "e98bee1c807b4f0287b2470f8abfcbda": {
      "model_module": "@jupyter-widgets/base",
      "model_module_version": "1.2.0",
      "model_name": "LayoutModel",
      "state": {
       "height": "100px",
       "width": "120px"
      }
     },
     "e9b73580ab5c42d4bb7b4915712ab1fe": {
      "model_module": "ipycanvas",
      "model_module_version": "^0.3.2",
      "model_name": "CanvasModel",
      "state": {
       "_model_module_version": "^0.3.2",
       "_view_module_version": "^0.3.2",
       "layout": "IPY_MODEL_ab3fa3e403db4ddbabcc3974fb85c73c",
       "size": [
        200,
        200
       ]
      }
     },
     "eaa7e62d8a094f1280c540ee30376b04": {
      "model_module": "ipycanvas",
      "model_module_version": "^0.13",
      "model_name": "CanvasModel",
      "state": {
       "_canvas_manager": "IPY_MODEL_a17888730109410cbcbaf78ea646dd3b",
       "_model_module_version": "^0.13",
       "_view_module_version": "^0.13",
       "layout": "IPY_MODEL_f21288b733054b93894ebfcc7f13c183"
      }
     },
     "eaf124931d0f43f89c71180dce1ba7a5": {
      "model_module": "@jupyter-widgets/base",
      "model_module_version": "1.2.0",
      "model_name": "LayoutModel",
      "state": {
       "height": "115px",
       "width": "165px"
      }
     },
     "ec5feccdf1d9457e85df8c2ab47321a3": {
      "model_module": "ipycanvas",
      "model_module_version": "^0.3.2",
      "model_name": "CanvasModel",
      "state": {
       "_model_module_version": "^0.3.2",
       "_view_module_version": "^0.3.2",
       "layout": "IPY_MODEL_c37af455a2d64e9fb5985e8523ac1341",
       "size": [
        165,
        115
       ]
      }
     },
     "ec6e72eb666345428aebc785985a2f40": {
      "model_module": "@jupyter-widgets/base",
      "model_module_version": "1.2.0",
      "model_name": "LayoutModel",
      "state": {}
     },
     "ec9a57b4b00e4e74a426367fba94d65d": {
      "model_module": "ipycanvas",
      "model_module_version": "^0.3.2",
      "model_name": "CanvasModel",
      "state": {
       "_model_module_version": "^0.3.2",
       "_view_module_version": "^0.3.2",
       "layout": "IPY_MODEL_4bb097f1fc1f4f1db63f30b12dc6ce2b",
       "size": [
        165,
        115
       ]
      }
     },
     "ed23a74b81f444a5947b8db206d449da": {
      "model_module": "ipycanvas",
      "model_module_version": "^0.3.2",
      "model_name": "CanvasModel",
      "state": {
       "_model_module_version": "^0.3.2",
       "_view_module_version": "^0.3.2",
       "layout": "IPY_MODEL_82da4b6ef15147e680b0897bf8f4c71f",
       "size": [
        100,
        100
       ]
      }
     },
     "ed2f9d366bfd4830b23a11e0bf6b4346": {
      "model_module": "ipycanvas",
      "model_module_version": "^0.3.2",
      "model_name": "CanvasModel",
      "state": {
       "_model_module_version": "^0.3.2",
       "_view_module_version": "^0.3.2",
       "layout": "IPY_MODEL_c388f561ffba4332b393f4a87ff2366a",
       "size": [
        200,
        200
       ]
      }
     },
     "ed3178b94d5240ec88db1c106b29da5b": {
      "model_module": "@jupyter-widgets/base",
      "model_module_version": "1.2.0",
      "model_name": "LayoutModel",
      "state": {
       "height": "100px",
       "width": "100px"
      }
     },
     "ed68179b64574594a84357d84fb0636b": {
      "model_module": "@jupyter-widgets/base",
      "model_module_version": "1.2.0",
      "model_name": "LayoutModel",
      "state": {
       "height": "115px",
       "width": "165px"
      }
     },
     "ed7334f3803d4442b291c00d633fd2dd": {
      "model_module": "ipycanvas",
      "model_module_version": "^0.3.2",
      "model_name": "CanvasModel",
      "state": {
       "_model_module_version": "^0.3.2",
       "_view_module_version": "^0.3.2",
       "layout": "IPY_MODEL_34328453e0e34bffb87ad294a39bbd38",
       "size": [
        200,
        200
       ]
      }
     },
     "ed91e38c1dd945cc863b6b0ca13fc8be": {
      "model_module": "@jupyter-widgets/base",
      "model_module_version": "1.2.0",
      "model_name": "LayoutModel",
      "state": {
       "height": "200px",
       "width": "200px"
      }
     },
     "ee1a09fbb4f2492e9b428f4002044ed1": {
      "model_module": "@jupyter-widgets/base",
      "model_module_version": "1.2.0",
      "model_name": "LayoutModel",
      "state": {
       "height": "100px",
       "width": "100px"
      }
     },
     "ee50d57423aa412c8e52850f82312891": {
      "model_module": "ipycanvas",
      "model_module_version": "^0.3.2",
      "model_name": "CanvasModel",
      "state": {
       "_model_module_version": "^0.3.2",
       "_view_module_version": "^0.3.2",
       "layout": "IPY_MODEL_6592f24d9ead42b9be21003cd520268e",
       "size": [
        200,
        200
       ]
      }
     },
     "ee6165a0a31444ee887325b52d98cf2d": {
      "model_module": "ipycanvas",
      "model_module_version": "^0.3.2",
      "model_name": "CanvasModel",
      "state": {
       "_model_module_version": "^0.3.2",
       "_view_module_version": "^0.3.2",
       "layout": "IPY_MODEL_70a69034ad24420484a4581cf7a61098",
       "size": [
        200,
        200
       ]
      }
     },
     "eeeda2f892214098af46c4d23bbb885d": {
      "model_module": "ipycanvas",
      "model_module_version": "^0.3.2",
      "model_name": "CanvasModel",
      "state": {
       "_model_module_version": "^0.3.2",
       "_view_module_version": "^0.3.2",
       "layout": "IPY_MODEL_adbfa69b126d4adf91328a27a2247151",
       "size": [
        100,
        100
       ]
      }
     },
     "ef7eba389c0f49d29e6f7fd7df920e10": {
      "model_module": "ipycanvas",
      "model_module_version": "^0.3.2",
      "model_name": "CanvasModel",
      "state": {
       "_model_module_version": "^0.3.2",
       "_view_module_version": "^0.3.2",
       "layout": "IPY_MODEL_dea74912209f4bc9b438c832ac4534b4",
       "size": [
        200,
        200
       ]
      }
     },
     "efb6ac9476894620bfd027d7a4e122b7": {
      "model_module": "ipycanvas",
      "model_module_version": "^0.3.2",
      "model_name": "CanvasModel",
      "state": {
       "_model_module_version": "^0.3.2",
       "_view_module_version": "^0.3.2",
       "layout": "IPY_MODEL_1e9e92daaa9f41c7af992c034b3c9b76",
       "size": [
        100,
        100
       ]
      }
     },
     "f0182c2ea80f4b41a168717667a77eee": {
      "model_module": "ipycanvas",
      "model_module_version": "^0.3.2",
      "model_name": "CanvasModel",
      "state": {
       "_model_module_version": "^0.3.2",
       "_view_module_version": "^0.3.2",
       "layout": "IPY_MODEL_31a710562a8f49abbe9502651b978c16",
       "size": [
        200,
        200
       ]
      }
     },
     "f0643ad06d7b48349d888ad6c6d50559": {
      "model_module": "ipycanvas",
      "model_module_version": "^0.3.2",
      "model_name": "CanvasModel",
      "state": {
       "_model_module_version": "^0.3.2",
       "_view_module_version": "^0.3.2",
       "layout": "IPY_MODEL_5ed12ef71b3945079906a8afd11b2b1d",
       "size": [
        165,
        115
       ]
      }
     },
     "f07ebef3c65a40e0a8f1c9752574f987": {
      "model_module": "@jupyter-widgets/base",
      "model_module_version": "1.2.0",
      "model_name": "LayoutModel",
      "state": {
       "height": "200px",
       "width": "200px"
      }
     },
     "f0990cfdade64f2282fc47ac95f0444e": {
      "model_module": "ipycanvas",
      "model_module_version": "^0.3.2",
      "model_name": "CanvasModel",
      "state": {
       "_model_module_version": "^0.3.2",
       "_view_module_version": "^0.3.2",
       "layout": "IPY_MODEL_69d3e8abcb6e4a0fa1ae41ac237ee21d",
       "size": [
        400,
        280
       ]
      }
     },
     "f11d393ebfe4464c8904e5ceb848bf7d": {
      "model_module": "ipycanvas",
      "model_module_version": "^0.3.2",
      "model_name": "CanvasModel",
      "state": {
       "_model_module_version": "^0.3.2",
       "_view_module_version": "^0.3.2",
       "layout": "IPY_MODEL_7458a9ecfb2c4713aadcf9f7a6a6053a",
       "size": [
        120,
        100
       ]
      }
     },
     "f16c99a4530148fba80000250dff4624": {
      "model_module": "ipycanvas",
      "model_module_version": "^0.3.2",
      "model_name": "MultiCanvasModel",
      "state": {
       "_canvases": [
        "IPY_MODEL_8515312921f64690b4d3029a2d683f59",
        "IPY_MODEL_0a998f76863940a49c2bdf366c1c9566"
       ],
       "_model_module_version": "^0.3.2",
       "_view_module_version": "^0.3.2",
       "layout": "IPY_MODEL_812f14b9999d4ad9bf2811b61e98c132"
      }
     },
     "f21288b733054b93894ebfcc7f13c183": {
      "model_module": "@jupyter-widgets/base",
      "model_module_version": "1.2.0",
      "model_name": "LayoutModel",
      "state": {}
     },
     "f2849cafeecc4b4ebd42ad0b9b437fdd": {
      "model_module": "ipycanvas",
      "model_module_version": "^0.3.2",
      "model_name": "CanvasModel",
      "state": {
       "_model_module_version": "^0.3.2",
       "_view_module_version": "^0.3.2",
       "layout": "IPY_MODEL_a73cc516953548a5a62970312aa4fb96",
       "size": [
        100,
        100
       ]
      }
     },
     "f2954051e86a49d5b75bee287faea09d": {
      "model_module": "@jupyter-widgets/base",
      "model_module_version": "1.2.0",
      "model_name": "LayoutModel",
      "state": {
       "height": "360px",
       "width": "320px"
      }
     },
     "f2f21b3abbf6425f95b3333d5dcb1b9a": {
      "model_module": "@jupyter-widgets/base",
      "model_module_version": "1.2.0",
      "model_name": "LayoutModel",
      "state": {
       "height": "280px",
       "width": "400px"
      }
     },
     "f3422c310c0a43a9b97f1428393bb370": {
      "model_module": "@jupyter-widgets/base",
      "model_module_version": "1.2.0",
      "model_name": "LayoutModel",
      "state": {
       "height": "300px",
       "width": "300px"
      }
     },
     "f3db7036541c43c6be26188fdd11f6d1": {
      "model_module": "@jupyter-widgets/base",
      "model_module_version": "1.2.0",
      "model_name": "LayoutModel",
      "state": {
       "height": "200px",
       "width": "200px"
      }
     },
     "f3f02985a1074992847d75e42b90365c": {
      "model_module": "ipycanvas",
      "model_module_version": "^0.13",
      "model_name": "CanvasModel",
      "state": {
       "_canvas_manager": "IPY_MODEL_a17888730109410cbcbaf78ea646dd3b",
       "_model_module_version": "^0.13",
       "_view_module_version": "^0.13",
       "layout": "IPY_MODEL_89744751aaf440ef958b69ff69b2f2ac"
      }
     },
     "f4314523c61440aea28801866fadbd6d": {
      "model_module": "ipycanvas",
      "model_module_version": "^0.3.2",
      "model_name": "CanvasModel",
      "state": {
       "_model_module_version": "^0.3.2",
       "_view_module_version": "^0.3.2",
       "layout": "IPY_MODEL_ed68179b64574594a84357d84fb0636b",
       "size": [
        165,
        115
       ]
      }
     },
     "f5232b89aac84c839458dc2e41ea6159": {
      "model_module": "@jupyter-widgets/base",
      "model_module_version": "1.2.0",
      "model_name": "LayoutModel",
      "state": {
       "height": "200px",
       "width": "200px"
      }
     },
     "f5e1b7b49c704b7ca5cd6cc6889b7417": {
      "model_module": "ipycanvas",
      "model_module_version": "^0.3.2",
      "model_name": "CanvasModel",
      "state": {
       "_model_module_version": "^0.3.2",
       "_view_module_version": "^0.3.2",
       "layout": "IPY_MODEL_42da8705123b40babba0d7d4f73d79e4",
       "size": [
        1000,
        500
       ]
      }
     },
     "f5e2a81123c548489df7e34465943634": {
      "model_module": "ipycanvas",
      "model_module_version": "^0.3.2",
      "model_name": "CanvasModel",
      "state": {
       "_model_module_version": "^0.3.2",
       "_view_module_version": "^0.3.2",
       "layout": "IPY_MODEL_a50d3f95e9a6483b96ce08c88008304f",
       "size": [
        165,
        115
       ]
      }
     },
     "f5ed501c428b4585a6086f034a40daa5": {
      "model_module": "@jupyter-widgets/base",
      "model_module_version": "1.2.0",
      "model_name": "LayoutModel",
      "state": {
       "height": "100px",
       "width": "100px"
      }
     },
     "f646ad4381cb48e7997ec873176c6e3d": {
      "model_module": "@jupyter-widgets/base",
      "model_module_version": "1.2.0",
      "model_name": "LayoutModel",
      "state": {
       "height": "100px",
       "width": "120px"
      }
     },
     "f6b1e85b6e7b46fa94720fb9f5e93d59": {
      "model_module": "@jupyter-widgets/base",
      "model_module_version": "1.2.0",
      "model_name": "LayoutModel",
      "state": {
       "height": "200px",
       "width": "200px"
      }
     },
     "f7460580b5f8494ca83625b26c7d9471": {
      "model_module": "@jupyter-widgets/base",
      "model_module_version": "1.2.0",
      "model_name": "LayoutModel",
      "state": {
       "height": "500px",
       "width": "1000px"
      }
     },
     "f758258f96f14f3d98a717b905ce5bd3": {
      "model_module": "@jupyter-widgets/base",
      "model_module_version": "1.2.0",
      "model_name": "LayoutModel",
      "state": {
       "height": "200px",
       "width": "200px"
      }
     },
     "f75da7ae81d041b0a03714b2d7c75e14": {
      "model_module": "@jupyter-widgets/base",
      "model_module_version": "1.2.0",
      "model_name": "LayoutModel",
      "state": {
       "height": "360px",
       "width": "320px"
      }
     },
     "f92cf0a49a80423087a0e64192c5f85d": {
      "model_module": "@jupyter-widgets/base",
      "model_module_version": "1.2.0",
      "model_name": "LayoutModel",
      "state": {
       "height": "500px",
       "width": "800px"
      }
     },
     "f967d34b52cd41e88b9dd5f1f8c5a53e": {
      "model_module": "@jupyter-widgets/base",
      "model_module_version": "1.2.0",
      "model_name": "LayoutModel",
      "state": {
       "height": "100px",
       "width": "100px"
      }
     },
     "f9f47e1719f049d280e165c6089e8a25": {
      "model_module": "ipycanvas",
      "model_module_version": "^0.3.2",
      "model_name": "CanvasModel",
      "state": {
       "_model_module_version": "^0.3.2",
       "_view_module_version": "^0.3.2",
       "layout": "IPY_MODEL_b846e9878b7d42cbbf52dc92c6dbdb81",
       "size": [
        800,
        500
       ]
      }
     },
     "f9fae9e8802043b8a0ae6da50d723a0b": {
      "model_module": "@jupyter-widgets/base",
      "model_module_version": "1.2.0",
      "model_name": "LayoutModel",
      "state": {}
     },
     "fa350af425a941a881195183ec7a4b7e": {
      "model_module": "ipycanvas",
      "model_module_version": "^0.3.2",
      "model_name": "CanvasModel",
      "state": {
       "_model_module_version": "^0.3.2",
       "_view_module_version": "^0.3.2",
       "layout": "IPY_MODEL_283a8741ade144ee8640afbaca7d0ef5",
       "size": [
        120,
        100
       ]
      }
     },
     "fb552b44a5c2448a89de730957d768fa": {
      "model_module": "@jupyter-widgets/base",
      "model_module_version": "1.2.0",
      "model_name": "LayoutModel",
      "state": {
       "height": "500px",
       "width": "800px"
      }
     },
     "fbe7c32abab24f368d549f15f6c12ee7": {
      "model_module": "ipycanvas",
      "model_module_version": "^0.3.2",
      "model_name": "CanvasModel",
      "state": {
       "_model_module_version": "^0.3.2",
       "_view_module_version": "^0.3.2",
       "layout": "IPY_MODEL_050f75fa93b849528fe88c4d6ede0b23",
       "size": [
        200,
        200
       ]
      }
     },
     "fc55318440024d1db8dbf1dc176a7e24": {
      "model_module": "ipycanvas",
      "model_module_version": "^0.3.2",
      "model_name": "CanvasModel",
      "state": {
       "_model_module_version": "^0.3.2",
       "_view_module_version": "^0.3.2",
       "layout": "IPY_MODEL_1e19b4fa89124845bfd60a441748b65c",
       "size": [
        165,
        115
       ]
      }
     },
     "fcd5746bbfb34e5c86239875d9598adc": {
      "model_module": "ipycanvas",
      "model_module_version": "^0.3.2",
      "model_name": "CanvasModel",
      "state": {
       "_model_module_version": "^0.3.2",
       "_view_module_version": "^0.3.2",
       "layout": "IPY_MODEL_a900a9919bc6496e88dbe2ae6d9ffb4f",
       "size": [
        165,
        115
       ]
      }
     },
     "fd29d53811874f8fbc2edc04fc59b935": {
      "model_module": "@jupyter-widgets/base",
      "model_module_version": "1.2.0",
      "model_name": "LayoutModel",
      "state": {
       "height": "100px",
       "width": "100px"
      }
     },
     "fd4e1d69c91243b88777bc874bdb7cbc": {
      "model_module": "ipycanvas",
      "model_module_version": "^0.3.2",
      "model_name": "CanvasModel",
      "state": {
       "_model_module_version": "^0.3.2",
       "_view_module_version": "^0.3.2",
       "layout": "IPY_MODEL_a7e8eb2f8c074746862f1ba339ce93be",
       "size": [
        320,
        360
       ]
      }
     },
     "fe31df35f9ec4ef19a4a31ce43c4b063": {
      "model_module": "ipycanvas",
      "model_module_version": "^0.3.2",
      "model_name": "MultiCanvasModel",
      "state": {
       "_canvases": [
        "IPY_MODEL_24c4ae19b1e44daf88450be9d674eef9",
        "IPY_MODEL_5919a9a41d494835855e05b14d436570",
        "IPY_MODEL_7d2fa150bca24aaf8ddfb2cfdbffe221",
        "IPY_MODEL_9a059276bb2749cb8022f04baa77a620"
       ],
       "_model_module_version": "^0.3.2",
       "_view_module_version": "^0.3.2",
       "layout": "IPY_MODEL_d35d7c49de474c1c9e208753ea410bd2"
      }
     },
     "fefb9e46ca3e44979c372d25b200e0e0": {
      "model_module": "@jupyter-widgets/base",
      "model_module_version": "1.2.0",
      "model_name": "LayoutModel",
      "state": {}
     },
     "ff722186114f461998c8d7d344930f33": {
      "model_module": "ipycanvas",
      "model_module_version": "^0.3.2",
      "model_name": "CanvasModel",
      "state": {
       "_model_module_version": "^0.3.2",
       "_view_module_version": "^0.3.2",
       "layout": "IPY_MODEL_6f2fbefcaaa549ae855b4b5267528b99",
       "size": [
        165,
        115
       ]
      }
     }
    },
    "version_major": 2,
    "version_minor": 0
   }
  }
 },
 "nbformat": 4,
 "nbformat_minor": 2
}
