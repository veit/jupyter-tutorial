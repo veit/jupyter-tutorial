{
 "cells": [
  {
   "cell_type": "markdown",
   "metadata": {},
   "source": [
    "# `ipysheet`\n",
    "\n",
    "[ipysheet](https://github.com/QuantStack/ipysheet) connects ipywidgets with tabular data. It basically adds two widgets: a _Cell widget_ and a _Sheet widget_. There are also auxiliary functions for creating table rows and columns as well as for formatting and designing cells."
   ]
  },
  {
   "cell_type": "markdown",
   "metadata": {},
   "source": [
    "## Installation\n",
    "\n",
    "`ipysheet` can be easily installed with Pipenv:\n",
    "\n",
    "```\n",
    "$ pipenv install ipysheet\n",
    "```"
   ]
  },
  {
   "cell_type": "markdown",
   "metadata": {},
   "source": [
    "## Import"
   ]
  },
  {
   "cell_type": "code",
   "execution_count": 1,
   "metadata": {},
   "outputs": [],
   "source": [
    "import ipysheet"
   ]
  },
  {
   "cell_type": "markdown",
   "metadata": {},
   "source": [
    "## Cell formatting"
   ]
  },
  {
   "cell_type": "code",
   "execution_count": 2,
   "metadata": {},
   "outputs": [
    {
     "data": {
      "application/vnd.jupyter.widget-view+json": {
       "model_id": "b02042fe36d44ed58916e2f1afe39d2c",
       "version_major": 2,
       "version_minor": 0
      },
      "text/plain": [
       "Sheet(cells=(Cell(column_end=0, column_start=0, numeric_format='0.0', row_end=0, row_start=0, type='numeric', …"
      ]
     },
     "metadata": {},
     "output_type": "display_data"
    }
   ],
   "source": [
    "sheet1 = ipysheet.sheet()\n",
    "cell0 = ipysheet.cell(0, 0, 0, numeric_format=\"0.0\", type=\"numeric\")\n",
    "cell1 = ipysheet.cell(1, 0, \"Hello\", type=\"text\")\n",
    "cell2 = ipysheet.cell(0, 1, 0.1, numeric_format=\"0.000\", type=\"numeric\")\n",
    "cell3 = ipysheet.cell(1, 1, 15.9, numeric_format=\"0.00\", type=\"numeric\")\n",
    "cell4 = ipysheet.cell(\n",
    "    2, 2, \"14-02-2019\", date_format=\"DD-MM-YYYY\", type=\"date\"\n",
    ")\n",
    "\n",
    "sheet1"
   ]
  },
  {
   "cell_type": "markdown",
   "metadata": {},
   "source": [
    "## Examples"
   ]
  },
  {
   "cell_type": "markdown",
   "metadata": {},
   "source": [
    "### Interactive table"
   ]
  },
  {
   "cell_type": "code",
   "execution_count": 3,
   "metadata": {},
   "outputs": [
    {
     "data": {
      "application/vnd.jupyter.widget-view+json": {
       "model_id": "f0fe0b8252ca4071a395ef76b8ad66bd",
       "version_major": 2,
       "version_minor": 0
      },
      "text/plain": [
       "Sheet(cells=(Cell(column_end=0, column_start=0, row_end=0, row_start=0, style={'min-width': '122px'}, type='wi…"
      ]
     },
     "metadata": {},
     "output_type": "display_data"
    }
   ],
   "source": [
    "from ipywidgets import FloatSlider, Image, IntSlider\n",
    "\n",
    "\n",
    "slider = FloatSlider()\n",
    "sheet2 = ipysheet.sheet()\n",
    "cell1 = ipysheet.cell(0, 0, slider, style={\"min-width\": \"122px\"})\n",
    "cell3 = ipysheet.cell(1, 0, 42.0, numeric_format=\"0.00\")\n",
    "cell_sum = ipysheet.cell(2, 0, 42.0, numeric_format=\"0.00\")\n",
    "\n",
    "\n",
    "@ipysheet.calculation(inputs=[(cell1, \"value\"), cell3], output=cell_sum)\n",
    "def calculate(a, b):\n",
    "    return a + b\n",
    "\n",
    "\n",
    "sheet2"
   ]
  },
  {
   "cell_type": "markdown",
   "metadata": {},
   "source": [
    "### Numpy"
   ]
  },
  {
   "cell_type": "code",
   "execution_count": 4,
   "metadata": {},
   "outputs": [
    {
     "data": {
      "application/vnd.jupyter.widget-view+json": {
       "model_id": "d251e2ec589e4e6f885a6e80dc03e4f8",
       "version_major": 2,
       "version_minor": 0
      },
      "text/plain": [
       "Sheet(cells=(Cell(column_end=9, column_start=0, row_end=5, row_start=0, squeeze_column=False, squeeze_row=Fals…"
      ]
     },
     "metadata": {},
     "output_type": "display_data"
    }
   ],
   "source": [
    "import numpy as np\n",
    "\n",
    "from ipysheet import from_array, to_array\n",
    "\n",
    "\n",
    "arr = np.random.randn(6, 10)\n",
    "\n",
    "sheet = from_array(arr)\n",
    "sheet"
   ]
  },
  {
   "cell_type": "code",
   "execution_count": 5,
   "metadata": {},
   "outputs": [
    {
     "data": {
      "application/vnd.jupyter.widget-view+json": {
       "model_id": "b1b62afbaf1941fa877ab3b318c78c15",
       "version_major": 2,
       "version_minor": 0
      },
      "text/plain": [
       "Sheet(cells=(Cell(column_end=0, column_start=0, numeric_format=None, row_end=2, row_start=0, squeeze_row=False…"
      ]
     },
     "metadata": {},
     "output_type": "display_data"
    }
   ],
   "source": [
    "arr = np.array([True, False, True])\n",
    "\n",
    "sheet = from_array(arr)\n",
    "sheet"
   ]
  },
  {
   "cell_type": "code",
   "execution_count": 6,
   "metadata": {},
   "outputs": [
    {
     "data": {
      "text/plain": [
       "array([[ True],\n",
       "       [False],\n",
       "       [ True]])"
      ]
     },
     "execution_count": 6,
     "metadata": {},
     "output_type": "execute_result"
    }
   ],
   "source": [
    "to_array(sheet)"
   ]
  },
  {
   "cell_type": "markdown",
   "metadata": {},
   "source": [
    "### Table search"
   ]
  },
  {
   "cell_type": "code",
   "execution_count": 7,
   "metadata": {},
   "outputs": [
    {
     "data": {
      "application/vnd.jupyter.widget-view+json": {
       "model_id": "8656ef437bee4475b59707581780437e",
       "version_major": 2,
       "version_minor": 0
      },
      "text/plain": [
       "VBox(children=(Text(value='', description='Search:'), Sheet(cells=(Cell(column_end=0, column_start=0, row_star…"
      ]
     },
     "metadata": {},
     "output_type": "display_data"
    }
   ],
   "source": [
    "import numpy as np\n",
    "import pandas as pd\n",
    "\n",
    "from ipysheet import from_dataframe\n",
    "from ipywidgets import Text, VBox, link\n",
    "\n",
    "\n",
    "df = pd.DataFrame(\n",
    "    {\n",
    "        \"A\": 1.0,\n",
    "        \"B\": pd.Timestamp(\"20130102\"),\n",
    "        \"C\": pd.Series(1, index=list(range(4)), dtype=\"float32\"),\n",
    "        \"D\": np.array([False, True, False, False], dtype=\"bool\"),\n",
    "        \"E\": pd.Categorical([\"test\", \"train\", \"test\", \"train\"]),\n",
    "        \"F\": \"foo\",\n",
    "    }\n",
    ")\n",
    "\n",
    "df.loc[[0, 2], [\"B\"]] = np.nan\n",
    "\n",
    "\n",
    "s = from_dataframe(df)\n",
    "\n",
    "search_box = Text(description=\"Search:\")\n",
    "link((search_box, \"value\"), (s, \"search_token\"))\n",
    "\n",
    "VBox((search_box, s))"
   ]
  },
  {
   "cell_type": "markdown",
   "metadata": {},
   "source": [
    "### Plot editable tables"
   ]
  },
  {
   "cell_type": "code",
   "execution_count": 8,
   "metadata": {},
   "outputs": [
    {
     "data": {
      "application/vnd.jupyter.widget-view+json": {
       "model_id": "d9ba0791683e4e8caae3477253e3cc2b",
       "version_major": 2,
       "version_minor": 0
      },
      "text/plain": [
       "HBox(children=(Sheet(cells=(Cell(column_end=0, column_start=0, row_end=17, row_start=0, squeeze_row=False, typ…"
      ]
     },
     "metadata": {},
     "output_type": "display_data"
    }
   ],
   "source": [
    "import bqplot.pyplot as plt\n",
    "import numpy as np\n",
    "\n",
    "from ipysheet import cell, column, sheet\n",
    "from ipywidgets import HBox\n",
    "from traitlets import link\n",
    "\n",
    "\n",
    "size = 18\n",
    "scale = 100.0\n",
    "np.random.seed(0)\n",
    "x_data = np.arange(size)\n",
    "y_data = np.cumsum(np.random.randn(size) * scale)\n",
    "\n",
    "fig = plt.figure()\n",
    "axes_options = {\n",
    "    \"x\": {\"label\": \"Date\", \"tick_format\": \"%m/%d\"},\n",
    "    \"y\": {\"label\": \"Price\", \"tick_format\": \"0.0f\"},\n",
    "}\n",
    "\n",
    "scatt = plt.scatter(x_data, y_data, colors=[\"red\"], stroke=\"black\")\n",
    "fig.layout.width = \"70%\"\n",
    "\n",
    "sheet1 = sheet(rows=size, columns=2)\n",
    "x_column = column(0, x_data)\n",
    "y_column = column(1, y_data)\n",
    "\n",
    "link((scatt, \"x\"), (x_column, \"value\"))\n",
    "link((scatt, \"y\"), (y_column, \"value\"))\n",
    "\n",
    "HBox((sheet1, fig))"
   ]
  },
  {
   "cell_type": "markdown",
   "metadata": {},
   "source": [
    "## For further reading\n",
    "\n",
    "* [Interactive spreadsheets in Jupyter](https://towardsdatascience.com/interactive-spreadsheets-in-jupyter-32ab6ec0f4ff)\n",
    "* [GitHub](https://github.com/QuantStack/ipysheet)\n",
    "* [Docs](https://ipysheet.readthedocs.io/en/latest/)\n"
   ]
  }
 ],
 "metadata": {
  "kernelspec": {
   "display_name": "Python 3.11 Kernel",
   "language": "python",
   "name": "python311"
  },
  "language_info": {
   "codemirror_mode": {
    "name": "ipython",
    "version": 3
   },
   "file_extension": ".py",
   "mimetype": "text/x-python",
   "name": "python",
   "nbconvert_exporter": "python",
   "pygments_lexer": "ipython3",
   "version": "3.11.4"
  },
  "latex_envs": {
   "LaTeX_envs_menu_present": true,
   "autoclose": false,
   "autocomplete": true,
   "bibliofile": "biblio.bib",
   "cite_by": "apalike",
   "current_citInitial": 1,
   "eqLabelWithNumbers": true,
   "eqNumInitial": 1,
   "hotkeys": {
    "equation": "Ctrl-E",
    "itemize": "Ctrl-I"
   },
   "labels_anchors": false,
   "latex_user_defs": false,
   "report_style_numbering": false,
   "user_envs_cfg": false
  },
  "varInspector": {
   "cols": {
    "lenName": 16,
    "lenType": 16,
    "lenVar": 40
   },
   "kernels_config": {
    "python": {
     "delete_cmd_postfix": "",
     "delete_cmd_prefix": "del ",
     "library": "var_list.py",
     "varRefreshCmd": "print(var_dic_list())"
    },
    "r": {
     "delete_cmd_postfix": ") ",
     "delete_cmd_prefix": "rm(",
     "library": "var_list.r",
     "varRefreshCmd": "cat(var_dic_list()) "
    }
   },
   "types_to_exclude": [
    "module",
    "function",
    "builtin_function_or_method",
    "instance",
    "_Feature"
   ],
   "window_display": false
  },
  "widgets": {
   "application/vnd.jupyter.widget-state+json": {
    "state": {
     "00ae7d1da4bd4f30bf90544ac304826c": {
      "model_module": "@jupyter-widgets/controls",
      "model_module_version": "1.5.0",
      "model_name": "FloatSliderModel",
      "state": {
       "layout": "IPY_MODEL_0dbd101497f3489aba3f1bfc71ef0e40",
       "step": 0.1,
       "style": "IPY_MODEL_24d33ef8cada4f5e9d0fd23da92af5a5",
       "value": 50.9
      }
     },
     "01c40c503fbd4ef8bbf3cd6e56849b2a": {
      "model_module": "bqplot",
      "model_module_version": "^0.4.8",
      "model_name": "AxisModel",
      "state": {
       "scale": "IPY_MODEL_fe5e0e7a81ae4365b9cffe70684ae20f",
       "side": "bottom",
       "tick_values": {
        "type": null,
        "values": null
       }
      }
     },
     "0596195b36854548930821bcd6d5eb00": {
      "model_module": "bqplot",
      "model_module_version": "^0.4.8",
      "model_name": "ScatterModel",
      "state": {
       "color": {
        "type": null,
        "values": null
       },
       "colors": [
        "red"
       ],
       "display_legend": false,
       "names": {
        "type": null,
        "values": null
       },
       "opacity": {
        "type": null,
        "values": null
       },
       "rotation": {
        "type": null,
        "values": null
       },
       "scales": {
        "x": "IPY_MODEL_fe5e0e7a81ae4365b9cffe70684ae20f",
        "y": "IPY_MODEL_b1f36a10fc1346268b5064537fc827dd"
       },
       "scales_metadata": {
        "color": {
         "dimension": "color"
        },
        "opacity": {
         "dimension": "opacity"
        },
        "rotation": {
         "dimension": "rotation"
        },
        "size": {
         "dimension": "size"
        },
        "skew": {
         "dimension": "skew"
        },
        "x": {
         "dimension": "x",
         "orientation": "horizontal"
        },
        "y": {
         "dimension": "y",
         "orientation": "vertical"
        }
       },
       "selected": [],
       "size": {
        "type": null,
        "values": null
       },
       "skew": {
        "type": null,
        "values": null
       },
       "stroke": "black",
       "x": {
        "type": "float",
        "values": [
         0,
         1,
         2,
         3,
         4,
         5,
         6,
         7,
         8,
         9,
         10,
         11,
         12,
         13,
         14,
         15,
         16,
         17
        ]
       },
       "y": {
        "type": "float",
        "values": [
         176.4052345967664,
         216.42095543348873,
         314.29475384406265,
         538.3840737642084,
         725.1398727792052,
         627.4120847915641,
         722.4209265441231,
         707.2852057143533,
         696.9633205349975,
         738.0231707288347,
         852.4275278449225,
         897.8548785412199,
         973.9586510559193,
         986.1261527052021,
         1030.5124759797447,
         1063.8799087171715,
         1213.2878160329321,
         1192.7719896563522
        ]
       }
      }
     },
     "09e62c6fbc7d4d8bbba130d429e7bd1a": {
      "model_module": "@jupyter-widgets/controls",
      "model_module_version": "1.5.0",
      "model_name": "HBoxModel",
      "state": {
       "children": [
        "IPY_MODEL_97327db2651449b0b2f5e5f360923eed",
        "IPY_MODEL_0e23ed8414174976938162707bf68fe7"
       ],
       "layout": "IPY_MODEL_a6637eed7228408bbdd30d2b608d6abc"
      }
     },
     "0bbcc90ebdd647198240499d6fd0fa58": {
      "model_module": "@jupyter-widgets/base",
      "model_module_version": "1.2.0",
      "model_name": "LayoutModel",
      "state": {
       "height": "auto",
       "width": "auto"
      }
     },
     "0dbd101497f3489aba3f1bfc71ef0e40": {
      "model_module": "@jupyter-widgets/base",
      "model_module_version": "1.2.0",
      "model_name": "LayoutModel",
      "state": {}
     },
     "0e23ed8414174976938162707bf68fe7": {
      "model_module": "bqplot",
      "model_module_version": "^0.4.8",
      "model_name": "FigureModel",
      "state": {
       "_dom_classes": [],
       "axes": [
        "IPY_MODEL_01c40c503fbd4ef8bbf3cd6e56849b2a",
        "IPY_MODEL_522050c91cdb4c0d98ca7b2e0ab5e018"
       ],
       "layout": "IPY_MODEL_7d4f2955c35343e59c395487689c15a5",
       "marks": [
        "IPY_MODEL_0596195b36854548930821bcd6d5eb00"
       ],
       "scale_x": "IPY_MODEL_e5bac0037e584091bb9af3d5205c2b64",
       "scale_y": "IPY_MODEL_e1f136e63d4b467a8ffc5ed460c2d129"
      }
     },
     "0f6d97bc816a40848586728fcfe8f557": {
      "model_module": "ipysheet",
      "model_module_version": "~0.4.3",
      "model_name": "CellRangeModel",
      "state": {
       "_view_module": null,
       "_view_module_version": "",
       "row_end": 0,
       "row_start": 0,
       "type": "numeric",
       "value": 0.1
      }
     },
     "1102d01f1a314e72ba6e72b1c71628e1": {
      "model_module": "ipysheet",
      "model_module_version": "~0.4.3",
      "model_name": "SheetModel",
      "state": {
       "cells": [
        "IPY_MODEL_ad04c00b5e85448f947ee57d751c0f6d"
       ],
       "columns": 10,
       "layout": "IPY_MODEL_0bbcc90ebdd647198240499d6fd0fa58",
       "rows": 6
      }
     },
     "14cf58e979134a2795ddfdc31f41f03b": {
      "model_module": "ipysheet",
      "model_module_version": "~0.4.3",
      "model_name": "CellRangeModel",
      "state": {
       "_view_module": null,
       "_view_module_version": "",
       "column_end": 0,
       "column_start": 0,
       "row_end": 0,
       "row_start": 0,
       "style": {
        "min-width": "122px"
       },
       "type": "widget",
       "value": "IPY_MODEL_22c7821d339e48fdb135b3a64fbad66a"
      }
     },
     "1744ed3ae321489c8b59ef90be8e60d2": {
      "model_module": "@jupyter-widgets/base",
      "model_module_version": "1.2.0",
      "model_name": "LayoutModel",
      "state": {}
     },
     "17dc892ed5cb41dbbacfd5da845c6708": {
      "model_module": "ipysheet",
      "model_module_version": "~0.4.3",
      "model_name": "SheetModel",
      "state": {
       "cells": [
        "IPY_MODEL_14cf58e979134a2795ddfdc31f41f03b",
        "IPY_MODEL_50f3b2d0d9884246b43a7e3dfba59a27",
        "IPY_MODEL_945b73703bb44ba3b925128f274fc9cb"
       ],
       "columns": 5,
       "layout": "IPY_MODEL_db0be0a06d3a4225a9fbffeb58fbc85e",
       "rows": 5
      }
     },
     "1bf804ddcb4d458a933a8d88fbfed467": {
      "model_module": "ipysheet",
      "model_module_version": "~0.4.3",
      "model_name": "CellRangeModel",
      "state": {
       "_view_module": null,
       "_view_module_version": "",
       "column_end": 0,
       "column_start": 0,
       "numeric_format": "0.00",
       "row_end": 2,
       "row_start": 2,
       "type": "numeric",
       "value": 92.9
      }
     },
     "1eb78f25e919492798c595479d87e38f": {
      "model_module": "ipysheet",
      "model_module_version": "~0.4.3",
      "model_name": "CellRangeModel",
      "state": {
       "_view_module": null,
       "_view_module_version": "",
       "column_end": 0,
       "column_start": 0,
       "numeric_format": null,
       "row_end": 2,
       "row_start": 0,
       "squeeze_row": false,
       "type": "checkbox",
       "value": [
        true,
        false,
        true
       ]
      }
     },
     "22c7821d339e48fdb135b3a64fbad66a": {
      "model_module": "@jupyter-widgets/controls",
      "model_module_version": "1.5.0",
      "model_name": "FloatSliderModel",
      "state": {
       "layout": "IPY_MODEL_76b56a3bc2d84e80a1416efb8d105b5e",
       "step": 0.1,
       "style": "IPY_MODEL_90b5d8ef429d430d861490d40fc8461e"
      }
     },
     "2490911bb1a04ff6bb2d56f131144aaf": {
      "model_module": "ipysheet",
      "model_module_version": "~0.4.3",
      "model_name": "CellRangeModel",
      "state": {
       "_view_module": null,
       "_view_module_version": "",
       "column_end": 0,
       "column_start": 0,
       "row_end": 17,
       "row_start": 0,
       "squeeze_row": false,
       "type": "numeric",
       "value": [
        0,
        1,
        2,
        3,
        4,
        5,
        6,
        7,
        8,
        9,
        10,
        11,
        12,
        13,
        14,
        15,
        16,
        17
       ]
      }
     },
     "24d33ef8cada4f5e9d0fd23da92af5a5": {
      "model_module": "@jupyter-widgets/controls",
      "model_module_version": "1.5.0",
      "model_name": "SliderStyleModel",
      "state": {
       "description_width": ""
      }
     },
     "25497d09d4de458ebac442d9eb3883ae": {
      "model_module": "@jupyter-widgets/controls",
      "model_module_version": "1.5.0",
      "model_name": "TextModel",
      "state": {
       "description": "Search:",
       "layout": "IPY_MODEL_1744ed3ae321489c8b59ef90be8e60d2",
       "style": "IPY_MODEL_bfd73fb12ee14d2a8c9f3888224c15b0"
      }
     },
     "27011d965880488d8facca2f65172a13": {
      "model_module": "ipysheet",
      "model_module_version": "~0.4.3",
      "model_name": "SheetModel",
      "state": {
       "cells": [
        "IPY_MODEL_fc114dd828fb419cbc2fdde38cda0c36",
        "IPY_MODEL_6a37ea1f042f40af97ec8d3689fff92f",
        "IPY_MODEL_0f6d97bc816a40848586728fcfe8f557",
        "IPY_MODEL_81435a50f76c47798065ff8d2f3ab8f7",
        "IPY_MODEL_c85f42a8547147748cc37e8cdd216af5"
       ],
       "columns": 5,
       "layout": "IPY_MODEL_756d9c4b4601450c8ed9016b8082e906",
       "rows": 5
      }
     },
     "28fbe94f653a402b91fab3413887b3ff": {
      "model_module": "ipysheet",
      "model_module_version": "~0.4.3",
      "model_name": "CellRangeModel",
      "state": {
       "_view_module": null,
       "_view_module_version": "",
       "column_end": 2,
       "column_start": 2,
       "date_format": "DD-MM-YYYY",
       "row_end": 2,
       "row_start": 2,
       "type": "date",
       "value": "14-02-2019"
      }
     },
     "2bd7bfed236d4d88850037651428cb1d": {
      "model_module": "@jupyter-widgets/controls",
      "model_module_version": "1.5.0",
      "model_name": "VBoxModel",
      "state": {
       "children": [
        "IPY_MODEL_c3226172f7534296bfb830fa179c14b7",
        "IPY_MODEL_718576fc54e04c6baefaf8da9ced8074"
       ],
       "layout": "IPY_MODEL_a5acb84dcc274312a6d79c82d247e500"
      }
     },
     "2db9e41908ad48fbad3b4f2761427bf0": {
      "model_module": "ipysheet",
      "model_module_version": "~0.4.3",
      "model_name": "CellRangeModel",
      "state": {
       "_view_module": null,
       "_view_module_version": "",
       "row_end": 0,
       "row_start": 0,
       "type": "numeric",
       "value": 0.1
      }
     },
     "2ed912014e35456cb90a64c6e0cd7c8f": {
      "model_module": "@jupyter-widgets/base",
      "model_module_version": "1.2.0",
      "model_name": "LayoutModel",
      "state": {
       "height": "auto",
       "width": "auto"
      }
     },
     "3290332a2e17443a81949c212f9e9539": {
      "model_module": "@jupyter-widgets/base",
      "model_module_version": "1.2.0",
      "model_name": "LayoutModel",
      "state": {
       "height": "auto",
       "width": "auto"
      }
     },
     "3389549e186248a5826e592709f9e641": {
      "model_module": "@jupyter-widgets/base",
      "model_module_version": "1.2.0",
      "model_name": "LayoutModel",
      "state": {
       "height": "auto",
       "width": "auto"
      }
     },
     "3519b4b53ded4b9b8a44a924090963c4": {
      "model_module": "ipysheet",
      "model_module_version": "~0.4.3",
      "model_name": "CellRangeModel",
      "state": {
       "_view_module": null,
       "_view_module_version": "",
       "choice": [],
       "column_end": 0,
       "column_start": 0,
       "row_end": 3,
       "row_start": 0,
       "squeeze_row": false,
       "type": "numeric",
       "value": [
        1,
        1,
        1,
        1
       ]
      }
     },
     "3696996957f34ec8bb8bccaea5a1c482": {
      "model_module": "ipysheet",
      "model_module_version": "~0.4.3",
      "model_name": "CellRangeModel",
      "state": {
       "_view_module": null,
       "_view_module_version": "",
       "choice": [],
       "column_end": 4,
       "column_start": 4,
       "numeric_format": null,
       "row_end": 3,
       "row_start": 0,
       "squeeze_row": false,
       "type": "text",
       "value": [
        "test",
        "train",
        "test",
        "train"
       ]
      }
     },
     "3989e26766df4bbaafd5e0e0286bb216": {
      "model_module": "bqplot",
      "model_module_version": "^0.4.8",
      "model_name": "AxisModel",
      "state": {
       "orientation": "vertical",
       "scale": "IPY_MODEL_5313dc7f798943eab902cb81a57db887",
       "side": "left",
       "tick_values": {
        "type": null,
        "values": null
       }
      }
     },
     "3ba5286d1a9947ef825920aaa639bf70": {
      "model_module": "ipysheet",
      "model_module_version": "~0.4.3",
      "model_name": "SheetModel",
      "state": {
       "cells": [
        "IPY_MODEL_71f7ff6a85da4748bb7ddb43fb10bf55",
        "IPY_MODEL_48ce8a2f297c4a0d89821ac952f15e27",
        "IPY_MODEL_e24e903f95e7469eaea81d09f812dbb1",
        "IPY_MODEL_8598e493bb3f488a9031dff2d05a5c59",
        "IPY_MODEL_3696996957f34ec8bb8bccaea5a1c482",
        "IPY_MODEL_7c7b9037a2d14b5ebe8ed00c5e9f638b"
       ],
       "column_headers": [
        "A",
        "B",
        "C",
        "D",
        "E",
        "F"
       ],
       "columns": 6,
       "layout": "IPY_MODEL_2ed912014e35456cb90a64c6e0cd7c8f",
       "row_headers": [
        "0",
        "1",
        "2",
        "3"
       ],
       "rows": 4
      }
     },
     "3bc7ffb35062422282a9263432b23b52": {
      "model_module": "bqplot",
      "model_module_version": "^0.4.8",
      "model_name": "LinearScaleModel",
      "state": {
       "stabilized": false
      }
     },
     "3cda65a856b446a7ba01fa46f5761850": {
      "model_module": "@jupyter-widgets/controls",
      "model_module_version": "1.5.0",
      "model_name": "HBoxModel",
      "state": {
       "children": [
        "IPY_MODEL_de9df5d62d4d43d4880a4fa3de9f197f",
        "IPY_MODEL_aa2d51bcfd1643e6b2f7cc834de1c0b1"
       ],
       "layout": "IPY_MODEL_89fd8f6a3219441e9d2f2202f473c2ad"
      }
     },
     "48ce8a2f297c4a0d89821ac952f15e27": {
      "model_module": "ipysheet",
      "model_module_version": "~0.4.3",
      "model_name": "CellRangeModel",
      "state": {
       "_view_module": null,
       "_view_module_version": "",
       "choice": [],
       "numeric_format": null,
       "row_end": 3,
       "row_start": 0,
       "squeeze_row": false,
       "type": "date",
       "value": [
        null,
        "2013/01/02",
        null,
        "2013/01/02"
       ]
      }
     },
     "4c983f5051a74f48a5f811c24ffda483": {
      "model_module": "bqplot",
      "model_module_version": "^0.4.8",
      "model_name": "LinearScaleModel",
      "state": {
       "allow_padding": false,
       "max": 1,
       "min": 0,
       "stabilized": false
      }
     },
     "4d8456e0a7384920acb61a70f995e5a3": {
      "model_module": "@jupyter-widgets/base",
      "model_module_version": "1.2.0",
      "model_name": "LayoutModel",
      "state": {
       "width": "70%"
      }
     },
     "4ea01d99d93d4e718b61d4300c1b4bf6": {
      "model_module": "ipysheet",
      "model_module_version": "~0.4.3",
      "model_name": "SheetModel",
      "state": {
       "cells": [
        "IPY_MODEL_64ac7ef2a9d04e47988540e478c1e62f"
       ],
       "columns": 1,
       "layout": "IPY_MODEL_7e94d380f06d4fca8259b5dbaccda2ac"
      }
     },
     "50f3b2d0d9884246b43a7e3dfba59a27": {
      "model_module": "ipysheet",
      "model_module_version": "~0.4.3",
      "model_name": "CellRangeModel",
      "state": {
       "_view_module": null,
       "_view_module_version": "",
       "column_end": 0,
       "column_start": 0,
       "numeric_format": "0.00",
       "type": "numeric",
       "value": 42
      }
     },
     "522050c91cdb4c0d98ca7b2e0ab5e018": {
      "model_module": "bqplot",
      "model_module_version": "^0.4.8",
      "model_name": "AxisModel",
      "state": {
       "orientation": "vertical",
       "scale": "IPY_MODEL_b1f36a10fc1346268b5064537fc827dd",
       "side": "left",
       "tick_values": {
        "type": null,
        "values": null
       }
      }
     },
     "52a9b5109eca4932bb4f7a3bf60a7d93": {
      "model_module": "bqplot",
      "model_module_version": "^0.4.8",
      "model_name": "AxisModel",
      "state": {
       "scale": "IPY_MODEL_3bc7ffb35062422282a9263432b23b52",
       "side": "bottom",
       "tick_values": {
        "type": null,
        "values": null
       }
      }
     },
     "5313dc7f798943eab902cb81a57db887": {
      "model_module": "bqplot",
      "model_module_version": "^0.4.8",
      "model_name": "LinearScaleModel",
      "state": {
       "stabilized": false
      }
     },
     "628bccdb41ae46408163c267d83f0987": {
      "model_module": "ipysheet",
      "model_module_version": "~0.4.3",
      "model_name": "CellRangeModel",
      "state": {
       "_view_module": null,
       "_view_module_version": "",
       "column_end": 9,
       "column_start": 0,
       "row_end": 5,
       "row_start": 0,
       "squeeze_column": false,
       "squeeze_row": false,
       "type": "numeric",
       "value": [
        [
         0.9774880441338312,
         -1.1558625656990387,
         0.5633189746027919,
         -0.3602928286424356,
         1.2155463234822723,
         -0.6210332400012912,
         -0.056626009299732855,
         -0.01294945583992111,
         -1.0701542246456395,
         0.02135122385497204
        ],
        [
         0.9646993270108888,
         0.34586852536266355,
         -0.38736612552665667,
         -0.7749960491454319,
         1.100654641058872,
         -0.4944862520725896,
         0.4988043634874775,
         0.8796994725250927,
         -1.2180862338607852,
         1.3096949480442583
        ],
        [
         1.2556460243943361,
         -0.4335880622417718,
         0.33550063876176883,
         -0.8896385226716991,
         0.7571573705521587,
         -1.1674662521274715,
         0.6613517931512678,
         0.09136298332545906,
         0.25407577057389513,
         0.18684337086244734
        ],
        [
         0.7687150585456894,
         -0.15044495499719612,
         -0.05126212636296971,
         0.10760908895871427,
         0.8224410039955873,
         0.31606201503890785,
         0.33737447717853564,
         1.0451205264676755,
         2.0216629720582304,
         0.745389628177861
        ],
        [
         -1.5513074009798464,
         -0.44759053840599533,
         0.017806112443591197,
         -0.6240232804360737,
         0.07688161174716389,
         0.580042263430941,
         1.1175166957297595,
         0.17926703685706957,
         -2.199684872381775,
         0.5197329570001256
        ],
        [
         1.2556460243943361,
         -0.3880074059440612,
         0.7690446016354905,
         -0.8529447113956652,
         -0.30782015075087643,
         -0.3483081894732096,
         -0.48953841414341387,
         0.3708474187885252,
         -0.5997186306892528,
         0.5095938656211961
        ]
       ]
      }
     },
     "64ac7ef2a9d04e47988540e478c1e62f": {
      "model_module": "ipysheet",
      "model_module_version": "~0.4.3",
      "model_name": "CellRangeModel",
      "state": {
       "_view_module": null,
       "_view_module_version": "",
       "column_end": 0,
       "column_start": 0,
       "numeric_format": null,
       "row_end": 2,
       "row_start": 0,
       "squeeze_row": false,
       "type": "checkbox",
       "value": [
        true,
        false,
        true
       ]
      }
     },
     "6a37ea1f042f40af97ec8d3689fff92f": {
      "model_module": "ipysheet",
      "model_module_version": "~0.4.3",
      "model_name": "CellRangeModel",
      "state": {
       "_view_module": null,
       "_view_module_version": "",
       "column_end": 0,
       "column_start": 0,
       "type": "text",
       "value": "Hello"
      }
     },
     "6d7045b72cab4977921a31b82ff4174f": {
      "model_module": "@jupyter-widgets/controls",
      "model_module_version": "1.5.0",
      "model_name": "VBoxModel",
      "state": {
       "children": [
        "IPY_MODEL_25497d09d4de458ebac442d9eb3883ae",
        "IPY_MODEL_3ba5286d1a9947ef825920aaa639bf70"
       ],
       "layout": "IPY_MODEL_9711249adea847fe9001dea5559d7142"
      }
     },
     "70e49c4b3e3040ebb9736f976c0273fd": {
      "model_module": "ipysheet",
      "model_module_version": "~0.4.3",
      "model_name": "CellRangeModel",
      "state": {
       "_view_module": null,
       "_view_module_version": "",
       "numeric_format": "0.00",
       "type": "numeric",
       "value": 15.9
      }
     },
     "718576fc54e04c6baefaf8da9ced8074": {
      "model_module": "ipysheet",
      "model_module_version": "~0.4.3",
      "model_name": "SheetModel",
      "state": {
       "cells": [
        "IPY_MODEL_3519b4b53ded4b9b8a44a924090963c4",
        "IPY_MODEL_ed2ab4557fe644ec832507a3e053b283",
        "IPY_MODEL_b410414db8e64f979f6b511c4a8a011f",
        "IPY_MODEL_77364b9359ac496793d8c6f057b38f45",
        "IPY_MODEL_80312878b7b54e7fb4a10c60c630fd05",
        "IPY_MODEL_76a2ea00984b4b3da3f378bd4a51e6b2"
       ],
       "column_headers": [
        "A",
        "B",
        "C",
        "D",
        "E",
        "F"
       ],
       "columns": 6,
       "layout": "IPY_MODEL_e0f61919df2546e283cc0026b77c78f3",
       "row_headers": [
        "0",
        "1",
        "2",
        "3"
       ],
       "rows": 4
      }
     },
     "71f7ff6a85da4748bb7ddb43fb10bf55": {
      "model_module": "ipysheet",
      "model_module_version": "~0.4.3",
      "model_name": "CellRangeModel",
      "state": {
       "_view_module": null,
       "_view_module_version": "",
       "choice": [],
       "column_end": 0,
       "column_start": 0,
       "row_end": 3,
       "row_start": 0,
       "squeeze_row": false,
       "type": "numeric",
       "value": [
        1,
        1,
        1,
        1
       ]
      }
     },
     "73e21a6fa803444d8a6bb84f0147f4bb": {
      "model_module": "@jupyter-widgets/controls",
      "model_module_version": "1.5.0",
      "model_name": "DescriptionStyleModel",
      "state": {
       "description_width": ""
      }
     },
     "756d9c4b4601450c8ed9016b8082e906": {
      "model_module": "@jupyter-widgets/base",
      "model_module_version": "1.2.0",
      "model_name": "LayoutModel",
      "state": {
       "height": "auto",
       "width": "auto"
      }
     },
     "76a2ea00984b4b3da3f378bd4a51e6b2": {
      "model_module": "ipysheet",
      "model_module_version": "~0.4.3",
      "model_name": "CellRangeModel",
      "state": {
       "_view_module": null,
       "_view_module_version": "",
       "choice": [],
       "column_end": 5,
       "column_start": 5,
       "numeric_format": null,
       "row_end": 3,
       "row_start": 0,
       "squeeze_row": false,
       "type": "text",
       "value": [
        "foo",
        "foo",
        "foo",
        "foo"
       ]
      }
     },
     "76b56a3bc2d84e80a1416efb8d105b5e": {
      "model_module": "@jupyter-widgets/base",
      "model_module_version": "1.2.0",
      "model_name": "LayoutModel",
      "state": {}
     },
     "77364b9359ac496793d8c6f057b38f45": {
      "model_module": "ipysheet",
      "model_module_version": "~0.4.3",
      "model_name": "CellRangeModel",
      "state": {
       "_view_module": null,
       "_view_module_version": "",
       "choice": [],
       "column_end": 3,
       "column_start": 3,
       "numeric_format": null,
       "row_end": 3,
       "row_start": 0,
       "squeeze_row": false,
       "type": "checkbox",
       "value": [
        false,
        true,
        false,
        false
       ]
      }
     },
     "7c7b9037a2d14b5ebe8ed00c5e9f638b": {
      "model_module": "ipysheet",
      "model_module_version": "~0.4.3",
      "model_name": "CellRangeModel",
      "state": {
       "_view_module": null,
       "_view_module_version": "",
       "choice": [],
       "column_end": 5,
       "column_start": 5,
       "numeric_format": null,
       "row_end": 3,
       "row_start": 0,
       "squeeze_row": false,
       "type": "text",
       "value": [
        "foo",
        "foo",
        "foo",
        "foo"
       ]
      }
     },
     "7d4f2955c35343e59c395487689c15a5": {
      "model_module": "@jupyter-widgets/base",
      "model_module_version": "1.2.0",
      "model_name": "LayoutModel",
      "state": {
       "width": "70%"
      }
     },
     "7e94d380f06d4fca8259b5dbaccda2ac": {
      "model_module": "@jupyter-widgets/base",
      "model_module_version": "1.2.0",
      "model_name": "LayoutModel",
      "state": {
       "height": "auto",
       "width": "auto"
      }
     },
     "80312878b7b54e7fb4a10c60c630fd05": {
      "model_module": "ipysheet",
      "model_module_version": "~0.4.3",
      "model_name": "CellRangeModel",
      "state": {
       "_view_module": null,
       "_view_module_version": "",
       "choice": [],
       "column_end": 4,
       "column_start": 4,
       "numeric_format": null,
       "row_end": 3,
       "row_start": 0,
       "squeeze_row": false,
       "type": "text",
       "value": [
        "test",
        "train",
        "test",
        "train"
       ]
      }
     },
     "81435a50f76c47798065ff8d2f3ab8f7": {
      "model_module": "ipysheet",
      "model_module_version": "~0.4.3",
      "model_name": "CellRangeModel",
      "state": {
       "_view_module": null,
       "_view_module_version": "",
       "numeric_format": "0.00",
       "type": "numeric",
       "value": 15.9
      }
     },
     "8598e493bb3f488a9031dff2d05a5c59": {
      "model_module": "ipysheet",
      "model_module_version": "~0.4.3",
      "model_name": "CellRangeModel",
      "state": {
       "_view_module": null,
       "_view_module_version": "",
       "choice": [],
       "column_end": 3,
       "column_start": 3,
       "numeric_format": null,
       "row_end": 3,
       "row_start": 0,
       "squeeze_row": false,
       "type": "checkbox",
       "value": [
        false,
        true,
        false,
        false
       ]
      }
     },
     "85d5b525ada74db3bbb060a4d397541f": {
      "model_module": "bqplot",
      "model_module_version": "^0.4.8",
      "model_name": "ScatterModel",
      "state": {
       "color": {
        "type": null,
        "values": null
       },
       "colors": [
        "red"
       ],
       "display_legend": false,
       "names": {
        "type": null,
        "values": null
       },
       "opacity": {
        "type": null,
        "values": null
       },
       "rotation": {
        "type": null,
        "values": null
       },
       "scales": {
        "x": "IPY_MODEL_3bc7ffb35062422282a9263432b23b52",
        "y": "IPY_MODEL_5313dc7f798943eab902cb81a57db887"
       },
       "scales_metadata": {
        "color": {
         "dimension": "color"
        },
        "opacity": {
         "dimension": "opacity"
        },
        "rotation": {
         "dimension": "rotation"
        },
        "size": {
         "dimension": "size"
        },
        "skew": {
         "dimension": "skew"
        },
        "x": {
         "dimension": "x",
         "orientation": "horizontal"
        },
        "y": {
         "dimension": "y",
         "orientation": "vertical"
        }
       },
       "selected": [],
       "size": {
        "type": null,
        "values": null
       },
       "skew": {
        "type": null,
        "values": null
       },
       "stroke": "black",
       "x": {
        "type": "float",
        "values": [
         0,
         1,
         2,
         3,
         4,
         5,
         6,
         7,
         8,
         9,
         10,
         11,
         12,
         13,
         14,
         15,
         16,
         17
        ]
       },
       "y": {
        "type": "float",
        "values": [
         176.4052345967664,
         216.42095543348873,
         314.29475384406265,
         538.3840737642084,
         725.1398727792052,
         627.4120847915641,
         722.4209265441231,
         707.2852057143533,
         696.9633205349975,
         738.0231707288347,
         752.4275278449225,
         897.8548785412199,
         973.9586510559193,
         986.1261527052021,
         1030.5124759797447,
         1063.8799087171715,
         1213.2878160329321,
         1192.7719896563522
        ]
       }
      }
     },
     "89fd8f6a3219441e9d2f2202f473c2ad": {
      "model_module": "@jupyter-widgets/base",
      "model_module_version": "1.2.0",
      "model_name": "LayoutModel",
      "state": {}
     },
     "90b5d8ef429d430d861490d40fc8461e": {
      "model_module": "@jupyter-widgets/controls",
      "model_module_version": "1.5.0",
      "model_name": "SliderStyleModel",
      "state": {
       "description_width": ""
      }
     },
     "945b73703bb44ba3b925128f274fc9cb": {
      "model_module": "ipysheet",
      "model_module_version": "~0.4.3",
      "model_name": "CellRangeModel",
      "state": {
       "_view_module": null,
       "_view_module_version": "",
       "column_end": 0,
       "column_start": 0,
       "numeric_format": "0.00",
       "row_end": 2,
       "row_start": 2,
       "type": "numeric",
       "value": 42
      }
     },
     "9711249adea847fe9001dea5559d7142": {
      "model_module": "@jupyter-widgets/base",
      "model_module_version": "1.2.0",
      "model_name": "LayoutModel",
      "state": {}
     },
     "97327db2651449b0b2f5e5f360923eed": {
      "model_module": "ipysheet",
      "model_module_version": "~0.4.3",
      "model_name": "SheetModel",
      "state": {
       "cells": [
        "IPY_MODEL_2490911bb1a04ff6bb2d56f131144aaf",
        "IPY_MODEL_df4b1a5d6d194503ab72d257b1b73159"
       ],
       "columns": 2,
       "layout": "IPY_MODEL_3290332a2e17443a81949c212f9e9539",
       "rows": 18
      }
     },
     "9c7326a3456340929ac8eedf95a3a3e4": {
      "model_module": "ipysheet",
      "model_module_version": "~0.4.3",
      "model_name": "SheetModel",
      "state": {
       "cells": [
        "IPY_MODEL_628bccdb41ae46408163c267d83f0987"
       ],
       "columns": 10,
       "layout": "IPY_MODEL_b642cfa0687341f2901f3837af673429",
       "rows": 6
      }
     },
     "9c949469a6b04b15bf78ebaabb61e9a8": {
      "model_module": "@jupyter-widgets/base",
      "model_module_version": "1.2.0",
      "model_name": "LayoutModel",
      "state": {
       "height": "auto",
       "width": "auto"
      }
     },
     "a3ac927044564772b2c8135f80335527": {
      "model_module": "ipysheet",
      "model_module_version": "~0.4.3",
      "model_name": "SheetModel",
      "state": {
       "cells": [
        "IPY_MODEL_b6fef24f209e4a31a271cf918845c089",
        "IPY_MODEL_ec13886265bc4faead6a43979d2118f1",
        "IPY_MODEL_1bf804ddcb4d458a933a8d88fbfed467"
       ],
       "columns": 5,
       "layout": "IPY_MODEL_3389549e186248a5826e592709f9e641",
       "rows": 5
      }
     },
     "a5acb84dcc274312a6d79c82d247e500": {
      "model_module": "@jupyter-widgets/base",
      "model_module_version": "1.2.0",
      "model_name": "LayoutModel",
      "state": {}
     },
     "a6637eed7228408bbdd30d2b608d6abc": {
      "model_module": "@jupyter-widgets/base",
      "model_module_version": "1.2.0",
      "model_name": "LayoutModel",
      "state": {}
     },
     "aa2d51bcfd1643e6b2f7cc834de1c0b1": {
      "model_module": "bqplot",
      "model_module_version": "^0.4.8",
      "model_name": "FigureModel",
      "state": {
       "_dom_classes": [],
       "axes": [
        "IPY_MODEL_52a9b5109eca4932bb4f7a3bf60a7d93",
        "IPY_MODEL_3989e26766df4bbaafd5e0e0286bb216"
       ],
       "layout": "IPY_MODEL_4d8456e0a7384920acb61a70f995e5a3",
       "marks": [
        "IPY_MODEL_85d5b525ada74db3bbb060a4d397541f"
       ],
       "scale_x": "IPY_MODEL_ba4886a57dd142199762ae4c27967a99",
       "scale_y": "IPY_MODEL_4c983f5051a74f48a5f811c24ffda483"
      }
     },
     "ad04c00b5e85448f947ee57d751c0f6d": {
      "model_module": "ipysheet",
      "model_module_version": "~0.4.3",
      "model_name": "CellRangeModel",
      "state": {
       "_view_module": null,
       "_view_module_version": "",
       "column_end": 9,
       "column_start": 0,
       "row_end": 5,
       "row_start": 0,
       "squeeze_column": false,
       "squeeze_row": false,
       "type": "numeric",
       "value": [
        [
         0.4645418860731599,
         1.4821942184250525,
         0.008167572956401194,
         -0.2478944331444917,
         -1.0375684494243416,
         -1.004862568227324,
         -0.5663137465308828,
         0.8794017892559075,
         -1.1467557939424184,
         1.310052551279339
        ],
        [
         2.241565950096543,
         0.2072963057384938,
         -0.5618269276351985,
         1.4155631309791852,
         -0.5014884889736914,
         1.202455828297044,
         -1.938069956233825,
         -0.19234347099671478,
         0.472260888941741,
         -0.5905990336299216
        ],
        [
         0.9732499363873282,
         0.8273821957289439,
         -0.9004647866492429,
         1.5439036183492865,
         -0.8322028174859294,
         -0.15300055649766908,
         -0.30611966109810296,
         1.2154878590998057,
         -0.2149621831006058,
         -0.9861255632517002
        ],
        [
         -0.25269836279383545,
         -0.6247966203581433,
         1.6988745092302033,
         0.44108810842692775,
         1.9174819373248952,
         -0.3270953891173216,
         0.7755281790301074,
         -0.11099796408076641,
         1.2663539061002937,
         0.6267850667551387
        ],
        [
         1.3162846503006334,
         0.6549202177500597,
         1.7907815285832338,
         1.085250324877469,
         2.242712075795295,
         0.9129679206824116,
         -1.6063491451598697,
         -0.2508703701557438,
         1.6029108381636306,
         0.5671507470334235
        ],
        [
         -0.7582289947985146,
         0.7030105835457506,
         -0.718421656218324,
         -0.6002962767446679,
         -1.254810208008876,
         -1.8120316487159231,
         1.3023319842730927,
         2.1601734299707176,
         -0.3876077364581797,
         -0.6449507471504263
        ]
       ]
      }
     },
     "b1f36a10fc1346268b5064537fc827dd": {
      "model_module": "bqplot",
      "model_module_version": "^0.4.8",
      "model_name": "LinearScaleModel",
      "state": {
       "stabilized": false
      }
     },
     "b410414db8e64f979f6b511c4a8a011f": {
      "model_module": "ipysheet",
      "model_module_version": "~0.4.3",
      "model_name": "CellRangeModel",
      "state": {
       "_view_module": null,
       "_view_module_version": "",
       "choice": [],
       "column_end": 2,
       "column_start": 2,
       "row_end": 3,
       "row_start": 0,
       "squeeze_row": false,
       "type": "numeric",
       "value": [
        1,
        1,
        1,
        1
       ]
      }
     },
     "b5d36e5c57b94665ac6a947379856346": {
      "model_module": "ipysheet",
      "model_module_version": "~0.4.3",
      "model_name": "CellRangeModel",
      "state": {
       "_view_module": null,
       "_view_module_version": "",
       "column_end": 0,
       "column_start": 0,
       "type": "text",
       "value": "Hello"
      }
     },
     "b642cfa0687341f2901f3837af673429": {
      "model_module": "@jupyter-widgets/base",
      "model_module_version": "1.2.0",
      "model_name": "LayoutModel",
      "state": {
       "height": "auto",
       "width": "auto"
      }
     },
     "b6fef24f209e4a31a271cf918845c089": {
      "model_module": "ipysheet",
      "model_module_version": "~0.4.3",
      "model_name": "CellRangeModel",
      "state": {
       "_view_module": null,
       "_view_module_version": "",
       "column_end": 0,
       "column_start": 0,
       "row_end": 0,
       "row_start": 0,
       "style": {
        "min-width": "122px"
       },
       "type": "widget",
       "value": "IPY_MODEL_00ae7d1da4bd4f30bf90544ac304826c"
      }
     },
     "ba4886a57dd142199762ae4c27967a99": {
      "model_module": "bqplot",
      "model_module_version": "^0.4.8",
      "model_name": "LinearScaleModel",
      "state": {
       "allow_padding": false,
       "max": 1,
       "min": 0,
       "stabilized": false
      }
     },
     "bec9931c3ac44a6681cf3ebf36fd8bf8": {
      "model_module": "ipysheet",
      "model_module_version": "~0.4.3",
      "model_name": "CellRangeModel",
      "state": {
       "_view_module": null,
       "_view_module_version": "",
       "column_end": 0,
       "column_start": 0,
       "row_end": 17,
       "row_start": 0,
       "squeeze_row": false,
       "type": "numeric",
       "value": [
        0,
        1,
        2,
        3,
        4,
        5,
        6,
        7,
        8,
        9,
        10,
        11,
        12,
        13,
        14,
        15,
        16,
        17
       ]
      }
     },
     "bfd73fb12ee14d2a8c9f3888224c15b0": {
      "model_module": "@jupyter-widgets/controls",
      "model_module_version": "1.5.0",
      "model_name": "DescriptionStyleModel",
      "state": {
       "description_width": ""
      }
     },
     "c3226172f7534296bfb830fa179c14b7": {
      "model_module": "@jupyter-widgets/controls",
      "model_module_version": "1.5.0",
      "model_name": "TextModel",
      "state": {
       "description": "Search:",
       "layout": "IPY_MODEL_d4af61f8846c475da7ca9b2b323a2837",
       "style": "IPY_MODEL_73e21a6fa803444d8a6bb84f0147f4bb"
      }
     },
     "c85f42a8547147748cc37e8cdd216af5": {
      "model_module": "ipysheet",
      "model_module_version": "~0.4.3",
      "model_name": "CellRangeModel",
      "state": {
       "_view_module": null,
       "_view_module_version": "",
       "column_end": 2,
       "column_start": 2,
       "date_format": "DD-MM-YYYY",
       "row_end": 2,
       "row_start": 2,
       "type": "date",
       "value": "14-02-2019"
      }
     },
     "cc2fbfa565b148de866a723ba1f4d811": {
      "model_module": "ipysheet",
      "model_module_version": "~0.4.3",
      "model_name": "CellRangeModel",
      "state": {
       "_view_module": null,
       "_view_module_version": "",
       "column_end": 0,
       "column_start": 0,
       "numeric_format": "0.0",
       "row_end": 0,
       "row_start": 0,
       "type": "numeric",
       "value": 0
      }
     },
     "cfc70538a3d242dd9a277833abd2ffbe": {
      "model_module": "ipysheet",
      "model_module_version": "~0.4.3",
      "model_name": "CellRangeModel",
      "state": {
       "_view_module": null,
       "_view_module_version": "",
       "row_end": 17,
       "row_start": 0,
       "squeeze_row": false,
       "type": "numeric",
       "value": [
        176.4052345967664,
        216.42095543348873,
        314.29475384406265,
        538.3840737642084,
        725.1398727792052,
        627.4120847915641,
        722.4209265441231,
        707.2852057143533,
        696.9633205349975,
        738.0231707288347,
        752.4275278449225,
        897.8548785412199,
        973.9586510559193,
        986.1261527052021,
        1030.5124759797447,
        1063.8799087171715,
        1213.2878160329321,
        1192.7719896563522
       ]
      }
     },
     "d4af61f8846c475da7ca9b2b323a2837": {
      "model_module": "@jupyter-widgets/base",
      "model_module_version": "1.2.0",
      "model_name": "LayoutModel",
      "state": {}
     },
     "d7549cc4dfe4426baec52ea0a1dc86d8": {
      "model_module": "ipysheet",
      "model_module_version": "~0.4.3",
      "model_name": "SheetModel",
      "state": {
       "cells": [
        "IPY_MODEL_cc2fbfa565b148de866a723ba1f4d811",
        "IPY_MODEL_b5d36e5c57b94665ac6a947379856346",
        "IPY_MODEL_2db9e41908ad48fbad3b4f2761427bf0",
        "IPY_MODEL_70e49c4b3e3040ebb9736f976c0273fd",
        "IPY_MODEL_28fbe94f653a402b91fab3413887b3ff"
       ],
       "columns": 5,
       "layout": "IPY_MODEL_db6fc5f4c5904e468174fe14d5e9bba5",
       "rows": 5
      }
     },
     "da710c7ee8254609946f11f0149e1a05": {
      "model_module": "ipysheet",
      "model_module_version": "~0.4.3",
      "model_name": "SheetModel",
      "state": {
       "cells": [
        "IPY_MODEL_1eb78f25e919492798c595479d87e38f"
       ],
       "columns": 1,
       "layout": "IPY_MODEL_eadc56ed03514659856141697e982c93"
      }
     },
     "db0be0a06d3a4225a9fbffeb58fbc85e": {
      "model_module": "@jupyter-widgets/base",
      "model_module_version": "1.2.0",
      "model_name": "LayoutModel",
      "state": {
       "height": "auto",
       "width": "auto"
      }
     },
     "db6fc5f4c5904e468174fe14d5e9bba5": {
      "model_module": "@jupyter-widgets/base",
      "model_module_version": "1.2.0",
      "model_name": "LayoutModel",
      "state": {
       "height": "auto",
       "width": "auto"
      }
     },
     "de9df5d62d4d43d4880a4fa3de9f197f": {
      "model_module": "ipysheet",
      "model_module_version": "~0.4.3",
      "model_name": "SheetModel",
      "state": {
       "cells": [
        "IPY_MODEL_bec9931c3ac44a6681cf3ebf36fd8bf8",
        "IPY_MODEL_cfc70538a3d242dd9a277833abd2ffbe"
       ],
       "columns": 2,
       "layout": "IPY_MODEL_9c949469a6b04b15bf78ebaabb61e9a8",
       "rows": 18
      }
     },
     "df4b1a5d6d194503ab72d257b1b73159": {
      "model_module": "ipysheet",
      "model_module_version": "~0.4.3",
      "model_name": "CellRangeModel",
      "state": {
       "_view_module": null,
       "_view_module_version": "",
       "row_end": 17,
       "row_start": 0,
       "squeeze_row": false,
       "type": "numeric",
       "value": [
        176.4052345967664,
        216.42095543348873,
        314.29475384406265,
        538.3840737642084,
        725.1398727792052,
        627.4120847915641,
        722.4209265441231,
        707.2852057143533,
        696.9633205349975,
        738.0231707288347,
        852.4275278449225,
        897.8548785412199,
        973.9586510559193,
        986.1261527052021,
        1030.5124759797447,
        1063.8799087171715,
        1213.2878160329321,
        1192.7719896563522
       ]
      }
     },
     "e0f61919df2546e283cc0026b77c78f3": {
      "model_module": "@jupyter-widgets/base",
      "model_module_version": "1.2.0",
      "model_name": "LayoutModel",
      "state": {
       "height": "auto",
       "width": "auto"
      }
     },
     "e1f136e63d4b467a8ffc5ed460c2d129": {
      "model_module": "bqplot",
      "model_module_version": "^0.4.8",
      "model_name": "LinearScaleModel",
      "state": {
       "allow_padding": false,
       "max": 1,
       "min": 0,
       "stabilized": false
      }
     },
     "e24e903f95e7469eaea81d09f812dbb1": {
      "model_module": "ipysheet",
      "model_module_version": "~0.4.3",
      "model_name": "CellRangeModel",
      "state": {
       "_view_module": null,
       "_view_module_version": "",
       "choice": [],
       "column_end": 2,
       "column_start": 2,
       "row_end": 3,
       "row_start": 0,
       "squeeze_row": false,
       "type": "numeric",
       "value": [
        1,
        1,
        1,
        1
       ]
      }
     },
     "e5bac0037e584091bb9af3d5205c2b64": {
      "model_module": "bqplot",
      "model_module_version": "^0.4.8",
      "model_name": "LinearScaleModel",
      "state": {
       "allow_padding": false,
       "max": 1,
       "min": 0,
       "stabilized": false
      }
     },
     "eadc56ed03514659856141697e982c93": {
      "model_module": "@jupyter-widgets/base",
      "model_module_version": "1.2.0",
      "model_name": "LayoutModel",
      "state": {
       "height": "auto",
       "width": "auto"
      }
     },
     "ec13886265bc4faead6a43979d2118f1": {
      "model_module": "ipysheet",
      "model_module_version": "~0.4.3",
      "model_name": "CellRangeModel",
      "state": {
       "_view_module": null,
       "_view_module_version": "",
       "column_end": 0,
       "column_start": 0,
       "numeric_format": "0.00",
       "type": "numeric",
       "value": 42
      }
     },
     "ed2ab4557fe644ec832507a3e053b283": {
      "model_module": "ipysheet",
      "model_module_version": "~0.4.3",
      "model_name": "CellRangeModel",
      "state": {
       "_view_module": null,
       "_view_module_version": "",
       "choice": [],
       "numeric_format": null,
       "row_end": 3,
       "row_start": 0,
       "squeeze_row": false,
       "type": "date",
       "value": [
        null,
        "2013/01/02",
        null,
        "2013/01/02"
       ]
      }
     },
     "fc114dd828fb419cbc2fdde38cda0c36": {
      "model_module": "ipysheet",
      "model_module_version": "~0.4.3",
      "model_name": "CellRangeModel",
      "state": {
       "_view_module": null,
       "_view_module_version": "",
       "column_end": 0,
       "column_start": 0,
       "numeric_format": "0.0",
       "row_end": 0,
       "row_start": 0,
       "type": "numeric",
       "value": 0
      }
     },
     "fe5e0e7a81ae4365b9cffe70684ae20f": {
      "model_module": "bqplot",
      "model_module_version": "^0.4.8",
      "model_name": "LinearScaleModel",
      "state": {
       "stabilized": false
      }
     }
    },
    "version_major": 2,
    "version_minor": 0
   }
  }
 },
 "nbformat": 4,
 "nbformat_minor": 2
}
