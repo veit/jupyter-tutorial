{
 "cells": [
  {
   "cell_type": "markdown",
   "metadata": {},
   "source": [
    "# Custom widget\n",
    "\n",
    "The widget framework is based on the [Comms](https://jupyter-notebook.readthedocs.io/en/stable/comms.html) framework, which enables the kernel to send and receive JSON to the front end. In order to create a custom widget, the widget must be defined both in the browser and in the Python kernel.\n",
    "\n",
    "<div class=\"alert alert-block alert-info\">\n",
    "\n",
    "**See also:**\n",
    "\n",
    "* [Low Level Widget Tutorial](https://ipywidgets.readthedocs.io/en/stable/examples/Widget%20Low%20Level.html).\n",
    "</div>"
   ]
  },
  {
   "cell_type": "markdown",
   "metadata": {},
   "source": [
    "## Python kernel"
   ]
  },
  {
   "cell_type": "markdown",
   "metadata": {},
   "source": [
    "### DOMWidget\n",
    "\n",
    "To define a widget, it must inherit from the `Widget` or `DOMWidget` base class. If the widget is to be displayed in the Jupyter notebook, your widget should inherit from `DOMWidget`. The `DOMWidget` class itself inherits from the `Widget` class."
   ]
  },
  {
   "cell_type": "markdown",
   "metadata": {},
   "source": [
    "### `_view_name`\n",
    "\n",
    "By adopting `DOMWidget`, the widget framework is **not** informed which front-end widget should be linked to the back-end widget.\n",
    "\n",
    "Instead, you have to specify this yourself using one of the following attributes:\n",
    "\n",
    "* `_view_name`\n",
    "* `_view_module`\n",
    "* `_view_module_version`\n",
    "\n",
    "and if applicable\n",
    "\n",
    "* `_model_name`\n",
    "* `_model_module`"
   ]
  },
  {
   "cell_type": "code",
   "execution_count": 1,
   "metadata": {},
   "outputs": [],
   "source": [
    "import ipywidgets as widgets\n",
    "\n",
    "from traitlets import Unicode, validate\n",
    "\n",
    "\n",
    "class HelloWidget(widgets.DOMWidget):\n",
    "    _view_name = Unicode(\"HelloView\").tag(sync=True)\n",
    "    _view_module = Unicode(\"hello\").tag(sync=True)\n",
    "    _view_module_version = Unicode(\"0.1.0\").tag(sync=True)"
   ]
  },
  {
   "cell_type": "markdown",
   "metadata": {},
   "source": [
    "### `sync=True`-Traitlets\n",
    "\n",
    "[Traitlets](https://traitlets.readthedocs.io/en/stable/) is a framework with which Python classes can have attributes with type checking, dynamically calculated default values and callbacks when changed. The `sync=True` keyword argument tells the widget framework to synchronise the value with the browser; without it, the browser would not learn anything about `_view_name` or `_view_module`."
   ]
  },
  {
   "cell_type": "markdown",
   "metadata": {},
   "source": [
    "## Frontend (JavaScript)"
   ]
  },
  {
   "cell_type": "markdown",
   "metadata": {},
   "source": [
    "### Models and Views\n",
    "\n",
    "The front end of the IPython widget framework depends heavily on [Backbone.js](http://backbonejs.org/). Backbone.js is an [Model View Controller](https://en.wikipedia.org/wiki/Model%E2%80%93view%E2%80%93controller) (MVC) framework that automatically synchronises widgets defined in the backend with generic Backbone.js models in the frontend: the previously defined `_view_name` characteristic is used by the widget framework to display the corresponding Backbone.js-View and link it to the model."
   ]
  },
  {
   "cell_type": "markdown",
   "metadata": {},
   "source": [
    "### Import `@jupyter-widgets/base`\n",
    "\n",
    "First you have to use the `@jupyter-widgets/base` module with the `define` method of [RequireJS](https://requirejs.org/)."
   ]
  },
  {
   "cell_type": "code",
   "execution_count": 2,
   "metadata": {},
   "outputs": [
    {
     "data": {
      "application/javascript": [
       "define('hello', [\"@jupyter-widgets/base\"], function(widgets) {\n",
       "\n",
       "});\n"
      ],
      "text/plain": [
       "<IPython.core.display.Javascript object>"
      ]
     },
     "metadata": {},
     "output_type": "display_data"
    }
   ],
   "source": [
    "%%javascript\n",
    "define('hello', [\"@jupyter-widgets/base\"], function(widgets) {\n",
    "\n",
    "});"
   ]
  },
  {
   "cell_type": "markdown",
   "metadata": {},
   "source": [
    "### Define view\n",
    "\n",
    "Next we define the widget view class and we inherit from `DOMWidgetView` with the `.extend` method."
   ]
  },
  {
   "cell_type": "code",
   "execution_count": 3,
   "metadata": {},
   "outputs": [
    {
     "data": {
      "application/javascript": [
       "require.undef('hello');\n",
       "\n",
       "define('hello', [\"@jupyter-widgets/base\"], function(widgets) {\n",
       "    // Define the HelloView\n",
       "    var HelloView = widgets.DOMWidgetView.extend({\n",
       "    });\n",
       "    return {\n",
       "        HelloView: HelloView\n",
       "    }\n",
       "});\n"
      ],
      "text/plain": [
       "<IPython.core.display.Javascript object>"
      ]
     },
     "metadata": {},
     "output_type": "display_data"
    }
   ],
   "source": [
    "%%javascript\n",
    "require.undef('hello');\n",
    "\n",
    "define('hello', [\"@jupyter-widgets/base\"], function(widgets) {\n",
    "    // Define the HelloView\n",
    "    var HelloView = widgets.DOMWidgetView.extend({\n",
    "    });\n",
    "    return {\n",
    "        HelloView: HelloView\n",
    "    }\n",
    "});"
   ]
  },
  {
   "cell_type": "markdown",
   "metadata": {},
   "source": [
    "### `render` method\n",
    "\n",
    "Finally, we still have to override the basic `render` method to define a custom rendering logic. A handle to the standard DOM element of the widget can be called with `this.el`. The `el` property is the DOM element associated with the view."
   ]
  },
  {
   "cell_type": "code",
   "execution_count": 4,
   "metadata": {},
   "outputs": [
    {
     "data": {
      "application/javascript": [
       "require.undef('hello');\n",
       "\n",
       "define('hello', [\"@jupyter-widgets/base\"], function(widgets) {\n",
       "    var HelloView = widgets.DOMWidgetView.extend({\n",
       "        // Render the view.\n",
       "        render: function() {\n",
       "            this.el.textContent = 'Hello World!';\n",
       "        },\n",
       "    });\n",
       "    return {\n",
       "        HelloView: HelloView\n",
       "    };\n",
       "});\n"
      ],
      "text/plain": [
       "<IPython.core.display.Javascript object>"
      ]
     },
     "metadata": {},
     "output_type": "display_data"
    }
   ],
   "source": [
    "%%javascript\n",
    "require.undef('hello');\n",
    "\n",
    "define('hello', [\"@jupyter-widgets/base\"], function(widgets) {\n",
    "    var HelloView = widgets.DOMWidgetView.extend({\n",
    "        // Render the view.\n",
    "        render: function() {\n",
    "            this.el.textContent = 'Hello World!';\n",
    "        },\n",
    "    });\n",
    "    return {\n",
    "        HelloView: HelloView\n",
    "    };\n",
    "});"
   ]
  },
  {
   "cell_type": "markdown",
   "metadata": {},
   "source": [
    "## Test\n",
    "\n",
    "The widget can now be displayed like any other widget with"
   ]
  },
  {
   "cell_type": "code",
   "execution_count": 5,
   "metadata": {},
   "outputs": [
    {
     "data": {
      "application/vnd.jupyter.widget-view+json": {
       "model_id": "c0b7adc86aa644769ae1d3971e6b5050",
       "version_major": 2,
       "version_minor": 0
      },
      "text/plain": [
       "HelloWidget()"
      ]
     },
     "metadata": {},
     "output_type": "display_data"
    }
   ],
   "source": [
    "HelloWidget()"
   ]
  },
  {
   "cell_type": "markdown",
   "metadata": {},
   "source": [
    "## Stateful widget\n",
    "\n",
    "There’s not much you can do with the example above. To change this, you have to make the widget stateful. Instead of a static Hello World! Message, a string specified by the backend should be displayed. To do this, a new traitlet is first added. Use the name of `value` here to stay consistent with the rest of the widget framework and to allow your widget to be used with interaction."
   ]
  },
  {
   "cell_type": "markdown",
   "metadata": {},
   "source": [
    "## Create Jupyter widgets from a template\n",
    "\n",
    "A [Cookiecutter](https://github.com/cookiecutter/cookiecutter) is available with [widget-cookiecutter](https://github.com/jupyter/widget-cookiecutter). It contains an implementation for a placeholder widget *Hello World*. It also makes it easier for you to pack and distribute your Jupyter widgets."
   ]
  }
 ],
 "metadata": {
  "kernelspec": {
   "display_name": "Python 3.11 Kernel",
   "language": "python",
   "name": "python311"
  },
  "language_info": {
   "codemirror_mode": {
    "name": "ipython",
    "version": 3
   },
   "file_extension": ".py",
   "mimetype": "text/x-python",
   "name": "python",
   "nbconvert_exporter": "python",
   "pygments_lexer": "ipython3",
   "version": "3.11.4"
  },
  "latex_envs": {
   "LaTeX_envs_menu_present": true,
   "autoclose": false,
   "autocomplete": true,
   "bibliofile": "biblio.bib",
   "cite_by": "apalike",
   "current_citInitial": 1,
   "eqLabelWithNumbers": true,
   "eqNumInitial": 1,
   "hotkeys": {
    "equation": "Ctrl-E",
    "itemize": "Ctrl-I"
   },
   "labels_anchors": false,
   "latex_user_defs": false,
   "report_style_numbering": false,
   "user_envs_cfg": false
  },
  "widgets": {
   "application/vnd.jupyter.widget-state+json": {
    "state": {
     "0a63069e58bd4439908f2006e9da635f": {
      "model_module": "@jupyter-widgets/base",
      "model_module_version": "1.2.0",
      "model_name": "LayoutModel",
      "state": {}
     },
     "5d55ae92d0ab42abb80918f61c9bea3a": {
      "model_module": "@jupyter-widgets/base",
      "model_module_version": "1.2.0",
      "model_name": "DOMWidgetModel",
      "state": {
       "_model_name": "DOMWidgetModel",
       "_view_module": "hello",
       "_view_module_version": "0.1.0",
       "_view_name": "HelloView",
       "layout": "IPY_MODEL_b84a31a28dc6401c91e3e3b058bbe0c8",
       "value": "test"
      }
     },
     "6297df03db5f498d83ce8dfba64d719b": {
      "model_module": "@jupyter-widgets/base",
      "model_module_version": "1.2.0",
      "model_name": "DOMWidgetModel",
      "state": {
       "_model_name": "DOMWidgetModel",
       "_view_module": "hello",
       "_view_module_version": "0.1.0",
       "_view_name": "HelloView",
       "layout": "IPY_MODEL_c50dc56431b74c25a0bde499e906a7ea",
       "value": "test"
      }
     },
     "7c702b32e7754a058e63cc85c384404f": {
      "model_module": "@jupyter-widgets/base",
      "model_module_version": "1.2.0",
      "model_name": "DOMWidgetModel",
      "state": {
       "_model_name": "DOMWidgetModel",
       "_view_module": "hello",
       "_view_module_version": "0.1.0",
       "_view_name": "HelloView",
       "layout": "IPY_MODEL_a898063a886e43a6826be42f1eac9e5d"
      }
     },
     "8049e8fcb4454ae4ba43c6d6d66c9c5f": {
      "model_module": "@jupyter-widgets/base",
      "model_module_version": "1.2.0",
      "model_name": "DOMWidgetModel",
      "state": {
       "_model_name": "DOMWidgetModel",
       "_view_module": "hello",
       "_view_module_version": "0.1.0",
       "_view_name": "HelloView",
       "layout": "IPY_MODEL_0a63069e58bd4439908f2006e9da635f"
      }
     },
     "a898063a886e43a6826be42f1eac9e5d": {
      "model_module": "@jupyter-widgets/base",
      "model_module_version": "1.2.0",
      "model_name": "LayoutModel",
      "state": {}
     },
     "b84a31a28dc6401c91e3e3b058bbe0c8": {
      "model_module": "@jupyter-widgets/base",
      "model_module_version": "1.2.0",
      "model_name": "LayoutModel",
      "state": {}
     },
     "c0b7adc86aa644769ae1d3971e6b5050": {
      "model_module": "@jupyter-widgets/base",
      "model_module_version": "1.2.0",
      "model_name": "DOMWidgetModel",
      "state": {
       "_model_name": "DOMWidgetModel",
       "_view_module": "hello",
       "_view_module_version": "0.1.0",
       "_view_name": "HelloView",
       "layout": "IPY_MODEL_ee1cb9cb03ca43b18dacf00a81761bff"
      }
     },
     "c50dc56431b74c25a0bde499e906a7ea": {
      "model_module": "@jupyter-widgets/base",
      "model_module_version": "1.2.0",
      "model_name": "LayoutModel",
      "state": {}
     },
     "ee1cb9cb03ca43b18dacf00a81761bff": {
      "model_module": "@jupyter-widgets/base",
      "model_module_version": "1.2.0",
      "model_name": "LayoutModel",
      "state": {}
     }
    },
    "version_major": 2,
    "version_minor": 0
   }
  }
 },
 "nbformat": 4,
 "nbformat_minor": 2
}
