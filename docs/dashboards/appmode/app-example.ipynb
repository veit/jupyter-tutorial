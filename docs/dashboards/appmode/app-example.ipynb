{
 "cells": [
  {
   "cell_type": "markdown",
   "metadata": {},
   "source": [
    "# `app-example.ipynb`"
   ]
  },
  {
   "cell_type": "code",
   "execution_count": 1,
   "metadata": {},
   "outputs": [
    {
     "data": {
      "application/vnd.jupyter.widget-view+json": {
       "model_id": "baf54ca64d5f423b98fe18250c50a7b9",
       "version_major": 2,
       "version_minor": 0
      },
      "text/plain": [
       "VBox(children=(Text(value='', disabled=True, layout=Layout(width='190px'), placeholder='0'), HBox(children=(Bu…"
      ]
     },
     "metadata": {},
     "output_type": "display_data"
    }
   ],
   "source": [
    "from __future__ import division\n",
    "\n",
    "import ipywidgets as ipw\n",
    "\n",
    "\n",
    "output = ipw.Text(\n",
    "    placeholder=\"0\", layout=ipw.Layout(width=\"190px\"), disabled=True\n",
    ")\n",
    "\n",
    "\n",
    "def on_click(btn):\n",
    "    if btn.description == \"=\":\n",
    "        try:\n",
    "            output.value = str(eval(output.value))\n",
    "        except:\n",
    "            output.value = \"ERROR\"\n",
    "    elif btn.description == \"AC\":\n",
    "        output.value = \"\"\n",
    "    elif btn.description == \"del\":\n",
    "        output.value = output.value[:-1]\n",
    "    else:\n",
    "        output.value = output.value + btn.description\n",
    "\n",
    "\n",
    "def mk_btn(description):\n",
    "    btn = ipw.Button(description=description, layout=ipw.Layout(width=\"45px\"))\n",
    "    btn.on_click(on_click)\n",
    "    return btn\n",
    "\n",
    "\n",
    "row0 = ipw.HBox([mk_btn(d) for d in (\"(\", \")\", \"del\", \"AC\")])\n",
    "row1 = ipw.HBox([mk_btn(d) for d in (\"7\", \"8\", \"9\", \" / \")])\n",
    "row2 = ipw.HBox([mk_btn(d) for d in (\"4\", \"5\", \"6\", \" * \")])\n",
    "row3 = ipw.HBox([mk_btn(d) for d in (\"1\", \"2\", \"3\", \" - \")])\n",
    "row4 = ipw.HBox([mk_btn(d) for d in (\"0\", \".\", \"=\", \" + \")])\n",
    "ipw.VBox((output, row0, row1, row2, row3, row4))"
   ]
  }
 ],
 "metadata": {
  "kernelspec": {
   "display_name": "Python 3.11 Kernel",
   "language": "python",
   "name": "python311"
  },
  "language_info": {
   "codemirror_mode": {
    "name": "ipython",
    "version": 3
   },
   "file_extension": ".py",
   "mimetype": "text/x-python",
   "name": "python",
   "nbconvert_exporter": "python",
   "pygments_lexer": "ipython3",
   "version": "3.11.4"
  },
  "latex_envs": {
   "LaTeX_envs_menu_present": true,
   "autoclose": false,
   "autocomplete": true,
   "bibliofile": "biblio.bib",
   "cite_by": "apalike",
   "current_citInitial": 1,
   "eqLabelWithNumbers": true,
   "eqNumInitial": 1,
   "hotkeys": {
    "equation": "Ctrl-E",
    "itemize": "Ctrl-I"
   },
   "labels_anchors": false,
   "latex_user_defs": false,
   "report_style_numbering": false,
   "user_envs_cfg": false
  },
  "varInspector": {
   "cols": {
    "lenName": 16,
    "lenType": 16,
    "lenVar": 40
   },
   "kernels_config": {
    "python": {
     "delete_cmd_postfix": "",
     "delete_cmd_prefix": "del ",
     "library": "var_list.py",
     "varRefreshCmd": "print(var_dic_list())"
    },
    "r": {
     "delete_cmd_postfix": ") ",
     "delete_cmd_prefix": "rm(",
     "library": "var_list.r",
     "varRefreshCmd": "cat(var_dic_list()) "
    }
   },
   "types_to_exclude": [
    "module",
    "function",
    "builtin_function_or_method",
    "instance",
    "_Feature"
   ],
   "window_display": false
  },
  "widgets": {
   "application/vnd.jupyter.widget-state+json": {
    "state": {
     "00512147764b4bb1a6d8c1e2b968a4b9": {
      "model_module": "@jupyter-widgets/controls",
      "model_module_version": "1.5.0",
      "model_name": "ButtonStyleModel",
      "state": {}
     },
     "0063dc048e7e42649980f33327b7d643": {
      "model_module": "@jupyter-widgets/controls",
      "model_module_version": "1.5.0",
      "model_name": "VBoxModel",
      "state": {
       "children": [
        "IPY_MODEL_e08a78582a134e37a5ee887fff94eac9",
        "IPY_MODEL_a47185a42bce448ba0dff42283f42731",
        "IPY_MODEL_54dfea7ba7c548c4be625210d9504f35",
        "IPY_MODEL_7284e06cf8e14179a1df28589ac1ac4c",
        "IPY_MODEL_21744d3113664d30a3ca8d3d234d0580",
        "IPY_MODEL_ead82de29e4b4d699def33f51dc93534"
       ],
       "layout": "IPY_MODEL_71dd8c8efa824390bc1e0abd465427d9"
      }
     },
     "006625a00c5e4a23a3111146c2444c2a": {
      "model_module": "@jupyter-widgets/base",
      "model_module_version": "1.2.0",
      "model_name": "LayoutModel",
      "state": {
       "width": "45px"
      }
     },
     "014c89f1acad4557b3d2c8fdf6e9e422": {
      "model_module": "@jupyter-widgets/base",
      "model_module_version": "1.2.0",
      "model_name": "LayoutModel",
      "state": {
       "width": "45px"
      }
     },
     "01b10d2e970241278279b715e112752a": {
      "model_module": "@jupyter-widgets/base",
      "model_module_version": "1.2.0",
      "model_name": "LayoutModel",
      "state": {}
     },
     "02a6f078d58048f7b2559cdb3722e2af": {
      "model_module": "@jupyter-widgets/base",
      "model_module_version": "1.2.0",
      "model_name": "LayoutModel",
      "state": {
       "width": "45px"
      }
     },
     "02ac71594fc54e81bbc7691716fd24a1": {
      "model_module": "@jupyter-widgets/base",
      "model_module_version": "1.2.0",
      "model_name": "LayoutModel",
      "state": {
       "width": "45px"
      }
     },
     "03963e2f793842b48fcc43c0dbf4ba3e": {
      "model_module": "@jupyter-widgets/controls",
      "model_module_version": "1.5.0",
      "model_name": "ButtonModel",
      "state": {
       "description": " - ",
       "layout": "IPY_MODEL_b411fd83d270488696e35bb2d995483e",
       "style": "IPY_MODEL_6a9aae0747434550ac263d94cf0a3555"
      }
     },
     "03f54b7f83484dd1a4e7152538b314b0": {
      "model_module": "@jupyter-widgets/base",
      "model_module_version": "1.2.0",
      "model_name": "LayoutModel",
      "state": {
       "width": "45px"
      }
     },
     "0441b9430c064bf79789d3d0ab62611e": {
      "model_module": "@jupyter-widgets/base",
      "model_module_version": "1.2.0",
      "model_name": "LayoutModel",
      "state": {
       "width": "45px"
      }
     },
     "044b01fa3c8e4841b146c97c44ebdd06": {
      "model_module": "@jupyter-widgets/controls",
      "model_module_version": "1.5.0",
      "model_name": "ButtonStyleModel",
      "state": {}
     },
     "04af93e455d146b4bf74c5a05ce7567d": {
      "model_module": "@jupyter-widgets/controls",
      "model_module_version": "1.5.0",
      "model_name": "ButtonStyleModel",
      "state": {}
     },
     "05ab6f596c614a78b4dc8f636df10d18": {
      "model_module": "@jupyter-widgets/controls",
      "model_module_version": "1.5.0",
      "model_name": "HBoxModel",
      "state": {
       "children": [
        "IPY_MODEL_cb7f66c45f9042eead1333a139ffd5b4",
        "IPY_MODEL_2d2d73f0b64549088962863c37a5f244",
        "IPY_MODEL_78bfd772216c4374a59e5a50a047e232",
        "IPY_MODEL_882c11d321fb40d5b598f6a7061aff42"
       ],
       "layout": "IPY_MODEL_487e9805f0ce4cce9a533d2a2232e259"
      }
     },
     "05d7cd072e744ff0bbc530f9889129fb": {
      "model_module": "@jupyter-widgets/controls",
      "model_module_version": "1.5.0",
      "model_name": "ButtonStyleModel",
      "state": {}
     },
     "05f8bd02226f42a4b209d200b787a6c6": {
      "model_module": "@jupyter-widgets/controls",
      "model_module_version": "1.5.0",
      "model_name": "ButtonStyleModel",
      "state": {}
     },
     "064d406134824814accdf75b227b6063": {
      "model_module": "@jupyter-widgets/controls",
      "model_module_version": "1.5.0",
      "model_name": "HBoxModel",
      "state": {
       "children": [
        "IPY_MODEL_bc755e9909504b43a87a5a679887ae4d",
        "IPY_MODEL_e5311d77551842b8961b8352cd69b113",
        "IPY_MODEL_d39be0571ff64124b8dba230d32ddee3",
        "IPY_MODEL_deb205a453074cd78f6105cef6f64f1b"
       ],
       "layout": "IPY_MODEL_bf2921a92e084c6aa9cc6500ec7f69fb"
      }
     },
     "075b52f37a774c8e8092e50261441ca1": {
      "model_module": "@jupyter-widgets/controls",
      "model_module_version": "1.5.0",
      "model_name": "ButtonModel",
      "state": {
       "description": " / ",
       "layout": "IPY_MODEL_f1f498a357a2403e9e0b2215fc723fed",
       "style": "IPY_MODEL_c95fc64ed4fc4105a79c22a98973110d"
      }
     },
     "079d3fcfeebc426cb57c883b8667b663": {
      "model_module": "@jupyter-widgets/controls",
      "model_module_version": "1.5.0",
      "model_name": "ButtonModel",
      "state": {
       "description": "del",
       "layout": "IPY_MODEL_d38fa7fb35a044c7b6f634c382c311db",
       "style": "IPY_MODEL_daf1bb2e2c374bba9ca25d7ed2013373"
      }
     },
     "07b7e73cedf2480aa5f8db7f35b62f86": {
      "model_module": "@jupyter-widgets/base",
      "model_module_version": "1.2.0",
      "model_name": "LayoutModel",
      "state": {
       "width": "45px"
      }
     },
     "07d1c5c6b6b04beb8c51d873f0b263bf": {
      "model_module": "@jupyter-widgets/base",
      "model_module_version": "1.2.0",
      "model_name": "LayoutModel",
      "state": {
       "width": "45px"
      }
     },
     "07e9227203b24024a62ee7de0f4c41e6": {
      "model_module": "@jupyter-widgets/controls",
      "model_module_version": "1.5.0",
      "model_name": "ButtonStyleModel",
      "state": {}
     },
     "0831e7bff049494ea2c9eb911c683144": {
      "model_module": "@jupyter-widgets/base",
      "model_module_version": "1.2.0",
      "model_name": "LayoutModel",
      "state": {
       "width": "45px"
      }
     },
     "0859fc687e8e4590ab1c31fa29266528": {
      "model_module": "@jupyter-widgets/controls",
      "model_module_version": "1.5.0",
      "model_name": "ButtonModel",
      "state": {
       "description": "9",
       "layout": "IPY_MODEL_006625a00c5e4a23a3111146c2444c2a",
       "style": "IPY_MODEL_7a233db16fe84de58aec432eeefc1ac1"
      }
     },
     "08b025273214498aa51b2128f280cb8a": {
      "model_module": "@jupyter-widgets/controls",
      "model_module_version": "1.5.0",
      "model_name": "ButtonStyleModel",
      "state": {}
     },
     "09e5e7560a4141959e9e81ae390bdffc": {
      "model_module": "@jupyter-widgets/controls",
      "model_module_version": "1.5.0",
      "model_name": "ButtonModel",
      "state": {
       "description": "0",
       "layout": "IPY_MODEL_9bce6df88595470d81f2fab1b8bb63a4",
       "style": "IPY_MODEL_044b01fa3c8e4841b146c97c44ebdd06"
      }
     },
     "09fa870ddd474a6bb55b937a3c3e46cc": {
      "model_module": "@jupyter-widgets/base",
      "model_module_version": "1.2.0",
      "model_name": "LayoutModel",
      "state": {
       "width": "45px"
      }
     },
     "0a00ffbdda724a92ac931b3572e3b469": {
      "model_module": "@jupyter-widgets/controls",
      "model_module_version": "1.5.0",
      "model_name": "HBoxModel",
      "state": {
       "children": [
        "IPY_MODEL_e6a6a51587324f82b1c92745426c7d3b",
        "IPY_MODEL_f58229eafadb4ced9a788748640ce5e0",
        "IPY_MODEL_c945695b1b0c404993ab337dde3eccb0",
        "IPY_MODEL_f3b0eca61bb642939d6de5208ecfce72"
       ],
       "layout": "IPY_MODEL_e1ecb1ac75864a24a87593929bd4a30c"
      }
     },
     "0a075b94f28f41cd928e9643ff77b0d6": {
      "model_module": "@jupyter-widgets/controls",
      "model_module_version": "1.5.0",
      "model_name": "ButtonModel",
      "state": {
       "description": " + ",
       "layout": "IPY_MODEL_09fa870ddd474a6bb55b937a3c3e46cc",
       "style": "IPY_MODEL_268897c5cda54510b6094d0ae98f0eca"
      }
     },
     "0a158c10273a47f3abf6ae21497ab1ac": {
      "model_module": "@jupyter-widgets/controls",
      "model_module_version": "1.5.0",
      "model_name": "ButtonModel",
      "state": {
       "description": "8",
       "layout": "IPY_MODEL_539e8cb1bc6b4dfea8691adf05d113c2",
       "style": "IPY_MODEL_c672f9a632fe4c5987d5780a856f9ba9"
      }
     },
     "0a46060c2ca44af3ae012da912c37c81": {
      "model_module": "@jupyter-widgets/base",
      "model_module_version": "1.2.0",
      "model_name": "LayoutModel",
      "state": {
       "width": "45px"
      }
     },
     "0a7ecd9f7fac45d8b1b6a35b5d223f94": {
      "model_module": "@jupyter-widgets/controls",
      "model_module_version": "1.5.0",
      "model_name": "ButtonStyleModel",
      "state": {}
     },
     "0a998ce0a7d548c1a16e3dc1bd7af57d": {
      "model_module": "@jupyter-widgets/controls",
      "model_module_version": "1.5.0",
      "model_name": "ButtonStyleModel",
      "state": {}
     },
     "0b6d6edb340340fdb313234001523d9f": {
      "model_module": "@jupyter-widgets/controls",
      "model_module_version": "1.5.0",
      "model_name": "ButtonModel",
      "state": {
       "description": "6",
       "layout": "IPY_MODEL_b037838cca234e57b27e6ddf9cd3c08e",
       "style": "IPY_MODEL_a37507c6eb184c4bb8c088bee6b8f103"
      }
     },
     "0bc8e8eabd2140af80e17f19f15e6c7e": {
      "model_module": "@jupyter-widgets/controls",
      "model_module_version": "1.5.0",
      "model_name": "ButtonStyleModel",
      "state": {}
     },
     "0bf7a28042cb4f609aab7b65c3d4e667": {
      "model_module": "@jupyter-widgets/controls",
      "model_module_version": "1.5.0",
      "model_name": "ButtonStyleModel",
      "state": {}
     },
     "0c26f5bf066f4f24b3052d70108b106d": {
      "model_module": "@jupyter-widgets/controls",
      "model_module_version": "1.5.0",
      "model_name": "HBoxModel",
      "state": {
       "children": [
        "IPY_MODEL_2f8d270ecc68469e97da03a9bb9f6d2a",
        "IPY_MODEL_cacccfb752c14c16a9c238ee355cbed1",
        "IPY_MODEL_e5cf2c5975fb455ebc3b15a8cc16c5aa",
        "IPY_MODEL_9cfb7a5aca9e464690bc7115c5ba64ca"
       ],
       "layout": "IPY_MODEL_1a2953cba4fe40b19197b2e628ca5ea9"
      }
     },
     "0cc5bdc68ff043ef9238da6524a7c66a": {
      "model_module": "@jupyter-widgets/controls",
      "model_module_version": "1.5.0",
      "model_name": "ButtonStyleModel",
      "state": {}
     },
     "0cfad4aa543c4861a3377c1b015bf371": {
      "model_module": "@jupyter-widgets/base",
      "model_module_version": "1.2.0",
      "model_name": "LayoutModel",
      "state": {
       "width": "45px"
      }
     },
     "0d4abaa2ed0a4b50b20935925de0d375": {
      "model_module": "@jupyter-widgets/controls",
      "model_module_version": "1.5.0",
      "model_name": "ButtonStyleModel",
      "state": {}
     },
     "0d7263a314364b5faa6add427b0b7ab5": {
      "model_module": "@jupyter-widgets/controls",
      "model_module_version": "1.5.0",
      "model_name": "ButtonStyleModel",
      "state": {}
     },
     "0d7fa44fab3d4c7b81e45ff0b4c39a1d": {
      "model_module": "@jupyter-widgets/controls",
      "model_module_version": "1.5.0",
      "model_name": "ButtonModel",
      "state": {
       "description": "8",
       "layout": "IPY_MODEL_cc295f1ed7f94b83b4f1d2f55391eac9",
       "style": "IPY_MODEL_0bf7a28042cb4f609aab7b65c3d4e667"
      }
     },
     "0d9acafe19d44bc8b67583088880c9d1": {
      "model_module": "@jupyter-widgets/base",
      "model_module_version": "1.2.0",
      "model_name": "LayoutModel",
      "state": {
       "width": "45px"
      }
     },
     "0dcd0b1942ca47a4926593570c323979": {
      "model_module": "@jupyter-widgets/controls",
      "model_module_version": "1.5.0",
      "model_name": "ButtonModel",
      "state": {
       "description": "5",
       "layout": "IPY_MODEL_d313a32a6fef430cb4652b9338e4c6f2",
       "style": "IPY_MODEL_69ec778d929a48c38a866aab0da6c6cf"
      }
     },
     "0eeb7c11bfdf42f09e9531809ecb7258": {
      "model_module": "@jupyter-widgets/controls",
      "model_module_version": "1.5.0",
      "model_name": "ButtonStyleModel",
      "state": {}
     },
     "0f87cc5170ae402390f32aab367476a8": {
      "model_module": "@jupyter-widgets/controls",
      "model_module_version": "1.5.0",
      "model_name": "ButtonStyleModel",
      "state": {}
     },
     "0fb39a4825854193bc30443f18292ea9": {
      "model_module": "@jupyter-widgets/controls",
      "model_module_version": "1.5.0",
      "model_name": "TextModel",
      "state": {
       "disabled": true,
       "layout": "IPY_MODEL_d899ea3df02c43428df5147d8834d8ed",
       "placeholder": "0",
       "style": "IPY_MODEL_ce2908bab76d436ebb2275c6472f37b5"
      }
     },
     "0fc7eaf3155a4fd1b36a72b7276757cc": {
      "model_module": "@jupyter-widgets/controls",
      "model_module_version": "1.5.0",
      "model_name": "HBoxModel",
      "state": {
       "children": [
        "IPY_MODEL_a572d7dedb7148349b63c246c6f85b08",
        "IPY_MODEL_27f3324ee15b4b6f8723859afb01c9be",
        "IPY_MODEL_7c2d13fff164458eb63d582ae8e8f962",
        "IPY_MODEL_461572c9092046fc9eb8d833043ce8fb"
       ],
       "layout": "IPY_MODEL_2487697dc7064528acef65b1d5cc1ba2"
      }
     },
     "10054f47206043b098a95ffa70a8ba56": {
      "model_module": "@jupyter-widgets/base",
      "model_module_version": "1.2.0",
      "model_name": "LayoutModel",
      "state": {
       "width": "45px"
      }
     },
     "108970b8298647a7a6ecddc8f94ffafd": {
      "model_module": "@jupyter-widgets/base",
      "model_module_version": "1.2.0",
      "model_name": "LayoutModel",
      "state": {
       "width": "45px"
      }
     },
     "10fe8a9b6ead4eaea12ed1a6b6cdf325": {
      "model_module": "@jupyter-widgets/controls",
      "model_module_version": "1.5.0",
      "model_name": "ButtonModel",
      "state": {
       "description": "0",
       "layout": "IPY_MODEL_d64827340afe4bde9e5ee1a3d0e66a12",
       "style": "IPY_MODEL_cbbc8dd77c8d43b799be38de4e9937ac"
      }
     },
     "11477ee42dd1483e937e3a44e3d9014a": {
      "model_module": "@jupyter-widgets/controls",
      "model_module_version": "1.5.0",
      "model_name": "ButtonStyleModel",
      "state": {}
     },
     "11cf3fb6319942c387af723bd93cae09": {
      "model_module": "@jupyter-widgets/controls",
      "model_module_version": "1.5.0",
      "model_name": "HBoxModel",
      "state": {
       "children": [
        "IPY_MODEL_4067a170f4924406b25ccc6df4f3e5f8",
        "IPY_MODEL_1bff0aabc98344b78b308e4718f8576b",
        "IPY_MODEL_9c5f632225a1444c8c931d11e0573351",
        "IPY_MODEL_c0b8afcae15445ce882430800217a442"
       ],
       "layout": "IPY_MODEL_bdb48c75c53a408d8a3d51d0076d643c"
      }
     },
     "11e56810e48a4211941bed59649e43b8": {
      "model_module": "@jupyter-widgets/controls",
      "model_module_version": "1.5.0",
      "model_name": "ButtonModel",
      "state": {
       "description": "7",
       "layout": "IPY_MODEL_910f68ddec8e40048f5adb023fe7c649",
       "style": "IPY_MODEL_6cbb697018a14a329a45d2cc7878e12c"
      }
     },
     "1238541bf18c4abebe2740e34ec39186": {
      "model_module": "@jupyter-widgets/base",
      "model_module_version": "1.2.0",
      "model_name": "LayoutModel",
      "state": {
       "width": "45px"
      }
     },
     "12ea55ef61ab404eb5166c560e8af3c0": {
      "model_module": "@jupyter-widgets/controls",
      "model_module_version": "1.5.0",
      "model_name": "HBoxModel",
      "state": {
       "children": [
        "IPY_MODEL_10fe8a9b6ead4eaea12ed1a6b6cdf325",
        "IPY_MODEL_c9a037831eee4b90ad24a9747b31b01a",
        "IPY_MODEL_be7996bacba6414c9e1b355f1a7938b3",
        "IPY_MODEL_295b395dec6046b296067dcc7bcfb360"
       ],
       "layout": "IPY_MODEL_aec5714b37a44c9a956a732b9d1e8fcc"
      }
     },
     "13032204025849519b357e25d89a25a7": {
      "model_module": "@jupyter-widgets/base",
      "model_module_version": "1.2.0",
      "model_name": "LayoutModel",
      "state": {
       "width": "45px"
      }
     },
     "13048248531e411cad439079512b457a": {
      "model_module": "@jupyter-widgets/controls",
      "model_module_version": "1.5.0",
      "model_name": "ButtonStyleModel",
      "state": {}
     },
     "143568e20e414030af4589ad1a687f63": {
      "model_module": "@jupyter-widgets/controls",
      "model_module_version": "1.5.0",
      "model_name": "ButtonStyleModel",
      "state": {}
     },
     "14890b960de441b5811b6490441d3523": {
      "model_module": "@jupyter-widgets/controls",
      "model_module_version": "1.5.0",
      "model_name": "ButtonModel",
      "state": {
       "description": " - ",
       "layout": "IPY_MODEL_c6aa2f6b716b483199effdfa309b652b",
       "style": "IPY_MODEL_0f87cc5170ae402390f32aab367476a8"
      }
     },
     "15bf1a33046043cca7ef0b3a581819f9": {
      "model_module": "@jupyter-widgets/controls",
      "model_module_version": "1.5.0",
      "model_name": "HBoxModel",
      "state": {
       "children": [
        "IPY_MODEL_5545e0cde00e4c3189c867e76ebcd646",
        "IPY_MODEL_0a158c10273a47f3abf6ae21497ab1ac",
        "IPY_MODEL_64647b42a6cb4098b9107f5147fab277",
        "IPY_MODEL_1638a6a6e07b45dda4a79cc04b7c2809"
       ],
       "layout": "IPY_MODEL_299e89be921b4966b8ea747f4f9e4b07"
      }
     },
     "1605b591aa5748bdae3e9b9ea05ff061": {
      "model_module": "@jupyter-widgets/base",
      "model_module_version": "1.2.0",
      "model_name": "LayoutModel",
      "state": {
       "width": "190px"
      }
     },
     "1638a6a6e07b45dda4a79cc04b7c2809": {
      "model_module": "@jupyter-widgets/controls",
      "model_module_version": "1.5.0",
      "model_name": "ButtonModel",
      "state": {
       "description": " / ",
       "layout": "IPY_MODEL_abddfe06419b47e890ac9370fa95ba2a",
       "style": "IPY_MODEL_8441c150c32a419bbcd1da9aa2b4ee45"
      }
     },
     "17c64af4de4d407185a5dd06946b125c": {
      "model_module": "@jupyter-widgets/base",
      "model_module_version": "1.2.0",
      "model_name": "LayoutModel",
      "state": {
       "width": "45px"
      }
     },
     "186c390d171f4223bdadd70f17349654": {
      "model_module": "@jupyter-widgets/controls",
      "model_module_version": "1.5.0",
      "model_name": "HBoxModel",
      "state": {
       "children": [
        "IPY_MODEL_c4b8461c9bd94eadb597f44eaa69add2",
        "IPY_MODEL_493b7508b5604517a7c2a0c7eb173997",
        "IPY_MODEL_b56fd5f328d84a4181c062ab35f79815",
        "IPY_MODEL_972441fb7e60482db5b93cf314a352aa"
       ],
       "layout": "IPY_MODEL_8677769377904b41bc0a13ab7b49a0c4"
      }
     },
     "196fbfe190d54b8086c6b1d6901f646b": {
      "model_module": "@jupyter-widgets/base",
      "model_module_version": "1.2.0",
      "model_name": "LayoutModel",
      "state": {
       "width": "45px"
      }
     },
     "1a2953cba4fe40b19197b2e628ca5ea9": {
      "model_module": "@jupyter-widgets/base",
      "model_module_version": "1.2.0",
      "model_name": "LayoutModel",
      "state": {}
     },
     "1a5becbbf76b4c6ab74c987b12c9cad5": {
      "model_module": "@jupyter-widgets/controls",
      "model_module_version": "1.5.0",
      "model_name": "ButtonStyleModel",
      "state": {}
     },
     "1a662e1ce89a42248cdc74971c383772": {
      "model_module": "@jupyter-widgets/base",
      "model_module_version": "1.2.0",
      "model_name": "LayoutModel",
      "state": {
       "width": "45px"
      }
     },
     "1a7bd56cfa0946368d18274efc5d1b2b": {
      "model_module": "@jupyter-widgets/controls",
      "model_module_version": "1.5.0",
      "model_name": "ButtonModel",
      "state": {
       "description": " / ",
       "layout": "IPY_MODEL_b0003a2986ad445aa2396e82c355c425",
       "style": "IPY_MODEL_5e9fe96c6ca149129e5f013469a5fb15"
      }
     },
     "1aaaafbffd274928a958a069b19bd9c9": {
      "model_module": "@jupyter-widgets/base",
      "model_module_version": "1.2.0",
      "model_name": "LayoutModel",
      "state": {
       "width": "45px"
      }
     },
     "1ad91fc17c27468e9f16f3fb60256424": {
      "model_module": "@jupyter-widgets/controls",
      "model_module_version": "1.5.0",
      "model_name": "ButtonModel",
      "state": {
       "description": "9",
       "layout": "IPY_MODEL_108970b8298647a7a6ecddc8f94ffafd",
       "style": "IPY_MODEL_fabc5d258dc145f881f4b8927d75b53b"
      }
     },
     "1b36fbfd0aa84579a20030e159f4cc75": {
      "model_module": "@jupyter-widgets/controls",
      "model_module_version": "1.5.0",
      "model_name": "ButtonStyleModel",
      "state": {}
     },
     "1bb530a5bbcf475bb03f53602987d376": {
      "model_module": "@jupyter-widgets/controls",
      "model_module_version": "1.5.0",
      "model_name": "ButtonStyleModel",
      "state": {}
     },
     "1bff0aabc98344b78b308e4718f8576b": {
      "model_module": "@jupyter-widgets/controls",
      "model_module_version": "1.5.0",
      "model_name": "ButtonModel",
      "state": {
       "description": "2",
       "layout": "IPY_MODEL_7743edd05678476bb5863ddf60ab2bb5",
       "style": "IPY_MODEL_550989850e73467bad1987ebd72962e6"
      }
     },
     "1c6d690af097439082101182ccaa9d74": {
      "model_module": "@jupyter-widgets/base",
      "model_module_version": "1.2.0",
      "model_name": "LayoutModel",
      "state": {
       "width": "190px"
      }
     },
     "1cabc13e1870484dbe72653a7b3b4cd8": {
      "model_module": "@jupyter-widgets/controls",
      "model_module_version": "1.5.0",
      "model_name": "ButtonModel",
      "state": {
       "description": "=",
       "layout": "IPY_MODEL_a78d4c5798734a7fb3851036d85491a5",
       "style": "IPY_MODEL_4f167d5a95004b68a692714b79ac95ac"
      }
     },
     "1dd11731280546f088fd9a985433c3b5": {
      "model_module": "@jupyter-widgets/controls",
      "model_module_version": "1.5.0",
      "model_name": "ButtonModel",
      "state": {
       "description": "6",
       "layout": "IPY_MODEL_5ad2aa1a5a6c4e9b944c7ffcbb52e6e5",
       "style": "IPY_MODEL_7b290c31f6b6454197aa87e1ac18b711"
      }
     },
     "1dd117ca48474b2c999b863e4d88bd57": {
      "model_module": "@jupyter-widgets/controls",
      "model_module_version": "1.5.0",
      "model_name": "ButtonModel",
      "state": {
       "description": "del",
       "layout": "IPY_MODEL_65e63816d51b4d7ba42a7bc94184ddd9",
       "style": "IPY_MODEL_b4207fe1ce7b4c00922f7be7b91e3cfa"
      }
     },
     "1e355099d74c46c09323ba8db40a9f31": {
      "model_module": "@jupyter-widgets/controls",
      "model_module_version": "1.5.0",
      "model_name": "ButtonStyleModel",
      "state": {}
     },
     "1ef810ad238d4f598e15cbb0c9a26b3b": {
      "model_module": "@jupyter-widgets/controls",
      "model_module_version": "1.5.0",
      "model_name": "ButtonModel",
      "state": {
       "description": "del",
       "layout": "IPY_MODEL_3e9411aca76e4d60b26cde1baf8ea326",
       "style": "IPY_MODEL_bea03da6d7294ecd9aed9a78c675b72f"
      }
     },
     "1fcaf585a4a247f3b541a945952b6370": {
      "model_module": "@jupyter-widgets/base",
      "model_module_version": "1.2.0",
      "model_name": "LayoutModel",
      "state": {}
     },
     "204ab9032ab74dfabf82c350bde98e3d": {
      "model_module": "@jupyter-widgets/controls",
      "model_module_version": "1.5.0",
      "model_name": "ButtonModel",
      "state": {
       "description": "3",
       "layout": "IPY_MODEL_dff99e661b104b85b47b894260a09686",
       "style": "IPY_MODEL_e0c2f09b01a64022a86de822919e2b1f"
      }
     },
     "205da1d879054f80a4f0e606fb14ff10": {
      "model_module": "@jupyter-widgets/controls",
      "model_module_version": "1.5.0",
      "model_name": "ButtonModel",
      "state": {
       "description": ")",
       "layout": "IPY_MODEL_4c76c73a9b1a470ab5db6154aa944d9e",
       "style": "IPY_MODEL_0d7263a314364b5faa6add427b0b7ab5"
      }
     },
     "208c1db8477545458a8879a9be40ded1": {
      "model_module": "@jupyter-widgets/base",
      "model_module_version": "1.2.0",
      "model_name": "LayoutModel",
      "state": {
       "width": "190px"
      }
     },
     "209e59dd759d43209395e13fd571e4c3": {
      "model_module": "@jupyter-widgets/base",
      "model_module_version": "1.2.0",
      "model_name": "LayoutModel",
      "state": {
       "width": "45px"
      }
     },
     "20bd1121194c4f938ed7ef75e79f598b": {
      "model_module": "@jupyter-widgets/controls",
      "model_module_version": "1.5.0",
      "model_name": "ButtonStyleModel",
      "state": {}
     },
     "2128c3c0356042c89cf0d801e049d701": {
      "model_module": "@jupyter-widgets/controls",
      "model_module_version": "1.5.0",
      "model_name": "ButtonModel",
      "state": {
       "description": " * ",
       "layout": "IPY_MODEL_47ca84d24c5f4dc1a4a4cc914aee952c",
       "style": "IPY_MODEL_51ddc9d56c84445ab3745db9e1cb3df9"
      }
     },
     "214682eb4a184ddd9a686fc887e3114a": {
      "model_module": "@jupyter-widgets/controls",
      "model_module_version": "1.5.0",
      "model_name": "ButtonModel",
      "state": {
       "description": "0",
       "layout": "IPY_MODEL_8e585cb72971475789b78d3d017b05c7",
       "style": "IPY_MODEL_c75b402a2b424707b986bb7455e6f9dc"
      }
     },
     "21744d3113664d30a3ca8d3d234d0580": {
      "model_module": "@jupyter-widgets/controls",
      "model_module_version": "1.5.0",
      "model_name": "HBoxModel",
      "state": {
       "children": [
        "IPY_MODEL_e69bb778cc3a4f5b8d44a078a6287b62",
        "IPY_MODEL_57063c7a93a9432bb2eb7dbe9e428794",
        "IPY_MODEL_c22b3f0f51cd44799cb31675a5c5c088",
        "IPY_MODEL_b7d1643a16bf43a5944d42a53ed7c33d"
       ],
       "layout": "IPY_MODEL_a4d154e2598a4c8fa0d3f55290f34365"
      }
     },
     "2385a297788440f198dc56818d7d61d3": {
      "model_module": "@jupyter-widgets/controls",
      "model_module_version": "1.5.0",
      "model_name": "ButtonStyleModel",
      "state": {}
     },
     "244cb5f9ad8a451ba003e5784d9e7cc2": {
      "model_module": "@jupyter-widgets/base",
      "model_module_version": "1.2.0",
      "model_name": "LayoutModel",
      "state": {}
     },
     "2487697dc7064528acef65b1d5cc1ba2": {
      "model_module": "@jupyter-widgets/base",
      "model_module_version": "1.2.0",
      "model_name": "LayoutModel",
      "state": {}
     },
     "24c0da9945974791bb35df93ddb17730": {
      "model_module": "@jupyter-widgets/controls",
      "model_module_version": "1.5.0",
      "model_name": "ButtonStyleModel",
      "state": {}
     },
     "24c71c0a50e548ce919bc010e8fa21dc": {
      "model_module": "@jupyter-widgets/controls",
      "model_module_version": "1.5.0",
      "model_name": "ButtonStyleModel",
      "state": {}
     },
     "2535329f91a74131868f610771857712": {
      "model_module": "@jupyter-widgets/base",
      "model_module_version": "1.2.0",
      "model_name": "LayoutModel",
      "state": {
       "width": "45px"
      }
     },
     "2541d4fb1fbe4c45a4f5401dbbc183a0": {
      "model_module": "@jupyter-widgets/controls",
      "model_module_version": "1.5.0",
      "model_name": "ButtonModel",
      "state": {
       "description": "7",
       "layout": "IPY_MODEL_ae534bca78b24e239e2b69b9e55fa6a1",
       "style": "IPY_MODEL_df778d1560034e28b9279f92e12c6d33"
      }
     },
     "25876dbed56c49749d164bf22d1544a6": {
      "model_module": "@jupyter-widgets/controls",
      "model_module_version": "1.5.0",
      "model_name": "DescriptionStyleModel",
      "state": {
       "description_width": ""
      }
     },
     "268897c5cda54510b6094d0ae98f0eca": {
      "model_module": "@jupyter-widgets/controls",
      "model_module_version": "1.5.0",
      "model_name": "ButtonStyleModel",
      "state": {}
     },
     "26c0701a14a84ada99fc31f0e4084aa8": {
      "model_module": "@jupyter-widgets/controls",
      "model_module_version": "1.5.0",
      "model_name": "HBoxModel",
      "state": {
       "children": [
        "IPY_MODEL_757ea7cc27cf435b83d15ba4f9ab76b4",
        "IPY_MODEL_750dcae111f848a2a1c7673fffffcdef",
        "IPY_MODEL_dcf80072a44b46aaba7e84682d33861c",
        "IPY_MODEL_659715efea1946148cd1fe9036c321e3"
       ],
       "layout": "IPY_MODEL_c2659775d00f4870b8c72d09f57d4c80"
      }
     },
     "26c7035fca434b189059d8011bb0310f": {
      "model_module": "@jupyter-widgets/controls",
      "model_module_version": "1.5.0",
      "model_name": "HBoxModel",
      "state": {
       "children": [
        "IPY_MODEL_fe3d17f6e337472fa17704c234e52114",
        "IPY_MODEL_8ed2d40d521a476eb130e46212285ac4",
        "IPY_MODEL_d3696fe5932c45c1828f8567ab7a774b",
        "IPY_MODEL_5ce493edc9df4b518318df9aae53ba54"
       ],
       "layout": "IPY_MODEL_2f0e883c4a834c8eb01c5a2dd206c515"
      }
     },
     "27009509e6104feb92e7751e8ad271fd": {
      "model_module": "@jupyter-widgets/controls",
      "model_module_version": "1.5.0",
      "model_name": "ButtonModel",
      "state": {
       "description": "AC",
       "layout": "IPY_MODEL_4d35d42eb90642a3af59373528ab4478",
       "style": "IPY_MODEL_81c87a495d7941708ce6b4aa122dbaf6"
      }
     },
     "27f2a7ad6aba41268e81e35a4bb7e190": {
      "model_module": "@jupyter-widgets/base",
      "model_module_version": "1.2.0",
      "model_name": "LayoutModel",
      "state": {
       "width": "45px"
      }
     },
     "27f3324ee15b4b6f8723859afb01c9be": {
      "model_module": "@jupyter-widgets/controls",
      "model_module_version": "1.5.0",
      "model_name": "ButtonModel",
      "state": {
       "description": ".",
       "layout": "IPY_MODEL_da83a4bc574b4b038cdd79654fc3de62",
       "style": "IPY_MODEL_7b9366fba62e48978e05e74966812eb3"
      }
     },
     "27fc577a6b65481cb46c758fc2be2eb2": {
      "model_module": "@jupyter-widgets/controls",
      "model_module_version": "1.5.0",
      "model_name": "ButtonStyleModel",
      "state": {}
     },
     "2811e2d77ec246e8815d12ba19c41e1f": {
      "model_module": "@jupyter-widgets/controls",
      "model_module_version": "1.5.0",
      "model_name": "ButtonModel",
      "state": {
       "description": "2",
       "layout": "IPY_MODEL_4a378bbfc44448af93b0edcade570b80",
       "style": "IPY_MODEL_08b025273214498aa51b2128f280cb8a"
      }
     },
     "291f89be8c0946b68c3c9ed6cf38c759": {
      "model_module": "@jupyter-widgets/base",
      "model_module_version": "1.2.0",
      "model_name": "LayoutModel",
      "state": {
       "width": "45px"
      }
     },
     "29498f99a5c146f08a3d1aab754fe05c": {
      "model_module": "@jupyter-widgets/base",
      "model_module_version": "1.2.0",
      "model_name": "LayoutModel",
      "state": {
       "width": "45px"
      }
     },
     "295b395dec6046b296067dcc7bcfb360": {
      "model_module": "@jupyter-widgets/controls",
      "model_module_version": "1.5.0",
      "model_name": "ButtonModel",
      "state": {
       "description": " + ",
       "layout": "IPY_MODEL_0cfad4aa543c4861a3377c1b015bf371",
       "style": "IPY_MODEL_82a5eca619ab426c8f124c37573dc8ca"
      }
     },
     "299e89be921b4966b8ea747f4f9e4b07": {
      "model_module": "@jupyter-widgets/base",
      "model_module_version": "1.2.0",
      "model_name": "LayoutModel",
      "state": {}
     },
     "29afb11103d0439e9f1a056082cb23e7": {
      "model_module": "@jupyter-widgets/controls",
      "model_module_version": "1.5.0",
      "model_name": "ButtonStyleModel",
      "state": {}
     },
     "2a6acf7317f445608effea7a51f8ee8d": {
      "model_module": "@jupyter-widgets/base",
      "model_module_version": "1.2.0",
      "model_name": "LayoutModel",
      "state": {
       "width": "45px"
      }
     },
     "2adbb657ee214900abab1c08a55b240f": {
      "model_module": "@jupyter-widgets/base",
      "model_module_version": "1.2.0",
      "model_name": "LayoutModel",
      "state": {
       "width": "45px"
      }
     },
     "2af954ba2cc341f8bbc5753d32a34892": {
      "model_module": "@jupyter-widgets/controls",
      "model_module_version": "1.5.0",
      "model_name": "ButtonStyleModel",
      "state": {}
     },
     "2b179ce065b04fe58702a3d14be3683b": {
      "model_module": "@jupyter-widgets/controls",
      "model_module_version": "1.5.0",
      "model_name": "ButtonModel",
      "state": {
       "description": "del",
       "layout": "IPY_MODEL_79f04a6c09dd478889a96ec603ee2cb8",
       "style": "IPY_MODEL_40661eb2afa044019571a81385103d0f"
      }
     },
     "2b2272ab1cd44163805b5651e8dff139": {
      "model_module": "@jupyter-widgets/base",
      "model_module_version": "1.2.0",
      "model_name": "LayoutModel",
      "state": {
       "width": "45px"
      }
     },
     "2bf6183c15ea4143b60ff1799f5487e9": {
      "model_module": "@jupyter-widgets/controls",
      "model_module_version": "1.5.0",
      "model_name": "ButtonStyleModel",
      "state": {}
     },
     "2c28206de28e41a7bd3257e414da650a": {
      "model_module": "@jupyter-widgets/controls",
      "model_module_version": "1.5.0",
      "model_name": "ButtonStyleModel",
      "state": {}
     },
     "2c961dd20ec94a08b21e3711cf47e9ba": {
      "model_module": "@jupyter-widgets/base",
      "model_module_version": "1.2.0",
      "model_name": "LayoutModel",
      "state": {
       "width": "45px"
      }
     },
     "2d2d73f0b64549088962863c37a5f244": {
      "model_module": "@jupyter-widgets/controls",
      "model_module_version": "1.5.0",
      "model_name": "ButtonModel",
      "state": {
       "description": ")",
       "layout": "IPY_MODEL_39fdf948093542d78622d205c3103459",
       "style": "IPY_MODEL_ae4e5f36f22f43f49e0154e97f50928a"
      }
     },
     "2d6680ff5acb439384d9190ad2fa185b": {
      "model_module": "@jupyter-widgets/controls",
      "model_module_version": "1.5.0",
      "model_name": "ButtonModel",
      "state": {
       "description": "AC",
       "layout": "IPY_MODEL_814cb0f3b8624e08839927eba2e0ff9b",
       "style": "IPY_MODEL_68d93d81be28444fa8c5ceae208d1d51"
      }
     },
     "2deba54b54814bf8929ad03c1128e664": {
      "model_module": "@jupyter-widgets/controls",
      "model_module_version": "1.5.0",
      "model_name": "ButtonModel",
      "state": {
       "description": " - ",
       "layout": "IPY_MODEL_57fd57055814466b83007f5e3718e452",
       "style": "IPY_MODEL_1bb530a5bbcf475bb03f53602987d376"
      }
     },
     "2f0e883c4a834c8eb01c5a2dd206c515": {
      "model_module": "@jupyter-widgets/base",
      "model_module_version": "1.2.0",
      "model_name": "LayoutModel",
      "state": {}
     },
     "2f205f429f99486089493bc5ca67e61f": {
      "model_module": "@jupyter-widgets/controls",
      "model_module_version": "1.5.0",
      "model_name": "ButtonModel",
      "state": {
       "description": "6",
       "layout": "IPY_MODEL_a7433ca367564948b92a0493c2ddbaf9",
       "style": "IPY_MODEL_30c0f0b862664070bafddee4311b26de"
      }
     },
     "2f3a2f0dfe774727bf976b1514d6777e": {
      "model_module": "@jupyter-widgets/controls",
      "model_module_version": "1.5.0",
      "model_name": "ButtonStyleModel",
      "state": {}
     },
     "2f45c94dc32a49fa96c08565037ae5d6": {
      "model_module": "@jupyter-widgets/base",
      "model_module_version": "1.2.0",
      "model_name": "LayoutModel",
      "state": {
       "width": "45px"
      }
     },
     "2f5025eb5a3942c391116c12ce45d0d7": {
      "model_module": "@jupyter-widgets/base",
      "model_module_version": "1.2.0",
      "model_name": "LayoutModel",
      "state": {}
     },
     "2f7fc88e1d7a4f1c811c28398ed9c45a": {
      "model_module": "@jupyter-widgets/base",
      "model_module_version": "1.2.0",
      "model_name": "LayoutModel",
      "state": {
       "width": "45px"
      }
     },
     "2f8d270ecc68469e97da03a9bb9f6d2a": {
      "model_module": "@jupyter-widgets/controls",
      "model_module_version": "1.5.0",
      "model_name": "ButtonModel",
      "state": {
       "description": "0",
       "layout": "IPY_MODEL_d092a964acd14ca6bea9fecd9c82c260",
       "style": "IPY_MODEL_7e1a3a6115764e37902c289903d770cc"
      }
     },
     "3068f3ad5dcb424fa8a3175e001bb0d3": {
      "model_module": "@jupyter-widgets/controls",
      "model_module_version": "1.5.0",
      "model_name": "ButtonModel",
      "state": {
       "description": "4",
       "layout": "IPY_MODEL_6336ef5eb4ca4b9aa9146430d2534505",
       "style": "IPY_MODEL_e7360f04f88241aab545ba45814fcd03"
      }
     },
     "30b16d79dc3f40eb8ffbcc1894441777": {
      "model_module": "@jupyter-widgets/base",
      "model_module_version": "1.2.0",
      "model_name": "LayoutModel",
      "state": {
       "width": "45px"
      }
     },
     "30c0f0b862664070bafddee4311b26de": {
      "model_module": "@jupyter-widgets/controls",
      "model_module_version": "1.5.0",
      "model_name": "ButtonStyleModel",
      "state": {}
     },
     "30f7ba7890d04694bcf17721f436b55e": {
      "model_module": "@jupyter-widgets/controls",
      "model_module_version": "1.5.0",
      "model_name": "VBoxModel",
      "state": {
       "children": [
        "IPY_MODEL_0fb39a4825854193bc30443f18292ea9",
        "IPY_MODEL_318944becdc84f079359229caad823b9",
        "IPY_MODEL_db5d727d9f62466681d4a7f29616fb57",
        "IPY_MODEL_a26f19af70064eb4bc1cb6de262ad0c1",
        "IPY_MODEL_11cf3fb6319942c387af723bd93cae09",
        "IPY_MODEL_0fc7eaf3155a4fd1b36a72b7276757cc"
       ],
       "layout": "IPY_MODEL_c662b3fd08be4301836ffb50022ce808"
      }
     },
     "318873a1856c4d07be9ba203c22e3165": {
      "model_module": "@jupyter-widgets/controls",
      "model_module_version": "1.5.0",
      "model_name": "HBoxModel",
      "state": {
       "children": [
        "IPY_MODEL_43d90cdd37ca405586d647a9f7e9a3ca",
        "IPY_MODEL_d09645d3cfd842dca1a8e2252b1f7308",
        "IPY_MODEL_7d79136618a841bc9f86aba9fadda3c0",
        "IPY_MODEL_14890b960de441b5811b6490441d3523"
       ],
       "layout": "IPY_MODEL_7ac8c75e07174f5988a4d8a062c3fd0b"
      }
     },
     "318944becdc84f079359229caad823b9": {
      "model_module": "@jupyter-widgets/controls",
      "model_module_version": "1.5.0",
      "model_name": "HBoxModel",
      "state": {
       "children": [
        "IPY_MODEL_4cad316db3f2484db9c08bd1de648782",
        "IPY_MODEL_eaccd4047b8749e7acfbbdd2f483cf05",
        "IPY_MODEL_46d35bc44a7644698388aacb9088de99",
        "IPY_MODEL_4b7806ad1d8c453490692b9cac25f1cd"
       ],
       "layout": "IPY_MODEL_d826b29ae78941e5964566a46b1f22ab"
      }
     },
     "318fcf2fd502406d84565626454e1eea": {
      "model_module": "@jupyter-widgets/controls",
      "model_module_version": "1.5.0",
      "model_name": "ButtonStyleModel",
      "state": {}
     },
     "319b33f4809c4b14b75d0f8280b196d9": {
      "model_module": "@jupyter-widgets/base",
      "model_module_version": "1.2.0",
      "model_name": "LayoutModel",
      "state": {
       "width": "45px"
      }
     },
     "31a3f81cd3e14df5844e8a410e1db30b": {
      "model_module": "@jupyter-widgets/controls",
      "model_module_version": "1.5.0",
      "model_name": "TextModel",
      "state": {
       "disabled": true,
       "layout": "IPY_MODEL_3a4527e0a7834634a2ae7a52c0fdc069",
       "placeholder": "0",
       "style": "IPY_MODEL_a4b3579fdfde45b5b24db535df86f9d3"
      }
     },
     "332c9e98f64e4452b8c9dc7a556df629": {
      "model_module": "@jupyter-widgets/controls",
      "model_module_version": "1.5.0",
      "model_name": "ButtonStyleModel",
      "state": {}
     },
     "34f8806b47db4a64a2b25b3c6e4256eb": {
      "model_module": "@jupyter-widgets/base",
      "model_module_version": "1.2.0",
      "model_name": "LayoutModel",
      "state": {
       "width": "45px"
      }
     },
     "35adf205179c44efa0ae77be85ca8d65": {
      "model_module": "@jupyter-widgets/controls",
      "model_module_version": "1.5.0",
      "model_name": "ButtonModel",
      "state": {
       "description": " / ",
       "layout": "IPY_MODEL_c0564d14de254a3f8dfda1c90cfff162",
       "style": "IPY_MODEL_2c28206de28e41a7bd3257e414da650a"
      }
     },
     "364e63f4ba7d43afa6b69312b6c02f31": {
      "model_module": "@jupyter-widgets/base",
      "model_module_version": "1.2.0",
      "model_name": "LayoutModel",
      "state": {
       "width": "45px"
      }
     },
     "36ae8e3c48cb4239b19f1902011ab7c4": {
      "model_module": "@jupyter-widgets/base",
      "model_module_version": "1.2.0",
      "model_name": "LayoutModel",
      "state": {
       "width": "45px"
      }
     },
     "37dbb51358964886abadabaea5e168ae": {
      "model_module": "@jupyter-widgets/controls",
      "model_module_version": "1.5.0",
      "model_name": "HBoxModel",
      "state": {
       "children": [
        "IPY_MODEL_923146fb90ac4b36b6e44415d106a47e",
        "IPY_MODEL_a8f6ea7e94db4fe78bcf2d0f0513b9fd",
        "IPY_MODEL_7f211a232a484b2783673baf4e70d79d",
        "IPY_MODEL_ff1ab355164b43c496c1fc1c9b54a485"
       ],
       "layout": "IPY_MODEL_c5879169f0f74ae9ad8d2bd6c877d903"
      }
     },
     "386efa09b3b8444dbcf1d57e3811f913": {
      "model_module": "@jupyter-widgets/base",
      "model_module_version": "1.2.0",
      "model_name": "LayoutModel",
      "state": {
       "width": "45px"
      }
     },
     "38e091c1a0554512ace5fd1adc673cd7": {
      "model_module": "@jupyter-widgets/controls",
      "model_module_version": "1.5.0",
      "model_name": "ButtonModel",
      "state": {
       "description": "4",
       "layout": "IPY_MODEL_8548b913e4b8433397f19f41135f601a",
       "style": "IPY_MODEL_c79b984ce4c340bdb78d8ff687706200"
      }
     },
     "390cca3260524542a5fbd5230546ec60": {
      "model_module": "@jupyter-widgets/base",
      "model_module_version": "1.2.0",
      "model_name": "LayoutModel",
      "state": {
       "width": "45px"
      }
     },
     "3941e74dc9b64fb1bacd4d10167e76ec": {
      "model_module": "@jupyter-widgets/controls",
      "model_module_version": "1.5.0",
      "model_name": "ButtonStyleModel",
      "state": {}
     },
     "3968db22b1644af98bd290664f2632c8": {
      "model_module": "@jupyter-widgets/base",
      "model_module_version": "1.2.0",
      "model_name": "LayoutModel",
      "state": {
       "width": "45px"
      }
     },
     "397ffe486e0a42bd984b5415db50aa95": {
      "model_module": "@jupyter-widgets/base",
      "model_module_version": "1.2.0",
      "model_name": "LayoutModel",
      "state": {
       "width": "45px"
      }
     },
     "39b7d74885ee48a6bcca41ffba911d4b": {
      "model_module": "@jupyter-widgets/controls",
      "model_module_version": "1.5.0",
      "model_name": "ButtonStyleModel",
      "state": {}
     },
     "39e514a786f64d0da8a500cdb8be1d87": {
      "model_module": "@jupyter-widgets/controls",
      "model_module_version": "1.5.0",
      "model_name": "ButtonStyleModel",
      "state": {}
     },
     "39fdf948093542d78622d205c3103459": {
      "model_module": "@jupyter-widgets/base",
      "model_module_version": "1.2.0",
      "model_name": "LayoutModel",
      "state": {
       "width": "45px"
      }
     },
     "3a082f373dd54cbda8840218984fc3c9": {
      "model_module": "@jupyter-widgets/controls",
      "model_module_version": "1.5.0",
      "model_name": "ButtonModel",
      "state": {
       "description": " / ",
       "layout": "IPY_MODEL_e500302c4e244ef78d148633e0fd29cf",
       "style": "IPY_MODEL_0eeb7c11bfdf42f09e9531809ecb7258"
      }
     },
     "3a344f9e36a347e785ee2b53559205ae": {
      "model_module": "@jupyter-widgets/base",
      "model_module_version": "1.2.0",
      "model_name": "LayoutModel",
      "state": {
       "width": "45px"
      }
     },
     "3a4527e0a7834634a2ae7a52c0fdc069": {
      "model_module": "@jupyter-widgets/base",
      "model_module_version": "1.2.0",
      "model_name": "LayoutModel",
      "state": {
       "width": "190px"
      }
     },
     "3a88d2fb2ffa43aea319c9ac3385cca4": {
      "model_module": "@jupyter-widgets/controls",
      "model_module_version": "1.5.0",
      "model_name": "ButtonModel",
      "state": {
       "description": "1",
       "layout": "IPY_MODEL_29498f99a5c146f08a3d1aab754fe05c",
       "style": "IPY_MODEL_1e355099d74c46c09323ba8db40a9f31"
      }
     },
     "3ad8599e8a1a405f862c067dd72add83": {
      "model_module": "@jupyter-widgets/controls",
      "model_module_version": "1.5.0",
      "model_name": "HBoxModel",
      "state": {
       "children": [
        "IPY_MODEL_7cdc2626a5cd46c688d8735a2ede535f",
        "IPY_MODEL_7ed05297ee6b403091d2b948ec9ea2fa",
        "IPY_MODEL_2b179ce065b04fe58702a3d14be3683b",
        "IPY_MODEL_b4b150d2c0dd42619ee693b7f8cd464d"
       ],
       "layout": "IPY_MODEL_cbcb79db6b424ac1b8cc5b5257bc014e"
      }
     },
     "3b609177ba6d4a4bb5dcf17b6fc849ac": {
      "model_module": "@jupyter-widgets/controls",
      "model_module_version": "1.5.0",
      "model_name": "ButtonStyleModel",
      "state": {}
     },
     "3bea5ec0ddac4a3fb2dcace1d4e63577": {
      "model_module": "@jupyter-widgets/base",
      "model_module_version": "1.2.0",
      "model_name": "LayoutModel",
      "state": {
       "width": "45px"
      }
     },
     "3c12d093ec174b0ba68b75742156b5b5": {
      "model_module": "@jupyter-widgets/controls",
      "model_module_version": "1.5.0",
      "model_name": "ButtonStyleModel",
      "state": {}
     },
     "3c4ba7e711a042e281eb3819f52eeb94": {
      "model_module": "@jupyter-widgets/controls",
      "model_module_version": "1.5.0",
      "model_name": "HBoxModel",
      "state": {
       "children": [
        "IPY_MODEL_6a4f0a8d8f33425080ee082d651e31bb",
        "IPY_MODEL_b889d50a04e4426faa1bac91e9f2daa5",
        "IPY_MODEL_1ef810ad238d4f598e15cbb0c9a26b3b",
        "IPY_MODEL_ed05a2f8f0d647ddb72ca2adc6583715"
       ],
       "layout": "IPY_MODEL_90201b9b5e1c423cae84ec085eb90559"
      }
     },
     "3c4ffcd6b22a45d2bd9bffbe53dd2cfd": {
      "model_module": "@jupyter-widgets/controls",
      "model_module_version": "1.5.0",
      "model_name": "ButtonStyleModel",
      "state": {}
     },
     "3df02a1d698c43dfacdec94c9c6a97cc": {
      "model_module": "@jupyter-widgets/base",
      "model_module_version": "1.2.0",
      "model_name": "LayoutModel",
      "state": {
       "width": "45px"
      }
     },
     "3e21dc00aa1c4a11850d07ce282447c5": {
      "model_module": "@jupyter-widgets/controls",
      "model_module_version": "1.5.0",
      "model_name": "ButtonModel",
      "state": {
       "description": " * ",
       "layout": "IPY_MODEL_f4461bf852d742d49aa6b2ef95d5fdca",
       "style": "IPY_MODEL_0a998ce0a7d548c1a16e3dc1bd7af57d"
      }
     },
     "3e9411aca76e4d60b26cde1baf8ea326": {
      "model_module": "@jupyter-widgets/base",
      "model_module_version": "1.2.0",
      "model_name": "LayoutModel",
      "state": {
       "width": "45px"
      }
     },
     "3f5f69c2bf264bcb9fb83a74c573caa3": {
      "model_module": "@jupyter-widgets/controls",
      "model_module_version": "1.5.0",
      "model_name": "ButtonStyleModel",
      "state": {}
     },
     "3f61ead91e1b431a8a5575d5220f32c5": {
      "model_module": "@jupyter-widgets/controls",
      "model_module_version": "1.5.0",
      "model_name": "ButtonStyleModel",
      "state": {}
     },
     "3fc8df9a7f9c4f9c84f48ea259c3a928": {
      "model_module": "@jupyter-widgets/controls",
      "model_module_version": "1.5.0",
      "model_name": "HBoxModel",
      "state": {
       "children": [
        "IPY_MODEL_3a88d2fb2ffa43aea319c9ac3385cca4",
        "IPY_MODEL_2811e2d77ec246e8815d12ba19c41e1f",
        "IPY_MODEL_e19261327ac046a4afe2c0e53b39d082",
        "IPY_MODEL_a5ce4e48a1b64a7da8c6505b0e813c86"
       ],
       "layout": "IPY_MODEL_b7595370e6f547ae96cd60e1286e35d6"
      }
     },
     "40661eb2afa044019571a81385103d0f": {
      "model_module": "@jupyter-widgets/controls",
      "model_module_version": "1.5.0",
      "model_name": "ButtonStyleModel",
      "state": {}
     },
     "4067a170f4924406b25ccc6df4f3e5f8": {
      "model_module": "@jupyter-widgets/controls",
      "model_module_version": "1.5.0",
      "model_name": "ButtonModel",
      "state": {
       "description": "1",
       "layout": "IPY_MODEL_80b75c3ed824402e83e77593bf5753d1",
       "style": "IPY_MODEL_cc36efbe284d400fbca2f9d342f1cd70"
      }
     },
     "41288cfc84794eb3990d6b46f14247d8": {
      "model_module": "@jupyter-widgets/controls",
      "model_module_version": "1.5.0",
      "model_name": "ButtonModel",
      "state": {
       "description": "5",
       "layout": "IPY_MODEL_c47df8c656094fc4a4d8e2c3cab0c7c8",
       "style": "IPY_MODEL_874d779bb46d42bb84f53707f0766f1d"
      }
     },
     "416c7e5eb7cf49fa986a096418883ca3": {
      "model_module": "@jupyter-widgets/base",
      "model_module_version": "1.2.0",
      "model_name": "LayoutModel",
      "state": {
       "width": "45px"
      }
     },
     "41bac5a6ffad4b3fb2a4d18a856bbf6a": {
      "model_module": "@jupyter-widgets/base",
      "model_module_version": "1.2.0",
      "model_name": "LayoutModel",
      "state": {
       "width": "45px"
      }
     },
     "41e2ddf1929042fe9b94c82d69d7dcee": {
      "model_module": "@jupyter-widgets/controls",
      "model_module_version": "1.5.0",
      "model_name": "ButtonStyleModel",
      "state": {}
     },
     "4261ae69645d43caa8d4c76f6771bce2": {
      "model_module": "@jupyter-widgets/base",
      "model_module_version": "1.2.0",
      "model_name": "LayoutModel",
      "state": {}
     },
     "4276be3a5dc34ba4b8ecc166981e15f9": {
      "model_module": "@jupyter-widgets/controls",
      "model_module_version": "1.5.0",
      "model_name": "ButtonStyleModel",
      "state": {}
     },
     "42c9e33557da4d3894c7c33325035db7": {
      "model_module": "@jupyter-widgets/controls",
      "model_module_version": "1.5.0",
      "model_name": "ButtonStyleModel",
      "state": {}
     },
     "42ead032cc75408d8187acb2e254d4c6": {
      "model_module": "@jupyter-widgets/controls",
      "model_module_version": "1.5.0",
      "model_name": "ButtonStyleModel",
      "state": {}
     },
     "42fc98f2d3244d8889038f375d3f53ce": {
      "model_module": "@jupyter-widgets/base",
      "model_module_version": "1.2.0",
      "model_name": "LayoutModel",
      "state": {
       "width": "45px"
      }
     },
     "43b39effdb064bccb56342de7c123215": {
      "model_module": "@jupyter-widgets/base",
      "model_module_version": "1.2.0",
      "model_name": "LayoutModel",
      "state": {
       "width": "45px"
      }
     },
     "43d90cdd37ca405586d647a9f7e9a3ca": {
      "model_module": "@jupyter-widgets/controls",
      "model_module_version": "1.5.0",
      "model_name": "ButtonModel",
      "state": {
       "description": "1",
       "layout": "IPY_MODEL_3968db22b1644af98bd290664f2632c8",
       "style": "IPY_MODEL_5ec84e33207e4baeae7792bc5e693539"
      }
     },
     "450ef47a455b4ba4a3e461da3f2184eb": {
      "model_module": "@jupyter-widgets/base",
      "model_module_version": "1.2.0",
      "model_name": "LayoutModel",
      "state": {
       "width": "45px"
      }
     },
     "461572c9092046fc9eb8d833043ce8fb": {
      "model_module": "@jupyter-widgets/controls",
      "model_module_version": "1.5.0",
      "model_name": "ButtonModel",
      "state": {
       "description": " + ",
       "layout": "IPY_MODEL_bb7773172b7a4e75872eaea493b5013f",
       "style": "IPY_MODEL_00512147764b4bb1a6d8c1e2b968a4b9"
      }
     },
     "46d35bc44a7644698388aacb9088de99": {
      "model_module": "@jupyter-widgets/controls",
      "model_module_version": "1.5.0",
      "model_name": "ButtonModel",
      "state": {
       "description": "del",
       "layout": "IPY_MODEL_2f7fc88e1d7a4f1c811c28398ed9c45a",
       "style": "IPY_MODEL_5a951c77c82d4a2bbb56eca10a9cba9d"
      }
     },
     "46d74341d85d483dac43766404219879": {
      "model_module": "@jupyter-widgets/controls",
      "model_module_version": "1.5.0",
      "model_name": "ButtonStyleModel",
      "state": {}
     },
     "47ca84d24c5f4dc1a4a4cc914aee952c": {
      "model_module": "@jupyter-widgets/base",
      "model_module_version": "1.2.0",
      "model_name": "LayoutModel",
      "state": {
       "width": "45px"
      }
     },
     "48643c0418e349f6b79573819e2a7b2b": {
      "model_module": "@jupyter-widgets/controls",
      "model_module_version": "1.5.0",
      "model_name": "ButtonModel",
      "state": {
       "description": "(",
       "layout": "IPY_MODEL_02a6f078d58048f7b2559cdb3722e2af",
       "style": "IPY_MODEL_d80621389cc14d3b86c9b71bd49335bc"
      }
     },
     "487e9805f0ce4cce9a533d2a2232e259": {
      "model_module": "@jupyter-widgets/base",
      "model_module_version": "1.2.0",
      "model_name": "LayoutModel",
      "state": {}
     },
     "48d4183417e24b61ab0608008db3cdad": {
      "model_module": "@jupyter-widgets/controls",
      "model_module_version": "1.5.0",
      "model_name": "ButtonModel",
      "state": {
       "description": " * ",
       "layout": "IPY_MODEL_f8941726f36440f49679376210fcdaaf",
       "style": "IPY_MODEL_d1de21a0021349ce8f45851d927fb264"
      }
     },
     "48d513f7c7d6482cb6b049dee627cbf3": {
      "model_module": "@jupyter-widgets/base",
      "model_module_version": "1.2.0",
      "model_name": "LayoutModel",
      "state": {
       "width": "45px"
      }
     },
     "48fa5059a3994c8fabca64984498ff91": {
      "model_module": "@jupyter-widgets/controls",
      "model_module_version": "1.5.0",
      "model_name": "ButtonStyleModel",
      "state": {}
     },
     "490237c06c684bb8a1eca27642bdeede": {
      "model_module": "@jupyter-widgets/controls",
      "model_module_version": "1.5.0",
      "model_name": "ButtonModel",
      "state": {
       "description": " + ",
       "layout": "IPY_MODEL_e86948ca78384810aab66f5da70a0ac9",
       "style": "IPY_MODEL_f538a027dffe4986aefe6b1f517d02d8"
      }
     },
     "4912cd53fb584076859fa01045c622fc": {
      "model_module": "@jupyter-widgets/controls",
      "model_module_version": "1.5.0",
      "model_name": "HBoxModel",
      "state": {
       "children": [
        "IPY_MODEL_5b87027df4d640acbe6d0c543a092861",
        "IPY_MODEL_a7eaf6d02c0b459ba0759871a6f16654",
        "IPY_MODEL_83abf524f2c8475693a1b5b2d61c07e2",
        "IPY_MODEL_03963e2f793842b48fcc43c0dbf4ba3e"
       ],
       "layout": "IPY_MODEL_b24bf358d382423789f8d2bcafd550cf"
      }
     },
     "4927e0d24d3a4646898b443ebe2fb755": {
      "model_module": "@jupyter-widgets/base",
      "model_module_version": "1.2.0",
      "model_name": "LayoutModel",
      "state": {}
     },
     "493b7508b5604517a7c2a0c7eb173997": {
      "model_module": "@jupyter-widgets/controls",
      "model_module_version": "1.5.0",
      "model_name": "ButtonModel",
      "state": {
       "description": ".",
       "layout": "IPY_MODEL_c1754659f2904abf82d3248af2dc4293",
       "style": "IPY_MODEL_b3735f3e20394c96a86517700e1c78b1"
      }
     },
     "496ee626540246d2b9c23d9d8292d5e7": {
      "model_module": "@jupyter-widgets/controls",
      "model_module_version": "1.5.0",
      "model_name": "ButtonStyleModel",
      "state": {}
     },
     "4a378bbfc44448af93b0edcade570b80": {
      "model_module": "@jupyter-widgets/base",
      "model_module_version": "1.2.0",
      "model_name": "LayoutModel",
      "state": {
       "width": "45px"
      }
     },
     "4a644373311b4ef59da75d897e3ce1c6": {
      "model_module": "@jupyter-widgets/base",
      "model_module_version": "1.2.0",
      "model_name": "LayoutModel",
      "state": {
       "width": "45px"
      }
     },
     "4ab907dc96084435b1a8e1c38c46c595": {
      "model_module": "@jupyter-widgets/controls",
      "model_module_version": "1.5.0",
      "model_name": "ButtonModel",
      "state": {
       "description": "7",
       "layout": "IPY_MODEL_c2cee153e72d4c7f88cc73cb972c8a59",
       "style": "IPY_MODEL_ac4aff9f63ee49518500a7c905c13a82"
      }
     },
     "4b02e84187c34e8daf7bc1ae5c94a3ea": {
      "model_module": "@jupyter-widgets/controls",
      "model_module_version": "1.5.0",
      "model_name": "ButtonStyleModel",
      "state": {}
     },
     "4b7806ad1d8c453490692b9cac25f1cd": {
      "model_module": "@jupyter-widgets/controls",
      "model_module_version": "1.5.0",
      "model_name": "ButtonModel",
      "state": {
       "description": "AC",
       "layout": "IPY_MODEL_0d9acafe19d44bc8b67583088880c9d1",
       "style": "IPY_MODEL_39e514a786f64d0da8a500cdb8be1d87"
      }
     },
     "4bdaf574517f4ec485d8d272740733b4": {
      "model_module": "@jupyter-widgets/controls",
      "model_module_version": "1.5.0",
      "model_name": "VBoxModel",
      "state": {
       "children": [
        "IPY_MODEL_62ad8868d99f4cbea5c1a757508b37b5",
        "IPY_MODEL_971e20bfcb644a2aab1d3a4ff9eb51fd",
        "IPY_MODEL_4fea79d2972d4617a63644c8f9a3e6b9",
        "IPY_MODEL_dd31bd4406f1464eb17fa9f9f32a0f40",
        "IPY_MODEL_4d9e964fa727437398d286e112f89265",
        "IPY_MODEL_0c26f5bf066f4f24b3052d70108b106d"
       ],
       "layout": "IPY_MODEL_c265d254a9f94a90a7437cbf054c7853"
      }
     },
     "4c5dede0076d479f99c1fd4d370c1012": {
      "model_module": "@jupyter-widgets/base",
      "model_module_version": "1.2.0",
      "model_name": "LayoutModel",
      "state": {
       "width": "45px"
      }
     },
     "4c76c73a9b1a470ab5db6154aa944d9e": {
      "model_module": "@jupyter-widgets/base",
      "model_module_version": "1.2.0",
      "model_name": "LayoutModel",
      "state": {
       "width": "45px"
      }
     },
     "4cad316db3f2484db9c08bd1de648782": {
      "model_module": "@jupyter-widgets/controls",
      "model_module_version": "1.5.0",
      "model_name": "ButtonModel",
      "state": {
       "description": "(",
       "layout": "IPY_MODEL_209e59dd759d43209395e13fd571e4c3",
       "style": "IPY_MODEL_c58ef52ba81b4a368f3fcbbf4b5d699d"
      }
     },
     "4d35d42eb90642a3af59373528ab4478": {
      "model_module": "@jupyter-widgets/base",
      "model_module_version": "1.2.0",
      "model_name": "LayoutModel",
      "state": {
       "width": "45px"
      }
     },
     "4d38988fc2324fc98e30648f093dbd5a": {
      "model_module": "@jupyter-widgets/controls",
      "model_module_version": "1.5.0",
      "model_name": "TextModel",
      "state": {
       "disabled": true,
       "layout": "IPY_MODEL_f99d8a5989cc4cafbfa26bac0316ef82",
       "placeholder": "0",
       "style": "IPY_MODEL_25876dbed56c49749d164bf22d1544a6"
      }
     },
     "4d96698bf7ef40189e01dd4d40e33a1e": {
      "model_module": "@jupyter-widgets/controls",
      "model_module_version": "1.5.0",
      "model_name": "ButtonStyleModel",
      "state": {}
     },
     "4d9e964fa727437398d286e112f89265": {
      "model_module": "@jupyter-widgets/controls",
      "model_module_version": "1.5.0",
      "model_name": "HBoxModel",
      "state": {
       "children": [
        "IPY_MODEL_5007eb0c09df423aa2962c84d153efa3",
        "IPY_MODEL_4e20feb972984ce98ecca64f44581750",
        "IPY_MODEL_894c9f7414c44148a7270c427b944cec",
        "IPY_MODEL_2deba54b54814bf8929ad03c1128e664"
       ],
       "layout": "IPY_MODEL_4261ae69645d43caa8d4c76f6771bce2"
      }
     },
     "4dffb412fe5d489e8d8b1a68045be1c1": {
      "model_module": "@jupyter-widgets/controls",
      "model_module_version": "1.5.0",
      "model_name": "ButtonModel",
      "state": {
       "description": "7",
       "layout": "IPY_MODEL_36ae8e3c48cb4239b19f1902011ab7c4",
       "style": "IPY_MODEL_1b36fbfd0aa84579a20030e159f4cc75"
      }
     },
     "4e20feb972984ce98ecca64f44581750": {
      "model_module": "@jupyter-widgets/controls",
      "model_module_version": "1.5.0",
      "model_name": "ButtonModel",
      "state": {
       "description": "2",
       "layout": "IPY_MODEL_8e8b109ae56e4c86b54d2891f5a2c5be",
       "style": "IPY_MODEL_cffbfa761bfe43b68bda04146386d75a"
      }
     },
     "4e2e0b14b3954e94a58fdda131f73233": {
      "model_module": "@jupyter-widgets/controls",
      "model_module_version": "1.5.0",
      "model_name": "ButtonStyleModel",
      "state": {}
     },
     "4f0f253f5f904637a683d593df457259": {
      "model_module": "@jupyter-widgets/controls",
      "model_module_version": "1.5.0",
      "model_name": "DescriptionStyleModel",
      "state": {
       "description_width": ""
      }
     },
     "4f167d5a95004b68a692714b79ac95ac": {
      "model_module": "@jupyter-widgets/controls",
      "model_module_version": "1.5.0",
      "model_name": "ButtonStyleModel",
      "state": {}
     },
     "4f445a386f7146038be201856569ed1c": {
      "model_module": "@jupyter-widgets/controls",
      "model_module_version": "1.5.0",
      "model_name": "ButtonModel",
      "state": {
       "description": "9",
       "layout": "IPY_MODEL_be4e3fa904a84e1b9d079a5026a44dda",
       "style": "IPY_MODEL_9d2efdfb025a4154bc1b7fb415b6c05c"
      }
     },
     "4fea79d2972d4617a63644c8f9a3e6b9": {
      "model_module": "@jupyter-widgets/controls",
      "model_module_version": "1.5.0",
      "model_name": "HBoxModel",
      "state": {
       "children": [
        "IPY_MODEL_11e56810e48a4211941bed59649e43b8",
        "IPY_MODEL_5f964bec1a2e4406a529d035ecf6515c",
        "IPY_MODEL_d40af5bd4ae445a1af52fdb79b90d342",
        "IPY_MODEL_c65686d31bb24266ac98697b5f739229"
       ],
       "layout": "IPY_MODEL_51506b427d494822a3cafebe5ba18c43"
      }
     },
     "4ff4b3c132524305a2fbf3cfb7debd68": {
      "model_module": "@jupyter-widgets/controls",
      "model_module_version": "1.5.0",
      "model_name": "ButtonStyleModel",
      "state": {}
     },
     "5007eb0c09df423aa2962c84d153efa3": {
      "model_module": "@jupyter-widgets/controls",
      "model_module_version": "1.5.0",
      "model_name": "ButtonModel",
      "state": {
       "description": "1",
       "layout": "IPY_MODEL_5fd01dd9f9c0455081d69a6323f9a92c",
       "style": "IPY_MODEL_41e2ddf1929042fe9b94c82d69d7dcee"
      }
     },
     "5035f195a63645d1a953c91ee0327405": {
      "model_module": "@jupyter-widgets/base",
      "model_module_version": "1.2.0",
      "model_name": "LayoutModel",
      "state": {
       "width": "45px"
      }
     },
     "50bc79b4aca043a591297590500411f3": {
      "model_module": "@jupyter-widgets/controls",
      "model_module_version": "1.5.0",
      "model_name": "ButtonStyleModel",
      "state": {}
     },
     "51236cb0ab974164b91a5d2e90378158": {
      "model_module": "@jupyter-widgets/controls",
      "model_module_version": "1.5.0",
      "model_name": "HBoxModel",
      "state": {
       "children": [
        "IPY_MODEL_e0dfba6cdc0f4ca99e9279430dd8e581",
        "IPY_MODEL_ffc4ea82d1b14bcca27842a8eb128ae0",
        "IPY_MODEL_ec4cdcbf12a549698c610fd36ae3400f",
        "IPY_MODEL_9e06ec6240c641a296e4abb3cb7a8f6b"
       ],
       "layout": "IPY_MODEL_bd55ec0f38fb47638577fb2b0bee4f42"
      }
     },
     "51506b427d494822a3cafebe5ba18c43": {
      "model_module": "@jupyter-widgets/base",
      "model_module_version": "1.2.0",
      "model_name": "LayoutModel",
      "state": {}
     },
     "51994a0eb4fc4d3b8f67c5479388f992": {
      "model_module": "@jupyter-widgets/base",
      "model_module_version": "1.2.0",
      "model_name": "LayoutModel",
      "state": {
       "width": "45px"
      }
     },
     "51ddc9d56c84445ab3745db9e1cb3df9": {
      "model_module": "@jupyter-widgets/controls",
      "model_module_version": "1.5.0",
      "model_name": "ButtonStyleModel",
      "state": {}
     },
     "52eb4a59b1e54f74a5df4b6e1bb12c0e": {
      "model_module": "@jupyter-widgets/base",
      "model_module_version": "1.2.0",
      "model_name": "LayoutModel",
      "state": {
       "width": "45px"
      }
     },
     "532d233b66194b8aaf51ba21d4cfcf5f": {
      "model_module": "@jupyter-widgets/controls",
      "model_module_version": "1.5.0",
      "model_name": "ButtonModel",
      "state": {
       "description": "4",
       "layout": "IPY_MODEL_a4c618d09456451885fa45d5aad14dba",
       "style": "IPY_MODEL_50bc79b4aca043a591297590500411f3"
      }
     },
     "5355917472794c5ba668113008bd8343": {
      "model_module": "@jupyter-widgets/controls",
      "model_module_version": "1.5.0",
      "model_name": "ButtonModel",
      "state": {
       "description": " * ",
       "layout": "IPY_MODEL_70c9ba6556f44d70acddb381d4a7d2ad",
       "style": "IPY_MODEL_3f61ead91e1b431a8a5575d5220f32c5"
      }
     },
     "539e8cb1bc6b4dfea8691adf05d113c2": {
      "model_module": "@jupyter-widgets/base",
      "model_module_version": "1.2.0",
      "model_name": "LayoutModel",
      "state": {
       "width": "45px"
      }
     },
     "53b200c9bed042dc9a20499ef904dd43": {
      "model_module": "@jupyter-widgets/base",
      "model_module_version": "1.2.0",
      "model_name": "LayoutModel",
      "state": {
       "width": "45px"
      }
     },
     "54dfea7ba7c548c4be625210d9504f35": {
      "model_module": "@jupyter-widgets/controls",
      "model_module_version": "1.5.0",
      "model_name": "HBoxModel",
      "state": {
       "children": [
        "IPY_MODEL_4ab907dc96084435b1a8e1c38c46c595",
        "IPY_MODEL_59b7c64200d94a8b970abefa3990b3ee",
        "IPY_MODEL_c2d26548bb424008adc5363c4b751e2e",
        "IPY_MODEL_ffcc3ed119c24126a075181b5105ab75"
       ],
       "layout": "IPY_MODEL_c7566ed46cc94b5eaf5f8076d8d8828c"
      }
     },
     "54fee7b2fb1b4fde99b040e0173c226a": {
      "model_module": "@jupyter-widgets/base",
      "model_module_version": "1.2.0",
      "model_name": "LayoutModel",
      "state": {}
     },
     "55020b1748d6443a9eb4b84fdab94c19": {
      "model_module": "@jupyter-widgets/controls",
      "model_module_version": "1.5.0",
      "model_name": "HBoxModel",
      "state": {
       "children": [
        "IPY_MODEL_a0bfbae8cc24429b8b6071591e6eaa29",
        "IPY_MODEL_a3a2e87ee7dc49fc8aeacb8d702e1e0e",
        "IPY_MODEL_1ad91fc17c27468e9f16f3fb60256424",
        "IPY_MODEL_35adf205179c44efa0ae77be85ca8d65"
       ],
       "layout": "IPY_MODEL_2f5025eb5a3942c391116c12ce45d0d7"
      }
     },
     "550989850e73467bad1987ebd72962e6": {
      "model_module": "@jupyter-widgets/controls",
      "model_module_version": "1.5.0",
      "model_name": "ButtonStyleModel",
      "state": {}
     },
     "5545e0cde00e4c3189c867e76ebcd646": {
      "model_module": "@jupyter-widgets/controls",
      "model_module_version": "1.5.0",
      "model_name": "ButtonModel",
      "state": {
       "description": "7",
       "layout": "IPY_MODEL_fb53dab7cf294eeaa76308490b2631d8",
       "style": "IPY_MODEL_d43084667553453d9ccc4a81bbbcd3af"
      }
     },
     "5658097b44394bbaa7d66a7b3823117d": {
      "model_module": "@jupyter-widgets/controls",
      "model_module_version": "1.5.0",
      "model_name": "ButtonModel",
      "state": {
       "description": " * ",
       "layout": "IPY_MODEL_4c5dede0076d479f99c1fd4d370c1012",
       "style": "IPY_MODEL_d19a71a9b9e745648e335c82f1e93e7d"
      }
     },
     "567d5409bbe64881871fc894334cb354": {
      "model_module": "@jupyter-widgets/controls",
      "model_module_version": "1.5.0",
      "model_name": "ButtonModel",
      "state": {
       "description": ".",
       "layout": "IPY_MODEL_2adbb657ee214900abab1c08a55b240f",
       "style": "IPY_MODEL_d6c71215fad6496e8ce2f0f9b8139fc0"
      }
     },
     "57063c7a93a9432bb2eb7dbe9e428794": {
      "model_module": "@jupyter-widgets/controls",
      "model_module_version": "1.5.0",
      "model_name": "ButtonModel",
      "state": {
       "description": "2",
       "layout": "IPY_MODEL_1a662e1ce89a42248cdc74971c383772",
       "style": "IPY_MODEL_42c9e33557da4d3894c7c33325035db7"
      }
     },
     "5783cc5b96f34b6aabfd17f9b4350817": {
      "model_module": "@jupyter-widgets/controls",
      "model_module_version": "1.5.0",
      "model_name": "HBoxModel",
      "state": {
       "children": [
        "IPY_MODEL_6d767c9f2fcd44fb9376b405ce868c3a",
        "IPY_MODEL_d06b8134a30440219fb375a520b667d3",
        "IPY_MODEL_204ab9032ab74dfabf82c350bde98e3d",
        "IPY_MODEL_ddfa87c36e1b46998287a37408371b20"
       ],
       "layout": "IPY_MODEL_f6aef2d2ae7744fc9fb3b26a2bcf9256"
      }
     },
     "57fd57055814466b83007f5e3718e452": {
      "model_module": "@jupyter-widgets/base",
      "model_module_version": "1.2.0",
      "model_name": "LayoutModel",
      "state": {
       "width": "45px"
      }
     },
     "582e296b5cfc4792a72ff0e44e03bd98": {
      "model_module": "@jupyter-widgets/base",
      "model_module_version": "1.2.0",
      "model_name": "LayoutModel",
      "state": {
       "width": "45px"
      }
     },
     "591297ca7d92492395eb9b22e8d50396": {
      "model_module": "@jupyter-widgets/controls",
      "model_module_version": "1.5.0",
      "model_name": "HBoxModel",
      "state": {
       "children": [
        "IPY_MODEL_38e091c1a0554512ace5fd1adc673cd7",
        "IPY_MODEL_ee31aba35ae74cbe97ac5c19fa64112c",
        "IPY_MODEL_b2670765d8e24a9bb014a69823ba2dfb",
        "IPY_MODEL_3e21dc00aa1c4a11850d07ce282447c5"
       ],
       "layout": "IPY_MODEL_89510a98c0c34f84a7796366393abaa8"
      }
     },
     "59146b521fe5490f98b70d97eec0bd4b": {
      "model_module": "@jupyter-widgets/base",
      "model_module_version": "1.2.0",
      "model_name": "LayoutModel",
      "state": {}
     },
     "59b7c64200d94a8b970abefa3990b3ee": {
      "model_module": "@jupyter-widgets/controls",
      "model_module_version": "1.5.0",
      "model_name": "ButtonModel",
      "state": {
       "description": "8",
       "layout": "IPY_MODEL_ed79a83160c84e06ad662b4a7ab09ebf",
       "style": "IPY_MODEL_a7d9940ad3b54a53886653036e2b7bda"
      }
     },
     "5a6910e63a5a48b396480711cc4ff843": {
      "model_module": "@jupyter-widgets/controls",
      "model_module_version": "1.5.0",
      "model_name": "HBoxModel",
      "state": {
       "children": [
        "IPY_MODEL_7eed32e4facb499296dac55b5aef70a2",
        "IPY_MODEL_bd92b8ea21ef4903a3aac95f6b84f49b",
        "IPY_MODEL_95a3438c1316428691a43467758fec04",
        "IPY_MODEL_1a7bd56cfa0946368d18274efc5d1b2b"
       ],
       "layout": "IPY_MODEL_b82cb4b446b345598a208e11c9c31947"
      }
     },
     "5a74922f28924a4e82dfeb03e48e5e35": {
      "model_module": "@jupyter-widgets/controls",
      "model_module_version": "1.5.0",
      "model_name": "ButtonModel",
      "state": {
       "description": "4",
       "layout": "IPY_MODEL_9bc4a799586845e293a56b4e7f587d50",
       "style": "IPY_MODEL_99a2af421c57418b94e6fc02881db4d2"
      }
     },
     "5a951c77c82d4a2bbb56eca10a9cba9d": {
      "model_module": "@jupyter-widgets/controls",
      "model_module_version": "1.5.0",
      "model_name": "ButtonStyleModel",
      "state": {}
     },
     "5ad2aa1a5a6c4e9b944c7ffcbb52e6e5": {
      "model_module": "@jupyter-widgets/base",
      "model_module_version": "1.2.0",
      "model_name": "LayoutModel",
      "state": {
       "width": "45px"
      }
     },
     "5b87027df4d640acbe6d0c543a092861": {
      "model_module": "@jupyter-widgets/controls",
      "model_module_version": "1.5.0",
      "model_name": "ButtonModel",
      "state": {
       "description": "1",
       "layout": "IPY_MODEL_d04a3eb5f2a84f37b7ac14e0e9c24d53",
       "style": "IPY_MODEL_cfcfff0d036048a497ad87bacd6a7345"
      }
     },
     "5c09dab78c6b43ca902a35457c9cfeb5": {
      "model_module": "@jupyter-widgets/controls",
      "model_module_version": "1.5.0",
      "model_name": "ButtonStyleModel",
      "state": {}
     },
     "5c2eb4eb96b44134a32b09adced8eb9c": {
      "model_module": "@jupyter-widgets/controls",
      "model_module_version": "1.5.0",
      "model_name": "DescriptionStyleModel",
      "state": {
       "description_width": ""
      }
     },
     "5ca3ebfb3b0f4db9a17a6a1aa647a738": {
      "model_module": "@jupyter-widgets/controls",
      "model_module_version": "1.5.0",
      "model_name": "ButtonStyleModel",
      "state": {}
     },
     "5ce493edc9df4b518318df9aae53ba54": {
      "model_module": "@jupyter-widgets/controls",
      "model_module_version": "1.5.0",
      "model_name": "ButtonModel",
      "state": {
       "description": " - ",
       "layout": "IPY_MODEL_efba6c715e9e4da2ba2e289794cbca33",
       "style": "IPY_MODEL_bcc66542ae1841b0935d78e2093750f7"
      }
     },
     "5d3b952428604d54a37153570acc447d": {
      "model_module": "@jupyter-widgets/base",
      "model_module_version": "1.2.0",
      "model_name": "LayoutModel",
      "state": {}
     },
     "5dd106d841a64185b07aa96269b5eddd": {
      "model_module": "@jupyter-widgets/controls",
      "model_module_version": "1.5.0",
      "model_name": "ButtonModel",
      "state": {
       "description": "4",
       "layout": "IPY_MODEL_b7f737e186064cccb4c67d9d924ccc71",
       "style": "IPY_MODEL_c57ff9154da040328006e6c5b3560907"
      }
     },
     "5e306330dfdd463090047f187bf0cbf0": {
      "model_module": "@jupyter-widgets/controls",
      "model_module_version": "1.5.0",
      "model_name": "ButtonModel",
      "state": {
       "description": "del",
       "layout": "IPY_MODEL_9a44bf8bfa7d483399b10fecbacf0006",
       "style": "IPY_MODEL_fd0caed54fe64381a4401f496330a423"
      }
     },
     "5e9fe96c6ca149129e5f013469a5fb15": {
      "model_module": "@jupyter-widgets/controls",
      "model_module_version": "1.5.0",
      "model_name": "ButtonStyleModel",
      "state": {}
     },
     "5ec84e33207e4baeae7792bc5e693539": {
      "model_module": "@jupyter-widgets/controls",
      "model_module_version": "1.5.0",
      "model_name": "ButtonStyleModel",
      "state": {}
     },
     "5f964bec1a2e4406a529d035ecf6515c": {
      "model_module": "@jupyter-widgets/controls",
      "model_module_version": "1.5.0",
      "model_name": "ButtonModel",
      "state": {
       "description": "8",
       "layout": "IPY_MODEL_c7665300c42b409ab02769658aa8d529",
       "style": "IPY_MODEL_24c0da9945974791bb35df93ddb17730"
      }
     },
     "5fd01dd9f9c0455081d69a6323f9a92c": {
      "model_module": "@jupyter-widgets/base",
      "model_module_version": "1.2.0",
      "model_name": "LayoutModel",
      "state": {
       "width": "45px"
      }
     },
     "601be89a189648e0b2cd83547bad5d43": {
      "model_module": "@jupyter-widgets/base",
      "model_module_version": "1.2.0",
      "model_name": "LayoutModel",
      "state": {
       "width": "45px"
      }
     },
     "60fd7201eda24aa29814d4c0b3b666da": {
      "model_module": "@jupyter-widgets/base",
      "model_module_version": "1.2.0",
      "model_name": "LayoutModel",
      "state": {
       "width": "45px"
      }
     },
     "621ce67f70b1419b896f509b456c43ac": {
      "model_module": "@jupyter-widgets/base",
      "model_module_version": "1.2.0",
      "model_name": "LayoutModel",
      "state": {
       "width": "45px"
      }
     },
     "62ad8868d99f4cbea5c1a757508b37b5": {
      "model_module": "@jupyter-widgets/controls",
      "model_module_version": "1.5.0",
      "model_name": "TextModel",
      "state": {
       "disabled": true,
       "layout": "IPY_MODEL_1c6d690af097439082101182ccaa9d74",
       "placeholder": "0",
       "style": "IPY_MODEL_98202458ffce470f8be42bdfdf624b09"
      }
     },
     "6336ef5eb4ca4b9aa9146430d2534505": {
      "model_module": "@jupyter-widgets/base",
      "model_module_version": "1.2.0",
      "model_name": "LayoutModel",
      "state": {
       "width": "45px"
      }
     },
     "64204d35f62c4a49a1278df066b811be": {
      "model_module": "@jupyter-widgets/controls",
      "model_module_version": "1.5.0",
      "model_name": "ButtonStyleModel",
      "state": {}
     },
     "642a691be15f4ef09bb112ae33538cb3": {
      "model_module": "@jupyter-widgets/controls",
      "model_module_version": "1.5.0",
      "model_name": "ButtonStyleModel",
      "state": {}
     },
     "644a0a64dbc8424a8071364a33ff05a5": {
      "model_module": "@jupyter-widgets/controls",
      "model_module_version": "1.5.0",
      "model_name": "ButtonModel",
      "state": {
       "description": "0",
       "layout": "IPY_MODEL_756941a90bd242278b2210004cfb9d1a",
       "style": "IPY_MODEL_d5610d71a52e446ca107f9629ec45383"
      }
     },
     "64647b42a6cb4098b9107f5147fab277": {
      "model_module": "@jupyter-widgets/controls",
      "model_module_version": "1.5.0",
      "model_name": "ButtonModel",
      "state": {
       "description": "9",
       "layout": "IPY_MODEL_416c7e5eb7cf49fa986a096418883ca3",
       "style": "IPY_MODEL_e145147a1658428198be3b2128c7c90f"
      }
     },
     "6476b23a6d0646adb2961a8994b295ee": {
      "model_module": "@jupyter-widgets/controls",
      "model_module_version": "1.5.0",
      "model_name": "ButtonStyleModel",
      "state": {}
     },
     "64b00a6c53b64b9391fe838390b1d97d": {
      "model_module": "@jupyter-widgets/controls",
      "model_module_version": "1.5.0",
      "model_name": "ButtonModel",
      "state": {
       "description": "4",
       "layout": "IPY_MODEL_7f55589e5c7f4dbc9c7499e9f34df24e",
       "style": "IPY_MODEL_8b657ce44ad94b09af8f8ce5a089cf3b"
      }
     },
     "659715efea1946148cd1fe9036c321e3": {
      "model_module": "@jupyter-widgets/controls",
      "model_module_version": "1.5.0",
      "model_name": "ButtonModel",
      "state": {
       "description": " - ",
       "layout": "IPY_MODEL_9f992f187960413a820ddf235dcfec15",
       "style": "IPY_MODEL_95dd981dad8e462dbf1b6b8265441313"
      }
     },
     "65e63816d51b4d7ba42a7bc94184ddd9": {
      "model_module": "@jupyter-widgets/base",
      "model_module_version": "1.2.0",
      "model_name": "LayoutModel",
      "state": {
       "width": "45px"
      }
     },
     "65efb258de7f42b88e526a2c9e61084f": {
      "model_module": "@jupyter-widgets/base",
      "model_module_version": "1.2.0",
      "model_name": "LayoutModel",
      "state": {
       "width": "45px"
      }
     },
     "661ceba8f8394932a7c27550c01847f3": {
      "model_module": "@jupyter-widgets/controls",
      "model_module_version": "1.5.0",
      "model_name": "ButtonModel",
      "state": {
       "description": "6",
       "layout": "IPY_MODEL_8caeebbd28ba48cb95e71918187679d3",
       "style": "IPY_MODEL_72522542712f49549a73eeba3c4b2b95"
      }
     },
     "663c480978c2468eafc02e668bd04c50": {
      "model_module": "@jupyter-widgets/base",
      "model_module_version": "1.2.0",
      "model_name": "LayoutModel",
      "state": {
       "width": "45px"
      }
     },
     "6701dc8375ac435d862457f9bf6b195b": {
      "model_module": "@jupyter-widgets/base",
      "model_module_version": "1.2.0",
      "model_name": "LayoutModel",
      "state": {
       "width": "45px"
      }
     },
     "671988b4e40f4f3996a21b342bdff343": {
      "model_module": "@jupyter-widgets/controls",
      "model_module_version": "1.5.0",
      "model_name": "ButtonStyleModel",
      "state": {}
     },
     "671dc609729e4e3794485225b13aaf2e": {
      "model_module": "@jupyter-widgets/controls",
      "model_module_version": "1.5.0",
      "model_name": "VBoxModel",
      "state": {
       "children": [
        "IPY_MODEL_739c19db51484842a47ee5b54a909fb1",
        "IPY_MODEL_3c4ba7e711a042e281eb3819f52eeb94",
        "IPY_MODEL_064d406134824814accdf75b227b6063",
        "IPY_MODEL_da543668dfc1498ea62fef0d175ea3b3",
        "IPY_MODEL_26c0701a14a84ada99fc31f0e4084aa8",
        "IPY_MODEL_c194f1216656436286a9b88f9eaba2c1"
       ],
       "layout": "IPY_MODEL_54fee7b2fb1b4fde99b040e0173c226a"
      }
     },
     "684639bd642b4bf9ae00c3ae8e9cee2a": {
      "model_module": "@jupyter-widgets/base",
      "model_module_version": "1.2.0",
      "model_name": "LayoutModel",
      "state": {}
     },
     "68d93d81be28444fa8c5ceae208d1d51": {
      "model_module": "@jupyter-widgets/controls",
      "model_module_version": "1.5.0",
      "model_name": "ButtonStyleModel",
      "state": {}
     },
     "69ec778d929a48c38a866aab0da6c6cf": {
      "model_module": "@jupyter-widgets/controls",
      "model_module_version": "1.5.0",
      "model_name": "ButtonStyleModel",
      "state": {}
     },
     "6a041f533d4445869d25f630ec578ab1": {
      "model_module": "@jupyter-widgets/base",
      "model_module_version": "1.2.0",
      "model_name": "LayoutModel",
      "state": {
       "width": "45px"
      }
     },
     "6a4f0a8d8f33425080ee082d651e31bb": {
      "model_module": "@jupyter-widgets/controls",
      "model_module_version": "1.5.0",
      "model_name": "ButtonModel",
      "state": {
       "description": "(",
       "layout": "IPY_MODEL_582e296b5cfc4792a72ff0e44e03bd98",
       "style": "IPY_MODEL_2f3a2f0dfe774727bf976b1514d6777e"
      }
     },
     "6a9aae0747434550ac263d94cf0a3555": {
      "model_module": "@jupyter-widgets/controls",
      "model_module_version": "1.5.0",
      "model_name": "ButtonStyleModel",
      "state": {}
     },
     "6b437bf533d0473abcab156ee4377161": {
      "model_module": "@jupyter-widgets/controls",
      "model_module_version": "1.5.0",
      "model_name": "ButtonStyleModel",
      "state": {}
     },
     "6b46dee358e944f6af7c2f4b67b5aac7": {
      "model_module": "@jupyter-widgets/controls",
      "model_module_version": "1.5.0",
      "model_name": "ButtonStyleModel",
      "state": {}
     },
     "6b53ed81b59f46be91594400632040bc": {
      "model_module": "@jupyter-widgets/controls",
      "model_module_version": "1.5.0",
      "model_name": "ButtonStyleModel",
      "state": {}
     },
     "6c1f80b94c1b448fa5d2e2310291b038": {
      "model_module": "@jupyter-widgets/controls",
      "model_module_version": "1.5.0",
      "model_name": "HBoxModel",
      "state": {
       "children": [
        "IPY_MODEL_2541d4fb1fbe4c45a4f5401dbbc183a0",
        "IPY_MODEL_c431ab37ff3a48fc96454bd3c95941c2",
        "IPY_MODEL_ed009ba10ba244449994139f48d3dc80",
        "IPY_MODEL_075b52f37a774c8e8092e50261441ca1"
       ],
       "layout": "IPY_MODEL_bafa10d510e04c6c93cd99004d09ef5d"
      }
     },
     "6c5bd392c6f6433599304d569b83762d": {
      "model_module": "@jupyter-widgets/base",
      "model_module_version": "1.2.0",
      "model_name": "LayoutModel",
      "state": {
       "width": "45px"
      }
     },
     "6cbb697018a14a329a45d2cc7878e12c": {
      "model_module": "@jupyter-widgets/controls",
      "model_module_version": "1.5.0",
      "model_name": "ButtonStyleModel",
      "state": {}
     },
     "6d767c9f2fcd44fb9376b405ce868c3a": {
      "model_module": "@jupyter-widgets/controls",
      "model_module_version": "1.5.0",
      "model_name": "ButtonModel",
      "state": {
       "description": "1",
       "layout": "IPY_MODEL_27f2a7ad6aba41268e81e35a4bb7e190",
       "style": "IPY_MODEL_93225084760e4437acb9566f15792f63"
      }
     },
     "6e6486202cec420aabcc0d680e0b45ca": {
      "model_module": "@jupyter-widgets/controls",
      "model_module_version": "1.5.0",
      "model_name": "TextModel",
      "state": {
       "disabled": true,
       "layout": "IPY_MODEL_a3059f36216c43e59b6caff04c7648fa",
       "placeholder": "0",
       "style": "IPY_MODEL_4f0f253f5f904637a683d593df457259"
      }
     },
     "6f5c5783c381425a92ed3e2a80f1abfc": {
      "model_module": "@jupyter-widgets/base",
      "model_module_version": "1.2.0",
      "model_name": "LayoutModel",
      "state": {
       "width": "45px"
      }
     },
     "702cbdd436c14525870462e5bb179099": {
      "model_module": "@jupyter-widgets/controls",
      "model_module_version": "1.5.0",
      "model_name": "HBoxModel",
      "state": {
       "children": [
        "IPY_MODEL_214682eb4a184ddd9a686fc887e3114a",
        "IPY_MODEL_d387234c81b841a997db2172333113aa",
        "IPY_MODEL_bb4d73051380412abc4179efffc74e1c",
        "IPY_MODEL_ad71ffba7dab4ebbb9d4ac974a61964e"
       ],
       "layout": "IPY_MODEL_eff78df7d6814b9cb50a513bc8252f00"
      }
     },
     "703e4bb221fa40e8aa9803aa1defd41e": {
      "model_module": "@jupyter-widgets/base",
      "model_module_version": "1.2.0",
      "model_name": "LayoutModel",
      "state": {
       "width": "45px"
      }
     },
     "70c9ba6556f44d70acddb381d4a7d2ad": {
      "model_module": "@jupyter-widgets/base",
      "model_module_version": "1.2.0",
      "model_name": "LayoutModel",
      "state": {
       "width": "45px"
      }
     },
     "7148f4d95bf44d268f96d16259a5796b": {
      "model_module": "@jupyter-widgets/base",
      "model_module_version": "1.2.0",
      "model_name": "LayoutModel",
      "state": {
       "width": "45px"
      }
     },
     "71dd8c8efa824390bc1e0abd465427d9": {
      "model_module": "@jupyter-widgets/base",
      "model_module_version": "1.2.0",
      "model_name": "LayoutModel",
      "state": {}
     },
     "72522542712f49549a73eeba3c4b2b95": {
      "model_module": "@jupyter-widgets/controls",
      "model_module_version": "1.5.0",
      "model_name": "ButtonStyleModel",
      "state": {}
     },
     "7284e06cf8e14179a1df28589ac1ac4c": {
      "model_module": "@jupyter-widgets/controls",
      "model_module_version": "1.5.0",
      "model_name": "HBoxModel",
      "state": {
       "children": [
        "IPY_MODEL_8516ed511546434f9a0bf83dfac0a8e8",
        "IPY_MODEL_e4f7a171b511485c9cc542d5020c1a06",
        "IPY_MODEL_661ceba8f8394932a7c27550c01847f3",
        "IPY_MODEL_5658097b44394bbaa7d66a7b3823117d"
       ],
       "layout": "IPY_MODEL_1fcaf585a4a247f3b541a945952b6370"
      }
     },
     "72ebfc47ab7449c6aab8befb2c5567ae": {
      "model_module": "@jupyter-widgets/controls",
      "model_module_version": "1.5.0",
      "model_name": "ButtonModel",
      "state": {
       "description": "5",
       "layout": "IPY_MODEL_703e4bb221fa40e8aa9803aa1defd41e",
       "style": "IPY_MODEL_9a828119a00d4a6b842ecec18e2efe4b"
      }
     },
     "7358c7681b02462a9ab8070a6e8cfd8d": {
      "model_module": "@jupyter-widgets/controls",
      "model_module_version": "1.5.0",
      "model_name": "ButtonStyleModel",
      "state": {}
     },
     "739c19db51484842a47ee5b54a909fb1": {
      "model_module": "@jupyter-widgets/controls",
      "model_module_version": "1.5.0",
      "model_name": "TextModel",
      "state": {
       "disabled": true,
       "layout": "IPY_MODEL_e0c16da35cb047c6ad7588df362d1d09",
       "placeholder": "0",
       "style": "IPY_MODEL_b04ab019237e405ab3bb6de63f915535"
      }
     },
     "73f3eeb32ca3405683e630923ba9a575": {
      "model_module": "@jupyter-widgets/controls",
      "model_module_version": "1.5.0",
      "model_name": "ButtonModel",
      "state": {
       "description": "AC",
       "layout": "IPY_MODEL_6c5bd392c6f6433599304d569b83762d",
       "style": "IPY_MODEL_af06b79377194f588bcb272427e4b3a4"
      }
     },
     "74f61177c01a4db39c796239562b89d5": {
      "model_module": "@jupyter-widgets/base",
      "model_module_version": "1.2.0",
      "model_name": "LayoutModel",
      "state": {}
     },
     "750dcae111f848a2a1c7673fffffcdef": {
      "model_module": "@jupyter-widgets/controls",
      "model_module_version": "1.5.0",
      "model_name": "ButtonModel",
      "state": {
       "description": "2",
       "layout": "IPY_MODEL_b547124d61ea4d71a43be280e6876248",
       "style": "IPY_MODEL_2bf6183c15ea4143b60ff1799f5487e9"
      }
     },
     "751180f07e4c4b348336ea31438cc39c": {
      "model_module": "@jupyter-widgets/controls",
      "model_module_version": "1.5.0",
      "model_name": "ButtonStyleModel",
      "state": {}
     },
     "756941a90bd242278b2210004cfb9d1a": {
      "model_module": "@jupyter-widgets/base",
      "model_module_version": "1.2.0",
      "model_name": "LayoutModel",
      "state": {
       "width": "45px"
      }
     },
     "757ea7cc27cf435b83d15ba4f9ab76b4": {
      "model_module": "@jupyter-widgets/controls",
      "model_module_version": "1.5.0",
      "model_name": "ButtonModel",
      "state": {
       "description": "1",
       "layout": "IPY_MODEL_e6721b21c6de48048c38861068972f2f",
       "style": "IPY_MODEL_bbc1029d1d2d4d38b6c3bddb8c74b650"
      }
     },
     "76fa2be1b00d4713b5b03efaefad0775": {
      "model_module": "@jupyter-widgets/controls",
      "model_module_version": "1.5.0",
      "model_name": "VBoxModel",
      "state": {
       "children": [
        "IPY_MODEL_94471197516944aa89868c0059fd9589",
        "IPY_MODEL_7a546307b7ce45f190add5418cc648f8",
        "IPY_MODEL_a095dcbac1f146068cc0d1a85745b1e5",
        "IPY_MODEL_b05e7e8b63ec4e6eb9cabbe2678f4f53",
        "IPY_MODEL_318873a1856c4d07be9ba203c22e3165",
        "IPY_MODEL_0a00ffbdda724a92ac931b3572e3b469"
       ],
       "layout": "IPY_MODEL_bf4f866cb69049ef96896e4c0c39cd3b"
      }
     },
     "7743edd05678476bb5863ddf60ab2bb5": {
      "model_module": "@jupyter-widgets/base",
      "model_module_version": "1.2.0",
      "model_name": "LayoutModel",
      "state": {
       "width": "45px"
      }
     },
     "7757bf3bf69d4657b8d230deffad368c": {
      "model_module": "@jupyter-widgets/controls",
      "model_module_version": "1.5.0",
      "model_name": "ButtonStyleModel",
      "state": {}
     },
     "78b5d7a56ed14a2ca9086cad8aa33db6": {
      "model_module": "@jupyter-widgets/controls",
      "model_module_version": "1.5.0",
      "model_name": "ButtonModel",
      "state": {
       "description": "6",
       "layout": "IPY_MODEL_d834dc6810874daa83649bc2b787409f",
       "style": "IPY_MODEL_0d4abaa2ed0a4b50b20935925de0d375"
      }
     },
     "78bfd772216c4374a59e5a50a047e232": {
      "model_module": "@jupyter-widgets/controls",
      "model_module_version": "1.5.0",
      "model_name": "ButtonModel",
      "state": {
       "description": "del",
       "layout": "IPY_MODEL_014c89f1acad4557b3d2c8fdf6e9e422",
       "style": "IPY_MODEL_9536642616244bfe8af5d1b2dd12d069"
      }
     },
     "79f04a6c09dd478889a96ec603ee2cb8": {
      "model_module": "@jupyter-widgets/base",
      "model_module_version": "1.2.0",
      "model_name": "LayoutModel",
      "state": {
       "width": "45px"
      }
     },
     "7a233db16fe84de58aec432eeefc1ac1": {
      "model_module": "@jupyter-widgets/controls",
      "model_module_version": "1.5.0",
      "model_name": "ButtonStyleModel",
      "state": {}
     },
     "7a2d6c7ec61d43509627eaa5ffc260bc": {
      "model_module": "@jupyter-widgets/base",
      "model_module_version": "1.2.0",
      "model_name": "LayoutModel",
      "state": {
       "width": "45px"
      }
     },
     "7a546307b7ce45f190add5418cc648f8": {
      "model_module": "@jupyter-widgets/controls",
      "model_module_version": "1.5.0",
      "model_name": "HBoxModel",
      "state": {
       "children": [
        "IPY_MODEL_c93a5e4a7758406fb19978edf113d483",
        "IPY_MODEL_cd8d3713a8034da4ba17b1f1b1fcccc6",
        "IPY_MODEL_1dd117ca48474b2c999b863e4d88bd57",
        "IPY_MODEL_2d6680ff5acb439384d9190ad2fa185b"
       ],
       "layout": "IPY_MODEL_dd559263900549d8a9abb7139b4d4f6c"
      }
     },
     "7ac8c75e07174f5988a4d8a062c3fd0b": {
      "model_module": "@jupyter-widgets/base",
      "model_module_version": "1.2.0",
      "model_name": "LayoutModel",
      "state": {}
     },
     "7b290c31f6b6454197aa87e1ac18b711": {
      "model_module": "@jupyter-widgets/controls",
      "model_module_version": "1.5.0",
      "model_name": "ButtonStyleModel",
      "state": {}
     },
     "7b3da44ce3c441869c0113ae588a0e14": {
      "model_module": "@jupyter-widgets/base",
      "model_module_version": "1.2.0",
      "model_name": "LayoutModel",
      "state": {
       "width": "45px"
      }
     },
     "7b9366fba62e48978e05e74966812eb3": {
      "model_module": "@jupyter-widgets/controls",
      "model_module_version": "1.5.0",
      "model_name": "ButtonStyleModel",
      "state": {}
     },
     "7bdb4bb0afc44812840688c989de2e27": {
      "model_module": "@jupyter-widgets/base",
      "model_module_version": "1.2.0",
      "model_name": "LayoutModel",
      "state": {
       "width": "45px"
      }
     },
     "7bf2647b95ea4e468a1292ad6c19288e": {
      "model_module": "@jupyter-widgets/controls",
      "model_module_version": "1.5.0",
      "model_name": "ButtonModel",
      "state": {
       "description": "7",
       "layout": "IPY_MODEL_f8f1fed71ff54fe3a3850509a62845e5",
       "style": "IPY_MODEL_2af954ba2cc341f8bbc5753d32a34892"
      }
     },
     "7c2d13fff164458eb63d582ae8e8f962": {
      "model_module": "@jupyter-widgets/controls",
      "model_module_version": "1.5.0",
      "model_name": "ButtonModel",
      "state": {
       "description": "=",
       "layout": "IPY_MODEL_6a041f533d4445869d25f630ec578ab1",
       "style": "IPY_MODEL_a57110df7e3f42a28e6612e5fef86dd0"
      }
     },
     "7c90d8d9b5704121be9e654f4b6b021e": {
      "model_module": "@jupyter-widgets/base",
      "model_module_version": "1.2.0",
      "model_name": "LayoutModel",
      "state": {
       "width": "45px"
      }
     },
     "7cc15e6bb16f4d40b2a287b9e17a66dd": {
      "model_module": "@jupyter-widgets/base",
      "model_module_version": "1.2.0",
      "model_name": "LayoutModel",
      "state": {
       "width": "45px"
      }
     },
     "7cdc2626a5cd46c688d8735a2ede535f": {
      "model_module": "@jupyter-widgets/controls",
      "model_module_version": "1.5.0",
      "model_name": "ButtonModel",
      "state": {
       "description": "(",
       "layout": "IPY_MODEL_81d25457d8bf4acbb896cc80adeb8796",
       "style": "IPY_MODEL_b8316561079f4569b0e5ccf94ac797f5"
      }
     },
     "7ce86f07ba0146d0bf4d2502cd7279e1": {
      "model_module": "@jupyter-widgets/base",
      "model_module_version": "1.2.0",
      "model_name": "LayoutModel",
      "state": {
       "width": "45px"
      }
     },
     "7d79136618a841bc9f86aba9fadda3c0": {
      "model_module": "@jupyter-widgets/controls",
      "model_module_version": "1.5.0",
      "model_name": "ButtonModel",
      "state": {
       "description": "3",
       "layout": "IPY_MODEL_7f54dfed86d2467ab3ae819427c2ecec",
       "style": "IPY_MODEL_2385a297788440f198dc56818d7d61d3"
      }
     },
     "7dd1552fdc84473b9d461881fbb358a6": {
      "model_module": "@jupyter-widgets/controls",
      "model_module_version": "1.5.0",
      "model_name": "ButtonModel",
      "state": {
       "description": "5",
       "layout": "IPY_MODEL_07d1c5c6b6b04beb8c51d873f0b263bf",
       "style": "IPY_MODEL_a101b44a5d8e470aa2be095d34ea1b88"
      }
     },
     "7df9da8539504dc688575c9e30ae54f3": {
      "model_module": "@jupyter-widgets/controls",
      "model_module_version": "1.5.0",
      "model_name": "ButtonStyleModel",
      "state": {}
     },
     "7e1a3a6115764e37902c289903d770cc": {
      "model_module": "@jupyter-widgets/controls",
      "model_module_version": "1.5.0",
      "model_name": "ButtonStyleModel",
      "state": {}
     },
     "7ed05297ee6b403091d2b948ec9ea2fa": {
      "model_module": "@jupyter-widgets/controls",
      "model_module_version": "1.5.0",
      "model_name": "ButtonModel",
      "state": {
       "description": ")",
       "layout": "IPY_MODEL_02ac71594fc54e81bbc7691716fd24a1",
       "style": "IPY_MODEL_d254a8952cc8473d96c61a1eee85082d"
      }
     },
     "7eed32e4facb499296dac55b5aef70a2": {
      "model_module": "@jupyter-widgets/controls",
      "model_module_version": "1.5.0",
      "model_name": "ButtonModel",
      "state": {
       "description": "7",
       "layout": "IPY_MODEL_2f45c94dc32a49fa96c08565037ae5d6",
       "style": "IPY_MODEL_fe41e5b186664df2a946450d4e4cce0a"
      }
     },
     "7f211a232a484b2783673baf4e70d79d": {
      "model_module": "@jupyter-widgets/controls",
      "model_module_version": "1.5.0",
      "model_name": "ButtonModel",
      "state": {
       "description": "del",
       "layout": "IPY_MODEL_9bc49c9102d14d4c963763c7a53a73eb",
       "style": "IPY_MODEL_4e2e0b14b3954e94a58fdda131f73233"
      }
     },
     "7f54dfed86d2467ab3ae819427c2ecec": {
      "model_module": "@jupyter-widgets/base",
      "model_module_version": "1.2.0",
      "model_name": "LayoutModel",
      "state": {
       "width": "45px"
      }
     },
     "7f55589e5c7f4dbc9c7499e9f34df24e": {
      "model_module": "@jupyter-widgets/base",
      "model_module_version": "1.2.0",
      "model_name": "LayoutModel",
      "state": {
       "width": "45px"
      }
     },
     "80b75c3ed824402e83e77593bf5753d1": {
      "model_module": "@jupyter-widgets/base",
      "model_module_version": "1.2.0",
      "model_name": "LayoutModel",
      "state": {
       "width": "45px"
      }
     },
     "8133dd1f64fc49a2ba034990f79d6308": {
      "model_module": "@jupyter-widgets/base",
      "model_module_version": "1.2.0",
      "model_name": "LayoutModel",
      "state": {
       "width": "45px"
      }
     },
     "814cb0f3b8624e08839927eba2e0ff9b": {
      "model_module": "@jupyter-widgets/base",
      "model_module_version": "1.2.0",
      "model_name": "LayoutModel",
      "state": {
       "width": "45px"
      }
     },
     "81c87a495d7941708ce6b4aa122dbaf6": {
      "model_module": "@jupyter-widgets/controls",
      "model_module_version": "1.5.0",
      "model_name": "ButtonStyleModel",
      "state": {}
     },
     "81d25457d8bf4acbb896cc80adeb8796": {
      "model_module": "@jupyter-widgets/base",
      "model_module_version": "1.2.0",
      "model_name": "LayoutModel",
      "state": {
       "width": "45px"
      }
     },
     "81ec01d0db4b4fabaf6c50ab12c6ceff": {
      "model_module": "@jupyter-widgets/controls",
      "model_module_version": "1.5.0",
      "model_name": "ButtonStyleModel",
      "state": {}
     },
     "82a5eca619ab426c8f124c37573dc8ca": {
      "model_module": "@jupyter-widgets/controls",
      "model_module_version": "1.5.0",
      "model_name": "ButtonStyleModel",
      "state": {}
     },
     "83abf524f2c8475693a1b5b2d61c07e2": {
      "model_module": "@jupyter-widgets/controls",
      "model_module_version": "1.5.0",
      "model_name": "ButtonModel",
      "state": {
       "description": "3",
       "layout": "IPY_MODEL_7ce86f07ba0146d0bf4d2502cd7279e1",
       "style": "IPY_MODEL_3b609177ba6d4a4bb5dcf17b6fc849ac"
      }
     },
     "842ad272d77e4d6a8c1436226156d6da": {
      "model_module": "@jupyter-widgets/controls",
      "model_module_version": "1.5.0",
      "model_name": "ButtonStyleModel",
      "state": {}
     },
     "8441c150c32a419bbcd1da9aa2b4ee45": {
      "model_module": "@jupyter-widgets/controls",
      "model_module_version": "1.5.0",
      "model_name": "ButtonStyleModel",
      "state": {}
     },
     "849f92691815412bacc638460986ea41": {
      "model_module": "@jupyter-widgets/controls",
      "model_module_version": "1.5.0",
      "model_name": "VBoxModel",
      "state": {
       "children": [
        "IPY_MODEL_916bbe61474042d38c97719ab987932f",
        "IPY_MODEL_3ad8599e8a1a405f862c067dd72add83",
        "IPY_MODEL_5a6910e63a5a48b396480711cc4ff843",
        "IPY_MODEL_e9cffea6b5494aa18e2552e85cca4f55",
        "IPY_MODEL_4912cd53fb584076859fa01045c622fc",
        "IPY_MODEL_702cbdd436c14525870462e5bb179099"
       ],
       "layout": "IPY_MODEL_ee7e24524fb645e0b628816b2a23aea9"
      }
     },
     "8516ed511546434f9a0bf83dfac0a8e8": {
      "model_module": "@jupyter-widgets/controls",
      "model_module_version": "1.5.0",
      "model_name": "ButtonModel",
      "state": {
       "description": "4",
       "layout": "IPY_MODEL_0441b9430c064bf79789d3d0ab62611e",
       "style": "IPY_MODEL_6b46dee358e944f6af7c2f4b67b5aac7"
      }
     },
     "8548b913e4b8433397f19f41135f601a": {
      "model_module": "@jupyter-widgets/base",
      "model_module_version": "1.2.0",
      "model_name": "LayoutModel",
      "state": {
       "width": "45px"
      }
     },
     "857be86660424415b2b1e4b140bececb": {
      "model_module": "@jupyter-widgets/controls",
      "model_module_version": "1.5.0",
      "model_name": "ButtonModel",
      "state": {
       "description": " * ",
       "layout": "IPY_MODEL_f74c8a4a65a24c25ad7f7874c6b51118",
       "style": "IPY_MODEL_cf112111b6e1474a89e671ffdb2dfe38"
      }
     },
     "858d8c8c03024594b45619260b23dd31": {
      "model_module": "@jupyter-widgets/base",
      "model_module_version": "1.2.0",
      "model_name": "LayoutModel",
      "state": {}
     },
     "8677769377904b41bc0a13ab7b49a0c4": {
      "model_module": "@jupyter-widgets/base",
      "model_module_version": "1.2.0",
      "model_name": "LayoutModel",
      "state": {}
     },
     "874450ccac4841948a10f5b78cb07636": {
      "model_module": "@jupyter-widgets/controls",
      "model_module_version": "1.5.0",
      "model_name": "ButtonModel",
      "state": {
       "description": "6",
       "layout": "IPY_MODEL_d3e5825e3d86471ebb0a74d5aeda5365",
       "style": "IPY_MODEL_07e9227203b24024a62ee7de0f4c41e6"
      }
     },
     "874d779bb46d42bb84f53707f0766f1d": {
      "model_module": "@jupyter-widgets/controls",
      "model_module_version": "1.5.0",
      "model_name": "ButtonStyleModel",
      "state": {}
     },
     "882c11d321fb40d5b598f6a7061aff42": {
      "model_module": "@jupyter-widgets/controls",
      "model_module_version": "1.5.0",
      "model_name": "ButtonModel",
      "state": {
       "description": "AC",
       "layout": "IPY_MODEL_a792a0135978494aa057cfcf117a937b",
       "style": "IPY_MODEL_64204d35f62c4a49a1278df066b811be"
      }
     },
     "8852b944ebdb4231bff7734e0b6b63e2": {
      "model_module": "@jupyter-widgets/base",
      "model_module_version": "1.2.0",
      "model_name": "LayoutModel",
      "state": {
       "width": "45px"
      }
     },
     "888a3351f79446248b1ce994484d93dc": {
      "model_module": "@jupyter-widgets/controls",
      "model_module_version": "1.5.0",
      "model_name": "ButtonModel",
      "state": {
       "description": "5",
       "layout": "IPY_MODEL_3df02a1d698c43dfacdec94c9c6a97cc",
       "style": "IPY_MODEL_fe2e855f3a194e5daba88fb4a3c194bd"
      }
     },
     "88d93f4d849c4716b56cff26a013b93f": {
      "model_module": "@jupyter-widgets/base",
      "model_module_version": "1.2.0",
      "model_name": "LayoutModel",
      "state": {}
     },
     "894c9f7414c44148a7270c427b944cec": {
      "model_module": "@jupyter-widgets/controls",
      "model_module_version": "1.5.0",
      "model_name": "ButtonModel",
      "state": {
       "description": "3",
       "layout": "IPY_MODEL_2535329f91a74131868f610771857712",
       "style": "IPY_MODEL_f21556310f6e4f69a0b3672f874bcd76"
      }
     },
     "89510a98c0c34f84a7796366393abaa8": {
      "model_module": "@jupyter-widgets/base",
      "model_module_version": "1.2.0",
      "model_name": "LayoutModel",
      "state": {}
     },
     "89c66d3b807f49feb1778f40fd96c8f0": {
      "model_module": "@jupyter-widgets/base",
      "model_module_version": "1.2.0",
      "model_name": "LayoutModel",
      "state": {
       "width": "45px"
      }
     },
     "8b657ce44ad94b09af8f8ce5a089cf3b": {
      "model_module": "@jupyter-widgets/controls",
      "model_module_version": "1.5.0",
      "model_name": "ButtonStyleModel",
      "state": {}
     },
     "8bde7ba9f6134ff99d2371b66312d887": {
      "model_module": "@jupyter-widgets/base",
      "model_module_version": "1.2.0",
      "model_name": "LayoutModel",
      "state": {
       "width": "45px"
      }
     },
     "8c003ea0817942a68dadb3735e32722e": {
      "model_module": "@jupyter-widgets/controls",
      "model_module_version": "1.5.0",
      "model_name": "ButtonModel",
      "state": {
       "description": " / ",
       "layout": "IPY_MODEL_c6866d0611f644debfdb715cab14557f",
       "style": "IPY_MODEL_dee54930bf114619b78f84113c5bc489"
      }
     },
     "8caeebbd28ba48cb95e71918187679d3": {
      "model_module": "@jupyter-widgets/base",
      "model_module_version": "1.2.0",
      "model_name": "LayoutModel",
      "state": {
       "width": "45px"
      }
     },
     "8ccfd635a7644ed18dd8b1bf7bdcf9e0": {
      "model_module": "@jupyter-widgets/controls",
      "model_module_version": "1.5.0",
      "model_name": "ButtonStyleModel",
      "state": {}
     },
     "8cd1e2dea94542f492fc97bd31035cd1": {
      "model_module": "@jupyter-widgets/base",
      "model_module_version": "1.2.0",
      "model_name": "LayoutModel",
      "state": {
       "width": "45px"
      }
     },
     "8dc1bcaf4ec1456799dc710a5ee58bbe": {
      "model_module": "@jupyter-widgets/controls",
      "model_module_version": "1.5.0",
      "model_name": "ButtonModel",
      "state": {
       "description": "del",
       "layout": "IPY_MODEL_9ed4ce4ff80d4e50b94d9c305e87772c",
       "style": "IPY_MODEL_4276be3a5dc34ba4b8ecc166981e15f9"
      }
     },
     "8e585cb72971475789b78d3d017b05c7": {
      "model_module": "@jupyter-widgets/base",
      "model_module_version": "1.2.0",
      "model_name": "LayoutModel",
      "state": {
       "width": "45px"
      }
     },
     "8e8b109ae56e4c86b54d2891f5a2c5be": {
      "model_module": "@jupyter-widgets/base",
      "model_module_version": "1.2.0",
      "model_name": "LayoutModel",
      "state": {
       "width": "45px"
      }
     },
     "8ed2d40d521a476eb130e46212285ac4": {
      "model_module": "@jupyter-widgets/controls",
      "model_module_version": "1.5.0",
      "model_name": "ButtonModel",
      "state": {
       "description": "2",
       "layout": "IPY_MODEL_c4431dace6124c13b0b3badf0a5ea5fe",
       "style": "IPY_MODEL_6476b23a6d0646adb2961a8994b295ee"
      }
     },
     "90201b9b5e1c423cae84ec085eb90559": {
      "model_module": "@jupyter-widgets/base",
      "model_module_version": "1.2.0",
      "model_name": "LayoutModel",
      "state": {}
     },
     "90a80bd470f8496aa762585fac6e49b7": {
      "model_module": "@jupyter-widgets/controls",
      "model_module_version": "1.5.0",
      "model_name": "ButtonStyleModel",
      "state": {}
     },
     "910f68ddec8e40048f5adb023fe7c649": {
      "model_module": "@jupyter-widgets/base",
      "model_module_version": "1.2.0",
      "model_name": "LayoutModel",
      "state": {
       "width": "45px"
      }
     },
     "916bbe61474042d38c97719ab987932f": {
      "model_module": "@jupyter-widgets/controls",
      "model_module_version": "1.5.0",
      "model_name": "TextModel",
      "state": {
       "disabled": true,
       "layout": "IPY_MODEL_1605b591aa5748bdae3e9b9ea05ff061",
       "placeholder": "0",
       "style": "IPY_MODEL_fb61013e06234d3298a0365aa8fb6977"
      }
     },
     "923146fb90ac4b36b6e44415d106a47e": {
      "model_module": "@jupyter-widgets/controls",
      "model_module_version": "1.5.0",
      "model_name": "ButtonModel",
      "state": {
       "description": "(",
       "layout": "IPY_MODEL_397ffe486e0a42bd984b5415db50aa95",
       "style": "IPY_MODEL_9f9d1e1ec097467f8a1f1cc713ebe985"
      }
     },
     "93225084760e4437acb9566f15792f63": {
      "model_module": "@jupyter-widgets/controls",
      "model_module_version": "1.5.0",
      "model_name": "ButtonStyleModel",
      "state": {}
     },
     "94471197516944aa89868c0059fd9589": {
      "model_module": "@jupyter-widgets/controls",
      "model_module_version": "1.5.0",
      "model_name": "TextModel",
      "state": {
       "disabled": true,
       "layout": "IPY_MODEL_208c1db8477545458a8879a9be40ded1",
       "placeholder": "0",
       "style": "IPY_MODEL_5c2eb4eb96b44134a32b09adced8eb9c"
      }
     },
     "947afe992fe74bca8e2d2b4115fec0fe": {
      "model_module": "@jupyter-widgets/base",
      "model_module_version": "1.2.0",
      "model_name": "LayoutModel",
      "state": {
       "width": "45px"
      }
     },
     "9536642616244bfe8af5d1b2dd12d069": {
      "model_module": "@jupyter-widgets/controls",
      "model_module_version": "1.5.0",
      "model_name": "ButtonStyleModel",
      "state": {}
     },
     "95a3438c1316428691a43467758fec04": {
      "model_module": "@jupyter-widgets/controls",
      "model_module_version": "1.5.0",
      "model_name": "ButtonModel",
      "state": {
       "description": "9",
       "layout": "IPY_MODEL_386efa09b3b8444dbcf1d57e3811f913",
       "style": "IPY_MODEL_f660957b35f54965afa6de774f533a29"
      }
     },
     "95dd981dad8e462dbf1b6b8265441313": {
      "model_module": "@jupyter-widgets/controls",
      "model_module_version": "1.5.0",
      "model_name": "ButtonStyleModel",
      "state": {}
     },
     "967f44fef2f241a3b07b8187a5557090": {
      "model_module": "@jupyter-widgets/controls",
      "model_module_version": "1.5.0",
      "model_name": "ButtonStyleModel",
      "state": {}
     },
     "971e20bfcb644a2aab1d3a4ff9eb51fd": {
      "model_module": "@jupyter-widgets/controls",
      "model_module_version": "1.5.0",
      "model_name": "HBoxModel",
      "state": {
       "children": [
        "IPY_MODEL_48643c0418e349f6b79573819e2a7b2b",
        "IPY_MODEL_205da1d879054f80a4f0e606fb14ff10",
        "IPY_MODEL_5e306330dfdd463090047f187bf0cbf0",
        "IPY_MODEL_27009509e6104feb92e7751e8ad271fd"
       ],
       "layout": "IPY_MODEL_c280a455e52d44a69fc20c9ba7d01ba7"
      }
     },
     "972441fb7e60482db5b93cf314a352aa": {
      "model_module": "@jupyter-widgets/controls",
      "model_module_version": "1.5.0",
      "model_name": "ButtonModel",
      "state": {
       "description": " + ",
       "layout": "IPY_MODEL_9b5787c22251449dbed6d9211067c9d9",
       "style": "IPY_MODEL_d0d6262c2fc94a189d2a37f7400476f9"
      }
     },
     "9753fe573c9b4c0d9aa24d091ce1f75e": {
      "model_module": "@jupyter-widgets/controls",
      "model_module_version": "1.5.0",
      "model_name": "ButtonModel",
      "state": {
       "description": " * ",
       "layout": "IPY_MODEL_7c90d8d9b5704121be9e654f4b6b021e",
       "style": "IPY_MODEL_9f5420bcc3824a729f4eb17fa5b7e1a1"
      }
     },
     "9760f8a7562b49ac88ce0b52bd9d1817": {
      "model_module": "@jupyter-widgets/controls",
      "model_module_version": "1.5.0",
      "model_name": "ButtonModel",
      "state": {
       "description": "AC",
       "layout": "IPY_MODEL_30b16d79dc3f40eb8ffbcc1894441777",
       "style": "IPY_MODEL_11477ee42dd1483e937e3a44e3d9014a"
      }
     },
     "98202458ffce470f8be42bdfdf624b09": {
      "model_module": "@jupyter-widgets/controls",
      "model_module_version": "1.5.0",
      "model_name": "DescriptionStyleModel",
      "state": {
       "description_width": ""
      }
     },
     "99a2af421c57418b94e6fc02881db4d2": {
      "model_module": "@jupyter-widgets/controls",
      "model_module_version": "1.5.0",
      "model_name": "ButtonStyleModel",
      "state": {}
     },
     "9a44bf8bfa7d483399b10fecbacf0006": {
      "model_module": "@jupyter-widgets/base",
      "model_module_version": "1.2.0",
      "model_name": "LayoutModel",
      "state": {
       "width": "45px"
      }
     },
     "9a828119a00d4a6b842ecec18e2efe4b": {
      "model_module": "@jupyter-widgets/controls",
      "model_module_version": "1.5.0",
      "model_name": "ButtonStyleModel",
      "state": {}
     },
     "9b5787c22251449dbed6d9211067c9d9": {
      "model_module": "@jupyter-widgets/base",
      "model_module_version": "1.2.0",
      "model_name": "LayoutModel",
      "state": {
       "width": "45px"
      }
     },
     "9b716643c8d044b58ac14ba0f9751b5a": {
      "model_module": "@jupyter-widgets/controls",
      "model_module_version": "1.5.0",
      "model_name": "ButtonStyleModel",
      "state": {}
     },
     "9b931c4aab394565bfd8790db6919da4": {
      "model_module": "@jupyter-widgets/controls",
      "model_module_version": "1.5.0",
      "model_name": "ButtonStyleModel",
      "state": {}
     },
     "9bc49c9102d14d4c963763c7a53a73eb": {
      "model_module": "@jupyter-widgets/base",
      "model_module_version": "1.2.0",
      "model_name": "LayoutModel",
      "state": {
       "width": "45px"
      }
     },
     "9bc4a799586845e293a56b4e7f587d50": {
      "model_module": "@jupyter-widgets/base",
      "model_module_version": "1.2.0",
      "model_name": "LayoutModel",
      "state": {
       "width": "45px"
      }
     },
     "9bce6df88595470d81f2fab1b8bb63a4": {
      "model_module": "@jupyter-widgets/base",
      "model_module_version": "1.2.0",
      "model_name": "LayoutModel",
      "state": {
       "width": "45px"
      }
     },
     "9c5f632225a1444c8c931d11e0573351": {
      "model_module": "@jupyter-widgets/controls",
      "model_module_version": "1.5.0",
      "model_name": "ButtonModel",
      "state": {
       "description": "3",
       "layout": "IPY_MODEL_53b200c9bed042dc9a20499ef904dd43",
       "style": "IPY_MODEL_0a7ecd9f7fac45d8b1b6a35b5d223f94"
      }
     },
     "9c8863ee14594f1ca650713dcb0825b3": {
      "model_module": "@jupyter-widgets/base",
      "model_module_version": "1.2.0",
      "model_name": "LayoutModel",
      "state": {
       "width": "45px"
      }
     },
     "9cfb7a5aca9e464690bc7115c5ba64ca": {
      "model_module": "@jupyter-widgets/controls",
      "model_module_version": "1.5.0",
      "model_name": "ButtonModel",
      "state": {
       "description": " + ",
       "layout": "IPY_MODEL_51994a0eb4fc4d3b8f67c5479388f992",
       "style": "IPY_MODEL_a451f2c06adb4654bcd429200206733c"
      }
     },
     "9d2efdfb025a4154bc1b7fb415b6c05c": {
      "model_module": "@jupyter-widgets/controls",
      "model_module_version": "1.5.0",
      "model_name": "ButtonStyleModel",
      "state": {}
     },
     "9d88fd66c25f4c739af7ec2b0b0ed247": {
      "model_module": "@jupyter-widgets/controls",
      "model_module_version": "1.5.0",
      "model_name": "ButtonModel",
      "state": {
       "description": "5",
       "layout": "IPY_MODEL_4a644373311b4ef59da75d897e3ce1c6",
       "style": "IPY_MODEL_9b931c4aab394565bfd8790db6919da4"
      }
     },
     "9e06ec6240c641a296e4abb3cb7a8f6b": {
      "model_module": "@jupyter-widgets/controls",
      "model_module_version": "1.5.0",
      "model_name": "ButtonModel",
      "state": {
       "description": " + ",
       "layout": "IPY_MODEL_13032204025849519b357e25d89a25a7",
       "style": "IPY_MODEL_496ee626540246d2b9c23d9d8292d5e7"
      }
     },
     "9e094640ac114246966d9333c60df2e4": {
      "model_module": "@jupyter-widgets/base",
      "model_module_version": "1.2.0",
      "model_name": "LayoutModel",
      "state": {
       "width": "45px"
      }
     },
     "9e1dbca72a724eb8aa00980eb1b1d7b9": {
      "model_module": "@jupyter-widgets/controls",
      "model_module_version": "1.5.0",
      "model_name": "HBoxModel",
      "state": {
       "children": [
        "IPY_MODEL_c153ffa3a032478bad073ba28a6db34c",
        "IPY_MODEL_72ebfc47ab7449c6aab8befb2c5567ae",
        "IPY_MODEL_2f205f429f99486089493bc5ca67e61f",
        "IPY_MODEL_9753fe573c9b4c0d9aa24d091ce1f75e"
       ],
       "layout": "IPY_MODEL_d8bf75ad3b1a4a2a8537d3ec87653a27"
      }
     },
     "9ecde25a00c444c58ac6d378a9afd330": {
      "model_module": "@jupyter-widgets/controls",
      "model_module_version": "1.5.0",
      "model_name": "ButtonStyleModel",
      "state": {}
     },
     "9ed4ce4ff80d4e50b94d9c305e87772c": {
      "model_module": "@jupyter-widgets/base",
      "model_module_version": "1.2.0",
      "model_name": "LayoutModel",
      "state": {
       "width": "45px"
      }
     },
     "9f5420bcc3824a729f4eb17fa5b7e1a1": {
      "model_module": "@jupyter-widgets/controls",
      "model_module_version": "1.5.0",
      "model_name": "ButtonStyleModel",
      "state": {}
     },
     "9f992f187960413a820ddf235dcfec15": {
      "model_module": "@jupyter-widgets/base",
      "model_module_version": "1.2.0",
      "model_name": "LayoutModel",
      "state": {
       "width": "45px"
      }
     },
     "9f9d1e1ec097467f8a1f1cc713ebe985": {
      "model_module": "@jupyter-widgets/controls",
      "model_module_version": "1.5.0",
      "model_name": "ButtonStyleModel",
      "state": {}
     },
     "a0102f90760b4b269ffd701d7a0c8a8a": {
      "model_module": "@jupyter-widgets/controls",
      "model_module_version": "1.5.0",
      "model_name": "ButtonModel",
      "state": {
       "description": "4",
       "layout": "IPY_MODEL_f1c6a3dcd0824f04a11600f1e6237568",
       "style": "IPY_MODEL_4d96698bf7ef40189e01dd4d40e33a1e"
      }
     },
     "a095dcbac1f146068cc0d1a85745b1e5": {
      "model_module": "@jupyter-widgets/controls",
      "model_module_version": "1.5.0",
      "model_name": "HBoxModel",
      "state": {
       "children": [
        "IPY_MODEL_4dffb412fe5d489e8d8b1a68045be1c1",
        "IPY_MODEL_b8f354e63d9a44b094712f1fb40e31df",
        "IPY_MODEL_4f445a386f7146038be201856569ed1c",
        "IPY_MODEL_3a082f373dd54cbda8840218984fc3c9"
       ],
       "layout": "IPY_MODEL_88d93f4d849c4716b56cff26a013b93f"
      }
     },
     "a0bfbae8cc24429b8b6071591e6eaa29": {
      "model_module": "@jupyter-widgets/controls",
      "model_module_version": "1.5.0",
      "model_name": "ButtonModel",
      "state": {
       "description": "7",
       "layout": "IPY_MODEL_fd4544a6783b454a904a9d3d08407520",
       "style": "IPY_MODEL_ae72257aa1834bfd98a795fbc51241e5"
      }
     },
     "a0fa8591ee2f4a6b9680d08dd52d6fff": {
      "model_module": "@jupyter-widgets/controls",
      "model_module_version": "1.5.0",
      "model_name": "ButtonModel",
      "state": {
       "description": ")",
       "layout": "IPY_MODEL_d1a17d89861e4f1382e1fb32c1d9fff2",
       "style": "IPY_MODEL_baf8b58267c348bcb744a69974704b18"
      }
     },
     "a101b44a5d8e470aa2be095d34ea1b88": {
      "model_module": "@jupyter-widgets/controls",
      "model_module_version": "1.5.0",
      "model_name": "ButtonStyleModel",
      "state": {}
     },
     "a18546aa19c64391922630b2a822d1a6": {
      "model_module": "@jupyter-widgets/base",
      "model_module_version": "1.2.0",
      "model_name": "LayoutModel",
      "state": {
       "width": "45px"
      }
     },
     "a26f19af70064eb4bc1cb6de262ad0c1": {
      "model_module": "@jupyter-widgets/controls",
      "model_module_version": "1.5.0",
      "model_name": "HBoxModel",
      "state": {
       "children": [
        "IPY_MODEL_5a74922f28924a4e82dfeb03e48e5e35",
        "IPY_MODEL_0dcd0b1942ca47a4926593570c323979",
        "IPY_MODEL_0b6d6edb340340fdb313234001523d9f",
        "IPY_MODEL_bb18cec433e241ddac76df60e7d18ccc"
       ],
       "layout": "IPY_MODEL_01b10d2e970241278279b715e112752a"
      }
     },
     "a3059f36216c43e59b6caff04c7648fa": {
      "model_module": "@jupyter-widgets/base",
      "model_module_version": "1.2.0",
      "model_name": "LayoutModel",
      "state": {
       "width": "190px"
      }
     },
     "a37507c6eb184c4bb8c088bee6b8f103": {
      "model_module": "@jupyter-widgets/controls",
      "model_module_version": "1.5.0",
      "model_name": "ButtonStyleModel",
      "state": {}
     },
     "a3a2e87ee7dc49fc8aeacb8d702e1e0e": {
      "model_module": "@jupyter-widgets/controls",
      "model_module_version": "1.5.0",
      "model_name": "ButtonModel",
      "state": {
       "description": "8",
       "layout": "IPY_MODEL_319b33f4809c4b14b75d0f8280b196d9",
       "style": "IPY_MODEL_7df9da8539504dc688575c9e30ae54f3"
      }
     },
     "a451f2c06adb4654bcd429200206733c": {
      "model_module": "@jupyter-widgets/controls",
      "model_module_version": "1.5.0",
      "model_name": "ButtonStyleModel",
      "state": {}
     },
     "a47185a42bce448ba0dff42283f42731": {
      "model_module": "@jupyter-widgets/controls",
      "model_module_version": "1.5.0",
      "model_name": "HBoxModel",
      "state": {
       "children": [
        "IPY_MODEL_b196287f09cc4559bd27ad094108d2e4",
        "IPY_MODEL_a0fa8591ee2f4a6b9680d08dd52d6fff",
        "IPY_MODEL_8dc1bcaf4ec1456799dc710a5ee58bbe",
        "IPY_MODEL_9760f8a7562b49ac88ce0b52bd9d1817"
       ],
       "layout": "IPY_MODEL_c128b088260b435a968b004988b30329"
      }
     },
     "a4b3579fdfde45b5b24db535df86f9d3": {
      "model_module": "@jupyter-widgets/controls",
      "model_module_version": "1.5.0",
      "model_name": "DescriptionStyleModel",
      "state": {
       "description_width": ""
      }
     },
     "a4c618d09456451885fa45d5aad14dba": {
      "model_module": "@jupyter-widgets/base",
      "model_module_version": "1.2.0",
      "model_name": "LayoutModel",
      "state": {
       "width": "45px"
      }
     },
     "a4d154e2598a4c8fa0d3f55290f34365": {
      "model_module": "@jupyter-widgets/base",
      "model_module_version": "1.2.0",
      "model_name": "LayoutModel",
      "state": {}
     },
     "a57110df7e3f42a28e6612e5fef86dd0": {
      "model_module": "@jupyter-widgets/controls",
      "model_module_version": "1.5.0",
      "model_name": "ButtonStyleModel",
      "state": {}
     },
     "a572d7dedb7148349b63c246c6f85b08": {
      "model_module": "@jupyter-widgets/controls",
      "model_module_version": "1.5.0",
      "model_name": "ButtonModel",
      "state": {
       "description": "0",
       "layout": "IPY_MODEL_2b2272ab1cd44163805b5651e8dff139",
       "style": "IPY_MODEL_8ccfd635a7644ed18dd8b1bf7bdcf9e0"
      }
     },
     "a5ce4e48a1b64a7da8c6505b0e813c86": {
      "model_module": "@jupyter-widgets/controls",
      "model_module_version": "1.5.0",
      "model_name": "ButtonModel",
      "state": {
       "description": " - ",
       "layout": "IPY_MODEL_48d513f7c7d6482cb6b049dee627cbf3",
       "style": "IPY_MODEL_842ad272d77e4d6a8c1436226156d6da"
      }
     },
     "a7433ca367564948b92a0493c2ddbaf9": {
      "model_module": "@jupyter-widgets/base",
      "model_module_version": "1.2.0",
      "model_name": "LayoutModel",
      "state": {
       "width": "45px"
      }
     },
     "a78d4c5798734a7fb3851036d85491a5": {
      "model_module": "@jupyter-widgets/base",
      "model_module_version": "1.2.0",
      "model_name": "LayoutModel",
      "state": {
       "width": "45px"
      }
     },
     "a792a0135978494aa057cfcf117a937b": {
      "model_module": "@jupyter-widgets/base",
      "model_module_version": "1.2.0",
      "model_name": "LayoutModel",
      "state": {
       "width": "45px"
      }
     },
     "a79d3a5716654db0bdbf7a2b3f495998": {
      "model_module": "@jupyter-widgets/base",
      "model_module_version": "1.2.0",
      "model_name": "LayoutModel",
      "state": {
       "width": "45px"
      }
     },
     "a7d9940ad3b54a53886653036e2b7bda": {
      "model_module": "@jupyter-widgets/controls",
      "model_module_version": "1.5.0",
      "model_name": "ButtonStyleModel",
      "state": {}
     },
     "a7eaf6d02c0b459ba0759871a6f16654": {
      "model_module": "@jupyter-widgets/controls",
      "model_module_version": "1.5.0",
      "model_name": "ButtonModel",
      "state": {
       "description": "2",
       "layout": "IPY_MODEL_7148f4d95bf44d268f96d16259a5796b",
       "style": "IPY_MODEL_05d7cd072e744ff0bbc530f9889129fb"
      }
     },
     "a8a404fd639b4d0f8037a5024ec79b58": {
      "model_module": "@jupyter-widgets/controls",
      "model_module_version": "1.5.0",
      "model_name": "ButtonStyleModel",
      "state": {}
     },
     "a8f6ea7e94db4fe78bcf2d0f0513b9fd": {
      "model_module": "@jupyter-widgets/controls",
      "model_module_version": "1.5.0",
      "model_name": "ButtonModel",
      "state": {
       "description": ")",
       "layout": "IPY_MODEL_196fbfe190d54b8086c6b1d6901f646b",
       "style": "IPY_MODEL_05f8bd02226f42a4b209d200b787a6c6"
      }
     },
     "ab15a862c1a34d2b96997e37301e9522": {
      "model_module": "@jupyter-widgets/controls",
      "model_module_version": "1.5.0",
      "model_name": "ButtonStyleModel",
      "state": {}
     },
     "ab37e0a6fcef49d9bcc6063ec450f430": {
      "model_module": "@jupyter-widgets/controls",
      "model_module_version": "1.5.0",
      "model_name": "ButtonModel",
      "state": {
       "description": "5",
       "layout": "IPY_MODEL_07b7e73cedf2480aa5f8db7f35b62f86",
       "style": "IPY_MODEL_7757bf3bf69d4657b8d230deffad368c"
      }
     },
     "abddfe06419b47e890ac9370fa95ba2a": {
      "model_module": "@jupyter-widgets/base",
      "model_module_version": "1.2.0",
      "model_name": "LayoutModel",
      "state": {
       "width": "45px"
      }
     },
     "abf8d90ae5be4bd88182556ef8270025": {
      "model_module": "@jupyter-widgets/base",
      "model_module_version": "1.2.0",
      "model_name": "LayoutModel",
      "state": {}
     },
     "ac4aff9f63ee49518500a7c905c13a82": {
      "model_module": "@jupyter-widgets/controls",
      "model_module_version": "1.5.0",
      "model_name": "ButtonStyleModel",
      "state": {}
     },
     "ad71ffba7dab4ebbb9d4ac974a61964e": {
      "model_module": "@jupyter-widgets/controls",
      "model_module_version": "1.5.0",
      "model_name": "ButtonModel",
      "state": {
       "description": " + ",
       "layout": "IPY_MODEL_34f8806b47db4a64a2b25b3c6e4256eb",
       "style": "IPY_MODEL_3c12d093ec174b0ba68b75742156b5b5"
      }
     },
     "ae4e5f36f22f43f49e0154e97f50928a": {
      "model_module": "@jupyter-widgets/controls",
      "model_module_version": "1.5.0",
      "model_name": "ButtonStyleModel",
      "state": {}
     },
     "ae534bca78b24e239e2b69b9e55fa6a1": {
      "model_module": "@jupyter-widgets/base",
      "model_module_version": "1.2.0",
      "model_name": "LayoutModel",
      "state": {
       "width": "45px"
      }
     },
     "ae72257aa1834bfd98a795fbc51241e5": {
      "model_module": "@jupyter-widgets/controls",
      "model_module_version": "1.5.0",
      "model_name": "ButtonStyleModel",
      "state": {}
     },
     "aec5714b37a44c9a956a732b9d1e8fcc": {
      "model_module": "@jupyter-widgets/base",
      "model_module_version": "1.2.0",
      "model_name": "LayoutModel",
      "state": {}
     },
     "af06b79377194f588bcb272427e4b3a4": {
      "model_module": "@jupyter-widgets/controls",
      "model_module_version": "1.5.0",
      "model_name": "ButtonStyleModel",
      "state": {}
     },
     "af0c06276ba347ea87c666105b176dc3": {
      "model_module": "@jupyter-widgets/base",
      "model_module_version": "1.2.0",
      "model_name": "LayoutModel",
      "state": {
       "width": "45px"
      }
     },
     "afe970fdb7304dfcb771459e7878e04c": {
      "model_module": "@jupyter-widgets/controls",
      "model_module_version": "1.5.0",
      "model_name": "ButtonStyleModel",
      "state": {}
     },
     "b0003a2986ad445aa2396e82c355c425": {
      "model_module": "@jupyter-widgets/base",
      "model_module_version": "1.2.0",
      "model_name": "LayoutModel",
      "state": {
       "width": "45px"
      }
     },
     "b037838cca234e57b27e6ddf9cd3c08e": {
      "model_module": "@jupyter-widgets/base",
      "model_module_version": "1.2.0",
      "model_name": "LayoutModel",
      "state": {
       "width": "45px"
      }
     },
     "b04ab019237e405ab3bb6de63f915535": {
      "model_module": "@jupyter-widgets/controls",
      "model_module_version": "1.5.0",
      "model_name": "DescriptionStyleModel",
      "state": {
       "description_width": ""
      }
     },
     "b05e7e8b63ec4e6eb9cabbe2678f4f53": {
      "model_module": "@jupyter-widgets/controls",
      "model_module_version": "1.5.0",
      "model_name": "HBoxModel",
      "state": {
       "children": [
        "IPY_MODEL_a0102f90760b4b269ffd701d7a0c8a8a",
        "IPY_MODEL_9d88fd66c25f4c739af7ec2b0b0ed247",
        "IPY_MODEL_bbe0c1b7e7bc496d979be617edc72d85",
        "IPY_MODEL_2128c3c0356042c89cf0d801e049d701"
       ],
       "layout": "IPY_MODEL_684639bd642b4bf9ae00c3ae8e9cee2a"
      }
     },
     "b196287f09cc4559bd27ad094108d2e4": {
      "model_module": "@jupyter-widgets/controls",
      "model_module_version": "1.5.0",
      "model_name": "ButtonModel",
      "state": {
       "description": "(",
       "layout": "IPY_MODEL_947afe992fe74bca8e2d2b4115fec0fe",
       "style": "IPY_MODEL_f7bc246f0afb4c61ad4df5dd37b8d668"
      }
     },
     "b24bf358d382423789f8d2bcafd550cf": {
      "model_module": "@jupyter-widgets/base",
      "model_module_version": "1.2.0",
      "model_name": "LayoutModel",
      "state": {}
     },
     "b2670765d8e24a9bb014a69823ba2dfb": {
      "model_module": "@jupyter-widgets/controls",
      "model_module_version": "1.5.0",
      "model_name": "ButtonModel",
      "state": {
       "description": "6",
       "layout": "IPY_MODEL_60fd7201eda24aa29814d4c0b3b666da",
       "style": "IPY_MODEL_3f5f69c2bf264bcb9fb83a74c573caa3"
      }
     },
     "b289c9d706274cc79c512c09e3231138": {
      "model_module": "@jupyter-widgets/controls",
      "model_module_version": "1.5.0",
      "model_name": "ButtonStyleModel",
      "state": {}
     },
     "b3735f3e20394c96a86517700e1c78b1": {
      "model_module": "@jupyter-widgets/controls",
      "model_module_version": "1.5.0",
      "model_name": "ButtonStyleModel",
      "state": {}
     },
     "b411fd83d270488696e35bb2d995483e": {
      "model_module": "@jupyter-widgets/base",
      "model_module_version": "1.2.0",
      "model_name": "LayoutModel",
      "state": {
       "width": "45px"
      }
     },
     "b4207fe1ce7b4c00922f7be7b91e3cfa": {
      "model_module": "@jupyter-widgets/controls",
      "model_module_version": "1.5.0",
      "model_name": "ButtonStyleModel",
      "state": {}
     },
     "b4b150d2c0dd42619ee693b7f8cd464d": {
      "model_module": "@jupyter-widgets/controls",
      "model_module_version": "1.5.0",
      "model_name": "ButtonModel",
      "state": {
       "description": "AC",
       "layout": "IPY_MODEL_0a46060c2ca44af3ae012da912c37c81",
       "style": "IPY_MODEL_5c09dab78c6b43ca902a35457c9cfeb5"
      }
     },
     "b547124d61ea4d71a43be280e6876248": {
      "model_module": "@jupyter-widgets/base",
      "model_module_version": "1.2.0",
      "model_name": "LayoutModel",
      "state": {
       "width": "45px"
      }
     },
     "b56fd5f328d84a4181c062ab35f79815": {
      "model_module": "@jupyter-widgets/controls",
      "model_module_version": "1.5.0",
      "model_name": "ButtonModel",
      "state": {
       "description": "=",
       "layout": "IPY_MODEL_af0c06276ba347ea87c666105b176dc3",
       "style": "IPY_MODEL_c138a6077b2b474e8acc9831866af536"
      }
     },
     "b667f0d699f8474fa308ea737f256aa5": {
      "model_module": "@jupyter-widgets/controls",
      "model_module_version": "1.5.0",
      "model_name": "ButtonModel",
      "state": {
       "description": ".",
       "layout": "IPY_MODEL_1aaaafbffd274928a958a069b19bd9c9",
       "style": "IPY_MODEL_29afb11103d0439e9f1a056082cb23e7"
      }
     },
     "b7595370e6f547ae96cd60e1286e35d6": {
      "model_module": "@jupyter-widgets/base",
      "model_module_version": "1.2.0",
      "model_name": "LayoutModel",
      "state": {}
     },
     "b78a75afe9184abe8a1e64078ef5e802": {
      "model_module": "@jupyter-widgets/base",
      "model_module_version": "1.2.0",
      "model_name": "LayoutModel",
      "state": {
       "width": "45px"
      }
     },
     "b7d1643a16bf43a5944d42a53ed7c33d": {
      "model_module": "@jupyter-widgets/controls",
      "model_module_version": "1.5.0",
      "model_name": "ButtonModel",
      "state": {
       "description": " - ",
       "layout": "IPY_MODEL_7bdb4bb0afc44812840688c989de2e27",
       "style": "IPY_MODEL_e98cb6dcd91d41448e00922c2e2946d2"
      }
     },
     "b7dcfd5a33c7446cb4b133070a8f749c": {
      "model_module": "@jupyter-widgets/controls",
      "model_module_version": "1.5.0",
      "model_name": "VBoxModel",
      "state": {
       "children": [
        "IPY_MODEL_31a3f81cd3e14df5844e8a410e1db30b",
        "IPY_MODEL_ebaf941fe8b34ce4bcd95b8ecab343e0",
        "IPY_MODEL_6c1f80b94c1b448fa5d2e2310291b038",
        "IPY_MODEL_9e1dbca72a724eb8aa00980eb1b1d7b9",
        "IPY_MODEL_3fc8df9a7f9c4f9c84f48ea259c3a928",
        "IPY_MODEL_51236cb0ab974164b91a5d2e90378158"
       ],
       "layout": "IPY_MODEL_e2fa817602454c6d8b4f6fbc58b756b3"
      }
     },
     "b7f737e186064cccb4c67d9d924ccc71": {
      "model_module": "@jupyter-widgets/base",
      "model_module_version": "1.2.0",
      "model_name": "LayoutModel",
      "state": {
       "width": "45px"
      }
     },
     "b82cb4b446b345598a208e11c9c31947": {
      "model_module": "@jupyter-widgets/base",
      "model_module_version": "1.2.0",
      "model_name": "LayoutModel",
      "state": {}
     },
     "b8316561079f4569b0e5ccf94ac797f5": {
      "model_module": "@jupyter-widgets/controls",
      "model_module_version": "1.5.0",
      "model_name": "ButtonStyleModel",
      "state": {}
     },
     "b889d50a04e4426faa1bac91e9f2daa5": {
      "model_module": "@jupyter-widgets/controls",
      "model_module_version": "1.5.0",
      "model_name": "ButtonModel",
      "state": {
       "description": ")",
       "layout": "IPY_MODEL_e5670c9de3904388bb74ebe207ca1446",
       "style": "IPY_MODEL_9ecde25a00c444c58ac6d378a9afd330"
      }
     },
     "b8f354e63d9a44b094712f1fb40e31df": {
      "model_module": "@jupyter-widgets/controls",
      "model_module_version": "1.5.0",
      "model_name": "ButtonModel",
      "state": {
       "description": "8",
       "layout": "IPY_MODEL_450ef47a455b4ba4a3e461da3f2184eb",
       "style": "IPY_MODEL_c93b7a96f0384cf5b3da5508d63a36a4"
      }
     },
     "baf0f038ff9f47f797caf9a9829a1c6e": {
      "model_module": "@jupyter-widgets/base",
      "model_module_version": "1.2.0",
      "model_name": "LayoutModel",
      "state": {
       "width": "45px"
      }
     },
     "baf54ca64d5f423b98fe18250c50a7b9": {
      "model_module": "@jupyter-widgets/controls",
      "model_module_version": "1.5.0",
      "model_name": "VBoxModel",
      "state": {
       "children": [
        "IPY_MODEL_6e6486202cec420aabcc0d680e0b45ca",
        "IPY_MODEL_37dbb51358964886abadabaea5e168ae",
        "IPY_MODEL_55020b1748d6443a9eb4b84fdab94c19",
        "IPY_MODEL_591297ca7d92492395eb9b22e8d50396",
        "IPY_MODEL_26c7035fca434b189059d8011bb0310f",
        "IPY_MODEL_12ea55ef61ab404eb5166c560e8af3c0"
       ],
       "layout": "IPY_MODEL_c01c11e9c2084a4dad25223b889e94d5"
      }
     },
     "baf8b58267c348bcb744a69974704b18": {
      "model_module": "@jupyter-widgets/controls",
      "model_module_version": "1.5.0",
      "model_name": "ButtonStyleModel",
      "state": {}
     },
     "bafa10d510e04c6c93cd99004d09ef5d": {
      "model_module": "@jupyter-widgets/base",
      "model_module_version": "1.2.0",
      "model_name": "LayoutModel",
      "state": {}
     },
     "bb18cec433e241ddac76df60e7d18ccc": {
      "model_module": "@jupyter-widgets/controls",
      "model_module_version": "1.5.0",
      "model_name": "ButtonModel",
      "state": {
       "description": " * ",
       "layout": "IPY_MODEL_baf0f038ff9f47f797caf9a9829a1c6e",
       "style": "IPY_MODEL_ea02e1f123fc40b6a93aeafe227d7af9"
      }
     },
     "bb4d73051380412abc4179efffc74e1c": {
      "model_module": "@jupyter-widgets/controls",
      "model_module_version": "1.5.0",
      "model_name": "ButtonModel",
      "state": {
       "description": "=",
       "layout": "IPY_MODEL_17c64af4de4d407185a5dd06946b125c",
       "style": "IPY_MODEL_e158bd48cc244c69ba62a912295959a9"
      }
     },
     "bb59bb38b73e441f93ed4a8ef20913ba": {
      "model_module": "@jupyter-widgets/controls",
      "model_module_version": "1.5.0",
      "model_name": "ButtonModel",
      "state": {
       "description": ")",
       "layout": "IPY_MODEL_663c480978c2468eafc02e668bd04c50",
       "style": "IPY_MODEL_e959a927d6b8445aafdc6e0aad294f0d"
      }
     },
     "bb7773172b7a4e75872eaea493b5013f": {
      "model_module": "@jupyter-widgets/base",
      "model_module_version": "1.2.0",
      "model_name": "LayoutModel",
      "state": {
       "width": "45px"
      }
     },
     "bbc1029d1d2d4d38b6c3bddb8c74b650": {
      "model_module": "@jupyter-widgets/controls",
      "model_module_version": "1.5.0",
      "model_name": "ButtonStyleModel",
      "state": {}
     },
     "bbe0c1b7e7bc496d979be617edc72d85": {
      "model_module": "@jupyter-widgets/controls",
      "model_module_version": "1.5.0",
      "model_name": "ButtonModel",
      "state": {
       "description": "6",
       "layout": "IPY_MODEL_42fc98f2d3244d8889038f375d3f53ce",
       "style": "IPY_MODEL_e2bfbd973b2449a88c4d1ee6e671f36f"
      }
     },
     "bc755e9909504b43a87a5a679887ae4d": {
      "model_module": "@jupyter-widgets/controls",
      "model_module_version": "1.5.0",
      "model_name": "ButtonModel",
      "state": {
       "description": "7",
       "layout": "IPY_MODEL_364e63f4ba7d43afa6b69312b6c02f31",
       "style": "IPY_MODEL_3941e74dc9b64fb1bacd4d10167e76ec"
      }
     },
     "bcc66542ae1841b0935d78e2093750f7": {
      "model_module": "@jupyter-widgets/controls",
      "model_module_version": "1.5.0",
      "model_name": "ButtonStyleModel",
      "state": {}
     },
     "bd55ec0f38fb47638577fb2b0bee4f42": {
      "model_module": "@jupyter-widgets/base",
      "model_module_version": "1.2.0",
      "model_name": "LayoutModel",
      "state": {}
     },
     "bd92b8ea21ef4903a3aac95f6b84f49b": {
      "model_module": "@jupyter-widgets/controls",
      "model_module_version": "1.5.0",
      "model_name": "ButtonModel",
      "state": {
       "description": "8",
       "layout": "IPY_MODEL_2a6acf7317f445608effea7a51f8ee8d",
       "style": "IPY_MODEL_e09bbca36a9d4434b2a3def6e2946a16"
      }
     },
     "bdb48c75c53a408d8a3d51d0076d643c": {
      "model_module": "@jupyter-widgets/base",
      "model_module_version": "1.2.0",
      "model_name": "LayoutModel",
      "state": {}
     },
     "be459ca9437c4b7d9196ce3ffddfa637": {
      "model_module": "@jupyter-widgets/controls",
      "model_module_version": "1.5.0",
      "model_name": "ButtonStyleModel",
      "state": {}
     },
     "be4e3fa904a84e1b9d079a5026a44dda": {
      "model_module": "@jupyter-widgets/base",
      "model_module_version": "1.2.0",
      "model_name": "LayoutModel",
      "state": {
       "width": "45px"
      }
     },
     "be7996bacba6414c9e1b355f1a7938b3": {
      "model_module": "@jupyter-widgets/controls",
      "model_module_version": "1.5.0",
      "model_name": "ButtonModel",
      "state": {
       "description": "=",
       "layout": "IPY_MODEL_f0c4b05c36964449b833f8855d13f964",
       "style": "IPY_MODEL_afe970fdb7304dfcb771459e7878e04c"
      }
     },
     "bea03da6d7294ecd9aed9a78c675b72f": {
      "model_module": "@jupyter-widgets/controls",
      "model_module_version": "1.5.0",
      "model_name": "ButtonStyleModel",
      "state": {}
     },
     "bf2921a92e084c6aa9cc6500ec7f69fb": {
      "model_module": "@jupyter-widgets/base",
      "model_module_version": "1.2.0",
      "model_name": "LayoutModel",
      "state": {}
     },
     "bf4f866cb69049ef96896e4c0c39cd3b": {
      "model_module": "@jupyter-widgets/base",
      "model_module_version": "1.2.0",
      "model_name": "LayoutModel",
      "state": {}
     },
     "c01c11e9c2084a4dad25223b889e94d5": {
      "model_module": "@jupyter-widgets/base",
      "model_module_version": "1.2.0",
      "model_name": "LayoutModel",
      "state": {}
     },
     "c0564d14de254a3f8dfda1c90cfff162": {
      "model_module": "@jupyter-widgets/base",
      "model_module_version": "1.2.0",
      "model_name": "LayoutModel",
      "state": {
       "width": "45px"
      }
     },
     "c0b8afcae15445ce882430800217a442": {
      "model_module": "@jupyter-widgets/controls",
      "model_module_version": "1.5.0",
      "model_name": "ButtonModel",
      "state": {
       "description": " - ",
       "layout": "IPY_MODEL_de2ea07cf8da403ab5a5577ca5f94869",
       "style": "IPY_MODEL_6b437bf533d0473abcab156ee4377161"
      }
     },
     "c128b088260b435a968b004988b30329": {
      "model_module": "@jupyter-widgets/base",
      "model_module_version": "1.2.0",
      "model_name": "LayoutModel",
      "state": {}
     },
     "c138a6077b2b474e8acc9831866af536": {
      "model_module": "@jupyter-widgets/controls",
      "model_module_version": "1.5.0",
      "model_name": "ButtonStyleModel",
      "state": {}
     },
     "c153ffa3a032478bad073ba28a6db34c": {
      "model_module": "@jupyter-widgets/controls",
      "model_module_version": "1.5.0",
      "model_name": "ButtonModel",
      "state": {
       "description": "4",
       "layout": "IPY_MODEL_d91514f513a0494bac513d4bb04f5531",
       "style": "IPY_MODEL_cb4fdfaf84904897b0944895c536c749"
      }
     },
     "c1754659f2904abf82d3248af2dc4293": {
      "model_module": "@jupyter-widgets/base",
      "model_module_version": "1.2.0",
      "model_name": "LayoutModel",
      "state": {
       "width": "45px"
      }
     },
     "c194f1216656436286a9b88f9eaba2c1": {
      "model_module": "@jupyter-widgets/controls",
      "model_module_version": "1.5.0",
      "model_name": "HBoxModel",
      "state": {
       "children": [
        "IPY_MODEL_644a0a64dbc8424a8071364a33ff05a5",
        "IPY_MODEL_567d5409bbe64881871fc894334cb354",
        "IPY_MODEL_cf8c0fd76ef64c968771ecc0da250ba9",
        "IPY_MODEL_0a075b94f28f41cd928e9643ff77b0d6"
       ],
       "layout": "IPY_MODEL_ee5035023ae8406a93e4e8ef2324d749"
      }
     },
     "c22b3f0f51cd44799cb31675a5c5c088": {
      "model_module": "@jupyter-widgets/controls",
      "model_module_version": "1.5.0",
      "model_name": "ButtonModel",
      "state": {
       "description": "3",
       "layout": "IPY_MODEL_41bac5a6ffad4b3fb2a4d18a856bbf6a",
       "style": "IPY_MODEL_6b53ed81b59f46be91594400632040bc"
      }
     },
     "c2659775d00f4870b8c72d09f57d4c80": {
      "model_module": "@jupyter-widgets/base",
      "model_module_version": "1.2.0",
      "model_name": "LayoutModel",
      "state": {}
     },
     "c265d254a9f94a90a7437cbf054c7853": {
      "model_module": "@jupyter-widgets/base",
      "model_module_version": "1.2.0",
      "model_name": "LayoutModel",
      "state": {}
     },
     "c280a455e52d44a69fc20c9ba7d01ba7": {
      "model_module": "@jupyter-widgets/base",
      "model_module_version": "1.2.0",
      "model_name": "LayoutModel",
      "state": {}
     },
     "c2cee153e72d4c7f88cc73cb972c8a59": {
      "model_module": "@jupyter-widgets/base",
      "model_module_version": "1.2.0",
      "model_name": "LayoutModel",
      "state": {
       "width": "45px"
      }
     },
     "c2d26548bb424008adc5363c4b751e2e": {
      "model_module": "@jupyter-widgets/controls",
      "model_module_version": "1.5.0",
      "model_name": "ButtonModel",
      "state": {
       "description": "9",
       "layout": "IPY_MODEL_621ce67f70b1419b896f509b456c43ac",
       "style": "IPY_MODEL_143568e20e414030af4589ad1a687f63"
      }
     },
     "c3a2f99fb56a4dd08383ee69d790b5b6": {
      "model_module": "@jupyter-widgets/base",
      "model_module_version": "1.2.0",
      "model_name": "LayoutModel",
      "state": {
       "width": "45px"
      }
     },
     "c431ab37ff3a48fc96454bd3c95941c2": {
      "model_module": "@jupyter-widgets/controls",
      "model_module_version": "1.5.0",
      "model_name": "ButtonModel",
      "state": {
       "description": "8",
       "layout": "IPY_MODEL_c3a2f99fb56a4dd08383ee69d790b5b6",
       "style": "IPY_MODEL_671988b4e40f4f3996a21b342bdff343"
      }
     },
     "c4431dace6124c13b0b3badf0a5ea5fe": {
      "model_module": "@jupyter-widgets/base",
      "model_module_version": "1.2.0",
      "model_name": "LayoutModel",
      "state": {
       "width": "45px"
      }
     },
     "c47df8c656094fc4a4d8e2c3cab0c7c8": {
      "model_module": "@jupyter-widgets/base",
      "model_module_version": "1.2.0",
      "model_name": "LayoutModel",
      "state": {
       "width": "45px"
      }
     },
     "c4a76ca7cd6847e7a12f7e320ba8e919": {
      "model_module": "@jupyter-widgets/controls",
      "model_module_version": "1.5.0",
      "model_name": "ButtonStyleModel",
      "state": {}
     },
     "c4b8461c9bd94eadb597f44eaa69add2": {
      "model_module": "@jupyter-widgets/controls",
      "model_module_version": "1.5.0",
      "model_name": "ButtonModel",
      "state": {
       "description": "0",
       "layout": "IPY_MODEL_2c961dd20ec94a08b21e3711cf47e9ba",
       "style": "IPY_MODEL_967f44fef2f241a3b07b8187a5557090"
      }
     },
     "c57ff9154da040328006e6c5b3560907": {
      "model_module": "@jupyter-widgets/controls",
      "model_module_version": "1.5.0",
      "model_name": "ButtonStyleModel",
      "state": {}
     },
     "c5879169f0f74ae9ad8d2bd6c877d903": {
      "model_module": "@jupyter-widgets/base",
      "model_module_version": "1.2.0",
      "model_name": "LayoutModel",
      "state": {}
     },
     "c58ef52ba81b4a368f3fcbbf4b5d699d": {
      "model_module": "@jupyter-widgets/controls",
      "model_module_version": "1.5.0",
      "model_name": "ButtonStyleModel",
      "state": {}
     },
     "c65686d31bb24266ac98697b5f739229": {
      "model_module": "@jupyter-widgets/controls",
      "model_module_version": "1.5.0",
      "model_name": "ButtonModel",
      "state": {
       "description": " / ",
       "layout": "IPY_MODEL_3a344f9e36a347e785ee2b53559205ae",
       "style": "IPY_MODEL_24c71c0a50e548ce919bc010e8fa21dc"
      }
     },
     "c662b3fd08be4301836ffb50022ce808": {
      "model_module": "@jupyter-widgets/base",
      "model_module_version": "1.2.0",
      "model_name": "LayoutModel",
      "state": {}
     },
     "c672f9a632fe4c5987d5780a856f9ba9": {
      "model_module": "@jupyter-widgets/controls",
      "model_module_version": "1.5.0",
      "model_name": "ButtonStyleModel",
      "state": {}
     },
     "c6866d0611f644debfdb715cab14557f": {
      "model_module": "@jupyter-widgets/base",
      "model_module_version": "1.2.0",
      "model_name": "LayoutModel",
      "state": {
       "width": "45px"
      }
     },
     "c6aa2f6b716b483199effdfa309b652b": {
      "model_module": "@jupyter-widgets/base",
      "model_module_version": "1.2.0",
      "model_name": "LayoutModel",
      "state": {
       "width": "45px"
      }
     },
     "c7566ed46cc94b5eaf5f8076d8d8828c": {
      "model_module": "@jupyter-widgets/base",
      "model_module_version": "1.2.0",
      "model_name": "LayoutModel",
      "state": {}
     },
     "c75b402a2b424707b986bb7455e6f9dc": {
      "model_module": "@jupyter-widgets/controls",
      "model_module_version": "1.5.0",
      "model_name": "ButtonStyleModel",
      "state": {}
     },
     "c7665300c42b409ab02769658aa8d529": {
      "model_module": "@jupyter-widgets/base",
      "model_module_version": "1.2.0",
      "model_name": "LayoutModel",
      "state": {
       "width": "45px"
      }
     },
     "c79b984ce4c340bdb78d8ff687706200": {
      "model_module": "@jupyter-widgets/controls",
      "model_module_version": "1.5.0",
      "model_name": "ButtonStyleModel",
      "state": {}
     },
     "c93a5e4a7758406fb19978edf113d483": {
      "model_module": "@jupyter-widgets/controls",
      "model_module_version": "1.5.0",
      "model_name": "ButtonModel",
      "state": {
       "description": "(",
       "layout": "IPY_MODEL_8cd1e2dea94542f492fc97bd31035cd1",
       "style": "IPY_MODEL_332c9e98f64e4452b8c9dc7a556df629"
      }
     },
     "c93b7a96f0384cf5b3da5508d63a36a4": {
      "model_module": "@jupyter-widgets/controls",
      "model_module_version": "1.5.0",
      "model_name": "ButtonStyleModel",
      "state": {}
     },
     "c945695b1b0c404993ab337dde3eccb0": {
      "model_module": "@jupyter-widgets/controls",
      "model_module_version": "1.5.0",
      "model_name": "ButtonModel",
      "state": {
       "description": "=",
       "layout": "IPY_MODEL_8852b944ebdb4231bff7734e0b6b63e2",
       "style": "IPY_MODEL_0bc8e8eabd2140af80e17f19f15e6c7e"
      }
     },
     "c95fc64ed4fc4105a79c22a98973110d": {
      "model_module": "@jupyter-widgets/controls",
      "model_module_version": "1.5.0",
      "model_name": "ButtonStyleModel",
      "state": {}
     },
     "c9a037831eee4b90ad24a9747b31b01a": {
      "model_module": "@jupyter-widgets/controls",
      "model_module_version": "1.5.0",
      "model_name": "ButtonModel",
      "state": {
       "description": ".",
       "layout": "IPY_MODEL_65efb258de7f42b88e526a2c9e61084f",
       "style": "IPY_MODEL_04af93e455d146b4bf74c5a05ce7567d"
      }
     },
     "ca88ff40f5b445f5837043ccf5a6590b": {
      "model_module": "@jupyter-widgets/base",
      "model_module_version": "1.2.0",
      "model_name": "LayoutModel",
      "state": {
       "width": "45px"
      }
     },
     "cacccfb752c14c16a9c238ee355cbed1": {
      "model_module": "@jupyter-widgets/controls",
      "model_module_version": "1.5.0",
      "model_name": "ButtonModel",
      "state": {
       "description": ".",
       "layout": "IPY_MODEL_03f54b7f83484dd1a4e7152538b314b0",
       "style": "IPY_MODEL_c4a76ca7cd6847e7a12f7e320ba8e919"
      }
     },
     "cb4fdfaf84904897b0944895c536c749": {
      "model_module": "@jupyter-widgets/controls",
      "model_module_version": "1.5.0",
      "model_name": "ButtonStyleModel",
      "state": {}
     },
     "cb7f66c45f9042eead1333a139ffd5b4": {
      "model_module": "@jupyter-widgets/controls",
      "model_module_version": "1.5.0",
      "model_name": "ButtonModel",
      "state": {
       "description": "(",
       "layout": "IPY_MODEL_a18546aa19c64391922630b2a822d1a6",
       "style": "IPY_MODEL_5ca3ebfb3b0f4db9a17a6a1aa647a738"
      }
     },
     "cbbc8dd77c8d43b799be38de4e9937ac": {
      "model_module": "@jupyter-widgets/controls",
      "model_module_version": "1.5.0",
      "model_name": "ButtonStyleModel",
      "state": {}
     },
     "cbcb79db6b424ac1b8cc5b5257bc014e": {
      "model_module": "@jupyter-widgets/base",
      "model_module_version": "1.2.0",
      "model_name": "LayoutModel",
      "state": {}
     },
     "cc295f1ed7f94b83b4f1d2f55391eac9": {
      "model_module": "@jupyter-widgets/base",
      "model_module_version": "1.2.0",
      "model_name": "LayoutModel",
      "state": {
       "width": "45px"
      }
     },
     "cc36efbe284d400fbca2f9d342f1cd70": {
      "model_module": "@jupyter-widgets/controls",
      "model_module_version": "1.5.0",
      "model_name": "ButtonStyleModel",
      "state": {}
     },
     "cc43a1840672472db0e2e57479682c0a": {
      "model_module": "@jupyter-widgets/controls",
      "model_module_version": "1.5.0",
      "model_name": "VBoxModel",
      "state": {
       "children": [
        "IPY_MODEL_4d38988fc2324fc98e30648f093dbd5a",
        "IPY_MODEL_05ab6f596c614a78b4dc8f636df10d18",
        "IPY_MODEL_15bf1a33046043cca7ef0b3a581819f9",
        "IPY_MODEL_ddf80c0abdff46a0a4c76db8716f48bc",
        "IPY_MODEL_5783cc5b96f34b6aabfd17f9b4350817",
        "IPY_MODEL_186c390d171f4223bdadd70f17349654"
       ],
       "layout": "IPY_MODEL_74f61177c01a4db39c796239562b89d5"
      }
     },
     "ccd47dbf7e8b4607a6e30c8efd9a03b5": {
      "model_module": "@jupyter-widgets/controls",
      "model_module_version": "1.5.0",
      "model_name": "ButtonStyleModel",
      "state": {}
     },
     "cd78df04701c46df81b2fc8122eda345": {
      "model_module": "@jupyter-widgets/controls",
      "model_module_version": "1.5.0",
      "model_name": "ButtonStyleModel",
      "state": {}
     },
     "cd8d3713a8034da4ba17b1f1b1fcccc6": {
      "model_module": "@jupyter-widgets/controls",
      "model_module_version": "1.5.0",
      "model_name": "ButtonModel",
      "state": {
       "description": ")",
       "layout": "IPY_MODEL_8bde7ba9f6134ff99d2371b66312d887",
       "style": "IPY_MODEL_4b02e84187c34e8daf7bc1ae5c94a3ea"
      }
     },
     "ce2908bab76d436ebb2275c6472f37b5": {
      "model_module": "@jupyter-widgets/controls",
      "model_module_version": "1.5.0",
      "model_name": "DescriptionStyleModel",
      "state": {
       "description_width": ""
      }
     },
     "cf112111b6e1474a89e671ffdb2dfe38": {
      "model_module": "@jupyter-widgets/controls",
      "model_module_version": "1.5.0",
      "model_name": "ButtonStyleModel",
      "state": {}
     },
     "cf8c0fd76ef64c968771ecc0da250ba9": {
      "model_module": "@jupyter-widgets/controls",
      "model_module_version": "1.5.0",
      "model_name": "ButtonModel",
      "state": {
       "description": "=",
       "layout": "IPY_MODEL_fca039fde0e648eb8ba0a378e3604d72",
       "style": "IPY_MODEL_d0a4bcf4cdfd45ca80e481339f296389"
      }
     },
     "cfcfff0d036048a497ad87bacd6a7345": {
      "model_module": "@jupyter-widgets/controls",
      "model_module_version": "1.5.0",
      "model_name": "ButtonStyleModel",
      "state": {}
     },
     "cffbfa761bfe43b68bda04146386d75a": {
      "model_module": "@jupyter-widgets/controls",
      "model_module_version": "1.5.0",
      "model_name": "ButtonStyleModel",
      "state": {}
     },
     "d04a3eb5f2a84f37b7ac14e0e9c24d53": {
      "model_module": "@jupyter-widgets/base",
      "model_module_version": "1.2.0",
      "model_name": "LayoutModel",
      "state": {
       "width": "45px"
      }
     },
     "d06b8134a30440219fb375a520b667d3": {
      "model_module": "@jupyter-widgets/controls",
      "model_module_version": "1.5.0",
      "model_name": "ButtonModel",
      "state": {
       "description": "2",
       "layout": "IPY_MODEL_e8fda3847401418580b65bff22e73c56",
       "style": "IPY_MODEL_b289c9d706274cc79c512c09e3231138"
      }
     },
     "d092a964acd14ca6bea9fecd9c82c260": {
      "model_module": "@jupyter-widgets/base",
      "model_module_version": "1.2.0",
      "model_name": "LayoutModel",
      "state": {
       "width": "45px"
      }
     },
     "d09645d3cfd842dca1a8e2252b1f7308": {
      "model_module": "@jupyter-widgets/controls",
      "model_module_version": "1.5.0",
      "model_name": "ButtonModel",
      "state": {
       "description": "2",
       "layout": "IPY_MODEL_fd8f7149df5145848e92565d4e227537",
       "style": "IPY_MODEL_39b7d74885ee48a6bcca41ffba911d4b"
      }
     },
     "d0a4bcf4cdfd45ca80e481339f296389": {
      "model_module": "@jupyter-widgets/controls",
      "model_module_version": "1.5.0",
      "model_name": "ButtonStyleModel",
      "state": {}
     },
     "d0d6262c2fc94a189d2a37f7400476f9": {
      "model_module": "@jupyter-widgets/controls",
      "model_module_version": "1.5.0",
      "model_name": "ButtonStyleModel",
      "state": {}
     },
     "d11deacb4c6e43e69a21e29304fbfc63": {
      "model_module": "@jupyter-widgets/controls",
      "model_module_version": "1.5.0",
      "model_name": "ButtonStyleModel",
      "state": {}
     },
     "d19a71a9b9e745648e335c82f1e93e7d": {
      "model_module": "@jupyter-widgets/controls",
      "model_module_version": "1.5.0",
      "model_name": "ButtonStyleModel",
      "state": {}
     },
     "d1a17d89861e4f1382e1fb32c1d9fff2": {
      "model_module": "@jupyter-widgets/base",
      "model_module_version": "1.2.0",
      "model_name": "LayoutModel",
      "state": {
       "width": "45px"
      }
     },
     "d1de21a0021349ce8f45851d927fb264": {
      "model_module": "@jupyter-widgets/controls",
      "model_module_version": "1.5.0",
      "model_name": "ButtonStyleModel",
      "state": {}
     },
     "d254a8952cc8473d96c61a1eee85082d": {
      "model_module": "@jupyter-widgets/controls",
      "model_module_version": "1.5.0",
      "model_name": "ButtonStyleModel",
      "state": {}
     },
     "d313a32a6fef430cb4652b9338e4c6f2": {
      "model_module": "@jupyter-widgets/base",
      "model_module_version": "1.2.0",
      "model_name": "LayoutModel",
      "state": {
       "width": "45px"
      }
     },
     "d3696fe5932c45c1828f8567ab7a774b": {
      "model_module": "@jupyter-widgets/controls",
      "model_module_version": "1.5.0",
      "model_name": "ButtonModel",
      "state": {
       "description": "3",
       "layout": "IPY_MODEL_390cca3260524542a5fbd5230546ec60",
       "style": "IPY_MODEL_be459ca9437c4b7d9196ce3ffddfa637"
      }
     },
     "d387234c81b841a997db2172333113aa": {
      "model_module": "@jupyter-widgets/controls",
      "model_module_version": "1.5.0",
      "model_name": "ButtonModel",
      "state": {
       "description": ".",
       "layout": "IPY_MODEL_6f5c5783c381425a92ed3e2a80f1abfc",
       "style": "IPY_MODEL_751180f07e4c4b348336ea31438cc39c"
      }
     },
     "d38fa7fb35a044c7b6f634c382c311db": {
      "model_module": "@jupyter-widgets/base",
      "model_module_version": "1.2.0",
      "model_name": "LayoutModel",
      "state": {
       "width": "45px"
      }
     },
     "d39be0571ff64124b8dba230d32ddee3": {
      "model_module": "@jupyter-widgets/controls",
      "model_module_version": "1.5.0",
      "model_name": "ButtonModel",
      "state": {
       "description": "9",
       "layout": "IPY_MODEL_1238541bf18c4abebe2740e34ec39186",
       "style": "IPY_MODEL_318fcf2fd502406d84565626454e1eea"
      }
     },
     "d3e5825e3d86471ebb0a74d5aeda5365": {
      "model_module": "@jupyter-widgets/base",
      "model_module_version": "1.2.0",
      "model_name": "LayoutModel",
      "state": {
       "width": "45px"
      }
     },
     "d40af5bd4ae445a1af52fdb79b90d342": {
      "model_module": "@jupyter-widgets/controls",
      "model_module_version": "1.5.0",
      "model_name": "ButtonModel",
      "state": {
       "description": "9",
       "layout": "IPY_MODEL_9c8863ee14594f1ca650713dcb0825b3",
       "style": "IPY_MODEL_cd78df04701c46df81b2fc8122eda345"
      }
     },
     "d43084667553453d9ccc4a81bbbcd3af": {
      "model_module": "@jupyter-widgets/controls",
      "model_module_version": "1.5.0",
      "model_name": "ButtonStyleModel",
      "state": {}
     },
     "d5610d71a52e446ca107f9629ec45383": {
      "model_module": "@jupyter-widgets/controls",
      "model_module_version": "1.5.0",
      "model_name": "ButtonStyleModel",
      "state": {}
     },
     "d64827340afe4bde9e5ee1a3d0e66a12": {
      "model_module": "@jupyter-widgets/base",
      "model_module_version": "1.2.0",
      "model_name": "LayoutModel",
      "state": {
       "width": "45px"
      }
     },
     "d6c71215fad6496e8ce2f0f9b8139fc0": {
      "model_module": "@jupyter-widgets/controls",
      "model_module_version": "1.5.0",
      "model_name": "ButtonStyleModel",
      "state": {}
     },
     "d7256c1cb914471f9cfc4e1875efb146": {
      "model_module": "@jupyter-widgets/base",
      "model_module_version": "1.2.0",
      "model_name": "LayoutModel",
      "state": {
       "width": "45px"
      }
     },
     "d80621389cc14d3b86c9b71bd49335bc": {
      "model_module": "@jupyter-widgets/controls",
      "model_module_version": "1.5.0",
      "model_name": "ButtonStyleModel",
      "state": {}
     },
     "d826b29ae78941e5964566a46b1f22ab": {
      "model_module": "@jupyter-widgets/base",
      "model_module_version": "1.2.0",
      "model_name": "LayoutModel",
      "state": {}
     },
     "d834dc6810874daa83649bc2b787409f": {
      "model_module": "@jupyter-widgets/base",
      "model_module_version": "1.2.0",
      "model_name": "LayoutModel",
      "state": {
       "width": "45px"
      }
     },
     "d899ea3df02c43428df5147d8834d8ed": {
      "model_module": "@jupyter-widgets/base",
      "model_module_version": "1.2.0",
      "model_name": "LayoutModel",
      "state": {
       "width": "190px"
      }
     },
     "d8bf75ad3b1a4a2a8537d3ec87653a27": {
      "model_module": "@jupyter-widgets/base",
      "model_module_version": "1.2.0",
      "model_name": "LayoutModel",
      "state": {}
     },
     "d91514f513a0494bac513d4bb04f5531": {
      "model_module": "@jupyter-widgets/base",
      "model_module_version": "1.2.0",
      "model_name": "LayoutModel",
      "state": {
       "width": "45px"
      }
     },
     "d9a5f8adc6934a78b4db8d553d42f447": {
      "model_module": "@jupyter-widgets/base",
      "model_module_version": "1.2.0",
      "model_name": "LayoutModel",
      "state": {}
     },
     "da543668dfc1498ea62fef0d175ea3b3": {
      "model_module": "@jupyter-widgets/controls",
      "model_module_version": "1.5.0",
      "model_name": "HBoxModel",
      "state": {
       "children": [
        "IPY_MODEL_3068f3ad5dcb424fa8a3175e001bb0d3",
        "IPY_MODEL_41288cfc84794eb3990d6b46f14247d8",
        "IPY_MODEL_874450ccac4841948a10f5b78cb07636",
        "IPY_MODEL_48d4183417e24b61ab0608008db3cdad"
       ],
       "layout": "IPY_MODEL_244cb5f9ad8a451ba003e5784d9e7cc2"
      }
     },
     "da83a4bc574b4b038cdd79654fc3de62": {
      "model_module": "@jupyter-widgets/base",
      "model_module_version": "1.2.0",
      "model_name": "LayoutModel",
      "state": {
       "width": "45px"
      }
     },
     "daf1bb2e2c374bba9ca25d7ed2013373": {
      "model_module": "@jupyter-widgets/controls",
      "model_module_version": "1.5.0",
      "model_name": "ButtonStyleModel",
      "state": {}
     },
     "db2a2987715845daa385eb844201c813": {
      "model_module": "@jupyter-widgets/base",
      "model_module_version": "1.2.0",
      "model_name": "LayoutModel",
      "state": {
       "width": "45px"
      }
     },
     "db5d727d9f62466681d4a7f29616fb57": {
      "model_module": "@jupyter-widgets/controls",
      "model_module_version": "1.5.0",
      "model_name": "HBoxModel",
      "state": {
       "children": [
        "IPY_MODEL_7bf2647b95ea4e468a1292ad6c19288e",
        "IPY_MODEL_0d7fa44fab3d4c7b81e45ff0b4c39a1d",
        "IPY_MODEL_0859fc687e8e4590ab1c31fa29266528",
        "IPY_MODEL_8c003ea0817942a68dadb3735e32722e"
       ],
       "layout": "IPY_MODEL_59146b521fe5490f98b70d97eec0bd4b"
      }
     },
     "dcf80072a44b46aaba7e84682d33861c": {
      "model_module": "@jupyter-widgets/controls",
      "model_module_version": "1.5.0",
      "model_name": "ButtonModel",
      "state": {
       "description": "3",
       "layout": "IPY_MODEL_5035f195a63645d1a953c91ee0327405",
       "style": "IPY_MODEL_3c4ffcd6b22a45d2bd9bffbe53dd2cfd"
      }
     },
     "dd31bd4406f1464eb17fa9f9f32a0f40": {
      "model_module": "@jupyter-widgets/controls",
      "model_module_version": "1.5.0",
      "model_name": "HBoxModel",
      "state": {
       "children": [
        "IPY_MODEL_5dd106d841a64185b07aa96269b5eddd",
        "IPY_MODEL_888a3351f79446248b1ce994484d93dc",
        "IPY_MODEL_e24cf6cdec1848c79d7bd20809ead9de",
        "IPY_MODEL_857be86660424415b2b1e4b140bececb"
       ],
       "layout": "IPY_MODEL_4927e0d24d3a4646898b443ebe2fb755"
      }
     },
     "dd559263900549d8a9abb7139b4d4f6c": {
      "model_module": "@jupyter-widgets/base",
      "model_module_version": "1.2.0",
      "model_name": "LayoutModel",
      "state": {}
     },
     "ddf80c0abdff46a0a4c76db8716f48bc": {
      "model_module": "@jupyter-widgets/controls",
      "model_module_version": "1.5.0",
      "model_name": "HBoxModel",
      "state": {
       "children": [
        "IPY_MODEL_64b00a6c53b64b9391fe838390b1d97d",
        "IPY_MODEL_ab37e0a6fcef49d9bcc6063ec450f430",
        "IPY_MODEL_78b5d7a56ed14a2ca9086cad8aa33db6",
        "IPY_MODEL_ecf010276db64d2588bfe1810566ce9a"
       ],
       "layout": "IPY_MODEL_d9a5f8adc6934a78b4db8d553d42f447"
      }
     },
     "ddfa87c36e1b46998287a37408371b20": {
      "model_module": "@jupyter-widgets/controls",
      "model_module_version": "1.5.0",
      "model_name": "ButtonModel",
      "state": {
       "description": " - ",
       "layout": "IPY_MODEL_ef99c3a5851847998d66eaa19bd22669",
       "style": "IPY_MODEL_ab15a862c1a34d2b96997e37301e9522"
      }
     },
     "de2ea07cf8da403ab5a5577ca5f94869": {
      "model_module": "@jupyter-widgets/base",
      "model_module_version": "1.2.0",
      "model_name": "LayoutModel",
      "state": {
       "width": "45px"
      }
     },
     "deb205a453074cd78f6105cef6f64f1b": {
      "model_module": "@jupyter-widgets/controls",
      "model_module_version": "1.5.0",
      "model_name": "ButtonModel",
      "state": {
       "description": " / ",
       "layout": "IPY_MODEL_a79d3a5716654db0bdbf7a2b3f495998",
       "style": "IPY_MODEL_d11deacb4c6e43e69a21e29304fbfc63"
      }
     },
     "dee54930bf114619b78f84113c5bc489": {
      "model_module": "@jupyter-widgets/controls",
      "model_module_version": "1.5.0",
      "model_name": "ButtonStyleModel",
      "state": {}
     },
     "df778d1560034e28b9279f92e12c6d33": {
      "model_module": "@jupyter-widgets/controls",
      "model_module_version": "1.5.0",
      "model_name": "ButtonStyleModel",
      "state": {}
     },
     "dff99e661b104b85b47b894260a09686": {
      "model_module": "@jupyter-widgets/base",
      "model_module_version": "1.2.0",
      "model_name": "LayoutModel",
      "state": {
       "width": "45px"
      }
     },
     "e08a78582a134e37a5ee887fff94eac9": {
      "model_module": "@jupyter-widgets/controls",
      "model_module_version": "1.5.0",
      "model_name": "TextModel",
      "state": {
       "disabled": true,
       "layout": "IPY_MODEL_ecee64a7ed124c5cb504e49ffe072e1d",
       "placeholder": "0",
       "style": "IPY_MODEL_e9434e9b8cdf4809976572efdf316d09"
      }
     },
     "e09bbca36a9d4434b2a3def6e2946a16": {
      "model_module": "@jupyter-widgets/controls",
      "model_module_version": "1.5.0",
      "model_name": "ButtonStyleModel",
      "state": {}
     },
     "e0c16da35cb047c6ad7588df362d1d09": {
      "model_module": "@jupyter-widgets/base",
      "model_module_version": "1.2.0",
      "model_name": "LayoutModel",
      "state": {
       "width": "190px"
      }
     },
     "e0c2f09b01a64022a86de822919e2b1f": {
      "model_module": "@jupyter-widgets/controls",
      "model_module_version": "1.5.0",
      "model_name": "ButtonStyleModel",
      "state": {}
     },
     "e0dfba6cdc0f4ca99e9279430dd8e581": {
      "model_module": "@jupyter-widgets/controls",
      "model_module_version": "1.5.0",
      "model_name": "ButtonModel",
      "state": {
       "description": "0",
       "layout": "IPY_MODEL_89c66d3b807f49feb1778f40fd96c8f0",
       "style": "IPY_MODEL_46d74341d85d483dac43766404219879"
      }
     },
     "e145147a1658428198be3b2128c7c90f": {
      "model_module": "@jupyter-widgets/controls",
      "model_module_version": "1.5.0",
      "model_name": "ButtonStyleModel",
      "state": {}
     },
     "e158bd48cc244c69ba62a912295959a9": {
      "model_module": "@jupyter-widgets/controls",
      "model_module_version": "1.5.0",
      "model_name": "ButtonStyleModel",
      "state": {}
     },
     "e19261327ac046a4afe2c0e53b39d082": {
      "model_module": "@jupyter-widgets/controls",
      "model_module_version": "1.5.0",
      "model_name": "ButtonModel",
      "state": {
       "description": "3",
       "layout": "IPY_MODEL_db2a2987715845daa385eb844201c813",
       "style": "IPY_MODEL_90a80bd470f8496aa762585fac6e49b7"
      }
     },
     "e1ecb1ac75864a24a87593929bd4a30c": {
      "model_module": "@jupyter-widgets/base",
      "model_module_version": "1.2.0",
      "model_name": "LayoutModel",
      "state": {}
     },
     "e24cf6cdec1848c79d7bd20809ead9de": {
      "model_module": "@jupyter-widgets/controls",
      "model_module_version": "1.5.0",
      "model_name": "ButtonModel",
      "state": {
       "description": "6",
       "layout": "IPY_MODEL_ca88ff40f5b445f5837043ccf5a6590b",
       "style": "IPY_MODEL_ccd47dbf7e8b4607a6e30c8efd9a03b5"
      }
     },
     "e2bfbd973b2449a88c4d1ee6e671f36f": {
      "model_module": "@jupyter-widgets/controls",
      "model_module_version": "1.5.0",
      "model_name": "ButtonStyleModel",
      "state": {}
     },
     "e2fa817602454c6d8b4f6fbc58b756b3": {
      "model_module": "@jupyter-widgets/base",
      "model_module_version": "1.2.0",
      "model_name": "LayoutModel",
      "state": {}
     },
     "e3860c0ae82f42b39d7542ae8f83e15a": {
      "model_module": "@jupyter-widgets/base",
      "model_module_version": "1.2.0",
      "model_name": "LayoutModel",
      "state": {
       "width": "45px"
      }
     },
     "e4f7a171b511485c9cc542d5020c1a06": {
      "model_module": "@jupyter-widgets/controls",
      "model_module_version": "1.5.0",
      "model_name": "ButtonModel",
      "state": {
       "description": "5",
       "layout": "IPY_MODEL_7b3da44ce3c441869c0113ae588a0e14",
       "style": "IPY_MODEL_9b716643c8d044b58ac14ba0f9751b5a"
      }
     },
     "e500302c4e244ef78d148633e0fd29cf": {
      "model_module": "@jupyter-widgets/base",
      "model_module_version": "1.2.0",
      "model_name": "LayoutModel",
      "state": {
       "width": "45px"
      }
     },
     "e5311d77551842b8961b8352cd69b113": {
      "model_module": "@jupyter-widgets/controls",
      "model_module_version": "1.5.0",
      "model_name": "ButtonModel",
      "state": {
       "description": "8",
       "layout": "IPY_MODEL_e3860c0ae82f42b39d7542ae8f83e15a",
       "style": "IPY_MODEL_4ff4b3c132524305a2fbf3cfb7debd68"
      }
     },
     "e5670c9de3904388bb74ebe207ca1446": {
      "model_module": "@jupyter-widgets/base",
      "model_module_version": "1.2.0",
      "model_name": "LayoutModel",
      "state": {
       "width": "45px"
      }
     },
     "e5cf2c5975fb455ebc3b15a8cc16c5aa": {
      "model_module": "@jupyter-widgets/controls",
      "model_module_version": "1.5.0",
      "model_name": "ButtonModel",
      "state": {
       "description": "=",
       "layout": "IPY_MODEL_d7256c1cb914471f9cfc4e1875efb146",
       "style": "IPY_MODEL_81ec01d0db4b4fabaf6c50ab12c6ceff"
      }
     },
     "e6721b21c6de48048c38861068972f2f": {
      "model_module": "@jupyter-widgets/base",
      "model_module_version": "1.2.0",
      "model_name": "LayoutModel",
      "state": {
       "width": "45px"
      }
     },
     "e69bb778cc3a4f5b8d44a078a6287b62": {
      "model_module": "@jupyter-widgets/controls",
      "model_module_version": "1.5.0",
      "model_name": "ButtonModel",
      "state": {
       "description": "1",
       "layout": "IPY_MODEL_b78a75afe9184abe8a1e64078ef5e802",
       "style": "IPY_MODEL_48fa5059a3994c8fabca64984498ff91"
      }
     },
     "e6a6a51587324f82b1c92745426c7d3b": {
      "model_module": "@jupyter-widgets/controls",
      "model_module_version": "1.5.0",
      "model_name": "ButtonModel",
      "state": {
       "description": "0",
       "layout": "IPY_MODEL_601be89a189648e0b2cd83547bad5d43",
       "style": "IPY_MODEL_ef7474be359e44c3ab9128a55d722957"
      }
     },
     "e7360f04f88241aab545ba45814fcd03": {
      "model_module": "@jupyter-widgets/controls",
      "model_module_version": "1.5.0",
      "model_name": "ButtonStyleModel",
      "state": {}
     },
     "e86948ca78384810aab66f5da70a0ac9": {
      "model_module": "@jupyter-widgets/base",
      "model_module_version": "1.2.0",
      "model_name": "LayoutModel",
      "state": {
       "width": "45px"
      }
     },
     "e8fda3847401418580b65bff22e73c56": {
      "model_module": "@jupyter-widgets/base",
      "model_module_version": "1.2.0",
      "model_name": "LayoutModel",
      "state": {
       "width": "45px"
      }
     },
     "e9434e9b8cdf4809976572efdf316d09": {
      "model_module": "@jupyter-widgets/controls",
      "model_module_version": "1.5.0",
      "model_name": "DescriptionStyleModel",
      "state": {
       "description_width": ""
      }
     },
     "e959a927d6b8445aafdc6e0aad294f0d": {
      "model_module": "@jupyter-widgets/controls",
      "model_module_version": "1.5.0",
      "model_name": "ButtonStyleModel",
      "state": {}
     },
     "e98cb6dcd91d41448e00922c2e2946d2": {
      "model_module": "@jupyter-widgets/controls",
      "model_module_version": "1.5.0",
      "model_name": "ButtonStyleModel",
      "state": {}
     },
     "e9cffea6b5494aa18e2552e85cca4f55": {
      "model_module": "@jupyter-widgets/controls",
      "model_module_version": "1.5.0",
      "model_name": "HBoxModel",
      "state": {
       "children": [
        "IPY_MODEL_532d233b66194b8aaf51ba21d4cfcf5f",
        "IPY_MODEL_7dd1552fdc84473b9d461881fbb358a6",
        "IPY_MODEL_1dd11731280546f088fd9a985433c3b5",
        "IPY_MODEL_5355917472794c5ba668113008bd8343"
       ],
       "layout": "IPY_MODEL_5d3b952428604d54a37153570acc447d"
      }
     },
     "ea02e1f123fc40b6a93aeafe227d7af9": {
      "model_module": "@jupyter-widgets/controls",
      "model_module_version": "1.5.0",
      "model_name": "ButtonStyleModel",
      "state": {}
     },
     "eaccd4047b8749e7acfbbdd2f483cf05": {
      "model_module": "@jupyter-widgets/controls",
      "model_module_version": "1.5.0",
      "model_name": "ButtonModel",
      "state": {
       "description": ")",
       "layout": "IPY_MODEL_3bea5ec0ddac4a3fb2dcace1d4e63577",
       "style": "IPY_MODEL_13048248531e411cad439079512b457a"
      }
     },
     "ead82de29e4b4d699def33f51dc93534": {
      "model_module": "@jupyter-widgets/controls",
      "model_module_version": "1.5.0",
      "model_name": "HBoxModel",
      "state": {
       "children": [
        "IPY_MODEL_09e5e7560a4141959e9e81ae390bdffc",
        "IPY_MODEL_b667f0d699f8474fa308ea737f256aa5",
        "IPY_MODEL_1cabc13e1870484dbe72653a7b3b4cd8",
        "IPY_MODEL_490237c06c684bb8a1eca27642bdeede"
       ],
       "layout": "IPY_MODEL_abf8d90ae5be4bd88182556ef8270025"
      }
     },
     "eb3f598b448d4023bf95c4ba7e433b1c": {
      "model_module": "@jupyter-widgets/controls",
      "model_module_version": "1.5.0",
      "model_name": "ButtonStyleModel",
      "state": {}
     },
     "ebaf941fe8b34ce4bcd95b8ecab343e0": {
      "model_module": "@jupyter-widgets/controls",
      "model_module_version": "1.5.0",
      "model_name": "HBoxModel",
      "state": {
       "children": [
        "IPY_MODEL_fd32c6960623410f9b29c839fc6b5733",
        "IPY_MODEL_bb59bb38b73e441f93ed4a8ef20913ba",
        "IPY_MODEL_079d3fcfeebc426cb57c883b8667b663",
        "IPY_MODEL_73f3eeb32ca3405683e630923ba9a575"
       ],
       "layout": "IPY_MODEL_858d8c8c03024594b45619260b23dd31"
      }
     },
     "ec4cdcbf12a549698c610fd36ae3400f": {
      "model_module": "@jupyter-widgets/controls",
      "model_module_version": "1.5.0",
      "model_name": "ButtonModel",
      "state": {
       "description": "=",
       "layout": "IPY_MODEL_52eb4a59b1e54f74a5df4b6e1bb12c0e",
       "style": "IPY_MODEL_eb3f598b448d4023bf95c4ba7e433b1c"
      }
     },
     "ecee64a7ed124c5cb504e49ffe072e1d": {
      "model_module": "@jupyter-widgets/base",
      "model_module_version": "1.2.0",
      "model_name": "LayoutModel",
      "state": {
       "width": "190px"
      }
     },
     "ecf010276db64d2588bfe1810566ce9a": {
      "model_module": "@jupyter-widgets/controls",
      "model_module_version": "1.5.0",
      "model_name": "ButtonModel",
      "state": {
       "description": " * ",
       "layout": "IPY_MODEL_7cc15e6bb16f4d40b2a287b9e17a66dd",
       "style": "IPY_MODEL_f513055e469a4c2ebef17082e59b917a"
      }
     },
     "ed009ba10ba244449994139f48d3dc80": {
      "model_module": "@jupyter-widgets/controls",
      "model_module_version": "1.5.0",
      "model_name": "ButtonModel",
      "state": {
       "description": "9",
       "layout": "IPY_MODEL_6701dc8375ac435d862457f9bf6b195b",
       "style": "IPY_MODEL_f80cf76c841b48059ac6c5acba78d44c"
      }
     },
     "ed05a2f8f0d647ddb72ca2adc6583715": {
      "model_module": "@jupyter-widgets/controls",
      "model_module_version": "1.5.0",
      "model_name": "ButtonModel",
      "state": {
       "description": "AC",
       "layout": "IPY_MODEL_291f89be8c0946b68c3c9ed6cf38c759",
       "style": "IPY_MODEL_0cc5bdc68ff043ef9238da6524a7c66a"
      }
     },
     "ed79a83160c84e06ad662b4a7ab09ebf": {
      "model_module": "@jupyter-widgets/base",
      "model_module_version": "1.2.0",
      "model_name": "LayoutModel",
      "state": {
       "width": "45px"
      }
     },
     "ee31aba35ae74cbe97ac5c19fa64112c": {
      "model_module": "@jupyter-widgets/controls",
      "model_module_version": "1.5.0",
      "model_name": "ButtonModel",
      "state": {
       "description": "5",
       "layout": "IPY_MODEL_f09de074d357417396748f9dc642a514",
       "style": "IPY_MODEL_42ead032cc75408d8187acb2e254d4c6"
      }
     },
     "ee5035023ae8406a93e4e8ef2324d749": {
      "model_module": "@jupyter-widgets/base",
      "model_module_version": "1.2.0",
      "model_name": "LayoutModel",
      "state": {}
     },
     "ee7e24524fb645e0b628816b2a23aea9": {
      "model_module": "@jupyter-widgets/base",
      "model_module_version": "1.2.0",
      "model_name": "LayoutModel",
      "state": {}
     },
     "ef7474be359e44c3ab9128a55d722957": {
      "model_module": "@jupyter-widgets/controls",
      "model_module_version": "1.5.0",
      "model_name": "ButtonStyleModel",
      "state": {}
     },
     "ef99c3a5851847998d66eaa19bd22669": {
      "model_module": "@jupyter-widgets/base",
      "model_module_version": "1.2.0",
      "model_name": "LayoutModel",
      "state": {
       "width": "45px"
      }
     },
     "efba6c715e9e4da2ba2e289794cbca33": {
      "model_module": "@jupyter-widgets/base",
      "model_module_version": "1.2.0",
      "model_name": "LayoutModel",
      "state": {
       "width": "45px"
      }
     },
     "eff78df7d6814b9cb50a513bc8252f00": {
      "model_module": "@jupyter-widgets/base",
      "model_module_version": "1.2.0",
      "model_name": "LayoutModel",
      "state": {}
     },
     "f09de074d357417396748f9dc642a514": {
      "model_module": "@jupyter-widgets/base",
      "model_module_version": "1.2.0",
      "model_name": "LayoutModel",
      "state": {
       "width": "45px"
      }
     },
     "f0c4b05c36964449b833f8855d13f964": {
      "model_module": "@jupyter-widgets/base",
      "model_module_version": "1.2.0",
      "model_name": "LayoutModel",
      "state": {
       "width": "45px"
      }
     },
     "f1c6a3dcd0824f04a11600f1e6237568": {
      "model_module": "@jupyter-widgets/base",
      "model_module_version": "1.2.0",
      "model_name": "LayoutModel",
      "state": {
       "width": "45px"
      }
     },
     "f1f498a357a2403e9e0b2215fc723fed": {
      "model_module": "@jupyter-widgets/base",
      "model_module_version": "1.2.0",
      "model_name": "LayoutModel",
      "state": {
       "width": "45px"
      }
     },
     "f21556310f6e4f69a0b3672f874bcd76": {
      "model_module": "@jupyter-widgets/controls",
      "model_module_version": "1.5.0",
      "model_name": "ButtonStyleModel",
      "state": {}
     },
     "f3b0eca61bb642939d6de5208ecfce72": {
      "model_module": "@jupyter-widgets/controls",
      "model_module_version": "1.5.0",
      "model_name": "ButtonModel",
      "state": {
       "description": " + ",
       "layout": "IPY_MODEL_10054f47206043b098a95ffa70a8ba56",
       "style": "IPY_MODEL_27fc577a6b65481cb46c758fc2be2eb2"
      }
     },
     "f4461bf852d742d49aa6b2ef95d5fdca": {
      "model_module": "@jupyter-widgets/base",
      "model_module_version": "1.2.0",
      "model_name": "LayoutModel",
      "state": {
       "width": "45px"
      }
     },
     "f513055e469a4c2ebef17082e59b917a": {
      "model_module": "@jupyter-widgets/controls",
      "model_module_version": "1.5.0",
      "model_name": "ButtonStyleModel",
      "state": {}
     },
     "f538a027dffe4986aefe6b1f517d02d8": {
      "model_module": "@jupyter-widgets/controls",
      "model_module_version": "1.5.0",
      "model_name": "ButtonStyleModel",
      "state": {}
     },
     "f58229eafadb4ced9a788748640ce5e0": {
      "model_module": "@jupyter-widgets/controls",
      "model_module_version": "1.5.0",
      "model_name": "ButtonModel",
      "state": {
       "description": ".",
       "layout": "IPY_MODEL_fbfd486367d24b35a4b2f8d563215b33",
       "style": "IPY_MODEL_7358c7681b02462a9ab8070a6e8cfd8d"
      }
     },
     "f660957b35f54965afa6de774f533a29": {
      "model_module": "@jupyter-widgets/controls",
      "model_module_version": "1.5.0",
      "model_name": "ButtonStyleModel",
      "state": {}
     },
     "f6aef2d2ae7744fc9fb3b26a2bcf9256": {
      "model_module": "@jupyter-widgets/base",
      "model_module_version": "1.2.0",
      "model_name": "LayoutModel",
      "state": {}
     },
     "f74c8a4a65a24c25ad7f7874c6b51118": {
      "model_module": "@jupyter-widgets/base",
      "model_module_version": "1.2.0",
      "model_name": "LayoutModel",
      "state": {
       "width": "45px"
      }
     },
     "f764c53fab0241099da81391711884d4": {
      "model_module": "@jupyter-widgets/controls",
      "model_module_version": "1.5.0",
      "model_name": "ButtonStyleModel",
      "state": {}
     },
     "f7bc246f0afb4c61ad4df5dd37b8d668": {
      "model_module": "@jupyter-widgets/controls",
      "model_module_version": "1.5.0",
      "model_name": "ButtonStyleModel",
      "state": {}
     },
     "f80cf76c841b48059ac6c5acba78d44c": {
      "model_module": "@jupyter-widgets/controls",
      "model_module_version": "1.5.0",
      "model_name": "ButtonStyleModel",
      "state": {}
     },
     "f8941726f36440f49679376210fcdaaf": {
      "model_module": "@jupyter-widgets/base",
      "model_module_version": "1.2.0",
      "model_name": "LayoutModel",
      "state": {
       "width": "45px"
      }
     },
     "f8f1fed71ff54fe3a3850509a62845e5": {
      "model_module": "@jupyter-widgets/base",
      "model_module_version": "1.2.0",
      "model_name": "LayoutModel",
      "state": {
       "width": "45px"
      }
     },
     "f99d8a5989cc4cafbfa26bac0316ef82": {
      "model_module": "@jupyter-widgets/base",
      "model_module_version": "1.2.0",
      "model_name": "LayoutModel",
      "state": {
       "width": "190px"
      }
     },
     "fabc5d258dc145f881f4b8927d75b53b": {
      "model_module": "@jupyter-widgets/controls",
      "model_module_version": "1.5.0",
      "model_name": "ButtonStyleModel",
      "state": {}
     },
     "fb53dab7cf294eeaa76308490b2631d8": {
      "model_module": "@jupyter-widgets/base",
      "model_module_version": "1.2.0",
      "model_name": "LayoutModel",
      "state": {
       "width": "45px"
      }
     },
     "fb61013e06234d3298a0365aa8fb6977": {
      "model_module": "@jupyter-widgets/controls",
      "model_module_version": "1.5.0",
      "model_name": "DescriptionStyleModel",
      "state": {
       "description_width": ""
      }
     },
     "fbfd486367d24b35a4b2f8d563215b33": {
      "model_module": "@jupyter-widgets/base",
      "model_module_version": "1.2.0",
      "model_name": "LayoutModel",
      "state": {
       "width": "45px"
      }
     },
     "fca039fde0e648eb8ba0a378e3604d72": {
      "model_module": "@jupyter-widgets/base",
      "model_module_version": "1.2.0",
      "model_name": "LayoutModel",
      "state": {
       "width": "45px"
      }
     },
     "fd0caed54fe64381a4401f496330a423": {
      "model_module": "@jupyter-widgets/controls",
      "model_module_version": "1.5.0",
      "model_name": "ButtonStyleModel",
      "state": {}
     },
     "fd32c6960623410f9b29c839fc6b5733": {
      "model_module": "@jupyter-widgets/controls",
      "model_module_version": "1.5.0",
      "model_name": "ButtonModel",
      "state": {
       "description": "(",
       "layout": "IPY_MODEL_9e094640ac114246966d9333c60df2e4",
       "style": "IPY_MODEL_642a691be15f4ef09bb112ae33538cb3"
      }
     },
     "fd4544a6783b454a904a9d3d08407520": {
      "model_module": "@jupyter-widgets/base",
      "model_module_version": "1.2.0",
      "model_name": "LayoutModel",
      "state": {
       "width": "45px"
      }
     },
     "fd8f7149df5145848e92565d4e227537": {
      "model_module": "@jupyter-widgets/base",
      "model_module_version": "1.2.0",
      "model_name": "LayoutModel",
      "state": {
       "width": "45px"
      }
     },
     "fe2e855f3a194e5daba88fb4a3c194bd": {
      "model_module": "@jupyter-widgets/controls",
      "model_module_version": "1.5.0",
      "model_name": "ButtonStyleModel",
      "state": {}
     },
     "fe3d17f6e337472fa17704c234e52114": {
      "model_module": "@jupyter-widgets/controls",
      "model_module_version": "1.5.0",
      "model_name": "ButtonModel",
      "state": {
       "description": "1",
       "layout": "IPY_MODEL_0831e7bff049494ea2c9eb911c683144",
       "style": "IPY_MODEL_a8a404fd639b4d0f8037a5024ec79b58"
      }
     },
     "fe41e5b186664df2a946450d4e4cce0a": {
      "model_module": "@jupyter-widgets/controls",
      "model_module_version": "1.5.0",
      "model_name": "ButtonStyleModel",
      "state": {}
     },
     "ff1ab355164b43c496c1fc1c9b54a485": {
      "model_module": "@jupyter-widgets/controls",
      "model_module_version": "1.5.0",
      "model_name": "ButtonModel",
      "state": {
       "description": "AC",
       "layout": "IPY_MODEL_7a2d6c7ec61d43509627eaa5ffc260bc",
       "style": "IPY_MODEL_1a5becbbf76b4c6ab74c987b12c9cad5"
      }
     },
     "ffc4ea82d1b14bcca27842a8eb128ae0": {
      "model_module": "@jupyter-widgets/controls",
      "model_module_version": "1.5.0",
      "model_name": "ButtonModel",
      "state": {
       "description": ".",
       "layout": "IPY_MODEL_8133dd1f64fc49a2ba034990f79d6308",
       "style": "IPY_MODEL_20bd1121194c4f938ed7ef75e79f598b"
      }
     },
     "ffcc3ed119c24126a075181b5105ab75": {
      "model_module": "@jupyter-widgets/controls",
      "model_module_version": "1.5.0",
      "model_name": "ButtonModel",
      "state": {
       "description": " / ",
       "layout": "IPY_MODEL_43b39effdb064bccb56342de7c123215",
       "style": "IPY_MODEL_f764c53fab0241099da81391711884d4"
      }
     }
    },
    "version_major": 2,
    "version_minor": 0
   }
  }
 },
 "nbformat": 4,
 "nbformat_minor": 4
}
