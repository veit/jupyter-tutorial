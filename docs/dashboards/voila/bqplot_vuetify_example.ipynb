{
 "cells": [
  {
   "cell_type": "markdown",
   "metadata": {},
   "source": [
    "# `bqplot_vuetify_example.ipynb`"
   ]
  },
  {
   "cell_type": "markdown",
   "metadata": {},
   "source": [
    "## Import"
   ]
  },
  {
   "cell_type": "code",
   "execution_count": 1,
   "metadata": {},
   "outputs": [],
   "source": [
    "import ipyvuetify as v"
   ]
  },
  {
   "cell_type": "markdown",
   "metadata": {},
   "source": [
    "## First histogram plot"
   ]
  },
  {
   "cell_type": "code",
   "execution_count": 2,
   "metadata": {},
   "outputs": [
    {
     "data": {
      "application/vnd.jupyter.widget-view+json": {
       "model_id": "8374dfa8286541c9ae79487324ee2468",
       "version_major": 2,
       "version_minor": 0
      },
      "text/plain": [
       "Figure(axes=[Axis(orientation='vertical', scale=LinearScale()), Axis(scale=LinearScale(max=147.0, min=-75.0))]…"
      ]
     },
     "metadata": {},
     "output_type": "display_data"
    }
   ],
   "source": [
    "import bqplot\n",
    "import ipywidgets as widgets\n",
    "import numpy as np\n",
    "\n",
    "from bqplot import pyplot as plt\n",
    "\n",
    "\n",
    "n = 200\n",
    "\n",
    "x = np.linspace(0.0, 10.0, n)\n",
    "y = np.cumsum(np.random.randn(n) * 10).astype(int)\n",
    "\n",
    "fig = plt.figure(title=\"Histogram\")\n",
    "np.random.seed(0)\n",
    "hist = plt.hist(y, bins=25)\n",
    "hist.scales[\"sample\"].min = float(y.min())\n",
    "hist.scales[\"sample\"].max = float(y.max())\n",
    "fig.layout.width = \"auto\"\n",
    "fig.layout.height = \"auto\"\n",
    "fig.layout.min_height = \"300px\"  # so it shows nicely in the notebook\n",
    "fig"
   ]
  },
  {
   "cell_type": "markdown",
   "metadata": {},
   "source": [
    "## Slider"
   ]
  },
  {
   "cell_type": "code",
   "execution_count": 3,
   "metadata": {},
   "outputs": [
    {
     "data": {
      "application/vnd.jupyter.widget-view+json": {
       "model_id": "6b17046f95124334beff5e9bcb3d20a2",
       "version_major": 2,
       "version_minor": 0
      },
      "text/plain": [
       "Slider(class_='px-4', layout=None, thumb_label='always', v_model=30)"
      ]
     },
     "metadata": {},
     "output_type": "display_data"
    }
   ],
   "source": [
    "slider = v.Slider(thumb_label=\"always\", class_=\"px-4\", v_model=30)\n",
    "widgets.link((slider, \"v_model\"), (hist, \"bins\"))\n",
    "slider"
   ]
  },
  {
   "cell_type": "markdown",
   "metadata": {},
   "source": [
    "## Line chart"
   ]
  },
  {
   "cell_type": "code",
   "execution_count": 4,
   "metadata": {},
   "outputs": [
    {
     "data": {
      "application/vnd.jupyter.widget-view+json": {
       "model_id": "5d201d4ddaba4bd08a5ac308ba81b246",
       "version_major": 2,
       "version_minor": 0
      },
      "text/plain": [
       "Figure(axes=[Axis(scale=LinearScale()), Axis(orientation='vertical', scale=LinearScale())], fig_margin={'top':…"
      ]
     },
     "metadata": {},
     "output_type": "display_data"
    }
   ],
   "source": [
    "fig2 = plt.figure(title=\"Line Chart\")\n",
    "np.random.seed(0)\n",
    "p = plt.plot(x, y)\n",
    "\n",
    "fig2.layout.width = \"auto\"\n",
    "fig2.layout.height = \"auto\"\n",
    "fig2.layout.min_height = \"300px\"  # so it shows nicely in the notebook\n",
    "\n",
    "fig2"
   ]
  },
  {
   "cell_type": "markdown",
   "metadata": {},
   "source": [
    "## Add `BrushIntervalSelector`"
   ]
  },
  {
   "cell_type": "code",
   "execution_count": 5,
   "metadata": {},
   "outputs": [],
   "source": [
    "brushintsel = bqplot.interacts.BrushIntervalSelector(scale=p.scales[\"x\"])\n",
    "\n",
    "\n",
    "def update_range(*args):\n",
    "    if brushintsel.selected is not None and brushintsel.selected.shape == (2,):\n",
    "        mask = (x > brushintsel.selected[0]) & (x < brushintsel.selected[1])\n",
    "        hist.sample = y[mask]\n",
    "\n",
    "\n",
    "brushintsel.observe(update_range, \"selected\")\n",
    "fig2.interaction = brushintsel"
   ]
  },
  {
   "cell_type": "markdown",
   "metadata": {},
   "source": [
    "## Second histogram plot"
   ]
  },
  {
   "cell_type": "code",
   "execution_count": 6,
   "metadata": {},
   "outputs": [
    {
     "data": {
      "application/vnd.jupyter.widget-view+json": {
       "model_id": "2f33d2886dc641738f70b48794f1b1c5",
       "version_major": 2,
       "version_minor": 0
      },
      "text/plain": [
       "Figure(axes=[Axis(orientation='vertical', scale=LinearScale()), Axis(scale=LinearScale(max=205.0, min=-37.0))]…"
      ]
     },
     "metadata": {},
     "output_type": "display_data"
    },
    {
     "data": {
      "application/vnd.jupyter.widget-view+json": {
       "model_id": "c5d7ad8bfbec4762b55c0905dc26faae",
       "version_major": 2,
       "version_minor": 0
      },
      "text/plain": [
       "Slider(class_='px-4', layout=None, thumb_label='always', v_model=5)"
      ]
     },
     "metadata": {},
     "output_type": "display_data"
    }
   ],
   "source": [
    "n2 = 200\n",
    "\n",
    "x2 = np.linspace(0.0, 10.0, n)\n",
    "y2 = np.cumsum(np.random.randn(n) * 10).astype(int)\n",
    "\n",
    "figHist2 = plt.figure(title=\"Histogram 2\")\n",
    "np.random.seed(0)\n",
    "hist2 = plt.hist(y2, bins=25)\n",
    "hist2.scales[\"sample\"].min = float(y2.min())\n",
    "hist2.scales[\"sample\"].max = float(y2.max())\n",
    "figHist2.layout.width = \"auto\"\n",
    "figHist2.layout.height = \"auto\"\n",
    "figHist2.layout.min_height = \"300px\"  # so it shows nicely in the notebook\n",
    "\n",
    "sliderHist2 = v.Slider(\n",
    "    _metadata={\"mount_id\": \"histogram_bins2\"},\n",
    "    thumb_label=\"always\",\n",
    "    class_=\"px-4\",\n",
    "    v_model=5,\n",
    ")\n",
    "from traitlets import link\n",
    "\n",
    "\n",
    "link((sliderHist2, \"v_model\"), (hist2, \"bins\"))\n",
    "\n",
    "\n",
    "display(figHist2)\n",
    "display(sliderHist2)"
   ]
  },
  {
   "cell_type": "markdown",
   "metadata": {},
   "source": [
    "## Set up voilà vuetify layout\n",
    "\n",
    "The Voila vuetify template does not show the output of the Jupyter Notebook, only the widget with the `mount_id` metadata."
   ]
  },
  {
   "cell_type": "code",
   "execution_count": 7,
   "metadata": {
    "scrolled": true
   },
   "outputs": [
    {
     "data": {
      "application/vnd.jupyter.widget-view+json": {
       "model_id": "690f12534c2c44828eb13890671a73e6",
       "version_major": 2,
       "version_minor": 0
      },
      "text/plain": [
       "Tabs(children=[Tab(children=['Tab1'], layout=None), Tab(children=['Tab2'], layout=None), TabItem(children=[Lay…"
      ]
     },
     "metadata": {},
     "output_type": "display_data"
    }
   ],
   "source": [
    "v.Tabs(\n",
    "    _metadata={\"mount_id\": \"content-main\"},\n",
    "    children=[\n",
    "        v.Tab(children=[\"Tab1\"]),\n",
    "        v.Tab(children=[\"Tab2\"]),\n",
    "        v.TabItem(\n",
    "            children=[\n",
    "                v.Layout(\n",
    "                    row=True,\n",
    "                    wrap=True,\n",
    "                    align_center=True,\n",
    "                    children=[\n",
    "                        v.Flex(\n",
    "                            xs12=True,\n",
    "                            lg6=True,\n",
    "                            xl4=True,\n",
    "                            children=[fig, slider],\n",
    "                        ),\n",
    "                        v.Flex(\n",
    "                            xs12=True,\n",
    "                            lg6=True,\n",
    "                            xl4=True,\n",
    "                            children=[figHist2, sliderHist2],\n",
    "                        ),\n",
    "                        v.Flex(xs12=True, xl4=True, children=[fig2]),\n",
    "                    ],\n",
    "                )\n",
    "            ]\n",
    "        ),\n",
    "        v.TabItem(children=[v.Container(children=[\"Lorum ipsum\"])]),\n",
    "    ],\n",
    ")"
   ]
  }
 ],
 "metadata": {
  "kernelspec": {
   "display_name": "Python 3.11 Kernel",
   "language": "python",
   "name": "python311"
  },
  "language_info": {
   "codemirror_mode": {
    "name": "ipython",
    "version": 3
   },
   "file_extension": ".py",
   "mimetype": "text/x-python",
   "name": "python",
   "nbconvert_exporter": "python",
   "pygments_lexer": "ipython3",
   "version": "3.11.4"
  },
  "latex_envs": {
   "LaTeX_envs_menu_present": true,
   "autoclose": false,
   "autocomplete": true,
   "bibliofile": "biblio.bib",
   "cite_by": "apalike",
   "current_citInitial": 1,
   "eqLabelWithNumbers": true,
   "eqNumInitial": 1,
   "hotkeys": {
    "equation": "Ctrl-E",
    "itemize": "Ctrl-I"
   },
   "labels_anchors": false,
   "latex_user_defs": false,
   "report_style_numbering": false,
   "user_envs_cfg": false
  },
  "varInspector": {
   "cols": {
    "lenName": 16,
    "lenType": 16,
    "lenVar": 40
   },
   "kernels_config": {
    "python": {
     "delete_cmd_postfix": "",
     "delete_cmd_prefix": "del ",
     "library": "var_list.py",
     "varRefreshCmd": "print(var_dic_list())"
    },
    "r": {
     "delete_cmd_postfix": ") ",
     "delete_cmd_prefix": "rm(",
     "library": "var_list.r",
     "varRefreshCmd": "cat(var_dic_list()) "
    }
   },
   "types_to_exclude": [
    "module",
    "function",
    "builtin_function_or_method",
    "instance",
    "_Feature"
   ],
   "window_display": false
  },
  "widgets": {
   "application/vnd.jupyter.widget-state+json": {
    "state": {
     "020719a50a4e46329dbd9bdbe8fc77a9": {
      "model_module": "jupyter-vuetify",
      "model_module_version": "^1.0.4",
      "model_name": "LayoutModel",
      "state": {
       "_events": [],
       "_jupyter_vue": "IPY_MODEL_ced627e2cd47411fb3e57245d1285e0c",
       "align_center": true,
       "attributes": {},
       "children": [
        "IPY_MODEL_028541af49ef4d9996fe2ef7274d2c93",
        "IPY_MODEL_f9143d41a1dd4e3a8da0fb088df01a52",
        "IPY_MODEL_ed2992d89fb44a11bcd4cf14a410f9d9"
       ],
       "layout": "IPY_MODEL_c2b58f9898874fa797a6f6c45d0cc876",
       "row": true,
       "v_slots": [],
       "wrap": true
      }
     },
     "028541af49ef4d9996fe2ef7274d2c93": {
      "model_module": "jupyter-vuetify",
      "model_module_version": "^1.0.4",
      "model_name": "FlexModel",
      "state": {
       "_events": [],
       "_jupyter_vue": "IPY_MODEL_ced627e2cd47411fb3e57245d1285e0c",
       "attributes": {},
       "children": [
        "IPY_MODEL_b6b4dc021fb14f92bab8ea8865e36d12",
        "IPY_MODEL_41366e97aa2e4b919bd970fd28653876"
       ],
       "layout": "IPY_MODEL_ed70a3031bd54075ad7c52e044465ea3",
       "lg6": true,
       "v_slots": [],
       "xl4": true,
       "xs12": true
      }
     },
     "02f46d6e710c4d2caca0ed0832ac049d": {
      "model_module": "@jupyter-widgets/base",
      "model_module_version": "1.2.0",
      "model_name": "LayoutModel",
      "state": {}
     },
     "058be7b8e9804bb9bc6210ed2ad8350a": {
      "model_module": "bqplot",
      "model_module_version": "^0.4.8",
      "model_name": "HistModel",
      "state": {
       "bins": 5,
       "count": {
        "type": "float",
        "values": [
         27,
         27,
         51,
         36,
         59
        ]
       },
       "display_legend": false,
       "midpoints": [
        -12.8,
        35.599999999999994,
        84,
        132.39999999999998,
        180.8
       ],
       "sample": {
        "type": "float",
        "values": [
         17,
         21,
         31,
         53,
         72,
         62,
         72,
         70,
         69,
         73,
         75,
         89,
         97,
         98,
         103,
         106,
         121,
         119,
         122,
         113,
         88,
         94,
         103,
         96,
         118,
         104,
         104,
         102,
         118,
         132,
         134,
         138,
         129,
         109,
         106,
         107,
         119,
         131,
         128,
         125,
         114,
         100,
         83,
         102,
         97,
         93,
         80,
         88,
         72,
         70,
         61,
         65,
         60,
         48,
         47,
         52,
         52,
         55,
         49,
         46,
         39,
         35,
         27,
         10,
         12,
         8,
         -8,
         -3,
         -12,
         -12,
         -4,
         -3,
         7,
         -4,
         0,
         -7,
         -16,
         -21,
         -24,
         -24,
         -36,
         -27,
         -22,
         -37,
         -22,
         -3,
         7,
         6,
         -4,
         5,
         1,
         14,
         16,
         25,
         29,
         36,
         36,
         54,
         55,
         59,
         78,
         65,
         52,
         62,
         50,
         69,
         65,
         58,
         77,
         92,
         110,
         120,
         111,
         130,
         127,
         135,
         145,
         143,
         149,
         159,
         162,
         151,
         154,
         168,
         161,
         159,
         155,
         173,
         180,
         184,
         176,
         182,
         175,
         175,
         169,
         176,
         182,
         180,
         183,
         173,
         158,
         162,
         164,
         170,
         194,
         203,
         194,
         205,
         192,
         188,
         187,
         204,
         197,
         188,
         187,
         181,
         192,
         181,
         170,
         165,
         160,
         180,
         189,
         190,
         178,
         186,
         176,
         161,
         173,
         176,
         185,
         188,
         197,
         190,
         180,
         187,
         179,
         172,
         167,
         167,
         164,
         150,
         144,
         121,
         128,
         112,
         101,
         101,
         94,
         109,
         96,
         99,
         99,
         87,
         92,
         90,
         98,
         106,
         128,
         141
        ]
       },
       "scales": {
        "count": "IPY_MODEL_33bd912134784f388fc2d05962bd117f",
        "sample": "IPY_MODEL_0a021a1ce5e540b1b4ebaddaa69afe7e"
       },
       "selected": []
      }
     },
     "0a021a1ce5e540b1b4ebaddaa69afe7e": {
      "model_module": "bqplot",
      "model_module_version": "^0.4.8",
      "model_name": "LinearScaleModel",
      "state": {
       "max": 205,
       "min": -37,
       "stabilized": false
      }
     },
     "0c3102121c6c4244b599d9b50021137d": {
      "model_module": "jupyter-vuetify",
      "model_module_version": "^1.0.4",
      "model_name": "TabModel",
      "state": {
       "_events": [],
       "_jupyter_vue": "IPY_MODEL_ced627e2cd47411fb3e57245d1285e0c",
       "attributes": {},
       "children": [
        "Tab2"
       ],
       "href": null,
       "layout": "IPY_MODEL_a10baf27253546e69be80344863b8bb9",
       "ripple": null,
       "to": null,
       "v_slots": []
      }
     },
     "0c3bca5e454a4c4daa40026e95489625": {
      "model_module": "@jupyter-widgets/base",
      "model_module_version": "1.2.0",
      "model_name": "LayoutModel",
      "state": {
       "height": "auto",
       "min_height": "300px",
       "width": "auto"
      }
     },
     "1365059878864a50ac6b5328335b7e85": {
      "model_module": "@jupyter-widgets/base",
      "model_module_version": "1.2.0",
      "model_name": "LayoutModel",
      "state": {}
     },
     "152a42423f974e2cb4ad02a62555e55f": {
      "model_module": "jupyter-vuetify",
      "model_module_version": "^1.0.4",
      "model_name": "TabItemModel",
      "state": {
       "_events": [],
       "_jupyter_vue": "IPY_MODEL_ced627e2cd47411fb3e57245d1285e0c",
       "attributes": {},
       "children": [
        "IPY_MODEL_020719a50a4e46329dbd9bdbe8fc77a9"
       ],
       "layout": "IPY_MODEL_cb92fbfaac314adf80cb6291d2c651ab",
       "reverse_transition": null,
       "transition": null,
       "v_slots": []
      }
     },
     "218d8cb6619144dda77e6d2374352015": {
      "model_module": "bqplot",
      "model_module_version": "^0.4.8",
      "model_name": "LinearScaleModel",
      "state": {
       "stabilized": false
      }
     },
     "29abdd487acb4c89b36ecfa9f2e9c632": {
      "model_module": "jupyter-vuetify",
      "model_module_version": "^1.0.4",
      "model_name": "TabModel",
      "state": {
       "_events": [],
       "_jupyter_vue": "IPY_MODEL_ced627e2cd47411fb3e57245d1285e0c",
       "attributes": {},
       "children": [
        "Tab1"
       ],
       "href": null,
       "layout": "IPY_MODEL_a3ee805364484ba6ab0f477fd98178ab",
       "ripple": null,
       "to": null,
       "v_slots": []
      }
     },
     "2a3bfde158144caebbc76dc6f55c6eb6": {
      "model_module": "jupyter-vuetify",
      "model_module_version": "^1.0.4",
      "model_name": "SliderModel",
      "state": {
       "_events": [],
       "_jupyter_vue": "IPY_MODEL_ced627e2cd47411fb3e57245d1285e0c",
       "_metadata": {
        "mount_id": "histogram_bins2"
       },
       "attributes": {},
       "children": [],
       "class_": "px-4",
       "error_count": null,
       "error_messages": null,
       "height": null,
       "layout": "IPY_MODEL_1365059878864a50ac6b5328335b7e85",
       "loader_height": null,
       "loading": null,
       "max": null,
       "messages": null,
       "min": null,
       "rules": [],
       "step": null,
       "success_messages": null,
       "thumb_label": "always",
       "thumb_size": null,
       "tick_labels": [],
       "tick_size": null,
       "ticks": null,
       "v_model": 5,
       "v_slots": [],
       "value": null
      }
     },
     "2cbff228944f4190b4fd76be2740acbe": {
      "model_module": "bqplot",
      "model_module_version": "^0.4.8",
      "model_name": "LinearScaleModel",
      "state": {
       "stabilized": false
      }
     },
     "2ec1c02239234cbab0461774ab553bec": {
      "model_module": "bqplot",
      "model_module_version": "^0.4.8",
      "model_name": "LinesModel",
      "state": {
       "color": {
        "type": null,
        "values": null
       },
       "display_legend": false,
       "fill_colors": [],
       "labels": [
        "C1"
       ],
       "scales": {
        "x": "IPY_MODEL_99b7ddf46f7547ac8da1343af3a5bb7c",
        "y": "IPY_MODEL_218d8cb6619144dda77e6d2374352015"
       },
       "selected": [],
       "x": {
        "type": "float",
        "values": [
         0,
         0.05025125628140704,
         0.10050251256281408,
         0.15075376884422112,
         0.20100502512562815,
         0.2512562814070352,
         0.30150753768844224,
         0.35175879396984927,
         0.4020100502512563,
         0.45226130653266333,
         0.5025125628140704,
         0.5527638190954774,
         0.6030150753768845,
         0.6532663316582915,
         0.7035175879396985,
         0.7537688442211056,
         0.8040201005025126,
         0.8542713567839196,
         0.9045226130653267,
         0.9547738693467337,
         1.0050251256281408,
         1.0552763819095479,
         1.105527638190955,
         1.155778894472362,
         1.206030150753769,
         1.256281407035176,
         1.306532663316583,
         1.35678391959799,
         1.407035175879397,
         1.4572864321608041,
         1.5075376884422111,
         1.5577889447236182,
         1.6080402010050252,
         1.6582914572864322,
         1.7085427135678393,
         1.7587939698492463,
         1.8090452261306533,
         1.8592964824120604,
         1.9095477386934674,
         1.9597989949748744,
         2.0100502512562817,
         2.0603015075376887,
         2.1105527638190957,
         2.1608040201005028,
         2.21105527638191,
         2.261306532663317,
         2.311557788944724,
         2.361809045226131,
         2.412060301507538,
         2.462311557788945,
         2.512562814070352,
         2.562814070351759,
         2.613065326633166,
         2.663316582914573,
         2.71356783919598,
         2.763819095477387,
         2.814070351758794,
         2.864321608040201,
         2.9145728643216082,
         2.9648241206030153,
         3.0150753768844223,
         3.0653266331658293,
         3.1155778894472363,
         3.1658291457286434,
         3.2160804020100504,
         3.2663316582914574,
         3.3165829145728645,
         3.3668341708542715,
         3.4170854271356785,
         3.4673366834170856,
         3.5175879396984926,
         3.5678391959798996,
         3.6180904522613067,
         3.6683417085427137,
         3.7185929648241207,
         3.7688442211055277,
         3.819095477386935,
         3.869346733668342,
         3.919597989949749,
         3.969849246231156,
         4.020100502512563,
         4.07035175879397,
         4.120603015075377,
         4.170854271356784,
         4.2211055276381915,
         4.2713567839195985,
         4.3216080402010055,
         4.371859296482413,
         4.42211055276382,
         4.472361809045227,
         4.522613065326634,
         4.572864321608041,
         4.623115577889448,
         4.673366834170855,
         4.723618090452262,
         4.773869346733669,
         4.824120603015076,
         4.874371859296483,
         4.92462311557789,
         4.974874371859297,
         5.025125628140704,
         5.075376884422111,
         5.125628140703518,
         5.175879396984925,
         5.226130653266332,
         5.276381909547739,
         5.326633165829146,
         5.376884422110553,
         5.42713567839196,
         5.477386934673367,
         5.527638190954774,
         5.577889447236181,
         5.628140703517588,
         5.678391959798995,
         5.728643216080402,
         5.778894472361809,
         5.8291457286432165,
         5.8793969849246235,
         5.9296482412060305,
         5.9798994974874375,
         6.030150753768845,
         6.080402010050252,
         6.130653266331659,
         6.180904522613066,
         6.231155778894473,
         6.28140703517588,
         6.331658291457287,
         6.381909547738694,
         6.432160804020101,
         6.482412060301508,
         6.532663316582915,
         6.582914572864322,
         6.633165829145729,
         6.683417085427136,
         6.733668341708543,
         6.78391959798995,
         6.834170854271357,
         6.884422110552764,
         6.934673366834171,
         6.984924623115578,
         7.035175879396985,
         7.085427135678392,
         7.135678391959799,
         7.185929648241206,
         7.236180904522613,
         7.28643216080402,
         7.336683417085427,
         7.386934673366834,
         7.437185929648241,
         7.4874371859296485,
         7.5376884422110555,
         7.5879396984924625,
         7.63819095477387,
         7.688442211055277,
         7.738693467336684,
         7.788944723618091,
         7.839195979899498,
         7.889447236180905,
         7.939698492462312,
         7.989949748743719,
         8.040201005025127,
         8.090452261306533,
         8.14070351758794,
         8.190954773869347,
         8.241206030150755,
         8.291457286432161,
         8.341708542713569,
         8.391959798994975,
         8.442211055276383,
         8.492462311557789,
         8.542713567839197,
         8.592964824120603,
         8.643216080402011,
         8.693467336683417,
         8.743718592964825,
         8.793969849246231,
         8.84422110552764,
         8.894472361809045,
         8.944723618090453,
         8.99497487437186,
         9.045226130653267,
         9.095477386934673,
         9.145728643216081,
         9.195979899497488,
         9.246231155778895,
         9.296482412060302,
         9.34673366834171,
         9.396984924623116,
         9.447236180904524,
         9.49748743718593,
         9.547738693467338,
         9.597989949748744,
         9.648241206030152,
         9.698492462311558,
         9.748743718592966,
         9.798994974874372,
         9.84924623115578,
         9.899497487437186,
         9.949748743718594,
         10
        ]
       },
       "y": {
        "type": "float",
        "values": [
         6,
         5,
         9,
         6,
         24,
         33,
         41,
         35,
         38,
         22,
         19,
         28,
         15,
         7,
         13,
         -3,
         -31,
         -43,
         -32,
         -42,
         -30,
         -43,
         -40,
         -37,
         -30,
         -37,
         -46,
         -56,
         -68,
         -74,
         -64,
         -68,
         -65,
         -52,
         -39,
         -37,
         -42,
         -39,
         -23,
         -35,
         -42,
         -31,
         -31,
         -25,
         -18,
         -24,
         -39,
         -11,
         2,
         3,
         -3,
         0,
         -8,
         -17,
         -6,
         -10,
         -3,
         24,
         36,
         38,
         44,
         44,
         60,
         57,
         35,
         37,
         24,
         22,
         14,
         21,
         19,
         24,
         34,
         43,
         38,
         53,
         29,
         42,
         39,
         31,
         6,
         3,
         8,
         0,
         14,
         16,
         20,
         15,
         22,
         28,
         24,
         28,
         22,
         9,
         2,
         -5,
         -2,
         7,
         13,
         2,
         1,
         6,
         12,
         24,
         36,
         46,
         51,
         59,
         68,
         63,
         83,
         101,
         98,
         92,
         94,
         95,
         88,
         112,
         118,
         130,
         139,
         156,
         149,
         141,
         137,
         138,
         126,
         111,
         112,
         108,
         99,
         97,
         80,
         51,
         61,
         60,
         61,
         55,
         71,
         65,
         41,
         46,
         24,
         16,
         16,
         15,
         14,
         12,
         10,
         22,
         17,
         18,
         13,
         18,
         26,
         34,
         28,
         16,
         11,
         5,
         -1,
         -15,
         -5,
         9,
         13,
         13,
         5,
         11,
         24,
         29,
         20,
         16,
         15,
         18,
         13,
         23,
         21,
         17,
         35,
         46,
         37,
         34,
         23,
         28,
         30,
         28,
         21,
         24,
         27,
         30,
         22,
         17,
         24,
         24,
         39,
         37,
         37,
         32,
         21,
         14
        ]
       }
      }
     },
     "2f68e192e1e74cd687f8968c16e4470b": {
      "model_module": "bqplot",
      "model_module_version": "^0.4.8",
      "model_name": "LinearScaleModel",
      "state": {
       "allow_padding": false,
       "max": 1,
       "min": 0,
       "stabilized": false
      }
     },
     "333e763ed3844e2cac3f04f4225ae137": {
      "model_module": "bqplot",
      "model_module_version": "^0.4.8",
      "model_name": "FigureModel",
      "state": {
       "_dom_classes": [],
       "axes": [
        "IPY_MODEL_c4fd1d18c3114a1494504d7ab69fbef8",
        "IPY_MODEL_4eddee62a2ad4139a1e76af38c3e1009"
       ],
       "interaction": "IPY_MODEL_83456b0911554eae93ea7b3668e3f8cf",
       "layout": "IPY_MODEL_0c3bca5e454a4c4daa40026e95489625",
       "marks": [
        "IPY_MODEL_2ec1c02239234cbab0461774ab553bec"
       ],
       "scale_x": "IPY_MODEL_def43fe8452a4bddb3a08b6e98e26f1b",
       "scale_y": "IPY_MODEL_2f68e192e1e74cd687f8968c16e4470b",
       "title": "Line Chart"
      }
     },
     "33bd912134784f388fc2d05962bd117f": {
      "model_module": "bqplot",
      "model_module_version": "^0.4.8",
      "model_name": "LinearScaleModel",
      "state": {
       "stabilized": false
      }
     },
     "38ba56a9eaae4cfb9f54eef2b68d0a16": {
      "model_module": "jupyter-vuetify",
      "model_module_version": "^1.0.4",
      "model_name": "ContainerModel",
      "state": {
       "_events": [],
       "_jupyter_vue": "IPY_MODEL_ced627e2cd47411fb3e57245d1285e0c",
       "attributes": {},
       "children": [
        "Lorum ipsum"
       ],
       "layout": "IPY_MODEL_ba670f8702774827bd25f8dd1724e5df",
       "v_slots": []
      }
     },
     "3938efe630744e31b4dc61cd1a78114a": {
      "model_module": "bqplot",
      "model_module_version": "^0.4.8",
      "model_name": "FigureModel",
      "state": {
       "_dom_classes": [],
       "axes": [
        "IPY_MODEL_d3ad45511f734be19c465429580483af",
        "IPY_MODEL_5c284ebf7f864c0f969dd39fa12ff1ce"
       ],
       "layout": "IPY_MODEL_6e1cff64091d422aa49ee872236da105",
       "marks": [
        "IPY_MODEL_058be7b8e9804bb9bc6210ed2ad8350a"
       ],
       "scale_x": "IPY_MODEL_d7812afb38104dbd85802ad230dbb8d4",
       "scale_y": "IPY_MODEL_a73c2521f6c3498fb0eda05dbeccc68f",
       "title": "Histogram 2"
      }
     },
     "41366e97aa2e4b919bd970fd28653876": {
      "model_module": "jupyter-vuetify",
      "model_module_version": "^1.0.4",
      "model_name": "SliderModel",
      "state": {
       "_events": [],
       "_jupyter_vue": "IPY_MODEL_ced627e2cd47411fb3e57245d1285e0c",
       "attributes": {},
       "children": [],
       "class_": "px-4",
       "error_count": null,
       "error_messages": null,
       "height": null,
       "layout": "IPY_MODEL_4edb7514fcfe44cbbbf1cae002faa5fc",
       "loader_height": null,
       "loading": null,
       "max": null,
       "messages": null,
       "min": null,
       "rules": [],
       "step": null,
       "success_messages": null,
       "thumb_label": "always",
       "thumb_size": null,
       "tick_labels": [],
       "tick_size": null,
       "ticks": null,
       "v_model": 30,
       "v_slots": [],
       "value": null
      }
     },
     "492f87362cc947b59107daa0847648ef": {
      "model_module": "bqplot",
      "model_module_version": "^0.4.8",
      "model_name": "HistModel",
      "state": {
       "bins": 30,
       "count": {
        "type": "float",
        "values": [
         3,
         2,
         2,
         1,
         12,
         7,
         3,
         3,
         4,
         13,
         16,
         26,
         30,
         15,
         17,
         9,
         4,
         7,
         3,
         0,
         2,
         3,
         5,
         1,
         3,
         1,
         2,
         3,
         1,
         2
        ]
       },
       "display_legend": false,
       "midpoints": [
        -70.16666666666666,
        -62.5,
        -54.83333333333333,
        -47.166666666666664,
        -39.5,
        -31.833333333333332,
        -24.166666666666664,
        -16.499999999999996,
        -8.833333333333332,
        -1.1666666666666643,
        6.500000000000007,
        14.166666666666671,
        21.833333333333336,
        29.500000000000007,
        37.16666666666667,
        44.833333333333336,
        52.50000000000001,
        60.16666666666667,
        67.83333333333334,
        75.50000000000001,
        83.16666666666667,
        90.83333333333334,
        98.50000000000001,
        106.16666666666667,
        113.83333333333334,
        121.50000000000001,
        129.16666666666669,
        136.83333333333334,
        144.5,
        152.16666666666669
       ],
       "sample": {
        "type": "float",
        "values": [
         6,
         5,
         9,
         6,
         24,
         33,
         41,
         35,
         38,
         22,
         19,
         28,
         15,
         7,
         13,
         -3,
         -31,
         -43,
         -32,
         -42,
         -30,
         -43,
         -40,
         -37,
         -30,
         -37,
         -46,
         -56,
         -68,
         -74,
         -64,
         -68,
         -65,
         -52,
         -39,
         -37,
         -42,
         -39,
         -23,
         -35,
         -42,
         -31,
         -31,
         -25,
         -18,
         -24,
         -39,
         -11,
         2,
         3,
         -3,
         0,
         -8,
         -17,
         -6,
         -10,
         -3,
         24,
         36,
         38,
         44,
         44,
         60,
         57,
         35,
         37,
         24,
         22,
         14,
         21,
         19,
         24,
         34,
         43,
         38,
         53,
         29,
         42,
         39,
         31,
         6,
         3,
         8,
         0,
         14,
         16,
         20,
         15,
         22,
         28,
         24,
         28,
         22,
         9,
         2,
         -5,
         -2,
         7,
         13,
         2,
         1,
         6,
         12,
         24,
         36,
         46,
         51,
         59,
         68,
         63,
         83,
         101,
         98,
         92,
         94,
         95,
         88,
         112,
         118,
         130,
         139,
         156,
         149,
         141,
         137,
         138,
         126,
         111,
         112,
         108,
         99,
         97,
         80,
         51,
         61,
         60,
         61,
         55,
         71,
         65,
         41,
         46,
         24,
         16,
         16,
         15,
         14,
         12,
         10,
         22,
         17,
         18,
         13,
         18,
         26,
         34,
         28,
         16,
         11,
         5,
         -1,
         -15,
         -5,
         9,
         13,
         13,
         5,
         11,
         24,
         29,
         20,
         16,
         15,
         18,
         13,
         23,
         21,
         17,
         35,
         46,
         37,
         34,
         23,
         28,
         30,
         28,
         21,
         24,
         27,
         30,
         22,
         17,
         24,
         24,
         39,
         37,
         37,
         32,
         21,
         14
        ]
       },
       "scales": {
        "count": "IPY_MODEL_2cbff228944f4190b4fd76be2740acbe",
        "sample": "IPY_MODEL_739f92c0aad74e03a73342821c73c775"
       },
       "selected": []
      }
     },
     "4edb7514fcfe44cbbbf1cae002faa5fc": {
      "model_module": "@jupyter-widgets/base",
      "model_module_version": "1.2.0",
      "model_name": "LayoutModel",
      "state": {}
     },
     "4eddee62a2ad4139a1e76af38c3e1009": {
      "model_module": "bqplot",
      "model_module_version": "^0.4.8",
      "model_name": "AxisModel",
      "state": {
       "orientation": "vertical",
       "scale": "IPY_MODEL_218d8cb6619144dda77e6d2374352015",
       "side": "left",
       "tick_values": {
        "type": null,
        "values": null
       }
      }
     },
     "5c284ebf7f864c0f969dd39fa12ff1ce": {
      "model_module": "bqplot",
      "model_module_version": "^0.4.8",
      "model_name": "AxisModel",
      "state": {
       "scale": "IPY_MODEL_0a021a1ce5e540b1b4ebaddaa69afe7e",
       "side": "bottom",
       "tick_values": {
        "type": null,
        "values": null
       }
      }
     },
     "5c85ec6249504e0dbeba3a391bb1488f": {
      "model_module": "bqplot",
      "model_module_version": "^0.4.8",
      "model_name": "LinearScaleModel",
      "state": {
       "allow_padding": false,
       "max": 1,
       "min": 0,
       "stabilized": false
      }
     },
     "63302665860d4179b6ad8c2c68accd8e": {
      "model_module": "@jupyter-widgets/base",
      "model_module_version": "1.2.0",
      "model_name": "LayoutModel",
      "state": {}
     },
     "6e1cff64091d422aa49ee872236da105": {
      "model_module": "@jupyter-widgets/base",
      "model_module_version": "1.2.0",
      "model_name": "LayoutModel",
      "state": {
       "height": "auto",
       "min_height": "300px",
       "width": "auto"
      }
     },
     "719d073452e144ffb89ba961a5b5382c": {
      "model_module": "bqplot",
      "model_module_version": "^0.4.8",
      "model_name": "AxisModel",
      "state": {
       "orientation": "vertical",
       "scale": "IPY_MODEL_2cbff228944f4190b4fd76be2740acbe",
       "side": "left",
       "tick_values": {
        "type": null,
        "values": null
       }
      }
     },
     "72e107d813d84c78b366b1e9939ce1ab": {
      "model_module": "@jupyter-widgets/base",
      "model_module_version": "1.2.0",
      "model_name": "LayoutModel",
      "state": {}
     },
     "739f92c0aad74e03a73342821c73c775": {
      "model_module": "bqplot",
      "model_module_version": "^0.4.8",
      "model_name": "LinearScaleModel",
      "state": {
       "max": 156,
       "min": -74,
       "stabilized": false
      }
     },
     "76a243b071274a0db7a7c21b96b15197": {
      "model_module": "bqplot",
      "model_module_version": "^0.4.8",
      "model_name": "AxisModel",
      "state": {
       "scale": "IPY_MODEL_739f92c0aad74e03a73342821c73c775",
       "side": "bottom",
       "tick_values": {
        "type": null,
        "values": null
       }
      }
     },
     "7bb42ba3809d4eb785dff5169314376e": {
      "model_module": "@jupyter-widgets/base",
      "model_module_version": "1.2.0",
      "model_name": "LayoutModel",
      "state": {}
     },
     "83456b0911554eae93ea7b3668e3f8cf": {
      "model_module": "bqplot",
      "model_module_version": "^0.4.8",
      "model_name": "BrushIntervalSelectorModel",
      "state": {
       "scale": "IPY_MODEL_99b7ddf46f7547ac8da1343af3a5bb7c",
       "selected": {
        "type": null,
        "values": null
       }
      }
     },
     "99b7ddf46f7547ac8da1343af3a5bb7c": {
      "model_module": "bqplot",
      "model_module_version": "^0.4.8",
      "model_name": "LinearScaleModel",
      "state": {
       "stabilized": false
      }
     },
     "a10baf27253546e69be80344863b8bb9": {
      "model_module": "@jupyter-widgets/base",
      "model_module_version": "1.2.0",
      "model_name": "LayoutModel",
      "state": {}
     },
     "a3ee805364484ba6ab0f477fd98178ab": {
      "model_module": "@jupyter-widgets/base",
      "model_module_version": "1.2.0",
      "model_name": "LayoutModel",
      "state": {}
     },
     "a73c2521f6c3498fb0eda05dbeccc68f": {
      "model_module": "bqplot",
      "model_module_version": "^0.4.8",
      "model_name": "LinearScaleModel",
      "state": {
       "allow_padding": false,
       "max": 1,
       "min": 0,
       "stabilized": false
      }
     },
     "b64c90a1c4f1420aa5933ecf10a745d3": {
      "model_module": "@jupyter-widgets/base",
      "model_module_version": "1.2.0",
      "model_name": "LayoutModel",
      "state": {
       "height": "auto",
       "min_height": "300px",
       "width": "auto"
      }
     },
     "b6b4dc021fb14f92bab8ea8865e36d12": {
      "model_module": "bqplot",
      "model_module_version": "^0.4.8",
      "model_name": "FigureModel",
      "state": {
       "_dom_classes": [],
       "axes": [
        "IPY_MODEL_719d073452e144ffb89ba961a5b5382c",
        "IPY_MODEL_76a243b071274a0db7a7c21b96b15197"
       ],
       "layout": "IPY_MODEL_b64c90a1c4f1420aa5933ecf10a745d3",
       "marks": [
        "IPY_MODEL_492f87362cc947b59107daa0847648ef"
       ],
       "scale_x": "IPY_MODEL_5c85ec6249504e0dbeba3a391bb1488f",
       "scale_y": "IPY_MODEL_f955084e7310426398bb1846b099376b",
       "title": "Histogram"
      }
     },
     "ba670f8702774827bd25f8dd1724e5df": {
      "model_module": "@jupyter-widgets/base",
      "model_module_version": "1.2.0",
      "model_name": "LayoutModel",
      "state": {}
     },
     "c2b58f9898874fa797a6f6c45d0cc876": {
      "model_module": "@jupyter-widgets/base",
      "model_module_version": "1.2.0",
      "model_name": "LayoutModel",
      "state": {}
     },
     "c4fd1d18c3114a1494504d7ab69fbef8": {
      "model_module": "bqplot",
      "model_module_version": "^0.4.8",
      "model_name": "AxisModel",
      "state": {
       "scale": "IPY_MODEL_99b7ddf46f7547ac8da1343af3a5bb7c",
       "side": "bottom",
       "tick_values": {
        "type": null,
        "values": null
       }
      }
     },
     "c58e9068cab143d3b4bc51f076f8ba83": {
      "model_module": "jupyter-vuetify",
      "model_module_version": "^1.0.4",
      "model_name": "TabItemModel",
      "state": {
       "_events": [],
       "_jupyter_vue": "IPY_MODEL_ced627e2cd47411fb3e57245d1285e0c",
       "attributes": {},
       "children": [
        "IPY_MODEL_38ba56a9eaae4cfb9f54eef2b68d0a16"
       ],
       "layout": "IPY_MODEL_02f46d6e710c4d2caca0ed0832ac049d",
       "reverse_transition": null,
       "transition": null,
       "v_slots": []
      }
     },
     "cb92fbfaac314adf80cb6291d2c651ab": {
      "model_module": "@jupyter-widgets/base",
      "model_module_version": "1.2.0",
      "model_name": "LayoutModel",
      "state": {}
     },
     "cd66d2fe67c74d17bb05139785ef357d": {
      "model_module": "jupyter-vuetify",
      "model_module_version": "^1.0.4",
      "model_name": "TabsModel",
      "state": {
       "_events": [],
       "_jupyter_vue": "IPY_MODEL_ced627e2cd47411fb3e57245d1285e0c",
       "_metadata": {
        "mount_id": "content-main"
       },
       "attributes": {},
       "children": [
        "IPY_MODEL_29abdd487acb4c89b36ecfa9f2e9c632",
        "IPY_MODEL_0c3102121c6c4244b599d9b50021137d",
        "IPY_MODEL_152a42423f974e2cb4ad02a62555e55f",
        "IPY_MODEL_c58e9068cab143d3b4bc51f076f8ba83"
       ],
       "height": null,
       "layout": "IPY_MODEL_72e107d813d84c78b366b1e9939ce1ab",
       "mobile_break_point": null,
       "slider_size": null,
       "v_slots": []
      }
     },
     "ced627e2cd47411fb3e57245d1285e0c": {
      "model_module": "jupyter-vue",
      "model_module_version": "^1.0.0",
      "model_name": "ForceLoadModel",
      "state": {
       "_model_module_version": "^1.0.0",
       "_view_module": null,
       "_view_module_version": "",
       "layout": "IPY_MODEL_7bb42ba3809d4eb785dff5169314376e"
      }
     },
     "d3ad45511f734be19c465429580483af": {
      "model_module": "bqplot",
      "model_module_version": "^0.4.8",
      "model_name": "AxisModel",
      "state": {
       "orientation": "vertical",
       "scale": "IPY_MODEL_33bd912134784f388fc2d05962bd117f",
       "side": "left",
       "tick_values": {
        "type": null,
        "values": null
       }
      }
     },
     "d7812afb38104dbd85802ad230dbb8d4": {
      "model_module": "bqplot",
      "model_module_version": "^0.4.8",
      "model_name": "LinearScaleModel",
      "state": {
       "allow_padding": false,
       "max": 1,
       "min": 0,
       "stabilized": false
      }
     },
     "dc454183f0ce47a0969bccc4c3210c41": {
      "model_module": "@jupyter-widgets/base",
      "model_module_version": "1.2.0",
      "model_name": "LayoutModel",
      "state": {}
     },
     "def43fe8452a4bddb3a08b6e98e26f1b": {
      "model_module": "bqplot",
      "model_module_version": "^0.4.8",
      "model_name": "LinearScaleModel",
      "state": {
       "allow_padding": false,
       "max": 1,
       "min": 0,
       "stabilized": false
      }
     },
     "ed2992d89fb44a11bcd4cf14a410f9d9": {
      "model_module": "jupyter-vuetify",
      "model_module_version": "^1.0.4",
      "model_name": "FlexModel",
      "state": {
       "_events": [],
       "_jupyter_vue": "IPY_MODEL_ced627e2cd47411fb3e57245d1285e0c",
       "attributes": {},
       "children": [
        "IPY_MODEL_333e763ed3844e2cac3f04f4225ae137"
       ],
       "layout": "IPY_MODEL_dc454183f0ce47a0969bccc4c3210c41",
       "v_slots": [],
       "xl4": true,
       "xs12": true
      }
     },
     "ed70a3031bd54075ad7c52e044465ea3": {
      "model_module": "@jupyter-widgets/base",
      "model_module_version": "1.2.0",
      "model_name": "LayoutModel",
      "state": {}
     },
     "f9143d41a1dd4e3a8da0fb088df01a52": {
      "model_module": "jupyter-vuetify",
      "model_module_version": "^1.0.4",
      "model_name": "FlexModel",
      "state": {
       "_events": [],
       "_jupyter_vue": "IPY_MODEL_ced627e2cd47411fb3e57245d1285e0c",
       "attributes": {},
       "children": [
        "IPY_MODEL_3938efe630744e31b4dc61cd1a78114a",
        "IPY_MODEL_2a3bfde158144caebbc76dc6f55c6eb6"
       ],
       "layout": "IPY_MODEL_63302665860d4179b6ad8c2c68accd8e",
       "lg6": true,
       "v_slots": [],
       "xl4": true,
       "xs12": true
      }
     },
     "f955084e7310426398bb1846b099376b": {
      "model_module": "bqplot",
      "model_module_version": "^0.4.8",
      "model_name": "LinearScaleModel",
      "state": {
       "allow_padding": false,
       "max": 1,
       "min": 0,
       "stabilized": false
      }
     }
    },
    "version_major": 2,
    "version_minor": 0
   }
  }
 },
 "nbformat": 4,
 "nbformat_minor": 2
}
