{
 "cells": [
  {
   "cell_type": "markdown",
   "metadata": {},
   "source": [
    "# `debug.ipynb`"
   ]
  },
  {
   "cell_type": "code",
   "execution_count": 1,
   "metadata": {},
   "outputs": [
    {
     "data": {
      "application/vnd.jupyter.widget-view+json": {
       "model_id": "b5c9a92bae004b508af2a8aae957e268",
       "version_major": 2,
       "version_minor": 0
      },
      "text/plain": [
       "VBox(children=(FloatSlider(value=14.0, description='x'), FloatText(value=196.0, description='$x^2$', disabled=…"
      ]
     },
     "metadata": {},
     "output_type": "display_data"
    }
   ],
   "source": [
    "import ipywidgets as widgets\n",
    "\n",
    "\n",
    "slider = widgets.FloatSlider(description=\"x\")\n",
    "text = widgets.FloatText(disabled=True, description=\"$x^2$\")\n",
    "\n",
    "\n",
    "def compute(*ignore):\n",
    "    text.value = str(slider.value**2)\n",
    "\n",
    "\n",
    "slider.observe(compute, \"value\")\n",
    "slider.value = 14\n",
    "widgets.VBox([slider, text])"
   ]
  },
  {
   "cell_type": "code",
   "execution_count": 2,
   "metadata": {
    "slideshow": {
     "slide_type": "subslide"
    }
   },
   "outputs": [
    {
     "data": {
      "application/vnd.jupyter.widget-view+json": {
       "model_id": "4ea442d7e19f49548b191e7685b8534a",
       "version_major": 2,
       "version_minor": 0
      },
      "text/plain": [
       "Button(description='Kill Kernel', style=ButtonStyle())"
      ]
     },
     "metadata": {},
     "output_type": "display_data"
    }
   ],
   "source": [
    "import os\n",
    "\n",
    "\n",
    "def kill_kernel(change):\n",
    "    os._exit(0)\n",
    "\n",
    "\n",
    "button = widgets.Button(description=\"Kill Kernel\")\n",
    "button.on_click(kill_kernel)\n",
    "button"
   ]
  }
 ],
 "metadata": {
  "kernelspec": {
   "display_name": "Python 3.11 Kernel",
   "language": "python",
   "name": "python311"
  },
  "language_info": {
   "codemirror_mode": {
    "name": "ipython",
    "version": 3
   },
   "file_extension": ".py",
   "mimetype": "text/x-python",
   "name": "python",
   "nbconvert_exporter": "python",
   "pygments_lexer": "ipython3",
   "version": "3.11.4"
  },
  "latex_envs": {
   "LaTeX_envs_menu_present": true,
   "autoclose": false,
   "autocomplete": true,
   "bibliofile": "biblio.bib",
   "cite_by": "apalike",
   "current_citInitial": 1,
   "eqLabelWithNumbers": true,
   "eqNumInitial": 1,
   "hotkeys": {
    "equation": "Ctrl-E",
    "itemize": "Ctrl-I"
   },
   "labels_anchors": false,
   "latex_user_defs": false,
   "report_style_numbering": false,
   "user_envs_cfg": false
  },
  "varInspector": {
   "cols": {
    "lenName": 16,
    "lenType": 16,
    "lenVar": 40
   },
   "kernels_config": {
    "python": {
     "delete_cmd_postfix": "",
     "delete_cmd_prefix": "del ",
     "library": "var_list.py",
     "varRefreshCmd": "print(var_dic_list())"
    },
    "r": {
     "delete_cmd_postfix": ") ",
     "delete_cmd_prefix": "rm(",
     "library": "var_list.r",
     "varRefreshCmd": "cat(var_dic_list()) "
    }
   },
   "types_to_exclude": [
    "module",
    "function",
    "builtin_function_or_method",
    "instance",
    "_Feature"
   ],
   "window_display": false
  },
  "widgets": {
   "application/vnd.jupyter.widget-state+json": {
    "state": {
     "12888410b8c040b39538be36d081ea0d": {
      "model_module": "@jupyter-widgets/controls",
      "model_module_version": "1.5.0",
      "model_name": "DescriptionStyleModel",
      "state": {
       "description_width": ""
      }
     },
     "135c10efd5a14e8fa1866d654f7434d5": {
      "model_module": "@jupyter-widgets/base",
      "model_module_version": "1.2.0",
      "model_name": "LayoutModel",
      "state": {}
     },
     "24fc33e902994f5ea1946d9b70debaa5": {
      "model_module": "@jupyter-widgets/controls",
      "model_module_version": "1.5.0",
      "model_name": "SliderStyleModel",
      "state": {
       "description_width": ""
      }
     },
     "2ceb3325084a41b1b6f39fa012766236": {
      "model_module": "@jupyter-widgets/controls",
      "model_module_version": "1.5.0",
      "model_name": "ButtonStyleModel",
      "state": {}
     },
     "44deeeadd22343f8bfdeeb99031f9bf0": {
      "model_module": "@jupyter-widgets/controls",
      "model_module_version": "1.5.0",
      "model_name": "ButtonStyleModel",
      "state": {}
     },
     "46f0e82c5dfe4c85bfd1b30ce14b011e": {
      "model_module": "@jupyter-widgets/controls",
      "model_module_version": "1.5.0",
      "model_name": "ButtonStyleModel",
      "state": {}
     },
     "4ea442d7e19f49548b191e7685b8534a": {
      "model_module": "@jupyter-widgets/controls",
      "model_module_version": "1.5.0",
      "model_name": "ButtonModel",
      "state": {
       "description": "Kill Kernel",
       "layout": "IPY_MODEL_dd72671845b94aae9f052451790c0a5c",
       "style": "IPY_MODEL_2ceb3325084a41b1b6f39fa012766236"
      }
     },
     "50c0948494814038be7bad3586aca4e6": {
      "model_module": "@jupyter-widgets/base",
      "model_module_version": "1.2.0",
      "model_name": "LayoutModel",
      "state": {}
     },
     "58e6675337b04d2baa954263888df3aa": {
      "model_module": "@jupyter-widgets/controls",
      "model_module_version": "1.5.0",
      "model_name": "ButtonModel",
      "state": {
       "description": "Kill Kernel",
       "layout": "IPY_MODEL_e1079e2112cf4e91b3aa3a0f7da11343",
       "style": "IPY_MODEL_46f0e82c5dfe4c85bfd1b30ce14b011e"
      }
     },
     "5f6d93f3c26b414b882ec22e401cb702": {
      "model_module": "@jupyter-widgets/base",
      "model_module_version": "1.2.0",
      "model_name": "LayoutModel",
      "state": {}
     },
     "69f670ad104344b997f166311bb891ca": {
      "model_module": "@jupyter-widgets/controls",
      "model_module_version": "1.5.0",
      "model_name": "VBoxModel",
      "state": {
       "children": [
        "IPY_MODEL_d6fcd443796a4d058afc5f9d27641f2c",
        "IPY_MODEL_8c2538f026ac49179552985291e0c603"
       ],
       "layout": "IPY_MODEL_50c0948494814038be7bad3586aca4e6"
      }
     },
     "6a5ad4355abb4fb988a92933f1883574": {
      "model_module": "@jupyter-widgets/controls",
      "model_module_version": "1.5.0",
      "model_name": "FloatSliderModel",
      "state": {
       "description": "x",
       "layout": "IPY_MODEL_7b53aa79c30a40c1be870a6674f56539",
       "step": 0.1,
       "style": "IPY_MODEL_24fc33e902994f5ea1946d9b70debaa5",
       "value": 14
      }
     },
     "6bcf0ad35e1c420c8988efa1d1d95c9d": {
      "model_module": "@jupyter-widgets/controls",
      "model_module_version": "1.5.0",
      "model_name": "DescriptionStyleModel",
      "state": {
       "description_width": ""
      }
     },
     "7b53aa79c30a40c1be870a6674f56539": {
      "model_module": "@jupyter-widgets/base",
      "model_module_version": "1.2.0",
      "model_name": "LayoutModel",
      "state": {}
     },
     "8c2538f026ac49179552985291e0c603": {
      "model_module": "@jupyter-widgets/controls",
      "model_module_version": "1.5.0",
      "model_name": "FloatTextModel",
      "state": {
       "description": "$x^2$",
       "disabled": true,
       "layout": "IPY_MODEL_b4703b4c33704e81aa35c3c49f904644",
       "step": null,
       "style": "IPY_MODEL_12888410b8c040b39538be36d081ea0d",
       "value": 196
      }
     },
     "8f1528d7804a4128ab253405b90e9aae": {
      "model_module": "@jupyter-widgets/base",
      "model_module_version": "1.2.0",
      "model_name": "LayoutModel",
      "state": {}
     },
     "93037a34ed60493c8d8d388d31005910": {
      "model_module": "@jupyter-widgets/controls",
      "model_module_version": "1.5.0",
      "model_name": "FloatSliderModel",
      "state": {
       "description": "x",
       "layout": "IPY_MODEL_135c10efd5a14e8fa1866d654f7434d5",
       "step": 0.1,
       "style": "IPY_MODEL_a82637502a07423d80be6a1aeab80594",
       "value": 14
      }
     },
     "946af28fa5a642a99fab3547e197532c": {
      "model_module": "@jupyter-widgets/base",
      "model_module_version": "1.2.0",
      "model_name": "LayoutModel",
      "state": {}
     },
     "9c7f620d95214992942436c7992f0589": {
      "model_module": "@jupyter-widgets/controls",
      "model_module_version": "1.5.0",
      "model_name": "VBoxModel",
      "state": {
       "children": [
        "IPY_MODEL_6a5ad4355abb4fb988a92933f1883574",
        "IPY_MODEL_ce05d0354bca43c6b340c36ccb75d55f"
       ],
       "layout": "IPY_MODEL_5f6d93f3c26b414b882ec22e401cb702"
      }
     },
     "a82637502a07423d80be6a1aeab80594": {
      "model_module": "@jupyter-widgets/controls",
      "model_module_version": "1.5.0",
      "model_name": "SliderStyleModel",
      "state": {
       "description_width": ""
      }
     },
     "ae1f870696d54e03ba75871d9050ef59": {
      "model_module": "@jupyter-widgets/controls",
      "model_module_version": "1.5.0",
      "model_name": "ButtonModel",
      "state": {
       "description": "Kill Kernel",
       "layout": "IPY_MODEL_c7e965254020450e9a8ca76b00596881",
       "style": "IPY_MODEL_44deeeadd22343f8bfdeeb99031f9bf0"
      }
     },
     "b4703b4c33704e81aa35c3c49f904644": {
      "model_module": "@jupyter-widgets/base",
      "model_module_version": "1.2.0",
      "model_name": "LayoutModel",
      "state": {}
     },
     "b5c9a92bae004b508af2a8aae957e268": {
      "model_module": "@jupyter-widgets/controls",
      "model_module_version": "1.5.0",
      "model_name": "VBoxModel",
      "state": {
       "children": [
        "IPY_MODEL_93037a34ed60493c8d8d388d31005910",
        "IPY_MODEL_c21609aa8bbd4de19cd4f1bd5b783e13"
       ],
       "layout": "IPY_MODEL_8f1528d7804a4128ab253405b90e9aae"
      }
     },
     "c21609aa8bbd4de19cd4f1bd5b783e13": {
      "model_module": "@jupyter-widgets/controls",
      "model_module_version": "1.5.0",
      "model_name": "FloatTextModel",
      "state": {
       "description": "$x^2$",
       "disabled": true,
       "layout": "IPY_MODEL_f6da79a8da2c43cb8ae90b853c38e53e",
       "step": null,
       "style": "IPY_MODEL_f46fd740adc643e48e9f7c1cd36e9fe2",
       "value": 196
      }
     },
     "c7e965254020450e9a8ca76b00596881": {
      "model_module": "@jupyter-widgets/base",
      "model_module_version": "1.2.0",
      "model_name": "LayoutModel",
      "state": {}
     },
     "ce05d0354bca43c6b340c36ccb75d55f": {
      "model_module": "@jupyter-widgets/controls",
      "model_module_version": "1.5.0",
      "model_name": "FloatTextModel",
      "state": {
       "description": "$x^2$",
       "disabled": true,
       "layout": "IPY_MODEL_946af28fa5a642a99fab3547e197532c",
       "step": null,
       "style": "IPY_MODEL_6bcf0ad35e1c420c8988efa1d1d95c9d",
       "value": 196
      }
     },
     "d6fcd443796a4d058afc5f9d27641f2c": {
      "model_module": "@jupyter-widgets/controls",
      "model_module_version": "1.5.0",
      "model_name": "FloatSliderModel",
      "state": {
       "description": "x",
       "layout": "IPY_MODEL_f35f30a6d31d4b5e81485eb657fa0cf9",
       "step": 0.1,
       "style": "IPY_MODEL_da697062d1f8472fb161449e9107cb9e",
       "value": 14
      }
     },
     "da697062d1f8472fb161449e9107cb9e": {
      "model_module": "@jupyter-widgets/controls",
      "model_module_version": "1.5.0",
      "model_name": "SliderStyleModel",
      "state": {
       "description_width": ""
      }
     },
     "dd72671845b94aae9f052451790c0a5c": {
      "model_module": "@jupyter-widgets/base",
      "model_module_version": "1.2.0",
      "model_name": "LayoutModel",
      "state": {}
     },
     "e1079e2112cf4e91b3aa3a0f7da11343": {
      "model_module": "@jupyter-widgets/base",
      "model_module_version": "1.2.0",
      "model_name": "LayoutModel",
      "state": {}
     },
     "f35f30a6d31d4b5e81485eb657fa0cf9": {
      "model_module": "@jupyter-widgets/base",
      "model_module_version": "1.2.0",
      "model_name": "LayoutModel",
      "state": {}
     },
     "f46fd740adc643e48e9f7c1cd36e9fe2": {
      "model_module": "@jupyter-widgets/controls",
      "model_module_version": "1.5.0",
      "model_name": "DescriptionStyleModel",
      "state": {
       "description_width": ""
      }
     },
     "f6da79a8da2c43cb8ae90b853c38e53e": {
      "model_module": "@jupyter-widgets/base",
      "model_module_version": "1.2.0",
      "model_name": "LayoutModel",
      "state": {}
     }
    },
    "version_major": 2,
    "version_minor": 0
   }
  }
 },
 "nbformat": 4,
 "nbformat_minor": 4
}
