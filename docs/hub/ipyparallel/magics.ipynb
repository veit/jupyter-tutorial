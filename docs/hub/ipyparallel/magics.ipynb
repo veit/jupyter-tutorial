{
 "cells": [
  {
   "cell_type": "markdown",
   "metadata": {},
   "source": [
    "# `ipyparallel` magics"
   ]
  },
  {
   "cell_type": "code",
   "execution_count": 1,
   "metadata": {},
   "outputs": [],
   "source": [
    "import ipyparallel as ipp\n",
    "\n",
    "\n",
    "rc = ipp.Client()"
   ]
  },
  {
   "cell_type": "code",
   "execution_count": 2,
   "metadata": {},
   "outputs": [
    {
     "name": "stdout",
     "output_type": "stream",
     "text": [
      "importing plot from matplotlib.pyplot on engine(s)\n",
      "importing eigvals from numpy.linalg on engine(s)\n",
      "importing rand from numpy.random on engine(s)\n",
      "importing random from numpy.random on engine(s)\n"
     ]
    }
   ],
   "source": [
    "with rc[:].sync_imports():\n",
    "    from matplotlib.pyplot import plot\n",
    "    from numpy.linalg import eigvals\n",
    "    from numpy.random import rand\n",
    "    from numpy.random import random"
   ]
  },
  {
   "cell_type": "code",
   "execution_count": 3,
   "metadata": {},
   "outputs": [],
   "source": [
    "%px a = rand(2,2)"
   ]
  },
  {
   "cell_type": "code",
   "execution_count": 4,
   "metadata": {},
   "outputs": [
    {
     "data": {
      "text/plain": [
       "\u001b[0;31mOut[0:2]: \u001b[0marray([0.92645255, 0.48484728])"
      ]
     },
     "metadata": {
      "after": null,
      "completed": null,
      "data": {},
      "engine_id": 0,
      "engine_uuid": "e85a157c-d07e745ef39ede53fa512972",
      "error": null,
      "execute_input": "eigvals(a)",
      "execute_result": {
       "data": {
        "text/plain": "array([0.92645255, 0.48484728])"
       },
       "execution_count": 2,
       "metadata": {}
      },
      "follow": null,
      "msg_id": null,
      "outputs": [],
      "received": null,
      "started": null,
      "status": null,
      "stderr": "",
      "stdout": "",
      "submitted": "2023-06-27T15:47:38.600390"
     },
     "output_type": "display_data"
    },
    {
     "data": {
      "text/plain": [
       "\u001b[0;31mOut[3:2]: \u001b[0marray([0.23462225, 0.7614717 ])"
      ]
     },
     "metadata": {
      "after": null,
      "completed": null,
      "data": {},
      "engine_id": 3,
      "engine_uuid": "9775c148-2df7cb7d5df203a348d6ca54",
      "error": null,
      "execute_input": "eigvals(a)",
      "execute_result": {
       "data": {
        "text/plain": "array([0.23462225, 0.7614717 ])"
       },
       "execution_count": 2,
       "metadata": {}
      },
      "follow": null,
      "msg_id": null,
      "outputs": [],
      "received": null,
      "started": null,
      "status": null,
      "stderr": "",
      "stdout": "",
      "submitted": "2023-06-27T15:47:38.600880"
     },
     "output_type": "display_data"
    },
    {
     "data": {
      "text/plain": [
       "\u001b[0;31mOut[1:2]: \u001b[0marray([1.36472418, 0.17225772])"
      ]
     },
     "metadata": {
      "after": null,
      "completed": null,
      "data": {},
      "engine_id": 1,
      "engine_uuid": "24bd125d-16ef35fafef3cb2197745741",
      "error": null,
      "execute_input": "eigvals(a)",
      "execute_result": {
       "data": {
        "text/plain": "array([1.36472418, 0.17225772])"
       },
       "execution_count": 2,
       "metadata": {}
      },
      "follow": null,
      "msg_id": null,
      "outputs": [],
      "received": null,
      "started": null,
      "status": null,
      "stderr": "",
      "stdout": "",
      "submitted": "2023-06-27T15:47:38.600439"
     },
     "output_type": "display_data"
    },
    {
     "data": {
      "text/plain": [
       "\u001b[0;31mOut[2:2]: \u001b[0marray([0.88215574, 0.01329861])"
      ]
     },
     "metadata": {
      "after": null,
      "completed": null,
      "data": {},
      "engine_id": 2,
      "engine_uuid": "f102aa0d-a2ea51242a1c6f64e809881e",
      "error": null,
      "execute_input": "eigvals(a)",
      "execute_result": {
       "data": {
        "text/plain": "array([0.88215574, 0.01329861])"
       },
       "execution_count": 2,
       "metadata": {}
      },
      "follow": null,
      "msg_id": null,
      "outputs": [],
      "received": null,
      "started": null,
      "status": null,
      "stderr": "",
      "stdout": "",
      "submitted": "2023-06-27T15:47:38.600488"
     },
     "output_type": "display_data"
    }
   ],
   "source": [
    "%px eigvals(a)"
   ]
  },
  {
   "cell_type": "code",
   "execution_count": 5,
   "metadata": {},
   "outputs": [
    {
     "data": {
      "text/plain": [
       "[stdout:0] hi\n"
      ]
     },
     "metadata": {},
     "output_type": "display_data"
    },
    {
     "data": {
      "text/plain": [
       "[stdout:1] hi\n"
      ]
     },
     "metadata": {},
     "output_type": "display_data"
    },
    {
     "data": {
      "text/plain": [
       "[stdout:2] hi\n"
      ]
     },
     "metadata": {},
     "output_type": "display_data"
    },
    {
     "data": {
      "text/plain": [
       "[stdout:3] hi\n"
      ]
     },
     "metadata": {},
     "output_type": "display_data"
    }
   ],
   "source": [
    "%px print(\"hi\")"
   ]
  },
  {
   "cell_type": "code",
   "execution_count": 6,
   "metadata": {},
   "outputs": [],
   "source": [
    "%px %matplotlib inline"
   ]
  },
  {
   "cell_type": "code",
   "execution_count": 7,
   "metadata": {},
   "outputs": [
    {
     "data": {
      "text/plain": [
       "\u001b[0;31mOut[3:5]: \u001b[0m[<matplotlib.lines.Line2D at 0x12c926f50>]"
      ]
     },
     "metadata": {
      "after": null,
      "completed": null,
      "data": {},
      "engine_id": 3,
      "engine_uuid": "9775c148-2df7cb7d5df203a348d6ca54",
      "error": null,
      "execute_input": "plot(rand(100))",
      "execute_result": {
       "data": {
        "text/plain": "[<matplotlib.lines.Line2D at 0x12c926f50>]"
       },
       "execution_count": 5,
       "metadata": {}
      },
      "follow": null,
      "msg_id": null,
      "outputs": [],
      "received": null,
      "started": null,
      "status": null,
      "stderr": "",
      "stdout": "",
      "submitted": "2023-06-27T15:47:38.641490"
     },
     "output_type": "display_data"
    },
    {
     "data": {
      "text/plain": [
       "\u001b[0;31mOut[2:5]: \u001b[0m[<matplotlib.lines.Line2D at 0x1180bc3d0>]"
      ]
     },
     "metadata": {
      "after": null,
      "completed": null,
      "data": {},
      "engine_id": 2,
      "engine_uuid": "f102aa0d-a2ea51242a1c6f64e809881e",
      "error": null,
      "execute_input": "plot(rand(100))",
      "execute_result": {
       "data": {
        "text/plain": "[<matplotlib.lines.Line2D at 0x1180bc3d0>]"
       },
       "execution_count": 5,
       "metadata": {}
      },
      "follow": null,
      "msg_id": null,
      "outputs": [],
      "received": null,
      "started": null,
      "status": null,
      "stderr": "",
      "stdout": "",
      "submitted": "2023-06-27T15:47:38.641462"
     },
     "output_type": "display_data"
    },
    {
     "data": {
      "text/plain": [
       "\u001b[0;31mOut[1:5]: \u001b[0m[<matplotlib.lines.Line2D at 0x116a39b10>]"
      ]
     },
     "metadata": {
      "after": null,
      "completed": null,
      "data": {},
      "engine_id": 1,
      "engine_uuid": "24bd125d-16ef35fafef3cb2197745741",
      "error": null,
      "execute_input": "plot(rand(100))",
      "execute_result": {
       "data": {
        "text/plain": "[<matplotlib.lines.Line2D at 0x116a39b10>]"
       },
       "execution_count": 5,
       "metadata": {}
      },
      "follow": null,
      "msg_id": null,
      "outputs": [],
      "received": null,
      "started": null,
      "status": null,
      "stderr": "",
      "stdout": "",
      "submitted": "2023-06-27T15:47:38.641330"
     },
     "output_type": "display_data"
    },
    {
     "data": {
      "text/plain": [
       "\u001b[0;31mOut[0:5]: \u001b[0m[<matplotlib.lines.Line2D at 0x1164c5e50>]"
      ]
     },
     "metadata": {
      "after": null,
      "completed": null,
      "data": {},
      "engine_id": 0,
      "engine_uuid": "e85a157c-d07e745ef39ede53fa512972",
      "error": null,
      "execute_input": "plot(rand(100))",
      "execute_result": {
       "data": {
        "text/plain": "[<matplotlib.lines.Line2D at 0x1164c5e50>]"
       },
       "execution_count": 5,
       "metadata": {}
      },
      "follow": null,
      "msg_id": null,
      "outputs": [],
      "received": null,
      "started": null,
      "status": null,
      "stderr": "",
      "stdout": "",
      "submitted": "2023-06-27T15:47:38.641285"
     },
     "output_type": "display_data"
    },
    {
     "data": {
      "text/plain": [
       "[output:1]"
      ]
     },
     "metadata": {},
     "output_type": "display_data"
    },
    {
     "data": {
      "image/png": "[encoded data removed]",
      "text/plain": [
       "<Figure size 640x480 with 1 Axes>"
      ]
     },
     "metadata": {
      "engine": 1
     },
     "output_type": "display_data"
    },
    {
     "data": {
      "text/plain": [
       "[output:2]"
      ]
     },
     "metadata": {},
     "output_type": "display_data"
    },
    {
     "data": {
      "image/png": "[encoded data removed]",
      "text/plain": [
       "<Figure size 640x480 with 1 Axes>"
      ]
     },
     "metadata": {
      "engine": 2
     },
     "output_type": "display_data"
    },
    {
     "data": {
      "text/plain": [
       "[output:0]"
      ]
     },
     "metadata": {},
     "output_type": "display_data"
    },
    {
     "data": {
      "image/png": "[encoded data removed]",
      "text/plain": [
       "<Figure size 640x480 with 1 Axes>"
      ]
     },
     "metadata": {
      "engine": 0
     },
     "output_type": "display_data"
    },
    {
     "data": {
      "text/plain": [
       "[output:3]"
      ]
     },
     "metadata": {},
     "output_type": "display_data"
    },
    {
     "data": {
      "image/png": "[encoded data removed]",
      "text/plain": [
       "<Figure size 640x480 with 1 Axes>"
      ]
     },
     "metadata": {
      "engine": 3
     },
     "output_type": "display_data"
    }
   ],
   "source": [
    "%px plot(rand(100))"
   ]
  },
  {
   "cell_type": "markdown",
   "metadata": {},
   "source": [
    "## `%%px` cell magic \n",
    "\n",
    "`--targets`, `--block` and `--noblock`"
   ]
  },
  {
   "cell_type": "code",
   "execution_count": 8,
   "metadata": {},
   "outputs": [
    {
     "data": {
      "text/plain": [
       "[stdout:0] I am even\n"
      ]
     },
     "metadata": {},
     "output_type": "display_data"
    },
    {
     "data": {
      "text/plain": [
       "[stdout:2] I am even\n"
      ]
     },
     "metadata": {},
     "output_type": "display_data"
    }
   ],
   "source": [
    "%%px --targets ::2\n",
    "print(\"I am even\")"
   ]
  },
  {
   "cell_type": "code",
   "execution_count": 9,
   "metadata": {},
   "outputs": [
    {
     "data": {
      "text/plain": [
       "[stdout:1] I am number 1\n"
      ]
     },
     "metadata": {},
     "output_type": "display_data"
    }
   ],
   "source": [
    "%%px --targets 1\n",
    "print(\"I am number 1\")"
   ]
  },
  {
   "cell_type": "code",
   "execution_count": 10,
   "metadata": {},
   "outputs": [
    {
     "data": {
      "text/plain": [
       "[stdout:0] still all by default\n"
      ]
     },
     "metadata": {},
     "output_type": "display_data"
    },
    {
     "data": {
      "text/plain": [
       "[stdout:1] still all by default\n"
      ]
     },
     "metadata": {},
     "output_type": "display_data"
    },
    {
     "data": {
      "text/plain": [
       "[stdout:2] still all by default\n"
      ]
     },
     "metadata": {},
     "output_type": "display_data"
    },
    {
     "data": {
      "text/plain": [
       "[stdout:3] still all by default\n"
      ]
     },
     "metadata": {},
     "output_type": "display_data"
    }
   ],
   "source": [
    "%%px\n",
    "print(\"still all by default\")"
   ]
  },
  {
   "cell_type": "code",
   "execution_count": 11,
   "metadata": {},
   "outputs": [
    {
     "data": {
      "text/plain": [
       "<AsyncResult(%px): pending>"
      ]
     },
     "execution_count": 11,
     "metadata": {},
     "output_type": "execute_result"
    }
   ],
   "source": [
    "%%px --noblock\n",
    "import time\n",
    "time.sleep(1)\n",
    "time.time()"
   ]
  },
  {
   "cell_type": "code",
   "execution_count": 12,
   "metadata": {},
   "outputs": [
    {
     "data": {
      "text/plain": [
       "\u001b[0;31mOut[0:8]: \u001b[0m1687880859.822293"
      ]
     },
     "metadata": {
      "after": [],
      "completed": "2023-06-27T15:47:39.825112",
      "data": {},
      "engine_id": 0,
      "engine_uuid": "e85a157c-d07e745ef39ede53fa512972",
      "error": null,
      "execute_input": "import time\ntime.sleep(1)\ntime.time()\n",
      "execute_result": {
       "data": {
        "text/plain": "1687880859.822293"
       },
       "execution_count": 8,
       "metadata": {}
      },
      "follow": [],
      "is_broadcast": false,
      "is_coalescing": false,
      "msg_id": "6aa65c8a-8c032a8996a0b4c90361773e_44",
      "outputs": [],
      "received": "2023-06-27T15:47:39.828018",
      "started": "2023-06-27T15:47:38.820254",
      "status": "ok",
      "stderr": "",
      "stdout": "",
      "submitted": "2023-06-27T15:47:38.815504"
     },
     "output_type": "display_data"
    },
    {
     "data": {
      "text/plain": [
       "\u001b[0;31mOut[1:8]: \u001b[0m1687880859.82328"
      ]
     },
     "metadata": {
      "after": [],
      "completed": "2023-06-27T15:47:39.826441",
      "data": {},
      "engine_id": 1,
      "engine_uuid": "24bd125d-16ef35fafef3cb2197745741",
      "error": null,
      "execute_input": "import time\ntime.sleep(1)\ntime.time()\n",
      "execute_result": {
       "data": {
        "text/plain": "1687880859.82328"
       },
       "execution_count": 8,
       "metadata": {}
      },
      "follow": [],
      "is_broadcast": false,
      "is_coalescing": false,
      "msg_id": "6aa65c8a-8c032a8996a0b4c90361773e_45",
      "outputs": [],
      "received": "2023-06-27T15:47:39.831016",
      "started": "2023-06-27T15:47:38.820076",
      "status": "ok",
      "stderr": "",
      "stdout": "",
      "submitted": "2023-06-27T15:47:38.815553"
     },
     "output_type": "display_data"
    },
    {
     "data": {
      "text/plain": [
       "\u001b[0;31mOut[2:8]: \u001b[0m1687880859.825772"
      ]
     },
     "metadata": {
      "after": [],
      "completed": "2023-06-27T15:47:39.828720",
      "data": {},
      "engine_id": 2,
      "engine_uuid": "f102aa0d-a2ea51242a1c6f64e809881e",
      "error": null,
      "execute_input": "import time\ntime.sleep(1)\ntime.time()\n",
      "execute_result": {
       "data": {
        "text/plain": "1687880859.825772"
       },
       "execution_count": 8,
       "metadata": {}
      },
      "follow": [],
      "is_broadcast": false,
      "is_coalescing": false,
      "msg_id": "6aa65c8a-8c032a8996a0b4c90361773e_46",
      "outputs": [],
      "received": "2023-06-27T15:47:39.833079",
      "started": "2023-06-27T15:47:38.820145",
      "status": "ok",
      "stderr": "",
      "stdout": "",
      "submitted": "2023-06-27T15:47:38.815584"
     },
     "output_type": "display_data"
    },
    {
     "data": {
      "text/plain": [
       "\u001b[0;31mOut[3:7]: \u001b[0m1687880859.823294"
      ]
     },
     "metadata": {
      "after": [],
      "completed": "2023-06-27T15:47:39.827005",
      "data": {},
      "engine_id": 3,
      "engine_uuid": "9775c148-2df7cb7d5df203a348d6ca54",
      "error": null,
      "execute_input": "import time\ntime.sleep(1)\ntime.time()\n",
      "execute_result": {
       "data": {
        "text/plain": "1687880859.823294"
       },
       "execution_count": 7,
       "metadata": {}
      },
      "follow": [],
      "is_broadcast": false,
      "is_coalescing": false,
      "msg_id": "6aa65c8a-8c032a8996a0b4c90361773e_47",
      "outputs": [],
      "received": "2023-06-27T15:47:39.829988",
      "started": "2023-06-27T15:47:38.820383",
      "status": "ok",
      "stderr": "",
      "stdout": "",
      "submitted": "2023-06-27T15:47:38.815613"
     },
     "output_type": "display_data"
    }
   ],
   "source": [
    "%pxresult"
   ]
  },
  {
   "cell_type": "code",
   "execution_count": 13,
   "metadata": {},
   "outputs": [
    {
     "data": {
      "text/plain": [
       "[stdout:0] [-0.28021424  0.98267777]\n"
      ]
     },
     "metadata": {},
     "output_type": "display_data"
    },
    {
     "data": {
      "text/plain": [
       "\u001b[0;31mOut[0:9]: \u001b[0m0.9826777676672127"
      ]
     },
     "metadata": {
      "after": null,
      "completed": null,
      "data": {},
      "engine_id": 0,
      "engine_uuid": "e85a157c-d07e745ef39ede53fa512972",
      "error": null,
      "execute_input": "a = random((2,2))\nev = eigvals(a)\nprint(ev)\nev.max()\n",
      "execute_result": {
       "data": {
        "text/plain": "0.9826777676672127"
       },
       "execution_count": 9,
       "metadata": {}
      },
      "follow": null,
      "msg_id": null,
      "outputs": [],
      "received": null,
      "started": null,
      "status": null,
      "stderr": "",
      "stdout": "[-0.28021424  0.98267777]\n",
      "submitted": "2023-06-27T15:47:39.841588"
     },
     "output_type": "display_data"
    },
    {
     "data": {
      "text/plain": [
       "[stdout:1] [-0.21385117  0.65604043]\n"
      ]
     },
     "metadata": {},
     "output_type": "display_data"
    },
    {
     "data": {
      "text/plain": [
       "[stdout:3] [-0.01307275  1.11437227]\n"
      ]
     },
     "metadata": {},
     "output_type": "display_data"
    },
    {
     "data": {
      "text/plain": [
       "\u001b[0;31mOut[1:9]: \u001b[0m0.6560404264968436"
      ]
     },
     "metadata": {
      "after": [],
      "completed": "2023-06-27T15:47:39.850916Z",
      "data": {},
      "engine_id": 1,
      "engine_uuid": "24bd125d-16ef35fafef3cb2197745741",
      "error": null,
      "execute_input": "a = random((2,2))\nev = eigvals(a)\nprint(ev)\nev.max()\n",
      "execute_result": {
       "data": {
        "text/plain": "0.6560404264968436"
       },
       "execution_count": 9,
       "metadata": {}
      },
      "follow": [],
      "is_broadcast": false,
      "is_coalescing": false,
      "msg_id": "6aa65c8a-8c032a8996a0b4c90361773e_49",
      "outputs": [],
      "received": "2023-06-27T15:47:39.853815",
      "started": "2023-06-27T15:47:39.844685",
      "status": "ok",
      "stderr": "",
      "stdout": "[-0.21385117  0.65604043]\n",
      "submitted": "2023-06-27T15:47:39.841889Z"
     },
     "output_type": "display_data"
    },
    {
     "data": {
      "text/plain": [
       "[stdout:2] [ 1.0290232  -0.55640908]\n"
      ]
     },
     "metadata": {},
     "output_type": "display_data"
    },
    {
     "data": {
      "text/plain": [
       "\u001b[0;31mOut[3:8]: \u001b[0m1.1143722684611335"
      ]
     },
     "metadata": {
      "after": [],
      "completed": "2023-06-27T15:47:39.852053Z",
      "data": {},
      "engine_id": 3,
      "engine_uuid": "9775c148-2df7cb7d5df203a348d6ca54",
      "error": null,
      "execute_input": "a = random((2,2))\nev = eigvals(a)\nprint(ev)\nev.max()\n",
      "execute_result": {
       "data": {
        "text/plain": "1.1143722684611335"
       },
       "execution_count": 8,
       "metadata": {}
      },
      "follow": [],
      "is_broadcast": false,
      "is_coalescing": false,
      "msg_id": "6aa65c8a-8c032a8996a0b4c90361773e_51",
      "outputs": [],
      "received": "2023-06-27T15:47:39.855532",
      "started": "2023-06-27T15:47:39.846086",
      "status": "ok",
      "stderr": "",
      "stdout": "[-0.01307275  1.11437227]\n",
      "submitted": "2023-06-27T15:47:39.842052Z"
     },
     "output_type": "display_data"
    },
    {
     "data": {
      "text/plain": [
       "\u001b[0;31mOut[2:9]: \u001b[0m1.0290231951538584"
      ]
     },
     "metadata": {
      "after": [],
      "completed": "2023-06-27T15:47:39.851619Z",
      "data": {},
      "engine_id": 2,
      "engine_uuid": "f102aa0d-a2ea51242a1c6f64e809881e",
      "error": null,
      "execute_input": "a = random((2,2))\nev = eigvals(a)\nprint(ev)\nev.max()\n",
      "execute_result": {
       "data": {
        "text/plain": "1.0290231951538584"
       },
       "execution_count": 9,
       "metadata": {}
      },
      "follow": [],
      "is_broadcast": false,
      "is_coalescing": false,
      "msg_id": "6aa65c8a-8c032a8996a0b4c90361773e_50",
      "outputs": [],
      "received": "2023-06-27T15:47:39.855089",
      "started": "2023-06-27T15:47:39.846109",
      "status": "ok",
      "stderr": "",
      "stdout": "[ 1.0290232  -0.55640908]\n",
      "submitted": "2023-06-27T15:47:39.841979Z"
     },
     "output_type": "display_data"
    }
   ],
   "source": [
    "%%px --block --group-outputs=engine\n",
    "a = random((2,2))\n",
    "ev = eigvals(a)\n",
    "print(ev)\n",
    "ev.max()"
   ]
  },
  {
   "cell_type": "markdown",
   "metadata": {},
   "source": [
    "## `%pxresult`"
   ]
  },
  {
   "cell_type": "code",
   "execution_count": 14,
   "metadata": {},
   "outputs": [],
   "source": [
    "dview = rc[:]"
   ]
  },
  {
   "cell_type": "code",
   "execution_count": 15,
   "metadata": {},
   "outputs": [
    {
     "data": {
      "text/plain": [
       "[stdout:0] hi\n"
      ]
     },
     "metadata": {},
     "output_type": "display_data"
    },
    {
     "data": {
      "text/plain": [
       "[stdout:1] hi\n"
      ]
     },
     "metadata": {},
     "output_type": "display_data"
    },
    {
     "data": {
      "text/plain": [
       "[stdout:2] hi\n"
      ]
     },
     "metadata": {},
     "output_type": "display_data"
    },
    {
     "data": {
      "text/plain": [
       "[stdout:3] hi\n"
      ]
     },
     "metadata": {},
     "output_type": "display_data"
    },
    {
     "name": "stdout",
     "output_type": "stream",
     "text": [
      "[stdout:0] \n",
      "hi\n",
      "[stdout:1] \n",
      "hi\n",
      "[stdout:2] \n",
      "hi\n",
      "[stdout:3] \n",
      "hi\n"
     ]
    }
   ],
   "source": [
    "dview.block = False\n",
    "%px print(\"hi\")\n",
    "%pxresult"
   ]
  },
  {
   "cell_type": "markdown",
   "metadata": {},
   "source": [
    "## `%pxconfig`"
   ]
  },
  {
   "cell_type": "code",
   "execution_count": 16,
   "metadata": {},
   "outputs": [
    {
     "data": {
      "text/plain": [
       "[stdout:0] hi\n"
      ]
     },
     "metadata": {},
     "output_type": "display_data"
    },
    {
     "data": {
      "text/plain": [
       "[stdout:1] hi\n"
      ]
     },
     "metadata": {},
     "output_type": "display_data"
    },
    {
     "data": {
      "text/plain": [
       "[stdout:2] hi\n"
      ]
     },
     "metadata": {},
     "output_type": "display_data"
    },
    {
     "data": {
      "text/plain": [
       "[stdout:3] hi\n"
      ]
     },
     "metadata": {},
     "output_type": "display_data"
    }
   ],
   "source": [
    "%pxconfig --block\n",
    "%px print(\"hi\")"
   ]
  },
  {
   "cell_type": "code",
   "execution_count": 17,
   "metadata": {},
   "outputs": [
    {
     "data": {
      "text/plain": [
       "[stdout:0] hi\n"
      ]
     },
     "metadata": {},
     "output_type": "display_data"
    },
    {
     "data": {
      "text/plain": [
       "[stdout:2] hi\n"
      ]
     },
     "metadata": {},
     "output_type": "display_data"
    }
   ],
   "source": [
    "%pxconfig --targets ::2\n",
    "%px print(\"hi\")"
   ]
  },
  {
   "cell_type": "code",
   "execution_count": 18,
   "metadata": {},
   "outputs": [
    {
     "data": {
      "text/plain": [
       "<AsyncResult(%px): pending>"
      ]
     },
     "execution_count": 18,
     "metadata": {},
     "output_type": "execute_result"
    }
   ],
   "source": [
    "%pxconfig --noblock\n",
    "%px print(\"hi\")"
   ]
  },
  {
   "cell_type": "code",
   "execution_count": 19,
   "metadata": {},
   "outputs": [
    {
     "name": "stdout",
     "output_type": "stream",
     "text": [
      "[stdout:0] \n",
      "hi\n",
      "[stdout:2] \n",
      "hi\n"
     ]
    }
   ],
   "source": [
    "%pxresult"
   ]
  },
  {
   "cell_type": "markdown",
   "metadata": {},
   "source": [
    "## `%autopx`"
   ]
  },
  {
   "cell_type": "code",
   "execution_count": 20,
   "metadata": {},
   "outputs": [],
   "source": [
    "dview = rc[:]"
   ]
  },
  {
   "cell_type": "code",
   "execution_count": 21,
   "metadata": {},
   "outputs": [],
   "source": [
    "dview.block=True"
   ]
  },
  {
   "cell_type": "code",
   "execution_count": 22,
   "metadata": {},
   "outputs": [
    {
     "name": "stdout",
     "output_type": "stream",
     "text": [
      "%autopx enabled\n"
     ]
    }
   ],
   "source": [
    "%autopx"
   ]
  },
  {
   "cell_type": "code",
   "execution_count": 23,
   "metadata": {},
   "outputs": [],
   "source": [
    "max_evals = []\n",
    "for i in range(100):\n",
    "    a = rand(10, 10)\n",
    "    a = a + a.transpose()\n",
    "    evals = eigvals(a)\n",
    "    max_evals.append(evals[0].real)"
   ]
  },
  {
   "cell_type": "code",
   "execution_count": 7,
   "metadata": {},
   "outputs": [
    {
     "data": {
      "text/plain": [
       "[stdout:0] Average max eigenvalue is: 10.16283266814223\n"
      ]
     },
     "metadata": {},
     "output_type": "display_data"
    },
    {
     "data": {
      "text/plain": [
       "[stdout:1] Average max eigenvalue is: 10.107913323305741\n"
      ]
     },
     "metadata": {},
     "output_type": "display_data"
    },
    {
     "data": {
      "text/plain": [
       "[stdout:2] Average max eigenvalue is: 10.107616513254618\n"
      ]
     },
     "metadata": {},
     "output_type": "display_data"
    },
    {
     "data": {
      "text/plain": [
       "[stdout:3] Average max eigenvalue is: 10.040409820953181\n"
      ]
     },
     "metadata": {},
     "output_type": "display_data"
    }
   ],
   "source": [
    "print(f\"Average max eigenvalue is: {sum(max_evals)/len(max_evals)}\")"
   ]
  },
  {
   "cell_type": "markdown",
   "metadata": {},
   "source": [
    "## Multiple active views\n",
    "\n",
    "Magics of `ipyparallel` are assigned to certain `DirectView` objects. However, the active view can be changed by calling the `activate()` method on a view."
   ]
  },
  {
   "cell_type": "code",
   "execution_count": 25,
   "metadata": {},
   "outputs": [
    {
     "data": {
      "text/plain": [
       "<AsyncResult(%px): pending>"
      ]
     },
     "execution_count": 3,
     "metadata": {},
     "output_type": "execute_result"
    }
   ],
   "source": [
    "even = rc[::2]\n",
    "even.activate()\n",
    "%px print(\"hi\")"
   ]
  },
  {
   "cell_type": "code",
   "execution_count": 26,
   "metadata": {},
   "outputs": [
    {
     "data": {
      "text/plain": [
       "[stdout:0] hi\n"
      ]
     },
     "metadata": {},
     "output_type": "display_data"
    },
    {
     "data": {
      "text/plain": [
       "[stdout:2] hi\n"
      ]
     },
     "metadata": {},
     "output_type": "display_data"
    }
   ],
   "source": [
    "even.block = True\n",
    "%px print(\"hi\")"
   ]
  },
  {
   "cell_type": "markdown",
   "metadata": {},
   "source": [
    "If you activate the view, you can also specify a suffix so that it can be assigned to a whole range of magics without replacing the existing ones."
   ]
  },
  {
   "cell_type": "code",
   "execution_count": 27,
   "metadata": {},
   "outputs": [
    {
     "data": {
      "text/plain": [
       "<DirectView all>"
      ]
     },
     "execution_count": 5,
     "metadata": {},
     "output_type": "execute_result"
    }
   ],
   "source": [
    "rc.activate()"
   ]
  },
  {
   "cell_type": "code",
   "execution_count": 28,
   "metadata": {},
   "outputs": [
    {
     "data": {
      "text/plain": [
       "[stdout:0] hi\n"
      ]
     },
     "metadata": {},
     "output_type": "display_data"
    },
    {
     "data": {
      "text/plain": [
       "[stdout:1] hi\n"
      ]
     },
     "metadata": {},
     "output_type": "display_data"
    },
    {
     "data": {
      "text/plain": [
       "[stdout:2] hi\n"
      ]
     },
     "metadata": {},
     "output_type": "display_data"
    },
    {
     "data": {
      "text/plain": [
       "[stdout:3] hi\n"
      ]
     },
     "metadata": {},
     "output_type": "display_data"
    }
   ],
   "source": [
    "even.activate(\"_even\")\n",
    "%px print(\"hi\")"
   ]
  },
  {
   "cell_type": "code",
   "execution_count": 29,
   "metadata": {},
   "outputs": [
    {
     "data": {
      "text/plain": [
       "[stdout:0] We aren’t odd!\n"
      ]
     },
     "metadata": {},
     "output_type": "display_data"
    },
    {
     "data": {
      "text/plain": [
       "[stdout:2] We aren’t odd!\n"
      ]
     },
     "metadata": {},
     "output_type": "display_data"
    }
   ],
   "source": [
    "%px_even print(\"We aren’t odd!\")"
   ]
  },
  {
   "cell_type": "markdown",
   "metadata": {},
   "source": [
    "This suffix is used at the end of all magics, e.g.`%autopx_even`, `%pxresult_even` etc.\n",
    "\n",
    "For the sake of simplicity, also `Client`  has an `activate()` method that creates a `DirectView` with `block = True`, activates it, and returns the new view.\n",
    "\n",
    "The initial magics that are registered when a client is created are the result of the call `rc.activate()` with standard arguments."
   ]
  },
  {
   "cell_type": "markdown",
   "metadata": {},
   "source": [
    "## Engines as kernel\n",
    "\n",
    "Engines are actually the same object as IPython kernels, with the only exception that engines connect to a controller, while regular kernels bind their sockets directly to connections to their front end.\n",
    "\n",
    "Sometimes you will connect your front end directly to an engine for debugging or analysing the interaction more directly. You can also do this by instructing the engine to bind its kernel to your frontend as well:"
   ]
  },
  {
   "cell_type": "code",
   "execution_count": 30,
   "metadata": {},
   "outputs": [],
   "source": [
    "%px import ipyparallel as ipp; ipp.bind_kernel()\n",
    "%px %qtconsole"
   ]
  },
  {
   "cell_type": "markdown",
   "metadata": {},
   "source": [
    "<div class=\"alert alert-block alert-info\">\n",
    "\n",
    "**Note:**\n",
    "\n",
    "Be careful with this statement, as it starts as many QtConsoles as there are engines available.\n",
    "</div>\n"
   ]
  },
  {
   "cell_type": "markdown",
   "metadata": {},
   "source": [
    "Alternatively, you can also display the connection information and determine how you can establish a connection to the engines, depending on where they live and where you are:"
   ]
  },
  {
   "cell_type": "code",
   "execution_count": 31,
   "metadata": {},
   "outputs": [
    {
     "data": {
      "text/plain": [
       "[stdout:0] {\n",
       "  \"shell_port\": 63143,\n",
       "  \"iopub_port\": 63148,\n",
       "  \"stdin_port\": 63154,\n",
       "  \"control_port\": 63167,\n",
       "  \"hb_port\": 63156,\n",
       "  \"ip\": \"127.0.0.1\",\n",
       "  \"key\": \"defc3484-e06d43284f54a3939ad7eec2\",\n",
       "  \"transport\": \"tcp\",\n",
       "  \"signature_scheme\": \"hmac-sha256\",\n",
       "  \"kernel_name\": \"\"\n",
       "}\n",
       "\n",
       "Paste the above JSON into a file, and connect with:\n",
       "    $> jupyter <app> --existing <file>\n",
       "or, if you are local, you can connect with just:\n",
       "    $> jupyter <app> --existing /srv/jupyter/.ipython/profile_default/security/kernel-11237.json\n",
       "or even just:\n",
       "    $> jupyter <app> --existing\n",
       "if this is the most recent Jupyter kernel you have started.\n"
      ]
     },
     "metadata": {},
     "output_type": "display_data"
    },
    {
     "data": {
      "text/plain": [
       "[stdout:1] {\n",
       "  \"shell_port\": 63145,\n",
       "  \"iopub_port\": 63149,\n",
       "  \"stdin_port\": 63153,\n",
       "  \"control_port\": 63165,\n",
       "  \"hb_port\": 63155,\n",
       "  \"ip\": \"127.0.0.1\",\n",
       "  \"key\": \"defc3484-e06d43284f54a3939ad7eec2\",\n",
       "  \"transport\": \"tcp\",\n",
       "  \"signature_scheme\": \"hmac-sha256\",\n",
       "  \"kernel_name\": \"\"\n",
       "}\n",
       "\n",
       "Paste the above JSON into a file, and connect with:\n",
       "    $> jupyter <app> --existing <file>\n",
       "or, if you are local, you can connect with just:\n",
       "    $> jupyter <app> --existing /srv/jupyter/.ipython/profile_default/security/kernel-11238.json\n",
       "or even just:\n",
       "    $> jupyter <app> --existing\n",
       "if this is the most recent Jupyter kernel you have started.\n"
      ]
     },
     "metadata": {},
     "output_type": "display_data"
    },
    {
     "data": {
      "text/plain": [
       "[stdout:2] {\n",
       "  \"shell_port\": 63147,\n",
       "  \"iopub_port\": 63152,\n",
       "  \"stdin_port\": 63160,\n",
       "  \"control_port\": 63166,\n",
       "  \"hb_port\": 63161,\n",
       "  \"ip\": \"127.0.0.1\",\n",
       "  \"key\": \"defc3484-e06d43284f54a3939ad7eec2\",\n",
       "  \"transport\": \"tcp\",\n",
       "  \"signature_scheme\": \"hmac-sha256\",\n",
       "  \"kernel_name\": \"\"\n",
       "}\n",
       "\n",
       "Paste the above JSON into a file, and connect with:\n",
       "    $> jupyter <app> --existing <file>\n",
       "or, if you are local, you can connect with just:\n",
       "    $> jupyter <app> --existing /srv/jupyter/.ipython/profile_default/security/kernel-11239.json\n",
       "or even just:\n",
       "    $> jupyter <app> --existing\n",
       "if this is the most recent Jupyter kernel you have started.\n"
      ]
     },
     "metadata": {},
     "output_type": "display_data"
    },
    {
     "data": {
      "text/plain": [
       "[stdout:3] {\n",
       "  \"shell_port\": 63150,\n",
       "  \"iopub_port\": 63159,\n",
       "  \"stdin_port\": 63162,\n",
       "  \"control_port\": 63169,\n",
       "  \"hb_port\": 63163,\n",
       "  \"ip\": \"127.0.0.1\",\n",
       "  \"key\": \"defc3484-e06d43284f54a3939ad7eec2\",\n",
       "  \"transport\": \"tcp\",\n",
       "  \"signature_scheme\": \"hmac-sha256\",\n",
       "  \"kernel_name\": \"\"\n",
       "}\n",
       "\n",
       "Paste the above JSON into a file, and connect with:\n",
       "    $> jupyter <app> --existing <file>\n",
       "or, if you are local, you can connect with just:\n",
       "    $> jupyter <app> --existing /srv/jupyter/.ipython/profile_default/security/kernel-11240.json\n",
       "or even just:\n",
       "    $> jupyter <app> --existing\n",
       "if this is the most recent Jupyter kernel you have started.\n"
      ]
     },
     "metadata": {},
     "output_type": "display_data"
    }
   ],
   "source": [
    "%px %connect_info"
   ]
  }
 ],
 "metadata": {
  "kernelspec": {
   "display_name": "Python 3.11 Kernel",
   "language": "python",
   "name": "python311"
  },
  "language_info": {
   "codemirror_mode": {
    "name": "ipython",
    "version": 3
   },
   "file_extension": ".py",
   "mimetype": "text/x-python",
   "name": "python",
   "nbconvert_exporter": "python",
   "pygments_lexer": "ipython3",
   "version": "3.11.4"
  },
  "latex_envs": {
   "LaTeX_envs_menu_present": true,
   "autoclose": false,
   "autocomplete": true,
   "bibliofile": "biblio.bib",
   "cite_by": "apalike",
   "current_citInitial": 1,
   "eqLabelWithNumbers": true,
   "eqNumInitial": 1,
   "hotkeys": {
    "equation": "Ctrl-E",
    "itemize": "Ctrl-I"
   },
   "labels_anchors": false,
   "latex_user_defs": false,
   "report_style_numbering": false,
   "user_envs_cfg": false
  },
  "varInspector": {
   "cols": {
    "lenName": 16,
    "lenType": 16,
    "lenVar": 40
   },
   "kernels_config": {
    "python": {
     "delete_cmd_postfix": "",
     "delete_cmd_prefix": "del ",
     "library": "var_list.py",
     "varRefreshCmd": "print(var_dic_list())"
    },
    "r": {
     "delete_cmd_postfix": ") ",
     "delete_cmd_prefix": "rm(",
     "library": "var_list.r",
     "varRefreshCmd": "cat(var_dic_list()) "
    }
   },
   "types_to_exclude": [
    "module",
    "function",
    "builtin_function_or_method",
    "instance",
    "_Feature"
   ],
   "window_display": false
  },
  "widgets": {
   "application/vnd.jupyter.widget-state+json": {
    "state": {},
    "version_major": 2,
    "version_minor": 0
   }
  }
 },
 "nbformat": 4,
 "nbformat_minor": 4
}
