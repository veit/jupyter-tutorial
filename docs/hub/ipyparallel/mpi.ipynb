{
 "cells": [
  {
   "cell_type": "markdown",
   "metadata": {},
   "source": [
    "# MPI\n",
    "\n",
    "Often, a parallel algorithm requires moving data between the engines. One way is to push and pull over the `DirectView`. However, this is slow because all of the data has to get through the controller to the client and then back to the final destination.\n",
    "\n",
    "A much better option is to use the [Message Passing Interface (MPI)](https://de.wikipedia.org/wiki/Message_Passing_Interface). IPython's parallel computing architecture was designed from the ground up to integrate with MPI. This notebook gives a brief introduction to using MPI with IPython."
   ]
  },
  {
   "cell_type": "markdown",
   "metadata": {},
   "source": [
    "## Requirements\n",
    "\n",
    "* A standard MPI implementation like [OpenMPI](https://www.open-mpi.org/) or [MPICH](https://www.mpich.org/). \n",
    "\n",
    "  For Debian/Ubuntu these can be installed with\n",
    "    \n",
    "  ```bash\n",
    "  $ sudo apt install openmpi-bin\n",
    "  ```\n",
    "    \n",
    "  or\n",
    "    \n",
    "  ```bash\n",
    "  $ sudo apt install mpich\n",
    "  ```\n",
    "\n",
    "  Alternatively, OpenMPI or MPICH can also be installed with [Spack](https://python4datascience.readthedocs.io/en/latest/productive/envs/spack/use.html): the packages are `openmpi` or `mpich`.  \n",
    "\n",
    "\n",
    "* [mpi4py](https://mpi4py.readthedocs.io/)"
   ]
  },
  {
   "cell_type": "markdown",
   "metadata": {},
   "source": [
    "## Starting the engines with activated MPI\n",
    "\n",
    "### Automatic start with `mpiexec` and `ipcluster`\n",
    "\n",
    "This can be done with, for example\n",
    "\n",
    "```bash\n",
    "$ pipenv run ipcluster start -n 4 --profile=mpi\n",
    "```\n",
    "\n",
    "For this, however, a corresponding profile must first be created; see [configuration](config.rst).\n",
    "\n",
    "### Automatic start with PBS and `ipcluster`\n",
    "\n",
    "The `ipcluster` command also offers integration in [PBS](https://www.openpbs.org/). You can find more information about this in [Using ipcluster in PBS mode](https://ipyparallel.readthedocs.io/en/latest/tutorial/process.html#using-ipcluster-in-pbs-mode)."
   ]
  },
  {
   "cell_type": "markdown",
   "metadata": {},
   "source": [
    "## Example\n",
    "\n",
    "The following notebook cell calls `psum.py` with the following content:\n",
    "\n",
    "```Python\n",
    "from mpi4py import MPI\n",
    "import numpy as np\n",
    "\n",
    "def psum(a):\n",
    "    locsum = np.sum(a)\n",
    "    rcvBuf = np.array(0.0,'d')\n",
    "    MPI.COMM_WORLD.Allreduce([locsum, MPI.DOUBLE],\n",
    "        [rcvBuf, MPI.DOUBLE],\n",
    "        op=MPI.SUM)\n",
    "    return rcvBuf\n",
    "```"
   ]
  },
  {
   "cell_type": "code",
   "execution_count": 1,
   "metadata": {},
   "outputs": [
    {
     "data": {
      "text/plain": [
       "[array([0., 1., 2., 3.]),\n",
       " array([4., 5., 6., 7.]),\n",
       " array([ 8.,  9., 10., 11.]),\n",
       " array([12., 13., 14., 15.])]"
      ]
     },
     "execution_count": 1,
     "metadata": {},
     "output_type": "execute_result"
    }
   ],
   "source": [
    "import ipyparallel as ipp\n",
    "\n",
    "c = ipp.Client(profile='mpi')\n",
    "view = c[:]\n",
    "view.activate()\n",
    "view.run('psum.py')\n",
    "view.scatter('a',np.arange(16,dtype='float'))\n",
    "view['a']"
   ]
  },
  {
   "cell_type": "code",
   "execution_count": 2,
   "metadata": {},
   "outputs": [
    {
     "data": {
      "text/plain": [
       "Parallel execution on engines: [0,1,2,3]"
      ]
     },
     "execution_count": 2,
     "metadata": {},
     "output_type": "execute_result"
    }
   ],
   "source": [
    "%px totalsum = psum(a)"
   ]
  },
  {
   "cell_type": "code",
   "execution_count": 3,
   "metadata": {},
   "outputs": [
    {
     "data": {
      "text/plain": [
       "[120.0, 120.0, 120.0, 120.0]"
      ]
     },
     "execution_count": 3,
     "metadata": {},
     "output_type": "execute_result"
    }
   ],
   "source": [
    "view['totalsum']"
   ]
  }
 ],
 "metadata": {
  "kernelspec": {
   "display_name": "Python 3.11 Kernel",
   "language": "python",
   "name": "python311"
  },
  "language_info": {
   "codemirror_mode": {
    "name": "ipython",
    "version": 3
   },
   "file_extension": ".py",
   "mimetype": "text/x-python",
   "name": "python",
   "nbconvert_exporter": "python",
   "pygments_lexer": "ipython3",
   "version": "3.11.4"
  },
  "latex_envs": {
   "LaTeX_envs_menu_present": true,
   "autoclose": false,
   "autocomplete": true,
   "bibliofile": "biblio.bib",
   "cite_by": "apalike",
   "current_citInitial": 1,
   "eqLabelWithNumbers": true,
   "eqNumInitial": 1,
   "hotkeys": {
    "equation": "Ctrl-E",
    "itemize": "Ctrl-I"
   },
   "labels_anchors": false,
   "latex_user_defs": false,
   "report_style_numbering": false,
   "user_envs_cfg": false
  },
  "varInspector": {
   "cols": {
    "lenName": 16,
    "lenType": 16,
    "lenVar": 40
   },
   "kernels_config": {
    "python": {
     "delete_cmd_postfix": "",
     "delete_cmd_prefix": "del ",
     "library": "var_list.py",
     "varRefreshCmd": "print(var_dic_list())"
    },
    "r": {
     "delete_cmd_postfix": ") ",
     "delete_cmd_prefix": "rm(",
     "library": "var_list.r",
     "varRefreshCmd": "cat(var_dic_list()) "
    }
   },
   "types_to_exclude": [
    "module",
    "function",
    "builtin_function_or_method",
    "instance",
    "_Feature"
   ],
   "window_display": false
  },
  "widgets": {
   "application/vnd.jupyter.widget-state+json": {
    "state": {},
    "version_major": 2,
    "version_minor": 0
   }
  }
 },
 "nbformat": 4,
 "nbformat_minor": 2
}
