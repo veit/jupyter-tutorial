{
 "cells": [
  {
   "cell_type": "markdown",
   "metadata": {},
   "source": [
    "# `AsyncResult` object\n",
    "\n",
    "`apply()` returns in the `noblock` mode an `AsyncResult` object. This allows inquiries with the `get()` method at a later point in time. In addition, metadata occurring during execution is also collected in this object.\n",
    "\n",
    "The [AsyncResult](https://ipyparallel.readthedocs.io/en/latest/reference/details.html#asyncresults) object provides a number of useful functions for parallelisation that can be accessed through Python’s [multiprocessing.pool.AsyncResult](https://docs.python.org/3/library/multiprocessing.html#multiprocessing.pool.AsyncResult):"
   ]
  },
  {
   "cell_type": "markdown",
   "metadata": {},
   "source": [
    "## `get_dict`\n",
    "\n",
    "`AsyncResult.get_dict()`"
   ]
  },
  {
   "cell_type": "code",
   "execution_count": 1,
   "metadata": {},
   "outputs": [],
   "source": [
    "import os\n",
    "\n",
    "import ipyparallel as ipp\n",
    "\n",
    "\n",
    "rc = ipp.Client()\n",
    "ar = rc[:].apply_async(os.getpid)\n",
    "pids = ar.get_dict()\n",
    "rc[:][\"pid_map\"] = pids"
   ]
  },
  {
   "cell_type": "markdown",
   "metadata": {},
   "source": [
    "## Metadata\n",
    "\n",
    "`Client.metadata`"
   ]
  },
  {
   "cell_type": "markdown",
   "metadata": {},
   "source": [
    "### Timing"
   ]
  },
  {
   "cell_type": "markdown",
   "metadata": {},
   "source": [
    "## Iterable map results"
   ]
  },
  {
   "cell_type": "code",
   "execution_count": 2,
   "metadata": {},
   "outputs": [
    {
     "name": "stdout",
     "output_type": "stream",
     "text": [
      "Engine IDs:  [0, 1, 2, 3]\n",
      "sleeping for `id` seconds on each engine\n",
      "0: 0.005\n",
      "1: 1.012\n",
      "2: 2.011\n",
      "3: 3.013\n",
      "running with one call per task\n",
      "task 0 on engine 0: 0.007\n",
      "task 1 on engine 3: 0.016\n",
      "task 2 on engine 2: 0.029\n",
      "task 3 on engine 1: 0.042\n",
      "task 4 on engine 0: 0.053\n",
      "task 5 on engine 3: 0.073\n",
      "task 6 on engine 2: 0.092\n",
      "task 7 on engine 1: 0.118\n",
      "task 8 on engine 0: 0.139\n",
      "…\n"
     ]
    }
   ],
   "source": [
    "from __future__ import print_function\n",
    "\n",
    "import time\n",
    "\n",
    "import ipyparallel as ipp\n",
    "\n",
    "\n",
    "# create client & view\n",
    "rc = ipp.Client()\n",
    "dv = rc[:]\n",
    "v = rc.load_balanced_view()\n",
    "\n",
    "# scatter 'id', so id=0,1,2 on engines 0,1,2\n",
    "dv.scatter(\"id\", rc.ids, flatten=True)\n",
    "print(\"Engine IDs: \", dv[\"id\"])\n",
    "\n",
    "# create a Reference to `id`. This will be a different value on each engine\n",
    "ref = ipp.Reference(\"id\")\n",
    "print(\"sleeping for `id` seconds on each engine\")\n",
    "tic = time.time()\n",
    "ar = dv.apply(time.sleep, ref)\n",
    "for i, r in enumerate(ar):\n",
    "    print(\"%i: %.3f\" % (i, time.time() - tic))\n",
    "\n",
    "\n",
    "def sleep_here(t):\n",
    "    import time\n",
    "\n",
    "    time.sleep(t)\n",
    "    return id, t\n",
    "\n",
    "\n",
    "# one call per task\n",
    "print(\"running with one call per task\")\n",
    "amr = v.map(sleep_here, [0.01 * t for t in range(100)])\n",
    "tic = time.time()\n",
    "for i, r in enumerate(amr):\n",
    "    print(\"task %i on engine %i: %.3f\" % (i, r[0], time.time() - tic))\n",
    "\n",
    "print(\"running with four calls per task\")\n",
    "# with chunksize, we can have four calls per task\n",
    "amr = v.map(sleep_here, [0.01 * t for t in range(100)], chunksize=4)\n",
    "tic = time.time()\n",
    "for i, r in enumerate(amr):\n",
    "    print(\"task %i on engine %i: %.3f\" % (i, r[0], time.time() - tic))\n",
    "\n",
    "print(\"running with two calls per task, with unordered results\")\n",
    "# We can even iterate through faster results first, with ordered=False\n",
    "amr = v.map(\n",
    "    sleep_here,\n",
    "    [0.01 * t for t in range(100, 0, -1)],\n",
    "    ordered=False,\n",
    "    chunksize=2,\n",
    ")\n",
    "tic = time.time()\n",
    "for i, r in enumerate(amr):\n",
    "    print(\"slept %.2fs on engine %i: %.3f\" % (r[1], r[0], time.time() - tic))"
   ]
  },
  {
   "cell_type": "code",
   "execution_count": 3,
   "metadata": {},
   "outputs": [
    {
     "data": {
      "text/plain": [
       "58.028845747399714"
      ]
     },
     "execution_count": 3,
     "metadata": {},
     "output_type": "execute_result"
    }
   ],
   "source": [
    "from functools import reduce\n",
    "from math import sqrt\n",
    "import numpy as np\n",
    "\n",
    "X = np.linspace(0,100)\n",
    "add = lambda a,b: a+b\n",
    "sq = lambda x: x*x\n",
    "sqrt(reduce(add, map(sq, X)) / len(X))"
   ]
  },
  {
   "cell_type": "markdown",
   "metadata": {},
   "source": [
    "1. `map(sq, X)` computes the square of each item in the list.\n",
    "2. `reduce(add, sqX) / len(X)` calculates the mean by adding the list of `AsyncMapResult` and dividing by the number.\n",
    "3. Square root of the resulting number.\n",
    "\n",
    "<div class=\"alert alert-block alert-info\">\n",
    "\n",
    "**See also:**\n",
    "\n",
    "If you want to expand the results of `AsyncResult` or `AsyncMapResult` you can do so with the `msg_ids` attribute. You can find an example for this at [ipyparallel/examples/customresults.py](https://github.com/ipython/ipyparallel/blob/master/examples/customresults.py).\n",
    "</div>"
   ]
  }
 ],
 "metadata": {
  "kernelspec": {
   "display_name": "Python 3.11 Kernel",
   "language": "python",
   "name": "python311"
  },
  "language_info": {
   "codemirror_mode": {
    "name": "ipython",
    "version": 3
   },
   "file_extension": ".py",
   "mimetype": "text/x-python",
   "name": "python",
   "nbconvert_exporter": "python",
   "pygments_lexer": "ipython3",
   "version": "3.11.4"
  },
  "latex_envs": {
   "LaTeX_envs_menu_present": true,
   "autoclose": false,
   "autocomplete": true,
   "bibliofile": "biblio.bib",
   "cite_by": "apalike",
   "current_citInitial": 1,
   "eqLabelWithNumbers": true,
   "eqNumInitial": 1,
   "hotkeys": {
    "equation": "Ctrl-E",
    "itemize": "Ctrl-I"
   },
   "labels_anchors": false,
   "latex_user_defs": false,
   "report_style_numbering": false,
   "user_envs_cfg": false
  },
  "varInspector": {
   "cols": {
    "lenName": 16,
    "lenType": 16,
    "lenVar": 40
   },
   "kernels_config": {
    "python": {
     "delete_cmd_postfix": "",
     "delete_cmd_prefix": "del ",
     "library": "var_list.py",
     "varRefreshCmd": "print(var_dic_list())"
    },
    "r": {
     "delete_cmd_postfix": ") ",
     "delete_cmd_prefix": "rm(",
     "library": "var_list.r",
     "varRefreshCmd": "cat(var_dic_list()) "
    }
   },
   "types_to_exclude": [
    "module",
    "function",
    "builtin_function_or_method",
    "instance",
    "_Feature"
   ],
   "window_display": false
  },
  "widgets": {
   "application/vnd.jupyter.widget-state+json": {
    "state": {},
    "version_major": 2,
    "version_minor": 0
   }
  }
 },
 "nbformat": 4,
 "nbformat_minor": 4
}
